{
 "cells": [
  {
   "cell_type": "markdown",
   "metadata": {},
   "source": [
    "# JupyterLab\n",
    "\n",
    "In our first session this morning, we want to get you familiar with how to use `JupyterLab`, along with some other alternatives for how to use R."
   ]
  },
  {
   "cell_type": "markdown",
   "metadata": {},
   "source": [
    "`R` is the name of a programming language. But different people often interface with `R` in a number of different ways:\n",
    "\n",
    "\n",
    "1) Writing scripts in some kind of text editor or integrated development environment (IDE).\n",
    "\n",
    "<img src=img/ss_textedit.png width=500>\n",
    "\n",
    "and then running scripts with the `R` interpreter. This is done by typing in `Rscript` at the command line.\n",
    "\n",
    "<img src=img/ss_r_interp.png width=500>\n",
    "\n",
    "2) Writing code in notebooks which allow you to interactively run small snippets of code at a time in a single cell. Popular notebooks to use are:\n",
    "\n",
    "Rmarkdown in Rstudio\n",
    "\n",
    "<img src=img/ss_rstudio.png width=500>\n",
    "\n",
    "JupyterLab\n",
    "\n",
    "<img src=img/ss_jupyterlab.png width=500>\n",
    "    \n",
    "Today, we'll be focusing on the final approach, namely, using `R` in `Jupyter` notebooks for research, but it's worth exploring all approaches!"
   ]
  },
  {
   "cell_type": "markdown",
   "metadata": {},
   "source": [
    "## Using `Jupyter` Notebooks\n",
    "\n",
    "`Jupyter` notebooks are an excellent tool for integrating your code, notes and explanations, and results all in one place. `Jupyter` notebooks are reproducible, and allow you to capture not only _what_ you did in your analysis, but also _why_ you did the analysis. We'll be working with them through the `JupyterLab` interface."
   ]
  },
  {
   "cell_type": "markdown",
   "metadata": {},
   "source": [
    "### Launching `JupyterLab`\n",
    "\n",
    "Getting a `Jupyter` notebook up and running is easy. Simply open up your favorite terminal app, and type `jupyter lab`. `Jupyter` will print some information about the server (which you can ignore for now), and then a webpage should open in your browser that looks like the second picture below.\n",
    "\n",
    "<img src=\"img/ss_jupyter_launch.png\" width=500>\n",
    "\n",
    "<img src=\"img/ss_jupyter_main_screen.png\" width=500>\n",
    "\n",
    "(Don't worry if things look slightly different locally---the appearance of your terminal and the `JupyterLab` interface will change slightly from computer to computer.)"
   ]
  },
  {
   "cell_type": "markdown",
   "metadata": {},
   "source": [
    "### Navigation\n",
    "\n",
    "Navigating around `JupyterLab` is relatively easy. The screen is broken into three pieces:\n",
    "\n",
    "1. **The Menu Bar:** Similar to a program like Microsoft Word, many important actions are performed through the menu bar located at the top of the screen. To modify, save, or close files, or navigate through directories, click, e.g., `File > Save`. To alter the appearance of the `JupyterLab` interface, click, e.g., `View > Show line numbers`.\n",
    "2. **The Side Bar:** The left sidebar is home to a number of commonly used tabs, the names of which you can display by mousing over them. We will primarily work with the topmost tab, which contains the file browser. Other tabs allow you to manage kernel and terminal sessions, issue commands, or control open tabs.\n",
    "3. **The Main Panel:** This is the main surface for programming and other activities. The main panel is broken up into tabs, which can be dragged, dropped, and resized.\n",
    "\n",
    "<img src=\"img/ss_screen_example.png\" width=500>\n",
    "\n",
    "In the picture above, the main panel is overlaid in blue, the sidebar is overlaid in red, and the menu bar is overlaid in green.\n",
    "\n",
    "To launch a notebook, simply navigate to the folder containing the notebook, and double-click it. Let's open `python_basics_part_1.ipynb` to start the first lesson. You should now be able to see locally the instructions that were displayed on the main screen."
   ]
  },
  {
   "cell_type": "markdown",
   "metadata": {},
   "source": [
    "### Markdown and Code Cells\n",
    "\n",
    "As we mentioned earlier, `Jupyter` notebooks are a valuable tool because they allow you to interweave explanatory prose for humans to read with code for your computer to run. The way this is accomplished is with \"cells.\" Cells come in two types: \"text\" or \"markdown\" cells, where your notes and explanations live; and \"code\" cells, which will contain your `Python` code.\n",
    "\n",
    "Cells can be created by clicking on the \"+\" icon located at the top of the current pane.\n",
    "\n",
    "<img src=img/ss_add_cell.png width=500>\n",
    "\n",
    "Try adding a cell to this notebook with the \"+\" icon. To remove it, click on the scissors icon next to it."
   ]
  },
  {
   "cell_type": "markdown",
   "metadata": {},
   "source": [
    "#### Markdown Cells\n",
    "\n",
    "Text cells are formatted using a lightweight markup language called `markdown`. What this means is that you can easily style the text.\n",
    "\n",
    "* For *italics*, write `*text*` or `_text_`.\n",
    "* For **bold** text, write `**text**` or `__text__`.\n",
    "* To add bulleted items, simply add an asterisk to the beginning of a line, e.g., `* text text text`.\n",
    "* To start a numbered list, begin the line with a number and a period, e.g., `1. text text text`.\n",
    "* To insert `code` directly into a text block, simply place backticks around the code, e.g., `` `code` ``.\n",
    "\n",
    "While these basics are enough for our purposes, much, much more is possible in `markdown`: you can add headers, footnotes, and even directly insert HTML. For a more thorough introduction, click [here](https://www.markdownguide.org/getting-started)."
   ]
  },
  {
   "cell_type": "markdown",
   "metadata": {},
   "source": [
    "#### Code Cells\n",
    "\n",
    "The bread and butter of `Jupyter` notebooks are code cells, which we'll be working with at length below. Code cells have two parts: an input box, where you write the `R` code, and an output box.\n",
    "\n",
    "<img src=\"img/jupyterlab_color.png\" width=500>\n",
    "\n",
    "Here, the input is higlighted in red, and the output is highlighted in blue."
   ]
  },
  {
   "cell_type": "markdown",
   "metadata": {},
   "source": [
    "### Saving and switching between notebooks\n",
    "\n",
    "Let's say you've added a lot of code and text to a notebook---what should you do to \"render,\" or complete the notebook? Click `Run > Run all cells`. This will output nicely formatted text in all of the text boxes, and run all of the code in the code cells. You can also click the play button in the current pane.\n",
    "\n",
    "To save the notebook output, go to `File > Save`."
   ]
  }
 ],
 "metadata": {
  "kernelspec": {
   "display_name": "Python 3",
   "language": "python",
   "name": "python3"
  },
  "language_info": {
   "codemirror_mode": {
    "name": "ipython",
    "version": 3
   },
   "file_extension": ".py",
   "mimetype": "text/x-python",
   "name": "python",
   "nbconvert_exporter": "python",
   "pygments_lexer": "ipython3",
   "version": "3.5.2"
  }
 },
 "nbformat": 4,
 "nbformat_minor": 4
}
