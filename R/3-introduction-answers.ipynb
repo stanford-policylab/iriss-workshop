{
 "cells": [
  {
   "cell_type": "markdown",
   "metadata": {},
   "source": [
    "## R Things You Should Know\n",
    "In this notebook, we'll go over fundamentals of R including:\n",
    " - Setting up a working directory and importing data\n",
    " - Data structures\n",
    " - Sampling\n",
    " - Control Flow\n",
    " - Packages"
   ]
  },
  {
   "cell_type": "markdown",
   "metadata": {},
   "source": [
    "## Working Directory and importing Data\n",
    " - Working directory (`wd`) is where your `R` session will load/save files\n",
    " - To see where your current working directory is, run"
   ]
  },
  {
   "cell_type": "code",
   "execution_count": 202,
   "metadata": {
    "attributes": {
     "classes": [],
     "eval": "FALSE",
     "id": ""
    }
   },
   "outputs": [
    {
     "data": {
      "text/html": [
       "'/home/willcai/iriss-workshop/R'"
      ],
      "text/latex": [
       "'/home/willcai/iriss-workshop/R'"
      ],
      "text/markdown": [
       "'/home/willcai/iriss-workshop/R'"
      ],
      "text/plain": [
       "[1] \"/home/willcai/iriss-workshop/R\""
      ]
     },
     "metadata": {},
     "output_type": "display_data"
    }
   ],
   "source": [
    "getwd()"
   ]
  },
  {
   "cell_type": "markdown",
   "metadata": {},
   "source": [
    "- To set the working directory to desired `path`, run"
   ]
  },
  {
   "cell_type": "code",
   "execution_count": 207,
   "metadata": {
    "attributes": {
     "classes": [],
     "eval": "FALSE",
     "id": ""
    }
   },
   "outputs": [
    {
     "ename": "ERROR",
     "evalue": "Error in setwd(\"/insert/path/here\"): cannot change working directory\n",
     "execution_count": 207,
     "output_type": "error",
     "traceback": [
      "Error in setwd(\"/insert/path/here\"): cannot change working directory\nTraceback:\n",
      "1. setwd(\"/insert/path/here\")"
     ]
    }
   ],
   "source": [
    "setwd(\"/insert/path/here\")"
   ]
  },
  {
   "cell_type": "markdown",
   "metadata": {},
   "source": [
    " # .csv \n",
    " - csv stands for comma-separated values, which is a very common format to store data in.\n",
    " - You can import a csv file into R using read_csv."
   ]
  },
  {
   "cell_type": "code",
   "execution_count": 206,
   "metadata": {},
   "outputs": [
    {
     "name": "stderr",
     "output_type": "stream",
     "text": [
      "Parsed with column specification:\n",
      "cols(\n",
      "  x = col_integer(),\n",
      "  y = col_integer()\n",
      ")\n"
     ]
    },
    {
     "data": {
      "text/html": [
       "<table>\n",
       "<thead><tr><th scope=col>x</th><th scope=col>y</th></tr></thead>\n",
       "<tbody>\n",
       "\t<tr><td>1</td><td>2</td></tr>\n",
       "\t<tr><td>2</td><td>3</td></tr>\n",
       "\t<tr><td>3</td><td>4</td></tr>\n",
       "</tbody>\n",
       "</table>\n"
      ],
      "text/latex": [
       "\\begin{tabular}{r|ll}\n",
       " x & y\\\\\n",
       "\\hline\n",
       "\t 1 & 2\\\\\n",
       "\t 2 & 3\\\\\n",
       "\t 3 & 4\\\\\n",
       "\\end{tabular}\n"
      ],
      "text/plain": [
       "  x y\n",
       "1 1 2\n",
       "2 2 3\n",
       "3 3 4"
      ]
     },
     "metadata": {},
     "output_type": "display_data"
    }
   ],
   "source": [
    "read_csv('some_data.csv')"
   ]
  },
  {
   "cell_type": "markdown",
   "metadata": {},
   "source": [
    "You can also use write_csv to save tables of data into an existing csv file, which appears wherever your working directory. Here we use data.frame to create a table - we'll take more about tables later."
   ]
  },
  {
   "cell_type": "code",
   "execution_count": 282,
   "metadata": {},
   "outputs": [],
   "source": [
    "write_csv(data.frame(a = c(1, 2, 3),\n",
    "                 b = c(2, 3, 4)),\n",
    "         'new_data.csv')"
   ]
  },
  {
   "cell_type": "markdown",
   "metadata": {},
   "source": [
    "Try reading in the file you just wrote."
   ]
  },
  {
   "cell_type": "code",
   "execution_count": 283,
   "metadata": {},
   "outputs": [
    {
     "name": "stderr",
     "output_type": "stream",
     "text": [
      "Parsed with column specification:\n",
      "cols(\n",
      "  a = col_integer(),\n",
      "  b = col_integer()\n",
      ")\n"
     ]
    },
    {
     "data": {
      "text/html": [
       "<table>\n",
       "<thead><tr><th scope=col>a</th><th scope=col>b</th></tr></thead>\n",
       "<tbody>\n",
       "\t<tr><td>1</td><td>2</td></tr>\n",
       "\t<tr><td>2</td><td>3</td></tr>\n",
       "\t<tr><td>3</td><td>4</td></tr>\n",
       "</tbody>\n",
       "</table>\n"
      ],
      "text/latex": [
       "\\begin{tabular}{r|ll}\n",
       " a & b\\\\\n",
       "\\hline\n",
       "\t 1 & 2\\\\\n",
       "\t 2 & 3\\\\\n",
       "\t 3 & 4\\\\\n",
       "\\end{tabular}\n"
      ],
      "text/plain": [
       "  a b\n",
       "1 1 2\n",
       "2 2 3\n",
       "3 3 4"
      ]
     },
     "metadata": {},
     "output_type": "display_data"
    }
   ],
   "source": [
    "#use read_csv to read in new_data.csv\n",
    "# START\n",
    "read_csv('new_data.csv')\n",
    "# END"
   ]
  },
  {
   "cell_type": "markdown",
   "metadata": {},
   "source": [
    "# Data and Data structures"
   ]
  },
  {
   "cell_type": "markdown",
   "metadata": {},
   "source": [
    "## Strings\n",
    "\n",
    " - Strings are what computer science people call text\n",
    " - A String variable can be declared in either double quotes(\"\") or single quotes ('')\n",
    "\n"
   ]
  },
  {
   "cell_type": "code",
   "execution_count": 284,
   "metadata": {},
   "outputs": [
    {
     "data": {
      "text/html": [
       "'This is a valid string'"
      ],
      "text/latex": [
       "'This is a valid string'"
      ],
      "text/markdown": [
       "'This is a valid string'"
      ],
      "text/plain": [
       "[1] \"This is a valid string\""
      ]
     },
     "metadata": {},
     "output_type": "display_data"
    }
   ],
   "source": [
    "s <- \"This is a valid string\"\n",
    "s"
   ]
  },
  {
   "cell_type": "markdown",
   "metadata": {},
   "source": [
    " - And you can reassign to the same variable"
   ]
  },
  {
   "cell_type": "code",
   "execution_count": 285,
   "metadata": {},
   "outputs": [
    {
     "data": {
      "text/html": [
       "'and so is this'"
      ],
      "text/latex": [
       "'and so is this'"
      ],
      "text/markdown": [
       "'and so is this'"
      ],
      "text/plain": [
       "[1] \"and so is this\""
      ]
     },
     "metadata": {},
     "output_type": "display_data"
    }
   ],
   "source": [
    "s <- 'and so is this'\n",
    "s"
   ]
  },
  {
   "cell_type": "markdown",
   "metadata": {},
   "source": [
    "# Vectors\n",
    "\n",
    "## Vectors: `c()`\n",
    " - Vectors are the building blocks of `R` --- even a single variable is actually\n",
    " an \"atomic\" vector (vector of size 1)\n",
    " - Vectors in `R` are created by *c*oncatenating a series of elements\n",
    " - We saw lots of vectors in the birthday problem notebook!"
   ]
  },
  {
   "cell_type": "markdown",
   "metadata": {},
   "source": [
    "## Vectors: `seq()`\n",
    "- Create a vector from a sequence with `seq(from, to, by=1)`"
   ]
  },
  {
   "cell_type": "code",
   "execution_count": 189,
   "metadata": {},
   "outputs": [
    {
     "name": "stdout",
     "output_type": "stream",
     "text": [
      " [1]  1  2  3  4  5  6  7  8  9 10\n"
     ]
    }
   ],
   "source": [
    "print(seq(1, 10))"
   ]
  },
  {
   "cell_type": "code",
   "execution_count": 218,
   "metadata": {},
   "outputs": [
    {
     "name": "stdout",
     "output_type": "stream",
     "text": [
      "[1] 1 3 5 7 9\n"
     ]
    }
   ],
   "source": [
    "print(seq(1, 10, 2))"
   ]
  },
  {
   "cell_type": "markdown",
   "metadata": {},
   "source": [
    "- Use short-hand `from:to` if you're incrementing by one"
   ]
  },
  {
   "cell_type": "code",
   "execution_count": 219,
   "metadata": {},
   "outputs": [
    {
     "name": "stdout",
     "output_type": "stream",
     "text": [
      " [1]  1  2  3  4  5  6  7  8  9 10\n"
     ]
    }
   ],
   "source": [
    "print(1:10)"
   ]
  },
  {
   "cell_type": "markdown",
   "metadata": {},
   "source": [
    "## Vectors: `rep()`\n",
    "- Use `rep()` to repeat values"
   ]
  },
  {
   "cell_type": "code",
   "execution_count": 220,
   "metadata": {},
   "outputs": [
    {
     "name": "stdout",
     "output_type": "stream",
     "text": [
      "[1] 13 13 13 13\n"
     ]
    }
   ],
   "source": [
    "print(rep(13, 4))"
   ]
  },
  {
   "cell_type": "code",
   "execution_count": 222,
   "metadata": {},
   "outputs": [
    {
     "name": "stdout",
     "output_type": "stream",
     "text": [
      "[1] \"Yes!\" \"Yes!\" \"Yes!\"\n"
     ]
    }
   ],
   "source": [
    "print(rep('Yes!', 3))"
   ]
  },
  {
   "cell_type": "code",
   "execution_count": 223,
   "metadata": {},
   "outputs": [
    {
     "name": "stdout",
     "output_type": "stream",
     "text": [
      "[1] \"Sat.\" \"Sun.\" \"Sat.\" \"Sun.\"\n"
     ]
    }
   ],
   "source": [
    "print(rep(c('Sat.', 'Sun.'), 2))"
   ]
  },
  {
   "cell_type": "markdown",
   "metadata": {},
   "source": [
    "# Exercise\n",
    "- Make a vector using seq() and rep() which would be equivalent to (10,20,30,10,20,30,10,20,30)"
   ]
  },
  {
   "cell_type": "code",
   "execution_count": 290,
   "metadata": {},
   "outputs": [
    {
     "name": "stdout",
     "output_type": "stream",
     "text": [
      "[1] 10 20 30 10 20 30 10 20 30\n"
     ]
    }
   ],
   "source": [
    "#START\n",
    "print(rep(seq(10,30,by=10), 3))\n",
    "#END"
   ]
  },
  {
   "cell_type": "markdown",
   "metadata": {},
   "source": [
    "## Vectors: Indexing\n",
    "- We saw vector indexing in the birthday problem notebook, but let's review.\n",
    "- Use square braces (`[]`) to index a vector (base 1)\n",
    "    - Indexing out-of-bounds returns a special value called `NA`, *does NOT*\n",
    "      fail"
   ]
  },
  {
   "cell_type": "code",
   "execution_count": 127,
   "metadata": {},
   "outputs": [],
   "source": [
    "X <- c(10, 11, 12, 13)"
   ]
  },
  {
   "cell_type": "code",
   "execution_count": 128,
   "metadata": {},
   "outputs": [
    {
     "name": "stdout",
     "output_type": "stream",
     "text": [
      "[1] 10\n"
     ]
    }
   ],
   "source": [
    "print(X[1])"
   ]
  },
  {
   "cell_type": "code",
   "execution_count": 129,
   "metadata": {},
   "outputs": [
    {
     "name": "stdout",
     "output_type": "stream",
     "text": [
      "[1] 13\n"
     ]
    }
   ],
   "source": [
    "print(X[4])"
   ]
  },
  {
   "cell_type": "code",
   "execution_count": 130,
   "metadata": {},
   "outputs": [
    {
     "name": "stdout",
     "output_type": "stream",
     "text": [
      "[1] NA\n"
     ]
    }
   ],
   "source": [
    "print(X[5])  # Does NOT fail; but returns NA"
   ]
  },
  {
   "cell_type": "markdown",
   "metadata": {},
   "source": [
    "## Vectors: Indexing (cont'd)\n",
    "- Negative indexing is used to exclude elements"
   ]
  },
  {
   "cell_type": "code",
   "execution_count": 252,
   "metadata": {},
   "outputs": [
    {
     "name": "stdout",
     "output_type": "stream",
     "text": [
      "[1] 0.8194384 0.7045800\n"
     ]
    }
   ],
   "source": [
    "print(X[-1])"
   ]
  },
  {
   "cell_type": "markdown",
   "metadata": {},
   "source": [
    "- Index multiple objects by indexing with a vector"
   ]
  },
  {
   "cell_type": "code",
   "execution_count": 253,
   "metadata": {},
   "outputs": [
    {
     "name": "stdout",
     "output_type": "stream",
     "text": [
      "[1] 0.8194384        NA\n"
     ]
    }
   ],
   "source": [
    "ind <- c(2, 4)\n",
    "print(X[ind])"
   ]
  },
  {
   "cell_type": "markdown",
   "metadata": {},
   "source": [
    "## Vectors: Re-assignment with Indices\n",
    "- Replace elements by re-assigning with index"
   ]
  },
  {
   "cell_type": "code",
   "execution_count": 254,
   "metadata": {},
   "outputs": [
    {
     "name": "stdout",
     "output_type": "stream",
     "text": [
      "[1] 101.0000000   0.8194384   0.7045800\n"
     ]
    }
   ],
   "source": [
    "X[1] <- 101\n",
    "print(X)"
   ]
  },
  {
   "cell_type": "markdown",
   "metadata": {},
   "source": [
    "- Replace multiple elements as well"
   ]
  },
  {
   "cell_type": "code",
   "execution_count": 255,
   "metadata": {},
   "outputs": [
    {
     "name": "stdout",
     "output_type": "stream",
     "text": [
      "[1] 101  22  33\n"
     ]
    }
   ],
   "source": [
    "X[2:3] <- c(22, 33)\n",
    "print(X)"
   ]
  },
  {
   "cell_type": "markdown",
   "metadata": {},
   "source": [
    "## Vectors: Add Elements by Index\n",
    "- Add new elements to a vector by assigning"
   ]
  },
  {
   "cell_type": "code",
   "execution_count": 293,
   "metadata": {},
   "outputs": [
    {
     "name": "stdout",
     "output_type": "stream",
     "text": [
      "[1] 555\n"
     ]
    }
   ],
   "source": [
    "print(X[5])"
   ]
  },
  {
   "cell_type": "code",
   "execution_count": 294,
   "metadata": {},
   "outputs": [
    {
     "name": "stdout",
     "output_type": "stream",
     "text": [
      "[1] 555\n"
     ]
    }
   ],
   "source": [
    "X[5] <- 555\n",
    "print(X[5])"
   ]
  },
  {
   "cell_type": "markdown",
   "metadata": {},
   "source": [
    "# Exercise\n",
    "The below vector is supposed to contain all the days of the week, but two of them are messed up.  Write code to reassign the missing days using re-assignment with indices."
   ]
  },
  {
   "cell_type": "code",
   "execution_count": 301,
   "metadata": {},
   "outputs": [],
   "source": [
    "days_of_the_week <- c('Monday', 'Tuesday', 'Wednesday', 'Thursday', 5, 6, 'Sunday')"
   ]
  },
  {
   "cell_type": "code",
   "execution_count": 302,
   "metadata": {},
   "outputs": [
    {
     "name": "stdout",
     "output_type": "stream",
     "text": [
      "[1] \"Monday\"    \"Tuesday\"   \"Wednesday\" \"Thursday\"  \"Friday\"    \"Saturday\" \n",
      "[7] \"Sunday\"   \n"
     ]
    }
   ],
   "source": [
    "#Replace the numbers with the correct days\n",
    "#START\n",
    "days_of_the_week[5:6] <- c('Friday', 'Saturday')\n",
    "print(days_of_the_week)\n",
    "#END"
   ]
  },
  {
   "cell_type": "markdown",
   "metadata": {},
   "source": [
    "# Sampling"
   ]
  },
  {
   "cell_type": "markdown",
   "metadata": {},
   "source": [
    "- In the birthday problem notebook, we used sample() to sample from a vector of numbers.\n",
    "        sample(1:366, 30, replace = TRUE)\n",
    "- Sometimes we instead want to generate samples from known distributions\n",
    "    - e.g., simulating 1,000 coin flips and counting the number of heads\n",
    "- For this, we can use the family of `r`*`dist`*`()` functions, where *`dist`*\n",
    "  is replaced with the desired distribution\n",
    "  (e.g., `unif`orm, `norm`al, `pois`son)"
   ]
  },
  {
   "cell_type": "code",
   "execution_count": 225,
   "metadata": {
    "attributes": {
     "classes": [],
     "eval": "FALSE",
     "id": ""
    }
   },
   "outputs": [
    {
     "name": "stdout",
     "output_type": "stream",
     "text": [
      "[1] 0.8217362 0.4133482 0.2749151 0.9316357 0.5912007\n"
     ]
    }
   ],
   "source": [
    "print(runif(n = 5)) # 5 samples from Unif(0, 1)"
   ]
  },
  {
   "cell_type": "code",
   "execution_count": 226,
   "metadata": {},
   "outputs": [
    {
     "name": "stdout",
     "output_type": "stream",
     "text": [
      "[1]  1.7609726 -0.5051783  1.3015926  0.1025125  0.4249084\n"
     ]
    }
   ],
   "source": [
    "print(rnorm(n = 5))  # 5 samples from Norm(0, 1)"
   ]
  },
  {
   "cell_type": "code",
   "execution_count": 227,
   "metadata": {},
   "outputs": [
    {
     "name": "stdout",
     "output_type": "stream",
     "text": [
      "[1] 0 1 1 1 0\n"
     ]
    }
   ],
   "source": [
    "print(rpois(n = 5, 1))  # 5 samples from Poisson(1)"
   ]
  },
  {
   "cell_type": "code",
   "execution_count": 228,
   "metadata": {},
   "outputs": [
    {
     "name": "stdout",
     "output_type": "stream",
     "text": [
      "[1] 0.755312 1.315421 1.532311 2.353120 1.113656\n"
     ]
    }
   ],
   "source": [
    "print(rexp(n = 5))  # 5 samples from Exp(1)"
   ]
  },
  {
   "cell_type": "markdown",
   "metadata": {},
   "source": [
    "- Distribution parameters can be specified as arguments, e.g."
   ]
  },
  {
   "cell_type": "code",
   "execution_count": 229,
   "metadata": {
    "attributes": {
     "classes": [],
     "eval": "FALSE",
     "id": ""
    }
   },
   "outputs": [
    {
     "name": "stdout",
     "output_type": "stream",
     "text": [
      "[1] 26.65328 25.37107 23.78810 20.11862 24.46719 27.37631 20.32917\n"
     ]
    }
   ],
   "source": [
    "# 7 samples from a Norm(20, 5) distribution\n",
    "print(rnorm(n = 7, mean = 20, sd = 5))"
   ]
  },
  {
   "cell_type": "markdown",
   "metadata": {},
   "source": [
    "- In general, you can bring up a help page for any function which comes from a library or base R by typing ?function_name"
   ]
  },
  {
   "cell_type": "code",
   "execution_count": 230,
   "metadata": {},
   "outputs": [
    {
     "data": {
      "text/html": [
       "\n",
       "<table width=\"100%\" summary=\"page for Normal {stats}\"><tr><td>Normal {stats}</td><td style=\"text-align: right;\">R Documentation</td></tr></table>\n",
       "\n",
       "<h2>The Normal Distribution</h2>\n",
       "\n",
       "<h3>Description</h3>\n",
       "\n",
       "<p>Density, distribution function, quantile function and random\n",
       "generation for the normal distribution with mean equal to <code>mean</code>\n",
       "and standard deviation equal to <code>sd</code>.\n",
       "</p>\n",
       "\n",
       "\n",
       "<h3>Usage</h3>\n",
       "\n",
       "<pre>\n",
       "dnorm(x, mean = 0, sd = 1, log = FALSE)\n",
       "pnorm(q, mean = 0, sd = 1, lower.tail = TRUE, log.p = FALSE)\n",
       "qnorm(p, mean = 0, sd = 1, lower.tail = TRUE, log.p = FALSE)\n",
       "rnorm(n, mean = 0, sd = 1)\n",
       "</pre>\n",
       "\n",
       "\n",
       "<h3>Arguments</h3>\n",
       "\n",
       "<table summary=\"R argblock\">\n",
       "<tr valign=\"top\"><td><code>x, q</code></td>\n",
       "<td>\n",
       "<p>vector of quantiles.</p>\n",
       "</td></tr>\n",
       "<tr valign=\"top\"><td><code>p</code></td>\n",
       "<td>\n",
       "<p>vector of probabilities.</p>\n",
       "</td></tr>\n",
       "<tr valign=\"top\"><td><code>n</code></td>\n",
       "<td>\n",
       "<p>number of observations. If <code>length(n) &gt; 1</code>, the length\n",
       "is taken to be the number required.</p>\n",
       "</td></tr>\n",
       "<tr valign=\"top\"><td><code>mean</code></td>\n",
       "<td>\n",
       "<p>vector of means.</p>\n",
       "</td></tr>\n",
       "<tr valign=\"top\"><td><code>sd</code></td>\n",
       "<td>\n",
       "<p>vector of standard deviations.</p>\n",
       "</td></tr>\n",
       "<tr valign=\"top\"><td><code>log, log.p</code></td>\n",
       "<td>\n",
       "<p>logical; if TRUE, probabilities p are given as log(p).</p>\n",
       "</td></tr>\n",
       "<tr valign=\"top\"><td><code>lower.tail</code></td>\n",
       "<td>\n",
       "<p>logical; if TRUE (default), probabilities are\n",
       "<i>P[X &le; x]</i> otherwise, <i>P[X &gt; x]</i>.</p>\n",
       "</td></tr>\n",
       "</table>\n",
       "\n",
       "\n",
       "<h3>Details</h3>\n",
       "\n",
       "<p>If <code>mean</code> or <code>sd</code> are not specified they assume the default\n",
       "values of <code>0</code> and <code>1</code>, respectively.\n",
       "</p>\n",
       "<p>The normal distribution has density\n",
       "</p>\n",
       "<p style=\"text-align: center;\"><i>\n",
       "    f(x) = 1/(&radic;(2 &pi;) &sigma;) e^-((x - &mu;)^2/(2 &sigma;^2))\n",
       "  </i></p>\n",
       "\n",
       "<p>where <i>&mu;</i> is the mean of the distribution and\n",
       "<i>&sigma;</i> the standard deviation.\n",
       "</p>\n",
       "\n",
       "\n",
       "<h3>Value</h3>\n",
       "\n",
       "<p><code>dnorm</code> gives the density,\n",
       "<code>pnorm</code> gives the distribution function,\n",
       "<code>qnorm</code> gives the quantile function, and\n",
       "<code>rnorm</code> generates random deviates.\n",
       "</p>\n",
       "<p>The length of the result is determined by <code>n</code> for\n",
       "<code>rnorm</code>, and is the maximum of the lengths of the\n",
       "numerical arguments for the other functions.  \n",
       "</p>\n",
       "<p>The numerical arguments other than <code>n</code> are recycled to the\n",
       "length of the result.  Only the first elements of the logical\n",
       "arguments are used.\n",
       "</p>\n",
       "<p>For <code>sd = 0</code> this gives the limit as <code>sd</code> decreases to 0, a\n",
       "point mass at <code>mu</code>.\n",
       "<code>sd &lt; 0</code> is an error and returns <code>NaN</code>.\n",
       "</p>\n",
       "\n",
       "\n",
       "<h3>Source</h3>\n",
       "\n",
       "<p>For <code>pnorm</code>, based on\n",
       "</p>\n",
       "<p>Cody, W. D. (1993)\n",
       "Algorithm 715: SPECFUN &ndash; A portable FORTRAN package of special\n",
       "function routines and test drivers.\n",
       "<em>ACM Transactions on Mathematical Software</em> <b>19</b>, 22&ndash;32.\n",
       "</p>\n",
       "<p>For <code>qnorm</code>, the code is a C translation of\n",
       "</p>\n",
       "<p>Wichura, M. J. (1988)\n",
       "Algorithm AS 241: The percentage points of the normal distribution.\n",
       "<em>Applied Statistics</em>, <b>37</b>, 477&ndash;484.\n",
       "</p>\n",
       "<p>which provides precise results up to about 16 digits.\n",
       "</p>\n",
       "<p>For <code>rnorm</code>, see RNG for how to select the algorithm and\n",
       "for references to the supplied methods.\n",
       "</p>\n",
       "\n",
       "\n",
       "<h3>References</h3>\n",
       "\n",
       "<p>Becker, R. A., Chambers, J. M. and Wilks, A. R. (1988)\n",
       "<em>The New S Language</em>.\n",
       "Wadsworth &amp; Brooks/Cole.\n",
       "</p>\n",
       "<p>Johnson, N. L., Kotz, S. and Balakrishnan, N. (1995)\n",
       "<em>Continuous Univariate Distributions</em>, volume 1, chapter 13.\n",
       "Wiley, New York.\n",
       "</p>\n",
       "\n",
       "\n",
       "<h3>See Also</h3>\n",
       "\n",
       "<p>Distributions for other standard distributions, including\n",
       "<code>dlnorm</code> for the <em>Log</em>normal distribution.\n",
       "</p>\n",
       "\n",
       "\n",
       "<h3>Examples</h3>\n",
       "\n",
       "<pre>\n",
       "require(graphics)\n",
       "\n",
       "dnorm(0) == 1/sqrt(2*pi)\n",
       "dnorm(1) == exp(-1/2)/sqrt(2*pi)\n",
       "dnorm(1) == 1/sqrt(2*pi*exp(1))\n",
       "\n",
       "## Using \"log = TRUE\" for an extended range :\n",
       "par(mfrow = c(2,1))\n",
       "plot(function(x) dnorm(x, log = TRUE), -60, 50,\n",
       "     main = \"log { Normal density }\")\n",
       "curve(log(dnorm(x)), add = TRUE, col = \"red\", lwd = 2)\n",
       "mtext(\"dnorm(x, log=TRUE)\", adj = 0)\n",
       "mtext(\"log(dnorm(x))\", col = \"red\", adj = 1)\n",
       "\n",
       "plot(function(x) pnorm(x, log.p = TRUE), -50, 10,\n",
       "     main = \"log { Normal Cumulative }\")\n",
       "curve(log(pnorm(x)), add = TRUE, col = \"red\", lwd = 2)\n",
       "mtext(\"pnorm(x, log=TRUE)\", adj = 0)\n",
       "mtext(\"log(pnorm(x))\", col = \"red\", adj = 1)\n",
       "\n",
       "## if you want the so-called 'error function'\n",
       "erf &lt;- function(x) 2 * pnorm(x * sqrt(2)) - 1\n",
       "## (see Abramowitz and Stegun 29.2.29)\n",
       "## and the so-called 'complementary error function'\n",
       "erfc &lt;- function(x) 2 * pnorm(x * sqrt(2), lower = FALSE)\n",
       "## and the inverses\n",
       "erfinv &lt;- function (x) qnorm((1 + x)/2)/sqrt(2)\n",
       "erfcinv &lt;- function (x) qnorm(x/2, lower = FALSE)/sqrt(2)\n",
       "</pre>\n",
       "\n",
       "<hr /><div style=\"text-align: center;\">[Package <em>stats</em> version 3.4.4 ]</div>"
      ],
      "text/latex": [
       "\\inputencoding{utf8}\n",
       "\\HeaderA{Normal}{The Normal Distribution}{Normal}\n",
       "\\aliasA{dnorm}{Normal}{dnorm}\n",
       "\\aliasA{pnorm}{Normal}{pnorm}\n",
       "\\aliasA{qnorm}{Normal}{qnorm}\n",
       "\\aliasA{rnorm}{Normal}{rnorm}\n",
       "\\keyword{distribution}{Normal}\n",
       "%\n",
       "\\begin{Description}\\relax\n",
       "Density, distribution function, quantile function and random\n",
       "generation for the normal distribution with mean equal to \\code{mean}\n",
       "and standard deviation equal to \\code{sd}.\n",
       "\\end{Description}\n",
       "%\n",
       "\\begin{Usage}\n",
       "\\begin{verbatim}\n",
       "dnorm(x, mean = 0, sd = 1, log = FALSE)\n",
       "pnorm(q, mean = 0, sd = 1, lower.tail = TRUE, log.p = FALSE)\n",
       "qnorm(p, mean = 0, sd = 1, lower.tail = TRUE, log.p = FALSE)\n",
       "rnorm(n, mean = 0, sd = 1)\n",
       "\\end{verbatim}\n",
       "\\end{Usage}\n",
       "%\n",
       "\\begin{Arguments}\n",
       "\\begin{ldescription}\n",
       "\\item[\\code{x, q}] vector of quantiles.\n",
       "\\item[\\code{p}] vector of probabilities.\n",
       "\\item[\\code{n}] number of observations. If \\code{length(n) > 1}, the length\n",
       "is taken to be the number required.\n",
       "\\item[\\code{mean}] vector of means.\n",
       "\\item[\\code{sd}] vector of standard deviations.\n",
       "\\item[\\code{log, log.p}] logical; if TRUE, probabilities p are given as log(p).\n",
       "\\item[\\code{lower.tail}] logical; if TRUE (default), probabilities are\n",
       "\\eqn{P[X \\le x]}{} otherwise, \\eqn{P[X > x]}{}.\n",
       "\\end{ldescription}\n",
       "\\end{Arguments}\n",
       "%\n",
       "\\begin{Details}\\relax\n",
       "If \\code{mean} or \\code{sd} are not specified they assume the default\n",
       "values of \\code{0} and \\code{1}, respectively.\n",
       "\n",
       "The normal distribution has density\n",
       "\\deqn{\n",
       "    f(x) =\n",
       "    \\frac{1}{\\sqrt{2\\pi}\\sigma} e^{-(x-\\mu)^2/2\\sigma^2}}{}\n",
       "where \\eqn{\\mu}{} is the mean of the distribution and\n",
       "\\eqn{\\sigma}{} the standard deviation.\n",
       "\\end{Details}\n",
       "%\n",
       "\\begin{Value}\n",
       "\\code{dnorm} gives the density,\n",
       "\\code{pnorm} gives the distribution function,\n",
       "\\code{qnorm} gives the quantile function, and\n",
       "\\code{rnorm} generates random deviates.\n",
       "\n",
       "The length of the result is determined by \\code{n} for\n",
       "\\code{rnorm}, and is the maximum of the lengths of the\n",
       "numerical arguments for the other functions.  \n",
       "\n",
       "The numerical arguments other than \\code{n} are recycled to the\n",
       "length of the result.  Only the first elements of the logical\n",
       "arguments are used.\n",
       "\n",
       "For \\code{sd = 0} this gives the limit as \\code{sd} decreases to 0, a\n",
       "point mass at \\code{mu}.\n",
       "\\code{sd < 0} is an error and returns \\code{NaN}.\n",
       "\\end{Value}\n",
       "%\n",
       "\\begin{Source}\\relax\n",
       "For \\code{pnorm}, based on\n",
       "\n",
       "Cody, W. D. (1993)\n",
       "Algorithm 715: SPECFUN -- A portable FORTRAN package of special\n",
       "function routines and test drivers.\n",
       "\\emph{ACM Transactions on Mathematical Software} \\bold{19}, 22--32.\n",
       "\n",
       "For \\code{qnorm}, the code is a C translation of\n",
       "\n",
       "Wichura, M. J. (1988)\n",
       "Algorithm AS 241: The percentage points of the normal distribution.\n",
       "\\emph{Applied Statistics}, \\bold{37}, 477--484.\n",
       "\n",
       "which provides precise results up to about 16 digits.\n",
       "\n",
       "For \\code{rnorm}, see \\LinkA{RNG}{RNG} for how to select the algorithm and\n",
       "for references to the supplied methods.\n",
       "\\end{Source}\n",
       "%\n",
       "\\begin{References}\\relax\n",
       "Becker, R. A., Chambers, J. M. and Wilks, A. R. (1988)\n",
       "\\emph{The New S Language}.\n",
       "Wadsworth \\& Brooks/Cole.\n",
       "\n",
       "Johnson, N. L., Kotz, S. and Balakrishnan, N. (1995)\n",
       "\\emph{Continuous Univariate Distributions}, volume 1, chapter 13.\n",
       "Wiley, New York.\n",
       "\\end{References}\n",
       "%\n",
       "\\begin{SeeAlso}\\relax\n",
       "\\LinkA{Distributions}{Distributions} for other standard distributions, including\n",
       "\\code{\\LinkA{dlnorm}{dlnorm}} for the \\emph{Log}normal distribution.\n",
       "\\end{SeeAlso}\n",
       "%\n",
       "\\begin{Examples}\n",
       "\\begin{ExampleCode}\n",
       "require(graphics)\n",
       "\n",
       "dnorm(0) == 1/sqrt(2*pi)\n",
       "dnorm(1) == exp(-1/2)/sqrt(2*pi)\n",
       "dnorm(1) == 1/sqrt(2*pi*exp(1))\n",
       "\n",
       "## Using \"log = TRUE\" for an extended range :\n",
       "par(mfrow = c(2,1))\n",
       "plot(function(x) dnorm(x, log = TRUE), -60, 50,\n",
       "     main = \"log { Normal density }\")\n",
       "curve(log(dnorm(x)), add = TRUE, col = \"red\", lwd = 2)\n",
       "mtext(\"dnorm(x, log=TRUE)\", adj = 0)\n",
       "mtext(\"log(dnorm(x))\", col = \"red\", adj = 1)\n",
       "\n",
       "plot(function(x) pnorm(x, log.p = TRUE), -50, 10,\n",
       "     main = \"log { Normal Cumulative }\")\n",
       "curve(log(pnorm(x)), add = TRUE, col = \"red\", lwd = 2)\n",
       "mtext(\"pnorm(x, log=TRUE)\", adj = 0)\n",
       "mtext(\"log(pnorm(x))\", col = \"red\", adj = 1)\n",
       "\n",
       "## if you want the so-called 'error function'\n",
       "erf <- function(x) 2 * pnorm(x * sqrt(2)) - 1\n",
       "## (see Abramowitz and Stegun 29.2.29)\n",
       "## and the so-called 'complementary error function'\n",
       "erfc <- function(x) 2 * pnorm(x * sqrt(2), lower = FALSE)\n",
       "## and the inverses\n",
       "erfinv <- function (x) qnorm((1 + x)/2)/sqrt(2)\n",
       "erfcinv <- function (x) qnorm(x/2, lower = FALSE)/sqrt(2)\n",
       "\\end{ExampleCode}\n",
       "\\end{Examples}"
      ],
      "text/plain": [
       "Normal                  package:stats                  R Documentation\n",
       "\n",
       "_\bT_\bh_\be _\bN_\bo_\br_\bm_\ba_\bl _\bD_\bi_\bs_\bt_\br_\bi_\bb_\bu_\bt_\bi_\bo_\bn\n",
       "\n",
       "_\bD_\be_\bs_\bc_\br_\bi_\bp_\bt_\bi_\bo_\bn:\n",
       "\n",
       "     Density, distribution function, quantile function and random\n",
       "     generation for the normal distribution with mean equal to ‘mean’\n",
       "     and standard deviation equal to ‘sd’.\n",
       "\n",
       "_\bU_\bs_\ba_\bg_\be:\n",
       "\n",
       "     dnorm(x, mean = 0, sd = 1, log = FALSE)\n",
       "     pnorm(q, mean = 0, sd = 1, lower.tail = TRUE, log.p = FALSE)\n",
       "     qnorm(p, mean = 0, sd = 1, lower.tail = TRUE, log.p = FALSE)\n",
       "     rnorm(n, mean = 0, sd = 1)\n",
       "     \n",
       "_\bA_\br_\bg_\bu_\bm_\be_\bn_\bt_\bs:\n",
       "\n",
       "    x, q: vector of quantiles.\n",
       "\n",
       "       p: vector of probabilities.\n",
       "\n",
       "       n: number of observations. If ‘length(n) > 1’, the length is\n",
       "          taken to be the number required.\n",
       "\n",
       "    mean: vector of means.\n",
       "\n",
       "      sd: vector of standard deviations.\n",
       "\n",
       "log, log.p: logical; if TRUE, probabilities p are given as log(p).\n",
       "\n",
       "lower.tail: logical; if TRUE (default), probabilities are P[X <= x]\n",
       "          otherwise, P[X > x].\n",
       "\n",
       "_\bD_\be_\bt_\ba_\bi_\bl_\bs:\n",
       "\n",
       "     If ‘mean’ or ‘sd’ are not specified they assume the default values\n",
       "     of ‘0’ and ‘1’, respectively.\n",
       "\n",
       "     The normal distribution has density\n",
       "\n",
       "            f(x) = 1/(sqrt(2 pi) sigma) e^-((x - mu)^2/(2 sigma^2))     \n",
       "     \n",
       "     where mu is the mean of the distribution and sigma the standard\n",
       "     deviation.\n",
       "\n",
       "_\bV_\ba_\bl_\bu_\be:\n",
       "\n",
       "     ‘dnorm’ gives the density, ‘pnorm’ gives the distribution\n",
       "     function, ‘qnorm’ gives the quantile function, and ‘rnorm’\n",
       "     generates random deviates.\n",
       "\n",
       "     The length of the result is determined by ‘n’ for ‘rnorm’, and is\n",
       "     the maximum of the lengths of the numerical arguments for the\n",
       "     other functions.\n",
       "\n",
       "     The numerical arguments other than ‘n’ are recycled to the length\n",
       "     of the result.  Only the first elements of the logical arguments\n",
       "     are used.\n",
       "\n",
       "     For ‘sd = 0’ this gives the limit as ‘sd’ decreases to 0, a point\n",
       "     mass at ‘mu’.  ‘sd < 0’ is an error and returns ‘NaN’.\n",
       "\n",
       "_\bS_\bo_\bu_\br_\bc_\be:\n",
       "\n",
       "     For ‘pnorm’, based on\n",
       "\n",
       "     Cody, W. D. (1993) Algorithm 715: SPECFUN - A portable FORTRAN\n",
       "     package of special function routines and test drivers.  _ACM\n",
       "     Transactions on Mathematical Software_ *19*, 22-32.\n",
       "\n",
       "     For ‘qnorm’, the code is a C translation of\n",
       "\n",
       "     Wichura, M. J. (1988) Algorithm AS 241: The percentage points of\n",
       "     the normal distribution.  _Applied Statistics_, *37*, 477-484.\n",
       "\n",
       "     which provides precise results up to about 16 digits.\n",
       "\n",
       "     For ‘rnorm’, see RNG for how to select the algorithm and for\n",
       "     references to the supplied methods.\n",
       "\n",
       "_\bR_\be_\bf_\be_\br_\be_\bn_\bc_\be_\bs:\n",
       "\n",
       "     Becker, R. A., Chambers, J. M. and Wilks, A. R. (1988) _The New S\n",
       "     Language_.  Wadsworth & Brooks/Cole.\n",
       "\n",
       "     Johnson, N. L., Kotz, S. and Balakrishnan, N. (1995) _Continuous\n",
       "     Univariate Distributions_, volume 1, chapter 13.  Wiley, New York.\n",
       "\n",
       "_\bS_\be_\be _\bA_\bl_\bs_\bo:\n",
       "\n",
       "     Distributions for other standard distributions, including ‘dlnorm’\n",
       "     for the _Log_normal distribution.\n",
       "\n",
       "_\bE_\bx_\ba_\bm_\bp_\bl_\be_\bs:\n",
       "\n",
       "     require(graphics)\n",
       "     \n",
       "     dnorm(0) == 1/sqrt(2*pi)\n",
       "     dnorm(1) == exp(-1/2)/sqrt(2*pi)\n",
       "     dnorm(1) == 1/sqrt(2*pi*exp(1))\n",
       "     \n",
       "     ## Using \"log = TRUE\" for an extended range :\n",
       "     par(mfrow = c(2,1))\n",
       "     plot(function(x) dnorm(x, log = TRUE), -60, 50,\n",
       "          main = \"log { Normal density }\")\n",
       "     curve(log(dnorm(x)), add = TRUE, col = \"red\", lwd = 2)\n",
       "     mtext(\"dnorm(x, log=TRUE)\", adj = 0)\n",
       "     mtext(\"log(dnorm(x))\", col = \"red\", adj = 1)\n",
       "     \n",
       "     plot(function(x) pnorm(x, log.p = TRUE), -50, 10,\n",
       "          main = \"log { Normal Cumulative }\")\n",
       "     curve(log(pnorm(x)), add = TRUE, col = \"red\", lwd = 2)\n",
       "     mtext(\"pnorm(x, log=TRUE)\", adj = 0)\n",
       "     mtext(\"log(pnorm(x))\", col = \"red\", adj = 1)\n",
       "     \n",
       "     ## if you want the so-called 'error function'\n",
       "     erf <- function(x) 2 * pnorm(x * sqrt(2)) - 1\n",
       "     ## (see Abramowitz and Stegun 29.2.29)\n",
       "     ## and the so-called 'complementary error function'\n",
       "     erfc <- function(x) 2 * pnorm(x * sqrt(2), lower = FALSE)\n",
       "     ## and the inverses\n",
       "     erfinv <- function (x) qnorm((1 + x)/2)/sqrt(2)\n",
       "     erfcinv <- function (x) qnorm(x/2, lower = FALSE)/sqrt(2)\n",
       "     "
      ]
     },
     "metadata": {},
     "output_type": "display_data"
    }
   ],
   "source": [
    "?rnorm"
   ]
  },
  {
   "cell_type": "markdown",
   "metadata": {},
   "source": [
    " - The help page tells us that qnorm is the quantile function."
   ]
  },
  {
   "cell_type": "code",
   "execution_count": 261,
   "metadata": {},
   "outputs": [
    {
     "data": {
      "text/html": [
       "1.95996398454005"
      ],
      "text/latex": [
       "1.95996398454005"
      ],
      "text/markdown": [
       "1.95996398454005"
      ],
      "text/plain": [
       "[1] 1.959964"
      ]
     },
     "metadata": {},
     "output_type": "display_data"
    }
   ],
   "source": [
    "qnorm(.975, mean = 0, sd = 1)"
   ]
  },
  {
   "cell_type": "markdown",
   "metadata": {},
   "source": [
    "This means that the 97.5 th percentile of the normal distribution with mean 0 and sd 1 is at 1.96.\n",
    " - The help page also tells us that pnorm is the distribution function."
   ]
  },
  {
   "cell_type": "code",
   "execution_count": 245,
   "metadata": {},
   "outputs": [
    {
     "data": {
      "text/html": [
       "0.841344746068543"
      ],
      "text/latex": [
       "0.841344746068543"
      ],
      "text/markdown": [
       "0.841344746068543"
      ],
      "text/plain": [
       "[1] 0.8413447"
      ]
     },
     "metadata": {},
     "output_type": "display_data"
    }
   ],
   "source": [
    "pnorm(1)"
   ]
  },
  {
   "cell_type": "markdown",
   "metadata": {},
   "source": [
    "This means that 84% of draws from a normal distribution with mean 0 and sd 1 will be less than 1.  This squares up with the rule of thumb that 68% of draws from N(0, 1) are within 1 standard deviation of the mean, so (1 - .68)/2 = .16 will be greater than 1 standard deviation above the mean, since 1 - .16 = .84"
   ]
  },
  {
   "cell_type": "markdown",
   "metadata": {},
   "source": [
    "# Exercise\n",
    "Let's say we are ice cream researchers measuring the effect of a treatment where we bombard people with advertising which talks about how delicious ice cream is.  Say we measure our control group eating on average 3 ice creams a day, with a standard error of .5.  Then say our treatment group eats on average 4 ice creams a day, with a standard error of .7.  Give an 80% confidence interval on the effect of our advertising treatment."
   ]
  },
  {
   "cell_type": "markdown",
   "metadata": {},
   "source": [
    "Remember: When you take the difference between normals N(a, b) - N(c, d), the result is N(a - c, sqrt(b^2 + d^2))\n",
    "So our estimate of the difference in how much ice cream people eat (the effect of our treatment) is a normal with mean=(4 - 3) and standard deviation=sqrt(.5^2 + .7^2)."
   ]
  },
  {
   "cell_type": "code",
   "execution_count": 304,
   "metadata": {},
   "outputs": [
    {
     "data": {
      "text/html": [
       "-0.102432341330235"
      ],
      "text/latex": [
       "-0.102432341330235"
      ],
      "text/markdown": [
       "-0.102432341330235"
      ],
      "text/plain": [
       "[1] -0.1024323"
      ]
     },
     "metadata": {},
     "output_type": "display_data"
    },
    {
     "data": {
      "text/html": [
       "2.10243234133024"
      ],
      "text/latex": [
       "2.10243234133024"
      ],
      "text/markdown": [
       "2.10243234133024"
      ],
      "text/plain": [
       "[1] 2.102432"
      ]
     },
     "metadata": {},
     "output_type": "display_data"
    }
   ],
   "source": [
    "#START\n",
    "qnorm(.1, mean=1, sd = sqrt(.5^2 + .7^2)) #lower end\n",
    "qnorm(.9, mean = 1, sd = sqrt(.5^2 + .7^2)) #upper end\n",
    "#END"
   ]
  },
  {
   "cell_type": "markdown",
   "metadata": {},
   "source": [
    "# Custom functions and control\n",
    "\n",
    "## Control Flow\n",
    "- We saw `if` statements inside of loops in the birthday problem, but we can use them outside of loops too!"
   ]
  },
  {
   "cell_type": "code",
   "execution_count": 50,
   "metadata": {
    "attributes": {
     "classes": [],
     "eval": "FALSE",
     "id": ""
    }
   },
   "outputs": [
    {
     "ename": "ERROR",
     "evalue": "Error in eval(expr, envir, enclos): object 'condition' not found\n",
     "execution_count": 50,
     "output_type": "error",
     "traceback": [
      "Error in eval(expr, envir, enclos): object 'condition' not found\nTraceback:\n"
     ]
    }
   ],
   "source": [
    "if (condition) {\n",
    "  # stuff to do when condition is TRUE\n",
    "} else if(other_condition) {  # (OPTIONAL)\n",
    "  # stuff to do if other_condition is TRUE\n",
    "} else {  # (OPTIONAL)\n",
    "  # stuff to do if all other conditions are FALSE\n",
    "}"
   ]
  },
  {
   "cell_type": "markdown",
   "metadata": {},
   "source": [
    "## Loops \n",
    "\n",
    " - We saw one type of loop in the birthday problem"
   ]
  },
  {
   "cell_type": "code",
   "execution_count": 168,
   "metadata": {},
   "outputs": [
    {
     "name": "stdout",
     "output_type": "stream",
     "text": [
      "[1] 1\n",
      "[1] 2\n",
      "[1] 3\n",
      "[1] \"Counter is now bigger than or equal to 3!\"\n",
      "[1] 4\n",
      "[1] \"Counter is now bigger than or equal to 3!\"\n",
      "[1] 5\n",
      "[1] \"Counter is now bigger than or equal to 3!\"\n"
     ]
    }
   ],
   "source": [
    "counter <- 0\n",
    "\n",
    "for (i in 1:5) {\n",
    "    counter <- counter + 1\n",
    "\n",
    "    print(counter)\n",
    "    \n",
    "    if (counter >= 3) {\n",
    "        print(\"Counter is now bigger than or equal to 3!\")\n",
    "    }\n",
    "}"
   ]
  },
  {
   "cell_type": "markdown",
   "metadata": {},
   "source": [
    " - But there's another type of loop as well, the while loop"
   ]
  },
  {
   "cell_type": "code",
   "execution_count": 169,
   "metadata": {},
   "outputs": [
    {
     "name": "stdout",
     "output_type": "stream",
     "text": [
      "[1] 1\n",
      "[1] 2\n",
      "[1] 3\n",
      "[1] \"Counter is now bigger than or equal to 3!\"\n",
      "[1] 4\n",
      "[1] \"Counter is now bigger than or equal to 3!\"\n",
      "[1] 5\n",
      "[1] \"Counter is now bigger than or equal to 3!\"\n"
     ]
    }
   ],
   "source": [
    "counter <- 0\n",
    "\n",
    "while (counter < 5){\n",
    "    counter <- counter + 1 \n",
    "    \n",
    "    print(counter)\n",
    "    \n",
    "    if (counter >=3){\n",
    "        print('Counter is now bigger than or equal to 3!')\n",
    "    }\n",
    "}"
   ]
  },
  {
   "cell_type": "markdown",
   "metadata": {},
   "source": [
    " - be careful that the condition in `while (condition){` eventually becomes false!"
   ]
  },
  {
   "cell_type": "markdown",
   "metadata": {},
   "source": [
    "## User Defined Functions\n",
    "- Write your own functions in the form"
   ]
  },
  {
   "cell_type": "code",
   "execution_count": 170,
   "metadata": {
    "attributes": {
     "classes": [],
     "eval": "FALSE",
     "id": ""
    }
   },
   "outputs": [],
   "source": [
    "name_of_function <- function(arguments) {\n",
    "  # do some stuff with arguments\n",
    "  return(result)\n",
    "}"
   ]
  },
  {
   "cell_type": "markdown",
   "metadata": {},
   "source": [
    "- You can use your functions like any other function, e.g.,"
   ]
  },
  {
   "cell_type": "code",
   "execution_count": 171,
   "metadata": {
    "attributes": {
     "classes": [],
     "eval": "FALSE",
     "id": ""
    }
   },
   "outputs": [
    {
     "ename": "ERROR",
     "evalue": "Error in name_of_function(arguments): object 'result' not found\n",
     "execution_count": 171,
     "output_type": "error",
     "traceback": [
      "Error in name_of_function(arguments): object 'result' not found\nTraceback:\n",
      "1. name_of_function(arguments)"
     ]
    }
   ],
   "source": [
    "name_of_function(arguments)  # gives you the 'result'"
   ]
  },
  {
   "cell_type": "markdown",
   "metadata": {},
   "source": [
    "For example, here's an example of a function add_nums() which adds its arguments, and how to call the function."
   ]
  },
  {
   "cell_type": "code",
   "execution_count": 308,
   "metadata": {},
   "outputs": [
    {
     "data": {
      "text/html": [
       "7"
      ],
      "text/latex": [
       "7"
      ],
      "text/markdown": [
       "7"
      ],
      "text/plain": [
       "[1] 7"
      ]
     },
     "metadata": {},
     "output_type": "display_data"
    }
   ],
   "source": [
    "add_nums <- function(x, y){\n",
    "    s <- x + y\n",
    "    return(s)\n",
    "}\n",
    "add_nums(3, 4)"
   ]
  },
  {
   "cell_type": "markdown",
   "metadata": {},
   "source": [
    "## User Defined Functions: Exercise\n",
    "- Write a function that will take a vector in $\\mathbb{R}^3$ (for example, c(1,3,5)) and tell you if you\n",
    "can make a triangle or not (i.e., return `TRUE` if a triangle can be made and \n",
    "`FALSE` otherwise.)\n",
    "- Hint: you can make a triangle from three side lengths if and only if none of the side lengths are greater than the sum of the other two."
   ]
  },
  {
   "cell_type": "code",
   "execution_count": 309,
   "metadata": {},
   "outputs": [],
   "source": [
    "is_good <- function(vec) {\n",
    "  for (i in 1:3) {\n",
    "    # Check if element i is greater than \n",
    "    # sum of other two elements\n",
    "    if (vec[i] > sum(vec[-i])) {\n",
    "      return(FALSE)\n",
    "    }\n",
    "  }\n",
    "  return(TRUE)\n",
    "}"
   ]
  },
  {
   "cell_type": "markdown",
   "metadata": {},
   "source": [
    "## `replicate`\n",
    "- Loops in `R` are inefficient, and best avoided if possible\n",
    "- Vectorize operations whenever possible.\n",
    "- `replicate` can be used to repeat some operation (function),\n",
    "  and collect the results[^apply]\n",
    "- e.g., to run `some_function()` 1,000 times and collect the results:"
   ]
  },
  {
   "cell_type": "code",
   "execution_count": 310,
   "metadata": {
    "attributes": {
     "": "",
     "classes": [],
     "id": ""
    }
   },
   "outputs": [
    {
     "ename": "ERROR",
     "evalue": "Error in some_function(): could not find function \"some_function\"\n",
     "execution_count": 310,
     "output_type": "error",
     "traceback": [
      "Error in some_function(): could not find function \"some_function\"\nTraceback:\n",
      "1. replicate(1000, some_function())",
      "2. sapply(integer(n), eval.parent(substitute(function(...) expr)), \n .     simplify = simplify)",
      "3. lapply(X = X, FUN = FUN, ...)",
      "4. FUN(X[[i]], ...)"
     ]
    }
   ],
   "source": [
    "replicate(1000, some_function())  "
   ]
  },
  {
   "cell_type": "markdown",
   "metadata": {},
   "source": [
    "[^apply]: `replicate` is actually a convenient wrapper for one of the `apply` \n",
    "functions, which are more general. See the documentation for details.\n",
    "\n",
    "\n",
    "# Exercise\n",
    "\n",
    "## The Question\n",
    "> You are given three sticks, each of a random length between 0 and 1.\n",
    "\n",
    "> What's the probability you can make a triangle?\n",
    "\n",
    "- The answer is 1/2\n",
    "- Use `R` to simulate 100,000 times and estimate the answer by\n",
    "    1. generate 100,000 triplets of uniform (0, 1) random variables\n",
    "    2. find the portion that can be made into a triangle (hint: use the\n",
    "    `is_good` function)\n",
    "\n",
    "## Part 1: You're allowed to use a 'for loop' if you want!"
   ]
  },
  {
   "cell_type": "code",
   "execution_count": 312,
   "metadata": {
    "attributes": {
     "cache": "TRUE",
     "classes": [],
     "id": ""
    }
   },
   "outputs": [
    {
     "data": {
      "text/html": [
       "0.4942"
      ],
      "text/latex": [
       "0.4942"
      ],
      "text/markdown": [
       "0.4942"
      ],
      "text/plain": [
       "[1] 0.4942"
      ]
     },
     "metadata": {},
     "output_type": "display_data"
    }
   ],
   "source": [
    "#START\n",
    "N <- 10000\n",
    "m <- 0\n",
    "for (i in 1:N) {\n",
    "  X <- runif(3)\n",
    "  if (is_good(X)) {\n",
    "      m <- m + 1\n",
    "  }\n",
    "}\n",
    "m/N\n",
    "#END"
   ]
  },
  {
   "cell_type": "markdown",
   "metadata": {},
   "source": [
    "## Part 2: Try doing it without a loop!"
   ]
  },
  {
   "cell_type": "code",
   "execution_count": 313,
   "metadata": {
    "attributes": {
     "cache": "TRUE",
     "classes": [],
     "id": ""
    }
   },
   "outputs": [
    {
     "data": {
      "text/html": [
       "0.4976"
      ],
      "text/latex": [
       "0.4976"
      ],
      "text/markdown": [
       "0.4976"
      ],
      "text/plain": [
       "[1] 0.4976"
      ]
     },
     "metadata": {},
     "output_type": "display_data"
    }
   ],
   "source": [
    "#START\n",
    "N <- 10000\n",
    "m <- replicate(N, is_good(runif(3)))\n",
    "sum(m)/N\n",
    "#END"
   ]
  },
  {
   "cell_type": "markdown",
   "metadata": {},
   "source": [
    "# Packages\n",
    "\n",
    "## Installing `R` Packages\n",
    "- `R` has many (*MANY*) packages created by other users that implement\n",
    "state-of-the-art tools (e.g., data manipulation, statistical models)\n",
    "- These packages can be downloaded from the Comprehensive R Archive Network (CRAN)\n",
    "- This is as simple as running a single line of code:"
   ]
  },
  {
   "cell_type": "code",
   "execution_count": 187,
   "metadata": {
    "attributes": {
     "classes": [],
     "eval": "FALSE",
     "id": ""
    }
   },
   "outputs": [
    {
     "name": "stderr",
     "output_type": "stream",
     "text": [
      "Installing package into ‘/home/willcai/R/x86_64-pc-linux-gnu-library/3.4’\n",
      "(as ‘lib’ is unspecified)\n",
      "Warning message:\n",
      "“package ‘package name’ is not available (for R version 3.4.4)”"
     ]
    }
   ],
   "source": [
    "install.packages(\"package name\")"
   ]
  },
  {
   "cell_type": "markdown",
   "metadata": {},
   "source": [
    "- You will have to select one of many CRAN mirrors (copies across different\n",
    "servers) from which to download the package from\n",
    "- For example, to install the `tidyverse` package, run"
   ]
  },
  {
   "cell_type": "code",
   "execution_count": 188,
   "metadata": {
    "attributes": {
     "classes": [],
     "eval": "FALSE",
     "id": ""
    }
   },
   "outputs": [
    {
     "name": "stderr",
     "output_type": "stream",
     "text": [
      "Installing package into ‘/home/willcai/R/x86_64-pc-linux-gnu-library/3.4’\n",
      "(as ‘lib’ is unspecified)\n"
     ]
    }
   ],
   "source": [
    "install.packages(\"tidyverse\")"
   ]
  },
  {
   "cell_type": "markdown",
   "metadata": {},
   "source": [
    "- You only need to do this *once* for each machine\n",
    "\n",
    "\n",
    "## Loading Packages\n",
    "- Once you've installed a package on a machine, you can load the package into\n",
    "your current workspace with the `library()` command\n",
    "- For example, to use the `tidyverse` package, first load it with"
   ]
  },
  {
   "cell_type": "code",
   "execution_count": null,
   "metadata": {
    "attributes": {
     "classes": [],
     "eval": "FALSE",
     "id": ""
    }
   },
   "outputs": [],
   "source": [
    "library(\"tidyverse\")"
   ]
  },
  {
   "cell_type": "markdown",
   "metadata": {},
   "source": [
    "- You can also use specific functions from a package without loading it,\n",
    "  by telling `R` which package the function belongs to with a namespace prefix,\n",
    "  `package_name::`.\n",
    "- For example, to use the `round_any()` function from the `plyr` package,\n",
    "  without actually loading `plyr`, write"
   ]
  },
  {
   "cell_type": "code",
   "execution_count": null,
   "metadata": {
    "attributes": {
     "classes": [],
     "eval": "FALSE",
     "id": ""
    }
   },
   "outputs": [],
   "source": [
    "# Assuming plyr is installed\n",
    "plyr::round_any()"
   ]
  },
  {
   "cell_type": "markdown",
   "metadata": {},
   "source": [
    "## Namespace collision\n",
    "- One of the (unfortunately many) things that `R` is bad at is preventing\n",
    "  namespace collisions\n",
    "- For example, the packages `plyr` and `dplyr`[^dplyr] have functions that are\n",
    "  named the same (e.g, `mutate()`, `summarize()`), and if you ever load both,\n",
    "  `R` will only \"see\" the function belonging to the package you loaded later\n",
    "- So beware of what packages you load, and if you only intend to use a function\n",
    "  or two, consider just specifying the namespace with `::`, instead of loading\n",
    "  the whole package.\n",
    "\n",
    "[^dplyr]: `dplyr` is part the tidyverse, and loaded when you load `tidyverse`"
   ]
  },
  {
   "cell_type": "markdown",
   "metadata": {},
   "source": [
    "# Helpful stuff we won't go over during the workshop but will leave here for later reference!"
   ]
  },
  {
   "cell_type": "markdown",
   "metadata": {},
   "source": [
    "## Vector Operations"
   ]
  },
  {
   "cell_type": "code",
   "execution_count": 262,
   "metadata": {},
   "outputs": [],
   "source": [
    "X = c(1:4)"
   ]
  },
  {
   "cell_type": "code",
   "execution_count": 263,
   "metadata": {},
   "outputs": [
    {
     "name": "stdout",
     "output_type": "stream",
     "text": [
      "[1] 1 2 3 4\n"
     ]
    }
   ],
   "source": [
    "print(X)"
   ]
  },
  {
   "cell_type": "code",
   "execution_count": 264,
   "metadata": {},
   "outputs": [
    {
     "name": "stdout",
     "output_type": "stream",
     "text": [
      "[1] 2 4 6 8\n"
     ]
    }
   ],
   "source": [
    "print(X + X)  # element-wise summation"
   ]
  },
  {
   "cell_type": "code",
   "execution_count": 265,
   "metadata": {},
   "outputs": [
    {
     "name": "stdout",
     "output_type": "stream",
     "text": [
      "[1] 0 0 0 0\n"
     ]
    }
   ],
   "source": [
    "print(X - X)  # element-wise subtraction"
   ]
  },
  {
   "cell_type": "markdown",
   "metadata": {},
   "source": [
    "## Vector Operations (cont'd)"
   ]
  },
  {
   "cell_type": "code",
   "execution_count": 266,
   "metadata": {},
   "outputs": [
    {
     "name": "stdout",
     "output_type": "stream",
     "text": [
      "[1] 1 2 3 4\n"
     ]
    }
   ],
   "source": [
    "print(X)"
   ]
  },
  {
   "cell_type": "code",
   "execution_count": 267,
   "metadata": {},
   "outputs": [
    {
     "name": "stdout",
     "output_type": "stream",
     "text": [
      "[1]  1  8 27 64\n"
     ]
    }
   ],
   "source": [
    "print(X^3)   # element-wise exponentiation"
   ]
  },
  {
   "cell_type": "code",
   "execution_count": 268,
   "metadata": {},
   "outputs": [
    {
     "name": "stdout",
     "output_type": "stream",
     "text": [
      "[1]  1  4  9 16\n"
     ]
    }
   ],
   "source": [
    "print(X * X)  # element-wise multiplication"
   ]
  },
  {
   "cell_type": "code",
   "execution_count": 270,
   "metadata": {},
   "outputs": [
    {
     "data": {
      "text/html": [
       "<table>\n",
       "<tbody>\n",
       "\t<tr><td>30</td></tr>\n",
       "</tbody>\n",
       "</table>\n"
      ],
      "text/latex": [
       "\\begin{tabular}{l}\n",
       "\t 30\\\\\n",
       "\\end{tabular}\n"
      ],
      "text/markdown": [
       "30"
      ],
      "text/plain": [
       "     [,1]\n",
       "[1,] 30  "
      ]
     },
     "metadata": {},
     "output_type": "display_data"
    }
   ],
   "source": [
    "X %*% X  # dot (inner) product"
   ]
  },
  {
   "cell_type": "markdown",
   "metadata": {},
   "source": [
    "## Vector comparisons\n",
    "- Comparisons are all done element-wise"
   ]
  },
  {
   "cell_type": "code",
   "execution_count": 271,
   "metadata": {},
   "outputs": [
    {
     "name": "stdout",
     "output_type": "stream",
     "text": [
      "[1]  TRUE  TRUE FALSE\n"
     ]
    }
   ],
   "source": [
    "print(c(1, 2, 3) == c(1, 2, 4))"
   ]
  },
  {
   "cell_type": "code",
   "execution_count": 272,
   "metadata": {},
   "outputs": [
    {
     "name": "stdout",
     "output_type": "stream",
     "text": [
      "[1] FALSE FALSE  TRUE\n"
     ]
    }
   ],
   "source": [
    "print(c(1, 2, 3) < c(1, 2, 4))"
   ]
  },
  {
   "cell_type": "code",
   "execution_count": 273,
   "metadata": {},
   "outputs": [
    {
     "name": "stdout",
     "output_type": "stream",
     "text": [
      "[1]  TRUE  TRUE FALSE\n"
     ]
    }
   ],
   "source": [
    "print(c(1, 2, 3) >= c(1, 2, 4))"
   ]
  },
  {
   "cell_type": "markdown",
   "metadata": {},
   "source": [
    "- Note the double equal sign for comparing equality (one would be assignment!)"
   ]
  },
  {
   "cell_type": "markdown",
   "metadata": {},
   "source": [
    "## Helpful Vector Functions"
   ]
  },
  {
   "cell_type": "code",
   "execution_count": 274,
   "metadata": {
    "attributes": {
     "classes": [],
     "eval": "FALSE",
     "id": ""
    }
   },
   "outputs": [
    {
     "data": {
      "text/html": [
       "2.5"
      ],
      "text/latex": [
       "2.5"
      ],
      "text/markdown": [
       "2.5"
      ],
      "text/plain": [
       "[1] 2.5"
      ]
     },
     "metadata": {},
     "output_type": "display_data"
    },
    {
     "data": {
      "text/html": [
       "1.29099444873581"
      ],
      "text/latex": [
       "1.29099444873581"
      ],
      "text/markdown": [
       "1.29099444873581"
      ],
      "text/plain": [
       "[1] 1.290994"
      ]
     },
     "metadata": {},
     "output_type": "display_data"
    },
    {
     "data": {
      "text/html": [
       "1.66666666666667"
      ],
      "text/latex": [
       "1.66666666666667"
      ],
      "text/markdown": [
       "1.66666666666667"
      ],
      "text/plain": [
       "[1] 1.666667"
      ]
     },
     "metadata": {},
     "output_type": "display_data"
    },
    {
     "data": {
      "text/html": [
       "4"
      ],
      "text/latex": [
       "4"
      ],
      "text/markdown": [
       "4"
      ],
      "text/plain": [
       "[1] 4"
      ]
     },
     "metadata": {},
     "output_type": "display_data"
    },
    {
     "data": {
      "text/html": [
       "1"
      ],
      "text/latex": [
       "1"
      ],
      "text/markdown": [
       "1"
      ],
      "text/plain": [
       "[1] 1"
      ]
     },
     "metadata": {},
     "output_type": "display_data"
    },
    {
     "data": {
      "text/html": [
       "2.5"
      ],
      "text/latex": [
       "2.5"
      ],
      "text/markdown": [
       "2.5"
      ],
      "text/plain": [
       "[1] 2.5"
      ]
     },
     "metadata": {},
     "output_type": "display_data"
    },
    {
     "data": {
      "text/html": [
       "10"
      ],
      "text/latex": [
       "10"
      ],
      "text/markdown": [
       "10"
      ],
      "text/plain": [
       "[1] 10"
      ]
     },
     "metadata": {},
     "output_type": "display_data"
    },
    {
     "data": {
      "text/html": [
       "24"
      ],
      "text/latex": [
       "24"
      ],
      "text/markdown": [
       "24"
      ],
      "text/plain": [
       "[1] 24"
      ]
     },
     "metadata": {},
     "output_type": "display_data"
    },
    {
     "data": {
      "text/html": [
       "<strong>50%:</strong> 2.5"
      ],
      "text/latex": [
       "\\textbf{50\\textbackslash{}\\%:} 2.5"
      ],
      "text/markdown": [
       "**50%:** 2.5"
      ],
      "text/plain": [
       "50% \n",
       "2.5 "
      ]
     },
     "metadata": {},
     "output_type": "display_data"
    },
    {
     "data": {
      "text/html": [
       "4"
      ],
      "text/latex": [
       "4"
      ],
      "text/markdown": [
       "4"
      ],
      "text/plain": [
       "[1] 4"
      ]
     },
     "metadata": {},
     "output_type": "display_data"
    },
    {
     "data": {
      "text/html": [
       "<ol class=list-inline>\n",
       "\t<li>1</li>\n",
       "\t<li>4</li>\n",
       "</ol>\n"
      ],
      "text/latex": [
       "\\begin{enumerate*}\n",
       "\\item 1\n",
       "\\item 4\n",
       "\\end{enumerate*}\n"
      ],
      "text/markdown": [
       "1. 1\n",
       "2. 4\n",
       "\n",
       "\n"
      ],
      "text/plain": [
       "[1] 1 4"
      ]
     },
     "metadata": {},
     "output_type": "display_data"
    }
   ],
   "source": [
    "X = c(1:4)\n",
    "mean(X)                # mean\n",
    "sd(X)                  # standard deviation\n",
    "var(X)                 # variance\n",
    "max(X)                 # maximum\n",
    "min(X)                 # minimum\n",
    "median(X)              # median\n",
    "sum(X)                 # sum\n",
    "prod(X)                # product\n",
    "quantile(X,probs=0.5)  # quantile for specified probs\n",
    "length(X)              # length of the vector\n",
    "range(X)               # range"
   ]
  },
  {
   "cell_type": "markdown",
   "metadata": {},
   "source": [
    "# Built-in functions\n",
    "\n",
    "## Some more built-in functions\n",
    "- We've already seen many built-in functions, but here are some more!"
   ]
  },
  {
   "cell_type": "code",
   "execution_count": 275,
   "metadata": {
    "attributes": {
     "classes": [],
     "eval": "FALSE",
     "id": ""
    }
   },
   "outputs": [
    {
     "name": "stdout",
     "output_type": "stream",
     "text": [
      "[1] 0.0000000 0.6931472 1.0986123 1.3862944\n"
     ]
    }
   ],
   "source": [
    "print(log(X))   # element-wise log"
   ]
  },
  {
   "cell_type": "code",
   "execution_count": 276,
   "metadata": {},
   "outputs": [
    {
     "name": "stdout",
     "output_type": "stream",
     "text": [
      "[1]  2.718282  7.389056 20.085537 54.598150\n"
     ]
    }
   ],
   "source": [
    "print(exp(X))   # element-wise exponential"
   ]
  },
  {
   "cell_type": "code",
   "execution_count": 277,
   "metadata": {},
   "outputs": [
    {
     "name": "stdout",
     "output_type": "stream",
     "text": [
      "[1] 1.000000 1.414214 1.732051 2.000000\n"
     ]
    }
   ],
   "source": [
    "print(sqrt(X))  # element-wise square root"
   ]
  },
  {
   "cell_type": "markdown",
   "metadata": {},
   "source": [
    "## Functions for Strings"
   ]
  },
  {
   "cell_type": "code",
   "execution_count": 153,
   "metadata": {},
   "outputs": [
    {
     "data": {
      "text/html": [
       "'one plus one equals 2 !'"
      ],
      "text/latex": [
       "'one plus one equals 2 !'"
      ],
      "text/markdown": [
       "'one plus one equals 2 !'"
      ],
      "text/plain": [
       "[1] \"one plus one equals 2 !\""
      ]
     },
     "metadata": {},
     "output_type": "display_data"
    }
   ],
   "source": [
    "# concatenate two (or more) strings\n",
    "paste('one plus one equals', 1+1, '!')"
   ]
  },
  {
   "cell_type": "code",
   "execution_count": 154,
   "metadata": {},
   "outputs": [
    {
     "data": {
      "text/html": [
       "'one plus one=2'"
      ],
      "text/latex": [
       "'one plus one=2'"
      ],
      "text/markdown": [
       "'one plus one=2'"
      ],
      "text/plain": [
       "[1] \"one plus one=2\""
      ]
     },
     "metadata": {},
     "output_type": "display_data"
    }
   ],
   "source": [
    "# specify a separator\n",
    "paste('one plus one', 1+1, sep='=')"
   ]
  },
  {
   "cell_type": "markdown",
   "metadata": {},
   "source": [
    "## Functions for Strings (cont'd)\n",
    "- Often, we want to concatenate strings with no spaces\n",
    "(e.g., when constructing filenames/paths at run-time)"
   ]
  },
  {
   "cell_type": "code",
   "execution_count": 156,
   "metadata": {},
   "outputs": [
    {
     "data": {
      "text/html": [
       "'path/to/some_file_name.csv'"
      ],
      "text/latex": [
       "'path/to/some\\_file\\_name.csv'"
      ],
      "text/markdown": [
       "'path/to/some_file_name.csv'"
      ],
      "text/plain": [
       "[1] \"path/to/some_file_name.csv\""
      ]
     },
     "metadata": {},
     "output_type": "display_data"
    },
    {
     "data": {
      "text/html": [
       "'path/to/some_file_name.csv'"
      ],
      "text/latex": [
       "'path/to/some\\_file\\_name.csv'"
      ],
      "text/markdown": [
       "'path/to/some_file_name.csv'"
      ],
      "text/plain": [
       "[1] \"path/to/some_file_name.csv\""
      ]
     },
     "metadata": {},
     "output_type": "display_data"
    }
   ],
   "source": [
    "# short-hand for concatenation w/o spaces\n",
    "filename = 'some_file_name.csv'\n",
    "paste0('path/to/', filename)\n",
    "# function specifically for constructing file paths\n",
    "file.path('path', 'to', filename)"
   ]
  },
  {
   "cell_type": "markdown",
   "metadata": {},
   "source": [
    "## Functions for Strings (cont'd)\n",
    "- To enforce upper/lower cases"
   ]
  },
  {
   "cell_type": "code",
   "execution_count": 161,
   "metadata": {},
   "outputs": [
    {
     "data": {
      "text/html": [
       "'some crazy string'"
      ],
      "text/latex": [
       "'some crazy string'"
      ],
      "text/markdown": [
       "'some crazy string'"
      ],
      "text/plain": [
       "[1] \"some crazy string\""
      ]
     },
     "metadata": {},
     "output_type": "display_data"
    }
   ],
   "source": [
    "s <- 'SoMe CraZY STRING'\n",
    "tolower(s)"
   ]
  },
  {
   "cell_type": "code",
   "execution_count": 162,
   "metadata": {},
   "outputs": [
    {
     "data": {
      "text/html": [
       "'SOME CRAZY STRING'"
      ],
      "text/latex": [
       "'SOME CRAZY STRING'"
      ],
      "text/markdown": [
       "'SOME CRAZY STRING'"
      ],
      "text/plain": [
       "[1] \"SOME CRAZY STRING\""
      ]
     },
     "metadata": {},
     "output_type": "display_data"
    }
   ],
   "source": [
    "toupper(s)"
   ]
  },
  {
   "cell_type": "markdown",
   "metadata": {},
   "source": [
    "## Generic Functions\n",
    "- Some functions for exploring objects"
   ]
  },
  {
   "cell_type": "code",
   "execution_count": 163,
   "metadata": {},
   "outputs": [
    {
     "data": {
      "text/html": [
       "<ol class=list-inline>\n",
       "\t<li>1</li>\n",
       "\t<li>2</li>\n",
       "\t<li>3</li>\n",
       "\t<li>4</li>\n",
       "\t<li>5</li>\n",
       "</ol>\n"
      ],
      "text/latex": [
       "\\begin{enumerate*}\n",
       "\\item 1\n",
       "\\item 2\n",
       "\\item 3\n",
       "\\item 4\n",
       "\\item 5\n",
       "\\end{enumerate*}\n"
      ],
      "text/markdown": [
       "1. 1\n",
       "2. 2\n",
       "3. 3\n",
       "4. 4\n",
       "5. 5\n",
       "\n",
       "\n"
      ],
      "text/plain": [
       "[1] 1 2 3 4 5"
      ]
     },
     "metadata": {},
     "output_type": "display_data"
    }
   ],
   "source": [
    "obj <- 1:100\n",
    "head(obj, n=5)  # display first n rows of obj"
   ]
  },
  {
   "cell_type": "code",
   "execution_count": 164,
   "metadata": {},
   "outputs": [
    {
     "data": {
      "text/html": [
       "<ol class=list-inline>\n",
       "\t<li>96</li>\n",
       "\t<li>97</li>\n",
       "\t<li>98</li>\n",
       "\t<li>99</li>\n",
       "\t<li>100</li>\n",
       "</ol>\n"
      ],
      "text/latex": [
       "\\begin{enumerate*}\n",
       "\\item 96\n",
       "\\item 97\n",
       "\\item 98\n",
       "\\item 99\n",
       "\\item 100\n",
       "\\end{enumerate*}\n"
      ],
      "text/markdown": [
       "1. 96\n",
       "2. 97\n",
       "3. 98\n",
       "4. 99\n",
       "5. 100\n",
       "\n",
       "\n"
      ],
      "text/plain": [
       "[1]  96  97  98  99 100"
      ]
     },
     "metadata": {},
     "output_type": "display_data"
    }
   ],
   "source": [
    "tail(obj, n=5)  # display last n rows of obj"
   ]
  },
  {
   "cell_type": "markdown",
   "metadata": {},
   "source": [
    "## Generic Functions (cont'd)"
   ]
  },
  {
   "cell_type": "code",
   "execution_count": 166,
   "metadata": {},
   "outputs": [
    {
     "name": "stdout",
     "output_type": "stream",
     "text": [
      " int [1:100] 1 2 3 4 5 6 7 8 9 10 ...\n"
     ]
    }
   ],
   "source": [
    "str(obj)  # display structure of obj"
   ]
  },
  {
   "cell_type": "code",
   "execution_count": 167,
   "metadata": {},
   "outputs": [
    {
     "data": {
      "text/plain": [
       "   Min. 1st Qu.  Median    Mean 3rd Qu.    Max. \n",
       "   1.00   25.75   50.50   50.50   75.25  100.00 "
      ]
     },
     "metadata": {},
     "output_type": "display_data"
    }
   ],
   "source": [
    "summary(obj)  # display summary of obj"
   ]
  }
 ],
 "metadata": {
  "kernelspec": {
   "display_name": "R",
   "language": "R",
   "name": "ir"
  },
  "language_info": {
   "codemirror_mode": "r",
   "file_extension": ".r",
   "mimetype": "text/x-r-source",
   "name": "R",
   "pygments_lexer": "r",
   "version": "3.4.4"
  }
 },
 "nbformat": 4,
 "nbformat_minor": 2
}
