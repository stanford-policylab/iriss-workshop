{
 "cells": [
  {
   "cell_type": "markdown",
   "metadata": {},
   "source": [
    "# `R` Basics\n",
    "\n",
    "## `R` Basics: Working Directory\n",
    " - Working directory (`wd`) is where your `R` session will load/save files\n",
    " - To see where your current working directory is, run"
   ]
  },
  {
   "cell_type": "code",
   "execution_count": 10,
   "metadata": {
    "attributes": {
     "classes": [],
     "eval": "FALSE",
     "id": ""
    }
   },
   "outputs": [
    {
     "data": {
      "text/html": [
       "'/home/willcai/iriss-workshop/R/materials'"
      ],
      "text/latex": [
       "'/home/willcai/iriss-workshop/R/materials'"
      ],
      "text/markdown": [
       "'/home/willcai/iriss-workshop/R/materials'"
      ],
      "text/plain": [
       "[1] \"/home/willcai/iriss-workshop/R/materials\""
      ]
     },
     "metadata": {},
     "output_type": "display_data"
    }
   ],
   "source": [
    "getwd()"
   ]
  },
  {
   "cell_type": "markdown",
   "metadata": {},
   "source": [
    "- To set the working directory to desired `path`, run"
   ]
  },
  {
   "cell_type": "code",
   "execution_count": 11,
   "metadata": {
    "attributes": {
     "classes": [],
     "eval": "FALSE",
     "id": ""
    }
   },
   "outputs": [],
   "source": [
    "setwd(\"/home/willcai/iriss-workshop/R/materials\")"
   ]
  },
  {
   "cell_type": "markdown",
   "metadata": {},
   "source": [
    "## `R` Basics: Working Directory (cont'd)\n",
    " - Note that `~` is replaced with your `HOME` directory, e.g.\n",
    " `C:\\Users\\Username\\Documents` in windows\n",
    " - Use forward slashes (`/`), even on Windows!"
   ]
  },
  {
   "cell_type": "code",
   "execution_count": 12,
   "metadata": {
    "attributes": {
     "classes": [],
     "eval": "FALSE,",
     "id": "",
     "tidy": "TRUE"
    }
   },
   "outputs": [],
   "source": [
    "setwd(\"~/iriss-workshop/R/materials\")"
   ]
  },
  {
   "cell_type": "markdown",
   "metadata": {},
   "source": [
    "- **Never** set the working directory to an absolute path in your `R` script\n",
    "     - Even better, organize your scripts such that you never have to change the\n",
    "     working directory\n",
    "     - `setwd()` is best reserved for that time when you started `R` from the\n",
    "     wrong directory"
   ]
  },
  {
   "cell_type": "markdown",
   "metadata": {},
   "source": [
    "## `R` Basics: Strings\n",
    "- Strings are what computer science people call text\n",
    "- A `String` variable can be declared in either double quotes(`\"\"`) or\n",
    "single quotes (`''`)"
   ]
  },
  {
   "cell_type": "code",
   "execution_count": 81,
   "metadata": {},
   "outputs": [
    {
     "data": {
      "text/html": [
       "'This is a valid string'"
      ],
      "text/latex": [
       "'This is a valid string'"
      ],
      "text/markdown": [
       "'This is a valid string'"
      ],
      "text/plain": [
       "[1] \"This is a valid string\""
      ]
     },
     "metadata": {},
     "output_type": "display_data"
    }
   ],
   "source": [
    "s <- \"This is a valid string\"\n",
    "s"
   ]
  },
  {
   "cell_type": "markdown",
   "metadata": {},
   "source": [
    " - And you can reassign to the same variable"
   ]
  },
  {
   "cell_type": "code",
   "execution_count": 85,
   "metadata": {},
   "outputs": [
    {
     "data": {
      "text/html": [
       "'and so is this'"
      ],
      "text/latex": [
       "'and so is this'"
      ],
      "text/markdown": [
       "'and so is this'"
      ],
      "text/plain": [
       "[1] \"and so is this\""
      ]
     },
     "metadata": {},
     "output_type": "display_data"
    }
   ],
   "source": [
    "s <- 'and so is this'\n",
    "s"
   ]
  },
  {
   "cell_type": "markdown",
   "metadata": {},
   "source": [
    "# Vectors\n",
    "\n",
    "## Vectors: `c()`\n",
    " - Vectors are the building blocks of `R` --- even a single variable is actually\n",
    " an \"atomic\" vector (vector of size 1)\n",
    " - Vectors in `R` are created by *c*oncatenating a series of elements\n",
    " - We saw lots of vectors in the birthday problem notebook!"
   ]
  },
  {
   "cell_type": "markdown",
   "metadata": {},
   "source": [
    "## Vectors: `seq()`\n",
    "- Create a vector from a sequence with `seq(from, to, by=1)`"
   ]
  },
  {
   "cell_type": "code",
   "execution_count": 86,
   "metadata": {},
   "outputs": [
    {
     "data": {
      "text/html": [
       "<ol class=list-inline>\n",
       "\t<li>1</li>\n",
       "\t<li>2</li>\n",
       "\t<li>3</li>\n",
       "\t<li>4</li>\n",
       "\t<li>5</li>\n",
       "\t<li>6</li>\n",
       "\t<li>7</li>\n",
       "\t<li>8</li>\n",
       "\t<li>9</li>\n",
       "\t<li>10</li>\n",
       "</ol>\n"
      ],
      "text/latex": [
       "\\begin{enumerate*}\n",
       "\\item 1\n",
       "\\item 2\n",
       "\\item 3\n",
       "\\item 4\n",
       "\\item 5\n",
       "\\item 6\n",
       "\\item 7\n",
       "\\item 8\n",
       "\\item 9\n",
       "\\item 10\n",
       "\\end{enumerate*}\n"
      ],
      "text/markdown": [
       "1. 1\n",
       "2. 2\n",
       "3. 3\n",
       "4. 4\n",
       "5. 5\n",
       "6. 6\n",
       "7. 7\n",
       "8. 8\n",
       "9. 9\n",
       "10. 10\n",
       "\n",
       "\n"
      ],
      "text/plain": [
       " [1]  1  2  3  4  5  6  7  8  9 10"
      ]
     },
     "metadata": {},
     "output_type": "display_data"
    }
   ],
   "source": [
    "seq(1, 10)"
   ]
  },
  {
   "cell_type": "code",
   "execution_count": 87,
   "metadata": {},
   "outputs": [
    {
     "data": {
      "text/html": [
       "<ol class=list-inline>\n",
       "\t<li>1</li>\n",
       "\t<li>3</li>\n",
       "\t<li>5</li>\n",
       "\t<li>7</li>\n",
       "\t<li>9</li>\n",
       "</ol>\n"
      ],
      "text/latex": [
       "\\begin{enumerate*}\n",
       "\\item 1\n",
       "\\item 3\n",
       "\\item 5\n",
       "\\item 7\n",
       "\\item 9\n",
       "\\end{enumerate*}\n"
      ],
      "text/markdown": [
       "1. 1\n",
       "2. 3\n",
       "3. 5\n",
       "4. 7\n",
       "5. 9\n",
       "\n",
       "\n"
      ],
      "text/plain": [
       "[1] 1 3 5 7 9"
      ]
     },
     "metadata": {},
     "output_type": "display_data"
    }
   ],
   "source": [
    "seq(1, 10, 2)"
   ]
  },
  {
   "cell_type": "markdown",
   "metadata": {},
   "source": [
    "- Use short-hand `from:to` if you're incrementing by one"
   ]
  },
  {
   "cell_type": "code",
   "execution_count": 88,
   "metadata": {},
   "outputs": [
    {
     "data": {
      "text/html": [
       "<ol class=list-inline>\n",
       "\t<li>1</li>\n",
       "\t<li>2</li>\n",
       "\t<li>3</li>\n",
       "\t<li>4</li>\n",
       "\t<li>5</li>\n",
       "\t<li>6</li>\n",
       "\t<li>7</li>\n",
       "\t<li>8</li>\n",
       "\t<li>9</li>\n",
       "\t<li>10</li>\n",
       "</ol>\n"
      ],
      "text/latex": [
       "\\begin{enumerate*}\n",
       "\\item 1\n",
       "\\item 2\n",
       "\\item 3\n",
       "\\item 4\n",
       "\\item 5\n",
       "\\item 6\n",
       "\\item 7\n",
       "\\item 8\n",
       "\\item 9\n",
       "\\item 10\n",
       "\\end{enumerate*}\n"
      ],
      "text/markdown": [
       "1. 1\n",
       "2. 2\n",
       "3. 3\n",
       "4. 4\n",
       "5. 5\n",
       "6. 6\n",
       "7. 7\n",
       "8. 8\n",
       "9. 9\n",
       "10. 10\n",
       "\n",
       "\n"
      ],
      "text/plain": [
       " [1]  1  2  3  4  5  6  7  8  9 10"
      ]
     },
     "metadata": {},
     "output_type": "display_data"
    }
   ],
   "source": [
    "1:10"
   ]
  },
  {
   "cell_type": "markdown",
   "metadata": {},
   "source": [
    "## Vectors: `rep()`\n",
    "- Use `rep()` to repeat values"
   ]
  },
  {
   "cell_type": "code",
   "execution_count": 91,
   "metadata": {},
   "outputs": [
    {
     "data": {
      "text/html": [
       "<ol class=list-inline>\n",
       "\t<li>13</li>\n",
       "\t<li>13</li>\n",
       "\t<li>13</li>\n",
       "\t<li>13</li>\n",
       "</ol>\n"
      ],
      "text/latex": [
       "\\begin{enumerate*}\n",
       "\\item 13\n",
       "\\item 13\n",
       "\\item 13\n",
       "\\item 13\n",
       "\\end{enumerate*}\n"
      ],
      "text/markdown": [
       "1. 13\n",
       "2. 13\n",
       "3. 13\n",
       "4. 13\n",
       "\n",
       "\n"
      ],
      "text/plain": [
       "[1] 13 13 13 13"
      ]
     },
     "metadata": {},
     "output_type": "display_data"
    }
   ],
   "source": [
    "rep(13, 4)"
   ]
  },
  {
   "cell_type": "code",
   "execution_count": 89,
   "metadata": {},
   "outputs": [
    {
     "data": {
      "text/html": [
       "<ol class=list-inline>\n",
       "\t<li>'Yes!'</li>\n",
       "\t<li>'Yes!'</li>\n",
       "\t<li>'Yes!'</li>\n",
       "</ol>\n"
      ],
      "text/latex": [
       "\\begin{enumerate*}\n",
       "\\item 'Yes!'\n",
       "\\item 'Yes!'\n",
       "\\item 'Yes!'\n",
       "\\end{enumerate*}\n"
      ],
      "text/markdown": [
       "1. 'Yes!'\n",
       "2. 'Yes!'\n",
       "3. 'Yes!'\n",
       "\n",
       "\n"
      ],
      "text/plain": [
       "[1] \"Yes!\" \"Yes!\" \"Yes!\""
      ]
     },
     "metadata": {},
     "output_type": "display_data"
    }
   ],
   "source": [
    "rep('Yes!', 3)"
   ]
  },
  {
   "cell_type": "code",
   "execution_count": 90,
   "metadata": {},
   "outputs": [
    {
     "data": {
      "text/html": [
       "<ol class=list-inline>\n",
       "\t<li>'Sat.'</li>\n",
       "\t<li>'Sun.'</li>\n",
       "\t<li>'Sat.'</li>\n",
       "\t<li>'Sun.'</li>\n",
       "</ol>\n"
      ],
      "text/latex": [
       "\\begin{enumerate*}\n",
       "\\item 'Sat.'\n",
       "\\item 'Sun.'\n",
       "\\item 'Sat.'\n",
       "\\item 'Sun.'\n",
       "\\end{enumerate*}\n"
      ],
      "text/markdown": [
       "1. 'Sat.'\n",
       "2. 'Sun.'\n",
       "3. 'Sat.'\n",
       "4. 'Sun.'\n",
       "\n",
       "\n"
      ],
      "text/plain": [
       "[1] \"Sat.\" \"Sun.\" \"Sat.\" \"Sun.\""
      ]
     },
     "metadata": {},
     "output_type": "display_data"
    }
   ],
   "source": [
    "rep(c('Sat.', 'Sun.'), 2)"
   ]
  },
  {
   "cell_type": "markdown",
   "metadata": {},
   "source": [
    "## Vectors: `r`*`dist`*`()`\n",
    "- In the birthday problem notebook, we used sample() to sample from a vector of numbers.\n",
    "        sample(1:366, 30, replace = TRUE)\n",
    "- Sometimes we instead want to generate samples from known distributions\n",
    "    - e.g., simulating 1,000 coin flips and counting the number of heads\n",
    "- For this, we can use the family of `r`*`dist`*`()` functions, where *`dist`*\n",
    "  is replaced with the desired distribution\n",
    "  (e.g., `unif`orm, `norm`al, `pois`son)\n",
    "\n",
    "## Vectors: `r`*`dist`*`()` examples\n",
    "- Generate vector of $n$ samples from a specified distribution"
   ]
  },
  {
   "cell_type": "code",
   "execution_count": 92,
   "metadata": {
    "attributes": {
     "classes": [],
     "eval": "FALSE",
     "id": ""
    }
   },
   "outputs": [
    {
     "data": {
      "text/html": [
       "<ol class=list-inline>\n",
       "\t<li>0.716313884360716</li>\n",
       "\t<li>0.863105811178684</li>\n",
       "\t<li>0.122976748505607</li>\n",
       "\t<li>0.978827885119244</li>\n",
       "\t<li>0.656280525261536</li>\n",
       "</ol>\n"
      ],
      "text/latex": [
       "\\begin{enumerate*}\n",
       "\\item 0.716313884360716\n",
       "\\item 0.863105811178684\n",
       "\\item 0.122976748505607\n",
       "\\item 0.978827885119244\n",
       "\\item 0.656280525261536\n",
       "\\end{enumerate*}\n"
      ],
      "text/markdown": [
       "1. 0.716313884360716\n",
       "2. 0.863105811178684\n",
       "3. 0.122976748505607\n",
       "4. 0.978827885119244\n",
       "5. 0.656280525261536\n",
       "\n",
       "\n"
      ],
      "text/plain": [
       "[1] 0.7163139 0.8631058 0.1229767 0.9788279 0.6562805"
      ]
     },
     "metadata": {},
     "output_type": "display_data"
    }
   ],
   "source": [
    "runif(n = 5)  # 5 samples from Unif(0, 1)"
   ]
  },
  {
   "cell_type": "code",
   "execution_count": 93,
   "metadata": {},
   "outputs": [
    {
     "data": {
      "text/html": [
       "<ol class=list-inline>\n",
       "\t<li>-1.82302227597977</li>\n",
       "\t<li>-1.05587181309202</li>\n",
       "\t<li>-0.938114306393956</li>\n",
       "\t<li>1.40223892048313</li>\n",
       "\t<li>0.772495865112322</li>\n",
       "</ol>\n"
      ],
      "text/latex": [
       "\\begin{enumerate*}\n",
       "\\item -1.82302227597977\n",
       "\\item -1.05587181309202\n",
       "\\item -0.938114306393956\n",
       "\\item 1.40223892048313\n",
       "\\item 0.772495865112322\n",
       "\\end{enumerate*}\n"
      ],
      "text/markdown": [
       "1. -1.82302227597977\n",
       "2. -1.05587181309202\n",
       "3. -0.938114306393956\n",
       "4. 1.40223892048313\n",
       "5. 0.772495865112322\n",
       "\n",
       "\n"
      ],
      "text/plain": [
       "[1] -1.8230223 -1.0558718 -0.9381143  1.4022389  0.7724959"
      ]
     },
     "metadata": {},
     "output_type": "display_data"
    }
   ],
   "source": [
    "rnorm(n = 5)  # 5 samples from Norm(0, 1)"
   ]
  },
  {
   "cell_type": "code",
   "execution_count": 94,
   "metadata": {},
   "outputs": [
    {
     "data": {
      "text/html": [
       "<ol class=list-inline>\n",
       "\t<li>3</li>\n",
       "\t<li>3</li>\n",
       "\t<li>0</li>\n",
       "\t<li>0</li>\n",
       "\t<li>2</li>\n",
       "</ol>\n"
      ],
      "text/latex": [
       "\\begin{enumerate*}\n",
       "\\item 3\n",
       "\\item 3\n",
       "\\item 0\n",
       "\\item 0\n",
       "\\item 2\n",
       "\\end{enumerate*}\n"
      ],
      "text/markdown": [
       "1. 3\n",
       "2. 3\n",
       "3. 0\n",
       "4. 0\n",
       "5. 2\n",
       "\n",
       "\n"
      ],
      "text/plain": [
       "[1] 3 3 0 0 2"
      ]
     },
     "metadata": {},
     "output_type": "display_data"
    }
   ],
   "source": [
    "rpois(n = 5, 1)  # 5 samples from Poisson(1)"
   ]
  },
  {
   "cell_type": "code",
   "execution_count": 95,
   "metadata": {},
   "outputs": [
    {
     "data": {
      "text/html": [
       "<ol class=list-inline>\n",
       "\t<li>2.56345200125195</li>\n",
       "\t<li>5.80788789655934</li>\n",
       "\t<li>0.166196133563119</li>\n",
       "\t<li>0.302566372789443</li>\n",
       "\t<li>0.544751693028957</li>\n",
       "</ol>\n"
      ],
      "text/latex": [
       "\\begin{enumerate*}\n",
       "\\item 2.56345200125195\n",
       "\\item 5.80788789655934\n",
       "\\item 0.166196133563119\n",
       "\\item 0.302566372789443\n",
       "\\item 0.544751693028957\n",
       "\\end{enumerate*}\n"
      ],
      "text/markdown": [
       "1. 2.56345200125195\n",
       "2. 5.80788789655934\n",
       "3. 0.166196133563119\n",
       "4. 0.302566372789443\n",
       "5. 0.544751693028957\n",
       "\n",
       "\n"
      ],
      "text/plain": [
       "[1] 2.5634520 5.8078879 0.1661961 0.3025664 0.5447517"
      ]
     },
     "metadata": {},
     "output_type": "display_data"
    }
   ],
   "source": [
    "rexp(n = 5)  # 5 samples from Exp(1)"
   ]
  },
  {
   "cell_type": "markdown",
   "metadata": {},
   "source": [
    "- Distribution parameters can be specified as arguments, e.g."
   ]
  },
  {
   "cell_type": "code",
   "execution_count": 96,
   "metadata": {
    "attributes": {
     "classes": [],
     "eval": "FALSE",
     "id": ""
    }
   },
   "outputs": [
    {
     "data": {
      "text/html": [
       "<ol class=list-inline>\n",
       "\t<li>25.073314960122</li>\n",
       "\t<li>20.0914350386777</li>\n",
       "\t<li>9.82058845591779</li>\n",
       "\t<li>13.7009995419992</li>\n",
       "\t<li>28.0138236542968</li>\n",
       "\t<li>16.0239392429558</li>\n",
       "\t<li>24.428028447844</li>\n",
       "</ol>\n"
      ],
      "text/latex": [
       "\\begin{enumerate*}\n",
       "\\item 25.073314960122\n",
       "\\item 20.0914350386777\n",
       "\\item 9.82058845591779\n",
       "\\item 13.7009995419992\n",
       "\\item 28.0138236542968\n",
       "\\item 16.0239392429558\n",
       "\\item 24.428028447844\n",
       "\\end{enumerate*}\n"
      ],
      "text/markdown": [
       "1. 25.073314960122\n",
       "2. 20.0914350386777\n",
       "3. 9.82058845591779\n",
       "4. 13.7009995419992\n",
       "5. 28.0138236542968\n",
       "6. 16.0239392429558\n",
       "7. 24.428028447844\n",
       "\n",
       "\n"
      ],
      "text/plain": [
       "[1] 25.073315 20.091435  9.820588 13.701000 28.013824 16.023939 24.428028"
      ]
     },
     "metadata": {},
     "output_type": "display_data"
    }
   ],
   "source": [
    "# 7 samples from a Norm(20, 5) distribution\n",
    "rnorm(n = 7, mean = 20, sd = 5)"
   ]
  },
  {
   "cell_type": "markdown",
   "metadata": {},
   "source": [
    "- In general, you can bring up a help page for any function which comes from a library or base R by typing ?function_name"
   ]
  },
  {
   "cell_type": "code",
   "execution_count": 98,
   "metadata": {},
   "outputs": [
    {
     "data": {
      "text/html": [
       "\n",
       "<table width=\"100%\" summary=\"page for Normal {stats}\"><tr><td>Normal {stats}</td><td style=\"text-align: right;\">R Documentation</td></tr></table>\n",
       "\n",
       "<h2>The Normal Distribution</h2>\n",
       "\n",
       "<h3>Description</h3>\n",
       "\n",
       "<p>Density, distribution function, quantile function and random\n",
       "generation for the normal distribution with mean equal to <code>mean</code>\n",
       "and standard deviation equal to <code>sd</code>.\n",
       "</p>\n",
       "\n",
       "\n",
       "<h3>Usage</h3>\n",
       "\n",
       "<pre>\n",
       "dnorm(x, mean = 0, sd = 1, log = FALSE)\n",
       "pnorm(q, mean = 0, sd = 1, lower.tail = TRUE, log.p = FALSE)\n",
       "qnorm(p, mean = 0, sd = 1, lower.tail = TRUE, log.p = FALSE)\n",
       "rnorm(n, mean = 0, sd = 1)\n",
       "</pre>\n",
       "\n",
       "\n",
       "<h3>Arguments</h3>\n",
       "\n",
       "<table summary=\"R argblock\">\n",
       "<tr valign=\"top\"><td><code>x, q</code></td>\n",
       "<td>\n",
       "<p>vector of quantiles.</p>\n",
       "</td></tr>\n",
       "<tr valign=\"top\"><td><code>p</code></td>\n",
       "<td>\n",
       "<p>vector of probabilities.</p>\n",
       "</td></tr>\n",
       "<tr valign=\"top\"><td><code>n</code></td>\n",
       "<td>\n",
       "<p>number of observations. If <code>length(n) &gt; 1</code>, the length\n",
       "is taken to be the number required.</p>\n",
       "</td></tr>\n",
       "<tr valign=\"top\"><td><code>mean</code></td>\n",
       "<td>\n",
       "<p>vector of means.</p>\n",
       "</td></tr>\n",
       "<tr valign=\"top\"><td><code>sd</code></td>\n",
       "<td>\n",
       "<p>vector of standard deviations.</p>\n",
       "</td></tr>\n",
       "<tr valign=\"top\"><td><code>log, log.p</code></td>\n",
       "<td>\n",
       "<p>logical; if TRUE, probabilities p are given as log(p).</p>\n",
       "</td></tr>\n",
       "<tr valign=\"top\"><td><code>lower.tail</code></td>\n",
       "<td>\n",
       "<p>logical; if TRUE (default), probabilities are\n",
       "<i>P[X &le; x]</i> otherwise, <i>P[X &gt; x]</i>.</p>\n",
       "</td></tr>\n",
       "</table>\n",
       "\n",
       "\n",
       "<h3>Details</h3>\n",
       "\n",
       "<p>If <code>mean</code> or <code>sd</code> are not specified they assume the default\n",
       "values of <code>0</code> and <code>1</code>, respectively.\n",
       "</p>\n",
       "<p>The normal distribution has density\n",
       "</p>\n",
       "<p style=\"text-align: center;\"><i>\n",
       "    f(x) = 1/(&radic;(2 &pi;) &sigma;) e^-((x - &mu;)^2/(2 &sigma;^2))\n",
       "  </i></p>\n",
       "\n",
       "<p>where <i>&mu;</i> is the mean of the distribution and\n",
       "<i>&sigma;</i> the standard deviation.\n",
       "</p>\n",
       "\n",
       "\n",
       "<h3>Value</h3>\n",
       "\n",
       "<p><code>dnorm</code> gives the density,\n",
       "<code>pnorm</code> gives the distribution function,\n",
       "<code>qnorm</code> gives the quantile function, and\n",
       "<code>rnorm</code> generates random deviates.\n",
       "</p>\n",
       "<p>The length of the result is determined by <code>n</code> for\n",
       "<code>rnorm</code>, and is the maximum of the lengths of the\n",
       "numerical arguments for the other functions.  \n",
       "</p>\n",
       "<p>The numerical arguments other than <code>n</code> are recycled to the\n",
       "length of the result.  Only the first elements of the logical\n",
       "arguments are used.\n",
       "</p>\n",
       "<p>For <code>sd = 0</code> this gives the limit as <code>sd</code> decreases to 0, a\n",
       "point mass at <code>mu</code>.\n",
       "<code>sd &lt; 0</code> is an error and returns <code>NaN</code>.\n",
       "</p>\n",
       "\n",
       "\n",
       "<h3>Source</h3>\n",
       "\n",
       "<p>For <code>pnorm</code>, based on\n",
       "</p>\n",
       "<p>Cody, W. D. (1993)\n",
       "Algorithm 715: SPECFUN &ndash; A portable FORTRAN package of special\n",
       "function routines and test drivers.\n",
       "<em>ACM Transactions on Mathematical Software</em> <b>19</b>, 22&ndash;32.\n",
       "</p>\n",
       "<p>For <code>qnorm</code>, the code is a C translation of\n",
       "</p>\n",
       "<p>Wichura, M. J. (1988)\n",
       "Algorithm AS 241: The percentage points of the normal distribution.\n",
       "<em>Applied Statistics</em>, <b>37</b>, 477&ndash;484.\n",
       "</p>\n",
       "<p>which provides precise results up to about 16 digits.\n",
       "</p>\n",
       "<p>For <code>rnorm</code>, see RNG for how to select the algorithm and\n",
       "for references to the supplied methods.\n",
       "</p>\n",
       "\n",
       "\n",
       "<h3>References</h3>\n",
       "\n",
       "<p>Becker, R. A., Chambers, J. M. and Wilks, A. R. (1988)\n",
       "<em>The New S Language</em>.\n",
       "Wadsworth &amp; Brooks/Cole.\n",
       "</p>\n",
       "<p>Johnson, N. L., Kotz, S. and Balakrishnan, N. (1995)\n",
       "<em>Continuous Univariate Distributions</em>, volume 1, chapter 13.\n",
       "Wiley, New York.\n",
       "</p>\n",
       "\n",
       "\n",
       "<h3>See Also</h3>\n",
       "\n",
       "<p>Distributions for other standard distributions, including\n",
       "<code>dlnorm</code> for the <em>Log</em>normal distribution.\n",
       "</p>\n",
       "\n",
       "\n",
       "<h3>Examples</h3>\n",
       "\n",
       "<pre>\n",
       "require(graphics)\n",
       "\n",
       "dnorm(0) == 1/sqrt(2*pi)\n",
       "dnorm(1) == exp(-1/2)/sqrt(2*pi)\n",
       "dnorm(1) == 1/sqrt(2*pi*exp(1))\n",
       "\n",
       "## Using \"log = TRUE\" for an extended range :\n",
       "par(mfrow = c(2,1))\n",
       "plot(function(x) dnorm(x, log = TRUE), -60, 50,\n",
       "     main = \"log { Normal density }\")\n",
       "curve(log(dnorm(x)), add = TRUE, col = \"red\", lwd = 2)\n",
       "mtext(\"dnorm(x, log=TRUE)\", adj = 0)\n",
       "mtext(\"log(dnorm(x))\", col = \"red\", adj = 1)\n",
       "\n",
       "plot(function(x) pnorm(x, log.p = TRUE), -50, 10,\n",
       "     main = \"log { Normal Cumulative }\")\n",
       "curve(log(pnorm(x)), add = TRUE, col = \"red\", lwd = 2)\n",
       "mtext(\"pnorm(x, log=TRUE)\", adj = 0)\n",
       "mtext(\"log(pnorm(x))\", col = \"red\", adj = 1)\n",
       "\n",
       "## if you want the so-called 'error function'\n",
       "erf &lt;- function(x) 2 * pnorm(x * sqrt(2)) - 1\n",
       "## (see Abramowitz and Stegun 29.2.29)\n",
       "## and the so-called 'complementary error function'\n",
       "erfc &lt;- function(x) 2 * pnorm(x * sqrt(2), lower = FALSE)\n",
       "## and the inverses\n",
       "erfinv &lt;- function (x) qnorm((1 + x)/2)/sqrt(2)\n",
       "erfcinv &lt;- function (x) qnorm(x/2, lower = FALSE)/sqrt(2)\n",
       "</pre>\n",
       "\n",
       "<hr /><div style=\"text-align: center;\">[Package <em>stats</em> version 3.4.4 ]</div>"
      ],
      "text/latex": [
       "\\inputencoding{utf8}\n",
       "\\HeaderA{Normal}{The Normal Distribution}{Normal}\n",
       "\\aliasA{dnorm}{Normal}{dnorm}\n",
       "\\aliasA{pnorm}{Normal}{pnorm}\n",
       "\\aliasA{qnorm}{Normal}{qnorm}\n",
       "\\aliasA{rnorm}{Normal}{rnorm}\n",
       "\\keyword{distribution}{Normal}\n",
       "%\n",
       "\\begin{Description}\\relax\n",
       "Density, distribution function, quantile function and random\n",
       "generation for the normal distribution with mean equal to \\code{mean}\n",
       "and standard deviation equal to \\code{sd}.\n",
       "\\end{Description}\n",
       "%\n",
       "\\begin{Usage}\n",
       "\\begin{verbatim}\n",
       "dnorm(x, mean = 0, sd = 1, log = FALSE)\n",
       "pnorm(q, mean = 0, sd = 1, lower.tail = TRUE, log.p = FALSE)\n",
       "qnorm(p, mean = 0, sd = 1, lower.tail = TRUE, log.p = FALSE)\n",
       "rnorm(n, mean = 0, sd = 1)\n",
       "\\end{verbatim}\n",
       "\\end{Usage}\n",
       "%\n",
       "\\begin{Arguments}\n",
       "\\begin{ldescription}\n",
       "\\item[\\code{x, q}] vector of quantiles.\n",
       "\\item[\\code{p}] vector of probabilities.\n",
       "\\item[\\code{n}] number of observations. If \\code{length(n) > 1}, the length\n",
       "is taken to be the number required.\n",
       "\\item[\\code{mean}] vector of means.\n",
       "\\item[\\code{sd}] vector of standard deviations.\n",
       "\\item[\\code{log, log.p}] logical; if TRUE, probabilities p are given as log(p).\n",
       "\\item[\\code{lower.tail}] logical; if TRUE (default), probabilities are\n",
       "\\eqn{P[X \\le x]}{} otherwise, \\eqn{P[X > x]}{}.\n",
       "\\end{ldescription}\n",
       "\\end{Arguments}\n",
       "%\n",
       "\\begin{Details}\\relax\n",
       "If \\code{mean} or \\code{sd} are not specified they assume the default\n",
       "values of \\code{0} and \\code{1}, respectively.\n",
       "\n",
       "The normal distribution has density\n",
       "\\deqn{\n",
       "    f(x) =\n",
       "    \\frac{1}{\\sqrt{2\\pi}\\sigma} e^{-(x-\\mu)^2/2\\sigma^2}}{}\n",
       "where \\eqn{\\mu}{} is the mean of the distribution and\n",
       "\\eqn{\\sigma}{} the standard deviation.\n",
       "\\end{Details}\n",
       "%\n",
       "\\begin{Value}\n",
       "\\code{dnorm} gives the density,\n",
       "\\code{pnorm} gives the distribution function,\n",
       "\\code{qnorm} gives the quantile function, and\n",
       "\\code{rnorm} generates random deviates.\n",
       "\n",
       "The length of the result is determined by \\code{n} for\n",
       "\\code{rnorm}, and is the maximum of the lengths of the\n",
       "numerical arguments for the other functions.  \n",
       "\n",
       "The numerical arguments other than \\code{n} are recycled to the\n",
       "length of the result.  Only the first elements of the logical\n",
       "arguments are used.\n",
       "\n",
       "For \\code{sd = 0} this gives the limit as \\code{sd} decreases to 0, a\n",
       "point mass at \\code{mu}.\n",
       "\\code{sd < 0} is an error and returns \\code{NaN}.\n",
       "\\end{Value}\n",
       "%\n",
       "\\begin{Source}\\relax\n",
       "For \\code{pnorm}, based on\n",
       "\n",
       "Cody, W. D. (1993)\n",
       "Algorithm 715: SPECFUN -- A portable FORTRAN package of special\n",
       "function routines and test drivers.\n",
       "\\emph{ACM Transactions on Mathematical Software} \\bold{19}, 22--32.\n",
       "\n",
       "For \\code{qnorm}, the code is a C translation of\n",
       "\n",
       "Wichura, M. J. (1988)\n",
       "Algorithm AS 241: The percentage points of the normal distribution.\n",
       "\\emph{Applied Statistics}, \\bold{37}, 477--484.\n",
       "\n",
       "which provides precise results up to about 16 digits.\n",
       "\n",
       "For \\code{rnorm}, see \\LinkA{RNG}{RNG} for how to select the algorithm and\n",
       "for references to the supplied methods.\n",
       "\\end{Source}\n",
       "%\n",
       "\\begin{References}\\relax\n",
       "Becker, R. A., Chambers, J. M. and Wilks, A. R. (1988)\n",
       "\\emph{The New S Language}.\n",
       "Wadsworth \\& Brooks/Cole.\n",
       "\n",
       "Johnson, N. L., Kotz, S. and Balakrishnan, N. (1995)\n",
       "\\emph{Continuous Univariate Distributions}, volume 1, chapter 13.\n",
       "Wiley, New York.\n",
       "\\end{References}\n",
       "%\n",
       "\\begin{SeeAlso}\\relax\n",
       "\\LinkA{Distributions}{Distributions} for other standard distributions, including\n",
       "\\code{\\LinkA{dlnorm}{dlnorm}} for the \\emph{Log}normal distribution.\n",
       "\\end{SeeAlso}\n",
       "%\n",
       "\\begin{Examples}\n",
       "\\begin{ExampleCode}\n",
       "require(graphics)\n",
       "\n",
       "dnorm(0) == 1/sqrt(2*pi)\n",
       "dnorm(1) == exp(-1/2)/sqrt(2*pi)\n",
       "dnorm(1) == 1/sqrt(2*pi*exp(1))\n",
       "\n",
       "## Using \"log = TRUE\" for an extended range :\n",
       "par(mfrow = c(2,1))\n",
       "plot(function(x) dnorm(x, log = TRUE), -60, 50,\n",
       "     main = \"log { Normal density }\")\n",
       "curve(log(dnorm(x)), add = TRUE, col = \"red\", lwd = 2)\n",
       "mtext(\"dnorm(x, log=TRUE)\", adj = 0)\n",
       "mtext(\"log(dnorm(x))\", col = \"red\", adj = 1)\n",
       "\n",
       "plot(function(x) pnorm(x, log.p = TRUE), -50, 10,\n",
       "     main = \"log { Normal Cumulative }\")\n",
       "curve(log(pnorm(x)), add = TRUE, col = \"red\", lwd = 2)\n",
       "mtext(\"pnorm(x, log=TRUE)\", adj = 0)\n",
       "mtext(\"log(pnorm(x))\", col = \"red\", adj = 1)\n",
       "\n",
       "## if you want the so-called 'error function'\n",
       "erf <- function(x) 2 * pnorm(x * sqrt(2)) - 1\n",
       "## (see Abramowitz and Stegun 29.2.29)\n",
       "## and the so-called 'complementary error function'\n",
       "erfc <- function(x) 2 * pnorm(x * sqrt(2), lower = FALSE)\n",
       "## and the inverses\n",
       "erfinv <- function (x) qnorm((1 + x)/2)/sqrt(2)\n",
       "erfcinv <- function (x) qnorm(x/2, lower = FALSE)/sqrt(2)\n",
       "\\end{ExampleCode}\n",
       "\\end{Examples}"
      ],
      "text/plain": [
       "Normal                  package:stats                  R Documentation\n",
       "\n",
       "_\bT_\bh_\be _\bN_\bo_\br_\bm_\ba_\bl _\bD_\bi_\bs_\bt_\br_\bi_\bb_\bu_\bt_\bi_\bo_\bn\n",
       "\n",
       "_\bD_\be_\bs_\bc_\br_\bi_\bp_\bt_\bi_\bo_\bn:\n",
       "\n",
       "     Density, distribution function, quantile function and random\n",
       "     generation for the normal distribution with mean equal to ‘mean’\n",
       "     and standard deviation equal to ‘sd’.\n",
       "\n",
       "_\bU_\bs_\ba_\bg_\be:\n",
       "\n",
       "     dnorm(x, mean = 0, sd = 1, log = FALSE)\n",
       "     pnorm(q, mean = 0, sd = 1, lower.tail = TRUE, log.p = FALSE)\n",
       "     qnorm(p, mean = 0, sd = 1, lower.tail = TRUE, log.p = FALSE)\n",
       "     rnorm(n, mean = 0, sd = 1)\n",
       "     \n",
       "_\bA_\br_\bg_\bu_\bm_\be_\bn_\bt_\bs:\n",
       "\n",
       "    x, q: vector of quantiles.\n",
       "\n",
       "       p: vector of probabilities.\n",
       "\n",
       "       n: number of observations. If ‘length(n) > 1’, the length is\n",
       "          taken to be the number required.\n",
       "\n",
       "    mean: vector of means.\n",
       "\n",
       "      sd: vector of standard deviations.\n",
       "\n",
       "log, log.p: logical; if TRUE, probabilities p are given as log(p).\n",
       "\n",
       "lower.tail: logical; if TRUE (default), probabilities are P[X <= x]\n",
       "          otherwise, P[X > x].\n",
       "\n",
       "_\bD_\be_\bt_\ba_\bi_\bl_\bs:\n",
       "\n",
       "     If ‘mean’ or ‘sd’ are not specified they assume the default values\n",
       "     of ‘0’ and ‘1’, respectively.\n",
       "\n",
       "     The normal distribution has density\n",
       "\n",
       "            f(x) = 1/(sqrt(2 pi) sigma) e^-((x - mu)^2/(2 sigma^2))     \n",
       "     \n",
       "     where mu is the mean of the distribution and sigma the standard\n",
       "     deviation.\n",
       "\n",
       "_\bV_\ba_\bl_\bu_\be:\n",
       "\n",
       "     ‘dnorm’ gives the density, ‘pnorm’ gives the distribution\n",
       "     function, ‘qnorm’ gives the quantile function, and ‘rnorm’\n",
       "     generates random deviates.\n",
       "\n",
       "     The length of the result is determined by ‘n’ for ‘rnorm’, and is\n",
       "     the maximum of the lengths of the numerical arguments for the\n",
       "     other functions.\n",
       "\n",
       "     The numerical arguments other than ‘n’ are recycled to the length\n",
       "     of the result.  Only the first elements of the logical arguments\n",
       "     are used.\n",
       "\n",
       "     For ‘sd = 0’ this gives the limit as ‘sd’ decreases to 0, a point\n",
       "     mass at ‘mu’.  ‘sd < 0’ is an error and returns ‘NaN’.\n",
       "\n",
       "_\bS_\bo_\bu_\br_\bc_\be:\n",
       "\n",
       "     For ‘pnorm’, based on\n",
       "\n",
       "     Cody, W. D. (1993) Algorithm 715: SPECFUN - A portable FORTRAN\n",
       "     package of special function routines and test drivers.  _ACM\n",
       "     Transactions on Mathematical Software_ *19*, 22-32.\n",
       "\n",
       "     For ‘qnorm’, the code is a C translation of\n",
       "\n",
       "     Wichura, M. J. (1988) Algorithm AS 241: The percentage points of\n",
       "     the normal distribution.  _Applied Statistics_, *37*, 477-484.\n",
       "\n",
       "     which provides precise results up to about 16 digits.\n",
       "\n",
       "     For ‘rnorm’, see RNG for how to select the algorithm and for\n",
       "     references to the supplied methods.\n",
       "\n",
       "_\bR_\be_\bf_\be_\br_\be_\bn_\bc_\be_\bs:\n",
       "\n",
       "     Becker, R. A., Chambers, J. M. and Wilks, A. R. (1988) _The New S\n",
       "     Language_.  Wadsworth & Brooks/Cole.\n",
       "\n",
       "     Johnson, N. L., Kotz, S. and Balakrishnan, N. (1995) _Continuous\n",
       "     Univariate Distributions_, volume 1, chapter 13.  Wiley, New York.\n",
       "\n",
       "_\bS_\be_\be _\bA_\bl_\bs_\bo:\n",
       "\n",
       "     Distributions for other standard distributions, including ‘dlnorm’\n",
       "     for the _Log_normal distribution.\n",
       "\n",
       "_\bE_\bx_\ba_\bm_\bp_\bl_\be_\bs:\n",
       "\n",
       "     require(graphics)\n",
       "     \n",
       "     dnorm(0) == 1/sqrt(2*pi)\n",
       "     dnorm(1) == exp(-1/2)/sqrt(2*pi)\n",
       "     dnorm(1) == 1/sqrt(2*pi*exp(1))\n",
       "     \n",
       "     ## Using \"log = TRUE\" for an extended range :\n",
       "     par(mfrow = c(2,1))\n",
       "     plot(function(x) dnorm(x, log = TRUE), -60, 50,\n",
       "          main = \"log { Normal density }\")\n",
       "     curve(log(dnorm(x)), add = TRUE, col = \"red\", lwd = 2)\n",
       "     mtext(\"dnorm(x, log=TRUE)\", adj = 0)\n",
       "     mtext(\"log(dnorm(x))\", col = \"red\", adj = 1)\n",
       "     \n",
       "     plot(function(x) pnorm(x, log.p = TRUE), -50, 10,\n",
       "          main = \"log { Normal Cumulative }\")\n",
       "     curve(log(pnorm(x)), add = TRUE, col = \"red\", lwd = 2)\n",
       "     mtext(\"pnorm(x, log=TRUE)\", adj = 0)\n",
       "     mtext(\"log(pnorm(x))\", col = \"red\", adj = 1)\n",
       "     \n",
       "     ## if you want the so-called 'error function'\n",
       "     erf <- function(x) 2 * pnorm(x * sqrt(2)) - 1\n",
       "     ## (see Abramowitz and Stegun 29.2.29)\n",
       "     ## and the so-called 'complementary error function'\n",
       "     erfc <- function(x) 2 * pnorm(x * sqrt(2), lower = FALSE)\n",
       "     ## and the inverses\n",
       "     erfinv <- function (x) qnorm((1 + x)/2)/sqrt(2)\n",
       "     erfcinv <- function (x) qnorm(x/2, lower = FALSE)/sqrt(2)\n",
       "     "
      ]
     },
     "metadata": {},
     "output_type": "display_data"
    }
   ],
   "source": [
    "?rnorm"
   ]
  },
  {
   "cell_type": "markdown",
   "metadata": {},
   "source": [
    "- There's also a special page which lists all the available distributions"
   ]
  },
  {
   "cell_type": "code",
   "execution_count": 100,
   "metadata": {},
   "outputs": [
    {
     "data": {
      "text/html": [
       "\n",
       "<table width=\"100%\" summary=\"page for Distributions {stats}\"><tr><td>Distributions {stats}</td><td style=\"text-align: right;\">R Documentation</td></tr></table>\n",
       "\n",
       "<h2>Distributions in the stats package</h2>\n",
       "\n",
       "<h3>Description</h3>\n",
       "\n",
       "<p>Density, cumulative distribution function, quantile function and random\n",
       "variate generation for many standard probability distributions are\n",
       "available in the <span class=\"pkg\">stats</span> package.\n",
       "</p>\n",
       "\n",
       "\n",
       "<h3>Details</h3>\n",
       "\n",
       "<p>The functions for the density/mass function, cumulative distribution\n",
       "function, quantile function and random variate generation are named in the\n",
       "form <code>dxxx</code>, <code>pxxx</code>, <code>qxxx</code> and <code>rxxx</code> respectively.\n",
       "</p>\n",
       "<p>For the beta distribution see <code>dbeta</code>.\n",
       "</p>\n",
       "<p>For the binomial (including Bernoulli) distribution see\n",
       "<code>dbinom</code>.\n",
       "</p>\n",
       "<p>For the Cauchy distribution see <code>dcauchy</code>.\n",
       "</p>\n",
       "<p>For the chi-squared distribution see <code>dchisq</code>.\n",
       "</p>\n",
       "<p>For the exponential distribution see <code>dexp</code>.\n",
       "</p>\n",
       "<p>For the F distribution see <code>df</code>.\n",
       "</p>\n",
       "<p>For the gamma distribution see <code>dgamma</code>.\n",
       "</p>\n",
       "<p>For the geometric distribution see <code>dgeom</code>.  (This is also\n",
       "a special case of the negative binomial.)\n",
       "</p>\n",
       "<p>For the hypergeometric distribution see <code>dhyper</code>.\n",
       "</p>\n",
       "<p>For the log-normal distribution see <code>dlnorm</code>.\n",
       "</p>\n",
       "<p>For the multinomial distribution see <code>dmultinom</code>.\n",
       "</p>\n",
       "<p>For the negative binomial distribution see <code>dnbinom</code>.\n",
       "</p>\n",
       "<p>For the normal distribution see <code>dnorm</code>.\n",
       "</p>\n",
       "<p>For the Poisson distribution see <code>dpois</code>.\n",
       "</p>\n",
       "<p>For the Student's t distribution see <code>dt</code>.\n",
       "</p>\n",
       "<p>For the uniform distribution see <code>dunif</code>.\n",
       "</p>\n",
       "<p>For the Weibull distribution see <code>dweibull</code>.\n",
       "</p>\n",
       "<p>For less common distributions of test statistics see\n",
       "<code>pbirthday</code>, <code>dsignrank</code>,\n",
       "<code>ptukey</code> and <code>dwilcox</code> (and see the\n",
       "&lsquo;See Also&rsquo; section of <code>cor.test</code>).\n",
       "</p>\n",
       "\n",
       "\n",
       "<h3>See Also</h3>\n",
       "\n",
       "<p><code>RNG</code> about random number generation in <span style=\"font-family: Courier New, Courier; color: #666666;\"><b>R</b></span>.\n",
       "</p>\n",
       "<p>The CRAN task view on distributions,\n",
       "<a href=\"https://CRAN.R-project.org/view=Distributions\">https://CRAN.R-project.org/view=Distributions</a>,\n",
       "mentioning several CRAN packages for additional distributions.\n",
       "</p>\n",
       "\n",
       "<hr /><div style=\"text-align: center;\">[Package <em>stats</em> version 3.4.4 ]</div>"
      ],
      "text/latex": [
       "\\inputencoding{utf8}\n",
       "\\HeaderA{Distributions}{Distributions in the stats package}{Distributions}\n",
       "\\aliasA{distribution}{Distributions}{distribution}\n",
       "\\aliasA{distributions}{Distributions}{distributions}\n",
       "\\keyword{distribution}{Distributions}\n",
       "%\n",
       "\\begin{Description}\\relax\n",
       "Density, cumulative distribution function, quantile function and random\n",
       "variate generation for many standard probability distributions are\n",
       "available in the \\pkg{stats} package.\n",
       "\\end{Description}\n",
       "%\n",
       "\\begin{Details}\\relax\n",
       "The functions for the density/mass function, cumulative distribution\n",
       "function, quantile function and random variate generation are named in the\n",
       "form \\code{dxxx}, \\code{pxxx}, \\code{qxxx} and \\code{rxxx} respectively.\n",
       "\n",
       "For the beta distribution see \\code{\\LinkA{dbeta}{dbeta}}.\n",
       "\n",
       "For the binomial (including Bernoulli) distribution see\n",
       "\\code{\\LinkA{dbinom}{dbinom}}.\n",
       "\n",
       "For the Cauchy distribution see \\code{\\LinkA{dcauchy}{dcauchy}}.\n",
       "\n",
       "For the chi-squared distribution see \\code{\\LinkA{dchisq}{dchisq}}.\n",
       "\n",
       "For the exponential distribution see \\code{\\LinkA{dexp}{dexp}}.\n",
       "\n",
       "For the F distribution see \\code{\\LinkA{df}{df}}.\n",
       "\n",
       "For the gamma distribution see \\code{\\LinkA{dgamma}{dgamma}}.\n",
       "\n",
       "For the geometric distribution see \\code{\\LinkA{dgeom}{dgeom}}.  (This is also\n",
       "a special case of the negative binomial.)\n",
       "\n",
       "For the hypergeometric distribution see \\code{\\LinkA{dhyper}{dhyper}}.\n",
       "\n",
       "For the log-normal distribution see \\code{\\LinkA{dlnorm}{dlnorm}}.\n",
       "\n",
       "For the multinomial distribution see \\code{\\LinkA{dmultinom}{dmultinom}}.\n",
       "\n",
       "For the negative binomial distribution see \\code{\\LinkA{dnbinom}{dnbinom}}.\n",
       "\n",
       "For the normal distribution see \\code{\\LinkA{dnorm}{dnorm}}.\n",
       "\n",
       "For the Poisson distribution see \\code{\\LinkA{dpois}{dpois}}.\n",
       "\n",
       "For the Student's t distribution see \\code{\\LinkA{dt}{dt}}.\n",
       "\n",
       "For the uniform distribution see \\code{\\LinkA{dunif}{dunif}}.\n",
       "\n",
       "For the Weibull distribution see \\code{\\LinkA{dweibull}{dweibull}}.\n",
       "\n",
       "For less common distributions of test statistics see\n",
       "\\code{\\LinkA{pbirthday}{pbirthday}}, \\code{\\LinkA{dsignrank}{dsignrank}},\n",
       "\\code{\\LinkA{ptukey}{ptukey}} and \\code{\\LinkA{dwilcox}{dwilcox}} (and see the\n",
       "`See Also' section of \\code{\\LinkA{cor.test}{cor.test}}).\n",
       "\\end{Details}\n",
       "%\n",
       "\\begin{SeeAlso}\\relax\n",
       "\\code{\\LinkA{RNG}{RNG}} about random number generation in \\R{}.\n",
       "\n",
       "The CRAN task view on distributions,\n",
       "\\url{https://CRAN.R-project.org/view=Distributions},\n",
       "mentioning several CRAN packages for additional distributions.\n",
       "\\end{SeeAlso}"
      ],
      "text/plain": [
       "Distributions              package:stats               R Documentation\n",
       "\n",
       "_\bD_\bi_\bs_\bt_\br_\bi_\bb_\bu_\bt_\bi_\bo_\bn_\bs _\bi_\bn _\bt_\bh_\be _\bs_\bt_\ba_\bt_\bs _\bp_\ba_\bc_\bk_\ba_\bg_\be\n",
       "\n",
       "_\bD_\be_\bs_\bc_\br_\bi_\bp_\bt_\bi_\bo_\bn:\n",
       "\n",
       "     Density, cumulative distribution function, quantile function and\n",
       "     random variate generation for many standard probability\n",
       "     distributions are available in the ‘stats’ package.\n",
       "\n",
       "_\bD_\be_\bt_\ba_\bi_\bl_\bs:\n",
       "\n",
       "     The functions for the density/mass function, cumulative\n",
       "     distribution function, quantile function and random variate\n",
       "     generation are named in the form ‘dxxx’, ‘pxxx’, ‘qxxx’ and ‘rxxx’\n",
       "     respectively.\n",
       "\n",
       "     For the beta distribution see ‘dbeta’.\n",
       "\n",
       "     For the binomial (including Bernoulli) distribution see ‘dbinom’.\n",
       "\n",
       "     For the Cauchy distribution see ‘dcauchy’.\n",
       "\n",
       "     For the chi-squared distribution see ‘dchisq’.\n",
       "\n",
       "     For the exponential distribution see ‘dexp’.\n",
       "\n",
       "     For the F distribution see ‘df’.\n",
       "\n",
       "     For the gamma distribution see ‘dgamma’.\n",
       "\n",
       "     For the geometric distribution see ‘dgeom’.  (This is also a\n",
       "     special case of the negative binomial.)\n",
       "\n",
       "     For the hypergeometric distribution see ‘dhyper’.\n",
       "\n",
       "     For the log-normal distribution see ‘dlnorm’.\n",
       "\n",
       "     For the multinomial distribution see ‘dmultinom’.\n",
       "\n",
       "     For the negative binomial distribution see ‘dnbinom’.\n",
       "\n",
       "     For the normal distribution see ‘dnorm’.\n",
       "\n",
       "     For the Poisson distribution see ‘dpois’.\n",
       "\n",
       "     For the Student's t distribution see ‘dt’.\n",
       "\n",
       "     For the uniform distribution see ‘dunif’.\n",
       "\n",
       "     For the Weibull distribution see ‘dweibull’.\n",
       "\n",
       "     For less common distributions of test statistics see ‘pbirthday’,\n",
       "     ‘dsignrank’, ‘ptukey’ and ‘dwilcox’ (and see the ‘See Also’\n",
       "     section of ‘cor.test’).\n",
       "\n",
       "_\bS_\be_\be _\bA_\bl_\bs_\bo:\n",
       "\n",
       "     ‘RNG’ about random number generation in R.\n",
       "\n",
       "     The CRAN task view on distributions, <URL:\n",
       "     https://CRAN.R-project.org/view=Distributions>, mentioning several\n",
       "     CRAN packages for additional distributions.\n"
      ]
     },
     "metadata": {},
     "output_type": "display_data"
    }
   ],
   "source": [
    "?Distributions"
   ]
  },
  {
   "cell_type": "markdown",
   "metadata": {},
   "source": [
    "## Vectors: Indexing\n",
    "- We saw vector indexing in the birthday problem notebook, but let's review.\n",
    "- Use square braces (`[]`) to index a vector (base 1)\n",
    "    - Indexing out-of-bounds returns a special value called `NA`, *does NOT*\n",
    "      fail"
   ]
  },
  {
   "cell_type": "code",
   "execution_count": 127,
   "metadata": {},
   "outputs": [],
   "source": [
    "X <- c(10, 11, 12, 13)"
   ]
  },
  {
   "cell_type": "code",
   "execution_count": 128,
   "metadata": {},
   "outputs": [
    {
     "name": "stdout",
     "output_type": "stream",
     "text": [
      "[1] 10\n"
     ]
    }
   ],
   "source": [
    "print(X[1])"
   ]
  },
  {
   "cell_type": "code",
   "execution_count": 129,
   "metadata": {},
   "outputs": [
    {
     "name": "stdout",
     "output_type": "stream",
     "text": [
      "[1] 13\n"
     ]
    }
   ],
   "source": [
    "print(X[4])"
   ]
  },
  {
   "cell_type": "code",
   "execution_count": 130,
   "metadata": {},
   "outputs": [
    {
     "name": "stdout",
     "output_type": "stream",
     "text": [
      "[1] NA\n"
     ]
    }
   ],
   "source": [
    "print(X[5])  # Does NOT fail; but returns NA"
   ]
  },
  {
   "cell_type": "markdown",
   "metadata": {},
   "source": [
    "## Vectors: Indexing (cont'd)\n",
    "- Negative indexing is used to exclude elements"
   ]
  },
  {
   "cell_type": "code",
   "execution_count": 131,
   "metadata": {},
   "outputs": [
    {
     "data": {
      "text/html": [
       "<ol class=list-inline>\n",
       "\t<li>11</li>\n",
       "\t<li>12</li>\n",
       "\t<li>13</li>\n",
       "</ol>\n"
      ],
      "text/latex": [
       "\\begin{enumerate*}\n",
       "\\item 11\n",
       "\\item 12\n",
       "\\item 13\n",
       "\\end{enumerate*}\n"
      ],
      "text/markdown": [
       "1. 11\n",
       "2. 12\n",
       "3. 13\n",
       "\n",
       "\n"
      ],
      "text/plain": [
       "[1] 11 12 13"
      ]
     },
     "metadata": {},
     "output_type": "display_data"
    }
   ],
   "source": [
    "X[-1]"
   ]
  },
  {
   "cell_type": "markdown",
   "metadata": {},
   "source": [
    "- Index multiple objects by indexing with a vector"
   ]
  },
  {
   "cell_type": "code",
   "execution_count": 132,
   "metadata": {},
   "outputs": [
    {
     "data": {
      "text/html": [
       "<ol class=list-inline>\n",
       "\t<li>11</li>\n",
       "\t<li>13</li>\n",
       "</ol>\n"
      ],
      "text/latex": [
       "\\begin{enumerate*}\n",
       "\\item 11\n",
       "\\item 13\n",
       "\\end{enumerate*}\n"
      ],
      "text/markdown": [
       "1. 11\n",
       "2. 13\n",
       "\n",
       "\n"
      ],
      "text/plain": [
       "[1] 11 13"
      ]
     },
     "metadata": {},
     "output_type": "display_data"
    }
   ],
   "source": [
    "ind <- c(2, 4)\n",
    "X[ind]"
   ]
  },
  {
   "cell_type": "markdown",
   "metadata": {},
   "source": [
    "## Vectors: Re-assignment with Indices\n",
    "- Replace elements by re-assigning with index"
   ]
  },
  {
   "cell_type": "code",
   "execution_count": 133,
   "metadata": {},
   "outputs": [
    {
     "data": {
      "text/html": [
       "<ol class=list-inline>\n",
       "\t<li>101</li>\n",
       "\t<li>11</li>\n",
       "\t<li>12</li>\n",
       "\t<li>13</li>\n",
       "</ol>\n"
      ],
      "text/latex": [
       "\\begin{enumerate*}\n",
       "\\item 101\n",
       "\\item 11\n",
       "\\item 12\n",
       "\\item 13\n",
       "\\end{enumerate*}\n"
      ],
      "text/markdown": [
       "1. 101\n",
       "2. 11\n",
       "3. 12\n",
       "4. 13\n",
       "\n",
       "\n"
      ],
      "text/plain": [
       "[1] 101  11  12  13"
      ]
     },
     "metadata": {},
     "output_type": "display_data"
    }
   ],
   "source": [
    "X[1] <- 101\n",
    "X"
   ]
  },
  {
   "cell_type": "markdown",
   "metadata": {},
   "source": [
    "- Replace multiple elements as well"
   ]
  },
  {
   "cell_type": "code",
   "execution_count": 134,
   "metadata": {},
   "outputs": [
    {
     "data": {
      "text/html": [
       "<ol class=list-inline>\n",
       "\t<li>101</li>\n",
       "\t<li>22</li>\n",
       "\t<li>33</li>\n",
       "\t<li>13</li>\n",
       "</ol>\n"
      ],
      "text/latex": [
       "\\begin{enumerate*}\n",
       "\\item 101\n",
       "\\item 22\n",
       "\\item 33\n",
       "\\item 13\n",
       "\\end{enumerate*}\n"
      ],
      "text/markdown": [
       "1. 101\n",
       "2. 22\n",
       "3. 33\n",
       "4. 13\n",
       "\n",
       "\n"
      ],
      "text/plain": [
       "[1] 101  22  33  13"
      ]
     },
     "metadata": {},
     "output_type": "display_data"
    }
   ],
   "source": [
    "X[2:3] <- c(22, 33)\n",
    "X"
   ]
  },
  {
   "cell_type": "markdown",
   "metadata": {},
   "source": [
    "## Vectors: Add Elements by Index\n",
    "- Add new elements to a vector by assigning"
   ]
  },
  {
   "cell_type": "code",
   "execution_count": 135,
   "metadata": {},
   "outputs": [
    {
     "name": "stdout",
     "output_type": "stream",
     "text": [
      "[1] NA\n",
      "[1] 101  22  33  13 555\n",
      "[1] 555\n"
     ]
    }
   ],
   "source": [
    "print(X[5])\n",
    "X[5] <- 555"
   ]
  },
  {
   "cell_type": "code",
   "execution_count": null,
   "metadata": {},
   "outputs": [],
   "source": [
    "print(X[5])"
   ]
  },
  {
   "cell_type": "markdown",
   "metadata": {},
   "source": [
    "# Vector Operations\n",
    "\n",
    "## Vector Operations"
   ]
  },
  {
   "cell_type": "code",
   "execution_count": 136,
   "metadata": {},
   "outputs": [],
   "source": [
    "X = c(1:4)"
   ]
  },
  {
   "cell_type": "code",
   "execution_count": 137,
   "metadata": {},
   "outputs": [
    {
     "data": {
      "text/html": [
       "<ol class=list-inline>\n",
       "\t<li>1</li>\n",
       "\t<li>2</li>\n",
       "\t<li>3</li>\n",
       "\t<li>4</li>\n",
       "</ol>\n"
      ],
      "text/latex": [
       "\\begin{enumerate*}\n",
       "\\item 1\n",
       "\\item 2\n",
       "\\item 3\n",
       "\\item 4\n",
       "\\end{enumerate*}\n"
      ],
      "text/markdown": [
       "1. 1\n",
       "2. 2\n",
       "3. 3\n",
       "4. 4\n",
       "\n",
       "\n"
      ],
      "text/plain": [
       "[1] 1 2 3 4"
      ]
     },
     "metadata": {},
     "output_type": "display_data"
    }
   ],
   "source": [
    "X"
   ]
  },
  {
   "cell_type": "code",
   "execution_count": 138,
   "metadata": {},
   "outputs": [
    {
     "data": {
      "text/html": [
       "<ol class=list-inline>\n",
       "\t<li>2</li>\n",
       "\t<li>4</li>\n",
       "\t<li>6</li>\n",
       "\t<li>8</li>\n",
       "</ol>\n"
      ],
      "text/latex": [
       "\\begin{enumerate*}\n",
       "\\item 2\n",
       "\\item 4\n",
       "\\item 6\n",
       "\\item 8\n",
       "\\end{enumerate*}\n"
      ],
      "text/markdown": [
       "1. 2\n",
       "2. 4\n",
       "3. 6\n",
       "4. 8\n",
       "\n",
       "\n"
      ],
      "text/plain": [
       "[1] 2 4 6 8"
      ]
     },
     "metadata": {},
     "output_type": "display_data"
    }
   ],
   "source": [
    "X + X  # element-wise summation"
   ]
  },
  {
   "cell_type": "code",
   "execution_count": 139,
   "metadata": {},
   "outputs": [
    {
     "data": {
      "text/html": [
       "<ol class=list-inline>\n",
       "\t<li>0</li>\n",
       "\t<li>0</li>\n",
       "\t<li>0</li>\n",
       "\t<li>0</li>\n",
       "</ol>\n"
      ],
      "text/latex": [
       "\\begin{enumerate*}\n",
       "\\item 0\n",
       "\\item 0\n",
       "\\item 0\n",
       "\\item 0\n",
       "\\end{enumerate*}\n"
      ],
      "text/markdown": [
       "1. 0\n",
       "2. 0\n",
       "3. 0\n",
       "4. 0\n",
       "\n",
       "\n"
      ],
      "text/plain": [
       "[1] 0 0 0 0"
      ]
     },
     "metadata": {},
     "output_type": "display_data"
    }
   ],
   "source": [
    "X - X  # element-wise subtraction"
   ]
  },
  {
   "cell_type": "markdown",
   "metadata": {},
   "source": [
    "## Vector Operations (cont'd)"
   ]
  },
  {
   "cell_type": "code",
   "execution_count": 143,
   "metadata": {},
   "outputs": [
    {
     "data": {
      "text/html": [
       "<ol class=list-inline>\n",
       "\t<li>1</li>\n",
       "\t<li>2</li>\n",
       "\t<li>3</li>\n",
       "\t<li>4</li>\n",
       "</ol>\n"
      ],
      "text/latex": [
       "\\begin{enumerate*}\n",
       "\\item 1\n",
       "\\item 2\n",
       "\\item 3\n",
       "\\item 4\n",
       "\\end{enumerate*}\n"
      ],
      "text/markdown": [
       "1. 1\n",
       "2. 2\n",
       "3. 3\n",
       "4. 4\n",
       "\n",
       "\n"
      ],
      "text/plain": [
       "[1] 1 2 3 4"
      ]
     },
     "metadata": {},
     "output_type": "display_data"
    }
   ],
   "source": [
    "X"
   ]
  },
  {
   "cell_type": "code",
   "execution_count": 140,
   "metadata": {},
   "outputs": [
    {
     "data": {
      "text/html": [
       "<ol class=list-inline>\n",
       "\t<li>1</li>\n",
       "\t<li>8</li>\n",
       "\t<li>27</li>\n",
       "\t<li>64</li>\n",
       "</ol>\n"
      ],
      "text/latex": [
       "\\begin{enumerate*}\n",
       "\\item 1\n",
       "\\item 8\n",
       "\\item 27\n",
       "\\item 64\n",
       "\\end{enumerate*}\n"
      ],
      "text/markdown": [
       "1. 1\n",
       "2. 8\n",
       "3. 27\n",
       "4. 64\n",
       "\n",
       "\n"
      ],
      "text/plain": [
       "[1]  1  8 27 64"
      ]
     },
     "metadata": {},
     "output_type": "display_data"
    }
   ],
   "source": [
    "X^3   # element-wise exponentiation"
   ]
  },
  {
   "cell_type": "code",
   "execution_count": 141,
   "metadata": {},
   "outputs": [
    {
     "data": {
      "text/html": [
       "<ol class=list-inline>\n",
       "\t<li>1</li>\n",
       "\t<li>4</li>\n",
       "\t<li>9</li>\n",
       "\t<li>16</li>\n",
       "</ol>\n"
      ],
      "text/latex": [
       "\\begin{enumerate*}\n",
       "\\item 1\n",
       "\\item 4\n",
       "\\item 9\n",
       "\\item 16\n",
       "\\end{enumerate*}\n"
      ],
      "text/markdown": [
       "1. 1\n",
       "2. 4\n",
       "3. 9\n",
       "4. 16\n",
       "\n",
       "\n"
      ],
      "text/plain": [
       "[1]  1  4  9 16"
      ]
     },
     "metadata": {},
     "output_type": "display_data"
    }
   ],
   "source": [
    "X * X  # element-wise multiplication"
   ]
  },
  {
   "cell_type": "code",
   "execution_count": 142,
   "metadata": {},
   "outputs": [
    {
     "data": {
      "text/html": [
       "<table>\n",
       "<tbody>\n",
       "\t<tr><td>30</td></tr>\n",
       "</tbody>\n",
       "</table>\n"
      ],
      "text/latex": [
       "\\begin{tabular}{l}\n",
       "\t 30\\\\\n",
       "\\end{tabular}\n"
      ],
      "text/markdown": [
       "30"
      ],
      "text/plain": [
       "     [,1]\n",
       "[1,] 30  "
      ]
     },
     "metadata": {},
     "output_type": "display_data"
    }
   ],
   "source": [
    "X %*% X  # dot (inner) product"
   ]
  },
  {
   "cell_type": "markdown",
   "metadata": {},
   "source": [
    "## Vector comparisons\n",
    "- Comparisons are all done element-wise"
   ]
  },
  {
   "cell_type": "code",
   "execution_count": 144,
   "metadata": {},
   "outputs": [
    {
     "data": {
      "text/html": [
       "<ol class=list-inline>\n",
       "\t<li>TRUE</li>\n",
       "\t<li>TRUE</li>\n",
       "\t<li>FALSE</li>\n",
       "</ol>\n"
      ],
      "text/latex": [
       "\\begin{enumerate*}\n",
       "\\item TRUE\n",
       "\\item TRUE\n",
       "\\item FALSE\n",
       "\\end{enumerate*}\n"
      ],
      "text/markdown": [
       "1. TRUE\n",
       "2. TRUE\n",
       "3. FALSE\n",
       "\n",
       "\n"
      ],
      "text/plain": [
       "[1]  TRUE  TRUE FALSE"
      ]
     },
     "metadata": {},
     "output_type": "display_data"
    }
   ],
   "source": [
    "c(1, 2, 3) == c(1, 2, 4)"
   ]
  },
  {
   "cell_type": "code",
   "execution_count": 145,
   "metadata": {},
   "outputs": [
    {
     "data": {
      "text/html": [
       "<ol class=list-inline>\n",
       "\t<li>FALSE</li>\n",
       "\t<li>FALSE</li>\n",
       "\t<li>TRUE</li>\n",
       "</ol>\n"
      ],
      "text/latex": [
       "\\begin{enumerate*}\n",
       "\\item FALSE\n",
       "\\item FALSE\n",
       "\\item TRUE\n",
       "\\end{enumerate*}\n"
      ],
      "text/markdown": [
       "1. FALSE\n",
       "2. FALSE\n",
       "3. TRUE\n",
       "\n",
       "\n"
      ],
      "text/plain": [
       "[1] FALSE FALSE  TRUE"
      ]
     },
     "metadata": {},
     "output_type": "display_data"
    }
   ],
   "source": [
    "c(1, 2, 3) < c(1, 2, 4)"
   ]
  },
  {
   "cell_type": "code",
   "execution_count": 146,
   "metadata": {},
   "outputs": [
    {
     "data": {
      "text/html": [
       "<ol class=list-inline>\n",
       "\t<li>TRUE</li>\n",
       "\t<li>TRUE</li>\n",
       "\t<li>FALSE</li>\n",
       "</ol>\n"
      ],
      "text/latex": [
       "\\begin{enumerate*}\n",
       "\\item TRUE\n",
       "\\item TRUE\n",
       "\\item FALSE\n",
       "\\end{enumerate*}\n"
      ],
      "text/markdown": [
       "1. TRUE\n",
       "2. TRUE\n",
       "3. FALSE\n",
       "\n",
       "\n"
      ],
      "text/plain": [
       "[1]  TRUE  TRUE FALSE"
      ]
     },
     "metadata": {},
     "output_type": "display_data"
    }
   ],
   "source": [
    "c(1, 2, 3) >= c(1, 2, 4)"
   ]
  },
  {
   "cell_type": "markdown",
   "metadata": {},
   "source": [
    "- Note the double equal sign for comparing equality (one would be assignment!)\n",
    "\n",
    "## Helpful Vector Functions\n",
    "- If possible, avoid `loops` by operating over the Vector/Matrix as a whole"
   ]
  },
  {
   "cell_type": "code",
   "execution_count": 147,
   "metadata": {
    "attributes": {
     "classes": [],
     "eval": "FALSE",
     "id": ""
    }
   },
   "outputs": [
    {
     "data": {
      "text/html": [
       "2.5"
      ],
      "text/latex": [
       "2.5"
      ],
      "text/markdown": [
       "2.5"
      ],
      "text/plain": [
       "[1] 2.5"
      ]
     },
     "metadata": {},
     "output_type": "display_data"
    },
    {
     "data": {
      "text/html": [
       "1.29099444873581"
      ],
      "text/latex": [
       "1.29099444873581"
      ],
      "text/markdown": [
       "1.29099444873581"
      ],
      "text/plain": [
       "[1] 1.290994"
      ]
     },
     "metadata": {},
     "output_type": "display_data"
    },
    {
     "data": {
      "text/html": [
       "1.66666666666667"
      ],
      "text/latex": [
       "1.66666666666667"
      ],
      "text/markdown": [
       "1.66666666666667"
      ],
      "text/plain": [
       "[1] 1.666667"
      ]
     },
     "metadata": {},
     "output_type": "display_data"
    },
    {
     "data": {
      "text/html": [
       "4"
      ],
      "text/latex": [
       "4"
      ],
      "text/markdown": [
       "4"
      ],
      "text/plain": [
       "[1] 4"
      ]
     },
     "metadata": {},
     "output_type": "display_data"
    },
    {
     "data": {
      "text/html": [
       "1"
      ],
      "text/latex": [
       "1"
      ],
      "text/markdown": [
       "1"
      ],
      "text/plain": [
       "[1] 1"
      ]
     },
     "metadata": {},
     "output_type": "display_data"
    },
    {
     "data": {
      "text/html": [
       "2.5"
      ],
      "text/latex": [
       "2.5"
      ],
      "text/markdown": [
       "2.5"
      ],
      "text/plain": [
       "[1] 2.5"
      ]
     },
     "metadata": {},
     "output_type": "display_data"
    },
    {
     "data": {
      "text/html": [
       "10"
      ],
      "text/latex": [
       "10"
      ],
      "text/markdown": [
       "10"
      ],
      "text/plain": [
       "[1] 10"
      ]
     },
     "metadata": {},
     "output_type": "display_data"
    },
    {
     "data": {
      "text/html": [
       "24"
      ],
      "text/latex": [
       "24"
      ],
      "text/markdown": [
       "24"
      ],
      "text/plain": [
       "[1] 24"
      ]
     },
     "metadata": {},
     "output_type": "display_data"
    },
    {
     "data": {
      "text/html": [
       "<strong>50%:</strong> 2.5"
      ],
      "text/latex": [
       "\\textbf{50\\textbackslash{}\\%:} 2.5"
      ],
      "text/markdown": [
       "**50%:** 2.5"
      ],
      "text/plain": [
       "50% \n",
       "2.5 "
      ]
     },
     "metadata": {},
     "output_type": "display_data"
    },
    {
     "data": {
      "text/html": [
       "4"
      ],
      "text/latex": [
       "4"
      ],
      "text/markdown": [
       "4"
      ],
      "text/plain": [
       "[1] 4"
      ]
     },
     "metadata": {},
     "output_type": "display_data"
    },
    {
     "data": {
      "text/html": [
       "<ol class=list-inline>\n",
       "\t<li>1</li>\n",
       "\t<li>4</li>\n",
       "</ol>\n"
      ],
      "text/latex": [
       "\\begin{enumerate*}\n",
       "\\item 1\n",
       "\\item 4\n",
       "\\end{enumerate*}\n"
      ],
      "text/markdown": [
       "1. 1\n",
       "2. 4\n",
       "\n",
       "\n"
      ],
      "text/plain": [
       "[1] 1 4"
      ]
     },
     "metadata": {},
     "output_type": "display_data"
    }
   ],
   "source": [
    "mean(X)                # mean\n",
    "sd(X)                  # standard deviation\n",
    "var(X)                 # variance\n",
    "max(X)                 # maximum\n",
    "min(X)                 # minimum\n",
    "median(X)              # median\n",
    "sum(X)                 # sum\n",
    "prod(X)                # product\n",
    "quantile(X,probs=0.5)  # quantile for specified probs\n",
    "length(X)              # length of the vector\n",
    "range(X)               # range"
   ]
  },
  {
   "cell_type": "markdown",
   "metadata": {},
   "source": [
    "# Built-in functions\n",
    "\n",
    "## Some more built-in functions\n",
    "- We've already seen many built-in functions, but here are some more!"
   ]
  },
  {
   "cell_type": "code",
   "execution_count": 149,
   "metadata": {
    "attributes": {
     "classes": [],
     "eval": "FALSE",
     "id": ""
    }
   },
   "outputs": [
    {
     "data": {
      "text/html": [
       "<ol class=list-inline>\n",
       "\t<li>0</li>\n",
       "\t<li>0.693147180559945</li>\n",
       "\t<li>1.09861228866811</li>\n",
       "\t<li>1.38629436111989</li>\n",
       "</ol>\n"
      ],
      "text/latex": [
       "\\begin{enumerate*}\n",
       "\\item 0\n",
       "\\item 0.693147180559945\n",
       "\\item 1.09861228866811\n",
       "\\item 1.38629436111989\n",
       "\\end{enumerate*}\n"
      ],
      "text/markdown": [
       "1. 0\n",
       "2. 0.693147180559945\n",
       "3. 1.09861228866811\n",
       "4. 1.38629436111989\n",
       "\n",
       "\n"
      ],
      "text/plain": [
       "[1] 0.0000000 0.6931472 1.0986123 1.3862944"
      ]
     },
     "metadata": {},
     "output_type": "display_data"
    }
   ],
   "source": [
    "log(X)   # element-wise log"
   ]
  },
  {
   "cell_type": "code",
   "execution_count": 150,
   "metadata": {},
   "outputs": [
    {
     "data": {
      "text/html": [
       "<ol class=list-inline>\n",
       "\t<li>2.71828182845905</li>\n",
       "\t<li>7.38905609893065</li>\n",
       "\t<li>20.0855369231877</li>\n",
       "\t<li>54.5981500331442</li>\n",
       "</ol>\n"
      ],
      "text/latex": [
       "\\begin{enumerate*}\n",
       "\\item 2.71828182845905\n",
       "\\item 7.38905609893065\n",
       "\\item 20.0855369231877\n",
       "\\item 54.5981500331442\n",
       "\\end{enumerate*}\n"
      ],
      "text/markdown": [
       "1. 2.71828182845905\n",
       "2. 7.38905609893065\n",
       "3. 20.0855369231877\n",
       "4. 54.5981500331442\n",
       "\n",
       "\n"
      ],
      "text/plain": [
       "[1]  2.718282  7.389056 20.085537 54.598150"
      ]
     },
     "metadata": {},
     "output_type": "display_data"
    }
   ],
   "source": [
    "exp(X)   # element-wise exponential"
   ]
  },
  {
   "cell_type": "code",
   "execution_count": 151,
   "metadata": {},
   "outputs": [
    {
     "data": {
      "text/html": [
       "<ol class=list-inline>\n",
       "\t<li>1</li>\n",
       "\t<li>1.4142135623731</li>\n",
       "\t<li>1.73205080756888</li>\n",
       "\t<li>2</li>\n",
       "</ol>\n"
      ],
      "text/latex": [
       "\\begin{enumerate*}\n",
       "\\item 1\n",
       "\\item 1.4142135623731\n",
       "\\item 1.73205080756888\n",
       "\\item 2\n",
       "\\end{enumerate*}\n"
      ],
      "text/markdown": [
       "1. 1\n",
       "2. 1.4142135623731\n",
       "3. 1.73205080756888\n",
       "4. 2\n",
       "\n",
       "\n"
      ],
      "text/plain": [
       "[1] 1.000000 1.414214 1.732051 2.000000"
      ]
     },
     "metadata": {},
     "output_type": "display_data"
    }
   ],
   "source": [
    "sqrt(X)  # element-wise square root"
   ]
  },
  {
   "cell_type": "markdown",
   "metadata": {},
   "source": [
    "## Functions for Strings"
   ]
  },
  {
   "cell_type": "code",
   "execution_count": 153,
   "metadata": {},
   "outputs": [
    {
     "data": {
      "text/html": [
       "'one plus one equals 2 !'"
      ],
      "text/latex": [
       "'one plus one equals 2 !'"
      ],
      "text/markdown": [
       "'one plus one equals 2 !'"
      ],
      "text/plain": [
       "[1] \"one plus one equals 2 !\""
      ]
     },
     "metadata": {},
     "output_type": "display_data"
    }
   ],
   "source": [
    "# concatenate two (or more) strings\n",
    "paste('one plus one equals', 1+1, '!')"
   ]
  },
  {
   "cell_type": "code",
   "execution_count": 154,
   "metadata": {},
   "outputs": [
    {
     "data": {
      "text/html": [
       "'one plus one=2'"
      ],
      "text/latex": [
       "'one plus one=2'"
      ],
      "text/markdown": [
       "'one plus one=2'"
      ],
      "text/plain": [
       "[1] \"one plus one=2\""
      ]
     },
     "metadata": {},
     "output_type": "display_data"
    }
   ],
   "source": [
    "# specify a separator\n",
    "paste('one plus one', 1+1, sep='=')"
   ]
  },
  {
   "cell_type": "markdown",
   "metadata": {},
   "source": [
    "## Functions for Strings (cont'd)\n",
    "- Often, we want to concatenate strings with no spaces\n",
    "(e.g., when constructing filenames/paths at run-time)"
   ]
  },
  {
   "cell_type": "code",
   "execution_count": 156,
   "metadata": {},
   "outputs": [
    {
     "data": {
      "text/html": [
       "'path/to/some_file_name.csv'"
      ],
      "text/latex": [
       "'path/to/some\\_file\\_name.csv'"
      ],
      "text/markdown": [
       "'path/to/some_file_name.csv'"
      ],
      "text/plain": [
       "[1] \"path/to/some_file_name.csv\""
      ]
     },
     "metadata": {},
     "output_type": "display_data"
    },
    {
     "data": {
      "text/html": [
       "'path/to/some_file_name.csv'"
      ],
      "text/latex": [
       "'path/to/some\\_file\\_name.csv'"
      ],
      "text/markdown": [
       "'path/to/some_file_name.csv'"
      ],
      "text/plain": [
       "[1] \"path/to/some_file_name.csv\""
      ]
     },
     "metadata": {},
     "output_type": "display_data"
    }
   ],
   "source": [
    "# short-hand for concatenation w/o spaces\n",
    "filename = 'some_file_name.csv'\n",
    "paste0('path/to/', filename)\n",
    "# function specifically for constructing file paths\n",
    "file.path('path', 'to', filename)"
   ]
  },
  {
   "cell_type": "markdown",
   "metadata": {},
   "source": [
    "## Functions for Strings (cont'd)\n",
    "- To enforce upper/lower cases"
   ]
  },
  {
   "cell_type": "code",
   "execution_count": 161,
   "metadata": {},
   "outputs": [
    {
     "data": {
      "text/html": [
       "'some crazy string'"
      ],
      "text/latex": [
       "'some crazy string'"
      ],
      "text/markdown": [
       "'some crazy string'"
      ],
      "text/plain": [
       "[1] \"some crazy string\""
      ]
     },
     "metadata": {},
     "output_type": "display_data"
    }
   ],
   "source": [
    "s <- 'SoMe CraZY STRING'\n",
    "tolower(s)"
   ]
  },
  {
   "cell_type": "code",
   "execution_count": 162,
   "metadata": {},
   "outputs": [
    {
     "data": {
      "text/html": [
       "'SOME CRAZY STRING'"
      ],
      "text/latex": [
       "'SOME CRAZY STRING'"
      ],
      "text/markdown": [
       "'SOME CRAZY STRING'"
      ],
      "text/plain": [
       "[1] \"SOME CRAZY STRING\""
      ]
     },
     "metadata": {},
     "output_type": "display_data"
    }
   ],
   "source": [
    "toupper(s)"
   ]
  },
  {
   "cell_type": "markdown",
   "metadata": {},
   "source": [
    "## Generic Functions\n",
    "- Some functions for exploring objects"
   ]
  },
  {
   "cell_type": "code",
   "execution_count": 163,
   "metadata": {},
   "outputs": [
    {
     "data": {
      "text/html": [
       "<ol class=list-inline>\n",
       "\t<li>1</li>\n",
       "\t<li>2</li>\n",
       "\t<li>3</li>\n",
       "\t<li>4</li>\n",
       "\t<li>5</li>\n",
       "</ol>\n"
      ],
      "text/latex": [
       "\\begin{enumerate*}\n",
       "\\item 1\n",
       "\\item 2\n",
       "\\item 3\n",
       "\\item 4\n",
       "\\item 5\n",
       "\\end{enumerate*}\n"
      ],
      "text/markdown": [
       "1. 1\n",
       "2. 2\n",
       "3. 3\n",
       "4. 4\n",
       "5. 5\n",
       "\n",
       "\n"
      ],
      "text/plain": [
       "[1] 1 2 3 4 5"
      ]
     },
     "metadata": {},
     "output_type": "display_data"
    }
   ],
   "source": [
    "obj <- 1:100\n",
    "head(obj, n=5)  # display first n rows of obj"
   ]
  },
  {
   "cell_type": "code",
   "execution_count": 164,
   "metadata": {},
   "outputs": [
    {
     "data": {
      "text/html": [
       "<ol class=list-inline>\n",
       "\t<li>96</li>\n",
       "\t<li>97</li>\n",
       "\t<li>98</li>\n",
       "\t<li>99</li>\n",
       "\t<li>100</li>\n",
       "</ol>\n"
      ],
      "text/latex": [
       "\\begin{enumerate*}\n",
       "\\item 96\n",
       "\\item 97\n",
       "\\item 98\n",
       "\\item 99\n",
       "\\item 100\n",
       "\\end{enumerate*}\n"
      ],
      "text/markdown": [
       "1. 96\n",
       "2. 97\n",
       "3. 98\n",
       "4. 99\n",
       "5. 100\n",
       "\n",
       "\n"
      ],
      "text/plain": [
       "[1]  96  97  98  99 100"
      ]
     },
     "metadata": {},
     "output_type": "display_data"
    }
   ],
   "source": [
    "tail(obj, n=5)  # display last n rows of obj"
   ]
  },
  {
   "cell_type": "markdown",
   "metadata": {},
   "source": [
    "## Generic Functions (cont'd)"
   ]
  },
  {
   "cell_type": "code",
   "execution_count": 166,
   "metadata": {},
   "outputs": [
    {
     "name": "stdout",
     "output_type": "stream",
     "text": [
      " int [1:100] 1 2 3 4 5 6 7 8 9 10 ...\n"
     ]
    }
   ],
   "source": [
    "str(obj)  # display structure of obj"
   ]
  },
  {
   "cell_type": "code",
   "execution_count": 167,
   "metadata": {},
   "outputs": [
    {
     "data": {
      "text/plain": [
       "   Min. 1st Qu.  Median    Mean 3rd Qu.    Max. \n",
       "   1.00   25.75   50.50   50.50   75.25  100.00 "
      ]
     },
     "metadata": {},
     "output_type": "display_data"
    }
   ],
   "source": [
    "summary(obj)  # display summary of obj"
   ]
  },
  {
   "cell_type": "markdown",
   "metadata": {},
   "source": [
    "# Custom functions and control\n",
    "\n",
    "## Control Flow\n",
    "- We saw `if` statements inside of loops in the birthday problem, but we can use them outside of loops too!"
   ]
  },
  {
   "cell_type": "code",
   "execution_count": 50,
   "metadata": {
    "attributes": {
     "classes": [],
     "eval": "FALSE",
     "id": ""
    }
   },
   "outputs": [
    {
     "ename": "ERROR",
     "evalue": "Error in eval(expr, envir, enclos): object 'condition' not found\n",
     "execution_count": 50,
     "output_type": "error",
     "traceback": [
      "Error in eval(expr, envir, enclos): object 'condition' not found\nTraceback:\n"
     ]
    }
   ],
   "source": [
    "if (condition) {\n",
    "  # stuff to do when condition is TRUE\n",
    "} else if(other_condition) {  # (OPTIONAL)\n",
    "  # stuff to do if other_condition is TRUE\n",
    "} else {  # (OPTIONAL)\n",
    "  # stuff to do if all other conditions are FALSE\n",
    "}"
   ]
  },
  {
   "cell_type": "markdown",
   "metadata": {},
   "source": [
    "## Loops \n",
    "\n",
    " - We saw one type of loop in the birthday problem"
   ]
  },
  {
   "cell_type": "code",
   "execution_count": 168,
   "metadata": {},
   "outputs": [
    {
     "name": "stdout",
     "output_type": "stream",
     "text": [
      "[1] 1\n",
      "[1] 2\n",
      "[1] 3\n",
      "[1] \"Counter is now bigger than or equal to 3!\"\n",
      "[1] 4\n",
      "[1] \"Counter is now bigger than or equal to 3!\"\n",
      "[1] 5\n",
      "[1] \"Counter is now bigger than or equal to 3!\"\n"
     ]
    }
   ],
   "source": [
    "counter <- 0\n",
    "\n",
    "for (i in 1:5) {\n",
    "    counter <- counter + 1\n",
    "\n",
    "    print(counter)\n",
    "    \n",
    "    if (counter >= 3) {\n",
    "        print(\"Counter is now bigger than or equal to 3!\")\n",
    "    }\n",
    "}"
   ]
  },
  {
   "cell_type": "markdown",
   "metadata": {},
   "source": [
    " - But there's another type of loop as well, the while loop"
   ]
  },
  {
   "cell_type": "code",
   "execution_count": 169,
   "metadata": {},
   "outputs": [
    {
     "name": "stdout",
     "output_type": "stream",
     "text": [
      "[1] 1\n",
      "[1] 2\n",
      "[1] 3\n",
      "[1] \"Counter is now bigger than or equal to 3!\"\n",
      "[1] 4\n",
      "[1] \"Counter is now bigger than or equal to 3!\"\n",
      "[1] 5\n",
      "[1] \"Counter is now bigger than or equal to 3!\"\n"
     ]
    }
   ],
   "source": [
    "counter <- 0\n",
    "\n",
    "while (counter < 5){\n",
    "    counter <- counter + 1 \n",
    "    \n",
    "    print(counter)\n",
    "    \n",
    "    if (counter >=3){\n",
    "        print('Counter is now bigger than or equal to 3!')\n",
    "    }\n",
    "}"
   ]
  },
  {
   "cell_type": "markdown",
   "metadata": {},
   "source": [
    " - be careful that the condition in `while (condition){` eventually becomes false!"
   ]
  },
  {
   "cell_type": "markdown",
   "metadata": {},
   "source": [
    "## User Defined Functions\n",
    "- Write your own functions in the form"
   ]
  },
  {
   "cell_type": "code",
   "execution_count": 170,
   "metadata": {
    "attributes": {
     "classes": [],
     "eval": "FALSE",
     "id": ""
    }
   },
   "outputs": [],
   "source": [
    "name_of_function <- function(arguments) {\n",
    "  # do some stuff with arguments\n",
    "  return(result)\n",
    "}"
   ]
  },
  {
   "cell_type": "markdown",
   "metadata": {},
   "source": [
    "- You can use your functions like any other function, e.g.,"
   ]
  },
  {
   "cell_type": "code",
   "execution_count": 171,
   "metadata": {
    "attributes": {
     "classes": [],
     "eval": "FALSE",
     "id": ""
    }
   },
   "outputs": [
    {
     "ename": "ERROR",
     "evalue": "Error in name_of_function(arguments): object 'result' not found\n",
     "execution_count": 171,
     "output_type": "error",
     "traceback": [
      "Error in name_of_function(arguments): object 'result' not found\nTraceback:\n",
      "1. name_of_function(arguments)"
     ]
    }
   ],
   "source": [
    "name_of_function(arguments)  # gives you the 'result'"
   ]
  },
  {
   "cell_type": "markdown",
   "metadata": {},
   "source": [
    "## User Defined Functions: Example\n",
    "- Write a function that will take a vector in $\\mathbb{R}^3$ and tell you if you\n",
    "can make a triangle or not (i.e., return `TRUE` if a triangle can be made and \n",
    "`FALSE` otherwise.)\n",
    "- A solution is on the next slide; try writing your own without looking ahead!\n",
    "- Hint: you can make a triangle from three side lengths if and only if none of the side lengths are greater than the sum of the other two.\n",
    "## User Defined Functions: Example solution"
   ]
  },
  {
   "cell_type": "code",
   "execution_count": 172,
   "metadata": {},
   "outputs": [],
   "source": [
    "is_good <- function(vec) {\n",
    "  for (i in 1:3) {\n",
    "    # Check if element i is greater than \n",
    "    # sum of other two elements\n",
    "    if (vec[i] > sum(vec[-i])) {\n",
    "      return(FALSE)\n",
    "    }\n",
    "  }\n",
    "  return(TRUE)\n",
    "}"
   ]
  },
  {
   "cell_type": "markdown",
   "metadata": {},
   "source": [
    "## User Defined Functions: Improved solution"
   ]
  },
  {
   "cell_type": "code",
   "execution_count": 173,
   "metadata": {},
   "outputs": [],
   "source": [
    "is_good <- function(vec) {\n",
    "  if (length(vec) != 3) {\n",
    "      # Always a good idea to make sure your\n",
    "      # function gets what it expects to get\n",
    "      stop('is_good requires a vector of length 3')\n",
    "  }\n",
    "  for (i in 1:3) {\n",
    "    if (vec[i] > sum(vec[-i])) {\n",
    "      return(FALSE)\n",
    "    }\n",
    "  }\n",
    "  return(TRUE)\n",
    "}"
   ]
  },
  {
   "cell_type": "markdown",
   "metadata": {},
   "source": [
    "## `replicate`\n",
    "- Loops in `R` are inefficient, and best avoided if possible\n",
    "- Vectorize operations whenever possible.\n",
    "- `replicate` can be used to repeat some operation (function),\n",
    "  and collect the results[^apply]\n",
    "- e.g., to run `some_function()` 1,000 times and collect the results:"
   ]
  },
  {
   "cell_type": "code",
   "execution_count": 174,
   "metadata": {
    "attributes": {
     "": "",
     "classes": [],
     "id": ""
    }
   },
   "outputs": [
    {
     "ename": "ERROR",
     "evalue": "Error in some_function(): could not find function \"some_function\"\n",
     "execution_count": 174,
     "output_type": "error",
     "traceback": [
      "Error in some_function(): could not find function \"some_function\"\nTraceback:\n",
      "1. replicate(1000, some_function())",
      "2. sapply(integer(n), eval.parent(substitute(function(...) expr)), \n .     simplify = simplify)",
      "3. lapply(X = X, FUN = FUN, ...)",
      "4. FUN(X[[i]], ...)"
     ]
    }
   ],
   "source": [
    "replicate(1000, some_function())  "
   ]
  },
  {
   "cell_type": "markdown",
   "metadata": {},
   "source": [
    "[^apply]: `replicate` is actually a convenient wrapper for one of the `apply` \n",
    "functions, which are more general. See the documentation for details.\n",
    "\n",
    "\n",
    "# Exercise\n",
    "\n",
    "## The Question\n",
    "> You are given three sticks, each of a random length between 0 and 1.\n",
    "\n",
    "> What's the probability you can make a triangle?\n",
    "\n",
    "- The answer is 1/2\n",
    "- Use `R` to simulate 100,000 times and estimate the answer by\n",
    "    1. generate 100,000 triplets of uniform (0, 1) random variables\n",
    "    2. find the portion that can be made into a triangle (hint: use the\n",
    "    `is_good` function)\n",
    "\n",
    "## Answer 1: Using a for loop"
   ]
  },
  {
   "cell_type": "code",
   "execution_count": 176,
   "metadata": {
    "attributes": {
     "cache": "TRUE",
     "classes": [],
     "id": ""
    }
   },
   "outputs": [],
   "source": [
    "N <- 1e5;\n",
    "m <- 0\n",
    "for (i in 1:N) {\n",
    "   X <- runif(3)\n",
    "    if (is_good(X)) {\n",
    "        m <- m + 1\n",
    "    }\n",
    "  }\n"
   ]
  },
  {
   "cell_type": "markdown",
   "metadata": {},
   "source": [
    "## Answer 2: No loop"
   ]
  },
  {
   "cell_type": "code",
   "execution_count": 60,
   "metadata": {
    "attributes": {
     "cache": "TRUE",
     "classes": [],
     "id": ""
    }
   },
   "outputs": [
    {
     "name": "stdout",
     "output_type": "stream",
     "text": [
      "50.13%\n"
     ]
    },
    {
     "data": {
      "text/plain": [
       "   user  system elapsed \n",
       "  0.520   0.000   0.517 "
      ]
     },
     "metadata": {},
     "output_type": "display_data"
    }
   ],
   "source": [
    "system.time({  # measure execution time\n",
    "  N <- 1e5;\n",
    "  m <- replicate(N, is_good(runif(3)))\n",
    "  cat(sprintf('%.2f%%\\n',  mean(m) * 100 ))\n",
    "})"
   ]
  },
  {
   "cell_type": "markdown",
   "metadata": {},
   "source": [
    "# Packages\n",
    "\n",
    "## Installing `R` Packages\n",
    "- `R` has many (*MANY*) packages created by other users that implement\n",
    "state-of-the-art tools (e.g., data manipulation, statistical models)\n",
    "- These packages can be downloaded from the Comprehensive R Archive Network (CRAN)\n",
    "- This is as simple as running a single line of code:"
   ]
  },
  {
   "cell_type": "code",
   "execution_count": null,
   "metadata": {
    "attributes": {
     "classes": [],
     "eval": "FALSE",
     "id": ""
    }
   },
   "outputs": [],
   "source": [
    "install.packages(\"package name\")"
   ]
  },
  {
   "cell_type": "markdown",
   "metadata": {},
   "source": [
    "- You will have to select one of many CRAN mirrors (copies across different\n",
    "servers) from which to download the package from\n",
    "- For example, to install the `tidyverse` package, run"
   ]
  },
  {
   "cell_type": "code",
   "execution_count": null,
   "metadata": {
    "attributes": {
     "classes": [],
     "eval": "FALSE",
     "id": ""
    }
   },
   "outputs": [],
   "source": [
    "install.packages(\"tidyverse\")"
   ]
  },
  {
   "cell_type": "markdown",
   "metadata": {},
   "source": [
    "- You only need to do this *once* for each machine\n",
    "\n",
    "\n",
    "## Loading Packages\n",
    "- Once you've installed a package on a machine, you can load the package into\n",
    "your current workspace with the `library()` command\n",
    "- For example, to use the `tidyverse` package, first load it with"
   ]
  },
  {
   "cell_type": "code",
   "execution_count": null,
   "metadata": {
    "attributes": {
     "classes": [],
     "eval": "FALSE",
     "id": ""
    }
   },
   "outputs": [],
   "source": [
    "library(\"tidyverse\")"
   ]
  },
  {
   "cell_type": "markdown",
   "metadata": {},
   "source": [
    "- You can also use specific functions from a package without loading it,\n",
    "  by telling `R` which package the function belongs to with a namespace prefix,\n",
    "  `package_name::`.\n",
    "- For example, to use the `round_any()` function from the `plyr` package,\n",
    "  without actually loading `plyr`, write"
   ]
  },
  {
   "cell_type": "code",
   "execution_count": null,
   "metadata": {
    "attributes": {
     "classes": [],
     "eval": "FALSE",
     "id": ""
    }
   },
   "outputs": [],
   "source": [
    "# Assuming plyr is installed\n",
    "plyr::round_any()"
   ]
  },
  {
   "cell_type": "markdown",
   "metadata": {},
   "source": [
    "## Namespace collision\n",
    "- One of the (unfortunately many) things that `R` is bad at is preventing\n",
    "  namespace collisions\n",
    "- For example, the packages `plyr` and `dplyr`[^dplyr] have functions that are\n",
    "  named the same (e.g, `mutate()`, `summarize()`), and if you ever load both,\n",
    "  `R` will only \"see\" the function belonging to the package you loaded later\n",
    "- So beware of what packages you load, and if you only intend to use a function\n",
    "  or two, consider just specifying the namespace with `::`, instead of loading\n",
    "  the whole package.\n",
    "\n",
    "[^dplyr]: `dplyr` is part the tidyverse, and loaded when you load `tidyverse`"
   ]
  }
 ],
 "metadata": {
  "kernelspec": {
   "display_name": "R",
   "language": "R",
   "name": "ir"
  },
  "language_info": {
   "codemirror_mode": "r",
   "file_extension": ".r",
   "mimetype": "text/x-r-source",
   "name": "R",
   "pygments_lexer": "r",
   "version": "3.4.4"
  }
 },
 "nbformat": 4,
 "nbformat_minor": 2
}
