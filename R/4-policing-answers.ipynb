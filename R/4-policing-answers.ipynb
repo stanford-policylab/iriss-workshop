{
 "cells": [
  {
   "cell_type": "markdown",
   "metadata": {},
   "source": [
    "# Using R to analyze racial disparities in SF traffic stops\n",
    "\n",
    "To start getting our hands dirty with applying our `R` skills, we're going to explore San Francisco's traffic stops. Our goals today are twofold:\n",
    "1. To learn how to use `R` to deal with data and to answer policy questions. In addition to data-munging, we'll be computing descriptive statistics, plotting and even doing some modeling!\n",
    "2. To get in the data science mindset: learning how to answer questions about social policies using data. In our case, we'll investigate whether there is racial discrimination in SF's policing practices, and we'll evaluate the impacts of certain policy changes like the legalization of marijuana.\n",
    "\n",
    "## Getting started \n",
    "\n",
    "First, let's load the necessary libraries and data that will allow us to begin our investigation!"
   ]
  },
  {
   "cell_type": "code",
   "execution_count": 25,
   "metadata": {},
   "outputs": [
    {
     "data": {
      "text/html": [
       "'/home/amyshoe/iriss-workshop/R'"
      ],
      "text/latex": [
       "'/home/amyshoe/iriss-workshop/R'"
      ],
      "text/markdown": [
       "'/home/amyshoe/iriss-workshop/R'"
      ],
      "text/plain": [
       "[1] \"/home/amyshoe/iriss-workshop/R\""
      ]
     },
     "metadata": {},
     "output_type": "display_data"
    }
   ],
   "source": [
    "# Some initial setup\n",
    "options(digits = 3)\n",
    "library(tidyverse)\n",
    "library(lubridate)\n",
    "theme_set(theme_bw())\n",
    "getwd()\n",
    "\n",
    "# Read the data\n",
    "stops <- read_rds(\"data/san_francisco_stop_data.rds\")\n",
    "pop_2015 <- read_rds(\"data/sf_pop_2015.rds\")"
   ]
  },
  {
   "cell_type": "markdown",
   "metadata": {},
   "source": [
    "### Covering the basics\n",
    "\n",
    "The core of `R` is the dataframe. We've given you one to start with, in the form\n",
    "of `stops`. Think of dataframes like a spreadsheet: they have rows and columns.\n",
    "Usually, rows are a \"datapoint\": in `stops`, each row corresponds to a single\n",
    "stop from San Francisco. The columns are the \"variables\": again, in `stops`,\n",
    "these are the things we know about the stop, like where the stop happened, the\n",
    "age of the driver, whether an arrest was made, and so on.\n",
    "\n",
    "We can take a peak simply by typing `stops` into an R chunk:"
   ]
  },
  {
   "cell_type": "code",
   "execution_count": 2,
   "metadata": {},
   "outputs": [
    {
     "data": {
      "text/html": [
       "'/home/amyshoe/iriss-workshop/R'"
      ],
      "text/latex": [
       "'/home/amyshoe/iriss-workshop/R'"
      ],
      "text/markdown": [
       "'/home/amyshoe/iriss-workshop/R'"
      ],
      "text/plain": [
       "[1] \"/home/amyshoe/iriss-workshop/R\""
      ]
     },
     "metadata": {},
     "output_type": "display_data"
    }
   ],
   "source": [
    "head(stops)"
   ]
  },
  {
   "cell_type": "markdown",
   "metadata": {},
   "source": [
    "### Functions\n",
    "\n",
    "Functions are a way to \"do something\" to an input. So `f(a)=b` takes a number `a`, and applies `f()`, and gets the output `b`. In programming, we also have functions! Most of the functions we'll use allow us to manipulate our dataframe as the input. \n",
    "\n",
    "The function `head(stops)` gave us the first 6 rows of our data frame. If we want to find the number of rows in our dataframe, we'd use the function `nrow()`, which takes a dataframe (like `stops`) as an input, and then outputs an integer (the number of rows in `stops`)."
   ]
  },
  {
   "cell_type": "code",
   "execution_count": 5,
   "metadata": {},
   "outputs": [
    {
     "data": {
      "text/html": [
       "851391"
      ],
      "text/latex": [
       "851391"
      ],
      "text/markdown": [
       "851391"
      ],
      "text/plain": [
       "[1] 851391"
      ]
     },
     "metadata": {},
     "output_type": "display_data"
    }
   ],
   "source": [
    "nrow(stops)"
   ]
  },
  {
   "cell_type": "markdown",
   "metadata": {},
   "source": [
    "### Your turn\n",
    "\n",
    "To find the number of columns, we (unsurprisingly) use `ncol`. Try it!"
   ]
  },
  {
   "cell_type": "code",
   "execution_count": 6,
   "metadata": {},
   "outputs": [
    {
     "data": {
      "text/html": [
       "13"
      ],
      "text/latex": [
       "13"
      ],
      "text/markdown": [
       "13"
      ],
      "text/plain": [
       "[1] 13"
      ]
     },
     "metadata": {},
     "output_type": "display_data"
    }
   ],
   "source": [
    "# Find the number of columns in `stops`\n",
    "# START\n",
    "ncol(stops)\n",
    "# END"
   ]
  },
  {
   "cell_type": "markdown",
   "metadata": {},
   "source": [
    "To figure out what the names of our columns are, we can use `colnames()`."
   ]
  },
  {
   "cell_type": "code",
   "execution_count": 7,
   "metadata": {},
   "outputs": [
    {
     "data": {
      "text/html": [
       "<ol class=list-inline>\n",
       "\t<li>'date'</li>\n",
       "\t<li>'time'</li>\n",
       "\t<li>'location'</li>\n",
       "\t<li>'lat'</li>\n",
       "\t<li>'lng'</li>\n",
       "\t<li>'district'</li>\n",
       "\t<li>'age'</li>\n",
       "\t<li>'race'</li>\n",
       "\t<li>'gender'</li>\n",
       "\t<li>'arrested'</li>\n",
       "\t<li>'contraband_found'</li>\n",
       "\t<li>'searched'</li>\n",
       "\t<li>'reason_for_stop'</li>\n",
       "</ol>\n"
      ],
      "text/latex": [
       "\\begin{enumerate*}\n",
       "\\item 'date'\n",
       "\\item 'time'\n",
       "\\item 'location'\n",
       "\\item 'lat'\n",
       "\\item 'lng'\n",
       "\\item 'district'\n",
       "\\item 'age'\n",
       "\\item 'race'\n",
       "\\item 'gender'\n",
       "\\item 'arrested'\n",
       "\\item 'contraband\\_found'\n",
       "\\item 'searched'\n",
       "\\item 'reason\\_for\\_stop'\n",
       "\\end{enumerate*}\n"
      ],
      "text/markdown": [
       "1. 'date'\n",
       "2. 'time'\n",
       "3. 'location'\n",
       "4. 'lat'\n",
       "5. 'lng'\n",
       "6. 'district'\n",
       "7. 'age'\n",
       "8. 'race'\n",
       "9. 'gender'\n",
       "10. 'arrested'\n",
       "11. 'contraband_found'\n",
       "12. 'searched'\n",
       "13. 'reason_for_stop'\n",
       "\n",
       "\n"
      ],
      "text/plain": [
       " [1] \"date\"             \"time\"             \"location\"         \"lat\"             \n",
       " [5] \"lng\"              \"district\"         \"age\"              \"race\"            \n",
       " [9] \"gender\"           \"arrested\"         \"contraband_found\" \"searched\"        \n",
       "[13] \"reason_for_stop\" "
      ]
     },
     "metadata": {},
     "output_type": "display_data"
    }
   ],
   "source": [
    "# Find the column names in `stops`\n",
    "# START\n",
    "colnames(stops)\n",
    "# END"
   ]
  },
  {
   "cell_type": "markdown",
   "metadata": {},
   "source": [
    "**Pro-tip:** If you're ever confused about a function and want to know more about it, what it does, how to use it, etc., every function has \"documentation\" to help! To know more about the `head()` function, simply run a code chunk with `?head`. It provides way more information than you might want or need -- but if you scroll down to the \"Examples\" section, those usually help!"
   ]
  },
  {
   "cell_type": "markdown",
   "metadata": {},
   "source": [
    "## Exercise 1: Stop dates\n",
    "\n",
    "For this first exercise, let's get a better sense of what time range our `stops` data covers. To do this, we'll be dealing with the `date` column in our dataframe. \n",
    "\n",
    "1. There are two ways to extract dates from our `stops` dataframe: `stops$date` and `pull(stops, date)`. Basically,`$` and `pull()` do the same thing. Run a code chunk with one of these to see what the output looks like.\n",
    "\n",
    "2. What date range does our dataset cover? (Hint: Try exploring the `min()` and `max()` functions, or the `range()` function!)"
   ]
  },
  {
   "cell_type": "code",
   "execution_count": 8,
   "metadata": {},
   "outputs": [
    {
     "data": {
      "text/plain": [
       "[1] \"2007-01-01\" \"2016-06-30\""
      ]
     },
     "metadata": {},
     "output_type": "display_data"
    }
   ],
   "source": [
    "## EXERCISE 1: YOUR CODE HERE\n",
    "# START\n",
    "# 1. \n",
    "# We get a list of the date each stop occurred on. \n",
    "# Both methods ($ and pull) do the same thing, they\n",
    "# extract the column `date` from the df.\n",
    "\n",
    "# 2. \n",
    "range(stops$date)\n",
    "# END"
   ]
  },
  {
   "cell_type": "markdown",
   "metadata": {},
   "source": [
    "Take a look at the two versions of the code below. Notice that they do the same thing. The \"pipe\" symbol -- `%>%` -- allows us to string functions together vertically, instead of nesting them."
   ]
  },
  {
   "cell_type": "code",
   "execution_count": 8,
   "metadata": {},
   "outputs": [
    {
     "data": {
      "text/plain": [
       "[1] \"2007-01-01\" \"2016-06-30\""
      ]
     },
     "metadata": {},
     "output_type": "display_data"
    },
    {
     "data": {
      "text/plain": [
       "[1] \"2007-01-01\" \"2016-06-30\""
      ]
     },
     "metadata": {},
     "output_type": "display_data"
    }
   ],
   "source": [
    "# Confirm that these give the same answer:\n",
    "\n",
    "# Method 1: nested\n",
    "range(pull(stops, date))\n",
    "\n",
    "# Method 2: multi-line\n",
    "stops %>% \n",
    "    pull(date) %>% \n",
    "    range()\n"
   ]
  },
  {
   "cell_type": "markdown",
   "metadata": {},
   "source": [
    "**tidyverse tip**: The second method uses a funky symbol, `%>%` called the \"pipe\", which is the crux of the tidyverse. The pipe helps to keep our code clean. It allows us to read top-down rather than inside-out (which is what method 1 above requires of us). Each line simply applies to the result of the previous line:\n",
    "* We start with `stops`,\n",
    "* then we apply `pull(date)` to the above (stops), getting us a list of dates,\n",
    "* then we apply `range()` to the above (a list of dates).\n",
    "\n",
    "More formally, the pipe operator\n",
    "just places the previous item into the first argument of the function. So,\n",
    "`x %>% f()` is simply `f(x)`. While in a one-function call the pipe might feel\n",
    "silly and unnecessary, it's going to become _really_ helpful once we start\n",
    "wanting to do multiple transformations to our data. "
   ]
  },
  {
   "cell_type": "markdown",
   "metadata": {},
   "source": [
    "## Preparing our data\n",
    "\n",
    "For some of our analysis, we'll want to focus on the most recent full year: 2015.\n",
    "\n",
    "To do this we'll want to use the _year_ of each stop, but _year_ isn't currently a column in our dataset. Let's add it!"
   ]
  },
  {
   "cell_type": "markdown",
   "metadata": {},
   "source": [
    "**tidyverse function: `mutate()`**\n",
    "\n",
    "We can use the `mutate()` function to fix add a `yr` column to `stops`.\n",
    "The `mutate()` function adds new columns to a dataframe based on old columns.\n",
    "The basic setup is `mutate(DATA, NEW_COL = FUN(OLD_COL))` where \n",
    "* `DATA` is our\n",
    "dataframe, \n",
    "* `NEW_COL` is the name of the new column we want, and \n",
    "* `FUN` is the function we apply to the old column, `OLD_COL`, to get it.\n",
    "\n",
    "### You try!\n",
    "\n",
    "In the space below:\n",
    "\n",
    "1. use the `year()` and `mutate()` functions to add a new column called `yr` to our `stops` dataframe, and\n",
    "2. use the assignment operator `<-` (it's like = in `R`) to create a new variable, `stops_w_yr`."
   ]
  },
  {
   "cell_type": "code",
   "execution_count": 28,
   "metadata": {},
   "outputs": [],
   "source": [
    "# Add a yr column to `stops`\n",
    "# START\n",
    "stops_w_yr <- stops %>% \n",
    "    mutate(yr = year(date))\n",
    "# END"
   ]
  },
  {
   "cell_type": "markdown",
   "metadata": {},
   "source": [
    "**Recall:** When we write code chunks and _don't_ save our result using `<-`, that result does not overwrite or in any way change the data. To change the data, we need to use the process above, creating a new variable, or we could overwrite the original dataframe (`stops <- stops %>% ...` -- but be careful, because you could accidentally overwrite the dataframe with something you didn't expect!)"
   ]
  },
  {
   "cell_type": "markdown",
   "metadata": {},
   "source": [
    "Now, we can investigate this new `yr` column in a few ways. \n",
    "1. We can check it's acutally there by looking at `colnames(stops_w_yr)`.\n",
    "2. We can compute the range of years using `range(stops_w_yr$yr)`.\n",
    "3. We can count the number of stops per year: `stops_w_yr %>% count(yr)`. \n",
    "\n",
    "### You try\n",
    "\n",
    "Play around with these! Make sure to try the last one."
   ]
  },
  {
   "cell_type": "code",
   "execution_count": 12,
   "metadata": {},
   "outputs": [
    {
     "data": {
      "text/html": [
       "<table>\n",
       "<thead><tr><th scope=col>yr</th><th scope=col>n</th></tr></thead>\n",
       "<tbody>\n",
       "\t<tr><td>2007  </td><td>102131</td></tr>\n",
       "\t<tr><td>2008  </td><td>113099</td></tr>\n",
       "\t<tr><td>2009  </td><td>110269</td></tr>\n",
       "\t<tr><td>2010  </td><td>104254</td></tr>\n",
       "\t<tr><td>2011  </td><td> 99476</td></tr>\n",
       "\t<tr><td>2012  </td><td> 82362</td></tr>\n",
       "\t<tr><td>2013  </td><td> 74144</td></tr>\n",
       "\t<tr><td>2014  </td><td> 39752</td></tr>\n",
       "\t<tr><td>2015  </td><td> 85689</td></tr>\n",
       "\t<tr><td>2016  </td><td> 40215</td></tr>\n",
       "</tbody>\n",
       "</table>\n"
      ],
      "text/latex": [
       "\\begin{tabular}{r|ll}\n",
       " yr & n\\\\\n",
       "\\hline\n",
       "\t 2007   & 102131\\\\\n",
       "\t 2008   & 113099\\\\\n",
       "\t 2009   & 110269\\\\\n",
       "\t 2010   & 104254\\\\\n",
       "\t 2011   &  99476\\\\\n",
       "\t 2012   &  82362\\\\\n",
       "\t 2013   &  74144\\\\\n",
       "\t 2014   &  39752\\\\\n",
       "\t 2015   &  85689\\\\\n",
       "\t 2016   &  40215\\\\\n",
       "\\end{tabular}\n"
      ],
      "text/plain": [
       "   yr   n     \n",
       "1  2007 102131\n",
       "2  2008 113099\n",
       "3  2009 110269\n",
       "4  2010 104254\n",
       "5  2011  99476\n",
       "6  2012  82362\n",
       "7  2013  74144\n",
       "8  2014  39752\n",
       "9  2015  85689\n",
       "10 2016  40215"
      ]
     },
     "metadata": {},
     "output_type": "display_data"
    }
   ],
   "source": [
    "# Investigate your new `yr` column. \n",
    "# Make sure to try counting the number of stops per year!\n",
    "# START\n",
    "stops_w_yr %>%\n",
    "    count(yr)\n",
    "# END"
   ]
  },
  {
   "cell_type": "markdown",
   "metadata": {},
   "source": [
    "Looks like stops over the years are going down slightly. But there are two weird abberations: 2013 and 2016 seem _too_ low. "
   ]
  },
  {
   "cell_type": "markdown",
   "metadata": {},
   "source": [
    "### Back to data prep\n",
    "\n",
    "Now let's get back to prepping our data. To get to our desired date range of the most recent full year (2015), we will \n",
    "1. Use the `filter()` function to specify the years we want, and \n",
    "2. Again use the assignment operator `<-` (it's like = in `R`) to create a new variable, `stops_2015`."
   ]
  },
  {
   "cell_type": "markdown",
   "metadata": {},
   "source": [
    "**tidyverse function: `filter()`**\n",
    "\n",
    "* The `filter()` function is used to separate rows from the dataframe that\n",
    "interest us from rows that do not. \n",
    "* In particular, `filter(DATA, CONDITION)`\n",
    "returns `DATA` with all of the rows that satisfy `CONDITION` removed. \n",
    "* For\n",
    "instance, we might want to only look at stops from 2015. To do this, we would type `stops %>% filter(yr == 2015)`, since we only want\n",
    "rows from `stops` where the `yr` column is (i.e., `==`) `2015`. \n",
    "* We can also filter on multiple conditions, just separating each condition with a comma. So, for example, if we wanted all stops between 2011 and 2015, we would write `stops %>% filter(yr >= 2011, yr <=2015)`.\n",
    "\n",
    "### Your turn\n",
    "\n",
    "Create a new variable, `stops_2015` that is our stops dataframe filtered to just those that happened in the year (`yr`) 2015. "
   ]
  },
  {
   "cell_type": "code",
   "execution_count": 29,
   "metadata": {},
   "outputs": [],
   "source": [
    "# Use the filter function to get just stops from 2015\n",
    "# START\n",
    "stops_2015 <- \n",
    "    stops_w_yr %>%\n",
    "    filter(yr == 2015)\n",
    "# END"
   ]
  },
  {
   "cell_type": "markdown",
   "metadata": {},
   "source": [
    "Just to be extra sure, let's check our date range in this new dataframe, `stops_2015`!"
   ]
  },
  {
   "cell_type": "code",
   "execution_count": 30,
   "metadata": {},
   "outputs": [
    {
     "data": {
      "text/plain": [
       "[1] \"2015-01-01\" \"2015-12-31\""
      ]
     },
     "metadata": {},
     "output_type": "display_data"
    }
   ],
   "source": [
    "# What date range does stops_2015 cover?\n",
    "# START\n",
    "stops_2015$date %>% range()\n",
    "# END"
   ]
  },
  {
   "cell_type": "markdown",
   "metadata": {},
   "source": [
    "### Another one!\n",
    "\n",
    "Look back and the stop counts by year -- are there any years that look suspicious? (Remember, 2014 looked pretty low.) How could we use `filter()` and `range()` to investigate whether suspiciously low years have a full year of data?"
   ]
  },
  {
   "cell_type": "code",
   "execution_count": 31,
   "metadata": {},
   "outputs": [
    {
     "data": {
      "text/plain": [
       "[1] \"2014-01-01\" \"2014-05-30\""
      ]
     },
     "metadata": {},
     "output_type": "display_data"
    }
   ],
   "source": [
    "# Try it out!\n",
    "# START\n",
    "stops_w_yr %>%\n",
    "    filter(yr == 2014) %>%\n",
    "    pull(date) %>%\n",
    "    range()\n",
    "# END"
   ]
  },
  {
   "cell_type": "markdown",
   "metadata": {},
   "source": [
    "## Getting multiple answers at once!\n",
    "\n",
    "To answer the problem above for a _different_ year, we'd have to filter to again to that individual year of data and test the date range of that year. Instead of doing this _for each_ year separately, let's do it all in one go! \n",
    "\n",
    "To do this, we basically want to apply the same command to each of the years, rather than filtering one at a time to each year. The key to doing this type of manipulation uses two new functions: `group_by` and `summarize`.\n",
    "\n",
    "**tidyverse functions: `group_by()` and `summarize()`**\n",
    "\n",
    "One thing that we often want to do with data is disaggregate it. That is, we\n",
    "might want to take the data and break it down into smaller subpopulations. Then,\n",
    "when we ask questions, we can ask about each piece---for instance, each\n",
    "demographic group, each year, or each police district---instead of asking about the population as a whole.\n",
    "\n",
    "The way to do this in `R` is with `group_by()` and `summarize()`. The standard way\n",
    "to use `group_by()` is to call `group_by(DATA, COL_NAME)`, where \n",
    "* `DATA` is our dataframe and \n",
    "* `COL_NAME` is the name of a column. \n",
    "What `group_by()` then does is\n",
    "take all the rows in the dataframe `DATA` and put them into different groups,\n",
    "one for each different value in the column `COL_NAME`. So, for instance, if we\n",
    "called `group_by(stops_w_yr, district)`, `R` would hand back to us the `stops_w_yr`\n",
    "dataframe with all of its columns broken into different groups, one for each\n",
    "police district. (Note: At this stage, the dataframe doesn't _look_ any different to the human eye, since the groupings are happening behind the scenes.)\n",
    "\n",
    "Try it below!"
   ]
  },
  {
   "cell_type": "code",
   "execution_count": null,
   "metadata": {},
   "outputs": [],
   "source": [
    "stops_w_yr %>%\n",
    "    group_by(district)"
   ]
  },
  {
   "cell_type": "markdown",
   "metadata": {},
   "source": [
    "The second step is to do something with those groups. That's what `summarize()`\n",
    "does. The way `summarize()` works is to take a dataframe broken into groups by\n",
    "`group_by()` and calculate a statistic for each group. The basic syntax is\n",
    "`summarize(DATA, STAT = FUN(COL_NAME))`, where \n",
    "* `DATA` is some dataframe broken\n",
    "up by `group_by()`, \n",
    "* `STAT` is some statistic we want to calculate, \n",
    "* `FUN` is the\n",
    "function that calculates that statistic, and \n",
    "* `COL_NAME` is the name of the\n",
    "column (or columns) used to calculate the statistic.\n",
    "\n",
    "Let's put it all together with a few examples first."
   ]
  },
  {
   "cell_type": "code",
   "execution_count": 62,
   "metadata": {},
   "outputs": [
    {
     "data": {
      "text/html": [
       "<table>\n",
       "<thead><tr><th scope=col>district</th><th scope=col>n_stops</th><th scope=col>n_arrests</th><th scope=col>arrest_rate</th></tr></thead>\n",
       "<tbody>\n",
       "\t<tr><td>A      </td><td> 69677 </td><td> 631   </td><td>0.00906</td></tr>\n",
       "\t<tr><td>B      </td><td>105867 </td><td>1165   </td><td>0.01100</td></tr>\n",
       "\t<tr><td>C      </td><td> 95406 </td><td>1473   </td><td>0.01544</td></tr>\n",
       "\t<tr><td>D      </td><td> 87702 </td><td>1874   </td><td>0.02137</td></tr>\n",
       "\t<tr><td>E      </td><td> 73846 </td><td> 969   </td><td>0.01312</td></tr>\n",
       "\t<tr><td>F      </td><td> 61713 </td><td> 640   </td><td>0.01037</td></tr>\n",
       "\t<tr><td>G      </td><td> 85276 </td><td> 969   </td><td>0.01136</td></tr>\n",
       "\t<tr><td>H      </td><td>117520 </td><td>1858   </td><td>0.01581</td></tr>\n",
       "\t<tr><td>I      </td><td>108213 </td><td>1121   </td><td>0.01036</td></tr>\n",
       "\t<tr><td>J      </td><td> 46171 </td><td> 764   </td><td>0.01655</td></tr>\n",
       "</tbody>\n",
       "</table>\n"
      ],
      "text/latex": [
       "\\begin{tabular}{r|llll}\n",
       " district & n\\_stops & n\\_arrests & arrest\\_rate\\\\\n",
       "\\hline\n",
       "\t A       &  69677  &  631    & 0.00906\\\\\n",
       "\t B       & 105867  & 1165    & 0.01100\\\\\n",
       "\t C       &  95406  & 1473    & 0.01544\\\\\n",
       "\t D       &  87702  & 1874    & 0.02137\\\\\n",
       "\t E       &  73846  &  969    & 0.01312\\\\\n",
       "\t F       &  61713  &  640    & 0.01037\\\\\n",
       "\t G       &  85276  &  969    & 0.01136\\\\\n",
       "\t H       & 117520  & 1858    & 0.01581\\\\\n",
       "\t I       & 108213  & 1121    & 0.01036\\\\\n",
       "\t J       &  46171  &  764    & 0.01655\\\\\n",
       "\\end{tabular}\n"
      ],
      "text/plain": [
       "   district n_stops n_arrests arrest_rate\n",
       "1  A         69677   631      0.00906    \n",
       "2  B        105867  1165      0.01100    \n",
       "3  C         95406  1473      0.01544    \n",
       "4  D         87702  1874      0.02137    \n",
       "5  E         73846   969      0.01312    \n",
       "6  F         61713   640      0.01037    \n",
       "7  G         85276   969      0.01136    \n",
       "8  H        117520  1858      0.01581    \n",
       "9  I        108213  1121      0.01036    \n",
       "10 J         46171   764      0.01655    "
      ]
     },
     "metadata": {},
     "output_type": "display_data"
    }
   ],
   "source": [
    "stops_w_yr %>%\n",
    "    group_by(district) %>%\n",
    "    summarize(\n",
    "        # The function n() just gives us the number of rows in each gropu\n",
    "        n_stops = n(),\n",
    "        n_arrests = sum(arrested),\n",
    "        arrest_rate = n_arrests / n_stops\n",
    "    )"
   ]
  },
  {
   "cell_type": "code",
   "execution_count": 63,
   "metadata": {},
   "outputs": [
    {
     "data": {
      "text/html": [
       "<table>\n",
       "<thead><tr><th scope=col>district</th><th scope=col>most_recent_stop</th></tr></thead>\n",
       "<tbody>\n",
       "\t<tr><td>A         </td><td>2016-06-30</td></tr>\n",
       "\t<tr><td>B         </td><td>2016-06-30</td></tr>\n",
       "\t<tr><td>C         </td><td>2016-06-30</td></tr>\n",
       "\t<tr><td>D         </td><td>2016-06-30</td></tr>\n",
       "\t<tr><td>E         </td><td>2016-06-30</td></tr>\n",
       "\t<tr><td>F         </td><td>2016-06-30</td></tr>\n",
       "\t<tr><td>G         </td><td>2016-06-30</td></tr>\n",
       "\t<tr><td>H         </td><td>2016-06-30</td></tr>\n",
       "\t<tr><td>I         </td><td>2016-06-30</td></tr>\n",
       "\t<tr><td>J         </td><td>2016-06-30</td></tr>\n",
       "</tbody>\n",
       "</table>\n"
      ],
      "text/latex": [
       "\\begin{tabular}{r|ll}\n",
       " district & most\\_recent\\_stop\\\\\n",
       "\\hline\n",
       "\t A          & 2016-06-30\\\\\n",
       "\t B          & 2016-06-30\\\\\n",
       "\t C          & 2016-06-30\\\\\n",
       "\t D          & 2016-06-30\\\\\n",
       "\t E          & 2016-06-30\\\\\n",
       "\t F          & 2016-06-30\\\\\n",
       "\t G          & 2016-06-30\\\\\n",
       "\t H          & 2016-06-30\\\\\n",
       "\t I          & 2016-06-30\\\\\n",
       "\t J          & 2016-06-30\\\\\n",
       "\\end{tabular}\n"
      ],
      "text/plain": [
       "   district most_recent_stop\n",
       "1  A        2016-06-30      \n",
       "2  B        2016-06-30      \n",
       "3  C        2016-06-30      \n",
       "4  D        2016-06-30      \n",
       "5  E        2016-06-30      \n",
       "6  F        2016-06-30      \n",
       "7  G        2016-06-30      \n",
       "8  H        2016-06-30      \n",
       "9  I        2016-06-30      \n",
       "10 J        2016-06-30      "
      ]
     },
     "metadata": {},
     "output_type": "display_data"
    }
   ],
   "source": [
    "stops_w_yr %>%\n",
    "    group_by(district) %>%\n",
    "    summarize(most_recent_stop = max(date))"
   ]
  },
  {
   "cell_type": "markdown",
   "metadata": {},
   "source": [
    "## Exercise 2: Date ranges by year\n",
    "\n",
    "Using your new friends `group_by` and `summarize`, compute the min and max dates for each year. (Hint: Using `range()` alone will give you an error, because it returns two values, which we can't shove into one column. Try using `min()` and `max()` to make two separate columns, or you can try doing some wizardly string magic to make a single column out of the `range()` output!)"
   ]
  },
  {
   "cell_type": "code",
   "execution_count": 71,
   "metadata": {},
   "outputs": [
    {
     "data": {
      "text/html": [
       "<table>\n",
       "<thead><tr><th scope=col>yr</th><th scope=col>min_date</th><th scope=col>max_date</th></tr></thead>\n",
       "<tbody>\n",
       "\t<tr><td>2007      </td><td>2007-01-01</td><td>2007-12-31</td></tr>\n",
       "\t<tr><td>2008      </td><td>2008-01-01</td><td>2008-12-31</td></tr>\n",
       "\t<tr><td>2009      </td><td>2009-01-01</td><td>2009-12-31</td></tr>\n",
       "\t<tr><td>2010      </td><td>2010-01-01</td><td>2010-12-31</td></tr>\n",
       "\t<tr><td>2011      </td><td>2011-01-01</td><td>2011-12-31</td></tr>\n",
       "\t<tr><td>2012      </td><td>2012-01-01</td><td>2012-12-31</td></tr>\n",
       "\t<tr><td>2013      </td><td>2013-01-01</td><td>2013-12-31</td></tr>\n",
       "\t<tr><td>2014      </td><td>2014-01-01</td><td>2014-05-30</td></tr>\n",
       "\t<tr><td>2015      </td><td>2015-01-01</td><td>2015-12-31</td></tr>\n",
       "\t<tr><td>2016      </td><td>2016-01-01</td><td>2016-06-30</td></tr>\n",
       "</tbody>\n",
       "</table>\n"
      ],
      "text/latex": [
       "\\begin{tabular}{r|lll}\n",
       " yr & min\\_date & max\\_date\\\\\n",
       "\\hline\n",
       "\t 2007       & 2007-01-01 & 2007-12-31\\\\\n",
       "\t 2008       & 2008-01-01 & 2008-12-31\\\\\n",
       "\t 2009       & 2009-01-01 & 2009-12-31\\\\\n",
       "\t 2010       & 2010-01-01 & 2010-12-31\\\\\n",
       "\t 2011       & 2011-01-01 & 2011-12-31\\\\\n",
       "\t 2012       & 2012-01-01 & 2012-12-31\\\\\n",
       "\t 2013       & 2013-01-01 & 2013-12-31\\\\\n",
       "\t 2014       & 2014-01-01 & 2014-05-30\\\\\n",
       "\t 2015       & 2015-01-01 & 2015-12-31\\\\\n",
       "\t 2016       & 2016-01-01 & 2016-06-30\\\\\n",
       "\\end{tabular}\n"
      ],
      "text/plain": [
       "   yr   min_date   max_date  \n",
       "1  2007 2007-01-01 2007-12-31\n",
       "2  2008 2008-01-01 2008-12-31\n",
       "3  2009 2009-01-01 2009-12-31\n",
       "4  2010 2010-01-01 2010-12-31\n",
       "5  2011 2011-01-01 2011-12-31\n",
       "6  2012 2012-01-01 2012-12-31\n",
       "7  2013 2013-01-01 2013-12-31\n",
       "8  2014 2014-01-01 2014-05-30\n",
       "9  2015 2015-01-01 2015-12-31\n",
       "10 2016 2016-01-01 2016-06-30"
      ]
     },
     "metadata": {},
     "output_type": "display_data"
    },
    {
     "data": {
      "text/html": [
       "<table>\n",
       "<thead><tr><th scope=col>yr</th><th scope=col>date_range</th></tr></thead>\n",
       "<tbody>\n",
       "\t<tr><td>2007                    </td><td>2007-01-01 to 2007-12-31</td></tr>\n",
       "\t<tr><td>2008                    </td><td>2008-01-01 to 2008-12-31</td></tr>\n",
       "\t<tr><td>2009                    </td><td>2009-01-01 to 2009-12-31</td></tr>\n",
       "\t<tr><td>2010                    </td><td>2010-01-01 to 2010-12-31</td></tr>\n",
       "\t<tr><td>2011                    </td><td>2011-01-01 to 2011-12-31</td></tr>\n",
       "\t<tr><td>2012                    </td><td>2012-01-01 to 2012-12-31</td></tr>\n",
       "\t<tr><td>2013                    </td><td>2013-01-01 to 2013-12-31</td></tr>\n",
       "\t<tr><td>2014                    </td><td>2014-01-01 to 2014-05-30</td></tr>\n",
       "\t<tr><td>2015                    </td><td>2015-01-01 to 2015-12-31</td></tr>\n",
       "\t<tr><td>2016                    </td><td>2016-01-01 to 2016-06-30</td></tr>\n",
       "</tbody>\n",
       "</table>\n"
      ],
      "text/latex": [
       "\\begin{tabular}{r|ll}\n",
       " yr & date\\_range\\\\\n",
       "\\hline\n",
       "\t 2007                     & 2007-01-01 to 2007-12-31\\\\\n",
       "\t 2008                     & 2008-01-01 to 2008-12-31\\\\\n",
       "\t 2009                     & 2009-01-01 to 2009-12-31\\\\\n",
       "\t 2010                     & 2010-01-01 to 2010-12-31\\\\\n",
       "\t 2011                     & 2011-01-01 to 2011-12-31\\\\\n",
       "\t 2012                     & 2012-01-01 to 2012-12-31\\\\\n",
       "\t 2013                     & 2013-01-01 to 2013-12-31\\\\\n",
       "\t 2014                     & 2014-01-01 to 2014-05-30\\\\\n",
       "\t 2015                     & 2015-01-01 to 2015-12-31\\\\\n",
       "\t 2016                     & 2016-01-01 to 2016-06-30\\\\\n",
       "\\end{tabular}\n"
      ],
      "text/plain": [
       "   yr   date_range              \n",
       "1  2007 2007-01-01 to 2007-12-31\n",
       "2  2008 2008-01-01 to 2008-12-31\n",
       "3  2009 2009-01-01 to 2009-12-31\n",
       "4  2010 2010-01-01 to 2010-12-31\n",
       "5  2011 2011-01-01 to 2011-12-31\n",
       "6  2012 2012-01-01 to 2012-12-31\n",
       "7  2013 2013-01-01 to 2013-12-31\n",
       "8  2014 2014-01-01 to 2014-05-30\n",
       "9  2015 2015-01-01 to 2015-12-31\n",
       "10 2016 2016-01-01 to 2016-06-30"
      ]
     },
     "metadata": {},
     "output_type": "display_data"
    }
   ],
   "source": [
    "# YOUR CODE HERE\n",
    "# START\n",
    "# METHOD 1\n",
    "stops_w_yr %>% \n",
    "    group_by(yr) %>%\n",
    "    summarize(\n",
    "        min_date = min(date), \n",
    "        max_date = max(date)\n",
    "    )\n",
    "# METHOD 2\n",
    "stops_w_yr %>%\n",
    "    group_by(yr) %>%\n",
    "    summarize(\n",
    "        date_range = str_c(range(date)[1], \" to \", range(date)[2])\n",
    "    )\n",
    "# END"
   ]
  },
  {
   "cell_type": "markdown",
   "metadata": {},
   "source": [
    "### Plotting\n",
    "\n",
    "The method above gives us a sense of whether we are missing chunks of data at the beginning or end of a year, but what if we're missing data in the middle? It'd be nice to look at a plot of stops by day. \n",
    "\n",
    "Before doing that, though, let's build up some basic plotting skills in `R`.\n",
    "\n",
    "The basics of plotting use a package called `ggplot2`. The idea behind this package is that you start with a dataset, and then layer the elements you want: points, lines, bars, tweaking the x-axis, tweaking the title, etc. Each thing you'd want to do is a separate function. The difference between `ggplot` and what we've been doing before, is that the functions for plotting are strung together with `+` rather than with `%>%`.\n",
    "\n",
    "We'll walk you through the first plot, and then you'll have ample opportunities to create your own plots throughout the afternoon!"
   ]
  },
  {
   "cell_type": "code",
   "execution_count": 44,
   "metadata": {},
   "outputs": [
    {
     "data": {},
     "metadata": {},
     "output_type": "display_data"
    },
    {
     "data": {
      "image/png": "[encoded data removed]",
      "text/plain": [
       "plot without title"
      ]
     },
     "metadata": {},
     "output_type": "display_data",
     "source": "R display func"
    }
   ],
   "source": [
    "stops_w_yr %>%\n",
    "    count(yr) %>%\n",
    "    # \"aes()\" stands for \"aesthetic\". \n",
    "    # Anything within `aes()` refers to information from our data (stops_w_yr)\n",
    "    ggplot(aes(x = yr, y = n)) + \n",
    "    # geom_col just creates bar columns using the x and y coordinates specified\n",
    "    geom_col()"
   ]
  },
  {
   "cell_type": "markdown",
   "metadata": {},
   "source": [
    "### Exercise 3: Line graphs\n",
    "\n",
    "Instead of making a bar chart with`geom_col()`, try making a line graph, with points at each year. You can use the same intro as in our example, but instead of `geom_bar()`, try using `geom_point()` and `geom_line()`. (Remember, you can always type `?geom_point` if you need help and want to read the manual! Or, you can check out [this cheatsheet](https://www.rstudio.com/wp-content/uploads/2015/03/ggplot2-cheatsheet.pdf)!)"
   ]
  },
  {
   "cell_type": "code",
   "execution_count": 33,
   "metadata": {},
   "outputs": [
    {
     "data": {},
     "metadata": {},
     "output_type": "display_data"
    },
    {
     "data": {
      "image/png": "[encoded data removed]",
      "text/plain": [
       "plot without title"
      ]
     },
     "metadata": {},
     "output_type": "display_data",
     "source": "R display func"
    }
   ],
   "source": [
    "# YOUR CODE HERE\n",
    "# START\n",
    "stops_w_yr %>%\n",
    "    count(yr) %>%\n",
    "    # \"aes()\" stands for \"aesthetic\". \n",
    "    # Anything within `aes()` refers to information from our data (stops_w_yr)\n",
    "    ggplot(aes(x = yr, y = n)) + \n",
    "    # geom_point adds points at the x and y coordinates specified\n",
    "    geom_point() + \n",
    "    # geom_line draws lines between x and y coordinates specified\n",
    "    geom_line()\n",
    "# END"
   ]
  },
  {
   "cell_type": "markdown",
   "metadata": {},
   "source": [
    "GIVE SYNTAX FOR SCALE and have them do it"
   ]
  },
  {
   "cell_type": "code",
   "execution_count": 49,
   "metadata": {},
   "outputs": [
    {
     "data": {},
     "metadata": {},
     "output_type": "display_data"
    },
    {
     "data": {
      "image/png": "[encoded data removed]",
      "text/plain": [
       "plot without title"
      ]
     },
     "metadata": {},
     "output_type": "display_data",
     "source": "R display func"
    }
   ],
   "source": [
    "stops_w_yr %>%\n",
    "    count(yr) %>%\n",
    "    # \"aes()\" stands for \"aesthetic\". \n",
    "    # Anything within `aes()` refers to information from our data (stops_w_yr)\n",
    "    ggplot(aes(x = yr, y = n)) + \n",
    "    # geom_point adds points at the x and y coordinates specified\n",
    "    geom_point() + \n",
    "    # geom_line draws lines between x and y coordinates specified\n",
    "    geom_line() +\n",
    "    # we can use the function below to control the y axis\n",
    "    scale_y_continuous(limits = c(0,150000))"
   ]
  },
  {
   "cell_type": "code",
   "execution_count": 22,
   "metadata": {},
   "outputs": [
    {
     "ename": "ERROR",
     "evalue": "Error in eval(lhs, parent, parent): object 'stops_w_yr' not found\n",
     "execution_count": 22,
     "output_type": "error",
     "traceback": [
      "Error in eval(lhs, parent, parent): object 'stops_w_yr' not found\nTraceback:\n",
      "1. stops_w_yr %>% ggplot(aes(x = date))",
      "2. eval(lhs, parent, parent)",
      "3. eval(lhs, parent, parent)"
     ]
    }
   ],
   "source": [
    "# If we want to look date-by-date, we can just use `date` as our x-axis\n",
    "# And then we can call on the \"histogram\" function (which would be the\n",
    "# same as doing a `count(date)` and then a geom_col with x = date, y = n).\n",
    "# The benefit of geom_histogram() over the count and geom_col method, is that\n",
    "# with geom_histogram you can control the granularity of your bars.\n",
    "# Play around with `bins` to see!\n",
    "stops_w_yr %>%\n",
    "    ggplot(aes(x = date)) +\n",
    "    geom_histogram(bins = 500)"
   ]
  },
  {
   "cell_type": "code",
   "execution_count": 123,
   "metadata": {},
   "outputs": [
    {
     "data": {},
     "metadata": {},
     "output_type": "display_data"
    },
    {
     "data": {
      "image/png": "[encoded data removed]",
      "text/plain": [
       "plot without title"
      ]
     },
     "metadata": {},
     "output_type": "display_data",
     "source": "R display func"
    }
   ],
   "source": [
    "# To focus in on the missing date range, we can use `scale_x_date()` to\n",
    "# add some breaks in our x-axis.\n",
    "stops_w_yr %>%\n",
    "    ggplot(aes(x = date)) +\n",
    "    geom_histogram(bins = 500) +\n",
    "    scale_x_date(date_breaks = \"1 year\") +\n",
    "    theme(axis.text.x = element_text(angle = 45, hjust = 1))"
   ]
  },
  {
   "cell_type": "code",
   "execution_count": 56,
   "metadata": {},
   "outputs": [
    {
     "data": {},
     "metadata": {},
     "output_type": "display_data"
    },
    {
     "data": {
      "image/png": "[encoded data removed]",
      "text/plain": [
       "plot without title"
      ]
     },
     "metadata": {},
     "output_type": "display_data",
     "source": "R display func"
    }
   ],
   "source": [
    "# We can also look at the by-date, by-gender trends using \"fill\" \n",
    "# to distinguish between genders in our dataset\n",
    "# NOTE: bars/cols/histograms use \"fill\" to make color, \n",
    "#       points and lines use \"color\"\n",
    "stops_w_yr %>%\n",
    "    ggplot(aes(x = date, fill = gender)) +\n",
    "    geom_histogram(bins = 500) +\n",
    "    scale_x_date(date_breaks = \"1 year\") +\n",
    "    theme(axis.text.x = element_text(angle = 45, hjust = 1))"
   ]
  },
  {
   "cell_type": "markdown",
   "metadata": {},
   "source": [
    "### Exercise 2: Plotting\n",
    "\n",
    "Create a point and line plot that shows by-year stop counts colored by race."
   ]
  },
  {
   "cell_type": "code",
   "execution_count": 122,
   "metadata": {},
   "outputs": [
    {
     "data": {},
     "metadata": {},
     "output_type": "display_data"
    },
    {
     "data": {
      "image/png": "[encoded data removed]",
      "text/plain": [
       "plot without title"
      ]
     },
     "metadata": {},
     "output_type": "display_data",
     "source": "R display func"
    }
   ],
   "source": [
    "# YOUR CODE HERE\n",
    "# START\n",
    "stops_w_yr %>%\n",
    "    count(yr, race) %>%\n",
    "    ggplot(aes(x = yr, y = n, color =race)) +\n",
    "    geom_point() +\n",
    "    geom_line()\n",
    "# END"
   ]
  },
  {
   "cell_type": "markdown",
   "metadata": {},
   "source": [
    "Nice! We'll get back to plotting in a bit. There are _endless_ tweaks and modifications and aesthetic optimizations you can fill your life with. We won't get into too many of those, but there are lots of resources online -- so once you get the basic structure or your plot, making it beautiful is well within reach!\n"
   ]
  },
  {
   "cell_type": "markdown",
   "metadata": {},
   "source": [
    "## Back to calculating disparities\n",
    "\n",
    "In that aside we discovered 2014 and 2016 only have partial years. Let's return to our 2015 dataset, `stops_2015` and calculate how many stops were made of drivers of each race group."
   ]
  },
  {
   "cell_type": "markdown",
   "metadata": {},
   "source": [
    "## Exercise 4: Stops by race group\n",
    "\n",
    "For this next exercise, let's compute the racial breakdown of traffic stops. To do this, we'll need two functions that we've already seen: `count()` and `mutate()`.\n",
    "\n",
    "1. Count how many stops per race group our `stops_2015` dataset has, saving your result to a new dataframe: `stops_by_race`. \n",
    "\n",
    "2. Describe in words what we'd need to do to find the proportion of stops that were of white drivers. \n",
    "\n",
    "3. To do the above computation for each race group, we can add additional column to `stops_by_race` using the `mutate()` function. Overwrite `stops_by_race`, adding a new column `p` with the proportion of stops that were made of drivers of each race group.\n",
    "\n",
    "4. Discuss: What do these proportions mean? Are drivers of certain race groups being stopped more than others? What might we be missing to really start interpreting these values?"
   ]
  },
  {
   "cell_type": "code",
   "execution_count": 13,
   "metadata": {},
   "outputs": [
    {
     "data": {
      "text/html": [
       "<table>\n",
       "<thead><tr><th scope=col>race</th><th scope=col>n</th><th scope=col>p</th></tr></thead>\n",
       "<tbody>\n",
       "\t<tr><td>asian/pacific islander</td><td>15498                 </td><td>0.181                 </td></tr>\n",
       "\t<tr><td>black                 </td><td>14955                 </td><td>0.175                 </td></tr>\n",
       "\t<tr><td>hispanic              </td><td>11911                 </td><td>0.139                 </td></tr>\n",
       "\t<tr><td>other                 </td><td>13560                 </td><td>0.158                 </td></tr>\n",
       "\t<tr><td>white                 </td><td>29765                 </td><td>0.347                 </td></tr>\n",
       "</tbody>\n",
       "</table>\n"
      ],
      "text/latex": [
       "\\begin{tabular}{r|lll}\n",
       " race & n & p\\\\\n",
       "\\hline\n",
       "\t asian/pacific islander & 15498                  & 0.181                 \\\\\n",
       "\t black                  & 14955                  & 0.175                 \\\\\n",
       "\t hispanic               & 11911                  & 0.139                 \\\\\n",
       "\t other                  & 13560                  & 0.158                 \\\\\n",
       "\t white                  & 29765                  & 0.347                 \\\\\n",
       "\\end{tabular}\n"
      ],
      "text/plain": [
       "  race                   n     p    \n",
       "1 asian/pacific islander 15498 0.181\n",
       "2 black                  14955 0.175\n",
       "3 hispanic               11911 0.139\n",
       "4 other                  13560 0.158\n",
       "5 white                  29765 0.347"
      ]
     },
     "metadata": {},
     "output_type": "display_data"
    }
   ],
   "source": [
    "# EXERCISE 2: YOUR CODE HERE\n",
    "# START\n",
    "# 1. \n",
    "stops_by_race <- stops_2015 %>% count(race)\n",
    "# 2.\n",
    "# Divide each count (num stops by race) by the total (num overall stops)\n",
    "# 3. \n",
    "stops_by_race <- stops_by_race %>% mutate(p = n / sum(n))\n",
    "# 4. \n",
    "stops_by_race\n",
    "# This means 35% of stops were of white drivers, 18% of black drivers\n",
    "# 18% Aisan, 14% Hispanic, etc. \n",
    "# It seems like the biggest race group being stopped are white drivers.\n",
    "# But, i know that SF has a pretty large white population -- probably\n",
    "# more than 35% of SF is white...so maybe they're actually \n",
    "# underrepresented in stops? We'd need to know the population to be \n",
    "# able to answer this question of whether some race groups are being \n",
    "# stopped disproportionately.\n",
    "# We see white drivers make up about one-third of stops, and drivers \n",
    "# of each other race represent 14-18%. The by-race stop counts are \n",
    "# only meaningful, though, when compared to some baseline. If the \n",
    "# San Francisco population was about one-third white, one-third \n",
    "# percent of stops being of white drivers wouldn't be at all \n",
    "# surprising. But if 75% of the SF population is white, then our \n",
    "# findings might be more suspicious!\n",
    "# END"
   ]
  },
  {
   "cell_type": "markdown",
   "metadata": {},
   "source": [
    "## Stop rates\n",
    "\n",
    "In order to do this baseline comparison, we need to understand the racial\n",
    "demographics in our SF population data. (Note: This is why we wanted just one full year: comparing the number of stops in a year to the population from that year.) The data as we've given it to you\n",
    "has raw population numbers from 2015. To make it useful, we'll need to compute the\n",
    "_proportion_ of SF residents in each demographic group. As before, we do this using the `mutate()` function.\n",
    "\n",
    "### You try\n",
    "\n",
    "* Take a look at `pop_2015`, then\n",
    "* mutate `pop_2015`, adding a column `p` that shows us what proportion of the population is white, black, Hispanic, Asian, and other."
   ]
  },
  {
   "cell_type": "code",
   "execution_count": 14,
   "metadata": {},
   "outputs": [
    {
     "data": {
      "text/html": [
       "<table>\n",
       "<thead><tr><th scope=col>race</th><th scope=col>n_people</th><th scope=col>p</th></tr></thead>\n",
       "<tbody>\n",
       "\t<tr><td>white                 </td><td>346732                </td><td>0.4124                </td></tr>\n",
       "\t<tr><td>black                 </td><td> 44879                </td><td>0.0534                </td></tr>\n",
       "\t<tr><td>hispanic              </td><td>128619                </td><td>0.1530                </td></tr>\n",
       "\t<tr><td>asian/pacific islander</td><td>285266                </td><td>0.3393                </td></tr>\n",
       "\t<tr><td>other                 </td><td> 35267                </td><td>0.0419                </td></tr>\n",
       "</tbody>\n",
       "</table>\n"
      ],
      "text/latex": [
       "\\begin{tabular}{r|lll}\n",
       " race & n\\_people & p\\\\\n",
       "\\hline\n",
       "\t white                  & 346732                 & 0.4124                \\\\\n",
       "\t black                  &  44879                 & 0.0534                \\\\\n",
       "\t hispanic               & 128619                 & 0.1530                \\\\\n",
       "\t asian/pacific islander & 285266                 & 0.3393                \\\\\n",
       "\t other                  &  35267                 & 0.0419                \\\\\n",
       "\\end{tabular}\n"
      ],
      "text/plain": [
       "  race                   n_people p     \n",
       "1 white                  346732   0.4124\n",
       "2 black                   44879   0.0534\n",
       "3 hispanic               128619   0.1530\n",
       "4 asian/pacific islander 285266   0.3393\n",
       "5 other                   35267   0.0419"
      ]
     },
     "metadata": {},
     "output_type": "display_data"
    }
   ],
   "source": [
    "# Find the racial breakdown of SF's 2015 population\n",
    "# START\n",
    "pop_2015 %>%\n",
    "    mutate(p = n_people / (sum(n_people)))\n",
    "# END"
   ]
  },
  {
   "cell_type": "markdown",
   "metadata": {},
   "source": [
    "### Discuss\n",
    "\n",
    "What do the population proportions tell you about the stop proportions we computed before?\n",
    "\n",
    "\n",
    "### Adding rigor\n",
    "\n",
    "We can tell a lot just by eyeballing these two sets of proportions. But let's be a bit more\n",
    "rigorous about this. If we merge the two tables together, we can compute stop \n",
    "rates by race group (i.e., number of stops per person). "
   ]
  },
  {
   "cell_type": "markdown",
   "metadata": {},
   "source": [
    "**R function: `inner_join()`**\n",
    "\n",
    "One way to put tables together is with the `inner_join()` function. We need to\n",
    "input three things into this function: \n",
    " 1. our main table\n",
    " 2. the second table we'd like to join with the first table, and\n",
    " 3. instructions on how to join them. \n",
    "\n",
    "In this case, the two tables we\n",
    "want to merge are \n",
    " 1. the table of stops counted according to `race`, and\n",
    " 2. the table of population by race: `pop_2015`. \n",
    " \n",
    "The instruction for combining the tables is \n",
    " 3. to merge rows that give information about the same race groups.\n",
    "\n",
    "To implement 3., we give `inner_join()` the argument `by =\n",
    "\"race\"`. This means that `inner_join()` will \n",
    " * look at the first table---\n",
    "i.e., the table stops counted by race---and go to the `race` column\n",
    "in each row.\n",
    " * Then, `inner_join()` will take what it finds there---in this case,\n",
    "`\"asian/pacific islander\"`, `\"black\"`, `\"hispanic\"`, `\"other/unknown\"`, and\n",
    "`\"white\"`---and look in the second table, i.e., `pop_2015`, for all the\n",
    "rows that contain the same information in `pop_2015`'s race column.\n",
    " * Finally,\n",
    "it will add the second row at the end of the first to create a new row with\n",
    "information from both. \n",
    "\n",
    "What we end up with is a dataframe with all of the\n",
    "columns from _both_ tables.\n",
    "\n",
    "The process is a little complicated, and we won't use it too much, so don't\n",
    "worry if the abstract description doesn't make sense. To get a better\n",
    "understanding of what's going on, exercise 5 will help guide you through merging the two tables described above,\n",
    "being sure to include the `by = \"race\"` argument.\n",
    "\n",
    "\n",
    "DIGRESSION INTO LEFT/ANTI\n"
   ]
  },
  {
   "cell_type": "markdown",
   "metadata": {},
   "source": [
    "## Exercise 5: computing stop rates by race group\n",
    "\n",
    "1. First, merge together `stops_by_race` and `pop_2015` by \"race\", using the `merge()` function. Name your result `stops_and_pop_by_race`.\n",
    "2. Add a column `stop_rate` to `stops_and_pop_by_race`, that is simply the number of stops divided by the number of people. (Hint: the `mutate()` function will be helpful!)\n",
    "3. Now we can divide the black (or Asian, or Hispanic, or \"other\") stop rate by the white stop rate to be able to make \n",
    "a quantitative statement about how much more often black drivers are stopped compared to white drivers, relative to their share of the city's population. Using `R` as a calculator, do this!\n",
    "4. Discuss your results."
   ]
  },
  {
   "cell_type": "code",
   "execution_count": null,
   "metadata": {},
   "outputs": [
    {
     "data": {
      "text/html": [
       "<table>\n",
       "<thead><tr><th scope=col>race</th><th scope=col>n</th><th scope=col>p</th><th scope=col>n_people</th><th scope=col>stop_rate</th></tr></thead>\n",
       "<tbody>\n",
       "\t<tr><td>asian/pacific islander</td><td>15498                 </td><td>0.181                 </td><td>285266                </td><td>0.0543                </td></tr>\n",
       "\t<tr><td>black                 </td><td>14955                 </td><td>0.175                 </td><td> 44879                </td><td>0.3332                </td></tr>\n",
       "\t<tr><td>hispanic              </td><td>11911                 </td><td>0.139                 </td><td>128619                </td><td>0.0926                </td></tr>\n",
       "\t<tr><td>other                 </td><td>13560                 </td><td>0.158                 </td><td> 35267                </td><td>0.3845                </td></tr>\n",
       "\t<tr><td>white                 </td><td>29765                 </td><td>0.347                 </td><td>346732                </td><td>0.0858                </td></tr>\n",
       "</tbody>\n",
       "</table>\n"
      ],
      "text/latex": [
       "\\begin{tabular}{r|lllll}\n",
       " race & n & p & n\\_people & stop\\_rate\\\\\n",
       "\\hline\n",
       "\t asian/pacific islander & 15498                  & 0.181                  & 285266                 & 0.0543                \\\\\n",
       "\t black                  & 14955                  & 0.175                  &  44879                 & 0.3332                \\\\\n",
       "\t hispanic               & 11911                  & 0.139                  & 128619                 & 0.0926                \\\\\n",
       "\t other                  & 13560                  & 0.158                  &  35267                 & 0.3845                \\\\\n",
       "\t white                  & 29765                  & 0.347                  & 346732                 & 0.0858                \\\\\n",
       "\\end{tabular}\n"
      ],
      "text/plain": [
       "  race                   n     p     n_people stop_rate\n",
       "1 asian/pacific islander 15498 0.181 285266   0.0543   \n",
       "2 black                  14955 0.175  44879   0.3332   \n",
       "3 hispanic               11911 0.139 128619   0.0926   \n",
       "4 other                  13560 0.158  35267   0.3845   \n",
       "5 white                  29765 0.347 346732   0.0858   "
      ]
     },
     "metadata": {},
     "output_type": "display_data"
    },
    {
     "name": "stdout",
     "output_type": "stream",
     "text": [
      "[1] 3.88\n",
      "[1] 1.08\n",
      "[1] 0.633\n",
      "[1] 4.48\n"
     ]
    }
   ],
   "source": [
    "# EXERCISE 3: YOUR CODE HERE\n",
    "# START\n",
    "# 1.\n",
    "stops_and_pop_by_race <- \n",
    "    merge( # TODO MAKE INNER JOIN\n",
    "        stops_by_race,\n",
    "        pop_2015, \n",
    "        by = \"race\"\n",
    "    )\n",
    "# 2. \n",
    "stop_rates <- \n",
    "    stops_and_pop_by_race %>%\n",
    "    mutate(stop_rate = n / n_people)\n",
    "# 3. \n",
    "stop_rates\n",
    "# black-white stop rate ratio:\n",
    "print(0.3332/0.0858)\n",
    "# Hispanic-white stop rate ratio:\n",
    "print(0.0926/0.0858)\n",
    "# Asian-white stop rate ratio:\n",
    "print(0.0543/0.0858)\n",
    "# other-white stop rate ratio:\n",
    "print(0.3845/0.0858)\n",
    "# END"
   ]
  },
  {
   "cell_type": "markdown",
   "metadata": {},
   "source": [
    "### Thought exercise: where stop rates fall short\n",
    "\n",
    "While these baseline stats give us a sense that there are racial disparities in\n",
    "policing practices in SF, they are not strong evidence of discrimination. The\n",
    "argument against using stop rates (often called \"benchmarking\" or the \"benchmark test\") is that we haven't identified the correct\n",
    "baseline to compare to. \n",
    "* Why isn't population the best thing to compare to (i.e., the best denominator of our stop rate)?\n",
    "* What would the ideal denominator of our stop rate be?\n",
    "* What other baselines (denominators) could we use? Are any of these ideal?"
   ]
  },
  {
   "cell_type": "code",
   "execution_count": 16,
   "metadata": {},
   "outputs": [],
   "source": [
    "# Your thoughts here (or just discuss)\n",
    "# START\n",
    "# For the stop rate denominator, what we really want to know is what \n",
    "# the true distribution is for individuals breaking traffic laws or \n",
    "# exhibiting other criminal behavior in their vehicles. But using \n",
    "# SF residential population doesn't account for commuting \n",
    "# populations, or possible race-specific differences in driving \n",
    "# behavior,including amount of time spent on the road (and \n",
    "# adherence to traffic laws, as mentioned above).  If black \n",
    "# drivers, hypothetically, spend more time on the road than white \n",
    "# drivers, that in and of itself could explain the higher stop\n",
    "# rates we see for black drivers, even in the absence of \n",
    "# discrimination.\n",
    "# We could try using violation rates as a baseline, but those can \n",
    "# be racially skewed by the vary systems we're trying to evaluate! \n",
    "# We can try something that's less racially skewed, like violent\n",
    "# crime rates, but violent crime rates have very little to do with\n",
    "# traffic infractions! We really don't have any ideal baseline here. \n",
    "# END "
   ]
  },
  {
   "cell_type": "markdown",
   "metadata": {},
   "source": [
    "## Searches\n",
    "\n",
    "Let's next consider how often drivers of different race groups were searched. Computing search rates is actually easier than stop rates because we don't need an external population benchmark.\n",
    "We can use the stopped population as our baseline, defining search rate to be the proportion of stopped people who were subsequently searched. "
   ]
  },
  {
   "cell_type": "markdown",
   "metadata": {},
   "source": [
    "## Exercise 6: Search rates\n",
    "\n",
    "1. Compute search rates by race group. (Hint: Think about what information you'd need to compute a search rate. The `n()` function might be helpful!)\n",
    "2. Discuss the search rate findings. Are some race groups searched more often than other race groups, relative to their share of stopped drivers?\n",
    "\n",
    "NOTE: Since we're not comparing to population numbers, we can return to using our full `stops_w_yr` dataset, with all years, because in this case it doesn't matter that we don't have full years for 2014 and 2016."
   ]
  },
  {
   "cell_type": "code",
   "execution_count": 72,
   "metadata": {},
   "outputs": [
    {
     "data": {
      "text/html": [
       "<table>\n",
       "<thead><tr><th scope=col>race</th><th scope=col>n_searched</th><th scope=col>n_stopped</th><th scope=col>search_rate</th></tr></thead>\n",
       "<tbody>\n",
       "\t<tr><td>asian/pacific islander</td><td> 2722                 </td><td>147669                </td><td>0.0184                </td></tr>\n",
       "\t<tr><td>black                 </td><td>22363                 </td><td>143754                </td><td>0.1556                </td></tr>\n",
       "\t<tr><td>hispanic              </td><td>11040                 </td><td>108848                </td><td>0.1014                </td></tr>\n",
       "\t<tr><td>other                 </td><td> 3616                 </td><td> 97839                </td><td>0.0370                </td></tr>\n",
       "\t<tr><td>white                 </td><td>11362                 </td><td>353281                </td><td>0.0322                </td></tr>\n",
       "</tbody>\n",
       "</table>\n"
      ],
      "text/latex": [
       "\\begin{tabular}{r|llll}\n",
       " race & n\\_searched & n\\_stopped & search\\_rate\\\\\n",
       "\\hline\n",
       "\t asian/pacific islander &  2722                  & 147669                 & 0.0184                \\\\\n",
       "\t black                  & 22363                  & 143754                 & 0.1556                \\\\\n",
       "\t hispanic               & 11040                  & 108848                 & 0.1014                \\\\\n",
       "\t other                  &  3616                  &  97839                 & 0.0370                \\\\\n",
       "\t white                  & 11362                  & 353281                 & 0.0322                \\\\\n",
       "\\end{tabular}\n"
      ],
      "text/plain": [
       "  race                   n_searched n_stopped search_rate\n",
       "1 asian/pacific islander  2722      147669    0.0184     \n",
       "2 black                  22363      143754    0.1556     \n",
       "3 hispanic               11040      108848    0.1014     \n",
       "4 other                   3616       97839    0.0370     \n",
       "5 white                  11362      353281    0.0322     "
      ]
     },
     "metadata": {},
     "output_type": "display_data"
    },
    {
     "data": {
      "text/html": [
       "<table>\n",
       "<thead><tr><th scope=col>race</th><th scope=col>search_rate</th></tr></thead>\n",
       "<tbody>\n",
       "\t<tr><td>asian/pacific islander</td><td>0.0184                </td></tr>\n",
       "\t<tr><td>black                 </td><td>0.1556                </td></tr>\n",
       "\t<tr><td>hispanic              </td><td>0.1014                </td></tr>\n",
       "\t<tr><td>other                 </td><td>0.0370                </td></tr>\n",
       "\t<tr><td>white                 </td><td>0.0322                </td></tr>\n",
       "</tbody>\n",
       "</table>\n"
      ],
      "text/latex": [
       "\\begin{tabular}{r|ll}\n",
       " race & search\\_rate\\\\\n",
       "\\hline\n",
       "\t asian/pacific islander & 0.0184                \\\\\n",
       "\t black                  & 0.1556                \\\\\n",
       "\t hispanic               & 0.1014                \\\\\n",
       "\t other                  & 0.0370                \\\\\n",
       "\t white                  & 0.0322                \\\\\n",
       "\\end{tabular}\n"
      ],
      "text/plain": [
       "  race                   search_rate\n",
       "1 asian/pacific islander 0.0184     \n",
       "2 black                  0.1556     \n",
       "3 hispanic               0.1014     \n",
       "4 other                  0.0370     \n",
       "5 white                  0.0322     "
      ]
     },
     "metadata": {},
     "output_type": "display_data"
    }
   ],
   "source": [
    "# YOUR CODE HERE\n",
    "# START\n",
    "#Search rates, METHOD 1\n",
    "stops_w_yr %>%\n",
    "    group_by(race) %>%\n",
    "    summarize(\n",
    "        n_searched = sum(searched),\n",
    "        n_stopped = n(),\n",
    "        search_rate = n_searched / n_stopped\n",
    "    )\n",
    "# Search rates, METHOD 2\n",
    "# This way is a bit tricky! It relies on the fact that booleans\n",
    "# (i.e., TRUE and FALSE) can be coerced into integers (1 and 0),\n",
    "# so `mean(searched)` takes the number of TRUEs divided by the\n",
    "# number of rows in each race group, which is exactly what METHOD 1\n",
    "# does, manually.\n",
    "stops_w_yr %>%\n",
    "    group_by(race) %>%\n",
    "    summarize(\n",
    "        search_rate = mean(searched)\n",
    "    )\n",
    "# END"
   ]
  },
  {
   "cell_type": "markdown",
   "metadata": {},
   "source": [
    "## Exercise 7: Tricks with booleans\n",
    "\n",
    "Below is one possible solution to Exercise 6. The function `mean()` is defined over _numbers_, but `searched` is a column of booleans (TRUE/FALSE). Why does this solution work? Play around with treating booleans like numbers. What do you discover? (This behavior is called _coercion_ or _implicit casting_.)"
   ]
  },
  {
   "cell_type": "code",
   "execution_count": 77,
   "metadata": {},
   "outputs": [
    {
     "data": {
      "text/html": [
       "<table>\n",
       "<thead><tr><th scope=col>race</th><th scope=col>search_rate</th></tr></thead>\n",
       "<tbody>\n",
       "\t<tr><td>asian/pacific islander</td><td>0.0184                </td></tr>\n",
       "\t<tr><td>black                 </td><td>0.1556                </td></tr>\n",
       "\t<tr><td>hispanic              </td><td>0.1014                </td></tr>\n",
       "\t<tr><td>other                 </td><td>0.0370                </td></tr>\n",
       "\t<tr><td>white                 </td><td>0.0322                </td></tr>\n",
       "</tbody>\n",
       "</table>\n"
      ],
      "text/latex": [
       "\\begin{tabular}{r|ll}\n",
       " race & search\\_rate\\\\\n",
       "\\hline\n",
       "\t asian/pacific islander & 0.0184                \\\\\n",
       "\t black                  & 0.1556                \\\\\n",
       "\t hispanic               & 0.1014                \\\\\n",
       "\t other                  & 0.0370                \\\\\n",
       "\t white                  & 0.0322                \\\\\n",
       "\\end{tabular}\n"
      ],
      "text/plain": [
       "  race                   search_rate\n",
       "1 asian/pacific islander 0.0184     \n",
       "2 black                  0.1556     \n",
       "3 hispanic               0.1014     \n",
       "4 other                  0.0370     \n",
       "5 white                  0.0322     "
      ]
     },
     "metadata": {},
     "output_type": "display_data"
    }
   ],
   "source": [
    "stops_w_yr %>%\n",
    "    group_by(race) %>%\n",
    "    summarize(\n",
    "        search_rate = mean(searched)\n",
    "    )"
   ]
  },
  {
   "cell_type": "markdown",
   "metadata": {},
   "source": [
    "## Thought exercise: where search rates fall short\n",
    "* Do search rates have similar issues as we found with stop rates? Why or why not?\n",
    "* What might \"justifiably\" lead search rates to differ by race group?"
   ]
  },
  {
   "cell_type": "code",
   "execution_count": 23,
   "metadata": {},
   "outputs": [],
   "source": [
    "# Write your thoughts here (or just discuss)!\n",
    "# START\n",
    "# Search rates are slightly less suspect than stop rates, \n",
    "# since among the stopped population, it's more reasonable to \n",
    "# believe that people of different races offend at equal rates. \n",
    "# In the context of searches, this means assuming that all race groups \n",
    "# exhibit probable cause of possessing contraband at equal rates. \n",
    "# One could claim that the stopped population isn't a good \n",
    "# measure of the true racial distribution of probable cause. \n",
    "# This is all to say that while benchmark stats (stop rates, \n",
    "# search rates) are a good place to start, more investigation is \n",
    "# required before we can draw any strong conclusions.\n",
    "# END"
   ]
  },
  {
   "cell_type": "markdown",
   "metadata": {},
   "source": [
    "## Outcome test\n",
    "\n",
    "To circumvent the benchmarking problem, it's common to turn to the search \n",
    "decision, rather than the stop decision. This is because we have a notion of\n",
    "what a \"successful\" search is. The legal justification for performing a search\n",
    "is probable cause that the driver possesses contraband. So a successful search\n",
    "is one which uncovers contraband.\n",
    "\n",
    "We thus turn to rates of successful searches. That is, what proportion of\n",
    "searches, by race, were successful? This proportion is known as the contraband\n",
    "recovery rate, or the \"hit rate.\" If racial groups have different hit rates, it\n",
    "can imply that racial groups are being subjected to different standards."
   ]
  },
  {
   "cell_type": "markdown",
   "metadata": {},
   "source": [
    "## Thought Exercise: Hit rate interpretation\n",
    "\n",
    "As a caricatured example, suppose among white drivers who were searched, \n",
    "officers found contraband 99% of the time, while among black drivers who were\n",
    "searched, officers found contraband only 1% of the time. \n",
    "* Is this police department's search policy discriminatory? \n",
    "* Why or why not?\n",
    "* In general how can we use hit rates to understand whether a search policy is discriminatory?"
   ]
  },
  {
   "cell_type": "code",
   "execution_count": 24,
   "metadata": {},
   "outputs": [],
   "source": [
    "# Write your thoughts here (or just discuss)!\n",
    "# START\n",
    "# These hit rates would lead us to\n",
    "# believe that officers made sure they were _certain_ \n",
    "# white individuals had contraband before deciding to \n",
    "# search, but that they were searching black \n",
    "# individuals on a whiff of evidence.\n",
    "# In general, lower hit rates are a sign a group is being\n",
    "# discriminated against.\n",
    "# END"
   ]
  },
  {
   "cell_type": "markdown",
   "metadata": {},
   "source": [
    "\n",
    "Next let's investigate a non-caricatured case: real hit rates by race group in SF."
   ]
  },
  {
   "cell_type": "markdown",
   "metadata": {},
   "source": [
    "## Exercise 8: Hit rates\n",
    "\n",
    "1. Filter to drivers who were searched, and then compute the hit rate (rate of contraband recovery) by race group. Remember your `group_by()` and `summarize()` functions!\n",
    "\n",
    "2. Discuss your findings. "
   ]
  },
  {
   "cell_type": "code",
   "execution_count": 25,
   "metadata": {},
   "outputs": [
    {
     "data": {
      "text/html": [
       "<table>\n",
       "<thead><tr><th scope=col>race</th><th scope=col>hit_rate</th></tr></thead>\n",
       "<tbody>\n",
       "\t<tr><td>asian/pacific islander</td><td>0.3545                </td></tr>\n",
       "\t<tr><td>black                 </td><td>0.0916                </td></tr>\n",
       "\t<tr><td>hispanic              </td><td>0.0990                </td></tr>\n",
       "\t<tr><td>other                 </td><td>0.2016                </td></tr>\n",
       "\t<tr><td>white                 </td><td>0.2405                </td></tr>\n",
       "</tbody>\n",
       "</table>\n"
      ],
      "text/latex": [
       "\\begin{tabular}{r|ll}\n",
       " race & hit\\_rate\\\\\n",
       "\\hline\n",
       "\t asian/pacific islander & 0.3545                \\\\\n",
       "\t black                  & 0.0916                \\\\\n",
       "\t hispanic               & 0.0990                \\\\\n",
       "\t other                  & 0.2016                \\\\\n",
       "\t white                  & 0.2405                \\\\\n",
       "\\end{tabular}\n"
      ],
      "text/plain": [
       "  race                   hit_rate\n",
       "1 asian/pacific islander 0.3545  \n",
       "2 black                  0.0916  \n",
       "3 hispanic               0.0990  \n",
       "4 other                  0.2016  \n",
       "5 white                  0.2405  "
      ]
     },
     "metadata": {},
     "output_type": "display_data"
    }
   ],
   "source": [
    "# YOUR CODE HERE\n",
    "# START\n",
    "# 1.\n",
    "stops_w_yr %>%\n",
    "    filter(searched) %>%\n",
    "    group_by(race) %>%\n",
    "    summarize(hit_rate = mean(contraband_found))\n",
    "# 2.\n",
    "# Looks like the black and Hispanic hit rates are _much_\n",
    "# lower than the white hit rate -- this is a sign that\n",
    "# black and Hispanic drivers are probably being discriminated\n",
    "# against at the search decision.\n",
    "# END"
   ]
  },
  {
   "cell_type": "markdown",
   "metadata": {},
   "source": [
    "What if hit rates vary by police district? If the bar for stopping\n",
    "people, irrespective of race, is lower in certain police districts, and black\n",
    "individuals are more likely to live in neighborhoods in those districts, then\n",
    "the observed disparities may not reflect bias."
   ]
  },
  {
   "cell_type": "markdown",
   "metadata": {},
   "source": [
    "Let's compute hit rates by race _and_ district. We can do this simply by adding multiple arguments to the `group_by()` function. Run the code below."
   ]
  },
  {
   "cell_type": "code",
   "execution_count": 78,
   "metadata": {},
   "outputs": [
    {
     "data": {
      "text/html": [
       "50"
      ],
      "text/latex": [
       "50"
      ],
      "text/markdown": [
       "50"
      ],
      "text/plain": [
       "[1] 50"
      ]
     },
     "metadata": {},
     "output_type": "display_data"
    }
   ],
   "source": [
    "hit_rates <- \n",
    "  stops_w_yr %>% \n",
    "  filter(searched) %>% \n",
    "  group_by(race, district) %>% \n",
    "  summarize(hit_rate = mean(contraband_found))\n",
    "\n",
    "hit_rates %>% nrow()"
   ]
  },
  {
   "cell_type": "markdown",
   "metadata": {},
   "source": [
    "This is too many hit rates to compare in one table!"
   ]
  },
  {
   "cell_type": "markdown",
   "metadata": {},
   "source": [
    "## Exercise 9: Visualization brainstorm\n",
    "\n",
    "Sketch out using pen and paper (or just describe to a partner) how you might try to use visualizations to help us synthesize the 50 hit rates above. Start with the question we're trying to answer (Are hit rates for minority drivers lower than hit rates for white drivers?) -- and then think about what type of plot might best help you answer that question. See if you can come up with at least 3 different sketches!"
   ]
  },
  {
   "cell_type": "markdown",
   "metadata": {},
   "source": [
    "## One way to visualize: scatterplots"
   ]
  },
  {
   "cell_type": "markdown",
   "metadata": {},
   "source": [
    "One way to visualize the data is to make a scatterplot comparing white hit rates to each non-white race group. To do this, though, we need to reshape our data, so that each row allows us to compare white hit rate in a district, to each minority hit rate in that same district. \n",
    "\n",
    "The code below uses some tricky functions `spread` and `gather`. They're notoriously mind-bending, so the `tidyverse` team is actually developing new functions (`pivot_wider()` and `pivot_longer()`) to replace them soon. We'll walk you through this below, but don't get too hung up on it, since soon (like any day now) there will be more intuitive versions of these functions released."
   ]
  },
  {
   "cell_type": "code",
   "execution_count": 96,
   "metadata": {},
   "outputs": [
    {
     "data": {
      "text/html": [
       "<table>\n",
       "<thead><tr><th scope=col>race</th><th scope=col>district</th><th scope=col>hit_rate</th></tr></thead>\n",
       "<tbody>\n",
       "\t<tr><td>asian/pacific islander</td><td>A                     </td><td>0.3512                </td></tr>\n",
       "\t<tr><td>black                 </td><td>A                     </td><td>0.1010                </td></tr>\n",
       "\t<tr><td>hispanic              </td><td>A                     </td><td>0.0996                </td></tr>\n",
       "\t<tr><td>other                 </td><td>A                     </td><td>0.2522                </td></tr>\n",
       "\t<tr><td>white                 </td><td>A                     </td><td>0.2339                </td></tr>\n",
       "\t<tr><td>asian/pacific islander</td><td>B                     </td><td>0.2656                </td></tr>\n",
       "</tbody>\n",
       "</table>\n"
      ],
      "text/latex": [
       "\\begin{tabular}{r|lll}\n",
       " race & district & hit\\_rate\\\\\n",
       "\\hline\n",
       "\t asian/pacific islander & A                      & 0.3512                \\\\\n",
       "\t black                  & A                      & 0.1010                \\\\\n",
       "\t hispanic               & A                      & 0.0996                \\\\\n",
       "\t other                  & A                      & 0.2522                \\\\\n",
       "\t white                  & A                      & 0.2339                \\\\\n",
       "\t asian/pacific islander & B                      & 0.2656                \\\\\n",
       "\\end{tabular}\n"
      ],
      "text/plain": [
       "  race                   district hit_rate\n",
       "1 asian/pacific islander A        0.3512  \n",
       "2 black                  A        0.1010  \n",
       "3 hispanic               A        0.0996  \n",
       "4 other                  A        0.2522  \n",
       "5 white                  A        0.2339  \n",
       "6 asian/pacific islander B        0.2656  "
      ]
     },
     "metadata": {},
     "output_type": "display_data"
    },
    {
     "data": {
      "text/html": [
       "<table>\n",
       "<thead><tr><th scope=col>district</th><th scope=col>white_hit_rate</th><th scope=col>minority_race</th><th scope=col>minority_hit_rate</th></tr></thead>\n",
       "<tbody>\n",
       "\t<tr><td>A                     </td><td>0.234                 </td><td>black                 </td><td>0.1010                </td></tr>\n",
       "\t<tr><td>A                     </td><td>0.234                 </td><td>hispanic              </td><td>0.0996                </td></tr>\n",
       "\t<tr><td>A                     </td><td>0.234                 </td><td>asian/pacific islander</td><td>0.3512                </td></tr>\n",
       "\t<tr><td>A                     </td><td>0.234                 </td><td>other                 </td><td>0.2522                </td></tr>\n",
       "\t<tr><td>B                     </td><td>0.225                 </td><td>black                 </td><td>0.1065                </td></tr>\n",
       "\t<tr><td>B                     </td><td>0.225                 </td><td>hispanic              </td><td>0.0787                </td></tr>\n",
       "</tbody>\n",
       "</table>\n"
      ],
      "text/latex": [
       "\\begin{tabular}{r|llll}\n",
       " district & white\\_hit\\_rate & minority\\_race & minority\\_hit\\_rate\\\\\n",
       "\\hline\n",
       "\t A                      & 0.234                  & black                  & 0.1010                \\\\\n",
       "\t A                      & 0.234                  & hispanic               & 0.0996                \\\\\n",
       "\t A                      & 0.234                  & asian/pacific islander & 0.3512                \\\\\n",
       "\t A                      & 0.234                  & other                  & 0.2522                \\\\\n",
       "\t B                      & 0.225                  & black                  & 0.1065                \\\\\n",
       "\t B                      & 0.225                  & hispanic               & 0.0787                \\\\\n",
       "\\end{tabular}\n"
      ],
      "text/plain": [
       "  district white_hit_rate minority_race          minority_hit_rate\n",
       "1 A        0.234          black                  0.1010           \n",
       "2 A        0.234          hispanic               0.0996           \n",
       "3 A        0.234          asian/pacific islander 0.3512           \n",
       "4 A        0.234          other                  0.2522           \n",
       "5 B        0.225          black                  0.1065           \n",
       "6 B        0.225          hispanic               0.0787           "
      ]
     },
     "metadata": {},
     "output_type": "display_data"
    }
   ],
   "source": [
    "# Reshape table to show hit rates of minorities vs white drivers\n",
    "reshaped_hit_rates <-\n",
    "  hit_rates %>% \n",
    "  # the column names (key) will be race, the values will be from hit rate\n",
    "  spread(key = race, value = hit_rate, fill = 0) %>% \n",
    "  rename(white_hit_rate = white) %>% \n",
    "  # gather leaves us with two new columns: \n",
    "  # minority race (which contain the old colnames)\n",
    "  # and minority hit rate (which contains the values in the old columns)\n",
    "  gather(\n",
    "      key = minority_race, value = minority_hit_rate, \n",
    "      # columns to gather:\n",
    "      c(black, hispanic, `asian/pacific islander`, other)\n",
    "  ) %>%\n",
    "  arrange(district)\n",
    "\n",
    "head(hit_rates %>% arrange(district))\n",
    "head(reshaped_hit_rates)"
   ]
  },
  {
   "cell_type": "markdown",
   "metadata": {},
   "source": [
    "Now we're ready to make a basic scatter plot! We'll walk you through it in the exercise below.\n",
    "\n",
    "## Exercise 10: Scatterplot of racial disparities\n",
    "\n",
    "1. Warm-up. Before we plot, let's do some tidyverse magic. To make our plot nice in step 2, we'll need the range of hit rates. Create a variable `max_hit_rate` that extracts the largest hit rate value in `reshaped_hit_rates`. There are many many different ways to do this, so don't be afraid to play around!\n",
    "2. Onward to plotting! First let's start simple. Filter `reshaped_hit_rates` to just `black` and `white` race groups (i.e., let's only consider rows where `minority_race` is \"black\"). Let's next create a scatterplot comparing black and white hit rates. Consider the following questions/hints:\n",
    "  * What do you want your x- and y-axes to be?\n",
    "  * Which `geom_X` would you use to creat scatterplot points?\n",
    "  * We want to compare apples to apples, so we want the x- and y-axis scales to cover the same range. To do this, we can use `scale_x_continuous()` and `scale_y_continuous()`. Both of these functions have an argument called `limits`. The basic usage is `scale_x_continuous(limits = c(A, B))`, where `A` is the lower limit of your range (we can just use 0), and `B` is the upper limit of your range (we can `max_hit_rate` from Q1 above). \n",
    "    Try adding and removing these two lines of code -- how does it change the plot? Why is it critical in this case?\n",
    "3. Now, to incorporate all minority race groups in our dataset, let's return to the unfiltered `reshaped_hit_rates`. Instead, let's create a panel for each race-pair we're comparing. We can do this simply by adding `facet_wrap(facets = vars(minority_race))` to the previous code. Try it! What do you see?"
   ]
  },
  {
   "cell_type": "code",
   "execution_count": 124,
   "metadata": {},
   "outputs": [],
   "source": [
    "# YOUR CODE (EXERCISE 10, Q1)\n",
    "# START\n",
    "# We'll use this just to make our axes' limits nice and even\n",
    "max_hit_rate <-\n",
    "  reshaped_hit_rates %>% \n",
    "  select(ends_with(\"hit_rate\")) %>% \n",
    "  max()\n",
    "# END"
   ]
  },
  {
   "cell_type": "code",
   "execution_count": 125,
   "metadata": {},
   "outputs": [
    {
     "data": {},
     "metadata": {},
     "output_type": "display_data"
    },
    {
     "data": {
      "image/png": "[encoded data removed]",
      "text/plain": [
       "plot without title"
      ]
     },
     "metadata": {},
     "output_type": "display_data",
     "source": "R display func"
    }
   ],
   "source": [
    "# YOUR CODE (EXERCISE 10, Q2)\n",
    "# START\n",
    "reshaped_hit_rates %>% \n",
    "  filter(minority_race == \"black\") %>%\n",
    "  ggplot(aes(\n",
    "    x = white_hit_rate,\n",
    "    y = minority_hit_rate\n",
    "  )) +\n",
    "  geom_point() +\n",
    "  scale_x_continuous(limits = c(0,max_hit_rate)) +\n",
    "  scale_y_continuous(limits = c(0,max_hit_rate))\n",
    "# END"
   ]
  },
  {
   "cell_type": "code",
   "execution_count": 127,
   "metadata": {},
   "outputs": [
    {
     "data": {},
     "metadata": {},
     "output_type": "display_data"
    },
    {
     "data": {
      "image/png": "[encoded data removed]",
      "text/plain": [
       "plot without title"
      ]
     },
     "metadata": {},
     "output_type": "display_data",
     "source": "R display func"
    }
   ],
   "source": [
    "# YOUR CODE (EXERCISE 10, Q3)\n",
    "# START\n",
    "reshaped_hit_rates %>% \n",
    "  ggplot(aes(\n",
    "    x = white_hit_rate,\n",
    "    y = minority_hit_rate\n",
    "  )) +\n",
    "  geom_point() +\n",
    "  scale_x_continuous(limits = c(0,max_hit_rate)) +\n",
    "  scale_y_continuous(limits = c(0,max_hit_rate)) +\n",
    "  facet_wrap(vars(minority_race))\n",
    "# END"
   ]
  },
  {
   "cell_type": "markdown",
   "metadata": {},
   "source": [
    "Below are some slight tweaks to make the plot a bit more readable. Let's go through these additions together to make sure they make sense. Below, we're going to:\n",
    "\n",
    "HAVE THEM DO AXIS LABELS AND REFERENCE LINE (EARLIER)\n",
    "\n",
    "* Size the points by number of searches\n",
    "* Add a reference line in to demarcate \"fairness\"\n",
    "* Use percentages rather than proportions for the axes\n",
    "* Make the labels pretty"
   ]
  },
  {
   "cell_type": "code",
   "execution_count": 131,
   "metadata": {},
   "outputs": [
    {
     "data": {},
     "metadata": {},
     "output_type": "display_data"
    },
    {
     "data": {
      "image/png": "[encoded data removed]",
      "text/plain": [
       "plot without title"
      ]
     },
     "metadata": {},
     "output_type": "display_data",
     "source": "R display func"
    }
   ],
   "source": [
    "# Get corresponding number of searches (to size points).\n",
    "# Again, for each district we want to know the number of white+black searches\n",
    "# and white+Hispanic searches. This requires the same spreading and gathering\n",
    "# as our previous data-munging.\n",
    "search_counts <-\n",
    "  stops_w_yr %>% \n",
    "  filter(searched) %>%  \n",
    "  count(district, race) %>% \n",
    "  spread(race, n, fill = 0) %>% \n",
    "  rename(num_white_searches = white) %>% \n",
    "  gather(\n",
    "      minority_race, num_minority_searches, \n",
    "      c(black, hispanic, `asian/pacific islander`, other)\n",
    "  ) %>% \n",
    "  mutate(num_searches = num_minority_searches + num_white_searches) %>% \n",
    "  select(district, minority_race, num_searches)\n",
    "\n",
    "# Now let's plot!\n",
    "reshaped_hit_rates %>% \n",
    "  left_join(\n",
    "    search_counts, \n",
    "    by = c(\"district\", \"minority_race\")\n",
    "  ) %>% \n",
    "  ggplot(aes(\n",
    "    x = white_hit_rate,\n",
    "    y = minority_hit_rate\n",
    "  )) +\n",
    "  geom_point(aes(size = num_searches), pch = 21) +\n",
    "  geom_abline(slope = 1, intercept = 0, linetype = \"dashed\") +\n",
    "  scale_x_continuous(\"White hit rate\", \n",
    "    limits = c(0, max_hit_rate + 0.01),\n",
    "    labels = scales::percent_format(accuracy = 1),\n",
    "    # forces axis to start _right_ at zero, no gap\n",
    "    expand = c(0,0)\n",
    "  ) +\n",
    "  scale_y_continuous(\"Minority hit rate\", \n",
    "    limits = c(0, max_hit_rate + 0.01),\n",
    "    labels = scales::percent_format(accuracy = 1),\n",
    "    # forces axis to start _right_ at zero, no gap\n",
    "    expand = c(0,0)\n",
    "  ) +\n",
    "  coord_fixed() +\n",
    "  facet_wrap(vars(minority_race))"
   ]
  },
  {
   "cell_type": "markdown",
   "metadata": {},
   "source": [
    "## Exercise 11: Plot interpretation\n",
    "\n",
    "Explain what you see above. What does each point represent? What does the dotted line represent? What do these plots tell us about discrimination in search practices?"
   ]
  },
  {
   "cell_type": "markdown",
   "metadata": {},
   "source": [
    "## Modeling\n",
    "\n",
    "Plotting allowed us to synthesize fifty hit rates into an understanding of racial disparities in SF's search policy. Our plot provides us with evidence that these searches are discriminatory against black and Hispanic drivers. \n",
    "\n",
    "What if we want to _quantify_ this disparity? Our plot just gives us intuition. Similar to how we were able to compute the ratio between black hit rates and white hit rates for the aggregate hit rate data (citywide), we might want to know what those ratios would be in each district. Instead of separately computing the hit rate for each race/district, we can instead use modeling to put numbers on these disparities. We can use *regression*: computing how likely an officer was to find contraband given the drivers' race and district.\n",
    "\n",
    "We're not going to teach the statistics behind regression right now. If you already know about regression, we're here to teach you how to run a regression in `R`. If you've never heard of regression before, maybe this short soiree into modeling will inspire you to learn! "
   ]
  },
  {
   "cell_type": "markdown",
   "metadata": {},
   "source": [
    "Our _outcome_ or _response_ variable, `contraband_found`, is a boolean (TRUE/FALSE, or 1/0) -- also known as a \"binomial\" variable. Recall that when we have an binomial outcome like this, we use logistic regression.\n",
    "\n",
    "Below, we create a dataframe with just the searches, and we convert all categorical variables to factors. A \"factor\" in `R` is has explicit levels -- it's telling the model not to derive a coefficient for each value within `race` and `district` (rather than treating them as continuous variables, with a single coefficient).\n",
    "\n",
    "SECOND, Follow up with USE LM (linear prob model) -- it's not guaranteed...needs truncation\n",
    "\n",
    "For the model itself, we use `glm()`, which stands for \"generalized linear model\". We simply give `glm()` a formula: `response ~ covariate_1 + covariate_2 + ... + covariate_n`, the data, and then we specify the type of model we want to fit using the `family` argument. Logistic regression is \"binomial\" family."
   ]
  },
  {
   "cell_type": "code",
   "execution_count": 138,
   "metadata": {},
   "outputs": [
    {
     "data": {
      "text/html": [
       "<table>\n",
       "<thead><tr><th scope=col>term</th><th scope=col>estimate</th><th scope=col>std.error</th><th scope=col>statistic</th><th scope=col>p.value</th></tr></thead>\n",
       "<tbody>\n",
       "\t<tr><td>(Intercept) </td><td>-0.6245     </td><td>0.0634      </td><td> -9.85      </td><td> 6.81e-23   </td></tr>\n",
       "\t<tr><td>raceblack   </td><td>-1.5349     </td><td>0.0479      </td><td>-32.04      </td><td>2.67e-225   </td></tr>\n",
       "\t<tr><td>racehispanic</td><td>-1.5098     </td><td>0.0524      </td><td>-28.82      </td><td>1.18e-182   </td></tr>\n",
       "\t<tr><td>raceother   </td><td>-0.7079     </td><td>0.0581      </td><td>-12.18      </td><td> 3.78e-34   </td></tr>\n",
       "\t<tr><td>racewhite   </td><td>-0.4961     </td><td>0.0462      </td><td>-10.74      </td><td> 6.96e-27   </td></tr>\n",
       "\t<tr><td>districtB   </td><td>-0.1288     </td><td>0.0634      </td><td> -2.03      </td><td> 4.22e-02   </td></tr>\n",
       "\t<tr><td>districtC   </td><td>-0.2832     </td><td>0.0616      </td><td> -4.60      </td><td> 4.31e-06   </td></tr>\n",
       "\t<tr><td>districtD   </td><td>-0.2381     </td><td>0.0639      </td><td> -3.73      </td><td> 1.95e-04   </td></tr>\n",
       "\t<tr><td>districtE   </td><td>-0.2041     </td><td>0.0664      </td><td> -3.08      </td><td> 2.10e-03   </td></tr>\n",
       "\t<tr><td>districtF   </td><td> 0.0901     </td><td>0.0751      </td><td>  1.20      </td><td> 2.30e-01   </td></tr>\n",
       "\t<tr><td>districtG   </td><td> 0.4013     </td><td>0.0728      </td><td>  5.52      </td><td> 3.48e-08   </td></tr>\n",
       "\t<tr><td>districtH   </td><td> 0.0693     </td><td>0.0595      </td><td>  1.16      </td><td> 2.44e-01   </td></tr>\n",
       "\t<tr><td>districtI   </td><td> 0.1995     </td><td>0.0657      </td><td>  3.04      </td><td> 2.40e-03   </td></tr>\n",
       "\t<tr><td>districtJ   </td><td>-0.1477     </td><td>0.0693      </td><td> -2.13      </td><td> 3.31e-02   </td></tr>\n",
       "</tbody>\n",
       "</table>\n"
      ],
      "text/latex": [
       "\\begin{tabular}{r|lllll}\n",
       " term & estimate & std.error & statistic & p.value\\\\\n",
       "\\hline\n",
       "\t (Intercept)  & -0.6245      & 0.0634       &  -9.85       &  6.81e-23   \\\\\n",
       "\t raceblack    & -1.5349      & 0.0479       & -32.04       & 2.67e-225   \\\\\n",
       "\t racehispanic & -1.5098      & 0.0524       & -28.82       & 1.18e-182   \\\\\n",
       "\t raceother    & -0.7079      & 0.0581       & -12.18       &  3.78e-34   \\\\\n",
       "\t racewhite    & -0.4961      & 0.0462       & -10.74       &  6.96e-27   \\\\\n",
       "\t districtB    & -0.1288      & 0.0634       &  -2.03       &  4.22e-02   \\\\\n",
       "\t districtC    & -0.2832      & 0.0616       &  -4.60       &  4.31e-06   \\\\\n",
       "\t districtD    & -0.2381      & 0.0639       &  -3.73       &  1.95e-04   \\\\\n",
       "\t districtE    & -0.2041      & 0.0664       &  -3.08       &  2.10e-03   \\\\\n",
       "\t districtF    &  0.0901      & 0.0751       &   1.20       &  2.30e-01   \\\\\n",
       "\t districtG    &  0.4013      & 0.0728       &   5.52       &  3.48e-08   \\\\\n",
       "\t districtH    &  0.0693      & 0.0595       &   1.16       &  2.44e-01   \\\\\n",
       "\t districtI    &  0.1995      & 0.0657       &   3.04       &  2.40e-03   \\\\\n",
       "\t districtJ    & -0.1477      & 0.0693       &  -2.13       &  3.31e-02   \\\\\n",
       "\\end{tabular}\n"
      ],
      "text/plain": [
       "   term         estimate std.error statistic p.value  \n",
       "1  (Intercept)  -0.6245  0.0634     -9.85     6.81e-23\n",
       "2  raceblack    -1.5349  0.0479    -32.04    2.67e-225\n",
       "3  racehispanic -1.5098  0.0524    -28.82    1.18e-182\n",
       "4  raceother    -0.7079  0.0581    -12.18     3.78e-34\n",
       "5  racewhite    -0.4961  0.0462    -10.74     6.96e-27\n",
       "6  districtB    -0.1288  0.0634     -2.03     4.22e-02\n",
       "7  districtC    -0.2832  0.0616     -4.60     4.31e-06\n",
       "8  districtD    -0.2381  0.0639     -3.73     1.95e-04\n",
       "9  districtE    -0.2041  0.0664     -3.08     2.10e-03\n",
       "10 districtF     0.0901  0.0751      1.20     2.30e-01\n",
       "11 districtG     0.4013  0.0728      5.52     3.48e-08\n",
       "12 districtH     0.0693  0.0595      1.16     2.44e-01\n",
       "13 districtI     0.1995  0.0657      3.04     2.40e-03\n",
       "14 districtJ    -0.1477  0.0693     -2.13     3.31e-02"
      ]
     },
     "metadata": {},
     "output_type": "display_data"
    }
   ],
   "source": [
    "library(broom) #library for turning messy r output to tidy dataframes\n",
    "\n",
    "searched_df <- stops_w_yr %>% \n",
    "    filter(searched) %>%\n",
    "    mutate(\n",
    "        race = factor(race),\n",
    "        district = factor(district)\n",
    "    )\n",
    "\n",
    "mod <- glm(\n",
    "    contraband_found ~ race + district, \n",
    "    data = searched_df, \n",
    "    family = 'binomial'\n",
    ")\n",
    "\n",
    "tidy(mod)"
   ]
  },
  {
   "cell_type": "markdown",
   "metadata": {},
   "source": [
    "Notice that there is no term for \"asian/pacific islander\" or \"district A\" in the above table.  This is because they were set as reference levels, which happens whenever you use a categorical variable in a regression.  We want to set white as the reference level for race so that we can read the coefficients for other races as comparisons to white hit rates. We can do this using the `relevel` function. "
   ]
  },
  {
   "cell_type": "code",
   "execution_count": 139,
   "metadata": {},
   "outputs": [
    {
     "data": {
      "text/html": [
       "<table>\n",
       "<thead><tr><th scope=col>term</th><th scope=col>estimate</th><th scope=col>std.error</th><th scope=col>statistic</th><th scope=col>p.value</th></tr></thead>\n",
       "<tbody>\n",
       "\t<tr><td>(Intercept)               </td><td>-1.1206                   </td><td>0.0535                    </td><td>-20.96                    </td><td> 1.46e-97                 </td></tr>\n",
       "\t<tr><td>raceasian/pacific islander</td><td> 0.4961                   </td><td>0.0462                    </td><td> 10.74                    </td><td> 6.96e-27                 </td></tr>\n",
       "\t<tr><td>raceblack                 </td><td>-1.0388                   </td><td>0.0336                    </td><td>-30.91                    </td><td>8.77e-210                 </td></tr>\n",
       "\t<tr><td>racehispanic              </td><td>-1.0137                   </td><td>0.0398                    </td><td>-25.46                    </td><td>5.89e-143                 </td></tr>\n",
       "\t<tr><td>raceother                 </td><td>-0.2118                   </td><td>0.0472                    </td><td> -4.48                    </td><td> 7.33e-06                 </td></tr>\n",
       "\t<tr><td>districtB                 </td><td>-0.1288                   </td><td>0.0634                    </td><td> -2.03                    </td><td> 4.22e-02                 </td></tr>\n",
       "\t<tr><td>districtC                 </td><td>-0.2832                   </td><td>0.0616                    </td><td> -4.60                    </td><td> 4.31e-06                 </td></tr>\n",
       "\t<tr><td>districtD                 </td><td>-0.2381                   </td><td>0.0639                    </td><td> -3.73                    </td><td> 1.95e-04                 </td></tr>\n",
       "\t<tr><td>districtE                 </td><td>-0.2041                   </td><td>0.0664                    </td><td> -3.08                    </td><td> 2.10e-03                 </td></tr>\n",
       "\t<tr><td>districtF                 </td><td> 0.0901                   </td><td>0.0751                    </td><td>  1.20                    </td><td> 2.30e-01                 </td></tr>\n",
       "\t<tr><td>districtG                 </td><td> 0.4013                   </td><td>0.0728                    </td><td>  5.52                    </td><td> 3.48e-08                 </td></tr>\n",
       "\t<tr><td>districtH                 </td><td> 0.0693                   </td><td>0.0595                    </td><td>  1.16                    </td><td> 2.44e-01                 </td></tr>\n",
       "\t<tr><td>districtI                 </td><td> 0.1995                   </td><td>0.0657                    </td><td>  3.04                    </td><td> 2.40e-03                 </td></tr>\n",
       "\t<tr><td>districtJ                 </td><td>-0.1477                   </td><td>0.0693                    </td><td> -2.13                    </td><td> 3.31e-02                 </td></tr>\n",
       "</tbody>\n",
       "</table>\n"
      ],
      "text/latex": [
       "\\begin{tabular}{r|lllll}\n",
       " term & estimate & std.error & statistic & p.value\\\\\n",
       "\\hline\n",
       "\t (Intercept)                & -1.1206                    & 0.0535                     & -20.96                     &  1.46e-97                 \\\\\n",
       "\t raceasian/pacific islander &  0.4961                    & 0.0462                     &  10.74                     &  6.96e-27                 \\\\\n",
       "\t raceblack                  & -1.0388                    & 0.0336                     & -30.91                     & 8.77e-210                 \\\\\n",
       "\t racehispanic               & -1.0137                    & 0.0398                     & -25.46                     & 5.89e-143                 \\\\\n",
       "\t raceother                  & -0.2118                    & 0.0472                     &  -4.48                     &  7.33e-06                 \\\\\n",
       "\t districtB                  & -0.1288                    & 0.0634                     &  -2.03                     &  4.22e-02                 \\\\\n",
       "\t districtC                  & -0.2832                    & 0.0616                     &  -4.60                     &  4.31e-06                 \\\\\n",
       "\t districtD                  & -0.2381                    & 0.0639                     &  -3.73                     &  1.95e-04                 \\\\\n",
       "\t districtE                  & -0.2041                    & 0.0664                     &  -3.08                     &  2.10e-03                 \\\\\n",
       "\t districtF                  &  0.0901                    & 0.0751                     &   1.20                     &  2.30e-01                 \\\\\n",
       "\t districtG                  &  0.4013                    & 0.0728                     &   5.52                     &  3.48e-08                 \\\\\n",
       "\t districtH                  &  0.0693                    & 0.0595                     &   1.16                     &  2.44e-01                 \\\\\n",
       "\t districtI                  &  0.1995                    & 0.0657                     &   3.04                     &  2.40e-03                 \\\\\n",
       "\t districtJ                  & -0.1477                    & 0.0693                     &  -2.13                     &  3.31e-02                 \\\\\n",
       "\\end{tabular}\n"
      ],
      "text/plain": [
       "   term                       estimate std.error statistic p.value  \n",
       "1  (Intercept)                -1.1206  0.0535    -20.96     1.46e-97\n",
       "2  raceasian/pacific islander  0.4961  0.0462     10.74     6.96e-27\n",
       "3  raceblack                  -1.0388  0.0336    -30.91    8.77e-210\n",
       "4  racehispanic               -1.0137  0.0398    -25.46    5.89e-143\n",
       "5  raceother                  -0.2118  0.0472     -4.48     7.33e-06\n",
       "6  districtB                  -0.1288  0.0634     -2.03     4.22e-02\n",
       "7  districtC                  -0.2832  0.0616     -4.60     4.31e-06\n",
       "8  districtD                  -0.2381  0.0639     -3.73     1.95e-04\n",
       "9  districtE                  -0.2041  0.0664     -3.08     2.10e-03\n",
       "10 districtF                   0.0901  0.0751      1.20     2.30e-01\n",
       "11 districtG                   0.4013  0.0728      5.52     3.48e-08\n",
       "12 districtH                   0.0693  0.0595      1.16     2.44e-01\n",
       "13 districtI                   0.1995  0.0657      3.04     2.40e-03\n",
       "14 districtJ                  -0.1477  0.0693     -2.13     3.31e-02"
      ]
     },
     "metadata": {},
     "output_type": "display_data"
    }
   ],
   "source": [
    "searched_df <- searched_df %>%\n",
    "    mutate(race = relevel(race, ref = 'white'))\n",
    "\n",
    "mod <- glm(\n",
    "    contraband_found ~ race + district, \n",
    "    data = searched_df, \n",
    "    family = 'binomial'\n",
    ")\n",
    "tidy(mod)"
   ]
  },
  {
   "cell_type": "markdown",
   "metadata": {},
   "source": [
    "Now let's summarize our results by pulling out only the information we care about."
   ]
  },
  {
   "cell_type": "code",
   "execution_count": 24,
   "metadata": {},
   "outputs": [
    {
     "ename": "ERROR",
     "evalue": "Error in tidy(mod): could not find function \"tidy\"\n",
     "execution_count": 24,
     "output_type": "error",
     "traceback": [
      "Error in tidy(mod): could not find function \"tidy\"\nTraceback:\n",
      "1. tidy(mod) %>% filter(str_detect(term, \"race\")) %>% mutate(race = str_remove_all(term, \n .     \"race\"), conf_int_95 = str_c(\"(\", round(estimate - 1.96 * \n .     std.error, 3), \", \", round(estimate + 1.96 * std.error, 3), \n .     \")\"), likelihood_recovery_v_white = exp(estimate)) %>% select(race, \n .     estimate, conf_int_95, likelihood_recovery_v_white)",
      "2. eval(lhs, parent, parent)",
      "3. eval(lhs, parent, parent)"
     ]
    }
   ],
   "source": [
    "# HAVE THEM DO PART OF THIS\n",
    "tidy(mod) %>%\n",
    "    filter(str_detect(term, \"race\")) %>%\n",
    "    mutate(\n",
    "        race = str_remove_all(term, \"race\"),\n",
    "        conf_int_95 = str_c(\n",
    "            \"(\", round(estimate - 1.96*std.error, 3),\n",
    "            \", \", round(estimate + 1.96*std.error, 3), \")\"\n",
    "        ),\n",
    "        likelihood_recovery_v_white = exp(estimate)\n",
    "    ) %>%\n",
    "    select(race, estimate, conf_int_95, likelihood_recovery_v_white)"
   ]
  },
  {
   "cell_type": "markdown",
   "metadata": {},
   "source": [
    "A _negative_ coefficient estimate tells us that searches of that race group are _less_ likely to recovery contraband than searches of white drivers in the same district.\n",
    "\n",
    "In line with our plots, we see that searches of both black and Hispanic drivers recover significantly less contraband than searches of white drivers. By exponentiating the point estimates, we can acquire values than allow us to make quantitative statements: Searches of black and Hispanic drivers recover contraband only 35% as often as searches of white drivers."
   ]
  },
  {
   "cell_type": "markdown",
   "metadata": {},
   "source": [
    "TODO FIRST HAVE THEM DO SEARCH RATES, with more covariates, with conf ints\n",
    "THEN DO MODEL PREDICTION, with conf int on mean estimates\n",
    "MAYBE ALSO FIT LM???\n",
    "\n",
    "### Model prediction\n",
    "\n",
    "Often times you'll want to train a model in order to use it to make predictions. Now that we have our model, `mod`, let's say we wanted to predict the probability that a white person living in district E who was searched would be found to have contraband on them. Here's how we'd do that:"
   ]
  },
  {
   "cell_type": "code",
   "execution_count": 153,
   "metadata": {},
   "outputs": [
    {
     "data": {
      "text/html": [
       "<strong>1:</strong> 0.210048252084289"
      ],
      "text/latex": [
       "\\textbf{1:} 0.210048252084289"
      ],
      "text/markdown": [
       "**1:** 0.210048252084289"
      ],
      "text/plain": [
       "   1 \n",
       "0.21 "
      ]
     },
     "metadata": {},
     "output_type": "display_data"
    }
   ],
   "source": [
    "person <- tibble(\n",
    "    race = c('white'),\n",
    "    district = c('E')\n",
    ")\n",
    "predict(mod, person, type = 'response') %>% round(3)"
   ]
  },
  {
   "cell_type": "markdown",
   "metadata": {},
   "source": [
    "**Statistical note:** We need `type = 'response'` so that R knows we want it to output probabilities.  Otherwise, it will output log odds, which is the scale that logistic regression uses.  \n",
    "\n",
    "ALSO DO LOG ODDS OUTPUTS (FIRST) AND THEN TELL THEM NEED RESPONSE"
   ]
  },
  {
   "cell_type": "markdown",
   "metadata": {},
   "source": [
    "### Exercise 12: Many predictions\n",
    "\n",
    "Instead of just passing one person to `predict()`, we can pass in lots of different people! \n",
    "1. Create a dataframe (or \"tibble\") called `people`, with 10 rows and two columns. As with `person` our columns will be \"race\" and \"district. Let's make all 10 people white, and each of them in a different district (there are 10 districts in our dataset). Hint: the function `rep()` might be helpful!\n",
    "2. Now use `predict` to calculate how likely a searched white person is to be carrying contraband in each district in SF."
   ]
  },
  {
   "cell_type": "code",
   "execution_count": 158,
   "metadata": {},
   "outputs": [
    {
     "data": {
      "text/html": [
       "<dl class=dl-horizontal>\n",
       "\t<dt>1</dt>\n",
       "\t\t<dd>0.197</dd>\n",
       "\t<dt>2</dt>\n",
       "\t\t<dd>0.223</dd>\n",
       "\t<dt>3</dt>\n",
       "\t\t<dd>0.285</dd>\n",
       "\t<dt>4</dt>\n",
       "\t\t<dd>0.246</dd>\n",
       "\t<dt>5</dt>\n",
       "\t\t<dd>0.22</dd>\n",
       "\t<dt>6</dt>\n",
       "\t\t<dd>0.21</dd>\n",
       "\t<dt>7</dt>\n",
       "\t\t<dd>0.259</dd>\n",
       "\t<dt>8</dt>\n",
       "\t\t<dd>0.328</dd>\n",
       "\t<dt>9</dt>\n",
       "\t\t<dd>0.263</dd>\n",
       "\t<dt>10</dt>\n",
       "\t\t<dd>0.204</dd>\n",
       "</dl>\n"
      ],
      "text/latex": [
       "\\begin{description*}\n",
       "\\item[1] 0.197\n",
       "\\item[2] 0.223\n",
       "\\item[3] 0.285\n",
       "\\item[4] 0.246\n",
       "\\item[5] 0.22\n",
       "\\item[6] 0.21\n",
       "\\item[7] 0.259\n",
       "\\item[8] 0.328\n",
       "\\item[9] 0.263\n",
       "\\item[10] 0.204\n",
       "\\end{description*}\n"
      ],
      "text/markdown": [
       "1\n",
       ":   0.1972\n",
       ":   0.2233\n",
       ":   0.2854\n",
       ":   0.2465\n",
       ":   0.226\n",
       ":   0.217\n",
       ":   0.2598\n",
       ":   0.3289\n",
       ":   0.26310\n",
       ":   0.204\n",
       "\n"
      ],
      "text/plain": [
       "    1     2     3     4     5     6     7     8     9    10 \n",
       "0.197 0.223 0.285 0.246 0.220 0.210 0.259 0.328 0.263 0.204 "
      ]
     },
     "metadata": {},
     "output_type": "display_data"
    }
   ],
   "source": [
    "# YOUR CODE HERE\n",
    "# START\n",
    "people <- tibble(\n",
    "    race = rep('white', 10),\n",
    "    district = unique(stops_w_yr$district)\n",
    ")\n",
    "predict(mod, people, type='response') %>% round(3)\n",
    "# END\n"
   ]
  },
  {
   "cell_type": "markdown",
   "metadata": {},
   "source": [
    "## Open-ended exploration\n",
    "\n",
    "Now that you have a majority of the tools you need to perform data analysis, let's take some time to let you explore! \n",
    "\n",
    "### Exercise 13: Exploring SF traffic stops MOVE TO BEFORE THEt MODELING\n",
    "\n",
    "Come up with a question you have about the SF traffic stops dataset and see if you can use your new `R` skills to answer it!\n",
    "\n",
    "If you're having a lapse in creative questioning, here are a few to get you started:\n",
    "* What are arrest rates by race? By gender?\n",
    "* Check out the \"reason_for_stop\" column. Among stops made for \"Assistance to motorist\", what's the search rate for black men vs white men?\n",
    "* Are stops more likely to happen at certain times of day?\n"
   ]
  },
  {
   "cell_type": "code",
   "execution_count": 217,
   "metadata": {},
   "outputs": [],
   "source": [
    "# YOUR CODE HERE"
   ]
  },
  {
   "cell_type": "markdown",
   "metadata": {},
   "source": [
    "## NEW DATA SET!\n",
    "TRY BASKETBALL DATASET\n",
    "\n",
    "For our final bit of `R`, let's get down some basics of map-making!"
   ]
  },
  {
   "cell_type": "code",
   "execution_count": 7,
   "metadata": {},
   "outputs": [
    {
     "name": "stderr",
     "output_type": "stream",
     "text": [
      "Google's Terms of Service: https://cloud.google.com/maps-platform/terms/.\n",
      "Please cite ggmap if you use it! See citation(\"ggmap\") for details.\n"
     ]
    }
   ],
   "source": []
  },
  {
   "cell_type": "raw",
   "metadata": {},
   "source": [
    "devtools::install_github(\"dkahle/ggmap\", ref = \"tidyup\", force=TRUE)"
   ]
  },
  {
   "cell_type": "code",
   "execution_count": 17,
   "metadata": {},
   "outputs": [],
   "source": [
    "api_key <- trimws(read_file(\"/share/data/mnpd/api.key\"))\n"
   ]
  },
  {
   "cell_type": "raw",
   "metadata": {},
   "source": [
    "register_google(api_key)"
   ]
  },
  {
   "cell_type": "code",
   "execution_count": 9,
   "metadata": {},
   "outputs": [],
   "source": [
    "left <- stops$lat %>% min(na.rm = T)\n",
    "right <- stops$lat %>% max(na.rm = T)\n",
    "# Create variables `top` and `bottom`\n",
    "# YOUR CODE HERE\n",
    "# START\n",
    "top <- stops$lng %>% max(na.rm = T)\n",
    "bottom <- stops$lng %>% min(na.rm = T)\n",
    "# END\n",
    "\n",
    "bounding_box <- c(left, bottom, right, top)"
   ]
  },
  {
   "cell_type": "code",
   "execution_count": 21,
   "metadata": {},
   "outputs": [
    {
     "name": "stderr",
     "output_type": "stream",
     "text": [
      "Source : https://maps.googleapis.com/maps/api/staticmap?center=36.038676,-123.767429&zoom=11&size=640x640&scale=2&maptype=terrain&language=en-EN&key=xxx-sQ4\n",
      "Warning message in get_googlemap(center = location, zoom = zoom, maptype = maptype, :\n",
      "“HTTP 400 Bad Request”"
     ]
    },
    {
     "ename": "ERROR",
     "evalue": "Error in aperm.default(map, c(2, 1, 3)): invalid first argument, must be an array\n",
     "execution_count": 21,
     "output_type": "error",
     "traceback": [
      "Error in aperm.default(map, c(2, 1, 3)): invalid first argument, must be an array\nTraceback:\n",
      "1. get_map(location = c(lon = bottom, lat = left), maptype = \"terrain\", \n .     color = \"bw\", zoom = 11)",
      "2. get_googlemap(center = location, zoom = zoom, maptype = maptype, \n .     scale = scale, messaging = messaging, urlonly = urlonly, \n .     force = force, filename = filename, color = color, language = language)",
      "3. aperm(map, c(2, 1, 3))",
      "4. aperm.default(map, c(2, 1, 3))"
     ]
    }
   ],
   "source": [
    "register_google(api_key)\n",
    "map <- get_map(\n",
    "  location = c(lon = bottom, lat = left),\n",
    "  maptype = 'terrain', color='bw',\n",
    "  zoom = 11\n",
    ")\n",
    "ggmap(map)"
   ]
  },
  {
   "cell_type": "code",
   "execution_count": 232,
   "metadata": {},
   "outputs": [
    {
     "data": {
      "text/html": [
       "\n",
       "<table width=\"100%\" summary=\"page for get_map {ggmap}\"><tr><td>get_map {ggmap}</td><td style=\"text-align: right;\">R Documentation</td></tr></table>\n",
       "\n",
       "<h2>Grab a map.</h2>\n",
       "\n",
       "<h3>Description</h3>\n",
       "\n",
       "<p><code>get_map</code> is a smart wrapper that queries the Google Maps,\n",
       "OpenStreetMap, Stamen Maps or Naver Map servers for a map.\n",
       "</p>\n",
       "\n",
       "\n",
       "<h3>Usage</h3>\n",
       "\n",
       "<pre>\n",
       "get_map(location = c(lon = -95.3632715, lat = 29.7632836),\n",
       "  zoom = \"auto\", scale = \"auto\", maptype = c(\"terrain\",\n",
       "  \"terrain-background\", \"satellite\", \"roadmap\", \"hybrid\", \"toner\",\n",
       "  \"watercolor\", \"terrain-labels\", \"terrain-lines\", \"toner-2010\",\n",
       "  \"toner-2011\", \"toner-background\", \"toner-hybrid\", \"toner-labels\",\n",
       "  \"toner-lines\", \"toner-lite\"), source = c(\"google\", \"osm\", \"stamen\"),\n",
       "  force = ifelse(source == \"google\", TRUE, FALSE), messaging = FALSE,\n",
       "  urlonly = FALSE, filename = NULL, crop = TRUE, color = c(\"color\",\n",
       "  \"bw\"), language = \"en-EN\", ...)\n",
       "</pre>\n",
       "\n",
       "\n",
       "<h3>Arguments</h3>\n",
       "\n",
       "<table summary=\"R argblock\">\n",
       "<tr valign=\"top\"><td><code>location</code></td>\n",
       "<td>\n",
       "<p>an address, longitude/latitude pair (in that order), or\n",
       "left/bottom/right/top bounding box</p>\n",
       "</td></tr>\n",
       "<tr valign=\"top\"><td><code>zoom</code></td>\n",
       "<td>\n",
       "<p>map zoom, an integer from 3 (continent) to 21 (building), default\n",
       "value 10 (city).  openstreetmaps limits a zoom of 18, and the limit on\n",
       "stamen maps depends on the maptype.  &quot;auto&quot; automatically determines the\n",
       "zoom for bounding box specifications, and is defaulted to 10 with\n",
       "center/zoom specifications.  maps of the whole world currently not\n",
       "supported.</p>\n",
       "</td></tr>\n",
       "<tr valign=\"top\"><td><code>scale</code></td>\n",
       "<td>\n",
       "<p>scale argument of <code>get_googlemap</code> or\n",
       "<code>get_openstreetmap</code></p>\n",
       "</td></tr>\n",
       "<tr valign=\"top\"><td><code>maptype</code></td>\n",
       "<td>\n",
       "<p>character string providing map theme. options available are\n",
       "&quot;terrain&quot;, &quot;terrain-background&quot;, &quot;satellite&quot;, &quot;roadmap&quot;, and &quot;hybrid&quot;\n",
       "(google maps), &quot;terrain&quot;, &quot;watercolor&quot;, and &quot;toner&quot; (stamen maps), or a\n",
       "positive integer for cloudmade maps (see ?get_cloudmademap)</p>\n",
       "</td></tr>\n",
       "<tr valign=\"top\"><td><code>source</code></td>\n",
       "<td>\n",
       "<p>Google Maps (&quot;google&quot;), OpenStreetMap (&quot;osm&quot;), Stamen Maps\n",
       "(&quot;stamen&quot;)</p>\n",
       "</td></tr>\n",
       "<tr valign=\"top\"><td><code>force</code></td>\n",
       "<td>\n",
       "<p>force new map (don't use archived version)</p>\n",
       "</td></tr>\n",
       "<tr valign=\"top\"><td><code>messaging</code></td>\n",
       "<td>\n",
       "<p>turn messaging on/off</p>\n",
       "</td></tr>\n",
       "<tr valign=\"top\"><td><code>urlonly</code></td>\n",
       "<td>\n",
       "<p>return url only</p>\n",
       "</td></tr>\n",
       "<tr valign=\"top\"><td><code>filename</code></td>\n",
       "<td>\n",
       "<p>destination file for download (file extension added according\n",
       "to format). Default <code>NULL</code> means a random <code>tempfile</code>.</p>\n",
       "</td></tr>\n",
       "<tr valign=\"top\"><td><code>crop</code></td>\n",
       "<td>\n",
       "<p>(stamen and cloudmade maps) crop tiles to bounding box</p>\n",
       "</td></tr>\n",
       "<tr valign=\"top\"><td><code>color</code></td>\n",
       "<td>\n",
       "<p>color (&quot;color&quot;) or black-and-white (&quot;bw&quot;)</p>\n",
       "</td></tr>\n",
       "<tr valign=\"top\"><td><code>language</code></td>\n",
       "<td>\n",
       "<p>language for google maps</p>\n",
       "</td></tr>\n",
       "<tr valign=\"top\"><td><code>...</code></td>\n",
       "<td>\n",
       "<p>...</p>\n",
       "</td></tr>\n",
       "</table>\n",
       "\n",
       "\n",
       "<h3>Value</h3>\n",
       "\n",
       "<p>a ggmap object (a classed raster object with a bounding box\n",
       "attribute)\n",
       "</p>\n",
       "\n",
       "\n",
       "<h3>Author(s)</h3>\n",
       "\n",
       "<p>David Kahle <a href=\"mailto:david.kahle@gmail.com\">david.kahle@gmail.com</a>\n",
       "</p>\n",
       "\n",
       "\n",
       "<h3>See Also</h3>\n",
       "\n",
       "<p><code>ggmap</code>, <code>GetMap</code> in package RgoogleMaps\n",
       "</p>\n",
       "\n",
       "\n",
       "<h3>Examples</h3>\n",
       "\n",
       "<pre>\n",
       "\n",
       "## Not run:  some requires Google API key, see ?register_google\n",
       "\n",
       "## basic usage\n",
       "########################################\n",
       "\n",
       "# lon-lat vectors automatically use google:\n",
       "(map &lt;- get_map(c(-97.14667, 31.5493)))\n",
       "str(map)\n",
       "ggmap(map)\n",
       "\n",
       "# bounding boxes default to stamen\n",
       "(map &lt;- get_map(c(left = -97.1268, bottom = 31.536245, right = -97.099334, top = 31.559652)))\n",
       "ggmap(map)\n",
       "\n",
       "# characters default to google\n",
       "(map &lt;- get_map(\"orlando, florida\"))\n",
       "ggmap(map)\n",
       "\n",
       "\n",
       "## basic usage\n",
       "########################################\n",
       "\n",
       "(map &lt;- get_map(maptype = \"roadmap\"))\n",
       "(map &lt;- get_map(source = \"osm\"))\n",
       "(map &lt;- get_map(source = \"stamen\", maptype = \"watercolor\"))\n",
       "\n",
       "map &lt;- get_map(location = \"texas\", zoom = 6, source = \"stamen\")\n",
       "ggmap(map, fullpage = TRUE)\n",
       "\n",
       "\n",
       "## End(Not run)\n",
       "</pre>\n",
       "\n",
       "<hr /><div style=\"text-align: center;\">[Package <em>ggmap</em> version 3.0.0 ]</div>"
      ],
      "text/latex": [
       "\\inputencoding{utf8}\n",
       "\\HeaderA{get\\_map}{Grab a map.}{get.Rul.map}\n",
       "%\n",
       "\\begin{Description}\\relax\n",
       "\\code{get\\_map} is a smart wrapper that queries the Google Maps,\n",
       "OpenStreetMap, Stamen Maps or Naver Map servers for a map.\n",
       "\\end{Description}\n",
       "%\n",
       "\\begin{Usage}\n",
       "\\begin{verbatim}\n",
       "get_map(location = c(lon = -95.3632715, lat = 29.7632836),\n",
       "  zoom = \"auto\", scale = \"auto\", maptype = c(\"terrain\",\n",
       "  \"terrain-background\", \"satellite\", \"roadmap\", \"hybrid\", \"toner\",\n",
       "  \"watercolor\", \"terrain-labels\", \"terrain-lines\", \"toner-2010\",\n",
       "  \"toner-2011\", \"toner-background\", \"toner-hybrid\", \"toner-labels\",\n",
       "  \"toner-lines\", \"toner-lite\"), source = c(\"google\", \"osm\", \"stamen\"),\n",
       "  force = ifelse(source == \"google\", TRUE, FALSE), messaging = FALSE,\n",
       "  urlonly = FALSE, filename = NULL, crop = TRUE, color = c(\"color\",\n",
       "  \"bw\"), language = \"en-EN\", ...)\n",
       "\\end{verbatim}\n",
       "\\end{Usage}\n",
       "%\n",
       "\\begin{Arguments}\n",
       "\\begin{ldescription}\n",
       "\\item[\\code{location}] an address, longitude/latitude pair (in that order), or\n",
       "left/bottom/right/top bounding box\n",
       "\n",
       "\\item[\\code{zoom}] map zoom, an integer from 3 (continent) to 21 (building), default\n",
       "value 10 (city).  openstreetmaps limits a zoom of 18, and the limit on\n",
       "stamen maps depends on the maptype.  \"auto\" automatically determines the\n",
       "zoom for bounding box specifications, and is defaulted to 10 with\n",
       "center/zoom specifications.  maps of the whole world currently not\n",
       "supported.\n",
       "\n",
       "\\item[\\code{scale}] scale argument of \\code{\\LinkA{get\\_googlemap}{get.Rul.googlemap}} or\n",
       "\\code{\\LinkA{get\\_openstreetmap}{get.Rul.openstreetmap}}\n",
       "\n",
       "\\item[\\code{maptype}] character string providing map theme. options available are\n",
       "\"terrain\", \"terrain-background\", \"satellite\", \"roadmap\", and \"hybrid\"\n",
       "(google maps), \"terrain\", \"watercolor\", and \"toner\" (stamen maps), or a\n",
       "positive integer for cloudmade maps (see ?get\\_cloudmademap)\n",
       "\n",
       "\\item[\\code{source}] Google Maps (\"google\"), OpenStreetMap (\"osm\"), Stamen Maps\n",
       "(\"stamen\")\n",
       "\n",
       "\\item[\\code{force}] force new map (don't use archived version)\n",
       "\n",
       "\\item[\\code{messaging}] turn messaging on/off\n",
       "\n",
       "\\item[\\code{urlonly}] return url only\n",
       "\n",
       "\\item[\\code{filename}] destination file for download (file extension added according\n",
       "to format). Default \\code{NULL} means a random \\code{\\LinkA{tempfile}{tempfile}}.\n",
       "\n",
       "\\item[\\code{crop}] (stamen and cloudmade maps) crop tiles to bounding box\n",
       "\n",
       "\\item[\\code{color}] color (\"color\") or black-and-white (\"bw\")\n",
       "\n",
       "\\item[\\code{language}] language for google maps\n",
       "\n",
       "\\item[\\code{...}] ...\n",
       "\\end{ldescription}\n",
       "\\end{Arguments}\n",
       "%\n",
       "\\begin{Value}\n",
       "a ggmap object (a classed raster object with a bounding box\n",
       "attribute)\n",
       "\\end{Value}\n",
       "%\n",
       "\\begin{Author}\\relax\n",
       "David Kahle \\email{david.kahle@gmail.com}\n",
       "\\end{Author}\n",
       "%\n",
       "\\begin{SeeAlso}\\relax\n",
       "\\code{\\LinkA{ggmap}{ggmap}}, \\code{\\LinkA{GetMap}{GetMap}} in package RgoogleMaps\n",
       "\\end{SeeAlso}\n",
       "%\n",
       "\\begin{Examples}\n",
       "\\begin{ExampleCode}\n",
       "\n",
       "## Not run:  some requires Google API key, see ?register_google\n",
       "\n",
       "## basic usage\n",
       "########################################\n",
       "\n",
       "# lon-lat vectors automatically use google:\n",
       "(map <- get_map(c(-97.14667, 31.5493)))\n",
       "str(map)\n",
       "ggmap(map)\n",
       "\n",
       "# bounding boxes default to stamen\n",
       "(map <- get_map(c(left = -97.1268, bottom = 31.536245, right = -97.099334, top = 31.559652)))\n",
       "ggmap(map)\n",
       "\n",
       "# characters default to google\n",
       "(map <- get_map(\"orlando, florida\"))\n",
       "ggmap(map)\n",
       "\n",
       "\n",
       "## basic usage\n",
       "########################################\n",
       "\n",
       "(map <- get_map(maptype = \"roadmap\"))\n",
       "(map <- get_map(source = \"osm\"))\n",
       "(map <- get_map(source = \"stamen\", maptype = \"watercolor\"))\n",
       "\n",
       "map <- get_map(location = \"texas\", zoom = 6, source = \"stamen\")\n",
       "ggmap(map, fullpage = TRUE)\n",
       "\n",
       "\n",
       "## End(Not run)\n",
       "\\end{ExampleCode}\n",
       "\\end{Examples}"
      ],
      "text/plain": [
       "get_map                 package:ggmap                  R Documentation\n",
       "\n",
       "_\bG_\br_\ba_\bb _\ba _\bm_\ba_\bp.\n",
       "\n",
       "_\bD_\be_\bs_\bc_\br_\bi_\bp_\bt_\bi_\bo_\bn:\n",
       "\n",
       "     ‘get_map’ is a smart wrapper that queries the Google Maps,\n",
       "     OpenStreetMap, Stamen Maps or Naver Map servers for a map.\n",
       "\n",
       "_\bU_\bs_\ba_\bg_\be:\n",
       "\n",
       "     get_map(location = c(lon = -95.3632715, lat = 29.7632836),\n",
       "       zoom = \"auto\", scale = \"auto\", maptype = c(\"terrain\",\n",
       "       \"terrain-background\", \"satellite\", \"roadmap\", \"hybrid\", \"toner\",\n",
       "       \"watercolor\", \"terrain-labels\", \"terrain-lines\", \"toner-2010\",\n",
       "       \"toner-2011\", \"toner-background\", \"toner-hybrid\", \"toner-labels\",\n",
       "       \"toner-lines\", \"toner-lite\"), source = c(\"google\", \"osm\", \"stamen\"),\n",
       "       force = ifelse(source == \"google\", TRUE, FALSE), messaging = FALSE,\n",
       "       urlonly = FALSE, filename = NULL, crop = TRUE, color = c(\"color\",\n",
       "       \"bw\"), language = \"en-EN\", ...)\n",
       "     \n",
       "_\bA_\br_\bg_\bu_\bm_\be_\bn_\bt_\bs:\n",
       "\n",
       "location: an address, longitude/latitude pair (in that order), or\n",
       "          left/bottom/right/top bounding box\n",
       "\n",
       "    zoom: map zoom, an integer from 3 (continent) to 21 (building),\n",
       "          default value 10 (city).  openstreetmaps limits a zoom of 18,\n",
       "          and the limit on stamen maps depends on the maptype.  \"auto\"\n",
       "          automatically determines the zoom for bounding box\n",
       "          specifications, and is defaulted to 10 with center/zoom\n",
       "          specifications.  maps of the whole world currently not\n",
       "          supported.\n",
       "\n",
       "   scale: scale argument of ‘get_googlemap’ or ‘get_openstreetmap’\n",
       "\n",
       " maptype: character string providing map theme. options available are\n",
       "          \"terrain\", \"terrain-background\", \"satellite\", \"roadmap\", and\n",
       "          \"hybrid\" (google maps), \"terrain\", \"watercolor\", and \"toner\"\n",
       "          (stamen maps), or a positive integer for cloudmade maps (see\n",
       "          ?get_cloudmademap)\n",
       "\n",
       "  source: Google Maps (\"google\"), OpenStreetMap (\"osm\"), Stamen Maps\n",
       "          (\"stamen\")\n",
       "\n",
       "   force: force new map (don't use archived version)\n",
       "\n",
       "messaging: turn messaging on/off\n",
       "\n",
       " urlonly: return url only\n",
       "\n",
       "filename: destination file for download (file extension added according\n",
       "          to format). Default ‘NULL’ means a random ‘tempfile’.\n",
       "\n",
       "    crop: (stamen and cloudmade maps) crop tiles to bounding box\n",
       "\n",
       "   color: color (\"color\") or black-and-white (\"bw\")\n",
       "\n",
       "language: language for google maps\n",
       "\n",
       "     ...: ...\n",
       "\n",
       "_\bV_\ba_\bl_\bu_\be:\n",
       "\n",
       "     a ggmap object (a classed raster object with a bounding box\n",
       "     attribute)\n",
       "\n",
       "_\bA_\bu_\bt_\bh_\bo_\br(_\bs):\n",
       "\n",
       "     David Kahle <email: david.kahle@gmail.com>\n",
       "\n",
       "_\bS_\be_\be _\bA_\bl_\bs_\bo:\n",
       "\n",
       "     ‘ggmap’, ‘GetMap’ in package RgoogleMaps\n",
       "\n",
       "_\bE_\bx_\ba_\bm_\bp_\bl_\be_\bs:\n",
       "\n",
       "     ## Not run:\n",
       "      some requires Google API key, see ?register_google\n",
       "     \n",
       "     ## basic usage\n",
       "     ########################################\n",
       "     \n",
       "     # lon-lat vectors automatically use google:\n",
       "     (map <- get_map(c(-97.14667, 31.5493)))\n",
       "     str(map)\n",
       "     ggmap(map)\n",
       "     \n",
       "     # bounding boxes default to stamen\n",
       "     (map <- get_map(c(left = -97.1268, bottom = 31.536245, right = -97.099334, top = 31.559652)))\n",
       "     ggmap(map)\n",
       "     \n",
       "     # characters default to google\n",
       "     (map <- get_map(\"orlando, florida\"))\n",
       "     ggmap(map)\n",
       "     \n",
       "     \n",
       "     ## basic usage\n",
       "     ########################################\n",
       "     \n",
       "     (map <- get_map(maptype = \"roadmap\"))\n",
       "     (map <- get_map(source = \"osm\"))\n",
       "     (map <- get_map(source = \"stamen\", maptype = \"watercolor\"))\n",
       "     \n",
       "     map <- get_map(location = \"texas\", zoom = 6, source = \"stamen\")\n",
       "     ggmap(map, fullpage = TRUE)\n",
       "     ## End(Not run)\n",
       "     "
      ]
     },
     "metadata": {},
     "output_type": "display_data"
    }
   ],
   "source": [
    "?get_map"
   ]
  },
  {
   "cell_type": "code",
   "execution_count": null,
   "metadata": {},
   "outputs": [],
   "source": []
  }
 ],
 "metadata": {
  "kernelspec": {
   "display_name": "R",
   "language": "R",
   "name": "ir"
  },
  "language_info": {
   "codemirror_mode": "r",
   "file_extension": ".r",
   "mimetype": "text/x-r-source",
   "name": "R",
   "pygments_lexer": "r",
   "version": "3.4.4"
  }
 },
 "nbformat": 4,
 "nbformat_minor": 2
}
