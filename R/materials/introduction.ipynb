{
 "cells": [
  {
   "cell_type": "markdown",
   "metadata": {},
   "source": [
    "# `R` Basics\n",
    "\n",
    "## `R` Basics: Working Directory\n",
    " - Working directory (`wd`) is where your `R` session will load/save files\n",
    " - To see where your current working directory is, run"
   ]
  },
  {
   "cell_type": "code",
   "execution_count": 10,
   "metadata": {
    "attributes": {
     "classes": [],
     "eval": "FALSE",
     "id": ""
    }
   },
   "outputs": [
    {
     "data": {
      "text/html": [
       "'/home/willcai/iriss-workshop/R/materials'"
      ],
      "text/latex": [
       "'/home/willcai/iriss-workshop/R/materials'"
      ],
      "text/markdown": [
       "'/home/willcai/iriss-workshop/R/materials'"
      ],
      "text/plain": [
       "[1] \"/home/willcai/iriss-workshop/R/materials\""
      ]
     },
     "metadata": {},
     "output_type": "display_data"
    }
   ],
   "source": [
    "getwd()"
   ]
  },
  {
   "cell_type": "markdown",
   "metadata": {},
   "source": [
    "- To set the working directory to desired `path`, run"
   ]
  },
  {
   "cell_type": "code",
   "execution_count": 11,
   "metadata": {
    "attributes": {
     "classes": [],
     "eval": "FALSE",
     "id": ""
    }
   },
   "outputs": [],
   "source": [
    "setwd(\"/home/willcai/iriss-workshop/R/materials\")"
   ]
  },
  {
   "cell_type": "markdown",
   "metadata": {},
   "source": [
    "## `R` Basics: Working Directory (cont'd)\n",
    " - Note that `~` is replaced with your `HOME` directory, e.g.\n",
    " `C:\\Users\\Username\\Documents` in windows\n",
    " - Use forward slashes (`/`), even on Windows!"
   ]
  },
  {
   "cell_type": "code",
   "execution_count": 12,
   "metadata": {
    "attributes": {
     "classes": [],
     "eval": "FALSE,",
     "id": "",
     "tidy": "TRUE"
    }
   },
   "outputs": [],
   "source": [
    "setwd(\"~/iriss-workshop/R/materials\")"
   ]
  },
  {
   "cell_type": "markdown",
   "metadata": {},
   "source": [
    "- **Never** set the working directory to an absolute path in your `R` script\n",
    "     - Even better, organize your scripts such that you never have to change the\n",
    "     working directory\n",
    "     - `setwd()` is best reserved for that time when you started `R` from the\n",
    "     wrong directory\n",
    "\n",
    "## `R` Basics: Math Operations\n",
    "- Simple math operations"
   ]
  },
  {
   "cell_type": "code",
   "execution_count": 13,
   "metadata": {
    "attributes": {
     "classes": [],
     "eval": "FALSE",
     "id": ""
    }
   },
   "outputs": [
    {
     "data": {
      "text/html": [
       "14"
      ],
      "text/latex": [
       "14"
      ],
      "text/markdown": [
       "14"
      ],
      "text/plain": [
       "[1] 14"
      ]
     },
     "metadata": {},
     "output_type": "display_data"
    },
    {
     "data": {
      "text/html": [
       "-8"
      ],
      "text/latex": [
       "-8"
      ],
      "text/markdown": [
       "-8"
      ],
      "text/plain": [
       "[1] -8"
      ]
     },
     "metadata": {},
     "output_type": "display_data"
    },
    {
     "data": {
      "text/html": [
       "0.272727272727273"
      ],
      "text/latex": [
       "0.272727272727273"
      ],
      "text/markdown": [
       "0.272727272727273"
      ],
      "text/plain": [
       "[1] 0.2727273"
      ]
     },
     "metadata": {},
     "output_type": "display_data"
    },
    {
     "data": {
      "text/html": [
       "33"
      ],
      "text/latex": [
       "33"
      ],
      "text/markdown": [
       "33"
      ],
      "text/plain": [
       "[1] 33"
      ]
     },
     "metadata": {},
     "output_type": "display_data"
    },
    {
     "data": {
      "text/html": [
       "1024"
      ],
      "text/latex": [
       "1024"
      ],
      "text/markdown": [
       "1024"
      ],
      "text/plain": [
       "[1] 1024"
      ]
     },
     "metadata": {},
     "output_type": "display_data"
    }
   ],
   "source": [
    "3+11  # add stuff\n",
    "3-11  # subtract stuff\n",
    "3/11  # divide stuff\n",
    "3*11  # multiply stuff\n",
    "2^10  # raise to powers"
   ]
  },
  {
   "cell_type": "markdown",
   "metadata": {},
   "source": [
    "## `R` Basics: Strings\n",
    "- A `String` variable can be declared in either double quotes(`\"\"`) or\n",
    "single quotes (`''`)"
   ]
  },
  {
   "cell_type": "code",
   "execution_count": 19,
   "metadata": {},
   "outputs": [
    {
     "data": {
      "text/html": [
       "'This is a valid string'"
      ],
      "text/latex": [
       "'This is a valid string'"
      ],
      "text/markdown": [
       "'This is a valid string'"
      ],
      "text/plain": [
       "[1] \"This is a valid string\""
      ]
     },
     "metadata": {},
     "output_type": "display_data"
    },
    {
     "data": {
      "text/html": [
       "'and so is this'"
      ],
      "text/latex": [
       "'and so is this'"
      ],
      "text/markdown": [
       "'and so is this'"
      ],
      "text/plain": [
       "[1] \"and so is this\""
      ]
     },
     "metadata": {},
     "output_type": "display_data"
    }
   ],
   "source": [
    "s <- \"This is a valid string\"\n",
    "s\n",
    "s <- 'and so is this'\n",
    "s"
   ]
  },
  {
   "cell_type": "markdown",
   "metadata": {},
   "source": [
    "# Vectors\n",
    "\n",
    "## Vectors: `c()`\n",
    " - Vectors are the building blocks of `R` --- even a single variable is actually\n",
    " an \"atomic\" vector (vector of size 1)\n",
    " - Vectors in `R` are created by *c*oncatenating a series of elements"
   ]
  },
  {
   "cell_type": "code",
   "execution_count": 21,
   "metadata": {},
   "outputs": [
    {
     "data": {
      "text/html": [
       "<ol class=list-inline>\n",
       "\t<li>1</li>\n",
       "\t<li>2</li>\n",
       "\t<li>3</li>\n",
       "</ol>\n"
      ],
      "text/latex": [
       "\\begin{enumerate*}\n",
       "\\item 1\n",
       "\\item 2\n",
       "\\item 3\n",
       "\\end{enumerate*}\n"
      ],
      "text/markdown": [
       "1. 1\n",
       "2. 2\n",
       "3. 3\n",
       "\n",
       "\n"
      ],
      "text/plain": [
       "[1] 1 2 3"
      ]
     },
     "metadata": {},
     "output_type": "display_data"
    },
    {
     "data": {
      "text/html": [
       "<ol class=list-inline>\n",
       "\t<li>'this'</li>\n",
       "\t<li>'that'</li>\n",
       "\t<li>'those'</li>\n",
       "</ol>\n"
      ],
      "text/latex": [
       "\\begin{enumerate*}\n",
       "\\item 'this'\n",
       "\\item 'that'\n",
       "\\item 'those'\n",
       "\\end{enumerate*}\n"
      ],
      "text/markdown": [
       "1. 'this'\n",
       "2. 'that'\n",
       "3. 'those'\n",
       "\n",
       "\n"
      ],
      "text/plain": [
       "[1] \"this\"  \"that\"  \"those\""
      ]
     },
     "metadata": {},
     "output_type": "display_data"
    }
   ],
   "source": [
    "X <- c(1,2,3)\n",
    "X  # vector of numbers (1, 2, 3)\n",
    "Y <- c('this', 'that', 'those')\n",
    "Y  # this is a vector of Strings"
   ]
  },
  {
   "cell_type": "markdown",
   "metadata": {},
   "source": [
    " - We saw lots of vectors in the birthday problem notebook!"
   ]
  },
  {
   "cell_type": "code",
   "execution_count": 65,
   "metadata": {},
   "outputs": [
    {
     "data": {
      "text/html": [
       "<ol class=list-inline>\n",
       "\t<li>2</li>\n",
       "\t<li>2</li>\n",
       "\t<li>1</li>\n",
       "\t<li>3</li>\n",
       "\t<li>3</li>\n",
       "</ol>\n"
      ],
      "text/latex": [
       "\\begin{enumerate*}\n",
       "\\item 2\n",
       "\\item 2\n",
       "\\item 1\n",
       "\\item 3\n",
       "\\item 3\n",
       "\\end{enumerate*}\n"
      ],
      "text/markdown": [
       "1. 2\n",
       "2. 2\n",
       "3. 1\n",
       "4. 3\n",
       "5. 3\n",
       "\n",
       "\n"
      ],
      "text/plain": [
       "[1] 2 2 1 3 3"
      ]
     },
     "metadata": {},
     "output_type": "display_data"
    }
   ],
   "source": [
    "sample(1:3, 5, replace = TRUE) #1:3 is a vector, and our output is also a vector!"
   ]
  },
  {
   "cell_type": "markdown",
   "metadata": {},
   "source": [
    "## Vectors: `seq()`\n",
    "- Create a vector from a sequence with `seq(from, to, by=1)`"
   ]
  },
  {
   "cell_type": "code",
   "execution_count": 22,
   "metadata": {},
   "outputs": [
    {
     "data": {
      "text/html": [
       "<ol class=list-inline>\n",
       "\t<li>1</li>\n",
       "\t<li>2</li>\n",
       "\t<li>3</li>\n",
       "\t<li>4</li>\n",
       "\t<li>5</li>\n",
       "\t<li>6</li>\n",
       "\t<li>7</li>\n",
       "\t<li>8</li>\n",
       "\t<li>9</li>\n",
       "\t<li>10</li>\n",
       "</ol>\n"
      ],
      "text/latex": [
       "\\begin{enumerate*}\n",
       "\\item 1\n",
       "\\item 2\n",
       "\\item 3\n",
       "\\item 4\n",
       "\\item 5\n",
       "\\item 6\n",
       "\\item 7\n",
       "\\item 8\n",
       "\\item 9\n",
       "\\item 10\n",
       "\\end{enumerate*}\n"
      ],
      "text/markdown": [
       "1. 1\n",
       "2. 2\n",
       "3. 3\n",
       "4. 4\n",
       "5. 5\n",
       "6. 6\n",
       "7. 7\n",
       "8. 8\n",
       "9. 9\n",
       "10. 10\n",
       "\n",
       "\n"
      ],
      "text/plain": [
       " [1]  1  2  3  4  5  6  7  8  9 10"
      ]
     },
     "metadata": {},
     "output_type": "display_data"
    },
    {
     "data": {
      "text/html": [
       "<ol class=list-inline>\n",
       "\t<li>1</li>\n",
       "\t<li>3</li>\n",
       "\t<li>5</li>\n",
       "\t<li>7</li>\n",
       "\t<li>9</li>\n",
       "</ol>\n"
      ],
      "text/latex": [
       "\\begin{enumerate*}\n",
       "\\item 1\n",
       "\\item 3\n",
       "\\item 5\n",
       "\\item 7\n",
       "\\item 9\n",
       "\\end{enumerate*}\n"
      ],
      "text/markdown": [
       "1. 1\n",
       "2. 3\n",
       "3. 5\n",
       "4. 7\n",
       "5. 9\n",
       "\n",
       "\n"
      ],
      "text/plain": [
       "[1] 1 3 5 7 9"
      ]
     },
     "metadata": {},
     "output_type": "display_data"
    }
   ],
   "source": [
    "seq(1, 10)\n",
    "seq(1, 10, 2)"
   ]
  },
  {
   "cell_type": "markdown",
   "metadata": {},
   "source": [
    "- Use short-hand `from:to` if you're incrementing by one"
   ]
  },
  {
   "cell_type": "code",
   "execution_count": 23,
   "metadata": {},
   "outputs": [
    {
     "data": {
      "text/html": [
       "<ol class=list-inline>\n",
       "\t<li>1</li>\n",
       "\t<li>2</li>\n",
       "\t<li>3</li>\n",
       "\t<li>4</li>\n",
       "\t<li>5</li>\n",
       "\t<li>6</li>\n",
       "\t<li>7</li>\n",
       "\t<li>8</li>\n",
       "\t<li>9</li>\n",
       "\t<li>10</li>\n",
       "</ol>\n"
      ],
      "text/latex": [
       "\\begin{enumerate*}\n",
       "\\item 1\n",
       "\\item 2\n",
       "\\item 3\n",
       "\\item 4\n",
       "\\item 5\n",
       "\\item 6\n",
       "\\item 7\n",
       "\\item 8\n",
       "\\item 9\n",
       "\\item 10\n",
       "\\end{enumerate*}\n"
      ],
      "text/markdown": [
       "1. 1\n",
       "2. 2\n",
       "3. 3\n",
       "4. 4\n",
       "5. 5\n",
       "6. 6\n",
       "7. 7\n",
       "8. 8\n",
       "9. 9\n",
       "10. 10\n",
       "\n",
       "\n"
      ],
      "text/plain": [
       " [1]  1  2  3  4  5  6  7  8  9 10"
      ]
     },
     "metadata": {},
     "output_type": "display_data"
    }
   ],
   "source": [
    "1:10"
   ]
  },
  {
   "cell_type": "markdown",
   "metadata": {},
   "source": [
    "## Vectors: `rep()`\n",
    "- Use `rep()` to repeat values"
   ]
  },
  {
   "cell_type": "code",
   "execution_count": 24,
   "metadata": {},
   "outputs": [
    {
     "data": {
      "text/html": [
       "<ol class=list-inline>\n",
       "\t<li>13</li>\n",
       "\t<li>13</li>\n",
       "\t<li>13</li>\n",
       "\t<li>13</li>\n",
       "</ol>\n"
      ],
      "text/latex": [
       "\\begin{enumerate*}\n",
       "\\item 13\n",
       "\\item 13\n",
       "\\item 13\n",
       "\\item 13\n",
       "\\end{enumerate*}\n"
      ],
      "text/markdown": [
       "1. 13\n",
       "2. 13\n",
       "3. 13\n",
       "4. 13\n",
       "\n",
       "\n"
      ],
      "text/plain": [
       "[1] 13 13 13 13"
      ]
     },
     "metadata": {},
     "output_type": "display_data"
    },
    {
     "data": {
      "text/html": [
       "<ol class=list-inline>\n",
       "\t<li>'Yes!'</li>\n",
       "\t<li>'Yes!'</li>\n",
       "\t<li>'Yes!'</li>\n",
       "</ol>\n"
      ],
      "text/latex": [
       "\\begin{enumerate*}\n",
       "\\item 'Yes!'\n",
       "\\item 'Yes!'\n",
       "\\item 'Yes!'\n",
       "\\end{enumerate*}\n"
      ],
      "text/markdown": [
       "1. 'Yes!'\n",
       "2. 'Yes!'\n",
       "3. 'Yes!'\n",
       "\n",
       "\n"
      ],
      "text/plain": [
       "[1] \"Yes!\" \"Yes!\" \"Yes!\""
      ]
     },
     "metadata": {},
     "output_type": "display_data"
    },
    {
     "data": {
      "text/html": [
       "<ol class=list-inline>\n",
       "\t<li>'Sat.'</li>\n",
       "\t<li>'Sun.'</li>\n",
       "\t<li>'Sat.'</li>\n",
       "\t<li>'Sun.'</li>\n",
       "</ol>\n"
      ],
      "text/latex": [
       "\\begin{enumerate*}\n",
       "\\item 'Sat.'\n",
       "\\item 'Sun.'\n",
       "\\item 'Sat.'\n",
       "\\item 'Sun.'\n",
       "\\end{enumerate*}\n"
      ],
      "text/markdown": [
       "1. 'Sat.'\n",
       "2. 'Sun.'\n",
       "3. 'Sat.'\n",
       "4. 'Sun.'\n",
       "\n",
       "\n"
      ],
      "text/plain": [
       "[1] \"Sat.\" \"Sun.\" \"Sat.\" \"Sun.\""
      ]
     },
     "metadata": {},
     "output_type": "display_data"
    }
   ],
   "source": [
    "rep(13, 4)\n",
    "rep('Yes!', 3)\n",
    "rep(c('Sat.', 'Sun.'), 2)"
   ]
  },
  {
   "cell_type": "markdown",
   "metadata": {},
   "source": [
    "## Vectors: `r`*`dist`*`()`\n",
    "- In the birthday problem notebook, we used sample() to sample from a vector of numbers.\n",
    "- Sometimes we instead want to generate samples from known distributions\n",
    "    - e.g., simulating 1,000 coin flips and counting the number of heads\n",
    "- For this, we can use the family of `r`*`dist`*`()` functions, where *`dist`*\n",
    "  is replaced with the desired distribution\n",
    "  (e.g., `unif`orm, `norm`al, `pois`son)\n",
    "\n",
    "## Vectors: `r`*`dist`*`()` examples\n",
    "- Generate vector of $n$ samples from a specified distribution"
   ]
  },
  {
   "cell_type": "code",
   "execution_count": 63,
   "metadata": {
    "attributes": {
     "classes": [],
     "eval": "FALSE",
     "id": ""
    }
   },
   "outputs": [
    {
     "data": {
      "text/html": [
       "<ol class=list-inline>\n",
       "\t<li>0.0429864798206836</li>\n",
       "\t<li>0.320008977083489</li>\n",
       "\t<li>0.379813362611458</li>\n",
       "\t<li>0.940845848061144</li>\n",
       "\t<li>0.890416837530211</li>\n",
       "</ol>\n"
      ],
      "text/latex": [
       "\\begin{enumerate*}\n",
       "\\item 0.0429864798206836\n",
       "\\item 0.320008977083489\n",
       "\\item 0.379813362611458\n",
       "\\item 0.940845848061144\n",
       "\\item 0.890416837530211\n",
       "\\end{enumerate*}\n"
      ],
      "text/markdown": [
       "1. 0.0429864798206836\n",
       "2. 0.320008977083489\n",
       "3. 0.379813362611458\n",
       "4. 0.940845848061144\n",
       "5. 0.890416837530211\n",
       "\n",
       "\n"
      ],
      "text/plain": [
       "[1] 0.04298648 0.32000898 0.37981336 0.94084585 0.89041684"
      ]
     },
     "metadata": {},
     "output_type": "display_data"
    },
    {
     "data": {
      "text/html": [
       "<ol class=list-inline>\n",
       "\t<li>-1.28106244851351</li>\n",
       "\t<li>-0.166480000420646</li>\n",
       "\t<li>0.876697472225466</li>\n",
       "\t<li>-0.923160541981062</li>\n",
       "\t<li>-0.508634275898935</li>\n",
       "</ol>\n"
      ],
      "text/latex": [
       "\\begin{enumerate*}\n",
       "\\item -1.28106244851351\n",
       "\\item -0.166480000420646\n",
       "\\item 0.876697472225466\n",
       "\\item -0.923160541981062\n",
       "\\item -0.508634275898935\n",
       "\\end{enumerate*}\n"
      ],
      "text/markdown": [
       "1. -1.28106244851351\n",
       "2. -0.166480000420646\n",
       "3. 0.876697472225466\n",
       "4. -0.923160541981062\n",
       "5. -0.508634275898935\n",
       "\n",
       "\n"
      ],
      "text/plain": [
       "[1] -1.2810624 -0.1664800  0.8766975 -0.9231605 -0.5086343"
      ]
     },
     "metadata": {},
     "output_type": "display_data"
    },
    {
     "data": {
      "text/html": [
       "<ol class=list-inline>\n",
       "\t<li>1</li>\n",
       "\t<li>3</li>\n",
       "\t<li>1</li>\n",
       "\t<li>0</li>\n",
       "\t<li>0</li>\n",
       "</ol>\n"
      ],
      "text/latex": [
       "\\begin{enumerate*}\n",
       "\\item 1\n",
       "\\item 3\n",
       "\\item 1\n",
       "\\item 0\n",
       "\\item 0\n",
       "\\end{enumerate*}\n"
      ],
      "text/markdown": [
       "1. 1\n",
       "2. 3\n",
       "3. 1\n",
       "4. 0\n",
       "5. 0\n",
       "\n",
       "\n"
      ],
      "text/plain": [
       "[1] 1 3 1 0 0"
      ]
     },
     "metadata": {},
     "output_type": "display_data"
    },
    {
     "data": {
      "text/html": [
       "<ol class=list-inline>\n",
       "\t<li>0.491318312684993</li>\n",
       "\t<li>0.666247210465372</li>\n",
       "\t<li>0.343200048431754</li>\n",
       "\t<li>0.0539885563775897</li>\n",
       "\t<li>0.188829073519868</li>\n",
       "</ol>\n"
      ],
      "text/latex": [
       "\\begin{enumerate*}\n",
       "\\item 0.491318312684993\n",
       "\\item 0.666247210465372\n",
       "\\item 0.343200048431754\n",
       "\\item 0.0539885563775897\n",
       "\\item 0.188829073519868\n",
       "\\end{enumerate*}\n"
      ],
      "text/markdown": [
       "1. 0.491318312684993\n",
       "2. 0.666247210465372\n",
       "3. 0.343200048431754\n",
       "4. 0.0539885563775897\n",
       "5. 0.188829073519868\n",
       "\n",
       "\n"
      ],
      "text/plain": [
       "[1] 0.49131831 0.66624721 0.34320005 0.05398856 0.18882907"
      ]
     },
     "metadata": {},
     "output_type": "display_data"
    }
   ],
   "source": [
    "runif(n = 5)  # 5 samples from Unif(0, 1)\n",
    "rnorm(n = 5)  # 5 samples from Norm(0, 1)\n",
    "rpois(n = 5, 1)  # 5 samples from Poisson(1)\n",
    "rexp(n = 5)  # 5 samples from Exp(1)"
   ]
  },
  {
   "cell_type": "markdown",
   "metadata": {},
   "source": [
    "- Distribution parameters can be specified as arguments, e.g."
   ]
  },
  {
   "cell_type": "code",
   "execution_count": 61,
   "metadata": {
    "attributes": {
     "classes": [],
     "eval": "FALSE",
     "id": ""
    }
   },
   "outputs": [
    {
     "data": {
      "text/html": [
       "<ol class=list-inline>\n",
       "\t<li>25.4355693016997</li>\n",
       "\t<li>15.9603948436816</li>\n",
       "\t<li>21.280058519929</li>\n",
       "\t<li>16.8401778252118</li>\n",
       "\t<li>13.7819036130473</li>\n",
       "\t<li>24.4949545102404</li>\n",
       "\t<li>26.979262216134</li>\n",
       "</ol>\n"
      ],
      "text/latex": [
       "\\begin{enumerate*}\n",
       "\\item 25.4355693016997\n",
       "\\item 15.9603948436816\n",
       "\\item 21.280058519929\n",
       "\\item 16.8401778252118\n",
       "\\item 13.7819036130473\n",
       "\\item 24.4949545102404\n",
       "\\item 26.979262216134\n",
       "\\end{enumerate*}\n"
      ],
      "text/markdown": [
       "1. 25.4355693016997\n",
       "2. 15.9603948436816\n",
       "3. 21.280058519929\n",
       "4. 16.8401778252118\n",
       "5. 13.7819036130473\n",
       "6. 24.4949545102404\n",
       "7. 26.979262216134\n",
       "\n",
       "\n"
      ],
      "text/plain": [
       "[1] 25.43557 15.96039 21.28006 16.84018 13.78190 24.49495 26.97926"
      ]
     },
     "metadata": {},
     "output_type": "display_data"
    }
   ],
   "source": [
    "# 7 samples from a Norm(20, 5) distribution\n",
    "rnorm(n = 7, mean = 20, sd = 5)"
   ]
  },
  {
   "cell_type": "markdown",
   "metadata": {},
   "source": [
    "- Read documentation for available distributions"
   ]
  },
  {
   "cell_type": "code",
   "execution_count": 33,
   "metadata": {},
   "outputs": [
    {
     "data": {
      "text/html": [
       "\n",
       "<table width=\"100%\" summary=\"page for Distributions {stats}\"><tr><td>Distributions {stats}</td><td style=\"text-align: right;\">R Documentation</td></tr></table>\n",
       "\n",
       "<h2>Distributions in the stats package</h2>\n",
       "\n",
       "<h3>Description</h3>\n",
       "\n",
       "<p>Density, cumulative distribution function, quantile function and random\n",
       "variate generation for many standard probability distributions are\n",
       "available in the <span class=\"pkg\">stats</span> package.\n",
       "</p>\n",
       "\n",
       "\n",
       "<h3>Details</h3>\n",
       "\n",
       "<p>The functions for the density/mass function, cumulative distribution\n",
       "function, quantile function and random variate generation are named in the\n",
       "form <code>dxxx</code>, <code>pxxx</code>, <code>qxxx</code> and <code>rxxx</code> respectively.\n",
       "</p>\n",
       "<p>For the beta distribution see <code>dbeta</code>.\n",
       "</p>\n",
       "<p>For the binomial (including Bernoulli) distribution see\n",
       "<code>dbinom</code>.\n",
       "</p>\n",
       "<p>For the Cauchy distribution see <code>dcauchy</code>.\n",
       "</p>\n",
       "<p>For the chi-squared distribution see <code>dchisq</code>.\n",
       "</p>\n",
       "<p>For the exponential distribution see <code>dexp</code>.\n",
       "</p>\n",
       "<p>For the F distribution see <code>df</code>.\n",
       "</p>\n",
       "<p>For the gamma distribution see <code>dgamma</code>.\n",
       "</p>\n",
       "<p>For the geometric distribution see <code>dgeom</code>.  (This is also\n",
       "a special case of the negative binomial.)\n",
       "</p>\n",
       "<p>For the hypergeometric distribution see <code>dhyper</code>.\n",
       "</p>\n",
       "<p>For the log-normal distribution see <code>dlnorm</code>.\n",
       "</p>\n",
       "<p>For the multinomial distribution see <code>dmultinom</code>.\n",
       "</p>\n",
       "<p>For the negative binomial distribution see <code>dnbinom</code>.\n",
       "</p>\n",
       "<p>For the normal distribution see <code>dnorm</code>.\n",
       "</p>\n",
       "<p>For the Poisson distribution see <code>dpois</code>.\n",
       "</p>\n",
       "<p>For the Student's t distribution see <code>dt</code>.\n",
       "</p>\n",
       "<p>For the uniform distribution see <code>dunif</code>.\n",
       "</p>\n",
       "<p>For the Weibull distribution see <code>dweibull</code>.\n",
       "</p>\n",
       "<p>For less common distributions of test statistics see\n",
       "<code>pbirthday</code>, <code>dsignrank</code>,\n",
       "<code>ptukey</code> and <code>dwilcox</code> (and see the\n",
       "&lsquo;See Also&rsquo; section of <code>cor.test</code>).\n",
       "</p>\n",
       "\n",
       "\n",
       "<h3>See Also</h3>\n",
       "\n",
       "<p><code>RNG</code> about random number generation in <span style=\"font-family: Courier New, Courier; color: #666666;\"><b>R</b></span>.\n",
       "</p>\n",
       "<p>The CRAN task view on distributions,\n",
       "<a href=\"https://CRAN.R-project.org/view=Distributions\">https://CRAN.R-project.org/view=Distributions</a>,\n",
       "mentioning several CRAN packages for additional distributions.\n",
       "</p>\n",
       "\n",
       "<hr /><div style=\"text-align: center;\">[Package <em>stats</em> version 3.4.4 ]</div>"
      ],
      "text/latex": [
       "\\inputencoding{utf8}\n",
       "\\HeaderA{Distributions}{Distributions in the stats package}{Distributions}\n",
       "\\aliasA{distribution}{Distributions}{distribution}\n",
       "\\aliasA{distributions}{Distributions}{distributions}\n",
       "\\keyword{distribution}{Distributions}\n",
       "%\n",
       "\\begin{Description}\\relax\n",
       "Density, cumulative distribution function, quantile function and random\n",
       "variate generation for many standard probability distributions are\n",
       "available in the \\pkg{stats} package.\n",
       "\\end{Description}\n",
       "%\n",
       "\\begin{Details}\\relax\n",
       "The functions for the density/mass function, cumulative distribution\n",
       "function, quantile function and random variate generation are named in the\n",
       "form \\code{dxxx}, \\code{pxxx}, \\code{qxxx} and \\code{rxxx} respectively.\n",
       "\n",
       "For the beta distribution see \\code{\\LinkA{dbeta}{dbeta}}.\n",
       "\n",
       "For the binomial (including Bernoulli) distribution see\n",
       "\\code{\\LinkA{dbinom}{dbinom}}.\n",
       "\n",
       "For the Cauchy distribution see \\code{\\LinkA{dcauchy}{dcauchy}}.\n",
       "\n",
       "For the chi-squared distribution see \\code{\\LinkA{dchisq}{dchisq}}.\n",
       "\n",
       "For the exponential distribution see \\code{\\LinkA{dexp}{dexp}}.\n",
       "\n",
       "For the F distribution see \\code{\\LinkA{df}{df}}.\n",
       "\n",
       "For the gamma distribution see \\code{\\LinkA{dgamma}{dgamma}}.\n",
       "\n",
       "For the geometric distribution see \\code{\\LinkA{dgeom}{dgeom}}.  (This is also\n",
       "a special case of the negative binomial.)\n",
       "\n",
       "For the hypergeometric distribution see \\code{\\LinkA{dhyper}{dhyper}}.\n",
       "\n",
       "For the log-normal distribution see \\code{\\LinkA{dlnorm}{dlnorm}}.\n",
       "\n",
       "For the multinomial distribution see \\code{\\LinkA{dmultinom}{dmultinom}}.\n",
       "\n",
       "For the negative binomial distribution see \\code{\\LinkA{dnbinom}{dnbinom}}.\n",
       "\n",
       "For the normal distribution see \\code{\\LinkA{dnorm}{dnorm}}.\n",
       "\n",
       "For the Poisson distribution see \\code{\\LinkA{dpois}{dpois}}.\n",
       "\n",
       "For the Student's t distribution see \\code{\\LinkA{dt}{dt}}.\n",
       "\n",
       "For the uniform distribution see \\code{\\LinkA{dunif}{dunif}}.\n",
       "\n",
       "For the Weibull distribution see \\code{\\LinkA{dweibull}{dweibull}}.\n",
       "\n",
       "For less common distributions of test statistics see\n",
       "\\code{\\LinkA{pbirthday}{pbirthday}}, \\code{\\LinkA{dsignrank}{dsignrank}},\n",
       "\\code{\\LinkA{ptukey}{ptukey}} and \\code{\\LinkA{dwilcox}{dwilcox}} (and see the\n",
       "`See Also' section of \\code{\\LinkA{cor.test}{cor.test}}).\n",
       "\\end{Details}\n",
       "%\n",
       "\\begin{SeeAlso}\\relax\n",
       "\\code{\\LinkA{RNG}{RNG}} about random number generation in \\R{}.\n",
       "\n",
       "The CRAN task view on distributions,\n",
       "\\url{https://CRAN.R-project.org/view=Distributions},\n",
       "mentioning several CRAN packages for additional distributions.\n",
       "\\end{SeeAlso}"
      ],
      "text/plain": [
       "Distributions              package:stats               R Documentation\n",
       "\n",
       "_\bD_\bi_\bs_\bt_\br_\bi_\bb_\bu_\bt_\bi_\bo_\bn_\bs _\bi_\bn _\bt_\bh_\be _\bs_\bt_\ba_\bt_\bs _\bp_\ba_\bc_\bk_\ba_\bg_\be\n",
       "\n",
       "_\bD_\be_\bs_\bc_\br_\bi_\bp_\bt_\bi_\bo_\bn:\n",
       "\n",
       "     Density, cumulative distribution function, quantile function and\n",
       "     random variate generation for many standard probability\n",
       "     distributions are available in the ‘stats’ package.\n",
       "\n",
       "_\bD_\be_\bt_\ba_\bi_\bl_\bs:\n",
       "\n",
       "     The functions for the density/mass function, cumulative\n",
       "     distribution function, quantile function and random variate\n",
       "     generation are named in the form ‘dxxx’, ‘pxxx’, ‘qxxx’ and ‘rxxx’\n",
       "     respectively.\n",
       "\n",
       "     For the beta distribution see ‘dbeta’.\n",
       "\n",
       "     For the binomial (including Bernoulli) distribution see ‘dbinom’.\n",
       "\n",
       "     For the Cauchy distribution see ‘dcauchy’.\n",
       "\n",
       "     For the chi-squared distribution see ‘dchisq’.\n",
       "\n",
       "     For the exponential distribution see ‘dexp’.\n",
       "\n",
       "     For the F distribution see ‘df’.\n",
       "\n",
       "     For the gamma distribution see ‘dgamma’.\n",
       "\n",
       "     For the geometric distribution see ‘dgeom’.  (This is also a\n",
       "     special case of the negative binomial.)\n",
       "\n",
       "     For the hypergeometric distribution see ‘dhyper’.\n",
       "\n",
       "     For the log-normal distribution see ‘dlnorm’.\n",
       "\n",
       "     For the multinomial distribution see ‘dmultinom’.\n",
       "\n",
       "     For the negative binomial distribution see ‘dnbinom’.\n",
       "\n",
       "     For the normal distribution see ‘dnorm’.\n",
       "\n",
       "     For the Poisson distribution see ‘dpois’.\n",
       "\n",
       "     For the Student's t distribution see ‘dt’.\n",
       "\n",
       "     For the uniform distribution see ‘dunif’.\n",
       "\n",
       "     For the Weibull distribution see ‘dweibull’.\n",
       "\n",
       "     For less common distributions of test statistics see ‘pbirthday’,\n",
       "     ‘dsignrank’, ‘ptukey’ and ‘dwilcox’ (and see the ‘See Also’\n",
       "     section of ‘cor.test’).\n",
       "\n",
       "_\bS_\be_\be _\bA_\bl_\bs_\bo:\n",
       "\n",
       "     ‘RNG’ about random number generation in R.\n",
       "\n",
       "     The CRAN task view on distributions, <URL:\n",
       "     https://CRAN.R-project.org/view=Distributions>, mentioning several\n",
       "     CRAN packages for additional distributions.\n"
      ]
     },
     "metadata": {},
     "output_type": "display_data"
    }
   ],
   "source": [
    "?Distributions"
   ]
  },
  {
   "cell_type": "markdown",
   "metadata": {},
   "source": [
    "## Vectors: Indexing\n",
    "- Use square braces (`[]`) to index a vector (base 1)\n",
    "    - Indexing out-of-bounds returns a special value called `NA`, *does NOT*\n",
    "      fail"
   ]
  },
  {
   "cell_type": "code",
   "execution_count": 66,
   "metadata": {},
   "outputs": [
    {
     "data": {
      "text/html": [
       "10"
      ],
      "text/latex": [
       "10"
      ],
      "text/markdown": [
       "10"
      ],
      "text/plain": [
       "[1] 10"
      ]
     },
     "metadata": {},
     "output_type": "display_data"
    },
    {
     "data": {
      "text/html": [
       "13"
      ],
      "text/latex": [
       "13"
      ],
      "text/markdown": [
       "13"
      ],
      "text/plain": [
       "[1] 13"
      ]
     },
     "metadata": {},
     "output_type": "display_data"
    },
    {
     "data": {
      "text/html": null,
      "text/latex": null,
      "text/markdown": null,
      "text/plain": [
       "[1] NA"
      ]
     },
     "metadata": {},
     "output_type": "display_data"
    }
   ],
   "source": [
    "X <- c(10, 11, 12, 13)\n",
    "X[1]\n",
    "X[4]\n",
    "X[5]  # Does NOT fail; but returns NA"
   ]
  },
  {
   "cell_type": "markdown",
   "metadata": {},
   "source": [
    "## Vectors: Indexing (cont'd)\n",
    "- Negative indexing is used to exclude elements"
   ]
  },
  {
   "cell_type": "code",
   "execution_count": 70,
   "metadata": {},
   "outputs": [
    {
     "data": {
      "text/html": [
       "<ol class=list-inline>\n",
       "\t<li>11</li>\n",
       "\t<li>12</li>\n",
       "\t<li>13</li>\n",
       "</ol>\n"
      ],
      "text/latex": [
       "\\begin{enumerate*}\n",
       "\\item 11\n",
       "\\item 12\n",
       "\\item 13\n",
       "\\end{enumerate*}\n"
      ],
      "text/markdown": [
       "1. 11\n",
       "2. 12\n",
       "3. 13\n",
       "\n",
       "\n"
      ],
      "text/plain": [
       "[1] 11 12 13"
      ]
     },
     "metadata": {},
     "output_type": "display_data"
    }
   ],
   "source": [
    "X[-1]"
   ]
  },
  {
   "cell_type": "markdown",
   "metadata": {},
   "source": [
    "- Index multiple objects by indexing with a vector"
   ]
  },
  {
   "cell_type": "code",
   "execution_count": 71,
   "metadata": {},
   "outputs": [
    {
     "data": {
      "text/html": [
       "<ol class=list-inline>\n",
       "\t<li>11</li>\n",
       "\t<li>13</li>\n",
       "</ol>\n"
      ],
      "text/latex": [
       "\\begin{enumerate*}\n",
       "\\item 11\n",
       "\\item 13\n",
       "\\end{enumerate*}\n"
      ],
      "text/markdown": [
       "1. 11\n",
       "2. 13\n",
       "\n",
       "\n"
      ],
      "text/plain": [
       "[1] 11 13"
      ]
     },
     "metadata": {},
     "output_type": "display_data"
    }
   ],
   "source": [
    "ind <- c(2, 4)\n",
    "X[ind]"
   ]
  },
  {
   "cell_type": "markdown",
   "metadata": {},
   "source": [
    "## Vectors: Re-assignment with Indices\n",
    "- Replace elements by re-assigning with index"
   ]
  },
  {
   "cell_type": "code",
   "execution_count": 37,
   "metadata": {},
   "outputs": [
    {
     "data": {
      "text/html": [
       "<ol class=list-inline>\n",
       "\t<li>101</li>\n",
       "\t<li>11</li>\n",
       "\t<li>12</li>\n",
       "\t<li>13</li>\n",
       "</ol>\n"
      ],
      "text/latex": [
       "\\begin{enumerate*}\n",
       "\\item 101\n",
       "\\item 11\n",
       "\\item 12\n",
       "\\item 13\n",
       "\\end{enumerate*}\n"
      ],
      "text/markdown": [
       "1. 101\n",
       "2. 11\n",
       "3. 12\n",
       "4. 13\n",
       "\n",
       "\n"
      ],
      "text/plain": [
       "[1] 101  11  12  13"
      ]
     },
     "metadata": {},
     "output_type": "display_data"
    }
   ],
   "source": [
    "X[1] <- 101\n",
    "X"
   ]
  },
  {
   "cell_type": "markdown",
   "metadata": {},
   "source": [
    "- Replace multiple elements as well"
   ]
  },
  {
   "cell_type": "code",
   "execution_count": 38,
   "metadata": {},
   "outputs": [
    {
     "data": {
      "text/html": [
       "<ol class=list-inline>\n",
       "\t<li>101</li>\n",
       "\t<li>22</li>\n",
       "\t<li>33</li>\n",
       "\t<li>13</li>\n",
       "</ol>\n"
      ],
      "text/latex": [
       "\\begin{enumerate*}\n",
       "\\item 101\n",
       "\\item 22\n",
       "\\item 33\n",
       "\\item 13\n",
       "\\end{enumerate*}\n"
      ],
      "text/markdown": [
       "1. 101\n",
       "2. 22\n",
       "3. 33\n",
       "4. 13\n",
       "\n",
       "\n"
      ],
      "text/plain": [
       "[1] 101  22  33  13"
      ]
     },
     "metadata": {},
     "output_type": "display_data"
    }
   ],
   "source": [
    "X[2:3] <- c(22, 33)\n",
    "X"
   ]
  },
  {
   "cell_type": "markdown",
   "metadata": {},
   "source": [
    "## Vectors: Add Elements by Index\n",
    "- Add new elements to a vector by assigning"
   ]
  },
  {
   "cell_type": "code",
   "execution_count": 39,
   "metadata": {},
   "outputs": [
    {
     "data": {
      "text/html": null,
      "text/latex": null,
      "text/markdown": null,
      "text/plain": [
       "[1] NA"
      ]
     },
     "metadata": {},
     "output_type": "display_data"
    },
    {
     "data": {
      "text/html": [
       "<ol class=list-inline>\n",
       "\t<li>101</li>\n",
       "\t<li>22</li>\n",
       "\t<li>33</li>\n",
       "\t<li>13</li>\n",
       "\t<li>555</li>\n",
       "</ol>\n"
      ],
      "text/latex": [
       "\\begin{enumerate*}\n",
       "\\item 101\n",
       "\\item 22\n",
       "\\item 33\n",
       "\\item 13\n",
       "\\item 555\n",
       "\\end{enumerate*}\n"
      ],
      "text/markdown": [
       "1. 101\n",
       "2. 22\n",
       "3. 33\n",
       "4. 13\n",
       "5. 555\n",
       "\n",
       "\n"
      ],
      "text/plain": [
       "[1] 101  22  33  13 555"
      ]
     },
     "metadata": {},
     "output_type": "display_data"
    }
   ],
   "source": [
    "X[5]\n",
    "X[5] <- 555\n",
    "X"
   ]
  },
  {
   "cell_type": "markdown",
   "metadata": {},
   "source": [
    "# Vector Operations\n",
    "\n",
    "## Vector Operations"
   ]
  },
  {
   "cell_type": "code",
   "execution_count": 72,
   "metadata": {},
   "outputs": [
    {
     "data": {
      "text/html": [
       "<ol class=list-inline>\n",
       "\t<li>1</li>\n",
       "\t<li>2</li>\n",
       "\t<li>3</li>\n",
       "\t<li>4</li>\n",
       "</ol>\n"
      ],
      "text/latex": [
       "\\begin{enumerate*}\n",
       "\\item 1\n",
       "\\item 2\n",
       "\\item 3\n",
       "\\item 4\n",
       "\\end{enumerate*}\n"
      ],
      "text/markdown": [
       "1. 1\n",
       "2. 2\n",
       "3. 3\n",
       "4. 4\n",
       "\n",
       "\n"
      ],
      "text/plain": [
       "[1] 1 2 3 4"
      ]
     },
     "metadata": {},
     "output_type": "display_data"
    },
    {
     "data": {
      "text/html": [
       "<ol class=list-inline>\n",
       "\t<li>2</li>\n",
       "\t<li>4</li>\n",
       "\t<li>6</li>\n",
       "\t<li>8</li>\n",
       "</ol>\n"
      ],
      "text/latex": [
       "\\begin{enumerate*}\n",
       "\\item 2\n",
       "\\item 4\n",
       "\\item 6\n",
       "\\item 8\n",
       "\\end{enumerate*}\n"
      ],
      "text/markdown": [
       "1. 2\n",
       "2. 4\n",
       "3. 6\n",
       "4. 8\n",
       "\n",
       "\n"
      ],
      "text/plain": [
       "[1] 2 4 6 8"
      ]
     },
     "metadata": {},
     "output_type": "display_data"
    },
    {
     "data": {
      "text/html": [
       "<ol class=list-inline>\n",
       "\t<li>0</li>\n",
       "\t<li>0</li>\n",
       "\t<li>0</li>\n",
       "\t<li>0</li>\n",
       "</ol>\n"
      ],
      "text/latex": [
       "\\begin{enumerate*}\n",
       "\\item 0\n",
       "\\item 0\n",
       "\\item 0\n",
       "\\item 0\n",
       "\\end{enumerate*}\n"
      ],
      "text/markdown": [
       "1. 0\n",
       "2. 0\n",
       "3. 0\n",
       "4. 0\n",
       "\n",
       "\n"
      ],
      "text/plain": [
       "[1] 0 0 0 0"
      ]
     },
     "metadata": {},
     "output_type": "display_data"
    }
   ],
   "source": [
    "X = c(1:4)\n",
    "X\n",
    "X + X  # element-wise summation\n",
    "X - X  # element-wise subtraction"
   ]
  },
  {
   "cell_type": "markdown",
   "metadata": {},
   "source": [
    "## Vector Operations (cont'd)"
   ]
  },
  {
   "cell_type": "code",
   "execution_count": 73,
   "metadata": {},
   "outputs": [
    {
     "data": {
      "text/html": [
       "<ol class=list-inline>\n",
       "\t<li>1</li>\n",
       "\t<li>2</li>\n",
       "\t<li>3</li>\n",
       "\t<li>4</li>\n",
       "</ol>\n"
      ],
      "text/latex": [
       "\\begin{enumerate*}\n",
       "\\item 1\n",
       "\\item 2\n",
       "\\item 3\n",
       "\\item 4\n",
       "\\end{enumerate*}\n"
      ],
      "text/markdown": [
       "1. 1\n",
       "2. 2\n",
       "3. 3\n",
       "4. 4\n",
       "\n",
       "\n"
      ],
      "text/plain": [
       "[1] 1 2 3 4"
      ]
     },
     "metadata": {},
     "output_type": "display_data"
    },
    {
     "data": {
      "text/html": [
       "<ol class=list-inline>\n",
       "\t<li>1</li>\n",
       "\t<li>8</li>\n",
       "\t<li>27</li>\n",
       "\t<li>64</li>\n",
       "</ol>\n"
      ],
      "text/latex": [
       "\\begin{enumerate*}\n",
       "\\item 1\n",
       "\\item 8\n",
       "\\item 27\n",
       "\\item 64\n",
       "\\end{enumerate*}\n"
      ],
      "text/markdown": [
       "1. 1\n",
       "2. 8\n",
       "3. 27\n",
       "4. 64\n",
       "\n",
       "\n"
      ],
      "text/plain": [
       "[1]  1  8 27 64"
      ]
     },
     "metadata": {},
     "output_type": "display_data"
    },
    {
     "data": {
      "text/html": [
       "<ol class=list-inline>\n",
       "\t<li>1</li>\n",
       "\t<li>4</li>\n",
       "\t<li>9</li>\n",
       "\t<li>16</li>\n",
       "</ol>\n"
      ],
      "text/latex": [
       "\\begin{enumerate*}\n",
       "\\item 1\n",
       "\\item 4\n",
       "\\item 9\n",
       "\\item 16\n",
       "\\end{enumerate*}\n"
      ],
      "text/markdown": [
       "1. 1\n",
       "2. 4\n",
       "3. 9\n",
       "4. 16\n",
       "\n",
       "\n"
      ],
      "text/plain": [
       "[1]  1  4  9 16"
      ]
     },
     "metadata": {},
     "output_type": "display_data"
    },
    {
     "data": {
      "text/html": [
       "<table>\n",
       "<tbody>\n",
       "\t<tr><td>30</td></tr>\n",
       "</tbody>\n",
       "</table>\n"
      ],
      "text/latex": [
       "\\begin{tabular}{l}\n",
       "\t 30\\\\\n",
       "\\end{tabular}\n"
      ],
      "text/markdown": [
       "30"
      ],
      "text/plain": [
       "     [,1]\n",
       "[1,] 30  "
      ]
     },
     "metadata": {},
     "output_type": "display_data"
    }
   ],
   "source": [
    "X\n",
    "X^3   # element-wise exponentiation\n",
    "X * X  # element-wise multiplication\n",
    "X %*% X  # dot (inner) product"
   ]
  },
  {
   "cell_type": "markdown",
   "metadata": {},
   "source": [
    "## Vector comparisons\n",
    "- Comparisons are all done element-wise"
   ]
  },
  {
   "cell_type": "code",
   "execution_count": 42,
   "metadata": {},
   "outputs": [
    {
     "data": {
      "text/html": [
       "<ol class=list-inline>\n",
       "\t<li>TRUE</li>\n",
       "\t<li>TRUE</li>\n",
       "\t<li>FALSE</li>\n",
       "</ol>\n"
      ],
      "text/latex": [
       "\\begin{enumerate*}\n",
       "\\item TRUE\n",
       "\\item TRUE\n",
       "\\item FALSE\n",
       "\\end{enumerate*}\n"
      ],
      "text/markdown": [
       "1. TRUE\n",
       "2. TRUE\n",
       "3. FALSE\n",
       "\n",
       "\n"
      ],
      "text/plain": [
       "[1]  TRUE  TRUE FALSE"
      ]
     },
     "metadata": {},
     "output_type": "display_data"
    },
    {
     "data": {
      "text/html": [
       "<ol class=list-inline>\n",
       "\t<li>FALSE</li>\n",
       "\t<li>FALSE</li>\n",
       "\t<li>TRUE</li>\n",
       "</ol>\n"
      ],
      "text/latex": [
       "\\begin{enumerate*}\n",
       "\\item FALSE\n",
       "\\item FALSE\n",
       "\\item TRUE\n",
       "\\end{enumerate*}\n"
      ],
      "text/markdown": [
       "1. FALSE\n",
       "2. FALSE\n",
       "3. TRUE\n",
       "\n",
       "\n"
      ],
      "text/plain": [
       "[1] FALSE FALSE  TRUE"
      ]
     },
     "metadata": {},
     "output_type": "display_data"
    },
    {
     "data": {
      "text/html": [
       "<ol class=list-inline>\n",
       "\t<li>TRUE</li>\n",
       "\t<li>TRUE</li>\n",
       "\t<li>FALSE</li>\n",
       "</ol>\n"
      ],
      "text/latex": [
       "\\begin{enumerate*}\n",
       "\\item TRUE\n",
       "\\item TRUE\n",
       "\\item FALSE\n",
       "\\end{enumerate*}\n"
      ],
      "text/markdown": [
       "1. TRUE\n",
       "2. TRUE\n",
       "3. FALSE\n",
       "\n",
       "\n"
      ],
      "text/plain": [
       "[1]  TRUE  TRUE FALSE"
      ]
     },
     "metadata": {},
     "output_type": "display_data"
    }
   ],
   "source": [
    "c(1, 2, 3) == c(1, 2, 4)\n",
    "c(1, 2, 3) < c(1, 2, 4)\n",
    "c(1, 2, 3) >= c(1, 2, 4)"
   ]
  },
  {
   "cell_type": "markdown",
   "metadata": {},
   "source": [
    "- Note the double equal sign for comparing equality (one would be assignment!)\n",
    "\n",
    "## Helpful Vector Functions\n",
    "- If possible, avoid `loops` by operating over the Vector/Matrix as a whole"
   ]
  },
  {
   "cell_type": "code",
   "execution_count": 43,
   "metadata": {
    "attributes": {
     "classes": [],
     "eval": "FALSE",
     "id": ""
    }
   },
   "outputs": [
    {
     "data": {
      "text/html": [
       "2.5"
      ],
      "text/latex": [
       "2.5"
      ],
      "text/markdown": [
       "2.5"
      ],
      "text/plain": [
       "[1] 2.5"
      ]
     },
     "metadata": {},
     "output_type": "display_data"
    },
    {
     "data": {
      "text/html": [
       "1.29099444873581"
      ],
      "text/latex": [
       "1.29099444873581"
      ],
      "text/markdown": [
       "1.29099444873581"
      ],
      "text/plain": [
       "[1] 1.290994"
      ]
     },
     "metadata": {},
     "output_type": "display_data"
    },
    {
     "data": {
      "text/html": [
       "1.66666666666667"
      ],
      "text/latex": [
       "1.66666666666667"
      ],
      "text/markdown": [
       "1.66666666666667"
      ],
      "text/plain": [
       "[1] 1.666667"
      ]
     },
     "metadata": {},
     "output_type": "display_data"
    },
    {
     "data": {
      "text/html": [
       "4"
      ],
      "text/latex": [
       "4"
      ],
      "text/markdown": [
       "4"
      ],
      "text/plain": [
       "[1] 4"
      ]
     },
     "metadata": {},
     "output_type": "display_data"
    },
    {
     "data": {
      "text/html": [
       "1"
      ],
      "text/latex": [
       "1"
      ],
      "text/markdown": [
       "1"
      ],
      "text/plain": [
       "[1] 1"
      ]
     },
     "metadata": {},
     "output_type": "display_data"
    },
    {
     "data": {
      "text/html": [
       "2.5"
      ],
      "text/latex": [
       "2.5"
      ],
      "text/markdown": [
       "2.5"
      ],
      "text/plain": [
       "[1] 2.5"
      ]
     },
     "metadata": {},
     "output_type": "display_data"
    },
    {
     "data": {
      "text/html": [
       "10"
      ],
      "text/latex": [
       "10"
      ],
      "text/markdown": [
       "10"
      ],
      "text/plain": [
       "[1] 10"
      ]
     },
     "metadata": {},
     "output_type": "display_data"
    },
    {
     "data": {
      "text/html": [
       "24"
      ],
      "text/latex": [
       "24"
      ],
      "text/markdown": [
       "24"
      ],
      "text/plain": [
       "[1] 24"
      ]
     },
     "metadata": {},
     "output_type": "display_data"
    },
    {
     "data": {
      "text/html": [
       "<strong>50%:</strong> 2.5"
      ],
      "text/latex": [
       "\\textbf{50\\textbackslash{}\\%:} 2.5"
      ],
      "text/markdown": [
       "**50%:** 2.5"
      ],
      "text/plain": [
       "50% \n",
       "2.5 "
      ]
     },
     "metadata": {},
     "output_type": "display_data"
    },
    {
     "data": {
      "text/html": [
       "4"
      ],
      "text/latex": [
       "4"
      ],
      "text/markdown": [
       "4"
      ],
      "text/plain": [
       "[1] 4"
      ]
     },
     "metadata": {},
     "output_type": "display_data"
    },
    {
     "data": {
      "text/html": [
       "<ol class=list-inline>\n",
       "\t<li>1</li>\n",
       "\t<li>4</li>\n",
       "</ol>\n"
      ],
      "text/latex": [
       "\\begin{enumerate*}\n",
       "\\item 1\n",
       "\\item 4\n",
       "\\end{enumerate*}\n"
      ],
      "text/markdown": [
       "1. 1\n",
       "2. 4\n",
       "\n",
       "\n"
      ],
      "text/plain": [
       "[1] 1 4"
      ]
     },
     "metadata": {},
     "output_type": "display_data"
    }
   ],
   "source": [
    "mean(X)                # mean\n",
    "sd(X)                  # standard deviation\n",
    "var(X)                 # variance\n",
    "max(X)                 # maximum\n",
    "min(X)                 # minimum\n",
    "median(X)              # median\n",
    "sum(X)                 # sum\n",
    "prod(X)                # product\n",
    "quantile(X,probs=0.5)  # quantile for specified probs\n",
    "length(X)              # length of the vector\n",
    "range(X)               # range"
   ]
  },
  {
   "cell_type": "markdown",
   "metadata": {},
   "source": [
    "# Built-in functions\n",
    "\n",
    "## Some more built-in functions\n",
    "- We've already seen many built-in functions, but here are some more!"
   ]
  },
  {
   "cell_type": "code",
   "execution_count": 44,
   "metadata": {
    "attributes": {
     "classes": [],
     "eval": "FALSE",
     "id": ""
    }
   },
   "outputs": [
    {
     "data": {
      "text/html": [
       "<ol class=list-inline>\n",
       "\t<li>0</li>\n",
       "\t<li>0.693147180559945</li>\n",
       "\t<li>1.09861228866811</li>\n",
       "\t<li>1.38629436111989</li>\n",
       "</ol>\n"
      ],
      "text/latex": [
       "\\begin{enumerate*}\n",
       "\\item 0\n",
       "\\item 0.693147180559945\n",
       "\\item 1.09861228866811\n",
       "\\item 1.38629436111989\n",
       "\\end{enumerate*}\n"
      ],
      "text/markdown": [
       "1. 0\n",
       "2. 0.693147180559945\n",
       "3. 1.09861228866811\n",
       "4. 1.38629436111989\n",
       "\n",
       "\n"
      ],
      "text/plain": [
       "[1] 0.0000000 0.6931472 1.0986123 1.3862944"
      ]
     },
     "metadata": {},
     "output_type": "display_data"
    },
    {
     "data": {
      "text/html": [
       "<ol class=list-inline>\n",
       "\t<li>2.71828182845905</li>\n",
       "\t<li>7.38905609893065</li>\n",
       "\t<li>20.0855369231877</li>\n",
       "\t<li>54.5981500331442</li>\n",
       "</ol>\n"
      ],
      "text/latex": [
       "\\begin{enumerate*}\n",
       "\\item 2.71828182845905\n",
       "\\item 7.38905609893065\n",
       "\\item 20.0855369231877\n",
       "\\item 54.5981500331442\n",
       "\\end{enumerate*}\n"
      ],
      "text/markdown": [
       "1. 2.71828182845905\n",
       "2. 7.38905609893065\n",
       "3. 20.0855369231877\n",
       "4. 54.5981500331442\n",
       "\n",
       "\n"
      ],
      "text/plain": [
       "[1]  2.718282  7.389056 20.085537 54.598150"
      ]
     },
     "metadata": {},
     "output_type": "display_data"
    },
    {
     "data": {
      "text/html": [
       "<ol class=list-inline>\n",
       "\t<li>1</li>\n",
       "\t<li>1.4142135623731</li>\n",
       "\t<li>1.73205080756888</li>\n",
       "\t<li>2</li>\n",
       "</ol>\n"
      ],
      "text/latex": [
       "\\begin{enumerate*}\n",
       "\\item 1\n",
       "\\item 1.4142135623731\n",
       "\\item 1.73205080756888\n",
       "\\item 2\n",
       "\\end{enumerate*}\n"
      ],
      "text/markdown": [
       "1. 1\n",
       "2. 1.4142135623731\n",
       "3. 1.73205080756888\n",
       "4. 2\n",
       "\n",
       "\n"
      ],
      "text/plain": [
       "[1] 1.000000 1.414214 1.732051 2.000000"
      ]
     },
     "metadata": {},
     "output_type": "display_data"
    }
   ],
   "source": [
    "log(X)   # element-wise log\n",
    "exp(X)   # element-wise exponential\n",
    "sqrt(X)  # element-wise square root"
   ]
  },
  {
   "cell_type": "markdown",
   "metadata": {},
   "source": [
    "## Functions for Strings"
   ]
  },
  {
   "cell_type": "code",
   "execution_count": 45,
   "metadata": {},
   "outputs": [
    {
     "data": {
      "text/html": [
       "'one plus one equals 2 !'"
      ],
      "text/latex": [
       "'one plus one equals 2 !'"
      ],
      "text/markdown": [
       "'one plus one equals 2 !'"
      ],
      "text/plain": [
       "[1] \"one plus one equals 2 !\""
      ]
     },
     "metadata": {},
     "output_type": "display_data"
    },
    {
     "data": {
      "text/html": [
       "'one plus one=2'"
      ],
      "text/latex": [
       "'one plus one=2'"
      ],
      "text/markdown": [
       "'one plus one=2'"
      ],
      "text/plain": [
       "[1] \"one plus one=2\""
      ]
     },
     "metadata": {},
     "output_type": "display_data"
    },
    {
     "data": {
      "text/html": [
       "'one plus one = 2'"
      ],
      "text/latex": [
       "'one plus one = 2'"
      ],
      "text/markdown": [
       "'one plus one = 2'"
      ],
      "text/plain": [
       "[1] \"one plus one = 2\""
      ]
     },
     "metadata": {},
     "output_type": "display_data"
    }
   ],
   "source": [
    "# concatenate two (or more) strings\n",
    "paste('one plus one equals', 1+1, '!')\n",
    "# specify a separator\n",
    "paste('one plus one', 1+1, sep='=')\n",
    "# if you're into C-style formatting ...\n",
    "sprintf('one plus one = %d', 1+1)"
   ]
  },
  {
   "cell_type": "markdown",
   "metadata": {},
   "source": [
    "## Functions for Strings (cont'd)\n",
    "- Often, we want to concatenate strings with no spaces\n",
    "(e.g., when constructing filenames/paths at run-time)"
   ]
  },
  {
   "cell_type": "code",
   "execution_count": 46,
   "metadata": {},
   "outputs": [
    {
     "data": {
      "text/html": [
       "'path/to/some_file_name.csv'"
      ],
      "text/latex": [
       "'path/to/some\\_file\\_name.csv'"
      ],
      "text/markdown": [
       "'path/to/some_file_name.csv'"
      ],
      "text/plain": [
       "[1] \"path/to/some_file_name.csv\""
      ]
     },
     "metadata": {},
     "output_type": "display_data"
    },
    {
     "data": {
      "text/html": [
       "'path/to/some_file_name.csv'"
      ],
      "text/latex": [
       "'path/to/some\\_file\\_name.csv'"
      ],
      "text/markdown": [
       "'path/to/some_file_name.csv'"
      ],
      "text/plain": [
       "[1] \"path/to/some_file_name.csv\""
      ]
     },
     "metadata": {},
     "output_type": "display_data"
    }
   ],
   "source": [
    "# short-hand for concatenation w/o spaces\n",
    "filename = 'some_file_name.csv'\n",
    "paste0('path/to/', filename)\n",
    "# function specifically for constructing file paths\n",
    "file.path('path', 'to', filename)"
   ]
  },
  {
   "cell_type": "markdown",
   "metadata": {},
   "source": [
    "## Functions for Strings (cont'd)\n",
    "- To enforce upper/lower cases"
   ]
  },
  {
   "cell_type": "code",
   "execution_count": 47,
   "metadata": {},
   "outputs": [
    {
     "data": {
      "text/html": [
       "'some crazy string'"
      ],
      "text/latex": [
       "'some crazy string'"
      ],
      "text/markdown": [
       "'some crazy string'"
      ],
      "text/plain": [
       "[1] \"some crazy string\""
      ]
     },
     "metadata": {},
     "output_type": "display_data"
    },
    {
     "data": {
      "text/html": [
       "'SOME CRAZY STRING'"
      ],
      "text/latex": [
       "'SOME CRAZY STRING'"
      ],
      "text/markdown": [
       "'SOME CRAZY STRING'"
      ],
      "text/plain": [
       "[1] \"SOME CRAZY STRING\""
      ]
     },
     "metadata": {},
     "output_type": "display_data"
    }
   ],
   "source": [
    "s <- 'SoMe CraZY STRING'\n",
    "tolower(s)\n",
    "toupper(s)"
   ]
  },
  {
   "cell_type": "markdown",
   "metadata": {},
   "source": [
    "## Generic Functions\n",
    "- Some functions for exploring objects"
   ]
  },
  {
   "cell_type": "code",
   "execution_count": 74,
   "metadata": {},
   "outputs": [
    {
     "data": {
      "text/html": [
       "<ol class=list-inline>\n",
       "\t<li>1</li>\n",
       "\t<li>2</li>\n",
       "\t<li>3</li>\n",
       "\t<li>4</li>\n",
       "\t<li>5</li>\n",
       "</ol>\n"
      ],
      "text/latex": [
       "\\begin{enumerate*}\n",
       "\\item 1\n",
       "\\item 2\n",
       "\\item 3\n",
       "\\item 4\n",
       "\\item 5\n",
       "\\end{enumerate*}\n"
      ],
      "text/markdown": [
       "1. 1\n",
       "2. 2\n",
       "3. 3\n",
       "4. 4\n",
       "5. 5\n",
       "\n",
       "\n"
      ],
      "text/plain": [
       "[1] 1 2 3 4 5"
      ]
     },
     "metadata": {},
     "output_type": "display_data"
    },
    {
     "data": {
      "text/html": [
       "<ol class=list-inline>\n",
       "\t<li>96</li>\n",
       "\t<li>97</li>\n",
       "\t<li>98</li>\n",
       "\t<li>99</li>\n",
       "\t<li>100</li>\n",
       "</ol>\n"
      ],
      "text/latex": [
       "\\begin{enumerate*}\n",
       "\\item 96\n",
       "\\item 97\n",
       "\\item 98\n",
       "\\item 99\n",
       "\\item 100\n",
       "\\end{enumerate*}\n"
      ],
      "text/markdown": [
       "1. 96\n",
       "2. 97\n",
       "3. 98\n",
       "4. 99\n",
       "5. 100\n",
       "\n",
       "\n"
      ],
      "text/plain": [
       "[1]  96  97  98  99 100"
      ]
     },
     "metadata": {},
     "output_type": "display_data"
    }
   ],
   "source": [
    "obj <- 1:100\n",
    "head(obj, n=5)  # display first n rows of obj\n",
    "tail(obj, n=5)  # display last n rows of obj"
   ]
  },
  {
   "cell_type": "markdown",
   "metadata": {},
   "source": [
    "## Generic Functions (cont'd)"
   ]
  },
  {
   "cell_type": "code",
   "execution_count": 76,
   "metadata": {},
   "outputs": [
    {
     "name": "stdout",
     "output_type": "stream",
     "text": [
      " int [1:100] 1 2 3 4 5 6 7 8 9 10 ...\n"
     ]
    },
    {
     "data": {
      "text/plain": [
       "   Min. 1st Qu.  Median    Mean 3rd Qu.    Max. \n",
       "   1.00   25.75   50.50   50.50   75.25  100.00 "
      ]
     },
     "metadata": {},
     "output_type": "display_data"
    }
   ],
   "source": [
    "str(obj)  # display structure of obj\n",
    "summary(obj)  # display summary of obj"
   ]
  },
  {
   "cell_type": "markdown",
   "metadata": {},
   "source": [
    "# Custom functions and control\n",
    "\n",
    "## Control Flow\n",
    "- `if` statements"
   ]
  },
  {
   "cell_type": "code",
   "execution_count": 50,
   "metadata": {
    "attributes": {
     "classes": [],
     "eval": "FALSE",
     "id": ""
    }
   },
   "outputs": [
    {
     "ename": "ERROR",
     "evalue": "Error in eval(expr, envir, enclos): object 'condition' not found\n",
     "execution_count": 50,
     "output_type": "error",
     "traceback": [
      "Error in eval(expr, envir, enclos): object 'condition' not found\nTraceback:\n"
     ]
    }
   ],
   "source": [
    "if (condition) {\n",
    "  # stuff to do when condition is TRUE\n",
    "} else if(other_condition) {  # (OPTIONAL)\n",
    "  # stuff to do if other_condition is TRUE\n",
    "} else {  # (OPTIONAL)\n",
    "  # stuff to do if all other conditions are FALSE\n",
    "}"
   ]
  },
  {
   "cell_type": "markdown",
   "metadata": {},
   "source": [
    "- Some consider the catch-all `else` clause to be dangerous\n",
    "    - Some style guides even recommend avoiding the use of `else` for better\n",
    "    readability\n",
    "- Best practice is to make conditions explicit whenever possible\n",
    "\n"
   ]
  },
  {
   "cell_type": "markdown",
   "metadata": {},
   "source": [
    "## Loops (covered in birthday problem)"
   ]
  },
  {
   "cell_type": "markdown",
   "metadata": {},
   "source": [
    "## User Defined Functions\n",
    "- Write your own functions in the form"
   ]
  },
  {
   "cell_type": "code",
   "execution_count": 55,
   "metadata": {
    "attributes": {
     "classes": [],
     "eval": "FALSE",
     "id": ""
    }
   },
   "outputs": [],
   "source": [
    "name_of_function <- function(arguments) {\n",
    "  # do some stuff with arguments\n",
    "  return(result)\n",
    "}"
   ]
  },
  {
   "cell_type": "markdown",
   "metadata": {},
   "source": [
    "- You can use your functions like any other function, e.g.,"
   ]
  },
  {
   "cell_type": "code",
   "execution_count": 56,
   "metadata": {
    "attributes": {
     "classes": [],
     "eval": "FALSE",
     "id": ""
    }
   },
   "outputs": [
    {
     "ename": "ERROR",
     "evalue": "Error in name_of_function(arguments): object 'result' not found\n",
     "execution_count": 56,
     "output_type": "error",
     "traceback": [
      "Error in name_of_function(arguments): object 'result' not found\nTraceback:\n",
      "1. name_of_function(arguments)"
     ]
    }
   ],
   "source": [
    "name_of_function(arguments)  # gives you the 'result'"
   ]
  },
  {
   "cell_type": "markdown",
   "metadata": {},
   "source": [
    "## User Defined Functions: Example\n",
    "- Write a function that will take a vector in $\\mathbb{R}^3$ and tell you if you\n",
    "can make a triangle or not (i.e., return `TRUE` if a triangle can be made and \n",
    "`FALSE` otherwise.)\n",
    "- A solution is on the next slide; try writing your own without looking ahead!\n",
    "- Remember, you can make a triangle from three side lengths if and only if none of the side lengths are greater than the sum of the other two.\n",
    "## User Defined Functions: Example solution"
   ]
  },
  {
   "cell_type": "code",
   "execution_count": 57,
   "metadata": {},
   "outputs": [],
   "source": [
    "is_good <- function(vec) {\n",
    "  for (i in 1:3) {\n",
    "    # Check if element i is greater than \n",
    "    # sum of other two elements\n",
    "    if (vec[i] > sum(vec[-i])) {\n",
    "      return(FALSE)\n",
    "    }\n",
    "  }\n",
    "  return(TRUE)\n",
    "}"
   ]
  },
  {
   "cell_type": "markdown",
   "metadata": {},
   "source": [
    "## User Defined Functions: Improved solution"
   ]
  },
  {
   "cell_type": "code",
   "execution_count": null,
   "metadata": {},
   "outputs": [],
   "source": [
    "is_good <- function(vec) {\n",
    "  if (length(vec) != 3) {\n",
    "      # Always a good idea to make sure your\n",
    "      # function gets what it expects to get\n",
    "      stop('is_good requires a vector of length 3')\n",
    "  }\n",
    "  for (i in 1:3) {\n",
    "    if (vec[i] > sum(vec[-i])) {\n",
    "      return(FALSE)\n",
    "    }\n",
    "  }\n",
    "  return(TRUE)\n",
    "}"
   ]
  },
  {
   "cell_type": "markdown",
   "metadata": {},
   "source": [
    "## `replicate`\n",
    "- Loops in `R` are inefficient, and best avoided if possible\n",
    "- Vectorize operations whenever possible.\n",
    "- `replicate` can be used to repeat some operation (function),\n",
    "  and collect the results[^apply]\n",
    "- e.g., to run `some_function()` 1,000 times and collect the results:"
   ]
  },
  {
   "cell_type": "code",
   "execution_count": 58,
   "metadata": {
    "attributes": {
     "": "",
     "classes": [],
     "id": ""
    }
   },
   "outputs": [
    {
     "ename": "ERROR",
     "evalue": "Error in some_function(): could not find function \"some_function\"\n",
     "execution_count": 58,
     "output_type": "error",
     "traceback": [
      "Error in some_function(): could not find function \"some_function\"\nTraceback:\n",
      "1. replicate(1000, some_function())",
      "2. sapply(integer(n), eval.parent(substitute(function(...) expr)), \n .     simplify = simplify)",
      "3. lapply(X = X, FUN = FUN, ...)",
      "4. FUN(X[[i]], ...)"
     ]
    }
   ],
   "source": [
    "replicate(1000, some_function())  "
   ]
  },
  {
   "cell_type": "markdown",
   "metadata": {},
   "source": [
    "[^apply]: `replicate` is actually a convenient wrapper for one of the `apply` \n",
    "functions, which are more general. See the documentation for details.\n",
    "\n",
    "\n",
    "# Exercise\n",
    "\n",
    "## The Question\n",
    "> You are given three sticks, each of a random length between 0 and 1.\n",
    "\n",
    "> What's the probability you can make a triangle?\n",
    "\n",
    "- The answer is 1/2\n",
    "- Use `R` to simulate 100,000 times and estimate the answer by\n",
    "    1. generate 100,000 triplets of uniform (0, 1) random variables\n",
    "    2. find the portion that can be made into a triangle (hint: use the\n",
    "    `is_good` function)\n",
    "\n",
    "## Answer 1: Using a for loop"
   ]
  },
  {
   "cell_type": "code",
   "execution_count": 59,
   "metadata": {
    "attributes": {
     "cache": "TRUE",
     "classes": [],
     "id": ""
    }
   },
   "outputs": [
    {
     "name": "stdout",
     "output_type": "stream",
     "text": [
      "50.13%\n"
     ]
    },
    {
     "data": {
      "text/plain": [
       "   user  system elapsed \n",
       "  0.460   0.000   0.459 "
      ]
     },
     "metadata": {},
     "output_type": "display_data"
    }
   ],
   "source": [
    "system.time({  # measure execution time\n",
    "  N <- 1e5;\n",
    "  m <- 0\n",
    "  for (i in 1:N) {\n",
    "    X <- runif(3)\n",
    "    if (is_good(X)) {\n",
    "        m <- m + 1\n",
    "    }\n",
    "  }\n",
    "  cat(sprintf('%.2f%%\\n', m / N * 100))\n",
    "})"
   ]
  },
  {
   "cell_type": "markdown",
   "metadata": {},
   "source": [
    "## Answer 2: No loop"
   ]
  },
  {
   "cell_type": "code",
   "execution_count": 60,
   "metadata": {
    "attributes": {
     "cache": "TRUE",
     "classes": [],
     "id": ""
    }
   },
   "outputs": [
    {
     "name": "stdout",
     "output_type": "stream",
     "text": [
      "50.13%\n"
     ]
    },
    {
     "data": {
      "text/plain": [
       "   user  system elapsed \n",
       "  0.520   0.000   0.517 "
      ]
     },
     "metadata": {},
     "output_type": "display_data"
    }
   ],
   "source": [
    "system.time({  # measure execution time\n",
    "  N <- 1e5;\n",
    "  m <- replicate(N, is_good(runif(3)))\n",
    "  cat(sprintf('%.2f%%\\n',  mean(m) * 100 ))\n",
    "})"
   ]
  },
  {
   "cell_type": "markdown",
   "metadata": {},
   "source": [
    "# Packages\n",
    "\n",
    "## Installing `R` Packages\n",
    "- `R` has many (*MANY*) packages created by other users that implement\n",
    "state-of-the-art tools (e.g., data manipulation, statistical models)\n",
    "- These packages can be downloaded from the Comprehensive R Archive Network (CRAN)\n",
    "- This is as simple as running a single line of code:"
   ]
  },
  {
   "cell_type": "code",
   "execution_count": null,
   "metadata": {
    "attributes": {
     "classes": [],
     "eval": "FALSE",
     "id": ""
    }
   },
   "outputs": [],
   "source": [
    "install.packages(\"package name\")"
   ]
  },
  {
   "cell_type": "markdown",
   "metadata": {},
   "source": [
    "- You will have to select one of many CRAN mirrors (copies across different\n",
    "servers) from which to download the package from\n",
    "- For example, to install the `tidyverse` package, run"
   ]
  },
  {
   "cell_type": "code",
   "execution_count": null,
   "metadata": {
    "attributes": {
     "classes": [],
     "eval": "FALSE",
     "id": ""
    }
   },
   "outputs": [],
   "source": [
    "install.packages(\"tidyverse\")"
   ]
  },
  {
   "cell_type": "markdown",
   "metadata": {},
   "source": [
    "- You only need to do this *once* for each machine\n",
    "\n",
    "\n",
    "## Loading Packages\n",
    "- Once you've installed a package on a machine, you can load the package into\n",
    "your current workspace with the `library()` command\n",
    "- For example, to use the `tidyverse` package, first load it with"
   ]
  },
  {
   "cell_type": "code",
   "execution_count": null,
   "metadata": {
    "attributes": {
     "classes": [],
     "eval": "FALSE",
     "id": ""
    }
   },
   "outputs": [],
   "source": [
    "library(\"tidyverse\")"
   ]
  },
  {
   "cell_type": "markdown",
   "metadata": {},
   "source": [
    "- You can also use specific functions from a package without loading it,\n",
    "  by telling `R` which package the function belongs to with a namespace prefix,\n",
    "  `package_name::`.\n",
    "- For example, to use the `round_any()` function from the `plyr` package,\n",
    "  without actually loading `plyr`, write"
   ]
  },
  {
   "cell_type": "code",
   "execution_count": null,
   "metadata": {
    "attributes": {
     "classes": [],
     "eval": "FALSE",
     "id": ""
    }
   },
   "outputs": [],
   "source": [
    "# Assuming plyr is installed\n",
    "plyr::round_any()"
   ]
  },
  {
   "cell_type": "markdown",
   "metadata": {},
   "source": [
    "## Namespace collision\n",
    "- One of the (unfortunately many) things that `R` is bad at is preventing\n",
    "  namespace collisions\n",
    "- For example, the packages `plyr` and `dplyr`[^dplyr] have functions that are\n",
    "  named the same (e.g, `mutate()`, `summarize()`), and if you ever load both,\n",
    "  `R` will only \"see\" the function belonging to the package you loaded later\n",
    "- So beware of what packages you load, and if you only intend to use a function\n",
    "  or two, consider just specifying the namespace with `::`, instead of loading\n",
    "  the whole package.\n",
    "\n",
    "[^dplyr]: `dplyr` is part the tidyverse, and loaded when you load `tidyverse`"
   ]
  }
 ],
 "metadata": {
  "kernelspec": {
   "display_name": "R",
   "language": "R",
   "name": "ir"
  },
  "language_info": {
   "codemirror_mode": "r",
   "file_extension": ".r",
   "mimetype": "text/x-r-source",
   "name": "R",
   "pygments_lexer": "r",
   "version": "3.4.4"
  }
 },
 "nbformat": 4,
 "nbformat_minor": 2
}
