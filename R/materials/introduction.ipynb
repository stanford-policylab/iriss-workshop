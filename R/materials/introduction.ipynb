{
 "cells": [
  {
   "cell_type": "markdown",
   "metadata": {},
   "source": [
    "# `R` Basics\n",
    "\n",
    "## `R` Basics: Working Directory\n",
    " - Working directory (`wd`) is where your `R` session will load/save files\n",
    " - To see where your current working directory is, run"
   ]
  },
  {
   "cell_type": "code",
   "execution_count": 10,
   "metadata": {
    "attributes": {
     "classes": [],
     "eval": "FALSE",
     "id": ""
    }
   },
   "outputs": [
    {
     "data": {
      "text/html": [
       "'/home/willcai/iriss-workshop/R/materials'"
      ],
      "text/latex": [
       "'/home/willcai/iriss-workshop/R/materials'"
      ],
      "text/markdown": [
       "'/home/willcai/iriss-workshop/R/materials'"
      ],
      "text/plain": [
       "[1] \"/home/willcai/iriss-workshop/R/materials\""
      ]
     },
     "metadata": {},
     "output_type": "display_data"
    }
   ],
   "source": [
    "getwd()"
   ]
  },
  {
   "cell_type": "markdown",
   "metadata": {},
   "source": [
    "- To set the working directory to desired `path`, run"
   ]
  },
  {
   "cell_type": "code",
   "execution_count": 11,
   "metadata": {
    "attributes": {
     "classes": [],
     "eval": "FALSE",
     "id": ""
    }
   },
   "outputs": [],
   "source": [
    "setwd(\"/home/willcai/iriss-workshop/R/materials\")"
   ]
  },
  {
   "cell_type": "markdown",
   "metadata": {},
   "source": [
    "## `R` Basics: Working Directory (cont'd)\n",
    " - Note that `~` is replaced with your `HOME` directory, e.g.\n",
    " `C:\\Users\\Username\\Documents` in windows\n",
    " - Use forward slashes (`/`), even on Windows!"
   ]
  },
  {
   "cell_type": "code",
   "execution_count": 12,
   "metadata": {
    "attributes": {
     "classes": [],
     "eval": "FALSE,",
     "id": "",
     "tidy": "TRUE"
    }
   },
   "outputs": [],
   "source": [
    "setwd(\"~/iriss-workshop/R/materials\")"
   ]
  },
  {
   "cell_type": "markdown",
   "metadata": {},
   "source": [
    "- **Never** set the working directory to an absolute path in your `R` script\n",
    "     - Even better, organize your scripts such that you never have to change the\n",
    "     working directory\n",
    "     - `setwd()` is best reserved for that time when you started `R` from the\n",
    "     wrong directory\n",
    "\n",
    "## `R` Basics: Math Operations\n",
    "- Simple math operations"
   ]
  },
  {
   "cell_type": "code",
   "execution_count": 13,
   "metadata": {
    "attributes": {
     "classes": [],
     "eval": "FALSE",
     "id": ""
    }
   },
   "outputs": [
    {
     "data": {
      "text/html": [
       "14"
      ],
      "text/latex": [
       "14"
      ],
      "text/markdown": [
       "14"
      ],
      "text/plain": [
       "[1] 14"
      ]
     },
     "metadata": {},
     "output_type": "display_data"
    },
    {
     "data": {
      "text/html": [
       "-8"
      ],
      "text/latex": [
       "-8"
      ],
      "text/markdown": [
       "-8"
      ],
      "text/plain": [
       "[1] -8"
      ]
     },
     "metadata": {},
     "output_type": "display_data"
    },
    {
     "data": {
      "text/html": [
       "0.272727272727273"
      ],
      "text/latex": [
       "0.272727272727273"
      ],
      "text/markdown": [
       "0.272727272727273"
      ],
      "text/plain": [
       "[1] 0.2727273"
      ]
     },
     "metadata": {},
     "output_type": "display_data"
    },
    {
     "data": {
      "text/html": [
       "33"
      ],
      "text/latex": [
       "33"
      ],
      "text/markdown": [
       "33"
      ],
      "text/plain": [
       "[1] 33"
      ]
     },
     "metadata": {},
     "output_type": "display_data"
    },
    {
     "data": {
      "text/html": [
       "1024"
      ],
      "text/latex": [
       "1024"
      ],
      "text/markdown": [
       "1024"
      ],
      "text/plain": [
       "[1] 1024"
      ]
     },
     "metadata": {},
     "output_type": "display_data"
    }
   ],
   "source": [
    "3+11  # add stuff\n",
    "3-11  # subtract stuff\n",
    "3/11  # divide stuff\n",
    "3*11  # multiply stuff\n",
    "2^10  # raise to powers"
   ]
  },
  {
   "cell_type": "markdown",
   "metadata": {},
   "source": [
    "## `R` Basics: Assignments\n",
    " - Convention for assigning values to variables is an arrow(`<-`)[^1]\n",
    " - Direction of arrow indicates direction of assignment"
   ]
  },
  {
   "cell_type": "code",
   "execution_count": 14,
   "metadata": {
    "attributes": {
     "classes": [],
     "eval": "FALSE",
     "id": ""
    }
   },
   "outputs": [
    {
     "data": {
      "text/html": [
       "12"
      ],
      "text/latex": [
       "12"
      ],
      "text/markdown": [
       "12"
      ],
      "text/plain": [
       "[1] 12"
      ]
     },
     "metadata": {},
     "output_type": "display_data"
    },
    {
     "data": {
      "text/html": [
       "15"
      ],
      "text/latex": [
       "15"
      ],
      "text/markdown": [
       "15"
      ],
      "text/plain": [
       "[1] 15"
      ]
     },
     "metadata": {},
     "output_type": "display_data"
    },
    {
     "data": {
      "text/html": [
       "24"
      ],
      "text/latex": [
       "24"
      ],
      "text/markdown": [
       "24"
      ],
      "text/plain": [
       "[1] 24"
      ]
     },
     "metadata": {},
     "output_type": "display_data"
    }
   ],
   "source": [
    "A <- 12\n",
    "A  # 12\n",
    "A + 3 -> B\n",
    "B  # 15\n",
    "24 -> A\n",
    "A  # 24"
   ]
  },
  {
   "cell_type": "markdown",
   "metadata": {},
   "source": [
    "- The equal sign (`=`) also works, but only for assignment to the left, e.g."
   ]
  },
  {
   "cell_type": "code",
   "execution_count": 15,
   "metadata": {
    "attributes": {
     "classes": [],
     "eval": "FALSE",
     "id": ""
    }
   },
   "outputs": [
    {
     "ename": "ERROR",
     "evalue": "Error in 12 = A: invalid (do_set) left-hand side to assignment\n",
     "execution_count": 15,
     "output_type": "error",
     "traceback": [
      "Error in 12 = A: invalid (do_set) left-hand side to assignment\nTraceback:\n"
     ]
    }
   ],
   "source": [
    "A = 12  # good\n",
    "12 = A  # BAD"
   ]
  },
  {
   "cell_type": "markdown",
   "metadata": {},
   "source": [
    "[^1]: There are also double arrows (`<<-`) that do something slightly different. We won't talk about it, but if you're interested, see [here](https://stackoverflow.com/questions/2628621/how-do-you-use-scoping-assignment-in-r)\n",
    "\n",
    "## `R` Basics: Strings\n",
    "- A `String` variable can be declared in either double quotes(`\"\"`) or\n",
    "single quotes (`''`)"
   ]
  },
  {
   "cell_type": "code",
   "execution_count": 19,
   "metadata": {},
   "outputs": [
    {
     "data": {
      "text/html": [
       "'This is a valid string'"
      ],
      "text/latex": [
       "'This is a valid string'"
      ],
      "text/markdown": [
       "'This is a valid string'"
      ],
      "text/plain": [
       "[1] \"This is a valid string\""
      ]
     },
     "metadata": {},
     "output_type": "display_data"
    },
    {
     "data": {
      "text/html": [
       "'and so is this'"
      ],
      "text/latex": [
       "'and so is this'"
      ],
      "text/markdown": [
       "'and so is this'"
      ],
      "text/plain": [
       "[1] \"and so is this\""
      ]
     },
     "metadata": {},
     "output_type": "display_data"
    }
   ],
   "source": [
    "s <- \"This is a valid string\"\n",
    "s\n",
    "s <- 'and so is this'\n",
    "s"
   ]
  },
  {
   "cell_type": "markdown",
   "metadata": {},
   "source": [
    "## `R` Basics: Re-Assignments\n",
    " - A variable can be re-assigned to anything"
   ]
  },
  {
   "cell_type": "code",
   "execution_count": 20,
   "metadata": {},
   "outputs": [
    {
     "data": {
      "text/html": [
       "860306"
      ],
      "text/latex": [
       "860306"
      ],
      "text/markdown": [
       "860306"
      ],
      "text/plain": [
       "[1] 860306"
      ]
     },
     "metadata": {},
     "output_type": "display_data"
    },
    {
     "data": {
      "text/html": [
       "'This is a variable!'"
      ],
      "text/latex": [
       "'This is a variable!'"
      ],
      "text/markdown": [
       "'This is a variable!'"
      ],
      "text/plain": [
       "[1] \"This is a variable!\""
      ]
     },
     "metadata": {},
     "output_type": "display_data"
    }
   ],
   "source": [
    "x <- 860306  # first x is assigned a number\n",
    "x\n",
    "x <- 'This is a variable!'\n",
    "x  # Now it is a string\n"
   ]
  },
  {
   "cell_type": "markdown",
   "metadata": {},
   "source": [
    "# Vectors\n",
    "\n",
    "## Vectors: `c()`\n",
    " - Vectors are the building blocks of `R` --- even a single variable is actually\n",
    " an \"atomic\" vector (vector of size 1)\n",
    " - Vectors in `R` are created by *c*oncatenating a series of elements"
   ]
  },
  {
   "cell_type": "code",
   "execution_count": 21,
   "metadata": {},
   "outputs": [
    {
     "data": {
      "text/html": [
       "<ol class=list-inline>\n",
       "\t<li>1</li>\n",
       "\t<li>2</li>\n",
       "\t<li>3</li>\n",
       "</ol>\n"
      ],
      "text/latex": [
       "\\begin{enumerate*}\n",
       "\\item 1\n",
       "\\item 2\n",
       "\\item 3\n",
       "\\end{enumerate*}\n"
      ],
      "text/markdown": [
       "1. 1\n",
       "2. 2\n",
       "3. 3\n",
       "\n",
       "\n"
      ],
      "text/plain": [
       "[1] 1 2 3"
      ]
     },
     "metadata": {},
     "output_type": "display_data"
    },
    {
     "data": {
      "text/html": [
       "<ol class=list-inline>\n",
       "\t<li>'this'</li>\n",
       "\t<li>'that'</li>\n",
       "\t<li>'those'</li>\n",
       "</ol>\n"
      ],
      "text/latex": [
       "\\begin{enumerate*}\n",
       "\\item 'this'\n",
       "\\item 'that'\n",
       "\\item 'those'\n",
       "\\end{enumerate*}\n"
      ],
      "text/markdown": [
       "1. 'this'\n",
       "2. 'that'\n",
       "3. 'those'\n",
       "\n",
       "\n"
      ],
      "text/plain": [
       "[1] \"this\"  \"that\"  \"those\""
      ]
     },
     "metadata": {},
     "output_type": "display_data"
    }
   ],
   "source": [
    "X <- c(1,2,3)\n",
    "X  # vector of numbers (1, 2, 3)\n",
    "Y <- c('this', 'that', 'those')\n",
    "Y  # this is a vector of Strings"
   ]
  },
  {
   "cell_type": "markdown",
   "metadata": {},
   "source": [
    "## Vectors: `seq()`\n",
    "- Create a vector from a sequence with `seq(from, to, by=1)`"
   ]
  },
  {
   "cell_type": "code",
   "execution_count": 22,
   "metadata": {},
   "outputs": [
    {
     "data": {
      "text/html": [
       "<ol class=list-inline>\n",
       "\t<li>1</li>\n",
       "\t<li>2</li>\n",
       "\t<li>3</li>\n",
       "\t<li>4</li>\n",
       "\t<li>5</li>\n",
       "\t<li>6</li>\n",
       "\t<li>7</li>\n",
       "\t<li>8</li>\n",
       "\t<li>9</li>\n",
       "\t<li>10</li>\n",
       "</ol>\n"
      ],
      "text/latex": [
       "\\begin{enumerate*}\n",
       "\\item 1\n",
       "\\item 2\n",
       "\\item 3\n",
       "\\item 4\n",
       "\\item 5\n",
       "\\item 6\n",
       "\\item 7\n",
       "\\item 8\n",
       "\\item 9\n",
       "\\item 10\n",
       "\\end{enumerate*}\n"
      ],
      "text/markdown": [
       "1. 1\n",
       "2. 2\n",
       "3. 3\n",
       "4. 4\n",
       "5. 5\n",
       "6. 6\n",
       "7. 7\n",
       "8. 8\n",
       "9. 9\n",
       "10. 10\n",
       "\n",
       "\n"
      ],
      "text/plain": [
       " [1]  1  2  3  4  5  6  7  8  9 10"
      ]
     },
     "metadata": {},
     "output_type": "display_data"
    },
    {
     "data": {
      "text/html": [
       "<ol class=list-inline>\n",
       "\t<li>1</li>\n",
       "\t<li>3</li>\n",
       "\t<li>5</li>\n",
       "\t<li>7</li>\n",
       "\t<li>9</li>\n",
       "</ol>\n"
      ],
      "text/latex": [
       "\\begin{enumerate*}\n",
       "\\item 1\n",
       "\\item 3\n",
       "\\item 5\n",
       "\\item 7\n",
       "\\item 9\n",
       "\\end{enumerate*}\n"
      ],
      "text/markdown": [
       "1. 1\n",
       "2. 3\n",
       "3. 5\n",
       "4. 7\n",
       "5. 9\n",
       "\n",
       "\n"
      ],
      "text/plain": [
       "[1] 1 3 5 7 9"
      ]
     },
     "metadata": {},
     "output_type": "display_data"
    }
   ],
   "source": [
    "seq(1, 10)\n",
    "seq(1, 10, 2)"
   ]
  },
  {
   "cell_type": "markdown",
   "metadata": {},
   "source": [
    "- Use short-hand `from:to` if you're incrementing by one"
   ]
  },
  {
   "cell_type": "code",
   "execution_count": 23,
   "metadata": {},
   "outputs": [
    {
     "data": {
      "text/html": [
       "<ol class=list-inline>\n",
       "\t<li>1</li>\n",
       "\t<li>2</li>\n",
       "\t<li>3</li>\n",
       "\t<li>4</li>\n",
       "\t<li>5</li>\n",
       "\t<li>6</li>\n",
       "\t<li>7</li>\n",
       "\t<li>8</li>\n",
       "\t<li>9</li>\n",
       "\t<li>10</li>\n",
       "</ol>\n"
      ],
      "text/latex": [
       "\\begin{enumerate*}\n",
       "\\item 1\n",
       "\\item 2\n",
       "\\item 3\n",
       "\\item 4\n",
       "\\item 5\n",
       "\\item 6\n",
       "\\item 7\n",
       "\\item 8\n",
       "\\item 9\n",
       "\\item 10\n",
       "\\end{enumerate*}\n"
      ],
      "text/markdown": [
       "1. 1\n",
       "2. 2\n",
       "3. 3\n",
       "4. 4\n",
       "5. 5\n",
       "6. 6\n",
       "7. 7\n",
       "8. 8\n",
       "9. 9\n",
       "10. 10\n",
       "\n",
       "\n"
      ],
      "text/plain": [
       " [1]  1  2  3  4  5  6  7  8  9 10"
      ]
     },
     "metadata": {},
     "output_type": "display_data"
    }
   ],
   "source": [
    "1:10"
   ]
  },
  {
   "cell_type": "markdown",
   "metadata": {},
   "source": [
    "## Vectors: `rep()`\n",
    "- Use `rep()` to repeat values"
   ]
  },
  {
   "cell_type": "code",
   "execution_count": 24,
   "metadata": {},
   "outputs": [
    {
     "data": {
      "text/html": [
       "<ol class=list-inline>\n",
       "\t<li>13</li>\n",
       "\t<li>13</li>\n",
       "\t<li>13</li>\n",
       "\t<li>13</li>\n",
       "</ol>\n"
      ],
      "text/latex": [
       "\\begin{enumerate*}\n",
       "\\item 13\n",
       "\\item 13\n",
       "\\item 13\n",
       "\\item 13\n",
       "\\end{enumerate*}\n"
      ],
      "text/markdown": [
       "1. 13\n",
       "2. 13\n",
       "3. 13\n",
       "4. 13\n",
       "\n",
       "\n"
      ],
      "text/plain": [
       "[1] 13 13 13 13"
      ]
     },
     "metadata": {},
     "output_type": "display_data"
    },
    {
     "data": {
      "text/html": [
       "<ol class=list-inline>\n",
       "\t<li>'Yes!'</li>\n",
       "\t<li>'Yes!'</li>\n",
       "\t<li>'Yes!'</li>\n",
       "</ol>\n"
      ],
      "text/latex": [
       "\\begin{enumerate*}\n",
       "\\item 'Yes!'\n",
       "\\item 'Yes!'\n",
       "\\item 'Yes!'\n",
       "\\end{enumerate*}\n"
      ],
      "text/markdown": [
       "1. 'Yes!'\n",
       "2. 'Yes!'\n",
       "3. 'Yes!'\n",
       "\n",
       "\n"
      ],
      "text/plain": [
       "[1] \"Yes!\" \"Yes!\" \"Yes!\""
      ]
     },
     "metadata": {},
     "output_type": "display_data"
    },
    {
     "data": {
      "text/html": [
       "<ol class=list-inline>\n",
       "\t<li>'Sat.'</li>\n",
       "\t<li>'Sun.'</li>\n",
       "\t<li>'Sat.'</li>\n",
       "\t<li>'Sun.'</li>\n",
       "</ol>\n"
      ],
      "text/latex": [
       "\\begin{enumerate*}\n",
       "\\item 'Sat.'\n",
       "\\item 'Sun.'\n",
       "\\item 'Sat.'\n",
       "\\item 'Sun.'\n",
       "\\end{enumerate*}\n"
      ],
      "text/markdown": [
       "1. 'Sat.'\n",
       "2. 'Sun.'\n",
       "3. 'Sat.'\n",
       "4. 'Sun.'\n",
       "\n",
       "\n"
      ],
      "text/plain": [
       "[1] \"Sat.\" \"Sun.\" \"Sat.\" \"Sun.\""
      ]
     },
     "metadata": {},
     "output_type": "display_data"
    }
   ],
   "source": [
    "rep(13, 4)\n",
    "rep('Yes!', 3)\n",
    "rep(c('Sat.', 'Sun.'), 2)"
   ]
  },
  {
   "cell_type": "markdown",
   "metadata": {},
   "source": [
    "## Vectors: `r`*`dist`*`()`\n",
    "- Sometimes we want to generate samples from known distributions\n",
    "    - e.g., simulating 1,000 coin flips and counting the number of heads\n",
    "- For this, we can use the family of `r`*`dist`*`()` functions, where *`dist`*\n",
    "  is replaced with the desired distribution\n",
    "  (e.g., `unif`orm, `norm`al, `pois`son)\n",
    "\n",
    "## Vectors: `r`*`dist`*`()` examples\n",
    "- Generate vector of $n$ samples from a specified distribution"
   ]
  },
  {
   "cell_type": "code",
   "execution_count": 30,
   "metadata": {
    "attributes": {
     "classes": [],
     "eval": "FALSE",
     "id": ""
    }
   },
   "outputs": [
    {
     "data": {
      "text/html": [
       "<ol class=list-inline>\n",
       "\t<li>0.0598576546180993</li>\n",
       "\t<li>0.551483284449205</li>\n",
       "\t<li>0.147176808677614</li>\n",
       "\t<li>0.633789008017629</li>\n",
       "\t<li>0.861325764795765</li>\n",
       "\t<li>0.940986776025966</li>\n",
       "\t<li>0.868823590921238</li>\n",
       "\t<li>0.57440445991233</li>\n",
       "\t<li>0.0857793397735804</li>\n",
       "\t<li>0.277011930244043</li>\n",
       "</ol>\n"
      ],
      "text/latex": [
       "\\begin{enumerate*}\n",
       "\\item 0.0598576546180993\n",
       "\\item 0.551483284449205\n",
       "\\item 0.147176808677614\n",
       "\\item 0.633789008017629\n",
       "\\item 0.861325764795765\n",
       "\\item 0.940986776025966\n",
       "\\item 0.868823590921238\n",
       "\\item 0.57440445991233\n",
       "\\item 0.0857793397735804\n",
       "\\item 0.277011930244043\n",
       "\\end{enumerate*}\n"
      ],
      "text/markdown": [
       "1. 0.0598576546180993\n",
       "2. 0.551483284449205\n",
       "3. 0.147176808677614\n",
       "4. 0.633789008017629\n",
       "5. 0.861325764795765\n",
       "6. 0.940986776025966\n",
       "7. 0.868823590921238\n",
       "8. 0.57440445991233\n",
       "9. 0.0857793397735804\n",
       "10. 0.277011930244043\n",
       "\n",
       "\n"
      ],
      "text/plain": [
       " [1] 0.05985765 0.55148328 0.14717681 0.63378901 0.86132576 0.94098678\n",
       " [7] 0.86882359 0.57440446 0.08577934 0.27701193"
      ]
     },
     "metadata": {},
     "output_type": "display_data"
    },
    {
     "data": {
      "text/html": [
       "<ol class=list-inline>\n",
       "\t<li>-0.993099260975769</li>\n",
       "\t<li>0.518036537113321</li>\n",
       "\t<li>0.985063675133876</li>\n",
       "\t<li>-0.739200721066912</li>\n",
       "\t<li>-1.36420611074737</li>\n",
       "\t<li>-1.42034390287434</li>\n",
       "\t<li>-0.54474358865588</li>\n",
       "\t<li>-0.296033849685685</li>\n",
       "\t<li>1.32411421753332</li>\n",
       "\t<li>1.00713962448992</li>\n",
       "</ol>\n"
      ],
      "text/latex": [
       "\\begin{enumerate*}\n",
       "\\item -0.993099260975769\n",
       "\\item 0.518036537113321\n",
       "\\item 0.985063675133876\n",
       "\\item -0.739200721066912\n",
       "\\item -1.36420611074737\n",
       "\\item -1.42034390287434\n",
       "\\item -0.54474358865588\n",
       "\\item -0.296033849685685\n",
       "\\item 1.32411421753332\n",
       "\\item 1.00713962448992\n",
       "\\end{enumerate*}\n"
      ],
      "text/markdown": [
       "1. -0.993099260975769\n",
       "2. 0.518036537113321\n",
       "3. 0.985063675133876\n",
       "4. -0.739200721066912\n",
       "5. -1.36420611074737\n",
       "6. -1.42034390287434\n",
       "7. -0.54474358865588\n",
       "8. -0.296033849685685\n",
       "9. 1.32411421753332\n",
       "10. 1.00713962448992\n",
       "\n",
       "\n"
      ],
      "text/plain": [
       " [1] -0.9930993  0.5180365  0.9850637 -0.7392007 -1.3642061 -1.4203439\n",
       " [7] -0.5447436 -0.2960338  1.3241142  1.0071396"
      ]
     },
     "metadata": {},
     "output_type": "display_data"
    },
    {
     "data": {
      "text/html": [
       "<ol class=list-inline>\n",
       "\t<li>1</li>\n",
       "\t<li>1</li>\n",
       "\t<li>1</li>\n",
       "\t<li>2</li>\n",
       "\t<li>2</li>\n",
       "\t<li>2</li>\n",
       "\t<li>2</li>\n",
       "\t<li>0</li>\n",
       "\t<li>1</li>\n",
       "\t<li>0</li>\n",
       "</ol>\n"
      ],
      "text/latex": [
       "\\begin{enumerate*}\n",
       "\\item 1\n",
       "\\item 1\n",
       "\\item 1\n",
       "\\item 2\n",
       "\\item 2\n",
       "\\item 2\n",
       "\\item 2\n",
       "\\item 0\n",
       "\\item 1\n",
       "\\item 0\n",
       "\\end{enumerate*}\n"
      ],
      "text/markdown": [
       "1. 1\n",
       "2. 1\n",
       "3. 1\n",
       "4. 2\n",
       "5. 2\n",
       "6. 2\n",
       "7. 2\n",
       "8. 0\n",
       "9. 1\n",
       "10. 0\n",
       "\n",
       "\n"
      ],
      "text/plain": [
       " [1] 1 1 1 2 2 2 2 0 1 0"
      ]
     },
     "metadata": {},
     "output_type": "display_data"
    },
    {
     "data": {
      "text/html": [
       "<ol class=list-inline>\n",
       "\t<li>0.414543778708931</li>\n",
       "\t<li>1.15109577305139</li>\n",
       "\t<li>1.76390287473172</li>\n",
       "\t<li>2.08625446061108</li>\n",
       "\t<li>0.539007031358778</li>\n",
       "\t<li>0.97483307109495</li>\n",
       "\t<li>0.124236001167446</li>\n",
       "\t<li>1.48012347527324</li>\n",
       "\t<li>0.472197840921581</li>\n",
       "\t<li>1.09453275329889</li>\n",
       "</ol>\n"
      ],
      "text/latex": [
       "\\begin{enumerate*}\n",
       "\\item 0.414543778708931\n",
       "\\item 1.15109577305139\n",
       "\\item 1.76390287473172\n",
       "\\item 2.08625446061108\n",
       "\\item 0.539007031358778\n",
       "\\item 0.97483307109495\n",
       "\\item 0.124236001167446\n",
       "\\item 1.48012347527324\n",
       "\\item 0.472197840921581\n",
       "\\item 1.09453275329889\n",
       "\\end{enumerate*}\n"
      ],
      "text/markdown": [
       "1. 0.414543778708931\n",
       "2. 1.15109577305139\n",
       "3. 1.76390287473172\n",
       "4. 2.08625446061108\n",
       "5. 0.539007031358778\n",
       "6. 0.97483307109495\n",
       "7. 0.124236001167446\n",
       "8. 1.48012347527324\n",
       "9. 0.472197840921581\n",
       "10. 1.09453275329889\n",
       "\n",
       "\n"
      ],
      "text/plain": [
       " [1] 0.4145438 1.1510958 1.7639029 2.0862545 0.5390070 0.9748331 0.1242360\n",
       " [8] 1.4801235 0.4721978 1.0945328"
      ]
     },
     "metadata": {},
     "output_type": "display_data"
    }
   ],
   "source": [
    "runif(n = 10)  # 10 samples from Unif(0, 1)\n",
    "rnorm(n = 10)  # 10 samples from Norm(0, 1)\n",
    "rpois(n = 10, 1)  # 10 samples from Poisson(1)\n",
    "rexp(n = 10)  # 10 samples from Exp(1)"
   ]
  },
  {
   "cell_type": "markdown",
   "metadata": {},
   "source": [
    "- Distribution parameters can be specified as arguments, e.g."
   ]
  },
  {
   "cell_type": "code",
   "execution_count": 31,
   "metadata": {
    "attributes": {
     "classes": [],
     "eval": "FALSE",
     "id": ""
    }
   },
   "outputs": [
    {
     "data": {
      "text/html": [
       "<ol class=list-inline>\n",
       "\t<li>26.4860616137269</li>\n",
       "\t<li>11.0208533464775</li>\n",
       "\t<li>15.9815477041504</li>\n",
       "\t<li>16.9843897880578</li>\n",
       "\t<li>21.0076405896211</li>\n",
       "\t<li>23.7087088001167</li>\n",
       "\t<li>23.4598347200051</li>\n",
       "\t<li>24.3000788969438</li>\n",
       "\t<li>9.56506792723688</li>\n",
       "\t<li>19.2534096920475</li>\n",
       "\t<li>10.1758619202662</li>\n",
       "\t<li>18.270160557659</li>\n",
       "\t<li>26.6808016839965</li>\n",
       "\t<li>19.5144918608117</li>\n",
       "\t<li>16.2511647124522</li>\n",
       "\t<li>12.5691401184102</li>\n",
       "\t<li>18.4614632327729</li>\n",
       "\t<li>15.7382406333058</li>\n",
       "\t<li>25.8505243936457</li>\n",
       "\t<li>16.8570634325771</li>\n",
       "\t<li>22.1015929121779</li>\n",
       "\t<li>20.0858807287411</li>\n",
       "\t<li>26.2611785521319</li>\n",
       "\t<li>18.6583927673996</li>\n",
       "\t<li>25.7035247231144</li>\n",
       "\t<li>33.0736379121571</li>\n",
       "\t<li>22.0324362589605</li>\n",
       "\t<li>16.7839022823437</li>\n",
       "\t<li>25.6852656867281</li>\n",
       "\t<li>20.5471843904681</li>\n",
       "\t<li>21.6685851621172</li>\n",
       "\t<li>24.3828034585406</li>\n",
       "\t<li>13.605491796603</li>\n",
       "\t<li>19.2699789956654</li>\n",
       "\t<li>20.4438256170724</li>\n",
       "\t<li>18.7912631119141</li>\n",
       "\t<li>8.78741315846652</li>\n",
       "\t<li>18.3308639331485</li>\n",
       "\t<li>12.3780847572546</li>\n",
       "\t<li>12.9233470396959</li>\n",
       "\t<li>28.7268265481334</li>\n",
       "\t<li>17.2625840331996</li>\n",
       "\t<li>20.7361834203159</li>\n",
       "\t<li>24.3888085119421</li>\n",
       "\t<li>17.5148909890719</li>\n",
       "\t<li>21.6346630996401</li>\n",
       "\t<li>29.9777011079989</li>\n",
       "\t<li>15.7946109881616</li>\n",
       "\t<li>18.3528753220728</li>\n",
       "\t<li>20.4608607541916</li>\n",
       "\t<li>19.7928731077581</li>\n",
       "\t<li>24.4258599147418</li>\n",
       "\t<li>21.6111349848216</li>\n",
       "\t<li>25.3316971194259</li>\n",
       "\t<li>18.5681795122029</li>\n",
       "\t<li>14.7597038929357</li>\n",
       "\t<li>19.7953073932601</li>\n",
       "\t<li>20.1843625222149</li>\n",
       "\t<li>26.2963037890445</li>\n",
       "\t<li>28.3627413742154</li>\n",
       "\t<li>12.2747662426474</li>\n",
       "\t<li>25.1387185304831</li>\n",
       "\t<li>28.9773221500113</li>\n",
       "\t<li>13.0735807328669</li>\n",
       "\t<li>21.5983085806062</li>\n",
       "\t<li>16.1820795408382</li>\n",
       "\t<li>24.5229966333398</li>\n",
       "\t<li>10.7737076535264</li>\n",
       "\t<li>21.288597386642</li>\n",
       "\t<li>28.7387609000307</li>\n",
       "\t<li>32.8404102770849</li>\n",
       "\t<li>13.2221858638204</li>\n",
       "\t<li>15.6845546804874</li>\n",
       "\t<li>26.265108857676</li>\n",
       "\t<li>23.6977674436404</li>\n",
       "\t<li>19.9115172235634</li>\n",
       "\t<li>21.7650354747867</li>\n",
       "\t<li>22.1531917697016</li>\n",
       "\t<li>27.271610057212</li>\n",
       "\t<li>20.5236190221882</li>\n",
       "\t<li>27.5724409984367</li>\n",
       "\t<li>15.6616649889992</li>\n",
       "\t<li>18.1962527663503</li>\n",
       "\t<li>24.2662881526811</li>\n",
       "\t<li>15.6621071582147</li>\n",
       "\t<li>17.3263804301243</li>\n",
       "\t<li>27.360420724657</li>\n",
       "\t<li>15.6759651171465</li>\n",
       "\t<li>22.4452846631496</li>\n",
       "\t<li>19.0408429823372</li>\n",
       "\t<li>13.7680889889444</li>\n",
       "\t<li>15.2334334993145</li>\n",
       "\t<li>13.284867248152</li>\n",
       "\t<li>19.9096827295371</li>\n",
       "\t<li>13.2500746406375</li>\n",
       "\t<li>19.9852099808848</li>\n",
       "\t<li>10.5260242339257</li>\n",
       "\t<li>20.1019318818677</li>\n",
       "\t<li>12.9292515052829</li>\n",
       "\t<li>16.5384072747007</li>\n",
       "</ol>\n"
      ],
      "text/latex": [
       "\\begin{enumerate*}\n",
       "\\item 26.4860616137269\n",
       "\\item 11.0208533464775\n",
       "\\item 15.9815477041504\n",
       "\\item 16.9843897880578\n",
       "\\item 21.0076405896211\n",
       "\\item 23.7087088001167\n",
       "\\item 23.4598347200051\n",
       "\\item 24.3000788969438\n",
       "\\item 9.56506792723688\n",
       "\\item 19.2534096920475\n",
       "\\item 10.1758619202662\n",
       "\\item 18.270160557659\n",
       "\\item 26.6808016839965\n",
       "\\item 19.5144918608117\n",
       "\\item 16.2511647124522\n",
       "\\item 12.5691401184102\n",
       "\\item 18.4614632327729\n",
       "\\item 15.7382406333058\n",
       "\\item 25.8505243936457\n",
       "\\item 16.8570634325771\n",
       "\\item 22.1015929121779\n",
       "\\item 20.0858807287411\n",
       "\\item 26.2611785521319\n",
       "\\item 18.6583927673996\n",
       "\\item 25.7035247231144\n",
       "\\item 33.0736379121571\n",
       "\\item 22.0324362589605\n",
       "\\item 16.7839022823437\n",
       "\\item 25.6852656867281\n",
       "\\item 20.5471843904681\n",
       "\\item 21.6685851621172\n",
       "\\item 24.3828034585406\n",
       "\\item 13.605491796603\n",
       "\\item 19.2699789956654\n",
       "\\item 20.4438256170724\n",
       "\\item 18.7912631119141\n",
       "\\item 8.78741315846652\n",
       "\\item 18.3308639331485\n",
       "\\item 12.3780847572546\n",
       "\\item 12.9233470396959\n",
       "\\item 28.7268265481334\n",
       "\\item 17.2625840331996\n",
       "\\item 20.7361834203159\n",
       "\\item 24.3888085119421\n",
       "\\item 17.5148909890719\n",
       "\\item 21.6346630996401\n",
       "\\item 29.9777011079989\n",
       "\\item 15.7946109881616\n",
       "\\item 18.3528753220728\n",
       "\\item 20.4608607541916\n",
       "\\item 19.7928731077581\n",
       "\\item 24.4258599147418\n",
       "\\item 21.6111349848216\n",
       "\\item 25.3316971194259\n",
       "\\item 18.5681795122029\n",
       "\\item 14.7597038929357\n",
       "\\item 19.7953073932601\n",
       "\\item 20.1843625222149\n",
       "\\item 26.2963037890445\n",
       "\\item 28.3627413742154\n",
       "\\item 12.2747662426474\n",
       "\\item 25.1387185304831\n",
       "\\item 28.9773221500113\n",
       "\\item 13.0735807328669\n",
       "\\item 21.5983085806062\n",
       "\\item 16.1820795408382\n",
       "\\item 24.5229966333398\n",
       "\\item 10.7737076535264\n",
       "\\item 21.288597386642\n",
       "\\item 28.7387609000307\n",
       "\\item 32.8404102770849\n",
       "\\item 13.2221858638204\n",
       "\\item 15.6845546804874\n",
       "\\item 26.265108857676\n",
       "\\item 23.6977674436404\n",
       "\\item 19.9115172235634\n",
       "\\item 21.7650354747867\n",
       "\\item 22.1531917697016\n",
       "\\item 27.271610057212\n",
       "\\item 20.5236190221882\n",
       "\\item 27.5724409984367\n",
       "\\item 15.6616649889992\n",
       "\\item 18.1962527663503\n",
       "\\item 24.2662881526811\n",
       "\\item 15.6621071582147\n",
       "\\item 17.3263804301243\n",
       "\\item 27.360420724657\n",
       "\\item 15.6759651171465\n",
       "\\item 22.4452846631496\n",
       "\\item 19.0408429823372\n",
       "\\item 13.7680889889444\n",
       "\\item 15.2334334993145\n",
       "\\item 13.284867248152\n",
       "\\item 19.9096827295371\n",
       "\\item 13.2500746406375\n",
       "\\item 19.9852099808848\n",
       "\\item 10.5260242339257\n",
       "\\item 20.1019318818677\n",
       "\\item 12.9292515052829\n",
       "\\item 16.5384072747007\n",
       "\\end{enumerate*}\n"
      ],
      "text/markdown": [
       "1. 26.4860616137269\n",
       "2. 11.0208533464775\n",
       "3. 15.9815477041504\n",
       "4. 16.9843897880578\n",
       "5. 21.0076405896211\n",
       "6. 23.7087088001167\n",
       "7. 23.4598347200051\n",
       "8. 24.3000788969438\n",
       "9. 9.56506792723688\n",
       "10. 19.2534096920475\n",
       "11. 10.1758619202662\n",
       "12. 18.270160557659\n",
       "13. 26.6808016839965\n",
       "14. 19.5144918608117\n",
       "15. 16.2511647124522\n",
       "16. 12.5691401184102\n",
       "17. 18.4614632327729\n",
       "18. 15.7382406333058\n",
       "19. 25.8505243936457\n",
       "20. 16.8570634325771\n",
       "21. 22.1015929121779\n",
       "22. 20.0858807287411\n",
       "23. 26.2611785521319\n",
       "24. 18.6583927673996\n",
       "25. 25.7035247231144\n",
       "26. 33.0736379121571\n",
       "27. 22.0324362589605\n",
       "28. 16.7839022823437\n",
       "29. 25.6852656867281\n",
       "30. 20.5471843904681\n",
       "31. 21.6685851621172\n",
       "32. 24.3828034585406\n",
       "33. 13.605491796603\n",
       "34. 19.2699789956654\n",
       "35. 20.4438256170724\n",
       "36. 18.7912631119141\n",
       "37. 8.78741315846652\n",
       "38. 18.3308639331485\n",
       "39. 12.3780847572546\n",
       "40. 12.9233470396959\n",
       "41. 28.7268265481334\n",
       "42. 17.2625840331996\n",
       "43. 20.7361834203159\n",
       "44. 24.3888085119421\n",
       "45. 17.5148909890719\n",
       "46. 21.6346630996401\n",
       "47. 29.9777011079989\n",
       "48. 15.7946109881616\n",
       "49. 18.3528753220728\n",
       "50. 20.4608607541916\n",
       "51. 19.7928731077581\n",
       "52. 24.4258599147418\n",
       "53. 21.6111349848216\n",
       "54. 25.3316971194259\n",
       "55. 18.5681795122029\n",
       "56. 14.7597038929357\n",
       "57. 19.7953073932601\n",
       "58. 20.1843625222149\n",
       "59. 26.2963037890445\n",
       "60. 28.3627413742154\n",
       "61. 12.2747662426474\n",
       "62. 25.1387185304831\n",
       "63. 28.9773221500113\n",
       "64. 13.0735807328669\n",
       "65. 21.5983085806062\n",
       "66. 16.1820795408382\n",
       "67. 24.5229966333398\n",
       "68. 10.7737076535264\n",
       "69. 21.288597386642\n",
       "70. 28.7387609000307\n",
       "71. 32.8404102770849\n",
       "72. 13.2221858638204\n",
       "73. 15.6845546804874\n",
       "74. 26.265108857676\n",
       "75. 23.6977674436404\n",
       "76. 19.9115172235634\n",
       "77. 21.7650354747867\n",
       "78. 22.1531917697016\n",
       "79. 27.271610057212\n",
       "80. 20.5236190221882\n",
       "81. 27.5724409984367\n",
       "82. 15.6616649889992\n",
       "83. 18.1962527663503\n",
       "84. 24.2662881526811\n",
       "85. 15.6621071582147\n",
       "86. 17.3263804301243\n",
       "87. 27.360420724657\n",
       "88. 15.6759651171465\n",
       "89. 22.4452846631496\n",
       "90. 19.0408429823372\n",
       "91. 13.7680889889444\n",
       "92. 15.2334334993145\n",
       "93. 13.284867248152\n",
       "94. 19.9096827295371\n",
       "95. 13.2500746406375\n",
       "96. 19.9852099808848\n",
       "97. 10.5260242339257\n",
       "98. 20.1019318818677\n",
       "99. 12.9292515052829\n",
       "100. 16.5384072747007\n",
       "\n",
       "\n"
      ],
      "text/plain": [
       "  [1] 26.486062 11.020853 15.981548 16.984390 21.007641 23.708709 23.459835\n",
       "  [8] 24.300079  9.565068 19.253410 10.175862 18.270161 26.680802 19.514492\n",
       " [15] 16.251165 12.569140 18.461463 15.738241 25.850524 16.857063 22.101593\n",
       " [22] 20.085881 26.261179 18.658393 25.703525 33.073638 22.032436 16.783902\n",
       " [29] 25.685266 20.547184 21.668585 24.382803 13.605492 19.269979 20.443826\n",
       " [36] 18.791263  8.787413 18.330864 12.378085 12.923347 28.726827 17.262584\n",
       " [43] 20.736183 24.388809 17.514891 21.634663 29.977701 15.794611 18.352875\n",
       " [50] 20.460861 19.792873 24.425860 21.611135 25.331697 18.568180 14.759704\n",
       " [57] 19.795307 20.184363 26.296304 28.362741 12.274766 25.138719 28.977322\n",
       " [64] 13.073581 21.598309 16.182080 24.522997 10.773708 21.288597 28.738761\n",
       " [71] 32.840410 13.222186 15.684555 26.265109 23.697767 19.911517 21.765035\n",
       " [78] 22.153192 27.271610 20.523619 27.572441 15.661665 18.196253 24.266288\n",
       " [85] 15.662107 17.326380 27.360421 15.675965 22.445285 19.040843 13.768089\n",
       " [92] 15.233433 13.284867 19.909683 13.250075 19.985210 10.526024 20.101932\n",
       " [99] 12.929252 16.538407"
      ]
     },
     "metadata": {},
     "output_type": "display_data"
    }
   ],
   "source": [
    "# 100 samples from a Norm(20, 5) distribution\n",
    "rnorm(n = 100, mean = 20, sd = 5)"
   ]
  },
  {
   "cell_type": "markdown",
   "metadata": {},
   "source": [
    "- Read documentation for available distributions"
   ]
  },
  {
   "cell_type": "code",
   "execution_count": 33,
   "metadata": {},
   "outputs": [
    {
     "data": {
      "text/html": [
       "\n",
       "<table width=\"100%\" summary=\"page for Distributions {stats}\"><tr><td>Distributions {stats}</td><td style=\"text-align: right;\">R Documentation</td></tr></table>\n",
       "\n",
       "<h2>Distributions in the stats package</h2>\n",
       "\n",
       "<h3>Description</h3>\n",
       "\n",
       "<p>Density, cumulative distribution function, quantile function and random\n",
       "variate generation for many standard probability distributions are\n",
       "available in the <span class=\"pkg\">stats</span> package.\n",
       "</p>\n",
       "\n",
       "\n",
       "<h3>Details</h3>\n",
       "\n",
       "<p>The functions for the density/mass function, cumulative distribution\n",
       "function, quantile function and random variate generation are named in the\n",
       "form <code>dxxx</code>, <code>pxxx</code>, <code>qxxx</code> and <code>rxxx</code> respectively.\n",
       "</p>\n",
       "<p>For the beta distribution see <code>dbeta</code>.\n",
       "</p>\n",
       "<p>For the binomial (including Bernoulli) distribution see\n",
       "<code>dbinom</code>.\n",
       "</p>\n",
       "<p>For the Cauchy distribution see <code>dcauchy</code>.\n",
       "</p>\n",
       "<p>For the chi-squared distribution see <code>dchisq</code>.\n",
       "</p>\n",
       "<p>For the exponential distribution see <code>dexp</code>.\n",
       "</p>\n",
       "<p>For the F distribution see <code>df</code>.\n",
       "</p>\n",
       "<p>For the gamma distribution see <code>dgamma</code>.\n",
       "</p>\n",
       "<p>For the geometric distribution see <code>dgeom</code>.  (This is also\n",
       "a special case of the negative binomial.)\n",
       "</p>\n",
       "<p>For the hypergeometric distribution see <code>dhyper</code>.\n",
       "</p>\n",
       "<p>For the log-normal distribution see <code>dlnorm</code>.\n",
       "</p>\n",
       "<p>For the multinomial distribution see <code>dmultinom</code>.\n",
       "</p>\n",
       "<p>For the negative binomial distribution see <code>dnbinom</code>.\n",
       "</p>\n",
       "<p>For the normal distribution see <code>dnorm</code>.\n",
       "</p>\n",
       "<p>For the Poisson distribution see <code>dpois</code>.\n",
       "</p>\n",
       "<p>For the Student's t distribution see <code>dt</code>.\n",
       "</p>\n",
       "<p>For the uniform distribution see <code>dunif</code>.\n",
       "</p>\n",
       "<p>For the Weibull distribution see <code>dweibull</code>.\n",
       "</p>\n",
       "<p>For less common distributions of test statistics see\n",
       "<code>pbirthday</code>, <code>dsignrank</code>,\n",
       "<code>ptukey</code> and <code>dwilcox</code> (and see the\n",
       "&lsquo;See Also&rsquo; section of <code>cor.test</code>).\n",
       "</p>\n",
       "\n",
       "\n",
       "<h3>See Also</h3>\n",
       "\n",
       "<p><code>RNG</code> about random number generation in <span style=\"font-family: Courier New, Courier; color: #666666;\"><b>R</b></span>.\n",
       "</p>\n",
       "<p>The CRAN task view on distributions,\n",
       "<a href=\"https://CRAN.R-project.org/view=Distributions\">https://CRAN.R-project.org/view=Distributions</a>,\n",
       "mentioning several CRAN packages for additional distributions.\n",
       "</p>\n",
       "\n",
       "<hr /><div style=\"text-align: center;\">[Package <em>stats</em> version 3.4.4 ]</div>"
      ],
      "text/latex": [
       "\\inputencoding{utf8}\n",
       "\\HeaderA{Distributions}{Distributions in the stats package}{Distributions}\n",
       "\\aliasA{distribution}{Distributions}{distribution}\n",
       "\\aliasA{distributions}{Distributions}{distributions}\n",
       "\\keyword{distribution}{Distributions}\n",
       "%\n",
       "\\begin{Description}\\relax\n",
       "Density, cumulative distribution function, quantile function and random\n",
       "variate generation for many standard probability distributions are\n",
       "available in the \\pkg{stats} package.\n",
       "\\end{Description}\n",
       "%\n",
       "\\begin{Details}\\relax\n",
       "The functions for the density/mass function, cumulative distribution\n",
       "function, quantile function and random variate generation are named in the\n",
       "form \\code{dxxx}, \\code{pxxx}, \\code{qxxx} and \\code{rxxx} respectively.\n",
       "\n",
       "For the beta distribution see \\code{\\LinkA{dbeta}{dbeta}}.\n",
       "\n",
       "For the binomial (including Bernoulli) distribution see\n",
       "\\code{\\LinkA{dbinom}{dbinom}}.\n",
       "\n",
       "For the Cauchy distribution see \\code{\\LinkA{dcauchy}{dcauchy}}.\n",
       "\n",
       "For the chi-squared distribution see \\code{\\LinkA{dchisq}{dchisq}}.\n",
       "\n",
       "For the exponential distribution see \\code{\\LinkA{dexp}{dexp}}.\n",
       "\n",
       "For the F distribution see \\code{\\LinkA{df}{df}}.\n",
       "\n",
       "For the gamma distribution see \\code{\\LinkA{dgamma}{dgamma}}.\n",
       "\n",
       "For the geometric distribution see \\code{\\LinkA{dgeom}{dgeom}}.  (This is also\n",
       "a special case of the negative binomial.)\n",
       "\n",
       "For the hypergeometric distribution see \\code{\\LinkA{dhyper}{dhyper}}.\n",
       "\n",
       "For the log-normal distribution see \\code{\\LinkA{dlnorm}{dlnorm}}.\n",
       "\n",
       "For the multinomial distribution see \\code{\\LinkA{dmultinom}{dmultinom}}.\n",
       "\n",
       "For the negative binomial distribution see \\code{\\LinkA{dnbinom}{dnbinom}}.\n",
       "\n",
       "For the normal distribution see \\code{\\LinkA{dnorm}{dnorm}}.\n",
       "\n",
       "For the Poisson distribution see \\code{\\LinkA{dpois}{dpois}}.\n",
       "\n",
       "For the Student's t distribution see \\code{\\LinkA{dt}{dt}}.\n",
       "\n",
       "For the uniform distribution see \\code{\\LinkA{dunif}{dunif}}.\n",
       "\n",
       "For the Weibull distribution see \\code{\\LinkA{dweibull}{dweibull}}.\n",
       "\n",
       "For less common distributions of test statistics see\n",
       "\\code{\\LinkA{pbirthday}{pbirthday}}, \\code{\\LinkA{dsignrank}{dsignrank}},\n",
       "\\code{\\LinkA{ptukey}{ptukey}} and \\code{\\LinkA{dwilcox}{dwilcox}} (and see the\n",
       "`See Also' section of \\code{\\LinkA{cor.test}{cor.test}}).\n",
       "\\end{Details}\n",
       "%\n",
       "\\begin{SeeAlso}\\relax\n",
       "\\code{\\LinkA{RNG}{RNG}} about random number generation in \\R{}.\n",
       "\n",
       "The CRAN task view on distributions,\n",
       "\\url{https://CRAN.R-project.org/view=Distributions},\n",
       "mentioning several CRAN packages for additional distributions.\n",
       "\\end{SeeAlso}"
      ],
      "text/plain": [
       "Distributions              package:stats               R Documentation\n",
       "\n",
       "_\bD_\bi_\bs_\bt_\br_\bi_\bb_\bu_\bt_\bi_\bo_\bn_\bs _\bi_\bn _\bt_\bh_\be _\bs_\bt_\ba_\bt_\bs _\bp_\ba_\bc_\bk_\ba_\bg_\be\n",
       "\n",
       "_\bD_\be_\bs_\bc_\br_\bi_\bp_\bt_\bi_\bo_\bn:\n",
       "\n",
       "     Density, cumulative distribution function, quantile function and\n",
       "     random variate generation for many standard probability\n",
       "     distributions are available in the ‘stats’ package.\n",
       "\n",
       "_\bD_\be_\bt_\ba_\bi_\bl_\bs:\n",
       "\n",
       "     The functions for the density/mass function, cumulative\n",
       "     distribution function, quantile function and random variate\n",
       "     generation are named in the form ‘dxxx’, ‘pxxx’, ‘qxxx’ and ‘rxxx’\n",
       "     respectively.\n",
       "\n",
       "     For the beta distribution see ‘dbeta’.\n",
       "\n",
       "     For the binomial (including Bernoulli) distribution see ‘dbinom’.\n",
       "\n",
       "     For the Cauchy distribution see ‘dcauchy’.\n",
       "\n",
       "     For the chi-squared distribution see ‘dchisq’.\n",
       "\n",
       "     For the exponential distribution see ‘dexp’.\n",
       "\n",
       "     For the F distribution see ‘df’.\n",
       "\n",
       "     For the gamma distribution see ‘dgamma’.\n",
       "\n",
       "     For the geometric distribution see ‘dgeom’.  (This is also a\n",
       "     special case of the negative binomial.)\n",
       "\n",
       "     For the hypergeometric distribution see ‘dhyper’.\n",
       "\n",
       "     For the log-normal distribution see ‘dlnorm’.\n",
       "\n",
       "     For the multinomial distribution see ‘dmultinom’.\n",
       "\n",
       "     For the negative binomial distribution see ‘dnbinom’.\n",
       "\n",
       "     For the normal distribution see ‘dnorm’.\n",
       "\n",
       "     For the Poisson distribution see ‘dpois’.\n",
       "\n",
       "     For the Student's t distribution see ‘dt’.\n",
       "\n",
       "     For the uniform distribution see ‘dunif’.\n",
       "\n",
       "     For the Weibull distribution see ‘dweibull’.\n",
       "\n",
       "     For less common distributions of test statistics see ‘pbirthday’,\n",
       "     ‘dsignrank’, ‘ptukey’ and ‘dwilcox’ (and see the ‘See Also’\n",
       "     section of ‘cor.test’).\n",
       "\n",
       "_\bS_\be_\be _\bA_\bl_\bs_\bo:\n",
       "\n",
       "     ‘RNG’ about random number generation in R.\n",
       "\n",
       "     The CRAN task view on distributions, <URL:\n",
       "     https://CRAN.R-project.org/view=Distributions>, mentioning several\n",
       "     CRAN packages for additional distributions.\n"
      ]
     },
     "metadata": {},
     "output_type": "display_data"
    }
   ],
   "source": [
    "?Distributions"
   ]
  },
  {
   "cell_type": "markdown",
   "metadata": {},
   "source": [
    "## Vectors: Indexing\n",
    "- Use square braces (`[]`) to index a vector (base 1)\n",
    "    - Indexing out-of-bounds returns a special value called `NA`, *does NOT*\n",
    "      fail"
   ]
  },
  {
   "cell_type": "code",
   "execution_count": 34,
   "metadata": {},
   "outputs": [
    {
     "data": {
      "text/html": [
       "10"
      ],
      "text/latex": [
       "10"
      ],
      "text/markdown": [
       "10"
      ],
      "text/plain": [
       "[1] 10"
      ]
     },
     "metadata": {},
     "output_type": "display_data"
    },
    {
     "data": {
      "text/html": [
       "13"
      ],
      "text/latex": [
       "13"
      ],
      "text/markdown": [
       "13"
      ],
      "text/plain": [
       "[1] 13"
      ]
     },
     "metadata": {},
     "output_type": "display_data"
    },
    {
     "data": {
      "text/html": null,
      "text/latex": null,
      "text/markdown": null,
      "text/plain": [
       "[1] NA"
      ]
     },
     "metadata": {},
     "output_type": "display_data"
    }
   ],
   "source": [
    "X <- c(10, 11, 12, 13)\n",
    "X[1]\n",
    "X[4]\n",
    "X[5]  # Does NOT fail; but returns NA"
   ]
  },
  {
   "cell_type": "markdown",
   "metadata": {},
   "source": [
    "## Vectors: Indexing (cont'd)\n",
    "- Negative indexing is used to exclude elements"
   ]
  },
  {
   "cell_type": "code",
   "execution_count": 35,
   "metadata": {},
   "outputs": [
    {
     "data": {
      "text/html": [
       "<ol class=list-inline>\n",
       "\t<li>11</li>\n",
       "\t<li>12</li>\n",
       "\t<li>13</li>\n",
       "</ol>\n"
      ],
      "text/latex": [
       "\\begin{enumerate*}\n",
       "\\item 11\n",
       "\\item 12\n",
       "\\item 13\n",
       "\\end{enumerate*}\n"
      ],
      "text/markdown": [
       "1. 11\n",
       "2. 12\n",
       "3. 13\n",
       "\n",
       "\n"
      ],
      "text/plain": [
       "[1] 11 12 13"
      ]
     },
     "metadata": {},
     "output_type": "display_data"
    }
   ],
   "source": [
    "X[-1]"
   ]
  },
  {
   "cell_type": "markdown",
   "metadata": {},
   "source": [
    "- Index multiple objects by indexing with a vector"
   ]
  },
  {
   "cell_type": "code",
   "execution_count": 36,
   "metadata": {},
   "outputs": [
    {
     "data": {
      "text/html": [
       "<ol class=list-inline>\n",
       "\t<li>11</li>\n",
       "\t<li>13</li>\n",
       "</ol>\n"
      ],
      "text/latex": [
       "\\begin{enumerate*}\n",
       "\\item 11\n",
       "\\item 13\n",
       "\\end{enumerate*}\n"
      ],
      "text/markdown": [
       "1. 11\n",
       "2. 13\n",
       "\n",
       "\n"
      ],
      "text/plain": [
       "[1] 11 13"
      ]
     },
     "metadata": {},
     "output_type": "display_data"
    }
   ],
   "source": [
    "ind <- c(2, 4)\n",
    "X[ind]"
   ]
  },
  {
   "cell_type": "markdown",
   "metadata": {},
   "source": [
    "## Vectors: Re-assignment with Indices\n",
    "- Replace elements by re-assigning with index"
   ]
  },
  {
   "cell_type": "code",
   "execution_count": 37,
   "metadata": {},
   "outputs": [
    {
     "data": {
      "text/html": [
       "<ol class=list-inline>\n",
       "\t<li>101</li>\n",
       "\t<li>11</li>\n",
       "\t<li>12</li>\n",
       "\t<li>13</li>\n",
       "</ol>\n"
      ],
      "text/latex": [
       "\\begin{enumerate*}\n",
       "\\item 101\n",
       "\\item 11\n",
       "\\item 12\n",
       "\\item 13\n",
       "\\end{enumerate*}\n"
      ],
      "text/markdown": [
       "1. 101\n",
       "2. 11\n",
       "3. 12\n",
       "4. 13\n",
       "\n",
       "\n"
      ],
      "text/plain": [
       "[1] 101  11  12  13"
      ]
     },
     "metadata": {},
     "output_type": "display_data"
    }
   ],
   "source": [
    "X[1] <- 101\n",
    "X"
   ]
  },
  {
   "cell_type": "markdown",
   "metadata": {},
   "source": [
    "- Replace multiple elements as well"
   ]
  },
  {
   "cell_type": "code",
   "execution_count": 38,
   "metadata": {},
   "outputs": [
    {
     "data": {
      "text/html": [
       "<ol class=list-inline>\n",
       "\t<li>101</li>\n",
       "\t<li>22</li>\n",
       "\t<li>33</li>\n",
       "\t<li>13</li>\n",
       "</ol>\n"
      ],
      "text/latex": [
       "\\begin{enumerate*}\n",
       "\\item 101\n",
       "\\item 22\n",
       "\\item 33\n",
       "\\item 13\n",
       "\\end{enumerate*}\n"
      ],
      "text/markdown": [
       "1. 101\n",
       "2. 22\n",
       "3. 33\n",
       "4. 13\n",
       "\n",
       "\n"
      ],
      "text/plain": [
       "[1] 101  22  33  13"
      ]
     },
     "metadata": {},
     "output_type": "display_data"
    }
   ],
   "source": [
    "X[2:3] <- c(22, 33)\n",
    "X"
   ]
  },
  {
   "cell_type": "markdown",
   "metadata": {},
   "source": [
    "## Vectors: Add Elements by Index\n",
    "- Add new elements to a vector by assigning"
   ]
  },
  {
   "cell_type": "code",
   "execution_count": 39,
   "metadata": {},
   "outputs": [
    {
     "data": {
      "text/html": null,
      "text/latex": null,
      "text/markdown": null,
      "text/plain": [
       "[1] NA"
      ]
     },
     "metadata": {},
     "output_type": "display_data"
    },
    {
     "data": {
      "text/html": [
       "<ol class=list-inline>\n",
       "\t<li>101</li>\n",
       "\t<li>22</li>\n",
       "\t<li>33</li>\n",
       "\t<li>13</li>\n",
       "\t<li>555</li>\n",
       "</ol>\n"
      ],
      "text/latex": [
       "\\begin{enumerate*}\n",
       "\\item 101\n",
       "\\item 22\n",
       "\\item 33\n",
       "\\item 13\n",
       "\\item 555\n",
       "\\end{enumerate*}\n"
      ],
      "text/markdown": [
       "1. 101\n",
       "2. 22\n",
       "3. 33\n",
       "4. 13\n",
       "5. 555\n",
       "\n",
       "\n"
      ],
      "text/plain": [
       "[1] 101  22  33  13 555"
      ]
     },
     "metadata": {},
     "output_type": "display_data"
    }
   ],
   "source": [
    "X[5]\n",
    "X[5] <- 555\n",
    "X"
   ]
  },
  {
   "cell_type": "markdown",
   "metadata": {},
   "source": [
    "# Vector Operations\n",
    "\n",
    "## Vector Operations"
   ]
  },
  {
   "cell_type": "code",
   "execution_count": 40,
   "metadata": {},
   "outputs": [
    {
     "data": {
      "text/html": [
       "<ol class=list-inline>\n",
       "\t<li>2</li>\n",
       "\t<li>4</li>\n",
       "\t<li>6</li>\n",
       "\t<li>8</li>\n",
       "</ol>\n"
      ],
      "text/latex": [
       "\\begin{enumerate*}\n",
       "\\item 2\n",
       "\\item 4\n",
       "\\item 6\n",
       "\\item 8\n",
       "\\end{enumerate*}\n"
      ],
      "text/markdown": [
       "1. 2\n",
       "2. 4\n",
       "3. 6\n",
       "4. 8\n",
       "\n",
       "\n"
      ],
      "text/plain": [
       "[1] 2 4 6 8"
      ]
     },
     "metadata": {},
     "output_type": "display_data"
    },
    {
     "data": {
      "text/html": [
       "<ol class=list-inline>\n",
       "\t<li>0</li>\n",
       "\t<li>0</li>\n",
       "\t<li>0</li>\n",
       "\t<li>0</li>\n",
       "</ol>\n"
      ],
      "text/latex": [
       "\\begin{enumerate*}\n",
       "\\item 0\n",
       "\\item 0\n",
       "\\item 0\n",
       "\\item 0\n",
       "\\end{enumerate*}\n"
      ],
      "text/markdown": [
       "1. 0\n",
       "2. 0\n",
       "3. 0\n",
       "4. 0\n",
       "\n",
       "\n"
      ],
      "text/plain": [
       "[1] 0 0 0 0"
      ]
     },
     "metadata": {},
     "output_type": "display_data"
    }
   ],
   "source": [
    "X = c(1:4)\n",
    "X + X  # element-wise summation\n",
    "X - X  # element-wise subtraction"
   ]
  },
  {
   "cell_type": "markdown",
   "metadata": {},
   "source": [
    "## Vector Operations (cont'd)"
   ]
  },
  {
   "cell_type": "code",
   "execution_count": 41,
   "metadata": {},
   "outputs": [
    {
     "data": {
      "text/html": [
       "<ol class=list-inline>\n",
       "\t<li>1</li>\n",
       "\t<li>8</li>\n",
       "\t<li>27</li>\n",
       "\t<li>64</li>\n",
       "</ol>\n"
      ],
      "text/latex": [
       "\\begin{enumerate*}\n",
       "\\item 1\n",
       "\\item 8\n",
       "\\item 27\n",
       "\\item 64\n",
       "\\end{enumerate*}\n"
      ],
      "text/markdown": [
       "1. 1\n",
       "2. 8\n",
       "3. 27\n",
       "4. 64\n",
       "\n",
       "\n"
      ],
      "text/plain": [
       "[1]  1  8 27 64"
      ]
     },
     "metadata": {},
     "output_type": "display_data"
    },
    {
     "data": {
      "text/html": [
       "<ol class=list-inline>\n",
       "\t<li>1</li>\n",
       "\t<li>4</li>\n",
       "\t<li>9</li>\n",
       "\t<li>16</li>\n",
       "</ol>\n"
      ],
      "text/latex": [
       "\\begin{enumerate*}\n",
       "\\item 1\n",
       "\\item 4\n",
       "\\item 9\n",
       "\\item 16\n",
       "\\end{enumerate*}\n"
      ],
      "text/markdown": [
       "1. 1\n",
       "2. 4\n",
       "3. 9\n",
       "4. 16\n",
       "\n",
       "\n"
      ],
      "text/plain": [
       "[1]  1  4  9 16"
      ]
     },
     "metadata": {},
     "output_type": "display_data"
    },
    {
     "data": {
      "text/html": [
       "<table>\n",
       "<tbody>\n",
       "\t<tr><td>30</td></tr>\n",
       "</tbody>\n",
       "</table>\n"
      ],
      "text/latex": [
       "\\begin{tabular}{l}\n",
       "\t 30\\\\\n",
       "\\end{tabular}\n"
      ],
      "text/markdown": [
       "30"
      ],
      "text/plain": [
       "     [,1]\n",
       "[1,] 30  "
      ]
     },
     "metadata": {},
     "output_type": "display_data"
    }
   ],
   "source": [
    "X^3   # element-wise exponentiation\n",
    "X * X  # element-wise multiplication\n",
    "X %*% X  # dot (inner) product"
   ]
  },
  {
   "cell_type": "markdown",
   "metadata": {},
   "source": [
    "## Vector comparisons\n",
    "- Comparisons are all done element-wise"
   ]
  },
  {
   "cell_type": "code",
   "execution_count": 42,
   "metadata": {},
   "outputs": [
    {
     "data": {
      "text/html": [
       "<ol class=list-inline>\n",
       "\t<li>TRUE</li>\n",
       "\t<li>TRUE</li>\n",
       "\t<li>FALSE</li>\n",
       "</ol>\n"
      ],
      "text/latex": [
       "\\begin{enumerate*}\n",
       "\\item TRUE\n",
       "\\item TRUE\n",
       "\\item FALSE\n",
       "\\end{enumerate*}\n"
      ],
      "text/markdown": [
       "1. TRUE\n",
       "2. TRUE\n",
       "3. FALSE\n",
       "\n",
       "\n"
      ],
      "text/plain": [
       "[1]  TRUE  TRUE FALSE"
      ]
     },
     "metadata": {},
     "output_type": "display_data"
    },
    {
     "data": {
      "text/html": [
       "<ol class=list-inline>\n",
       "\t<li>FALSE</li>\n",
       "\t<li>FALSE</li>\n",
       "\t<li>TRUE</li>\n",
       "</ol>\n"
      ],
      "text/latex": [
       "\\begin{enumerate*}\n",
       "\\item FALSE\n",
       "\\item FALSE\n",
       "\\item TRUE\n",
       "\\end{enumerate*}\n"
      ],
      "text/markdown": [
       "1. FALSE\n",
       "2. FALSE\n",
       "3. TRUE\n",
       "\n",
       "\n"
      ],
      "text/plain": [
       "[1] FALSE FALSE  TRUE"
      ]
     },
     "metadata": {},
     "output_type": "display_data"
    },
    {
     "data": {
      "text/html": [
       "<ol class=list-inline>\n",
       "\t<li>TRUE</li>\n",
       "\t<li>TRUE</li>\n",
       "\t<li>FALSE</li>\n",
       "</ol>\n"
      ],
      "text/latex": [
       "\\begin{enumerate*}\n",
       "\\item TRUE\n",
       "\\item TRUE\n",
       "\\item FALSE\n",
       "\\end{enumerate*}\n"
      ],
      "text/markdown": [
       "1. TRUE\n",
       "2. TRUE\n",
       "3. FALSE\n",
       "\n",
       "\n"
      ],
      "text/plain": [
       "[1]  TRUE  TRUE FALSE"
      ]
     },
     "metadata": {},
     "output_type": "display_data"
    }
   ],
   "source": [
    "c(1, 2, 3) == c(1, 2, 4)\n",
    "c(1, 2, 3) < c(1, 2, 4)\n",
    "c(1, 2, 3) >= c(1, 2, 4)"
   ]
  },
  {
   "cell_type": "markdown",
   "metadata": {},
   "source": [
    "- Note the double equal sign for comparing equality (one would be assignment!)\n",
    "\n",
    "## Helpful Vector Functions\n",
    "- If possible, avoid `loops` by operating over the Vector/Matrix as a whole"
   ]
  },
  {
   "cell_type": "code",
   "execution_count": 43,
   "metadata": {
    "attributes": {
     "classes": [],
     "eval": "FALSE",
     "id": ""
    }
   },
   "outputs": [
    {
     "data": {
      "text/html": [
       "2.5"
      ],
      "text/latex": [
       "2.5"
      ],
      "text/markdown": [
       "2.5"
      ],
      "text/plain": [
       "[1] 2.5"
      ]
     },
     "metadata": {},
     "output_type": "display_data"
    },
    {
     "data": {
      "text/html": [
       "1.29099444873581"
      ],
      "text/latex": [
       "1.29099444873581"
      ],
      "text/markdown": [
       "1.29099444873581"
      ],
      "text/plain": [
       "[1] 1.290994"
      ]
     },
     "metadata": {},
     "output_type": "display_data"
    },
    {
     "data": {
      "text/html": [
       "1.66666666666667"
      ],
      "text/latex": [
       "1.66666666666667"
      ],
      "text/markdown": [
       "1.66666666666667"
      ],
      "text/plain": [
       "[1] 1.666667"
      ]
     },
     "metadata": {},
     "output_type": "display_data"
    },
    {
     "data": {
      "text/html": [
       "4"
      ],
      "text/latex": [
       "4"
      ],
      "text/markdown": [
       "4"
      ],
      "text/plain": [
       "[1] 4"
      ]
     },
     "metadata": {},
     "output_type": "display_data"
    },
    {
     "data": {
      "text/html": [
       "1"
      ],
      "text/latex": [
       "1"
      ],
      "text/markdown": [
       "1"
      ],
      "text/plain": [
       "[1] 1"
      ]
     },
     "metadata": {},
     "output_type": "display_data"
    },
    {
     "data": {
      "text/html": [
       "2.5"
      ],
      "text/latex": [
       "2.5"
      ],
      "text/markdown": [
       "2.5"
      ],
      "text/plain": [
       "[1] 2.5"
      ]
     },
     "metadata": {},
     "output_type": "display_data"
    },
    {
     "data": {
      "text/html": [
       "10"
      ],
      "text/latex": [
       "10"
      ],
      "text/markdown": [
       "10"
      ],
      "text/plain": [
       "[1] 10"
      ]
     },
     "metadata": {},
     "output_type": "display_data"
    },
    {
     "data": {
      "text/html": [
       "24"
      ],
      "text/latex": [
       "24"
      ],
      "text/markdown": [
       "24"
      ],
      "text/plain": [
       "[1] 24"
      ]
     },
     "metadata": {},
     "output_type": "display_data"
    },
    {
     "data": {
      "text/html": [
       "<strong>50%:</strong> 2.5"
      ],
      "text/latex": [
       "\\textbf{50\\textbackslash{}\\%:} 2.5"
      ],
      "text/markdown": [
       "**50%:** 2.5"
      ],
      "text/plain": [
       "50% \n",
       "2.5 "
      ]
     },
     "metadata": {},
     "output_type": "display_data"
    },
    {
     "data": {
      "text/html": [
       "4"
      ],
      "text/latex": [
       "4"
      ],
      "text/markdown": [
       "4"
      ],
      "text/plain": [
       "[1] 4"
      ]
     },
     "metadata": {},
     "output_type": "display_data"
    },
    {
     "data": {
      "text/html": [
       "<ol class=list-inline>\n",
       "\t<li>1</li>\n",
       "\t<li>4</li>\n",
       "</ol>\n"
      ],
      "text/latex": [
       "\\begin{enumerate*}\n",
       "\\item 1\n",
       "\\item 4\n",
       "\\end{enumerate*}\n"
      ],
      "text/markdown": [
       "1. 1\n",
       "2. 4\n",
       "\n",
       "\n"
      ],
      "text/plain": [
       "[1] 1 4"
      ]
     },
     "metadata": {},
     "output_type": "display_data"
    }
   ],
   "source": [
    "mean(X)                # mean\n",
    "sd(X)                  # standard deviation\n",
    "var(X)                 # variance\n",
    "max(X)                 # maximum\n",
    "min(X)                 # minimum\n",
    "median(X)              # median\n",
    "sum(X)                 # sum\n",
    "prod(X)                # product\n",
    "quantile(X,probs=0.5)  # quantile for specified probs\n",
    "length(X)              # length of the vector\n",
    "range(X)               # range"
   ]
  },
  {
   "cell_type": "markdown",
   "metadata": {},
   "source": [
    "# Built-in functions\n",
    "\n",
    "## Some more built-in functions\n",
    "- We've already seen many built-in functions, but here are some more!"
   ]
  },
  {
   "cell_type": "code",
   "execution_count": 44,
   "metadata": {
    "attributes": {
     "classes": [],
     "eval": "FALSE",
     "id": ""
    }
   },
   "outputs": [
    {
     "data": {
      "text/html": [
       "<ol class=list-inline>\n",
       "\t<li>0</li>\n",
       "\t<li>0.693147180559945</li>\n",
       "\t<li>1.09861228866811</li>\n",
       "\t<li>1.38629436111989</li>\n",
       "</ol>\n"
      ],
      "text/latex": [
       "\\begin{enumerate*}\n",
       "\\item 0\n",
       "\\item 0.693147180559945\n",
       "\\item 1.09861228866811\n",
       "\\item 1.38629436111989\n",
       "\\end{enumerate*}\n"
      ],
      "text/markdown": [
       "1. 0\n",
       "2. 0.693147180559945\n",
       "3. 1.09861228866811\n",
       "4. 1.38629436111989\n",
       "\n",
       "\n"
      ],
      "text/plain": [
       "[1] 0.0000000 0.6931472 1.0986123 1.3862944"
      ]
     },
     "metadata": {},
     "output_type": "display_data"
    },
    {
     "data": {
      "text/html": [
       "<ol class=list-inline>\n",
       "\t<li>2.71828182845905</li>\n",
       "\t<li>7.38905609893065</li>\n",
       "\t<li>20.0855369231877</li>\n",
       "\t<li>54.5981500331442</li>\n",
       "</ol>\n"
      ],
      "text/latex": [
       "\\begin{enumerate*}\n",
       "\\item 2.71828182845905\n",
       "\\item 7.38905609893065\n",
       "\\item 20.0855369231877\n",
       "\\item 54.5981500331442\n",
       "\\end{enumerate*}\n"
      ],
      "text/markdown": [
       "1. 2.71828182845905\n",
       "2. 7.38905609893065\n",
       "3. 20.0855369231877\n",
       "4. 54.5981500331442\n",
       "\n",
       "\n"
      ],
      "text/plain": [
       "[1]  2.718282  7.389056 20.085537 54.598150"
      ]
     },
     "metadata": {},
     "output_type": "display_data"
    },
    {
     "data": {
      "text/html": [
       "<ol class=list-inline>\n",
       "\t<li>1</li>\n",
       "\t<li>1.4142135623731</li>\n",
       "\t<li>1.73205080756888</li>\n",
       "\t<li>2</li>\n",
       "</ol>\n"
      ],
      "text/latex": [
       "\\begin{enumerate*}\n",
       "\\item 1\n",
       "\\item 1.4142135623731\n",
       "\\item 1.73205080756888\n",
       "\\item 2\n",
       "\\end{enumerate*}\n"
      ],
      "text/markdown": [
       "1. 1\n",
       "2. 1.4142135623731\n",
       "3. 1.73205080756888\n",
       "4. 2\n",
       "\n",
       "\n"
      ],
      "text/plain": [
       "[1] 1.000000 1.414214 1.732051 2.000000"
      ]
     },
     "metadata": {},
     "output_type": "display_data"
    }
   ],
   "source": [
    "log(X)   # element-wise log\n",
    "exp(X)   # element-wise exponential\n",
    "sqrt(X)  # element-wise square root"
   ]
  },
  {
   "cell_type": "markdown",
   "metadata": {},
   "source": [
    "## Functions for Strings"
   ]
  },
  {
   "cell_type": "code",
   "execution_count": 45,
   "metadata": {},
   "outputs": [
    {
     "data": {
      "text/html": [
       "'one plus one equals 2 !'"
      ],
      "text/latex": [
       "'one plus one equals 2 !'"
      ],
      "text/markdown": [
       "'one plus one equals 2 !'"
      ],
      "text/plain": [
       "[1] \"one plus one equals 2 !\""
      ]
     },
     "metadata": {},
     "output_type": "display_data"
    },
    {
     "data": {
      "text/html": [
       "'one plus one=2'"
      ],
      "text/latex": [
       "'one plus one=2'"
      ],
      "text/markdown": [
       "'one plus one=2'"
      ],
      "text/plain": [
       "[1] \"one plus one=2\""
      ]
     },
     "metadata": {},
     "output_type": "display_data"
    },
    {
     "data": {
      "text/html": [
       "'one plus one = 2'"
      ],
      "text/latex": [
       "'one plus one = 2'"
      ],
      "text/markdown": [
       "'one plus one = 2'"
      ],
      "text/plain": [
       "[1] \"one plus one = 2\""
      ]
     },
     "metadata": {},
     "output_type": "display_data"
    }
   ],
   "source": [
    "# concatenate two (or more) strings\n",
    "paste('one plus one equals', 1+1, '!')\n",
    "# specify a separator\n",
    "paste('one plus one', 1+1, sep='=')\n",
    "# if you're into C-style formatting ...\n",
    "sprintf('one plus one = %d', 1+1)"
   ]
  },
  {
   "cell_type": "markdown",
   "metadata": {},
   "source": [
    "## Functions for Strings (cont'd)\n",
    "- Often, we want to concatenate strings with no spaces\n",
    "(e.g., when constructing filenames/paths at run-time)"
   ]
  },
  {
   "cell_type": "code",
   "execution_count": 46,
   "metadata": {},
   "outputs": [
    {
     "data": {
      "text/html": [
       "'path/to/some_file_name.csv'"
      ],
      "text/latex": [
       "'path/to/some\\_file\\_name.csv'"
      ],
      "text/markdown": [
       "'path/to/some_file_name.csv'"
      ],
      "text/plain": [
       "[1] \"path/to/some_file_name.csv\""
      ]
     },
     "metadata": {},
     "output_type": "display_data"
    },
    {
     "data": {
      "text/html": [
       "'path/to/some_file_name.csv'"
      ],
      "text/latex": [
       "'path/to/some\\_file\\_name.csv'"
      ],
      "text/markdown": [
       "'path/to/some_file_name.csv'"
      ],
      "text/plain": [
       "[1] \"path/to/some_file_name.csv\""
      ]
     },
     "metadata": {},
     "output_type": "display_data"
    }
   ],
   "source": [
    "# short-hand for concatenation w/o spaces\n",
    "filename = 'some_file_name.csv'\n",
    "paste0('path/to/', filename)\n",
    "# function specifically for constructing file paths\n",
    "file.path('path', 'to', filename)"
   ]
  },
  {
   "cell_type": "markdown",
   "metadata": {},
   "source": [
    "## Functions for Strings (cont'd)\n",
    "- To enforce upper/lower cases"
   ]
  },
  {
   "cell_type": "code",
   "execution_count": 47,
   "metadata": {},
   "outputs": [
    {
     "data": {
      "text/html": [
       "'some crazy string'"
      ],
      "text/latex": [
       "'some crazy string'"
      ],
      "text/markdown": [
       "'some crazy string'"
      ],
      "text/plain": [
       "[1] \"some crazy string\""
      ]
     },
     "metadata": {},
     "output_type": "display_data"
    },
    {
     "data": {
      "text/html": [
       "'SOME CRAZY STRING'"
      ],
      "text/latex": [
       "'SOME CRAZY STRING'"
      ],
      "text/markdown": [
       "'SOME CRAZY STRING'"
      ],
      "text/plain": [
       "[1] \"SOME CRAZY STRING\""
      ]
     },
     "metadata": {},
     "output_type": "display_data"
    }
   ],
   "source": [
    "s <- 'SoMe CraZY STRING'\n",
    "tolower(s)\n",
    "toupper(s)"
   ]
  },
  {
   "cell_type": "markdown",
   "metadata": {},
   "source": [
    "## Generic Functions\n",
    "- Some functions for exploring objects"
   ]
  },
  {
   "cell_type": "code",
   "execution_count": 48,
   "metadata": {},
   "outputs": [
    {
     "data": {
      "text/html": [
       "<ol class=list-inline>\n",
       "\t<li>1</li>\n",
       "\t<li>2</li>\n",
       "\t<li>3</li>\n",
       "\t<li>4</li>\n",
       "\t<li>5</li>\n",
       "</ol>\n"
      ],
      "text/latex": [
       "\\begin{enumerate*}\n",
       "\\item 1\n",
       "\\item 2\n",
       "\\item 3\n",
       "\\item 4\n",
       "\\item 5\n",
       "\\end{enumerate*}\n"
      ],
      "text/markdown": [
       "1. 1\n",
       "2. 2\n",
       "3. 3\n",
       "4. 4\n",
       "5. 5\n",
       "\n",
       "\n"
      ],
      "text/plain": [
       "[1] 1 2 3 4 5"
      ]
     },
     "metadata": {},
     "output_type": "display_data"
    },
    {
     "data": {
      "text/html": [
       "<ol class=list-inline>\n",
       "\t<li>96</li>\n",
       "\t<li>97</li>\n",
       "\t<li>98</li>\n",
       "\t<li>99</li>\n",
       "\t<li>100</li>\n",
       "</ol>\n"
      ],
      "text/latex": [
       "\\begin{enumerate*}\n",
       "\\item 96\n",
       "\\item 97\n",
       "\\item 98\n",
       "\\item 99\n",
       "\\item 100\n",
       "\\end{enumerate*}\n"
      ],
      "text/markdown": [
       "1. 96\n",
       "2. 97\n",
       "3. 98\n",
       "4. 99\n",
       "5. 100\n",
       "\n",
       "\n"
      ],
      "text/plain": [
       "[1]  96  97  98  99 100"
      ]
     },
     "metadata": {},
     "output_type": "display_data"
    }
   ],
   "source": [
    "obj <- 1:100\n",
    "head(obj, n=5)  # display first n rows of obj\n",
    "tail(obj, n=5)  # display last n rows of obj"
   ]
  },
  {
   "cell_type": "markdown",
   "metadata": {},
   "source": [
    "## Generic Functions (cont'd)"
   ]
  },
  {
   "cell_type": "code",
   "execution_count": 49,
   "metadata": {},
   "outputs": [
    {
     "name": "stdout",
     "output_type": "stream",
     "text": [
      " int [1:100] 1 2 3 4 5 6 7 8 9 10 ...\n"
     ]
    },
    {
     "data": {
      "text/plain": [
       "   Min. 1st Qu.  Median    Mean 3rd Qu.    Max. \n",
       "   1.00   25.75   50.50   50.50   75.25  100.00 "
      ]
     },
     "metadata": {},
     "output_type": "display_data"
    }
   ],
   "source": [
    "str(obj)  # display structure of obj\n",
    "summary(obj)  # display summary of obj"
   ]
  },
  {
   "cell_type": "markdown",
   "metadata": {},
   "source": [
    "# Custom functions and control\n",
    "\n",
    "## Control Flow\n",
    "- `if` statements"
   ]
  },
  {
   "cell_type": "code",
   "execution_count": 50,
   "metadata": {
    "attributes": {
     "classes": [],
     "eval": "FALSE",
     "id": ""
    }
   },
   "outputs": [
    {
     "ename": "ERROR",
     "evalue": "Error in eval(expr, envir, enclos): object 'condition' not found\n",
     "execution_count": 50,
     "output_type": "error",
     "traceback": [
      "Error in eval(expr, envir, enclos): object 'condition' not found\nTraceback:\n"
     ]
    }
   ],
   "source": [
    "if (condition) {\n",
    "  # stuff to do when condition is TRUE\n",
    "} else if(other_condition) {  # (OPTIONAL)\n",
    "  # stuff to do if other_condition is TRUE\n",
    "} else {  # (OPTIONAL)\n",
    "  # stuff to do if all other conditions are FALSE\n",
    "}"
   ]
  },
  {
   "cell_type": "markdown",
   "metadata": {},
   "source": [
    "- Some consider the catch-all `else` clause to be dangerous\n",
    "    - Some style guides even recommend avoiding the use of `else` for better\n",
    "    readability\n",
    "- Best practice is to make conditions explicit whenever possible\n",
    "\n",
    "## Loops: Note!\n",
    "- Loops in `R` are inefficient[^loops]\n",
    "- For many cases, there will be a much faster, *vectorized* alternative\n",
    "  to looping\n",
    "- We cover loops because there are some *rare* cases in which a loop might\n",
    "  make more sense, but in general, loops should be avoided when writing `R`\n",
    "\n",
    "[^loops]: Not entirely true, but loops are still best avoided for other reasons too.\n",
    "\n",
    "## Loops\n",
    "- `for` statements"
   ]
  },
  {
   "cell_type": "code",
   "execution_count": 52,
   "metadata": {
    "attributes": {
     "classes": [],
     "eval": "FALSE",
     "id": ""
    }
   },
   "outputs": [
    {
     "ename": "ERROR",
     "evalue": "Error in eval(expr, envir, enclos): object 'set' not found\n",
     "execution_count": 52,
     "output_type": "error",
     "traceback": [
      "Error in eval(expr, envir, enclos): object 'set' not found\nTraceback:\n"
     ]
    }
   ],
   "source": [
    "for (ind in sequence/set) {\n",
    "  # iterate over sequence or elements of a set\n",
    "  # do stuff\n",
    "}"
   ]
  },
  {
   "cell_type": "markdown",
   "metadata": {},
   "source": [
    "- `while` statements"
   ]
  },
  {
   "cell_type": "code",
   "execution_count": 53,
   "metadata": {
    "attributes": {
     "classes": [],
     "eval": "FALSE",
     "id": ""
    }
   },
   "outputs": [
    {
     "ename": "ERROR",
     "evalue": "Error in eval(expr, envir, enclos): object 'condition' not found\n",
     "execution_count": 53,
     "output_type": "error",
     "traceback": [
      "Error in eval(expr, envir, enclos): object 'condition' not found\nTraceback:\n"
     ]
    }
   ],
   "source": [
    "while (condition) {\n",
    "  # stuff to do while the condition is TRUE\n",
    "  # the condition must become FALSE at some point!\n",
    "}"
   ]
  },
  {
   "cell_type": "markdown",
   "metadata": {},
   "source": [
    "## Loops: Example"
   ]
  },
  {
   "cell_type": "code",
   "execution_count": 54,
   "metadata": {},
   "outputs": [
    {
     "name": "stdout",
     "output_type": "stream",
     "text": [
      "[1] \"iteration 1\"\n",
      "[1] \"iteration 2\"\n",
      "[1] \"iteration 3\"\n",
      "[1] \"de-iteration 3\"\n",
      "[1] \"de-iteration 2\"\n",
      "[1] \"de-iteration 1\"\n",
      "[1] \"de-iteration 0\"\n"
     ]
    }
   ],
   "source": [
    "for (i in 1:3) {\n",
    "  print(paste('iteration', i))\n",
    "}\n",
    "\n",
    "while (i >= 0) {\n",
    "  print(paste('de-iteration', i))\n",
    "  i <- i - 1  # beware of infinite loops!\n",
    "}"
   ]
  },
  {
   "cell_type": "markdown",
   "metadata": {},
   "source": [
    "## User Defined Functions\n",
    "- Write your own functions in the form"
   ]
  },
  {
   "cell_type": "code",
   "execution_count": 55,
   "metadata": {
    "attributes": {
     "classes": [],
     "eval": "FALSE",
     "id": ""
    }
   },
   "outputs": [],
   "source": [
    "name_of_function <- function(arguments) {\n",
    "  # do some stuff with arguments\n",
    "  return(result)\n",
    "}"
   ]
  },
  {
   "cell_type": "markdown",
   "metadata": {},
   "source": [
    "- You can use your functions like any other function, e.g.,"
   ]
  },
  {
   "cell_type": "code",
   "execution_count": 56,
   "metadata": {
    "attributes": {
     "classes": [],
     "eval": "FALSE",
     "id": ""
    }
   },
   "outputs": [
    {
     "ename": "ERROR",
     "evalue": "Error in name_of_function(arguments): object 'result' not found\n",
     "execution_count": 56,
     "output_type": "error",
     "traceback": [
      "Error in name_of_function(arguments): object 'result' not found\nTraceback:\n",
      "1. name_of_function(arguments)"
     ]
    }
   ],
   "source": [
    "name_of_function(arguments)  # gives you the 'result'"
   ]
  },
  {
   "cell_type": "markdown",
   "metadata": {},
   "source": [
    "## User Defined Functions: Example\n",
    "- Write a function that will take a vector in $\\mathbb{R}^3$ and tell you if you\n",
    "can make a triangle or not (i.e., return `TRUE` if a triangle can be made and \n",
    "`FALSE` otherwise.)\n",
    "- A solution is on the next slide; try writing your own without looking ahead!\n",
    "\n",
    "## User Defined Functions: Example solution"
   ]
  },
  {
   "cell_type": "code",
   "execution_count": 57,
   "metadata": {},
   "outputs": [],
   "source": [
    "is_good <- function(vec) {\n",
    "  for (i in 1:3) {\n",
    "    # Check if element i is greater than \n",
    "    # sum of other two elements\n",
    "    if (vec[i] > sum(vec[-i])) {\n",
    "      return(FALSE)\n",
    "    }\n",
    "  }\n",
    "  return(TRUE)\n",
    "}"
   ]
  },
  {
   "cell_type": "markdown",
   "metadata": {},
   "source": [
    "## User Defined Functions: Improved solution"
   ]
  },
  {
   "cell_type": "code",
   "execution_count": null,
   "metadata": {},
   "outputs": [],
   "source": [
    "is_good <- function(vec) {\n",
    "  if (length(vec) != 3) {\n",
    "      # Always a good idea to make sure your\n",
    "      # function gets what it expects to get\n",
    "      stop('is_good requires a vector of length 3')\n",
    "  }\n",
    "  for (i in 1:3) {\n",
    "    if (vec[i] > sum(vec[-i])) {\n",
    "      return(FALSE)\n",
    "    }\n",
    "  }\n",
    "  return(TRUE)\n",
    "}"
   ]
  },
  {
   "cell_type": "markdown",
   "metadata": {},
   "source": [
    "## `replicate`\n",
    "- Loops in `R` are inefficient, and best avoided if possible\n",
    "- Vectorize operations whenever possible.\n",
    "- `replicate` can be used to repeat some operation (function),\n",
    "  and collect the results[^apply]\n",
    "- e.g., to run `some_function()` 1,000 times and collect the results:"
   ]
  },
  {
   "cell_type": "code",
   "execution_count": 58,
   "metadata": {
    "attributes": {
     "": "",
     "classes": [],
     "id": ""
    }
   },
   "outputs": [
    {
     "ename": "ERROR",
     "evalue": "Error in some_function(): could not find function \"some_function\"\n",
     "execution_count": 58,
     "output_type": "error",
     "traceback": [
      "Error in some_function(): could not find function \"some_function\"\nTraceback:\n",
      "1. replicate(1000, some_function())",
      "2. sapply(integer(n), eval.parent(substitute(function(...) expr)), \n .     simplify = simplify)",
      "3. lapply(X = X, FUN = FUN, ...)",
      "4. FUN(X[[i]], ...)"
     ]
    }
   ],
   "source": [
    "replicate(1000, some_function())  "
   ]
  },
  {
   "cell_type": "markdown",
   "metadata": {},
   "source": [
    "[^apply]: `replicate` is actually a convenient wrapper for one of the `apply` \n",
    "functions, which are more general. See the documentation for details.\n",
    "\n",
    "\n",
    "# Exercise\n",
    "\n",
    "## The Question\n",
    "> You are given three sticks, each of a random length between 0 and 1.\n",
    "\n",
    "> What's the probability you can make a triangle?\n",
    "\n",
    "- The answer is 1/2\n",
    "- Use `R` to simulate 100,000 times and estimate the answer by\n",
    "    1. generate 100,000 triplets of uniform (0, 1) random variables\n",
    "    2. find the portion that can be made into a triangle (hint: use the\n",
    "    `is_good` function)\n",
    "\n",
    "## Answer 1: Using a for loop"
   ]
  },
  {
   "cell_type": "code",
   "execution_count": 59,
   "metadata": {
    "attributes": {
     "cache": "TRUE",
     "classes": [],
     "id": ""
    }
   },
   "outputs": [
    {
     "name": "stdout",
     "output_type": "stream",
     "text": [
      "50.13%\n"
     ]
    },
    {
     "data": {
      "text/plain": [
       "   user  system elapsed \n",
       "  0.460   0.000   0.459 "
      ]
     },
     "metadata": {},
     "output_type": "display_data"
    }
   ],
   "source": [
    "system.time({  # measure execution time\n",
    "  N <- 1e5;\n",
    "  m <- 0\n",
    "  for (i in 1:N) {\n",
    "    X <- runif(3)\n",
    "    if (is_good(X)) {\n",
    "        m <- m + 1\n",
    "    }\n",
    "  }\n",
    "  cat(sprintf('%.2f%%\\n', m / N * 100))\n",
    "})"
   ]
  },
  {
   "cell_type": "markdown",
   "metadata": {},
   "source": [
    "## Answer 2: No loop"
   ]
  },
  {
   "cell_type": "code",
   "execution_count": 60,
   "metadata": {
    "attributes": {
     "cache": "TRUE",
     "classes": [],
     "id": ""
    }
   },
   "outputs": [
    {
     "name": "stdout",
     "output_type": "stream",
     "text": [
      "50.13%\n"
     ]
    },
    {
     "data": {
      "text/plain": [
       "   user  system elapsed \n",
       "  0.520   0.000   0.517 "
      ]
     },
     "metadata": {},
     "output_type": "display_data"
    }
   ],
   "source": [
    "system.time({  # measure execution time\n",
    "  N <- 1e5;\n",
    "  m <- replicate(N, is_good(runif(3)))\n",
    "  cat(sprintf('%.2f%%\\n',  mean(m) * 100 ))\n",
    "})"
   ]
  },
  {
   "cell_type": "markdown",
   "metadata": {},
   "source": [
    "# Packages\n",
    "\n",
    "## Installing `R` Packages\n",
    "- `R` has many (*MANY*) packages created by other users that implement\n",
    "state-of-the-art tools (e.g., data manipulation, statistical models)\n",
    "- These packages can be downloaded from the Comprehensive R Archive Network (CRAN)\n",
    "- This is as simple as running a single line of code:"
   ]
  },
  {
   "cell_type": "code",
   "execution_count": null,
   "metadata": {
    "attributes": {
     "classes": [],
     "eval": "FALSE",
     "id": ""
    }
   },
   "outputs": [],
   "source": [
    "install.packages(\"package name\")"
   ]
  },
  {
   "cell_type": "markdown",
   "metadata": {},
   "source": [
    "- You will have to select one of many CRAN mirrors (copies across different\n",
    "servers) from which to download the package from\n",
    "- For example, to install the `tidyverse` package, run"
   ]
  },
  {
   "cell_type": "code",
   "execution_count": null,
   "metadata": {
    "attributes": {
     "classes": [],
     "eval": "FALSE",
     "id": ""
    }
   },
   "outputs": [],
   "source": [
    "install.packages(\"tidyverse\")"
   ]
  },
  {
   "cell_type": "markdown",
   "metadata": {},
   "source": [
    "- You only need to do this *once* for each machine\n",
    "\n",
    "\n",
    "## Loading Packages\n",
    "- Once you've installed a package on a machine, you can load the package into\n",
    "your current workspace with the `library()` command\n",
    "- For example, to use the `tidyverse` package, first load it with"
   ]
  },
  {
   "cell_type": "code",
   "execution_count": null,
   "metadata": {
    "attributes": {
     "classes": [],
     "eval": "FALSE",
     "id": ""
    }
   },
   "outputs": [],
   "source": [
    "library(\"tidyverse\")"
   ]
  },
  {
   "cell_type": "markdown",
   "metadata": {},
   "source": [
    "- You can also use specific functions from a package without loading it,\n",
    "  by telling `R` which package the function belongs to with a namespace prefix,\n",
    "  `package_name::`.\n",
    "- For example, to use the `round_any()` function from the `plyr` package,\n",
    "  without actually loading `plyr`, write"
   ]
  },
  {
   "cell_type": "code",
   "execution_count": null,
   "metadata": {
    "attributes": {
     "classes": [],
     "eval": "FALSE",
     "id": ""
    }
   },
   "outputs": [],
   "source": [
    "# Assuming plyr is installed\n",
    "plyr::round_any()"
   ]
  },
  {
   "cell_type": "markdown",
   "metadata": {},
   "source": [
    "## Namespace collision\n",
    "- One of the (unfortunately many) things that `R` is bad at is preventing\n",
    "  namespace collisions\n",
    "- For example, the packages `plyr` and `dplyr`[^dplyr] have functions that are\n",
    "  named the same (e.g, `mutate()`, `summarize()`), and if you ever load both,\n",
    "  `R` will only \"see\" the function belonging to the package you loaded later\n",
    "- So beware of what packages you load, and if you only intend to use a function\n",
    "  or two, consider just specifying the namespace with `::`, instead of loading\n",
    "  the whole package.\n",
    "\n",
    "[^dplyr]: `dplyr` is part the tidyverse, and loaded when you load `tidyverse`"
   ]
  }
 ],
 "metadata": {
  "kernelspec": {
   "display_name": "R",
   "language": "R",
   "name": "ir"
  },
  "language_info": {
   "codemirror_mode": "r",
   "file_extension": ".r",
   "mimetype": "text/x-r-source",
   "name": "R",
   "pygments_lexer": "r",
   "version": "3.4.4"
  }
 },
 "nbformat": 4,
 "nbformat_minor": 2
}
