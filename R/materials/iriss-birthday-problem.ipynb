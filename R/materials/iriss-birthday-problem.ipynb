{
 "cells": [
  {
   "cell_type": "markdown",
   "metadata": {},
   "source": [
    "# Double voting and the birthday problem"
   ]
  },
  {
   "cell_type": "markdown",
   "metadata": {},
   "source": [
    "<img src=\"voting.jpg\" alt=\"voting\" width=\"400\" align=\"left\"/>"
   ]
  },
  {
   "cell_type": "markdown",
   "metadata": {},
   "source": [
    "## Introduction"
   ]
  },
  {
   "cell_type": "markdown",
   "metadata": {},
   "source": [
    "Claims of voter fraud are widespread. Here's one example:"
   ]
  },
  {
   "cell_type": "markdown",
   "metadata": {},
   "source": [
    "> **“Probably over a million people voted twice \n",
    "in [the 2012 presidential] election.”**\n",
    ">\n",
    "> Dick Morris, in 2014 on Fox News"
   ]
  },
  {
   "cell_type": "markdown",
   "metadata": {},
   "source": [
    "Voter fraud can take place in a number of ways, including tampering with voting machines, destroying ballots, and impersonating voters. Today, though, we're going to explore \n",
    "**double voting**, which occurs when a single person illegally casts more than one vote in an election.\n",
    "\n",
    "To start, consider this fact:\n",
    "\n",
    "> In the 1970 election, there were 141 individuals named \"John Smith\", and 27 pairs had exactly the same birthday.\n",
    "\n",
    "Were there 27 fraduluent ballots in the 1970 election? Let's find out."
   ]
  },
  {
   "cell_type": "markdown",
   "metadata": {},
   "source": [
    "## The birthday problem"
   ]
  },
  {
   "cell_type": "markdown",
   "metadata": {},
   "source": [
    "To begin answering this question, let's solve a similar problem: \n",
    "\n",
    "> In a room of 30 people, how likely is it that two people share exactly the same birthday? \n",
    ">\n",
    "> You can assume that every person in the room was born in the same year."
   ]
  },
  {
   "cell_type": "markdown",
   "metadata": {},
   "source": [
    "To answer this question, we could use the following **algorithm**, or list of steps needed to solve a problem:\n",
    " > 1. We need a room of 30 people, and we need to know their birthdays.\n",
    " > 2. We need to check whether two people in that room share a birthday.\n",
    " > 3. We need to repeat steps 1 and 2 over and over.\n",
    " > 4. We need to figure out how often two or more people shared a birthday."
   ]
  },
  {
   "cell_type": "markdown",
   "metadata": {},
   "source": [
    "Unfortunately, we don't have the time (or money!) to recruit a couple thousand experimental subjects to come to Stanford, sit in a big room with 29 other people, and tell us their birthdays.\n",
    "\n",
    "Instead, we must create a **simulation**, or a computer model that helps us recreate and study real-life phenomena. "
   ]
  },
  {
   "cell_type": "markdown",
   "metadata": {},
   "source": [
    "## The `sample` command"
   ]
  },
  {
   "cell_type": "markdown",
   "metadata": {},
   "source": [
    "Here's the first step of our algorithm:\n",
    "\n",
    "> We need a room of 30 people, and we need to know their birthdays.\n",
    "\n",
    "How can we simulate 30 people using `R`, a statistical programming language?\n",
    "\n",
    "### Exercise 1\n",
    "\n",
    "**A. Think about the output of the cells below, then discuss with your partner what you think `sample` does.**\n",
    "\n",
    "(Hint: Try re-running the code in each cell a couple times by pressing SHIFT + ENTER, and see what happens!)"
   ]
  },
  {
   "cell_type": "code",
   "execution_count": 107,
   "metadata": {},
   "outputs": [
    {
     "data": {
      "text/html": [
       "<ol class=list-inline>\n",
       "\t<li>4</li>\n",
       "\t<li>1</li>\n",
       "\t<li>7</li>\n",
       "\t<li>5</li>\n",
       "\t<li>2</li>\n",
       "</ol>\n"
      ],
      "text/latex": [
       "\\begin{enumerate*}\n",
       "\\item 4\n",
       "\\item 1\n",
       "\\item 7\n",
       "\\item 5\n",
       "\\item 2\n",
       "\\end{enumerate*}\n"
      ],
      "text/markdown": [
       "1. 4\n",
       "2. 1\n",
       "3. 7\n",
       "4. 5\n",
       "5. 2\n",
       "\n",
       "\n"
      ],
      "text/plain": [
       "[1] 4 1 7 5 2"
      ]
     },
     "metadata": {},
     "output_type": "display_data"
    }
   ],
   "source": [
    "sample(1:10, 5, replace = FALSE)"
   ]
  },
  {
   "cell_type": "code",
   "execution_count": 108,
   "metadata": {},
   "outputs": [
    {
     "data": {
      "text/html": [
       "<ol class=list-inline>\n",
       "\t<li>3</li>\n",
       "\t<li>2</li>\n",
       "\t<li>1</li>\n",
       "\t<li>2</li>\n",
       "\t<li>1</li>\n",
       "</ol>\n"
      ],
      "text/latex": [
       "\\begin{enumerate*}\n",
       "\\item 3\n",
       "\\item 2\n",
       "\\item 1\n",
       "\\item 2\n",
       "\\item 1\n",
       "\\end{enumerate*}\n"
      ],
      "text/markdown": [
       "1. 3\n",
       "2. 2\n",
       "3. 1\n",
       "4. 2\n",
       "5. 1\n",
       "\n",
       "\n"
      ],
      "text/plain": [
       "[1] 3 2 1 2 1"
      ]
     },
     "metadata": {},
     "output_type": "display_data"
    }
   ],
   "source": [
    "sample(1:3, 5, replace = TRUE)"
   ]
  },
  {
   "cell_type": "code",
   "execution_count": 109,
   "metadata": {},
   "outputs": [
    {
     "data": {
      "text/html": [
       "<ol class=list-inline>\n",
       "\t<li>7</li>\n",
       "\t<li>18</li>\n",
       "\t<li>7</li>\n",
       "</ol>\n"
      ],
      "text/latex": [
       "\\begin{enumerate*}\n",
       "\\item 7\n",
       "\\item 18\n",
       "\\item 7\n",
       "\\end{enumerate*}\n"
      ],
      "text/markdown": [
       "1. 7\n",
       "2. 18\n",
       "3. 7\n",
       "\n",
       "\n"
      ],
      "text/plain": [
       "[1]  7 18  7"
      ]
     },
     "metadata": {},
     "output_type": "display_data"
    }
   ],
   "source": [
    "sample(1:20, 3, replace = TRUE)"
   ]
  },
  {
   "cell_type": "code",
   "execution_count": 13,
   "metadata": {},
   "outputs": [],
   "source": [
    "# Feel free to test more sample commands here.\n",
    "\n"
   ]
  },
  {
   "cell_type": "markdown",
   "metadata": {},
   "source": [
    "---\n",
    "\n",
    "**Tip: To edit text, double click on it!**\n",
    "\n",
    "Ideas about what `sample` does:\n",
    "- Idea 1\n",
    "- Idea 2\n",
    "- ...\n",
    "\n",
    "---"
   ]
  },
  {
   "cell_type": "markdown",
   "metadata": {},
   "source": [
    "**B. Using `sample`, simulate a list of 30 birthdays.**\n",
    "\n",
    "(Hint: Think about assigning a number to each day in the year.)"
   ]
  },
  {
   "cell_type": "code",
   "execution_count": 36,
   "metadata": {},
   "outputs": [],
   "source": [
    "# Your code goes here!\n",
    "\n"
   ]
  },
  {
   "cell_type": "markdown",
   "metadata": {},
   "source": [
    "## Interlude: Math, variables, and vectors"
   ]
  },
  {
   "cell_type": "markdown",
   "metadata": {},
   "source": [
    "### Using R as a calculator"
   ]
  },
  {
   "cell_type": "markdown",
   "metadata": {},
   "source": [
    "One simple (and useful!) way to use R is as a calculator. For example:"
   ]
  },
  {
   "cell_type": "code",
   "execution_count": 26,
   "metadata": {},
   "outputs": [
    {
     "data": {
      "text/html": [
       "15"
      ],
      "text/latex": [
       "15"
      ],
      "text/markdown": [
       "15"
      ],
      "text/plain": [
       "[1] 15"
      ]
     },
     "metadata": {},
     "output_type": "display_data"
    }
   ],
   "source": [
    "5 + 10"
   ]
  },
  {
   "cell_type": "code",
   "execution_count": 27,
   "metadata": {},
   "outputs": [
    {
     "data": {
      "text/html": [
       "90"
      ],
      "text/latex": [
       "90"
      ],
      "text/markdown": [
       "90"
      ],
      "text/plain": [
       "[1] 90"
      ]
     },
     "metadata": {},
     "output_type": "display_data"
    }
   ],
   "source": [
    "30 * 3"
   ]
  },
  {
   "cell_type": "code",
   "execution_count": 29,
   "metadata": {},
   "outputs": [
    {
     "data": {
      "text/html": [
       "5"
      ],
      "text/latex": [
       "5"
      ],
      "text/markdown": [
       "5"
      ],
      "text/plain": [
       "[1] 5"
      ]
     },
     "metadata": {},
     "output_type": "display_data"
    }
   ],
   "source": [
    "25 / 5"
   ]
  },
  {
   "cell_type": "code",
   "execution_count": 30,
   "metadata": {},
   "outputs": [
    {
     "data": {
      "text/html": [
       "9"
      ],
      "text/latex": [
       "9"
      ],
      "text/markdown": [
       "9"
      ],
      "text/plain": [
       "[1] 9"
      ]
     },
     "metadata": {},
     "output_type": "display_data"
    }
   ],
   "source": [
    "3 ^ 2"
   ]
  },
  {
   "cell_type": "code",
   "execution_count": 1,
   "metadata": {},
   "outputs": [
    {
     "data": {
      "text/html": [
       "25"
      ],
      "text/latex": [
       "25"
      ],
      "text/markdown": [
       "25"
      ],
      "text/plain": [
       "[1] 25"
      ]
     },
     "metadata": {},
     "output_type": "display_data"
    }
   ],
   "source": [
    "(2 + 3) * 5"
   ]
  },
  {
   "cell_type": "markdown",
   "metadata": {},
   "source": [
    "#### Exercise 1\n",
    "\n",
    "Use R to find the average of 42, 100, and 280."
   ]
  },
  {
   "cell_type": "code",
   "execution_count": 31,
   "metadata": {},
   "outputs": [],
   "source": [
    "# Your code here!\n",
    "\n"
   ]
  },
  {
   "cell_type": "markdown",
   "metadata": {},
   "source": [
    "### Variables\n",
    "\n",
    "**Variables** are like boxes: they store things for us, and we can label them so we know what's inside.\n",
    "\n",
    "If you've taken algebra before, you already understand variables! Consider the following example:\n",
    "\n",
    "> If x = 2, what is x + 5?\n",
    "\n",
    "You guessed it: the answer is indeed 7. Let's express the same problem using `R`:"
   ]
  },
  {
   "cell_type": "code",
   "execution_count": 56,
   "metadata": {},
   "outputs": [
    {
     "data": {
      "text/html": [
       "7"
      ],
      "text/latex": [
       "7"
      ],
      "text/markdown": [
       "7"
      ],
      "text/plain": [
       "[1] 7"
      ]
     },
     "metadata": {},
     "output_type": "display_data"
    }
   ],
   "source": [
    "# If x = 2, what is x + 5?\n",
    "\n",
    "x <- 2\n",
    "x + 5"
   ]
  },
  {
   "cell_type": "markdown",
   "metadata": {},
   "source": [
    "In the first line of our code, we assigned the value <b>2</b> to the variable named <b>x</b> using <b><-</b> ."
   ]
  },
  {
   "cell_type": "markdown",
   "metadata": {},
   "source": [
    "The assignment operator (`<-`) tells R \"Hey, take the variable on the *_left_* of the equal sign, and give it the value of the thing on the *_right_*.\"\n",
    "\n",
    "> Note: The equal sign ( `=` ) also works for assignment, but it is an `R` convention to use `<-`.\n",
    "\n",
    "---\n",
    "\n",
    "If you ever run a cell containing just a variable, R will print the value of that variable:"
   ]
  },
  {
   "cell_type": "code",
   "execution_count": 45,
   "metadata": {},
   "outputs": [
    {
     "data": {
      "text/html": [
       "2"
      ],
      "text/latex": [
       "2"
      ],
      "text/markdown": [
       "2"
      ],
      "text/plain": [
       "[1] 2"
      ]
     },
     "metadata": {},
     "output_type": "display_data"
    }
   ],
   "source": [
    "x"
   ]
  },
  {
   "cell_type": "markdown",
   "metadata": {},
   "source": [
    "---\n",
    "\n",
    "In the second line of our code, we added <b>5</b> to our variable <b>x</b>, which has the value 2.\n",
    "\n",
    "R will also print the value of simple expressions:"
   ]
  },
  {
   "cell_type": "code",
   "execution_count": 57,
   "metadata": {},
   "outputs": [
    {
     "data": {
      "text/html": [
       "7"
      ],
      "text/latex": [
       "7"
      ],
      "text/markdown": [
       "7"
      ],
      "text/plain": [
       "[1] 7"
      ]
     },
     "metadata": {},
     "output_type": "display_data"
    }
   ],
   "source": [
    "x + 5"
   ]
  },
  {
   "cell_type": "markdown",
   "metadata": {},
   "source": [
    "**Important note:** The value of x is still 2, not 7. \n",
    "\n",
    "Unless we use `<-` to assign a new value to x, it will always be 2:"
   ]
  },
  {
   "cell_type": "code",
   "execution_count": 59,
   "metadata": {},
   "outputs": [
    {
     "data": {
      "text/html": [
       "2"
      ],
      "text/latex": [
       "2"
      ],
      "text/markdown": [
       "2"
      ],
      "text/plain": [
       "[1] 2"
      ]
     },
     "metadata": {},
     "output_type": "display_data"
    }
   ],
   "source": [
    "x"
   ]
  },
  {
   "cell_type": "markdown",
   "metadata": {},
   "source": [
    "---\n",
    "\n",
    "We can also use the same variable on both sides of `<-` to update the value of a variable. For example, we can increase the value of x by 10:"
   ]
  },
  {
   "cell_type": "code",
   "execution_count": 57,
   "metadata": {},
   "outputs": [
    {
     "data": {
      "text/html": [
       "12"
      ],
      "text/latex": [
       "12"
      ],
      "text/markdown": [
       "12"
      ],
      "text/plain": [
       "[1] 12"
      ]
     },
     "metadata": {},
     "output_type": "display_data"
    }
   ],
   "source": [
    "x <- x + 10\n",
    "x"
   ]
  },
  {
   "cell_type": "markdown",
   "metadata": {},
   "source": [
    "### Vectors\n",
    "\n",
    "A **vector** is a sequence of things.\n",
    "\n",
    "For example, we can have a vector of numbers:"
   ]
  },
  {
   "cell_type": "code",
   "execution_count": 64,
   "metadata": {},
   "outputs": [
    {
     "data": {
      "text/html": [
       "<ol class=list-inline>\n",
       "\t<li>5</li>\n",
       "\t<li>6</li>\n",
       "\t<li>7</li>\n",
       "\t<li>8</li>\n",
       "\t<li>9</li>\n",
       "\t<li>10</li>\n",
       "</ol>\n"
      ],
      "text/latex": [
       "\\begin{enumerate*}\n",
       "\\item 5\n",
       "\\item 6\n",
       "\\item 7\n",
       "\\item 8\n",
       "\\item 9\n",
       "\\item 10\n",
       "\\end{enumerate*}\n"
      ],
      "text/markdown": [
       "1. 5\n",
       "2. 6\n",
       "3. 7\n",
       "4. 8\n",
       "5. 9\n",
       "6. 10\n",
       "\n",
       "\n"
      ],
      "text/plain": [
       "[1]  5  6  7  8  9 10"
      ]
     },
     "metadata": {},
     "output_type": "display_data"
    }
   ],
   "source": [
    "5:10"
   ]
  },
  {
   "cell_type": "markdown",
   "metadata": {},
   "source": [
    "The colon (`:`) symbol allows us to create vectors of integers from *start:end*.\n",
    "\n",
    "---\n",
    "\n",
    "We can also use `c()` to create vectors."
   ]
  },
  {
   "cell_type": "code",
   "execution_count": 66,
   "metadata": {},
   "outputs": [
    {
     "data": {
      "text/html": [
       "<ol class=list-inline>\n",
       "\t<li>10</li>\n",
       "\t<li>100</li>\n",
       "\t<li>1000</li>\n",
       "</ol>\n"
      ],
      "text/latex": [
       "\\begin{enumerate*}\n",
       "\\item 10\n",
       "\\item 100\n",
       "\\item 1000\n",
       "\\end{enumerate*}\n"
      ],
      "text/markdown": [
       "1. 10\n",
       "2. 100\n",
       "3. 1000\n",
       "\n",
       "\n"
      ],
      "text/plain": [
       "[1]   10  100 1000"
      ]
     },
     "metadata": {},
     "output_type": "display_data"
    }
   ],
   "source": [
    "c(10, 100, 1000)"
   ]
  },
  {
   "cell_type": "markdown",
   "metadata": {},
   "source": [
    "The \"c\" in `c()` stands for **concatenate**, which is the act of connecting things from end to end.\n",
    "\n",
    "---\n",
    "\n",
    "We can assign vectors to variables too!"
   ]
  },
  {
   "cell_type": "code",
   "execution_count": 14,
   "metadata": {},
   "outputs": [
    {
     "data": {
      "text/html": [
       "<ol class=list-inline>\n",
       "\t<li>10</li>\n",
       "\t<li>100</li>\n",
       "\t<li>1000</li>\n",
       "</ol>\n"
      ],
      "text/latex": [
       "\\begin{enumerate*}\n",
       "\\item 10\n",
       "\\item 100\n",
       "\\item 1000\n",
       "\\end{enumerate*}\n"
      ],
      "text/markdown": [
       "1. 10\n",
       "2. 100\n",
       "3. 1000\n",
       "\n",
       "\n"
      ],
      "text/plain": [
       "[1]   10  100 1000"
      ]
     },
     "metadata": {},
     "output_type": "display_data"
    }
   ],
   "source": [
    "my_vector <- c(10, 100, 1000)\n",
    "my_vector"
   ]
  },
  {
   "cell_type": "markdown",
   "metadata": {},
   "source": [
    "---\n",
    "\n",
    "Lastly, we can extract **elements** from vectors using their **index**, or their place in line."
   ]
  },
  {
   "cell_type": "code",
   "execution_count": 4,
   "metadata": {},
   "outputs": [
    {
     "data": {
      "text/html": [
       "100"
      ],
      "text/latex": [
       "100"
      ],
      "text/markdown": [
       "100"
      ],
      "text/plain": [
       "[1] 100"
      ]
     },
     "metadata": {},
     "output_type": "display_data"
    }
   ],
   "source": [
    "my_vector[2]"
   ]
  },
  {
   "cell_type": "markdown",
   "metadata": {},
   "source": [
    "#### Exercise 2\n",
    "\n",
    "**A. Create a vector of numbers from 15 to 140, and assign the vector to a variable called `my_vector`.**"
   ]
  },
  {
   "cell_type": "code",
   "execution_count": 72,
   "metadata": {},
   "outputs": [],
   "source": [
    "# Your code here!\n",
    "\n"
   ]
  },
  {
   "cell_type": "markdown",
   "metadata": {},
   "source": [
    "**B. Find the difference between the 30th and 100th values of `my_vector`.**"
   ]
  },
  {
   "cell_type": "code",
   "execution_count": 73,
   "metadata": {},
   "outputs": [],
   "source": [
    "# Your code here!\n",
    "\n"
   ]
  },
  {
   "cell_type": "markdown",
   "metadata": {},
   "source": [
    "## Back to the birthday problem: Finding duplicates"
   ]
  },
  {
   "cell_type": "markdown",
   "metadata": {},
   "source": [
    "Here's the second step of our algorithm:\n",
    "\n",
    "> We need to check whether two people in the room share a birthday.\n",
    "\n",
    "In this exercise, we will learn about two useful tools for finding duplicates."
   ]
  },
  {
   "cell_type": "markdown",
   "metadata": {},
   "source": [
    "#### Exercise 3\n",
    "\n",
    "**A. Think about the output of the cells below, then discuss with your partner what you think `has_duplicate` does.**"
   ]
  },
  {
   "cell_type": "code",
   "execution_count": 2,
   "metadata": {},
   "outputs": [],
   "source": [
    "# Press SHIFT + ENTER to run this cell\n",
    "# Don't worry about what it's doing for now!\n",
    "\n",
    "source(\"duplicate.R\")"
   ]
  },
  {
   "cell_type": "markdown",
   "metadata": {},
   "source": [
    "---\n",
    "<br>"
   ]
  },
  {
   "cell_type": "code",
   "execution_count": 4,
   "metadata": {},
   "outputs": [],
   "source": [
    "vector_a <- sample(1:3, 5, replace = TRUE)"
   ]
  },
  {
   "cell_type": "code",
   "execution_count": 5,
   "metadata": {},
   "outputs": [
    {
     "name": "stdout",
     "output_type": "stream",
     "text": [
      "[1] 3 1 3 1 1\n"
     ]
    }
   ],
   "source": [
    "print(vector_a)"
   ]
  },
  {
   "cell_type": "code",
   "execution_count": 6,
   "metadata": {},
   "outputs": [
    {
     "data": {
      "text/html": [
       "TRUE"
      ],
      "text/latex": [
       "TRUE"
      ],
      "text/markdown": [
       "TRUE"
      ],
      "text/plain": [
       "[1] TRUE"
      ]
     },
     "metadata": {},
     "output_type": "display_data"
    }
   ],
   "source": [
    "has_duplicate(vector_a)"
   ]
  },
  {
   "cell_type": "markdown",
   "metadata": {},
   "source": [
    "---\n",
    "<br>"
   ]
  },
  {
   "cell_type": "code",
   "execution_count": 7,
   "metadata": {},
   "outputs": [],
   "source": [
    "vector_b <- sample(1:10, 5, replace = FALSE)"
   ]
  },
  {
   "cell_type": "code",
   "execution_count": 8,
   "metadata": {},
   "outputs": [
    {
     "name": "stdout",
     "output_type": "stream",
     "text": [
      "[1]  5  7  8  1 10\n"
     ]
    }
   ],
   "source": [
    "print(vector_b)"
   ]
  },
  {
   "cell_type": "code",
   "execution_count": 9,
   "metadata": {},
   "outputs": [
    {
     "data": {
      "text/html": [
       "FALSE"
      ],
      "text/latex": [
       "FALSE"
      ],
      "text/markdown": [
       "FALSE"
      ],
      "text/plain": [
       "[1] FALSE"
      ]
     },
     "metadata": {},
     "output_type": "display_data"
    }
   ],
   "source": [
    "has_duplicate(vector_b)"
   ]
  },
  {
   "cell_type": "markdown",
   "metadata": {},
   "source": [
    "---\n",
    "<br>"
   ]
  },
  {
   "cell_type": "code",
   "execution_count": 7,
   "metadata": {},
   "outputs": [],
   "source": [
    "vector_c <- sample(1:5, 10, replace = TRUE)"
   ]
  },
  {
   "cell_type": "code",
   "execution_count": 11,
   "metadata": {},
   "outputs": [
    {
     "name": "stdout",
     "output_type": "stream",
     "text": [
      " [1] 5 3 3 4 5 5 2 3 4 2\n"
     ]
    }
   ],
   "source": [
    "print(vector_c)"
   ]
  },
  {
   "cell_type": "code",
   "execution_count": 8,
   "metadata": {},
   "outputs": [
    {
     "data": {
      "text/html": [
       "TRUE"
      ],
      "text/latex": [
       "TRUE"
      ],
      "text/markdown": [
       "TRUE"
      ],
      "text/plain": [
       "[1] TRUE"
      ]
     },
     "metadata": {},
     "output_type": "display_data"
    }
   ],
   "source": [
    "has_duplicate(vector_c)"
   ]
  },
  {
   "cell_type": "markdown",
   "metadata": {},
   "source": [
    "---"
   ]
  },
  {
   "cell_type": "markdown",
   "metadata": {},
   "source": [
    "Ideas about `has_duplicate`:\n",
    "- Idea 1\n",
    "- Idea 2\n",
    "- ...\n",
    "\n",
    "---"
   ]
  },
  {
   "cell_type": "markdown",
   "metadata": {},
   "source": [
    "**B. Generate a vector of 30 random birthdays, and determine whether the vector has any duplicates. Re-run the code several times and think about how often the vector has duplicates.**"
   ]
  },
  {
   "cell_type": "code",
   "execution_count": 71,
   "metadata": {},
   "outputs": [],
   "source": [
    "# Your code here!\n",
    "\n"
   ]
  },
  {
   "cell_type": "markdown",
   "metadata": {},
   "source": [
    "Observations:\n",
    "- Observation 1\n",
    "- Observation 2\n",
    "- ...\n",
    "\n",
    "---"
   ]
  },
  {
   "cell_type": "markdown",
   "metadata": {},
   "source": [
    "**C. Think about the output of the cells below, then discuss with your partner what you think `num_duplicates` does.**"
   ]
  },
  {
   "cell_type": "code",
   "execution_count": 102,
   "metadata": {},
   "outputs": [
    {
     "name": "stdout",
     "output_type": "stream",
     "text": [
      "[1] 3 2 2 2 1\n"
     ]
    }
   ],
   "source": [
    "print(vector_a)"
   ]
  },
  {
   "cell_type": "code",
   "execution_count": 103,
   "metadata": {},
   "outputs": [
    {
     "data": {
      "text/html": [
       "2"
      ],
      "text/latex": [
       "2"
      ],
      "text/markdown": [
       "2"
      ],
      "text/plain": [
       "[1] 2"
      ]
     },
     "metadata": {},
     "output_type": "display_data"
    }
   ],
   "source": [
    "num_duplicates(vector_a)"
   ]
  },
  {
   "cell_type": "markdown",
   "metadata": {},
   "source": [
    "---\n",
    "<br>"
   ]
  },
  {
   "cell_type": "code",
   "execution_count": 98,
   "metadata": {},
   "outputs": [
    {
     "name": "stdout",
     "output_type": "stream",
     "text": [
      "[1]  4  5  7 10  3\n"
     ]
    }
   ],
   "source": [
    "print(vector_b)"
   ]
  },
  {
   "cell_type": "code",
   "execution_count": 73,
   "metadata": {},
   "outputs": [
    {
     "data": {
      "text/html": [
       "0"
      ],
      "text/latex": [
       "0"
      ],
      "text/markdown": [
       "0"
      ],
      "text/plain": [
       "[1] 0"
      ]
     },
     "metadata": {},
     "output_type": "display_data"
    }
   ],
   "source": [
    "num_duplicates(vector_b)"
   ]
  },
  {
   "cell_type": "markdown",
   "metadata": {},
   "source": [
    "---\n",
    "<br>"
   ]
  },
  {
   "cell_type": "code",
   "execution_count": 113,
   "metadata": {},
   "outputs": [
    {
     "name": "stdout",
     "output_type": "stream",
     "text": [
      " [1] 1 2 5 5 4 5 5 1 3 5\n"
     ]
    }
   ],
   "source": [
    "print(vector_c)"
   ]
  },
  {
   "cell_type": "code",
   "execution_count": 114,
   "metadata": {},
   "outputs": [
    {
     "data": {
      "text/html": [
       "5"
      ],
      "text/latex": [
       "5"
      ],
      "text/markdown": [
       "5"
      ],
      "text/plain": [
       "[1] 5"
      ]
     },
     "metadata": {},
     "output_type": "display_data"
    }
   ],
   "source": [
    "num_duplicates(vector_c)"
   ]
  },
  {
   "cell_type": "markdown",
   "metadata": {},
   "source": [
    "---"
   ]
  },
  {
   "cell_type": "markdown",
   "metadata": {},
   "source": [
    "Ideas about `num_duplicates`:\n",
    "- Idea 1\n",
    "- Idea 2\n",
    "- ..."
   ]
  },
  {
   "cell_type": "markdown",
   "metadata": {},
   "source": [
    "---"
   ]
  },
  {
   "cell_type": "markdown",
   "metadata": {},
   "source": [
    "**D. Generate a vector of 141 random birthdays, and determine how many duplicates are in the list. Re-run the code several times and note any observations.**"
   ]
  },
  {
   "cell_type": "code",
   "execution_count": 92,
   "metadata": {},
   "outputs": [],
   "source": [
    "# Your code here!\n",
    "\n"
   ]
  },
  {
   "cell_type": "markdown",
   "metadata": {},
   "source": [
    "Observations:\n",
    "- Observation 1\n",
    "- Observation 2\n",
    "- ..."
   ]
  },
  {
   "cell_type": "markdown",
   "metadata": {},
   "source": [
    "### Repetition with `for` loops\n",
    "\n",
    "Here's the third step in our algorithm:\n",
    "\n",
    "> We need to repeat this process over and over.\n",
    "\n",
    "The `for` loop lets us do exactly this!\n",
    "\n",
    "#### Exercise 4\n",
    "\n",
    "**A. Think about the output of the cells below, then discuss with your partner how you think a `for` loop works.**"
   ]
  },
  {
   "cell_type": "code",
   "execution_count": 25,
   "metadata": {},
   "outputs": [
    {
     "name": "stdout",
     "output_type": "stream",
     "text": [
      "[1] \"Hello, world!\"\n",
      "[1] \"Hello, world!\"\n",
      "[1] \"Hello, world!\"\n",
      "[1] \"Hello, world!\"\n",
      "[1] \"Hello, world!\"\n",
      "[1] \"Hello, world!\"\n",
      "[1] \"Hello, world!\"\n",
      "[1] \"Hello, world!\"\n",
      "[1] \"Hello, world!\"\n",
      "[1] \"Hello, world!\"\n"
     ]
    }
   ],
   "source": [
    "for (i in 1:10) {\n",
    "    print(\"Hello, world!\")\n",
    "}"
   ]
  },
  {
   "cell_type": "code",
   "execution_count": 26,
   "metadata": {},
   "outputs": [
    {
     "name": "stdout",
     "output_type": "stream",
     "text": [
      "[1] 1\n",
      "[1] 2\n",
      "[1] 3\n",
      "[1] 4\n",
      "[1] 5\n"
     ]
    }
   ],
   "source": [
    "for (i in 1:5) {\n",
    "    print(i)\n",
    "}"
   ]
  },
  {
   "cell_type": "code",
   "execution_count": 111,
   "metadata": {},
   "outputs": [
    {
     "name": "stdout",
     "output_type": "stream",
     "text": [
      "[1] 18  9 18 14 15\n",
      "[1]  3 13  2  9  7\n",
      "[1]  8  5  1 15  5\n"
     ]
    }
   ],
   "source": [
    "for (i in 1:3) {\n",
    "    print(sample(1:20, 5, replace = TRUE))\n",
    "}"
   ]
  },
  {
   "cell_type": "markdown",
   "metadata": {},
   "source": [
    "<br>"
   ]
  },
  {
   "cell_type": "markdown",
   "metadata": {},
   "source": [
    "Ideas about `for` loops:\n",
    "- Idea 1\n",
    "- Idea 2\n",
    "- ..."
   ]
  },
  {
   "cell_type": "markdown",
   "metadata": {},
   "source": [
    "---"
   ]
  },
  {
   "cell_type": "markdown",
   "metadata": {},
   "source": [
    "**B. Using a `for` loop, print 10 lists of 30 random birthdays**"
   ]
  },
  {
   "cell_type": "code",
   "execution_count": 60,
   "metadata": {},
   "outputs": [],
   "source": [
    "# Your code here!\n",
    "\n"
   ]
  },
  {
   "cell_type": "markdown",
   "metadata": {},
   "source": [
    "---"
   ]
  },
  {
   "cell_type": "markdown",
   "metadata": {},
   "source": [
    "**C. Think about the output of the cell below, and discuss with your partner what you think is going on. You are encouraged to change the numbers and re-run the code a couple times!**"
   ]
  },
  {
   "cell_type": "code",
   "execution_count": 95,
   "metadata": {},
   "outputs": [
    {
     "name": "stdout",
     "output_type": "stream",
     "text": [
      "[1] 5\n"
     ]
    }
   ],
   "source": [
    "counter <- 0\n",
    "\n",
    "for (i in 1:5) {\n",
    "    counter <- counter + 1\n",
    "}\n",
    "\n",
    "print(counter)"
   ]
  },
  {
   "cell_type": "markdown",
   "metadata": {},
   "source": [
    "Ideas:\n",
    "- Idea 1\n",
    "- Idea 2\n",
    "- ..."
   ]
  },
  {
   "cell_type": "markdown",
   "metadata": {},
   "source": [
    "## Interlude: Functions, booleans, and control flow"
   ]
  },
  {
   "cell_type": "markdown",
   "metadata": {},
   "source": [
    "### Functions\n",
    "\n",
    "If you've taken algebra, you've already seen functions! For example, this function f takes the square root of its input:\n",
    "\n",
    "> f(x) = √x\n",
    ">\n",
    "> f(25) = √25 = 5"
   ]
  },
  {
   "cell_type": "markdown",
   "metadata": {},
   "source": [
    "<img src=\"function-machine.svg\" width=200 align=\"left\"/>"
   ]
  },
  {
   "cell_type": "markdown",
   "metadata": {},
   "source": [
    "R also has a square root function called `sqrt`. To use a function in R, we write the name of the function, and then put its input in parentheses. The output of a function is called its **return value**. "
   ]
  },
  {
   "cell_type": "code",
   "execution_count": 33,
   "metadata": {},
   "outputs": [
    {
     "data": {
      "text/html": [
       "5"
      ],
      "text/latex": [
       "5"
      ],
      "text/markdown": [
       "5"
      ],
      "text/plain": [
       "[1] 5"
      ]
     },
     "metadata": {},
     "output_type": "display_data"
    }
   ],
   "source": [
    "sqrt(25)"
   ]
  },
  {
   "cell_type": "markdown",
   "metadata": {},
   "source": [
    "You may have noticed that we used this function notation quite a lot already. Here are some of the functions you have already used:\n",
    "- `has_duplicate`: determines if a vector has any duplicate values\n",
    "- `num_duplicates`: determines how many elements in a vector are duplicates\n",
    "- `print`: prints its input "
   ]
  },
  {
   "cell_type": "markdown",
   "metadata": {},
   "source": [
    "There are *many* other functions in R, and you can even write your own functions! Here are some examples of functions that you can use:\n",
    "- `sum`: Adds up all of the numbers in a vector\n",
    "- `mean`: Finds the average of the numbers in a vector\n",
    "- `length`: Finds the total number of elements in a vector.\n",
    "- `max`: Finds the maximum value in a vector\n",
    "- `min`: Finds the minimum value in a vector"
   ]
  },
  {
   "cell_type": "markdown",
   "metadata": {},
   "source": [
    "#### Exercise 5\n",
    "\n",
    "**A. Find the sum of all the numbers from 1 to 100 using `sum`.**\n",
    "\n",
    "> *Historical note*: Carl Friedrich Gauss, a 19th century mathematician, rapidly solved this problem by hand when he was only ten years old! https://www.nctm.org/Publications/Teaching-Children-Mathematics/Blog/The-Story-of-Gauss/  "
   ]
  },
  {
   "cell_type": "code",
   "execution_count": 36,
   "metadata": {},
   "outputs": [],
   "source": [
    "# Your code here!\n",
    "\n"
   ]
  },
  {
   "cell_type": "markdown",
   "metadata": {},
   "source": [
    "**B. Find the average of all the numbers from 1 to 100 using `mean`.**"
   ]
  },
  {
   "cell_type": "code",
   "execution_count": 37,
   "metadata": {},
   "outputs": [],
   "source": [
    "# Your code here!\n",
    "\n"
   ]
  },
  {
   "cell_type": "markdown",
   "metadata": {},
   "source": [
    "### Multi-argument functions and named arguments\n",
    "\n",
    "Functions like `print` only need one input, or **argument**. However, functions can have more than one argument. For example, this function `f` adds its two arguments, x and y:\n",
    "\n",
    "> f(x, y) = x + y\n",
    ">\n",
    "> f(2, 3) = 2 + 3 = 5\n",
    "\n",
    "You've also already used a multi-argument function in R: `sample`! \n",
    "\n",
    "`sample` takes three arguments:\n",
    "\n",
    "1. A vector of numbers to sample from\n",
    "2. How many numbers to sample\n",
    "3. Whether or not we can reuse numbers after sampling them."
   ]
  },
  {
   "cell_type": "code",
   "execution_count": 46,
   "metadata": {},
   "outputs": [
    {
     "data": {
      "text/html": [
       "<ol class=list-inline>\n",
       "\t<li>6</li>\n",
       "\t<li>2</li>\n",
       "\t<li>5</li>\n",
       "\t<li>2</li>\n",
       "\t<li>1</li>\n",
       "</ol>\n"
      ],
      "text/latex": [
       "\\begin{enumerate*}\n",
       "\\item 6\n",
       "\\item 2\n",
       "\\item 5\n",
       "\\item 2\n",
       "\\item 1\n",
       "\\end{enumerate*}\n"
      ],
      "text/markdown": [
       "1. 6\n",
       "2. 2\n",
       "3. 5\n",
       "4. 2\n",
       "5. 1\n",
       "\n",
       "\n"
      ],
      "text/plain": [
       "[1] 6 2 5 2 1"
      ]
     },
     "metadata": {},
     "output_type": "display_data"
    }
   ],
   "source": [
    "sample(1:10, 5, replace = TRUE)"
   ]
  },
  {
   "cell_type": "markdown",
   "metadata": {},
   "source": [
    "Notice that the last argument, whether or not we can reuse numbers, has its own name: `replace`.\n",
    "\n",
    "To make functions more understandable and usable, programmers often name arguments. We will see more examples of functions with multiple arguments and named arguments in the next tutorial."
   ]
  },
  {
   "cell_type": "markdown",
   "metadata": {},
   "source": [
    "### Control flow with booleans, `if`, and `else`"
   ]
  },
  {
   "cell_type": "markdown",
   "metadata": {},
   "source": [
    "Booleans are a special type of variable that can take on only two possible values: `TRUE` or `FALSE`.\n",
    "\n",
    "> *Historical note*: Booleans are named after George Boole, a 19th century mathematician. https://en.wikipedia.org/wiki/George_Boole\n",
    "\n",
    "Booleans come in handy when you're comparing values."
   ]
  },
  {
   "cell_type": "code",
   "execution_count": 76,
   "metadata": {},
   "outputs": [
    {
     "data": {
      "text/html": [
       "TRUE"
      ],
      "text/latex": [
       "TRUE"
      ],
      "text/markdown": [
       "TRUE"
      ],
      "text/plain": [
       "[1] TRUE"
      ]
     },
     "metadata": {},
     "output_type": "display_data"
    }
   ],
   "source": [
    "10 == 10"
   ]
  },
  {
   "cell_type": "code",
   "execution_count": 77,
   "metadata": {},
   "outputs": [
    {
     "data": {
      "text/html": [
       "FALSE"
      ],
      "text/latex": [
       "FALSE"
      ],
      "text/markdown": [
       "FALSE"
      ],
      "text/plain": [
       "[1] FALSE"
      ]
     },
     "metadata": {},
     "output_type": "display_data"
    }
   ],
   "source": [
    "9 == 10"
   ]
  },
  {
   "cell_type": "markdown",
   "metadata": {},
   "source": [
    "---\n",
    "\n",
    "The double equal sign ( `==` ) is different than the single equal sign ( `=` ).\n",
    "\n",
    "- While a single equal sign is used to <i>assign</i> values to arguments inside functions, a double equal sign is used to <i>compare</i> values.\n",
    "\n",
    "---"
   ]
  },
  {
   "cell_type": "markdown",
   "metadata": {},
   "source": [
    "We can also use greater than ( `>` ) and less than ( `<` ) to compare values:"
   ]
  },
  {
   "cell_type": "code",
   "execution_count": 104,
   "metadata": {},
   "outputs": [
    {
     "data": {
      "text/html": [
       "TRUE"
      ],
      "text/latex": [
       "TRUE"
      ],
      "text/markdown": [
       "TRUE"
      ],
      "text/plain": [
       "[1] TRUE"
      ]
     },
     "metadata": {},
     "output_type": "display_data"
    }
   ],
   "source": [
    "9 < 10"
   ]
  },
  {
   "cell_type": "code",
   "execution_count": 107,
   "metadata": {},
   "outputs": [
    {
     "data": {
      "text/html": [
       "FALSE"
      ],
      "text/latex": [
       "FALSE"
      ],
      "text/markdown": [
       "FALSE"
      ],
      "text/plain": [
       "[1] FALSE"
      ]
     },
     "metadata": {},
     "output_type": "display_data"
    }
   ],
   "source": [
    "10 > 10"
   ]
  },
  {
   "cell_type": "code",
   "execution_count": 108,
   "metadata": {},
   "outputs": [
    {
     "data": {
      "text/html": [
       "TRUE"
      ],
      "text/latex": [
       "TRUE"
      ],
      "text/markdown": [
       "TRUE"
      ],
      "text/plain": [
       "[1] TRUE"
      ]
     },
     "metadata": {},
     "output_type": "display_data"
    }
   ],
   "source": [
    "# <= means \"less than or equal to\", and >= means \"greater than or equal to\"\n",
    "\n",
    "10 >= 10"
   ]
  },
  {
   "cell_type": "markdown",
   "metadata": {},
   "source": [
    "---\n",
    "\n",
    "We can use `if` in conjunction with booleans to control our code:\n",
    "\n",
    "> if (this statement is true) {do this thing}"
   ]
  },
  {
   "cell_type": "code",
   "execution_count": 52,
   "metadata": {},
   "outputs": [
    {
     "name": "stdout",
     "output_type": "stream",
     "text": [
      "[1] 1\n",
      "[1] 2\n",
      "[1] 3\n",
      "[1] \"Counter is now bigger than or equal to 3!\"\n",
      "[1] 4\n",
      "[1] \"Counter is now bigger than or equal to 3!\"\n",
      "[1] 5\n",
      "[1] \"Counter is now bigger than or equal to 3!\"\n"
     ]
    }
   ],
   "source": [
    "counter <- 0\n",
    "\n",
    "for (i in 1:5) {\n",
    "    counter <- counter + 1\n",
    "    \n",
    "    print(counter)\n",
    "    \n",
    "    if (counter >= 3) {\n",
    "        print(\"Counter is now bigger than or equal to 3!\")\n",
    "    }\n",
    "}"
   ]
  },
  {
   "cell_type": "markdown",
   "metadata": {},
   "source": [
    "---\n",
    "\n",
    "In computer science, `else` means \"otherwise\". We can use `if` and `else` with each other to write code that follows this pattern:\n",
    "\n",
    "> if (this statement is true) {do this thing}\n",
    ">\n",
    "> else {do this other thing}"
   ]
  },
  {
   "cell_type": "code",
   "execution_count": 53,
   "metadata": {},
   "outputs": [
    {
     "name": "stdout",
     "output_type": "stream",
     "text": [
      "[1] 1\n",
      "[1] \"Counter is less than 3!\"\n",
      "[1] 2\n",
      "[1] \"Counter is less than 3!\"\n",
      "[1] 3\n",
      "[1] \"Counter is now bigger than or equal to 3!\"\n",
      "[1] 4\n",
      "[1] \"Counter is now bigger than or equal to 3!\"\n",
      "[1] 5\n",
      "[1] \"Counter is now bigger than or equal to 3!\"\n"
     ]
    }
   ],
   "source": [
    "counter <- 0\n",
    "\n",
    "for (i in 1:5) {\n",
    "    counter <- counter + 1\n",
    "    \n",
    "    print(counter)\n",
    "    \n",
    "    if (counter >= 3) {\n",
    "        print(\"Counter is now bigger than or equal to 3!\")\n",
    "    }\n",
    "    else {\n",
    "        print(\"Counter is less than 3!\")\n",
    "    }\n",
    "}"
   ]
  },
  {
   "cell_type": "markdown",
   "metadata": {},
   "source": [
    "#### Exercise 6\n",
    "\n",
    "**Write a `for` loop to count off all the numbers from 1 to 10. Print \"Bigger than 5!\" after each number that is bigger than 5.**"
   ]
  },
  {
   "cell_type": "code",
   "execution_count": 51,
   "metadata": {},
   "outputs": [],
   "source": [
    "# Your code here!\n",
    "\n"
   ]
  },
  {
   "cell_type": "markdown",
   "metadata": {},
   "source": [
    "#### Exercise 7\n",
    "\n",
    "**Generate a list of 10 birthdays, and use a `for` loop with `if` to print the birthdays that fall in the first half of the year.**"
   ]
  },
  {
   "cell_type": "code",
   "execution_count": 43,
   "metadata": {},
   "outputs": [],
   "source": [
    "# Your code here!\n",
    "\n"
   ]
  },
  {
   "cell_type": "markdown",
   "metadata": {},
   "source": [
    "## Back to the birthday problem: Translating our algorithm into code"
   ]
  },
  {
   "cell_type": "markdown",
   "metadata": {},
   "source": [
    "We're ready to come back to our algorithm:\n",
    "\n",
    "> 1. We need a room of 30 people, and we need to know their birthdays.\n",
    "> 2. We need to check whether two people in that room share a birthday.\n",
    "> 3. We need to repeat this process over and over.\n",
    "> 4. We need to figure out how frequently two or more people shared a birthday."
   ]
  },
  {
   "cell_type": "markdown",
   "metadata": {},
   "source": [
    "Here's our algorithm for finding duplicates, translated into code! "
   ]
  },
  {
   "cell_type": "code",
   "execution_count": 59,
   "metadata": {},
   "outputs": [
    {
     "data": {
      "text/html": [
       "0.716"
      ],
      "text/latex": [
       "0.716"
      ],
      "text/markdown": [
       "0.716"
      ],
      "text/plain": [
       "[1] 0.716"
      ]
     },
     "metadata": {},
     "output_type": "display_data"
    }
   ],
   "source": [
    "# This is the total number of birthday vectors we will generate\n",
    "n <- 1000\n",
    "\n",
    "# This is a counter to keep track of how many vectors had at least one duplicate birthday\n",
    "n_with_duplicates <- 0\n",
    "\n",
    "# Each time we see a vector with at least one duplicate, we should increment our counter\n",
    "for (i in 1:n) {\n",
    "    \n",
    "    if (has_duplicate(sample(1:366, 30, replace = TRUE))) {\n",
    "        \n",
    "        n_with_duplicates <- n_with_duplicates + 1\n",
    "    }\n",
    "    \n",
    "}\n",
    "\n",
    "# Fraction of vectors with at least one duplicate\n",
    "n_with_duplicates / n\n"
   ]
  },
  {
   "cell_type": "markdown",
   "metadata": {},
   "source": [
    "### Exercise 8\n",
    "\n",
    "**A. Increase the number of birthdays we generate in each vector, and re-run the code several times. What happens to the fraction of vectors with duplicates?**\n",
    "\n",
    "Findings:\n",
    "- Finding 1\n",
    "- Finding 2\n",
    "- ..."
   ]
  },
  {
   "cell_type": "markdown",
   "metadata": {},
   "source": [
    "**B. Change the number of vectors to 100, and re-run the code several times. What happens to the results?**\n",
    "\n",
    "Findings:\n",
    "- Finding 1\n",
    "- Finding 2 \n",
    "- ..."
   ]
  },
  {
   "cell_type": "markdown",
   "metadata": {},
   "source": [
    "**C. Change the number of vectors to 100,000, and re-run the code several times. What happens to the results?**\n",
    "\n",
    "Findings:\n",
    "- Finding 1\n",
    "- Finding 2 \n",
    "- ..."
   ]
  },
  {
   "cell_type": "markdown",
   "metadata": {},
   "source": [
    "**D. How many birthdays should be in each vector for an approximately 50% chance of a match?**\n",
    "\n",
    "Findings:\n",
    "- Finding 1\n",
    "- Finding 2\n",
    "- ..."
   ]
  },
  {
   "cell_type": "markdown",
   "metadata": {},
   "source": [
    "## Circling back to double voting\n",
    "\n",
    "Remember our original problem:\n",
    "\n",
    "> In the 1970 election, there were 141 individuals named \"John Smith\", and 27 pairs had exactly the same birthday.\n",
    "\n",
    "### Exercise 9\n",
    "\n",
    "**Modify the simulation code to calculate the average number of birthday matches in 1,000 vectors of 141 individuals.**\n",
    "\n",
    "(Hint: Use `num_duplicates` from earlier and have the counter add up the total number of duplicates in all the generated vectors.)"
   ]
  },
  {
   "cell_type": "code",
   "execution_count": null,
   "metadata": {},
   "outputs": [],
   "source": [
    "# Your code here!\n",
    "\n"
   ]
  }
 ],
 "metadata": {
  "kernelspec": {
   "display_name": "R",
   "language": "R",
   "name": "ir"
  },
  "language_info": {
   "codemirror_mode": "r",
   "file_extension": ".r",
   "mimetype": "text/x-r-source",
   "name": "R",
   "pygments_lexer": "r",
   "version": "3.4.4"
  }
 },
 "nbformat": 4,
 "nbformat_minor": 2
}
