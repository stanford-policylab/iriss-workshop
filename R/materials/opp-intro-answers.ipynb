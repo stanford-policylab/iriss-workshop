{
 "cells": [
  {
   "cell_type": "markdown",
   "metadata": {},
   "source": [
    "# Analyzing racial disparities in SF traffic stops\n",
    "\n",
    "To start getting our hands dirty with learning data science, we're going to explore San Francisco's traffic stops. Our goals today are twofold:\n",
    "1. To learn how to use data science to test for racial discrimination, and to investigate whether there is racial discrimination in our SF data. \n",
    "2. To learn a bit of `R`, so that tomorrow you can all start doing your own analysis on different datasets!\n",
    "\n",
    "## Getting started \n",
    "\n",
    "First, let's load the necessary libraries and data that will allow us to begin our investigation!"
   ]
  },
  {
   "cell_type": "code",
   "execution_count": null,
   "metadata": {},
   "outputs": [
    {
     "name": "stderr",
     "output_type": "stream",
     "text": [
      "── Attaching packages ─────────────────────────────────────── tidyverse 1.2.1 ──\n",
      "✔ ggplot2 3.0.0     ✔ purrr   0.2.5\n",
      "✔ tibble  2.1.1     ✔ dplyr   0.8.1\n",
      "✔ tidyr   0.8.1     ✔ stringr 1.3.1\n",
      "✔ readr   1.1.1     ✔ forcats 0.3.0\n",
      "── Conflicts ────────────────────────────────────────── tidyverse_conflicts() ──\n",
      "✖ dplyr::filter() masks stats::filter()\n",
      "✖ dplyr::lag()    masks stats::lag()\n",
      "\n",
      "Attaching package: ‘lubridate’\n",
      "\n",
      "The following object is masked from ‘package:base’:\n",
      "\n",
      "    date\n",
      "\n"
     ]
    }
   ],
   "source": [
    "# Some initial setup\n",
    "options(digits = 3)\n",
    "library(tidyverse)\n",
    "library(lubridate)\n",
    "theme_set(theme_bw())\n",
    "\n",
    "# Read the data\n",
    "stops <- read_rds(\"data/san_francisco_stop_data.rds\")\n",
    "pop_2015 <- read_rds(\"data/sf_pop_2015.rds\")"
   ]
  },
  {
   "cell_type": "markdown",
   "metadata": {},
   "source": [
    "### Covering the basics\n",
    "\n",
    "The core of `R` is the dataframe. We've given you one to start with, in the form\n",
    "of `stops`. Think of dataframes like a spreadsheet: they have rows and columns.\n",
    "Usually, rows are a \"datapoint\": in `stops`, each row corresponds to a single\n",
    "stop from San Francisco. The columns are the \"variables\": again, in `stops`,\n",
    "these are the things we know about the stop, like where the stop happened, the\n",
    "age of the driver, whether an arrest was made, and so on.\n",
    "\n",
    "We can take a peak simply by typing `stops` into an R chunk:"
   ]
  },
  {
   "cell_type": "code",
   "execution_count": 2,
   "metadata": {},
   "outputs": [
    {
     "data": {
      "text/html": [
       "<table>\n",
       "<thead><tr><th scope=col>date</th><th scope=col>time</th><th scope=col>location</th><th scope=col>lat</th><th scope=col>lng</th><th scope=col>district</th><th scope=col>age</th><th scope=col>race</th><th scope=col>gender</th><th scope=col>arrested</th><th scope=col>contraband_found</th><th scope=col>searched</th><th scope=col>reason_for_stop</th></tr></thead>\n",
       "<tbody>\n",
       "\t<tr><td>2007-01-01                                                          </td><td>10:00:00                                                            </td><td><span style=white-space:pre-wrap>26TH &amp; MINNESOTA        </span></td><td>37.8                                                                </td><td>-122                                                                </td><td>C                                                                   </td><td>56                                                                  </td><td><span style=white-space:pre-wrap>white                 </span>      </td><td><span style=white-space:pre-wrap>male  </span>                      </td><td>FALSE                                                               </td><td><span style=white-space:pre-wrap>   NA</span>                       </td><td>FALSE                                                               </td><td>Mechanical or Non-Moving Violation (V.C.)                           </td></tr>\n",
       "\t<tr><td>2007-01-01                                                                       </td><td>10:17:00                                                                         </td><td>EMBARCADERO &amp; HOWARDA ON                                                     </td><td>37.8                                                                             </td><td>-122                                                                             </td><td>B                                                                                </td><td>32                                                                               </td><td><span style=white-space:pre-wrap>white                 </span>                   </td><td><span style=white-space:pre-wrap>male  </span>                                   </td><td>FALSE                                                                            </td><td><span style=white-space:pre-wrap>   NA</span>                                    </td><td>FALSE                                                                            </td><td><span style=white-space:pre-wrap>Moving Violation                         </span></td></tr>\n",
       "\t<tr><td>2007-01-01                               </td><td>10:25:00                                 </td><td>1700 JUDAH                               </td><td>37.8                                     </td><td>-122                                     </td><td>I                                        </td><td>57                                       </td><td>asian/pacific islander                   </td><td>female                                   </td><td>FALSE                                    </td><td>   NA                                    </td><td>FALSE                                    </td><td>Moving Violation                         </td></tr>\n",
       "\t<tr><td>2007-01-01                               </td><td>10:28:00                                 </td><td>COLUMBUS/VALLEJO                         </td><td>37.8                                     </td><td>-122                                     </td><td>A                                        </td><td>31                                       </td><td>hispanic                                 </td><td>male                                     </td><td>FALSE                                    </td><td>   NA                                    </td><td>FALSE                                    </td><td>Moving Violation                         </td></tr>\n",
       "\t<tr><td>2007-01-01                                                                       </td><td>10:35:00                                                                         </td><td><span style=white-space:pre-wrap>FOLSOM &amp; MOSS           </span>             </td><td>37.8                                                                             </td><td>-122                                                                             </td><td>J                                                                                </td><td>37                                                                               </td><td><span style=white-space:pre-wrap>hispanic              </span>                   </td><td>female                                                                           </td><td>FALSE                                                                            </td><td><span style=white-space:pre-wrap>   NA</span>                                    </td><td>FALSE                                                                            </td><td><span style=white-space:pre-wrap>Moving Violation                         </span></td></tr>\n",
       "\t<tr><td>2007-01-01                               </td><td>10:40:00                                 </td><td>WASHINGTON/VAN NESS                      </td><td>37.8                                     </td><td>-122                                     </td><td>E                                        </td><td>39                                       </td><td>asian/pacific islander                   </td><td>female                                   </td><td>FALSE                                    </td><td>   NA                                    </td><td>FALSE                                    </td><td>Moving Violation                         </td></tr>\n",
       "\t<tr><td>2007-01-01                               </td><td>10:45:00                                 </td><td>400 MOLIMO                               </td><td>37.7                                     </td><td>-122                                     </td><td>H                                        </td><td>33                                       </td><td>hispanic                                 </td><td>male                                     </td><td>FALSE                                    </td><td>   NA                                    </td><td>FALSE                                    </td><td>Moving Violation                         </td></tr>\n",
       "\t<tr><td>2007-01-01                               </td><td>10:55:00                                 </td><td>NORIEGA/29TH                             </td><td>37.8                                     </td><td>-122                                     </td><td>I                                        </td><td>58                                       </td><td>asian/pacific islander                   </td><td>male                                     </td><td>FALSE                                    </td><td>   NA                                    </td><td>FALSE                                    </td><td>Moving Violation                         </td></tr>\n",
       "\t<tr><td>2007-01-01                               </td><td>00:11:00                                 </td><td>POLK AT OFARRELL                         </td><td>37.8                                     </td><td>-122                                     </td><td>E                                        </td><td>20                                       </td><td>asian/pacific islander                   </td><td>male                                     </td><td>FALSE                                    </td><td>   NA                                    </td><td>FALSE                                    </td><td>Moving Violation                         </td></tr>\n",
       "\t<tr><td>2007-01-01                                                                       </td><td>11:00:00                                                                         </td><td><span style=white-space:pre-wrap>3RD &amp; BERRY             </span>             </td><td>37.8                                                                             </td><td>-122                                                                             </td><td>B                                                                                </td><td>37                                                                               </td><td><span style=white-space:pre-wrap>white                 </span>                   </td><td><span style=white-space:pre-wrap>male  </span>                                   </td><td>FALSE                                                                            </td><td><span style=white-space:pre-wrap>   NA</span>                                    </td><td>FALSE                                                                            </td><td><span style=white-space:pre-wrap>Moving Violation                         </span></td></tr>\n",
       "\t<tr><td>2007-01-01                               </td><td>11:17:00                                 </td><td>UNDERWOOD/JENNINGS                       </td><td>37.7                                     </td><td>-122                                     </td><td>C                                        </td><td>23                                       </td><td>black                                    </td><td>female                                   </td><td>FALSE                                    </td><td>   NA                                    </td><td>FALSE                                    </td><td>Moving Violation                         </td></tr>\n",
       "\t<tr><td>2007-01-01                               </td><td>11:28:00                                 </td><td>280 S/B @ OCEAN AVE EXIT                 </td><td>37.8                                     </td><td>-122                                     </td><td>H                                        </td><td>51                                       </td><td>white                                    </td><td>female                                   </td><td>FALSE                                    </td><td>   NA                                    </td><td>FALSE                                    </td><td>Mechanical or Non-Moving Violation (V.C.)</td></tr>\n",
       "\t<tr><td>2007-01-01                               </td><td>01:16:00                                 </td><td>26THST/KANSAS                            </td><td>37.8                                     </td><td>-122                                     </td><td>C                                        </td><td>41                                       </td><td>white                                    </td><td>male                                     </td><td>FALSE                                    </td><td>   NA                                    </td><td>FALSE                                    </td><td>Moving Violation                         </td></tr>\n",
       "\t<tr><td>2007-01-01                                                                       </td><td>01:20:00                                                                         </td><td><span style=white-space:pre-wrap>JUDAH ST &amp; 46TH AVE     </span>             </td><td>37.8                                                                             </td><td>-123                                                                             </td><td>I                                                                                </td><td>19                                                                               </td><td><span style=white-space:pre-wrap>white                 </span>                   </td><td>female                                                                           </td><td>FALSE                                                                            </td><td><span style=white-space:pre-wrap>   NA</span>                                    </td><td>FALSE                                                                            </td><td><span style=white-space:pre-wrap>Moving Violation                         </span></td></tr>\n",
       "\t<tr><td>2007-01-01                                                                       </td><td>12:11:00                                                                         </td><td><span style=white-space:pre-wrap>20TH &amp; TENNESSEE        </span>             </td><td>37.8                                                                             </td><td>-122                                                                             </td><td>B                                                                                </td><td>50                                                                               </td><td><span style=white-space:pre-wrap>other                 </span>                   </td><td><span style=white-space:pre-wrap>male  </span>                                   </td><td>FALSE                                                                            </td><td><span style=white-space:pre-wrap>   NA</span>                                    </td><td>FALSE                                                                            </td><td><span style=white-space:pre-wrap>Moving Violation                         </span></td></tr>\n",
       "\t<tr><td>2007-01-01                               </td><td>12:18:00                                 </td><td>8TH ST/HARRISON                          </td><td>37.8                                     </td><td>-122                                     </td><td>B                                        </td><td>31                                       </td><td>asian/pacific islander                   </td><td>male                                     </td><td>FALSE                                    </td><td>   NA                                    </td><td>FALSE                                    </td><td>Moving Violation                         </td></tr>\n",
       "\t<tr><td>2007-01-01                                                                       </td><td>12:25:00                                                                         </td><td><span style=white-space:pre-wrap>FULTON &amp; 25TH AVE       </span>             </td><td>37.8                                                                             </td><td>-122                                                                             </td><td>G                                                                                </td><td>33                                                                               </td><td><span style=white-space:pre-wrap>other                 </span>                   </td><td><span style=white-space:pre-wrap>male  </span>                                   </td><td>FALSE                                                                            </td><td><span style=white-space:pre-wrap>   NA</span>                                    </td><td>FALSE                                                                            </td><td><span style=white-space:pre-wrap>Moving Violation                         </span></td></tr>\n",
       "\t<tr><td>2007-01-01                                                                       </td><td>12:40:00                                                                         </td><td><span style=white-space:pre-wrap>GEARY &amp; 6TH AV          </span>             </td><td>37.8                                                                             </td><td>-122                                                                             </td><td>G                                                                                </td><td>32                                                                               </td><td><span style=white-space:pre-wrap>white                 </span>                   </td><td><span style=white-space:pre-wrap>male  </span>                                   </td><td>FALSE                                                                            </td><td><span style=white-space:pre-wrap>   NA</span>                                    </td><td>FALSE                                                                            </td><td><span style=white-space:pre-wrap>Moving Violation                         </span></td></tr>\n",
       "\t<tr><td>2007-01-01                                                                       </td><td>12:49:00                                                                         </td><td>CHESTNUT &amp; FILLMOREDA ON                                                     </td><td>37.8                                                                             </td><td>-122                                                                             </td><td>E                                                                                </td><td>58                                                                               </td><td>asian/pacific islander                                                           </td><td><span style=white-space:pre-wrap>male  </span>                                   </td><td>FALSE                                                                            </td><td><span style=white-space:pre-wrap>   NA</span>                                    </td><td>FALSE                                                                            </td><td><span style=white-space:pre-wrap>Moving Violation                         </span></td></tr>\n",
       "\t<tr><td>2007-01-01                               </td><td>12:50:00                                 </td><td>GROVE @ BAKER                            </td><td>37.8                                     </td><td>-122                                     </td><td>F                                        </td><td>42                                       </td><td>white                                    </td><td>male                                     </td><td>FALSE                                    </td><td>   NA                                    </td><td>FALSE                                    </td><td>Moving Violation                         </td></tr>\n",
       "\t<tr><td>2007-01-01                               </td><td>13:02:00                                 </td><td>OCEAN@CAYUGA                             </td><td>37.7                                     </td><td>-122                                     </td><td>H                                        </td><td>49                                       </td><td>white                                    </td><td>female                                   </td><td>FALSE                                    </td><td>   NA                                    </td><td>FALSE                                    </td><td>Moving Violation                         </td></tr>\n",
       "\t<tr><td>2007-01-01                               </td><td>13:05:00                                 </td><td>GENEVA/MISSION                           </td><td>37.7                                     </td><td>-122                                     </td><td>H                                        </td><td>75                                       </td><td>white                                    </td><td>male                                     </td><td>FALSE                                    </td><td>   NA                                    </td><td>FALSE                                    </td><td>Moving Violation                         </td></tr>\n",
       "\t<tr><td>2007-01-01                               </td><td>13:08:00                                 </td><td>9TH AV/GEARY BL                          </td><td>37.8                                     </td><td>-122                                     </td><td>G                                        </td><td>39                                       </td><td>white                                    </td><td>female                                   </td><td>FALSE                                    </td><td>   NA                                    </td><td>FALSE                                    </td><td>Moving Violation                         </td></tr>\n",
       "\t<tr><td>2007-01-01                               </td><td>13:10:00                                 </td><td>GENEVA/MISSION                           </td><td>37.7                                     </td><td>-122                                     </td><td>H                                        </td><td>39                                       </td><td>hispanic                                 </td><td>male                                     </td><td> TRUE                                    </td><td>FALSE                                    </td><td> TRUE                                    </td><td>Moving Violation                         </td></tr>\n",
       "\t<tr><td>2007-01-01                                                                       </td><td>13:32:00                                                                         </td><td><span style=white-space:pre-wrap>VAN NESS &amp; SACRAMENTO   </span>             </td><td>37.8                                                                             </td><td>-122                                                                             </td><td>E                                                                                </td><td>36                                                                               </td><td><span style=white-space:pre-wrap>white                 </span>                   </td><td>female                                                                           </td><td>FALSE                                                                            </td><td><span style=white-space:pre-wrap>   NA</span>                                    </td><td>FALSE                                                                            </td><td><span style=white-space:pre-wrap>Moving Violation                         </span></td></tr>\n",
       "\t<tr><td>2007-01-01                                                                       </td><td>13:45:00                                                                         </td><td><span style=white-space:pre-wrap>7TH &amp; BRYANT            </span>             </td><td>37.8                                                                             </td><td>-122                                                                             </td><td>B                                                                                </td><td>36                                                                               </td><td><span style=white-space:pre-wrap>white                 </span>                   </td><td><span style=white-space:pre-wrap>male  </span>                                   </td><td>FALSE                                                                            </td><td><span style=white-space:pre-wrap>   NA</span>                                    </td><td>FALSE                                                                            </td><td><span style=white-space:pre-wrap>Moving Violation                         </span></td></tr>\n",
       "\t<tr><td>2007-01-01                               </td><td>13:57:00                                 </td><td>13TH ST / MISSION ST                     </td><td>37.8                                     </td><td>-122                                     </td><td>D                                        </td><td>24                                       </td><td>hispanic                                 </td><td>female                                   </td><td> TRUE                                    </td><td> TRUE                                    </td><td> TRUE                                    </td><td>Mechanical or Non-Moving Violation (V.C.)</td></tr>\n",
       "\t<tr><td>2007-01-01                               </td><td>01:40:00                                 </td><td>130 OFARRELL                             </td><td>37.8                                     </td><td>-122                                     </td><td>J                                        </td><td>47                                       </td><td>other                                    </td><td>male                                     </td><td>FALSE                                    </td><td>   NA                                    </td><td>FALSE                                    </td><td>MPC Violation                            </td></tr>\n",
       "\t<tr><td>2007-01-01                                                          </td><td>14:24:00                                                            </td><td><span style=white-space:pre-wrap>FELL &amp; OCTAVIA          </span></td><td>37.8                                                                </td><td>-122                                                                </td><td>E                                                                   </td><td>62                                                                  </td><td><span style=white-space:pre-wrap>white                 </span>      </td><td><span style=white-space:pre-wrap>male  </span>                      </td><td>FALSE                                                               </td><td><span style=white-space:pre-wrap>   NA</span>                       </td><td>FALSE                                                               </td><td>Mechanical or Non-Moving Violation (V.C.)                           </td></tr>\n",
       "\t<tr><td>2007-01-01                               </td><td>14:30:00                                 </td><td>FORD AND NOE                             </td><td>37.8                                     </td><td>-122                                     </td><td>D                                        </td><td>24                                       </td><td>white                                    </td><td>male                                     </td><td>FALSE                                    </td><td>   NA                                    </td><td>FALSE                                    </td><td>Moving Violation                         </td></tr>\n",
       "\t<tr><td>⋮</td><td>⋮</td><td>⋮</td><td>⋮</td><td>⋮</td><td>⋮</td><td>⋮</td><td>⋮</td><td>⋮</td><td>⋮</td><td>⋮</td><td>⋮</td><td>⋮</td></tr>\n",
       "\t<tr><td>2016-06-30                               </td><td>06:56:00                                 </td><td>15TH AND KANSAS                          </td><td>37.8                                     </td><td>-122                                     </td><td>C                                        </td><td>56                                       </td><td>white                                    </td><td>male                                     </td><td>FALSE                                    </td><td>  NA                                     </td><td>FALSE                                    </td><td>Moving Violation                         </td></tr>\n",
       "\t<tr><td>2016-06-30                               </td><td>06:57:00                                 </td><td>EMBARCADERO X CHESTNUT                   </td><td>37.8                                     </td><td>-122                                     </td><td>A                                        </td><td>31                                       </td><td>white                                    </td><td>female                                   </td><td>FALSE                                    </td><td>  NA                                     </td><td>FALSE                                    </td><td>Moving Violation                         </td></tr>\n",
       "\t<tr><td>2016-06-30                                                            </td><td>07:10:00                                                              </td><td><span style=white-space:pre-wrap>MISSION ST &amp; 18TH ST      </span></td><td>37.8                                                                  </td><td>-122                                                                  </td><td>D                                                                     </td><td>31                                                                    </td><td><span style=white-space:pre-wrap>hispanic              </span>        </td><td><span style=white-space:pre-wrap>male  </span>                        </td><td>FALSE                                                                 </td><td><span style=white-space:pre-wrap>  NA</span>                          </td><td>FALSE                                                                 </td><td>Mechanical or Non-Moving Violation (V.C.)                             </td></tr>\n",
       "\t<tr><td>2016-06-30                                                            </td><td>07:15:00                                                              </td><td><span style=white-space:pre-wrap>S VAN NESS &amp; 17TH         </span></td><td>37.8                                                                  </td><td>-122                                                                  </td><td>D                                                                     </td><td>41                                                                    </td><td><span style=white-space:pre-wrap>hispanic              </span>        </td><td><span style=white-space:pre-wrap>male  </span>                        </td><td>FALSE                                                                 </td><td><span style=white-space:pre-wrap>  NA</span>                          </td><td>FALSE                                                                 </td><td>Mechanical or Non-Moving Violation (V.C.)                             </td></tr>\n",
       "\t<tr><td>2016-06-30                               </td><td>07:20:00                                 </td><td>965 GEARY ST.                            </td><td>37.8                                     </td><td>-122                                     </td><td>E                                        </td><td>49                                       </td><td>asian/pacific islander                   </td><td>female                                   </td><td>FALSE                                    </td><td>  NA                                     </td><td>FALSE                                    </td><td>Moving Violation                         </td></tr>\n",
       "\t<tr><td>2016-06-30                                                                       </td><td>07:40:00                                                                         </td><td><span style=white-space:pre-wrap>GEARY ST. &amp; JONES ST.     </span>           </td><td>37.8                                                                             </td><td>-122                                                                             </td><td>J                                                                                </td><td>28                                                                               </td><td><span style=white-space:pre-wrap>hispanic              </span>                   </td><td>female                                                                           </td><td>FALSE                                                                            </td><td><span style=white-space:pre-wrap>  NA</span>                                     </td><td>FALSE                                                                            </td><td><span style=white-space:pre-wrap>Moving Violation                         </span></td></tr>\n",
       "\t<tr><td>2016-06-30                                                                       </td><td>07:55:00                                                                         </td><td><span style=white-space:pre-wrap>14TH AVE &amp; BALBOA ST      </span>           </td><td>37.8                                                                             </td><td>-122                                                                             </td><td>G                                                                                </td><td>32                                                                               </td><td>asian/pacific islander                                                           </td><td><span style=white-space:pre-wrap>male  </span>                                   </td><td>FALSE                                                                            </td><td><span style=white-space:pre-wrap>  NA</span>                                     </td><td>FALSE                                                                            </td><td><span style=white-space:pre-wrap>Moving Violation                         </span></td></tr>\n",
       "\t<tr><td>2016-06-30                                                                       </td><td>07:55:00                                                                         </td><td><span style=white-space:pre-wrap>3RD ST &amp; BRYANT ST        </span>           </td><td>37.8                                                                             </td><td>-122                                                                             </td><td>B                                                                                </td><td>45                                                                               </td><td><span style=white-space:pre-wrap>hispanic              </span>                   </td><td><span style=white-space:pre-wrap>male  </span>                                   </td><td>FALSE                                                                            </td><td><span style=white-space:pre-wrap>  NA</span>                                     </td><td>FALSE                                                                            </td><td><span style=white-space:pre-wrap>Moving Violation                         </span></td></tr>\n",
       "\t<tr><td>2016-06-30                               </td><td>07:55:00                                 </td><td>800 BLK GEARY.                           </td><td>37.8                                     </td><td>-122                                     </td><td>A                                        </td><td>46                                       </td><td>white                                    </td><td>male                                     </td><td>FALSE                                    </td><td>  NA                                     </td><td>FALSE                                    </td><td>Moving Violation                         </td></tr>\n",
       "\t<tr><td>2016-06-30                               </td><td>08:05:00                                 </td><td>FULTON ST AND FILLMORE ST                </td><td>37.8                                     </td><td>-122                                     </td><td>E                                        </td><td>30                                       </td><td>hispanic                                 </td><td>female                                   </td><td>FALSE                                    </td><td>  NA                                     </td><td>FALSE                                    </td><td>Moving Violation                         </td></tr>\n",
       "\t<tr><td>2016-06-30                               </td><td>08:11:00                                 </td><td>POLK/UNION                               </td><td>37.8                                     </td><td>-122                                     </td><td>E                                        </td><td>32                                       </td><td>white                                    </td><td>male                                     </td><td>FALSE                                    </td><td>  NA                                     </td><td>FALSE                                    </td><td>Moving Violation                         </td></tr>\n",
       "\t<tr><td>2016-06-30                               </td><td>08:15:00                                 </td><td>POLK/ EDDY                               </td><td>37.8                                     </td><td>-122                                     </td><td>E                                        </td><td>56                                       </td><td>white                                    </td><td>male                                     </td><td>FALSE                                    </td><td>  NA                                     </td><td>FALSE                                    </td><td>Moving Violation                         </td></tr>\n",
       "\t<tr><td>2016-06-30                               </td><td>08:20:00                                 </td><td>FULTON ST AND FILLMORE ST                </td><td>37.8                                     </td><td>-122                                     </td><td>E                                        </td><td>46                                       </td><td>white                                    </td><td>male                                     </td><td>FALSE                                    </td><td>  NA                                     </td><td>FALSE                                    </td><td>Moving Violation                         </td></tr>\n",
       "\t<tr><td>2016-06-30                               </td><td>08:25:00                                 </td><td>781 GEARY ST.                            </td><td>37.8                                     </td><td>-122                                     </td><td>J                                        </td><td>35                                       </td><td>hispanic                                 </td><td>male                                     </td><td>FALSE                                    </td><td>  NA                                     </td><td>FALSE                                    </td><td>Moving Violation                         </td></tr>\n",
       "\t<tr><td>2016-06-30                                                            </td><td>08:30:00                                                              </td><td><span style=white-space:pre-wrap>24TH &amp; TARAVAL            </span></td><td>37.7                                                                  </td><td>-122                                                                  </td><td>I                                                                     </td><td>59                                                                    </td><td><span style=white-space:pre-wrap>hispanic              </span>        </td><td><span style=white-space:pre-wrap>male  </span>                        </td><td>FALSE                                                                 </td><td><span style=white-space:pre-wrap>  NA</span>                          </td><td>FALSE                                                                 </td><td>Mechanical or Non-Moving Violation (V.C.)                             </td></tr>\n",
       "\t<tr><td>2016-06-30                                                                       </td><td>08:30:00                                                                         </td><td><span style=white-space:pre-wrap>19TH AVE. &amp; DENSLOWE ST.  </span>           </td><td>37.7                                                                             </td><td>-122                                                                             </td><td>I                                                                                </td><td>31                                                                               </td><td><span style=white-space:pre-wrap>other                 </span>                   </td><td>female                                                                           </td><td>FALSE                                                                            </td><td><span style=white-space:pre-wrap>  NA</span>                                     </td><td>FALSE                                                                            </td><td><span style=white-space:pre-wrap>Moving Violation                         </span></td></tr>\n",
       "\t<tr><td>2016-06-30                                                                       </td><td>08:30:00                                                                         </td><td><span style=white-space:pre-wrap>ANDERSON &amp; EUGENIA        </span>           </td><td>37.7                                                                             </td><td>-122                                                                             </td><td>H                                                                                </td><td>29                                                                               </td><td><span style=white-space:pre-wrap>white                 </span>                   </td><td>female                                                                           </td><td>FALSE                                                                            </td><td><span style=white-space:pre-wrap>  NA</span>                                     </td><td>FALSE                                                                            </td><td><span style=white-space:pre-wrap>Moving Violation                         </span></td></tr>\n",
       "\t<tr><td>2016-06-30                               </td><td>08:38:00                                 </td><td>FULTON ST AND SCOTT ST                   </td><td>37.8                                     </td><td>-122                                     </td><td>E                                        </td><td>26                                       </td><td>white                                    </td><td>male                                     </td><td>FALSE                                    </td><td>  NA                                     </td><td>FALSE                                    </td><td>Moving Violation                         </td></tr>\n",
       "\t<tr><td>2016-06-30                               </td><td>08:45:00                                 </td><td>781 GEARY ST.                            </td><td>37.8                                     </td><td>-122                                     </td><td>J                                        </td><td>38                                       </td><td>other                                    </td><td>male                                     </td><td>FALSE                                    </td><td>  NA                                     </td><td>FALSE                                    </td><td>Moving Violation                         </td></tr>\n",
       "\t<tr><td>2016-06-30                               </td><td>08:50:00                                 </td><td>FULTON ST AND FILLMORE ST                </td><td>37.8                                     </td><td>-122                                     </td><td>E                                        </td><td>26                                       </td><td>asian/pacific islander                   </td><td>male                                     </td><td>FALSE                                    </td><td>  NA                                     </td><td>FALSE                                    </td><td>Moving Violation                         </td></tr>\n",
       "\t<tr><td>2016-06-30                                                                       </td><td>08:50:00                                                                         </td><td><span style=white-space:pre-wrap>26TH &amp; JUDAH              </span>           </td><td>37.8                                                                             </td><td>-122                                                                             </td><td>I                                                                                </td><td>59                                                                               </td><td><span style=white-space:pre-wrap>white                 </span>                   </td><td><span style=white-space:pre-wrap>male  </span>                                   </td><td>FALSE                                                                            </td><td><span style=white-space:pre-wrap>  NA</span>                                     </td><td>FALSE                                                                            </td><td><span style=white-space:pre-wrap>Moving Violation                         </span></td></tr>\n",
       "\t<tr><td>2016-06-30                                                                       </td><td>08:55:00                                                                         </td><td><span style=white-space:pre-wrap>GEARY ST. &amp; HYDE ST.      </span>           </td><td>37.8                                                                             </td><td>-122                                                                             </td><td>J                                                                                </td><td>29                                                                               </td><td><span style=white-space:pre-wrap>white                 </span>                   </td><td>female                                                                           </td><td>FALSE                                                                            </td><td><span style=white-space:pre-wrap>  NA</span>                                     </td><td>FALSE                                                                            </td><td><span style=white-space:pre-wrap>Moving Violation                         </span></td></tr>\n",
       "\t<tr><td>2016-06-30                                                            </td><td>00:09:00                                                              </td><td><span style=white-space:pre-wrap>LARKIN &amp; BROADWAY         </span></td><td>37.8                                                                  </td><td>-122                                                                  </td><td>A                                                                     </td><td>24                                                                    </td><td><span style=white-space:pre-wrap>hispanic              </span>        </td><td><span style=white-space:pre-wrap>male  </span>                        </td><td>FALSE                                                                 </td><td><span style=white-space:pre-wrap>  NA</span>                          </td><td>FALSE                                                                 </td><td>Mechanical or Non-Moving Violation (V.C.)                             </td></tr>\n",
       "\t<tr><td>2016-06-30                                                            </td><td>09:00:00                                                              </td><td><span style=white-space:pre-wrap>MISSION &amp; SANTA MARINA    </span></td><td>37.7                                                                  </td><td>-122                                                                  </td><td>H                                                                     </td><td>28                                                                    </td><td><span style=white-space:pre-wrap>black                 </span>        </td><td><span style=white-space:pre-wrap>male  </span>                        </td><td>FALSE                                                                 </td><td>TRUE                                                                  </td><td> TRUE                                                                 </td><td>Mechanical or Non-Moving Violation (V.C.)                             </td></tr>\n",
       "\t<tr><td>2016-06-30                                                                       </td><td>09:15:00                                                                         </td><td><span style=white-space:pre-wrap>GOLDEN GATE &amp; JONES       </span>           </td><td>37.8                                                                             </td><td>-122                                                                             </td><td>J                                                                                </td><td>35                                                                               </td><td>asian/pacific islander                                                           </td><td><span style=white-space:pre-wrap>male  </span>                                   </td><td>FALSE                                                                            </td><td><span style=white-space:pre-wrap>  NA</span>                                     </td><td>FALSE                                                                            </td><td><span style=white-space:pre-wrap>Moving Violation                         </span></td></tr>\n",
       "\t<tr><td>2016-06-30                                                                       </td><td>09:24:00                                                                         </td><td><span style=white-space:pre-wrap>JONES &amp; MCALLISTER        </span>           </td><td>37.8                                                                             </td><td>-122                                                                             </td><td>J                                                                                </td><td>47                                                                               </td><td><span style=white-space:pre-wrap>hispanic              </span>                   </td><td>female                                                                           </td><td>FALSE                                                                            </td><td><span style=white-space:pre-wrap>  NA</span>                                     </td><td>FALSE                                                                            </td><td><span style=white-space:pre-wrap>Moving Violation                         </span></td></tr>\n",
       "\t<tr><td>2016-06-30                                                                       </td><td>09:34:00                                                                         </td><td><span style=white-space:pre-wrap>GOLDEN GATE &amp; HYDE        </span>           </td><td>37.8                                                                             </td><td>-122                                                                             </td><td>J                                                                                </td><td>55                                                                               </td><td><span style=white-space:pre-wrap>white                 </span>                   </td><td>female                                                                           </td><td>FALSE                                                                            </td><td><span style=white-space:pre-wrap>  NA</span>                                     </td><td>FALSE                                                                            </td><td><span style=white-space:pre-wrap>Moving Violation                         </span></td></tr>\n",
       "\t<tr><td>2016-06-30                                                                       </td><td>09:50:00                                                                         </td><td><span style=white-space:pre-wrap>11TH ST. &amp; MARKET ST.     </span>           </td><td>37.8                                                                             </td><td>-122                                                                             </td><td>J                                                                                </td><td>36                                                                               </td><td>asian/pacific islander                                                           </td><td><span style=white-space:pre-wrap>male  </span>                                   </td><td>FALSE                                                                            </td><td><span style=white-space:pre-wrap>  NA</span>                                     </td><td>FALSE                                                                            </td><td><span style=white-space:pre-wrap>Moving Violation                         </span></td></tr>\n",
       "\t<tr><td>2016-06-30                                                    </td><td>09:50:00                                                      </td><td>BROTHERHOOD WAY &amp; ARCH ST.                                </td><td>37.7                                                          </td><td>-122                                                          </td><td>I                                                             </td><td>50                                                            </td><td><span style=white-space:pre-wrap>black                 </span></td><td><span style=white-space:pre-wrap>male  </span>                </td><td>FALSE                                                         </td><td><span style=white-space:pre-wrap>  NA</span>                  </td><td>FALSE                                                         </td><td>Mechanical or Non-Moving Violation (V.C.)                     </td></tr>\n",
       "\t<tr><td>2016-06-30                               </td><td>09:55:00                                 </td><td>1650 17THAV                              </td><td>37.8                                     </td><td>-122                                     </td><td>I                                        </td><td>22                                       </td><td>other                                    </td><td>female                                   </td><td>FALSE                                    </td><td>  NA                                     </td><td>FALSE                                    </td><td>Moving Violation                         </td></tr>\n",
       "</tbody>\n",
       "</table>\n"
      ],
      "text/latex": [
       "\\begin{tabular}{r|lllllllllllll}\n",
       " date & time & location & lat & lng & district & age & race & gender & arrested & contraband\\_found & searched & reason\\_for\\_stop\\\\\n",
       "\\hline\n",
       "\t 2007-01-01                                & 10:00:00                                  & 26TH \\& MINNESOTA                        & 37.8                                      & -122                                      & C                                         & 56                                        & white                                     & male                                      & FALSE                                     &    NA                                     & FALSE                                     & Mechanical or Non-Moving Violation (V.C.)\\\\\n",
       "\t 2007-01-01                                & 10:17:00                                  & EMBARCADERO \\& HOWARDA ON                & 37.8                                      & -122                                      & B                                         & 32                                        & white                                     & male                                      & FALSE                                     &    NA                                     & FALSE                                     & Moving Violation                         \\\\\n",
       "\t 2007-01-01                                & 10:25:00                                  & 1700 JUDAH                                & 37.8                                      & -122                                      & I                                         & 57                                        & asian/pacific islander                    & female                                    & FALSE                                     &    NA                                     & FALSE                                     & Moving Violation                         \\\\\n",
       "\t 2007-01-01                                & 10:28:00                                  & COLUMBUS/VALLEJO                          & 37.8                                      & -122                                      & A                                         & 31                                        & hispanic                                  & male                                      & FALSE                                     &    NA                                     & FALSE                                     & Moving Violation                         \\\\\n",
       "\t 2007-01-01                                & 10:35:00                                  & FOLSOM \\& MOSS                           & 37.8                                      & -122                                      & J                                         & 37                                        & hispanic                                  & female                                    & FALSE                                     &    NA                                     & FALSE                                     & Moving Violation                         \\\\\n",
       "\t 2007-01-01                                & 10:40:00                                  & WASHINGTON/VAN NESS                       & 37.8                                      & -122                                      & E                                         & 39                                        & asian/pacific islander                    & female                                    & FALSE                                     &    NA                                     & FALSE                                     & Moving Violation                         \\\\\n",
       "\t 2007-01-01                                & 10:45:00                                  & 400 MOLIMO                                & 37.7                                      & -122                                      & H                                         & 33                                        & hispanic                                  & male                                      & FALSE                                     &    NA                                     & FALSE                                     & Moving Violation                         \\\\\n",
       "\t 2007-01-01                                & 10:55:00                                  & NORIEGA/29TH                              & 37.8                                      & -122                                      & I                                         & 58                                        & asian/pacific islander                    & male                                      & FALSE                                     &    NA                                     & FALSE                                     & Moving Violation                         \\\\\n",
       "\t 2007-01-01                                & 00:11:00                                  & POLK AT OFARRELL                          & 37.8                                      & -122                                      & E                                         & 20                                        & asian/pacific islander                    & male                                      & FALSE                                     &    NA                                     & FALSE                                     & Moving Violation                         \\\\\n",
       "\t 2007-01-01                                & 11:00:00                                  & 3RD \\& BERRY                             & 37.8                                      & -122                                      & B                                         & 37                                        & white                                     & male                                      & FALSE                                     &    NA                                     & FALSE                                     & Moving Violation                         \\\\\n",
       "\t 2007-01-01                                & 11:17:00                                  & UNDERWOOD/JENNINGS                        & 37.7                                      & -122                                      & C                                         & 23                                        & black                                     & female                                    & FALSE                                     &    NA                                     & FALSE                                     & Moving Violation                         \\\\\n",
       "\t 2007-01-01                                & 11:28:00                                  & 280 S/B @ OCEAN AVE EXIT                  & 37.8                                      & -122                                      & H                                         & 51                                        & white                                     & female                                    & FALSE                                     &    NA                                     & FALSE                                     & Mechanical or Non-Moving Violation (V.C.)\\\\\n",
       "\t 2007-01-01                                & 01:16:00                                  & 26THST/KANSAS                             & 37.8                                      & -122                                      & C                                         & 41                                        & white                                     & male                                      & FALSE                                     &    NA                                     & FALSE                                     & Moving Violation                         \\\\\n",
       "\t 2007-01-01                                & 01:20:00                                  & JUDAH ST \\& 46TH AVE                     & 37.8                                      & -123                                      & I                                         & 19                                        & white                                     & female                                    & FALSE                                     &    NA                                     & FALSE                                     & Moving Violation                         \\\\\n",
       "\t 2007-01-01                                & 12:11:00                                  & 20TH \\& TENNESSEE                        & 37.8                                      & -122                                      & B                                         & 50                                        & other                                     & male                                      & FALSE                                     &    NA                                     & FALSE                                     & Moving Violation                         \\\\\n",
       "\t 2007-01-01                                & 12:18:00                                  & 8TH ST/HARRISON                           & 37.8                                      & -122                                      & B                                         & 31                                        & asian/pacific islander                    & male                                      & FALSE                                     &    NA                                     & FALSE                                     & Moving Violation                         \\\\\n",
       "\t 2007-01-01                                & 12:25:00                                  & FULTON \\& 25TH AVE                       & 37.8                                      & -122                                      & G                                         & 33                                        & other                                     & male                                      & FALSE                                     &    NA                                     & FALSE                                     & Moving Violation                         \\\\\n",
       "\t 2007-01-01                                & 12:40:00                                  & GEARY \\& 6TH AV                          & 37.8                                      & -122                                      & G                                         & 32                                        & white                                     & male                                      & FALSE                                     &    NA                                     & FALSE                                     & Moving Violation                         \\\\\n",
       "\t 2007-01-01                                & 12:49:00                                  & CHESTNUT \\& FILLMOREDA ON                & 37.8                                      & -122                                      & E                                         & 58                                        & asian/pacific islander                    & male                                      & FALSE                                     &    NA                                     & FALSE                                     & Moving Violation                         \\\\\n",
       "\t 2007-01-01                                & 12:50:00                                  & GROVE @ BAKER                             & 37.8                                      & -122                                      & F                                         & 42                                        & white                                     & male                                      & FALSE                                     &    NA                                     & FALSE                                     & Moving Violation                         \\\\\n",
       "\t 2007-01-01                                & 13:02:00                                  & OCEAN@CAYUGA                              & 37.7                                      & -122                                      & H                                         & 49                                        & white                                     & female                                    & FALSE                                     &    NA                                     & FALSE                                     & Moving Violation                         \\\\\n",
       "\t 2007-01-01                                & 13:05:00                                  & GENEVA/MISSION                            & 37.7                                      & -122                                      & H                                         & 75                                        & white                                     & male                                      & FALSE                                     &    NA                                     & FALSE                                     & Moving Violation                         \\\\\n",
       "\t 2007-01-01                                & 13:08:00                                  & 9TH AV/GEARY BL                           & 37.8                                      & -122                                      & G                                         & 39                                        & white                                     & female                                    & FALSE                                     &    NA                                     & FALSE                                     & Moving Violation                         \\\\\n",
       "\t 2007-01-01                                & 13:10:00                                  & GENEVA/MISSION                            & 37.7                                      & -122                                      & H                                         & 39                                        & hispanic                                  & male                                      &  TRUE                                     & FALSE                                     &  TRUE                                     & Moving Violation                         \\\\\n",
       "\t 2007-01-01                                & 13:32:00                                  & VAN NESS \\& SACRAMENTO                   & 37.8                                      & -122                                      & E                                         & 36                                        & white                                     & female                                    & FALSE                                     &    NA                                     & FALSE                                     & Moving Violation                         \\\\\n",
       "\t 2007-01-01                                & 13:45:00                                  & 7TH \\& BRYANT                            & 37.8                                      & -122                                      & B                                         & 36                                        & white                                     & male                                      & FALSE                                     &    NA                                     & FALSE                                     & Moving Violation                         \\\\\n",
       "\t 2007-01-01                                & 13:57:00                                  & 13TH ST / MISSION ST                      & 37.8                                      & -122                                      & D                                         & 24                                        & hispanic                                  & female                                    &  TRUE                                     &  TRUE                                     &  TRUE                                     & Mechanical or Non-Moving Violation (V.C.)\\\\\n",
       "\t 2007-01-01                                & 01:40:00                                  & 130 OFARRELL                              & 37.8                                      & -122                                      & J                                         & 47                                        & other                                     & male                                      & FALSE                                     &    NA                                     & FALSE                                     & MPC Violation                            \\\\\n",
       "\t 2007-01-01                                & 14:24:00                                  & FELL \\& OCTAVIA                          & 37.8                                      & -122                                      & E                                         & 62                                        & white                                     & male                                      & FALSE                                     &    NA                                     & FALSE                                     & Mechanical or Non-Moving Violation (V.C.)\\\\\n",
       "\t 2007-01-01                                & 14:30:00                                  & FORD AND NOE                              & 37.8                                      & -122                                      & D                                         & 24                                        & white                                     & male                                      & FALSE                                     &    NA                                     & FALSE                                     & Moving Violation                         \\\\\n",
       "\t ⋮ & ⋮ & ⋮ & ⋮ & ⋮ & ⋮ & ⋮ & ⋮ & ⋮ & ⋮ & ⋮ & ⋮ & ⋮\\\\\n",
       "\t 2016-06-30                                & 06:56:00                                  & 15TH AND KANSAS                           & 37.8                                      & -122                                      & C                                         & 56                                        & white                                     & male                                      & FALSE                                     &   NA                                      & FALSE                                     & Moving Violation                         \\\\\n",
       "\t 2016-06-30                                & 06:57:00                                  & EMBARCADERO X CHESTNUT                    & 37.8                                      & -122                                      & A                                         & 31                                        & white                                     & female                                    & FALSE                                     &   NA                                      & FALSE                                     & Moving Violation                         \\\\\n",
       "\t 2016-06-30                                & 07:10:00                                  & MISSION ST \\& 18TH ST                    & 37.8                                      & -122                                      & D                                         & 31                                        & hispanic                                  & male                                      & FALSE                                     &   NA                                      & FALSE                                     & Mechanical or Non-Moving Violation (V.C.)\\\\\n",
       "\t 2016-06-30                                & 07:15:00                                  & S VAN NESS \\& 17TH                       & 37.8                                      & -122                                      & D                                         & 41                                        & hispanic                                  & male                                      & FALSE                                     &   NA                                      & FALSE                                     & Mechanical or Non-Moving Violation (V.C.)\\\\\n",
       "\t 2016-06-30                                & 07:20:00                                  & 965 GEARY ST.                             & 37.8                                      & -122                                      & E                                         & 49                                        & asian/pacific islander                    & female                                    & FALSE                                     &   NA                                      & FALSE                                     & Moving Violation                         \\\\\n",
       "\t 2016-06-30                                & 07:40:00                                  & GEARY ST. \\& JONES ST.                   & 37.8                                      & -122                                      & J                                         & 28                                        & hispanic                                  & female                                    & FALSE                                     &   NA                                      & FALSE                                     & Moving Violation                         \\\\\n",
       "\t 2016-06-30                                & 07:55:00                                  & 14TH AVE \\& BALBOA ST                    & 37.8                                      & -122                                      & G                                         & 32                                        & asian/pacific islander                    & male                                      & FALSE                                     &   NA                                      & FALSE                                     & Moving Violation                         \\\\\n",
       "\t 2016-06-30                                & 07:55:00                                  & 3RD ST \\& BRYANT ST                      & 37.8                                      & -122                                      & B                                         & 45                                        & hispanic                                  & male                                      & FALSE                                     &   NA                                      & FALSE                                     & Moving Violation                         \\\\\n",
       "\t 2016-06-30                                & 07:55:00                                  & 800 BLK GEARY.                            & 37.8                                      & -122                                      & A                                         & 46                                        & white                                     & male                                      & FALSE                                     &   NA                                      & FALSE                                     & Moving Violation                         \\\\\n",
       "\t 2016-06-30                                & 08:05:00                                  & FULTON ST AND FILLMORE ST                 & 37.8                                      & -122                                      & E                                         & 30                                        & hispanic                                  & female                                    & FALSE                                     &   NA                                      & FALSE                                     & Moving Violation                         \\\\\n",
       "\t 2016-06-30                                & 08:11:00                                  & POLK/UNION                                & 37.8                                      & -122                                      & E                                         & 32                                        & white                                     & male                                      & FALSE                                     &   NA                                      & FALSE                                     & Moving Violation                         \\\\\n",
       "\t 2016-06-30                                & 08:15:00                                  & POLK/ EDDY                                & 37.8                                      & -122                                      & E                                         & 56                                        & white                                     & male                                      & FALSE                                     &   NA                                      & FALSE                                     & Moving Violation                         \\\\\n",
       "\t 2016-06-30                                & 08:20:00                                  & FULTON ST AND FILLMORE ST                 & 37.8                                      & -122                                      & E                                         & 46                                        & white                                     & male                                      & FALSE                                     &   NA                                      & FALSE                                     & Moving Violation                         \\\\\n",
       "\t 2016-06-30                                & 08:25:00                                  & 781 GEARY ST.                             & 37.8                                      & -122                                      & J                                         & 35                                        & hispanic                                  & male                                      & FALSE                                     &   NA                                      & FALSE                                     & Moving Violation                         \\\\\n",
       "\t 2016-06-30                                & 08:30:00                                  & 24TH \\& TARAVAL                          & 37.7                                      & -122                                      & I                                         & 59                                        & hispanic                                  & male                                      & FALSE                                     &   NA                                      & FALSE                                     & Mechanical or Non-Moving Violation (V.C.)\\\\\n",
       "\t 2016-06-30                                & 08:30:00                                  & 19TH AVE. \\& DENSLOWE ST.                & 37.7                                      & -122                                      & I                                         & 31                                        & other                                     & female                                    & FALSE                                     &   NA                                      & FALSE                                     & Moving Violation                         \\\\\n",
       "\t 2016-06-30                                & 08:30:00                                  & ANDERSON \\& EUGENIA                      & 37.7                                      & -122                                      & H                                         & 29                                        & white                                     & female                                    & FALSE                                     &   NA                                      & FALSE                                     & Moving Violation                         \\\\\n",
       "\t 2016-06-30                                & 08:38:00                                  & FULTON ST AND SCOTT ST                    & 37.8                                      & -122                                      & E                                         & 26                                        & white                                     & male                                      & FALSE                                     &   NA                                      & FALSE                                     & Moving Violation                         \\\\\n",
       "\t 2016-06-30                                & 08:45:00                                  & 781 GEARY ST.                             & 37.8                                      & -122                                      & J                                         & 38                                        & other                                     & male                                      & FALSE                                     &   NA                                      & FALSE                                     & Moving Violation                         \\\\\n",
       "\t 2016-06-30                                & 08:50:00                                  & FULTON ST AND FILLMORE ST                 & 37.8                                      & -122                                      & E                                         & 26                                        & asian/pacific islander                    & male                                      & FALSE                                     &   NA                                      & FALSE                                     & Moving Violation                         \\\\\n",
       "\t 2016-06-30                                & 08:50:00                                  & 26TH \\& JUDAH                            & 37.8                                      & -122                                      & I                                         & 59                                        & white                                     & male                                      & FALSE                                     &   NA                                      & FALSE                                     & Moving Violation                         \\\\\n",
       "\t 2016-06-30                                & 08:55:00                                  & GEARY ST. \\& HYDE ST.                    & 37.8                                      & -122                                      & J                                         & 29                                        & white                                     & female                                    & FALSE                                     &   NA                                      & FALSE                                     & Moving Violation                         \\\\\n",
       "\t 2016-06-30                                & 00:09:00                                  & LARKIN \\& BROADWAY                       & 37.8                                      & -122                                      & A                                         & 24                                        & hispanic                                  & male                                      & FALSE                                     &   NA                                      & FALSE                                     & Mechanical or Non-Moving Violation (V.C.)\\\\\n",
       "\t 2016-06-30                                & 09:00:00                                  & MISSION \\& SANTA MARINA                  & 37.7                                      & -122                                      & H                                         & 28                                        & black                                     & male                                      & FALSE                                     & TRUE                                      &  TRUE                                     & Mechanical or Non-Moving Violation (V.C.)\\\\\n",
       "\t 2016-06-30                                & 09:15:00                                  & GOLDEN GATE \\& JONES                     & 37.8                                      & -122                                      & J                                         & 35                                        & asian/pacific islander                    & male                                      & FALSE                                     &   NA                                      & FALSE                                     & Moving Violation                         \\\\\n",
       "\t 2016-06-30                                & 09:24:00                                  & JONES \\& MCALLISTER                      & 37.8                                      & -122                                      & J                                         & 47                                        & hispanic                                  & female                                    & FALSE                                     &   NA                                      & FALSE                                     & Moving Violation                         \\\\\n",
       "\t 2016-06-30                                & 09:34:00                                  & GOLDEN GATE \\& HYDE                      & 37.8                                      & -122                                      & J                                         & 55                                        & white                                     & female                                    & FALSE                                     &   NA                                      & FALSE                                     & Moving Violation                         \\\\\n",
       "\t 2016-06-30                                & 09:50:00                                  & 11TH ST. \\& MARKET ST.                   & 37.8                                      & -122                                      & J                                         & 36                                        & asian/pacific islander                    & male                                      & FALSE                                     &   NA                                      & FALSE                                     & Moving Violation                         \\\\\n",
       "\t 2016-06-30                                & 09:50:00                                  & BROTHERHOOD WAY \\& ARCH ST.              & 37.7                                      & -122                                      & I                                         & 50                                        & black                                     & male                                      & FALSE                                     &   NA                                      & FALSE                                     & Mechanical or Non-Moving Violation (V.C.)\\\\\n",
       "\t 2016-06-30                                & 09:55:00                                  & 1650 17THAV                               & 37.8                                      & -122                                      & I                                         & 22                                        & other                                     & female                                    & FALSE                                     &   NA                                      & FALSE                                     & Moving Violation                         \\\\\n",
       "\\end{tabular}\n"
      ],
      "text/plain": [
       "       date       time     location                   lat  lng  district age\n",
       "1      2007-01-01 10:00:00 26TH & MINNESOTA           37.8 -122 C        56 \n",
       "2      2007-01-01 10:17:00 EMBARCADERO & HOWARDA ON   37.8 -122 B        32 \n",
       "3      2007-01-01 10:25:00 1700 JUDAH                 37.8 -122 I        57 \n",
       "4      2007-01-01 10:28:00 COLUMBUS/VALLEJO           37.8 -122 A        31 \n",
       "5      2007-01-01 10:35:00 FOLSOM & MOSS              37.8 -122 J        37 \n",
       "6      2007-01-01 10:40:00 WASHINGTON/VAN NESS        37.8 -122 E        39 \n",
       "7      2007-01-01 10:45:00 400 MOLIMO                 37.7 -122 H        33 \n",
       "8      2007-01-01 10:55:00 NORIEGA/29TH               37.8 -122 I        58 \n",
       "9      2007-01-01 00:11:00 POLK AT OFARRELL           37.8 -122 E        20 \n",
       "10     2007-01-01 11:00:00 3RD & BERRY                37.8 -122 B        37 \n",
       "11     2007-01-01 11:17:00 UNDERWOOD/JENNINGS         37.7 -122 C        23 \n",
       "12     2007-01-01 11:28:00 280 S/B @ OCEAN AVE EXIT   37.8 -122 H        51 \n",
       "13     2007-01-01 01:16:00 26THST/KANSAS              37.8 -122 C        41 \n",
       "14     2007-01-01 01:20:00 JUDAH ST & 46TH AVE        37.8 -123 I        19 \n",
       "15     2007-01-01 12:11:00 20TH & TENNESSEE           37.8 -122 B        50 \n",
       "16     2007-01-01 12:18:00 8TH ST/HARRISON            37.8 -122 B        31 \n",
       "17     2007-01-01 12:25:00 FULTON & 25TH AVE          37.8 -122 G        33 \n",
       "18     2007-01-01 12:40:00 GEARY & 6TH AV             37.8 -122 G        32 \n",
       "19     2007-01-01 12:49:00 CHESTNUT & FILLMOREDA ON   37.8 -122 E        58 \n",
       "20     2007-01-01 12:50:00 GROVE @ BAKER              37.8 -122 F        42 \n",
       "21     2007-01-01 13:02:00 OCEAN@CAYUGA               37.7 -122 H        49 \n",
       "22     2007-01-01 13:05:00 GENEVA/MISSION             37.7 -122 H        75 \n",
       "23     2007-01-01 13:08:00 9TH AV/GEARY BL            37.8 -122 G        39 \n",
       "24     2007-01-01 13:10:00 GENEVA/MISSION             37.7 -122 H        39 \n",
       "25     2007-01-01 13:32:00 VAN NESS & SACRAMENTO      37.8 -122 E        36 \n",
       "26     2007-01-01 13:45:00 7TH & BRYANT               37.8 -122 B        36 \n",
       "27     2007-01-01 13:57:00 13TH ST / MISSION ST       37.8 -122 D        24 \n",
       "28     2007-01-01 01:40:00 130 OFARRELL               37.8 -122 J        47 \n",
       "29     2007-01-01 14:24:00 FELL & OCTAVIA             37.8 -122 E        62 \n",
       "30     2007-01-01 14:30:00 FORD AND NOE               37.8 -122 D        24 \n",
       "⋮      ⋮          ⋮        ⋮                          ⋮    ⋮    ⋮        ⋮  \n",
       "851362 2016-06-30 06:56:00 15TH AND KANSAS            37.8 -122 C        56 \n",
       "851363 2016-06-30 06:57:00 EMBARCADERO X CHESTNUT     37.8 -122 A        31 \n",
       "851364 2016-06-30 07:10:00 MISSION ST & 18TH ST       37.8 -122 D        31 \n",
       "851365 2016-06-30 07:15:00 S VAN NESS & 17TH          37.8 -122 D        41 \n",
       "851366 2016-06-30 07:20:00 965 GEARY ST.              37.8 -122 E        49 \n",
       "851367 2016-06-30 07:40:00 GEARY ST. & JONES ST.      37.8 -122 J        28 \n",
       "851368 2016-06-30 07:55:00 14TH AVE & BALBOA ST       37.8 -122 G        32 \n",
       "851369 2016-06-30 07:55:00 3RD ST & BRYANT ST         37.8 -122 B        45 \n",
       "851370 2016-06-30 07:55:00 800 BLK GEARY.             37.8 -122 A        46 \n",
       "851371 2016-06-30 08:05:00 FULTON ST AND FILLMORE ST  37.8 -122 E        30 \n",
       "851372 2016-06-30 08:11:00 POLK/UNION                 37.8 -122 E        32 \n",
       "851373 2016-06-30 08:15:00 POLK/ EDDY                 37.8 -122 E        56 \n",
       "851374 2016-06-30 08:20:00 FULTON ST AND FILLMORE ST  37.8 -122 E        46 \n",
       "851375 2016-06-30 08:25:00 781 GEARY ST.              37.8 -122 J        35 \n",
       "851376 2016-06-30 08:30:00 24TH & TARAVAL             37.7 -122 I        59 \n",
       "851377 2016-06-30 08:30:00 19TH AVE. & DENSLOWE ST.   37.7 -122 I        31 \n",
       "851378 2016-06-30 08:30:00 ANDERSON & EUGENIA         37.7 -122 H        29 \n",
       "851379 2016-06-30 08:38:00 FULTON ST AND SCOTT ST     37.8 -122 E        26 \n",
       "851380 2016-06-30 08:45:00 781 GEARY ST.              37.8 -122 J        38 \n",
       "851381 2016-06-30 08:50:00 FULTON ST AND FILLMORE ST  37.8 -122 E        26 \n",
       "851382 2016-06-30 08:50:00 26TH & JUDAH               37.8 -122 I        59 \n",
       "851383 2016-06-30 08:55:00 GEARY ST. & HYDE ST.       37.8 -122 J        29 \n",
       "851384 2016-06-30 00:09:00 LARKIN & BROADWAY          37.8 -122 A        24 \n",
       "851385 2016-06-30 09:00:00 MISSION & SANTA MARINA     37.7 -122 H        28 \n",
       "851386 2016-06-30 09:15:00 GOLDEN GATE & JONES        37.8 -122 J        35 \n",
       "851387 2016-06-30 09:24:00 JONES & MCALLISTER         37.8 -122 J        47 \n",
       "851388 2016-06-30 09:34:00 GOLDEN GATE & HYDE         37.8 -122 J        55 \n",
       "851389 2016-06-30 09:50:00 11TH ST. & MARKET ST.      37.8 -122 J        36 \n",
       "851390 2016-06-30 09:50:00 BROTHERHOOD WAY & ARCH ST. 37.7 -122 I        50 \n",
       "851391 2016-06-30 09:55:00 1650 17THAV                37.8 -122 I        22 \n",
       "       race                   gender arrested contraband_found searched\n",
       "1      white                  male   FALSE       NA            FALSE   \n",
       "2      white                  male   FALSE       NA            FALSE   \n",
       "3      asian/pacific islander female FALSE       NA            FALSE   \n",
       "4      hispanic               male   FALSE       NA            FALSE   \n",
       "5      hispanic               female FALSE       NA            FALSE   \n",
       "6      asian/pacific islander female FALSE       NA            FALSE   \n",
       "7      hispanic               male   FALSE       NA            FALSE   \n",
       "8      asian/pacific islander male   FALSE       NA            FALSE   \n",
       "9      asian/pacific islander male   FALSE       NA            FALSE   \n",
       "10     white                  male   FALSE       NA            FALSE   \n",
       "11     black                  female FALSE       NA            FALSE   \n",
       "12     white                  female FALSE       NA            FALSE   \n",
       "13     white                  male   FALSE       NA            FALSE   \n",
       "14     white                  female FALSE       NA            FALSE   \n",
       "15     other                  male   FALSE       NA            FALSE   \n",
       "16     asian/pacific islander male   FALSE       NA            FALSE   \n",
       "17     other                  male   FALSE       NA            FALSE   \n",
       "18     white                  male   FALSE       NA            FALSE   \n",
       "19     asian/pacific islander male   FALSE       NA            FALSE   \n",
       "20     white                  male   FALSE       NA            FALSE   \n",
       "21     white                  female FALSE       NA            FALSE   \n",
       "22     white                  male   FALSE       NA            FALSE   \n",
       "23     white                  female FALSE       NA            FALSE   \n",
       "24     hispanic               male    TRUE    FALSE             TRUE   \n",
       "25     white                  female FALSE       NA            FALSE   \n",
       "26     white                  male   FALSE       NA            FALSE   \n",
       "27     hispanic               female  TRUE     TRUE             TRUE   \n",
       "28     other                  male   FALSE       NA            FALSE   \n",
       "29     white                  male   FALSE       NA            FALSE   \n",
       "30     white                  male   FALSE       NA            FALSE   \n",
       "⋮      ⋮                      ⋮      ⋮        ⋮                ⋮       \n",
       "851362 white                  male   FALSE      NA             FALSE   \n",
       "851363 white                  female FALSE      NA             FALSE   \n",
       "851364 hispanic               male   FALSE      NA             FALSE   \n",
       "851365 hispanic               male   FALSE      NA             FALSE   \n",
       "851366 asian/pacific islander female FALSE      NA             FALSE   \n",
       "851367 hispanic               female FALSE      NA             FALSE   \n",
       "851368 asian/pacific islander male   FALSE      NA             FALSE   \n",
       "851369 hispanic               male   FALSE      NA             FALSE   \n",
       "851370 white                  male   FALSE      NA             FALSE   \n",
       "851371 hispanic               female FALSE      NA             FALSE   \n",
       "851372 white                  male   FALSE      NA             FALSE   \n",
       "851373 white                  male   FALSE      NA             FALSE   \n",
       "851374 white                  male   FALSE      NA             FALSE   \n",
       "851375 hispanic               male   FALSE      NA             FALSE   \n",
       "851376 hispanic               male   FALSE      NA             FALSE   \n",
       "851377 other                  female FALSE      NA             FALSE   \n",
       "851378 white                  female FALSE      NA             FALSE   \n",
       "851379 white                  male   FALSE      NA             FALSE   \n",
       "851380 other                  male   FALSE      NA             FALSE   \n",
       "851381 asian/pacific islander male   FALSE      NA             FALSE   \n",
       "851382 white                  male   FALSE      NA             FALSE   \n",
       "851383 white                  female FALSE      NA             FALSE   \n",
       "851384 hispanic               male   FALSE      NA             FALSE   \n",
       "851385 black                  male   FALSE    TRUE              TRUE   \n",
       "851386 asian/pacific islander male   FALSE      NA             FALSE   \n",
       "851387 hispanic               female FALSE      NA             FALSE   \n",
       "851388 white                  female FALSE      NA             FALSE   \n",
       "851389 asian/pacific islander male   FALSE      NA             FALSE   \n",
       "851390 black                  male   FALSE      NA             FALSE   \n",
       "851391 other                  female FALSE      NA             FALSE   \n",
       "       reason_for_stop                          \n",
       "1      Mechanical or Non-Moving Violation (V.C.)\n",
       "2      Moving Violation                         \n",
       "3      Moving Violation                         \n",
       "4      Moving Violation                         \n",
       "5      Moving Violation                         \n",
       "6      Moving Violation                         \n",
       "7      Moving Violation                         \n",
       "8      Moving Violation                         \n",
       "9      Moving Violation                         \n",
       "10     Moving Violation                         \n",
       "11     Moving Violation                         \n",
       "12     Mechanical or Non-Moving Violation (V.C.)\n",
       "13     Moving Violation                         \n",
       "14     Moving Violation                         \n",
       "15     Moving Violation                         \n",
       "16     Moving Violation                         \n",
       "17     Moving Violation                         \n",
       "18     Moving Violation                         \n",
       "19     Moving Violation                         \n",
       "20     Moving Violation                         \n",
       "21     Moving Violation                         \n",
       "22     Moving Violation                         \n",
       "23     Moving Violation                         \n",
       "24     Moving Violation                         \n",
       "25     Moving Violation                         \n",
       "26     Moving Violation                         \n",
       "27     Mechanical or Non-Moving Violation (V.C.)\n",
       "28     MPC Violation                            \n",
       "29     Mechanical or Non-Moving Violation (V.C.)\n",
       "30     Moving Violation                         \n",
       "⋮      ⋮                                        \n",
       "851362 Moving Violation                         \n",
       "851363 Moving Violation                         \n",
       "851364 Mechanical or Non-Moving Violation (V.C.)\n",
       "851365 Mechanical or Non-Moving Violation (V.C.)\n",
       "851366 Moving Violation                         \n",
       "851367 Moving Violation                         \n",
       "851368 Moving Violation                         \n",
       "851369 Moving Violation                         \n",
       "851370 Moving Violation                         \n",
       "851371 Moving Violation                         \n",
       "851372 Moving Violation                         \n",
       "851373 Moving Violation                         \n",
       "851374 Moving Violation                         \n",
       "851375 Moving Violation                         \n",
       "851376 Mechanical or Non-Moving Violation (V.C.)\n",
       "851377 Moving Violation                         \n",
       "851378 Moving Violation                         \n",
       "851379 Moving Violation                         \n",
       "851380 Moving Violation                         \n",
       "851381 Moving Violation                         \n",
       "851382 Moving Violation                         \n",
       "851383 Moving Violation                         \n",
       "851384 Mechanical or Non-Moving Violation (V.C.)\n",
       "851385 Mechanical or Non-Moving Violation (V.C.)\n",
       "851386 Moving Violation                         \n",
       "851387 Moving Violation                         \n",
       "851388 Moving Violation                         \n",
       "851389 Moving Violation                         \n",
       "851390 Mechanical or Non-Moving Violation (V.C.)\n",
       "851391 Moving Violation                         "
      ]
     },
     "metadata": {},
     "output_type": "display_data"
    }
   ],
   "source": [
    "stops"
   ]
  },
  {
   "cell_type": "markdown",
   "metadata": {},
   "source": [
    "### Functions\n",
    "\n",
    "In math, functions are a way to \"do something\" to an input. So `f(a)=b` takes a number `a`, and applies `f()`, and gets the output `b`. In programming, we also have functions! Most of the functions we'll use allow us to manipulate our dataframe as the input. \n",
    "\n",
    "So if we want to find the number of rows in our dataframe, we'd use the function `nrow()`, which takes a dataframe (like `stops`) as an input, and then outputs an integer (the number of rows in `stops`)."
   ]
  },
  {
   "cell_type": "code",
   "execution_count": null,
   "metadata": {},
   "outputs": [
    {
     "data": {
      "text/html": [
       "851391"
      ],
      "text/latex": [
       "851391"
      ],
      "text/markdown": [
       "851391"
      ],
      "text/plain": [
       "[1] 851391"
      ]
     },
     "metadata": {},
     "output_type": "display_data"
    }
   ],
   "source": [
    "nrow(stops)"
   ]
  },
  {
   "cell_type": "markdown",
   "metadata": {},
   "source": [
    "### Your turn\n",
    "\n",
    "To find the number of columns, we (unsurprisingly) use `ncol`. Try it!"
   ]
  },
  {
   "cell_type": "code",
   "execution_count": null,
   "metadata": {},
   "outputs": [
    {
     "data": {
      "text/html": [
       "13"
      ],
      "text/latex": [
       "13"
      ],
      "text/markdown": [
       "13"
      ],
      "text/plain": [
       "[1] 13"
      ]
     },
     "metadata": {},
     "output_type": "display_data"
    }
   ],
   "source": [
    "# Find the number of columns in `stops`\n",
    "# START\n",
    "ncol(stops)\n",
    "# END"
   ]
  },
  {
   "cell_type": "markdown",
   "metadata": {},
   "source": [
    "To figure out what the names of our columns are, we can use `colnames()`."
   ]
  },
  {
   "cell_type": "code",
   "execution_count": null,
   "metadata": {},
   "outputs": [
    {
     "data": {
      "text/html": [
       "<ol class=list-inline>\n",
       "\t<li>'date'</li>\n",
       "\t<li>'time'</li>\n",
       "\t<li>'location'</li>\n",
       "\t<li>'lat'</li>\n",
       "\t<li>'lng'</li>\n",
       "\t<li>'district'</li>\n",
       "\t<li>'age'</li>\n",
       "\t<li>'race'</li>\n",
       "\t<li>'gender'</li>\n",
       "\t<li>'arrested'</li>\n",
       "\t<li>'contraband_found'</li>\n",
       "\t<li>'searched'</li>\n",
       "\t<li>'reason_for_stop'</li>\n",
       "</ol>\n"
      ],
      "text/latex": [
       "\\begin{enumerate*}\n",
       "\\item 'date'\n",
       "\\item 'time'\n",
       "\\item 'location'\n",
       "\\item 'lat'\n",
       "\\item 'lng'\n",
       "\\item 'district'\n",
       "\\item 'age'\n",
       "\\item 'race'\n",
       "\\item 'gender'\n",
       "\\item 'arrested'\n",
       "\\item 'contraband\\_found'\n",
       "\\item 'searched'\n",
       "\\item 'reason\\_for\\_stop'\n",
       "\\end{enumerate*}\n"
      ],
      "text/markdown": [
       "1. 'date'\n",
       "2. 'time'\n",
       "3. 'location'\n",
       "4. 'lat'\n",
       "5. 'lng'\n",
       "6. 'district'\n",
       "7. 'age'\n",
       "8. 'race'\n",
       "9. 'gender'\n",
       "10. 'arrested'\n",
       "11. 'contraband_found'\n",
       "12. 'searched'\n",
       "13. 'reason_for_stop'\n",
       "\n",
       "\n"
      ],
      "text/plain": [
       " [1] \"date\"             \"time\"             \"location\"         \"lat\"             \n",
       " [5] \"lng\"              \"district\"         \"age\"              \"race\"            \n",
       " [9] \"gender\"           \"arrested\"         \"contraband_found\" \"searched\"        \n",
       "[13] \"reason_for_stop\" "
      ]
     },
     "metadata": {},
     "output_type": "display_data"
    }
   ],
   "source": [
    "# Find the column names in `stops`\n",
    "# START\n",
    "colnames(stops)\n",
    "# END"
   ]
  },
  {
   "cell_type": "markdown",
   "metadata": {},
   "source": [
    "Now, if we want to take a peak at our dataframe without printing the whole 900,000 x 13 table, we can use the functions `head()` or `tail()` to see the first few or last few rows."
   ]
  },
  {
   "cell_type": "code",
   "execution_count": 6,
   "metadata": {},
   "outputs": [
    {
     "data": {
      "text/html": [
       "<table>\n",
       "<thead><tr><th scope=col>date</th><th scope=col>time</th><th scope=col>location</th><th scope=col>lat</th><th scope=col>lng</th><th scope=col>district</th><th scope=col>age</th><th scope=col>race</th><th scope=col>gender</th><th scope=col>arrested</th><th scope=col>contraband_found</th><th scope=col>searched</th><th scope=col>reason_for_stop</th></tr></thead>\n",
       "<tbody>\n",
       "\t<tr><td>2007-01-01                                                          </td><td>10:00:00                                                            </td><td><span style=white-space:pre-wrap>26TH &amp; MINNESOTA        </span></td><td>37.8                                                                </td><td>-122                                                                </td><td>C                                                                   </td><td>56                                                                  </td><td><span style=white-space:pre-wrap>white                 </span>      </td><td><span style=white-space:pre-wrap>male  </span>                      </td><td>FALSE                                                               </td><td>NA                                                                  </td><td>FALSE                                                               </td><td>Mechanical or Non-Moving Violation (V.C.)                           </td></tr>\n",
       "\t<tr><td>2007-01-01                                                                       </td><td>10:17:00                                                                         </td><td>EMBARCADERO &amp; HOWARDA ON                                                     </td><td>37.8                                                                             </td><td>-122                                                                             </td><td>B                                                                                </td><td>32                                                                               </td><td><span style=white-space:pre-wrap>white                 </span>                   </td><td><span style=white-space:pre-wrap>male  </span>                                   </td><td>FALSE                                                                            </td><td>NA                                                                               </td><td>FALSE                                                                            </td><td><span style=white-space:pre-wrap>Moving Violation                         </span></td></tr>\n",
       "\t<tr><td>2007-01-01                               </td><td>10:25:00                                 </td><td>1700 JUDAH                               </td><td>37.8                                     </td><td>-122                                     </td><td>I                                        </td><td>57                                       </td><td>asian/pacific islander                   </td><td>female                                   </td><td>FALSE                                    </td><td>NA                                       </td><td>FALSE                                    </td><td>Moving Violation                         </td></tr>\n",
       "\t<tr><td>2007-01-01                               </td><td>10:28:00                                 </td><td>COLUMBUS/VALLEJO                         </td><td>37.8                                     </td><td>-122                                     </td><td>A                                        </td><td>31                                       </td><td>hispanic                                 </td><td>male                                     </td><td>FALSE                                    </td><td>NA                                       </td><td>FALSE                                    </td><td>Moving Violation                         </td></tr>\n",
       "\t<tr><td>2007-01-01                                                                       </td><td>10:35:00                                                                         </td><td><span style=white-space:pre-wrap>FOLSOM &amp; MOSS           </span>             </td><td>37.8                                                                             </td><td>-122                                                                             </td><td>J                                                                                </td><td>37                                                                               </td><td><span style=white-space:pre-wrap>hispanic              </span>                   </td><td>female                                                                           </td><td>FALSE                                                                            </td><td>NA                                                                               </td><td>FALSE                                                                            </td><td><span style=white-space:pre-wrap>Moving Violation                         </span></td></tr>\n",
       "\t<tr><td>2007-01-01                               </td><td>10:40:00                                 </td><td>WASHINGTON/VAN NESS                      </td><td>37.8                                     </td><td>-122                                     </td><td>E                                        </td><td>39                                       </td><td>asian/pacific islander                   </td><td>female                                   </td><td>FALSE                                    </td><td>NA                                       </td><td>FALSE                                    </td><td>Moving Violation                         </td></tr>\n",
       "</tbody>\n",
       "</table>\n"
      ],
      "text/latex": [
       "\\begin{tabular}{r|lllllllllllll}\n",
       " date & time & location & lat & lng & district & age & race & gender & arrested & contraband\\_found & searched & reason\\_for\\_stop\\\\\n",
       "\\hline\n",
       "\t 2007-01-01                                & 10:00:00                                  & 26TH \\& MINNESOTA                        & 37.8                                      & -122                                      & C                                         & 56                                        & white                                     & male                                      & FALSE                                     & NA                                        & FALSE                                     & Mechanical or Non-Moving Violation (V.C.)\\\\\n",
       "\t 2007-01-01                                & 10:17:00                                  & EMBARCADERO \\& HOWARDA ON                & 37.8                                      & -122                                      & B                                         & 32                                        & white                                     & male                                      & FALSE                                     & NA                                        & FALSE                                     & Moving Violation                         \\\\\n",
       "\t 2007-01-01                                & 10:25:00                                  & 1700 JUDAH                                & 37.8                                      & -122                                      & I                                         & 57                                        & asian/pacific islander                    & female                                    & FALSE                                     & NA                                        & FALSE                                     & Moving Violation                         \\\\\n",
       "\t 2007-01-01                                & 10:28:00                                  & COLUMBUS/VALLEJO                          & 37.8                                      & -122                                      & A                                         & 31                                        & hispanic                                  & male                                      & FALSE                                     & NA                                        & FALSE                                     & Moving Violation                         \\\\\n",
       "\t 2007-01-01                                & 10:35:00                                  & FOLSOM \\& MOSS                           & 37.8                                      & -122                                      & J                                         & 37                                        & hispanic                                  & female                                    & FALSE                                     & NA                                        & FALSE                                     & Moving Violation                         \\\\\n",
       "\t 2007-01-01                                & 10:40:00                                  & WASHINGTON/VAN NESS                       & 37.8                                      & -122                                      & E                                         & 39                                        & asian/pacific islander                    & female                                    & FALSE                                     & NA                                        & FALSE                                     & Moving Violation                         \\\\\n",
       "\\end{tabular}\n"
      ],
      "text/plain": [
       "  date       time     location                 lat  lng  district age\n",
       "1 2007-01-01 10:00:00 26TH & MINNESOTA         37.8 -122 C        56 \n",
       "2 2007-01-01 10:17:00 EMBARCADERO & HOWARDA ON 37.8 -122 B        32 \n",
       "3 2007-01-01 10:25:00 1700 JUDAH               37.8 -122 I        57 \n",
       "4 2007-01-01 10:28:00 COLUMBUS/VALLEJO         37.8 -122 A        31 \n",
       "5 2007-01-01 10:35:00 FOLSOM & MOSS            37.8 -122 J        37 \n",
       "6 2007-01-01 10:40:00 WASHINGTON/VAN NESS      37.8 -122 E        39 \n",
       "  race                   gender arrested contraband_found searched\n",
       "1 white                  male   FALSE    NA               FALSE   \n",
       "2 white                  male   FALSE    NA               FALSE   \n",
       "3 asian/pacific islander female FALSE    NA               FALSE   \n",
       "4 hispanic               male   FALSE    NA               FALSE   \n",
       "5 hispanic               female FALSE    NA               FALSE   \n",
       "6 asian/pacific islander female FALSE    NA               FALSE   \n",
       "  reason_for_stop                          \n",
       "1 Mechanical or Non-Moving Violation (V.C.)\n",
       "2 Moving Violation                         \n",
       "3 Moving Violation                         \n",
       "4 Moving Violation                         \n",
       "5 Moving Violation                         \n",
       "6 Moving Violation                         "
      ]
     },
     "metadata": {},
     "output_type": "display_data"
    }
   ],
   "source": [
    "head(stops)"
   ]
  },
  {
   "cell_type": "markdown",
   "metadata": {},
   "source": [
    "**Pro-tip:** If you're ever confused about a function and want to know more about it, what it does, how to use it, etc., every function has \"documentation\" to help! To know more about the `head()` function, simply run a code chunk with `?head`. It provides way more information than you might want or need -- but if you scroll down to the \"Examples\" section, those usually help!"
   ]
  },
  {
   "cell_type": "markdown",
   "metadata": {},
   "source": [
    "## Exercise 1: Stop dates\n",
    "\n",
    "For this first exercise, let's get a better sense of what time range our `stops` data covers. To do this, we'll be dealing with the `date` column in our dataframe. \n",
    "\n",
    "1. What happens when you run `stops$date`? How about `pull(stops, date)`? What do `$` and `pull()` do?\n",
    "\n",
    "2. What date range does our dataset cover? (Hint: Try exploring the `min()` and `max()` functions, or the `range()` function!)"
   ]
  },
  {
   "cell_type": "code",
   "execution_count": 7,
   "metadata": {},
   "outputs": [
    {
     "data": {
      "text/plain": [
       "[1] \"2007-01-01\" \"2016-06-30\""
      ]
     },
     "metadata": {},
     "output_type": "display_data"
    }
   ],
   "source": [
    "## EXERCISE 1: YOUR CODE HERE\n",
    "# START\n",
    "# 1. \n",
    "# We get a list of the date each stop occurred on. \n",
    "# Both methods ($ and pull) do the same thing, they\n",
    "# extract the column `date` from the df.\n",
    "\n",
    "# 2. \n",
    "range(stops$date)\n",
    "# END"
   ]
  },
  {
   "cell_type": "markdown",
   "metadata": {},
   "source": [
    "Take a look at the two versions of the code below. They do the same thing. See if you can understand what's going on in the second one -- what does `%>%` seem to be doing?"
   ]
  },
  {
   "cell_type": "code",
   "execution_count": 8,
   "metadata": {},
   "outputs": [
    {
     "data": {
      "text/plain": [
       "[1] \"2007-01-01\" \"2016-06-30\""
      ]
     },
     "metadata": {},
     "output_type": "display_data"
    },
    {
     "data": {
      "text/plain": [
       "[1] \"2007-01-01\" \"2016-06-30\""
      ]
     },
     "metadata": {},
     "output_type": "display_data"
    }
   ],
   "source": [
    "# Confirm that these give the same answer:\n",
    "\n",
    "# Method 1: nested\n",
    "range(pull(stops, date))\n",
    "\n",
    "# Method 2: multi-line\n",
    "stops %>% \n",
    "    pull(date) %>% \n",
    "    range()\n"
   ]
  },
  {
   "cell_type": "markdown",
   "metadata": {},
   "source": [
    "**tidyverse tip**: The second method uses a funky symbol, `%>%` called the \"pipe\", which is the crux of the tidyverse. The pipe helps to keep our code clean. It allows us to read top-down rather than inside-out (which is what method 1 above requires of us). Each line simply applies to the result of the previous line:\n",
    "* We start with `stops`,\n",
    "* then we apply `pull(date)` to the above (stops), getting us a list of dates,\n",
    "* then we apply `range()` to the above (a list of dates).\n",
    "\n",
    "More formally, the pipe operator\n",
    "just places the previous item into the first argument of the function. So,\n",
    "`x %>% f()` is simply `f(x)`. While in a one-function call the pipe might feel\n",
    "silly and unnecessary, it's going to become _really_ helpful once we start\n",
    "wanting to do multiple transformations to our data. "
   ]
  },
  {
   "cell_type": "markdown",
   "metadata": {},
   "source": [
    "## Preparing our data\n",
    "\n",
    "For some of our analysis, we'll want to focus on the most recent full year: 2015.\n",
    "\n",
    "To do this we'll want to use the _year_ of each stop, but _year_ isn't currently a column in our dataset. Let's add it!"
   ]
  },
  {
   "cell_type": "markdown",
   "metadata": {},
   "source": [
    "**tidyverse function: `mutate()`**\n",
    "\n",
    "We can use the `mutate()` function to fix add a `yr` column to `stops`.\n",
    "The `mutate()` function adds new columns to a dataframe based on old columns.\n",
    "The basic setup is `mutate(DATA, NEW_COL = FUN(OLD_COL))` where \n",
    "* `DATA` is our\n",
    "dataframe, \n",
    "* `NEW_COL` is the name of the new column we want, and \n",
    "* `FUN` is the function we apply to the old column, `OLD_COL`, to get it.\n",
    "\n",
    "### You try!\n",
    "\n",
    "In the space below:\n",
    "\n",
    "1. use the `year()` and `mutate()` functions to add a new column called `yr` to our `stops` dataframe, and\n",
    "2. use the assignment operator `<-` (it's like = in `R`) to create a new variable, `stops_w_yr`."
   ]
  },
  {
   "cell_type": "code",
   "execution_count": null,
   "metadata": {},
   "outputs": [],
   "source": [
    "# Add a yr column to `stops`\n",
    "# START\n",
    "stops_w_yr <- stops %>% mutate(yr = year(date))\n",
    "# END"
   ]
  },
  {
   "cell_type": "markdown",
   "metadata": {},
   "source": [
    "**Note:** When we write code chunks and _don't_ save our result using `<-`, that result does not overwrite or in any way change the data. To change the data, we need to use the process above, creating a new variable, or we could overwrite the original dataframe (`stops <- stops %>% ...` -- but be careful, because you could accidentally overwrite the dataframe with something you didn't expect!)"
   ]
  },
  {
   "cell_type": "markdown",
   "metadata": {},
   "source": [
    "Now, we can investigate this new `yr` column in a few ways. \n",
    "1. We can check it's acutally there by looking at `colnames(stops_w_yr)`.\n",
    "2. We can compute the range of years using `range(stops_w_yr$yr)`.\n",
    "3. We can count the number of stops per year: `stops_w_yr %>% count(yr)`. \n",
    "\n",
    "### You try\n",
    "\n",
    "Play around with these! Make sure to try the last one."
   ]
  },
  {
   "cell_type": "code",
   "execution_count": null,
   "metadata": {},
   "outputs": [
    {
     "data": {
      "text/html": [
       "<table>\n",
       "<thead><tr><th scope=col>yr</th><th scope=col>n</th></tr></thead>\n",
       "<tbody>\n",
       "\t<tr><td>2007  </td><td>102131</td></tr>\n",
       "\t<tr><td>2008  </td><td>113099</td></tr>\n",
       "\t<tr><td>2009  </td><td>110269</td></tr>\n",
       "\t<tr><td>2010  </td><td>104254</td></tr>\n",
       "\t<tr><td>2011  </td><td> 99476</td></tr>\n",
       "\t<tr><td>2012  </td><td> 82362</td></tr>\n",
       "\t<tr><td>2013  </td><td> 74144</td></tr>\n",
       "\t<tr><td>2014  </td><td> 39752</td></tr>\n",
       "\t<tr><td>2015  </td><td> 85689</td></tr>\n",
       "\t<tr><td>2016  </td><td> 40215</td></tr>\n",
       "</tbody>\n",
       "</table>\n"
      ],
      "text/latex": [
       "\\begin{tabular}{r|ll}\n",
       " yr & n\\\\\n",
       "\\hline\n",
       "\t 2007   & 102131\\\\\n",
       "\t 2008   & 113099\\\\\n",
       "\t 2009   & 110269\\\\\n",
       "\t 2010   & 104254\\\\\n",
       "\t 2011   &  99476\\\\\n",
       "\t 2012   &  82362\\\\\n",
       "\t 2013   &  74144\\\\\n",
       "\t 2014   &  39752\\\\\n",
       "\t 2015   &  85689\\\\\n",
       "\t 2016   &  40215\\\\\n",
       "\\end{tabular}\n"
      ],
      "text/plain": [
       "   yr   n     \n",
       "1  2007 102131\n",
       "2  2008 113099\n",
       "3  2009 110269\n",
       "4  2010 104254\n",
       "5  2011  99476\n",
       "6  2012  82362\n",
       "7  2013  74144\n",
       "8  2014  39752\n",
       "9  2015  85689\n",
       "10 2016  40215"
      ]
     },
     "metadata": {},
     "output_type": "display_data"
    }
   ],
   "source": [
    "# Investigate your new `yr` column. \n",
    "# Make sure to try counting the number of stops per year!\n",
    "# START\n",
    "stops_w_yr %>%\n",
    "    count(yr)\n",
    "# END"
   ]
  },
  {
   "cell_type": "markdown",
   "metadata": {},
   "source": [
    "### Discuss\n",
    "\n",
    "What do you notice about stop counts over the years?\n",
    "\n",
    "### Back to data prep\n",
    "\n",
    "Now let's get back to prepping our data. To get to our desired date range of the most recent full year (2015), we will \n",
    "1. Use the `filter()` function to specify the years we want, and \n",
    "2. Again use the assignment operator `<-` (it's like = in `R`) to create a new variable, `stops_2015`."
   ]
  },
  {
   "cell_type": "markdown",
   "metadata": {},
   "source": [
    "**tidyverse function: `filter()`**\n",
    "\n",
    "* The `filter()` function is used to separate rows from the dataframe that\n",
    "interest us from rows that do not. \n",
    "* In particular, `filter(DATA, CONDITION)`\n",
    "returns `DATA` with all of the rows that satisfy `CONDITION` removed. \n",
    "* For\n",
    "instance, we might want to only look at stops from 2015. To do this, we would type `stops %>% filter(yr == 2015)`, since we only want\n",
    "rows from `stops` where the `yr` column is (i.e., `==`) `2015`. \n",
    "* We can also filter on multiple conditions, just separating each condition with a comma. So, for example, if we wanted all stops between 2011 and 2015, we would write `stops %>% filter(yr >= 2011, yr <=2015)`.\n",
    "\n",
    "### Your turn\n",
    "\n",
    "Create a new variable, `stops_2015` that is our stops dataframe filtered to just those that happened in the year (`yr`) 2015. "
   ]
  },
  {
   "cell_type": "code",
   "execution_count": null,
   "metadata": {},
   "outputs": [],
   "source": [
    "# Use the filter function to get just stops from 2015\n",
    "# START\n",
    "stops_2015 <- \n",
    "    stops_w_yr %>%\n",
    "    filter(yr == 2015)\n",
    "# END"
   ]
  },
  {
   "cell_type": "markdown",
   "metadata": {},
   "source": [
    "Just to be extra sure, let's check our date range in this new dataframe, `stops_2015`!"
   ]
  },
  {
   "cell_type": "code",
   "execution_count": null,
   "metadata": {},
   "outputs": [
    {
     "data": {
      "text/plain": [
       "[1] \"2015-01-01\" \"2015-12-31\""
      ]
     },
     "metadata": {},
     "output_type": "display_data"
    }
   ],
   "source": [
    "# What date range does stops_2015 cover?\n",
    "# START\n",
    "stops_2015$date %>% range()\n",
    "# END"
   ]
  },
  {
   "cell_type": "markdown",
   "metadata": {},
   "source": [
    "## Exercise 2: Stops by race group\n",
    "\n",
    "For this second exercise, let's compute the racial breakdown of traffic stops. To do this, we'll need two functions that we've already seen: `count()` and `mutate()`.\n",
    "\n",
    "1. Count how many stops per race group our `stops_2015` dataset has, saving your result to a new dataframe: `stops_by_race`. \n",
    "\n",
    "2. Describe in words what we'd need to do to find the proportion of stops that were of white drivers.\n",
    "\n",
    "3. To do the above computation for each race group, we can add additional column to `stops_by_race` using the `mutate()` function. Overwrite `stops_by_race`, adding a new column `p` with the proportion of stops that were made of drivers of each race group.\n",
    "\n",
    "4. Discuss: What do these proportions mean? Are drivers of certain race groups being stopped more than others? What might we be missing to really start interpreting these values?"
   ]
  },
  {
   "cell_type": "code",
   "execution_count": 13,
   "metadata": {},
   "outputs": [
    {
     "data": {
      "text/html": [
       "<table>\n",
       "<thead><tr><th scope=col>race</th><th scope=col>n</th><th scope=col>p</th></tr></thead>\n",
       "<tbody>\n",
       "\t<tr><td>asian/pacific islander</td><td>15498                 </td><td>0.181                 </td></tr>\n",
       "\t<tr><td>black                 </td><td>14955                 </td><td>0.175                 </td></tr>\n",
       "\t<tr><td>hispanic              </td><td>11911                 </td><td>0.139                 </td></tr>\n",
       "\t<tr><td>other                 </td><td>13560                 </td><td>0.158                 </td></tr>\n",
       "\t<tr><td>white                 </td><td>29765                 </td><td>0.347                 </td></tr>\n",
       "</tbody>\n",
       "</table>\n"
      ],
      "text/latex": [
       "\\begin{tabular}{r|lll}\n",
       " race & n & p\\\\\n",
       "\\hline\n",
       "\t asian/pacific islander & 15498                  & 0.181                 \\\\\n",
       "\t black                  & 14955                  & 0.175                 \\\\\n",
       "\t hispanic               & 11911                  & 0.139                 \\\\\n",
       "\t other                  & 13560                  & 0.158                 \\\\\n",
       "\t white                  & 29765                  & 0.347                 \\\\\n",
       "\\end{tabular}\n"
      ],
      "text/plain": [
       "  race                   n     p    \n",
       "1 asian/pacific islander 15498 0.181\n",
       "2 black                  14955 0.175\n",
       "3 hispanic               11911 0.139\n",
       "4 other                  13560 0.158\n",
       "5 white                  29765 0.347"
      ]
     },
     "metadata": {},
     "output_type": "display_data"
    }
   ],
   "source": [
    "# EXERCISE 2: YOUR CODE HERE\n",
    "# START\n",
    "# 1. \n",
    "stops_by_race <- stops_2015 %>% count(race)\n",
    "# 2.\n",
    "# Divide each count (num stops by race) by the total (num overall stops)\n",
    "# 3. \n",
    "stops_by_race <- stops_by_race %>% mutate(p = n / sum(n))\n",
    "# 4. \n",
    "stops_by_race\n",
    "# This means 35% of stops were of white drivers, 18% of black drivers\n",
    "# 18% Aisan, 14% Hispanic, etc. \n",
    "# It seems like the biggest race group being stopped are white drivers.\n",
    "# But, i know that SF has a pretty large white population -- probably\n",
    "# more than 35% of SF is white...so maybe they're actually \n",
    "# underrepresented in stops? We'd need to know the population to be \n",
    "# able to answer this question of whether some race groups are being \n",
    "# stopped disproportionately.\n",
    "# We see white drivers make up about one-third of stops, and drivers \n",
    "# of each other race represent 14-18%. The by-race stop counts are \n",
    "# only meaningful, though, when compared to some baseline. If the \n",
    "# San Francisco population was about one-third white, one-third \n",
    "# percent of stops being of white drivers wouldn't be at all \n",
    "# surprising. But if 75% of the SF population is white, then our \n",
    "# findings might be more suspicious!\n",
    "# END"
   ]
  },
  {
   "cell_type": "markdown",
   "metadata": {},
   "source": [
    "## Stop rates\n",
    "\n",
    "In order to do this baseline comparison, we need to understand the racial\n",
    "demographics in our SF population data. (Note: This is why we wanted just one full year: comparing the number of stops in a year to the population from that year.) The data as we've given it to you\n",
    "has raw population numbers from 2015. To make it useful, we'll need to compute the\n",
    "_proportion_ of SF residents in each demographic group. As before, we do this using the `mutate()` function.\n",
    "\n",
    "### You try\n",
    "\n",
    "* Take a look at `pop_2015`, then\n",
    "* mutate `pop_2015`, adding a column `p` that shows us what proportion of the population is white, black, Hispanic, Asian, and other."
   ]
  },
  {
   "cell_type": "code",
   "execution_count": 14,
   "metadata": {},
   "outputs": [
    {
     "data": {
      "text/html": [
       "<table>\n",
       "<thead><tr><th scope=col>race</th><th scope=col>n_people</th><th scope=col>p</th></tr></thead>\n",
       "<tbody>\n",
       "\t<tr><td>white                 </td><td>346732                </td><td>0.4124                </td></tr>\n",
       "\t<tr><td>black                 </td><td> 44879                </td><td>0.0534                </td></tr>\n",
       "\t<tr><td>hispanic              </td><td>128619                </td><td>0.1530                </td></tr>\n",
       "\t<tr><td>asian/pacific islander</td><td>285266                </td><td>0.3393                </td></tr>\n",
       "\t<tr><td>other                 </td><td> 35267                </td><td>0.0419                </td></tr>\n",
       "</tbody>\n",
       "</table>\n"
      ],
      "text/latex": [
       "\\begin{tabular}{r|lll}\n",
       " race & n\\_people & p\\\\\n",
       "\\hline\n",
       "\t white                  & 346732                 & 0.4124                \\\\\n",
       "\t black                  &  44879                 & 0.0534                \\\\\n",
       "\t hispanic               & 128619                 & 0.1530                \\\\\n",
       "\t asian/pacific islander & 285266                 & 0.3393                \\\\\n",
       "\t other                  &  35267                 & 0.0419                \\\\\n",
       "\\end{tabular}\n"
      ],
      "text/plain": [
       "  race                   n_people p     \n",
       "1 white                  346732   0.4124\n",
       "2 black                   44879   0.0534\n",
       "3 hispanic               128619   0.1530\n",
       "4 asian/pacific islander 285266   0.3393\n",
       "5 other                   35267   0.0419"
      ]
     },
     "metadata": {},
     "output_type": "display_data"
    }
   ],
   "source": [
    "# Find the racial breakdown of SF's 2015 population\n",
    "# START\n",
    "pop_2015 %>%\n",
    "    mutate(p = n_people / (sum(n_people)))\n",
    "# END"
   ]
  },
  {
   "cell_type": "markdown",
   "metadata": {},
   "source": [
    "### Discuss\n",
    "\n",
    "What do the population proportions tell you about the stop proportions we computed before?\n",
    "\n",
    "\n",
    "### Adding rigor\n",
    "\n",
    "We can tell a lot just by eyeballing these two sets of proportions. But let's be a bit more\n",
    "rigorous about this. If we merge the two tables together, we can compute stop \n",
    "rates by race group (i.e., number of stops per person). "
   ]
  },
  {
   "cell_type": "markdown",
   "metadata": {},
   "source": [
    "**R function: `merge()`**\n",
    "\n",
    "One way to put tables together is with the `merge()` function. We need to\n",
    "input three things into this function: \n",
    " 1. our main table\n",
    " 2. the second table we'd like to merge with the first table, and\n",
    " 3. instructions on how to merge them. \n",
    "\n",
    "In this case, the two tables we\n",
    "want to merge are \n",
    " 1. the table of stops counted according to `race`, and\n",
    " 2. the table of population by race: `pop_2015`. \n",
    " \n",
    "The instruction for combining the tables is \n",
    " 3. to merge rows that give information about the same race groups.\n",
    "\n",
    "To implement 3., we give `merge()` the argument `by =\n",
    "\"race\"`. This means that `merge()` will \n",
    " * look at the first table---\n",
    "i.e., the table stops counted by race---and go to the `race` column\n",
    "in each row.\n",
    " * Then, `merge()` will take what it finds there---in this case,\n",
    "`\"asian/pacific islander\"`, `\"black\"`, `\"hispanic\"`, `\"other/unknown\"`, and\n",
    "`\"white\"`---and look in the second table, i.e., `pop_2015`, for all the\n",
    "rows that contain the same information in `pop_2015`'s race column.\n",
    " * Finally,\n",
    "it will add the second row at the end of the first to create a new row with\n",
    "information from both. \n",
    "\n",
    "What we end up with is a dataframe with all of the\n",
    "columns from _both_ tables.\n",
    "\n",
    "The process is a little complicated, and we won't use it too much, so don't\n",
    "worry if the abstract description doesn't make sense. To get a better\n",
    "understanding of what's going on, try merging the two tables described above,\n",
    "being sure to include the `by = \"race\"` argument.\n"
   ]
  },
  {
   "cell_type": "markdown",
   "metadata": {},
   "source": [
    "## Exercise 3: computing stop rates by race group\n",
    "\n",
    "1. First, merge together `stops_by_race` and `pop_2015` by \"race\", using the `merge()` function. Name your result `stops_and_pop_by_race`.\n",
    "2. Add a column `stop_rate` to `stops_and_pop_by_race`, that is simply the number of stops divided by the number of people. (Hint: the `mutate()` function will be helpful!)\n",
    "3. Now we can divide the black (or Asian, or Hispanic, or \"other\") stop rate by the white stop rate to be able to make \n",
    "a quantitative statement about how much more often black drivers are stopped compared to white drivers, relative to their share of the city's population. Using `R` as a calculator, do this!\n",
    "4. Discuss your results."
   ]
  },
  {
   "cell_type": "code",
   "execution_count": null,
   "metadata": {},
   "outputs": [
    {
     "data": {
      "text/html": [
       "<table>\n",
       "<thead><tr><th scope=col>race</th><th scope=col>n</th><th scope=col>p</th><th scope=col>n_people</th><th scope=col>stop_rate</th></tr></thead>\n",
       "<tbody>\n",
       "\t<tr><td>asian/pacific islander</td><td>15498                 </td><td>0.181                 </td><td>285266                </td><td>0.0543                </td></tr>\n",
       "\t<tr><td>black                 </td><td>14955                 </td><td>0.175                 </td><td> 44879                </td><td>0.3332                </td></tr>\n",
       "\t<tr><td>hispanic              </td><td>11911                 </td><td>0.139                 </td><td>128619                </td><td>0.0926                </td></tr>\n",
       "\t<tr><td>other                 </td><td>13560                 </td><td>0.158                 </td><td> 35267                </td><td>0.3845                </td></tr>\n",
       "\t<tr><td>white                 </td><td>29765                 </td><td>0.347                 </td><td>346732                </td><td>0.0858                </td></tr>\n",
       "</tbody>\n",
       "</table>\n"
      ],
      "text/latex": [
       "\\begin{tabular}{r|lllll}\n",
       " race & n & p & n\\_people & stop\\_rate\\\\\n",
       "\\hline\n",
       "\t asian/pacific islander & 15498                  & 0.181                  & 285266                 & 0.0543                \\\\\n",
       "\t black                  & 14955                  & 0.175                  &  44879                 & 0.3332                \\\\\n",
       "\t hispanic               & 11911                  & 0.139                  & 128619                 & 0.0926                \\\\\n",
       "\t other                  & 13560                  & 0.158                  &  35267                 & 0.3845                \\\\\n",
       "\t white                  & 29765                  & 0.347                  & 346732                 & 0.0858                \\\\\n",
       "\\end{tabular}\n"
      ],
      "text/plain": [
       "  race                   n     p     n_people stop_rate\n",
       "1 asian/pacific islander 15498 0.181 285266   0.0543   \n",
       "2 black                  14955 0.175  44879   0.3332   \n",
       "3 hispanic               11911 0.139 128619   0.0926   \n",
       "4 other                  13560 0.158  35267   0.3845   \n",
       "5 white                  29765 0.347 346732   0.0858   "
      ]
     },
     "metadata": {},
     "output_type": "display_data"
    },
    {
     "name": "stdout",
     "output_type": "stream",
     "text": [
      "[1] 3.88\n",
      "[1] 1.08\n",
      "[1] 0.633\n",
      "[1] 4.48\n"
     ]
    }
   ],
   "source": [
    "# EXERCISE 3: YOUR CODE HERE\n",
    "# START\n",
    "# 1.\n",
    "stops_and_pop_by_race <- \n",
    "    merge(\n",
    "        stops_by_race,\n",
    "        pop_2015, \n",
    "        by = \"race\"\n",
    "    )\n",
    "# 2. \n",
    "stop_rates <- \n",
    "    stops_and_pop_by_race %>%\n",
    "    mutate(stop_rate = n / n_people)\n",
    "# 3. \n",
    "stop_rates\n",
    "# black-white stop rate ratio:\n",
    "print(0.3332/0.0858)\n",
    "# Hispanic-white stop rate ratio:\n",
    "print(0.0926/0.0858)\n",
    "# Asian-white stop rate ratio:\n",
    "print(0.0543/0.0858)\n",
    "# other-white stop rate ratio:\n",
    "print(0.3845/0.0858)\n",
    "# END"
   ]
  },
  {
   "cell_type": "markdown",
   "metadata": {},
   "source": [
    "### Thought exercise: where stop rates fall short\n",
    "\n",
    "While these baseline stats give us a sense that there are racial disparities in\n",
    "policing practices in SF, they are not strong evidence of discrimination. The\n",
    "argument against using stop rates (often called \"benchmarking\" or the \"benchmark test\") is that we haven't identified the correct\n",
    "baseline to compare to. \n",
    "* Why isn't population the best thing to compare to (i.e., the best denominator of our stop rate)?\n",
    "* What would the ideal denominator of our stop rate be?\n",
    "* What other baselines (denominators) could we use? Are any of these ideal?"
   ]
  },
  {
   "cell_type": "code",
   "execution_count": 16,
   "metadata": {},
   "outputs": [],
   "source": [
    "# Your thoughts here (or just discuss)\n",
    "# START\n",
    "# For the stop rate denominator, what we really want to know is what \n",
    "# the true distribution is for individuals breaking traffic laws or \n",
    "# exhibiting other criminal behavior in their vehicles. But using \n",
    "# SF residential population doesn't account for commuting \n",
    "# populations, or possible race-specific differences in driving \n",
    "# behavior,including amount of time spent on the road (and \n",
    "# adherence to traffic laws, as mentioned above).  If black \n",
    "# drivers, hypothetically, spend more time on the road than white \n",
    "# drivers, that in and of itself could explain the higher stop\n",
    "# rates we see for black drivers, even in the absence of \n",
    "# discrimination.\n",
    "# We could try using violation rates as a baseline, but those can \n",
    "# be racially skewed by the vary systems we're trying to evaluate! \n",
    "# We can try something that's less racially skewed, like violent\n",
    "# crime rates, but violent crime rates have very little to do with\n",
    "# traffic infractions! We really don't have any ideal baseline here. \n",
    "# END "
   ]
  },
  {
   "cell_type": "markdown",
   "metadata": {},
   "source": [
    "## Searches\n",
    "\n",
    "Let's next consider how often drivers of different race groups were searched. Computing search rates is actually easier than stop rates because we don't need an external population benchmark.\n",
    "We can use the stopped population as our baseline, defining search rate to be the proportion of stopped people who were subsequently searched. "
   ]
  },
  {
   "cell_type": "markdown",
   "metadata": {},
   "source": [
    "**tidyverse functions: `group_by()` and `summarize()`**\n",
    "\n",
    "One thing that we often want to do with data is disaggregate it. That is, we\n",
    "might want to take the data and break it down into smaller subpopulations. Then,\n",
    "when we ask questions, we can ask about each piece---for instance, each\n",
    "demographic group, or each police district---instead of asking about the population as a whole.\n",
    "\n",
    "The way to do this in `R` is with `group_by()` and `summarize()`. The standard way\n",
    "to use `group_by()` is to call `group_by(DATA, COL_NAME)`, where \n",
    "* `DATA` is our dataframe and \n",
    "* `COL_NAME` is the name of a column. \n",
    "What `group_by()` then does is\n",
    "take all the rows in the dataframe `DATA` and put them into different groups,\n",
    "one for each different value in the column `COL_NAME`. So, for instance, if we\n",
    "called `group_by(stops_w_yr, district)`, `R` would hand back to us the `stops_w_yr`\n",
    "dataframe with all of its columns broken into different groups, one for each\n",
    "police district. (Note: At this stage, the dataframe doesn't _look_ any different to the human eye, since the groupings are happening behind the scenes.)\n",
    "\n",
    "Try it below!"
   ]
  },
  {
   "cell_type": "code",
   "execution_count": 17,
   "metadata": {},
   "outputs": [
    {
     "data": {
      "text/html": [
       "<table>\n",
       "<thead><tr><th scope=col>date</th><th scope=col>time</th><th scope=col>location</th><th scope=col>lat</th><th scope=col>lng</th><th scope=col>district</th><th scope=col>age</th><th scope=col>race</th><th scope=col>gender</th><th scope=col>arrested</th><th scope=col>contraband_found</th><th scope=col>searched</th><th scope=col>reason_for_stop</th><th scope=col>yr</th></tr></thead>\n",
       "<tbody>\n",
       "\t<tr><td>2007-01-01                                                          </td><td>10:00:00                                                            </td><td><span style=white-space:pre-wrap>26TH &amp; MINNESOTA        </span></td><td>37.8                                                                </td><td>-122                                                                </td><td>C                                                                   </td><td>56                                                                  </td><td><span style=white-space:pre-wrap>white                 </span>      </td><td><span style=white-space:pre-wrap>male  </span>                      </td><td>FALSE                                                               </td><td><span style=white-space:pre-wrap>   NA</span>                       </td><td>FALSE                                                               </td><td>Mechanical or Non-Moving Violation (V.C.)                           </td><td>2007                                                                </td></tr>\n",
       "\t<tr><td>2007-01-01                                                                       </td><td>10:17:00                                                                         </td><td>EMBARCADERO &amp; HOWARDA ON                                                     </td><td>37.8                                                                             </td><td>-122                                                                             </td><td>B                                                                                </td><td>32                                                                               </td><td><span style=white-space:pre-wrap>white                 </span>                   </td><td><span style=white-space:pre-wrap>male  </span>                                   </td><td>FALSE                                                                            </td><td><span style=white-space:pre-wrap>   NA</span>                                    </td><td>FALSE                                                                            </td><td><span style=white-space:pre-wrap>Moving Violation                         </span></td><td>2007                                                                             </td></tr>\n",
       "\t<tr><td>2007-01-01                               </td><td>10:25:00                                 </td><td>1700 JUDAH                               </td><td>37.8                                     </td><td>-122                                     </td><td>I                                        </td><td>57                                       </td><td>asian/pacific islander                   </td><td>female                                   </td><td>FALSE                                    </td><td>   NA                                    </td><td>FALSE                                    </td><td>Moving Violation                         </td><td>2007                                     </td></tr>\n",
       "\t<tr><td>2007-01-01                               </td><td>10:28:00                                 </td><td>COLUMBUS/VALLEJO                         </td><td>37.8                                     </td><td>-122                                     </td><td>A                                        </td><td>31                                       </td><td>hispanic                                 </td><td>male                                     </td><td>FALSE                                    </td><td>   NA                                    </td><td>FALSE                                    </td><td>Moving Violation                         </td><td>2007                                     </td></tr>\n",
       "\t<tr><td>2007-01-01                                                                       </td><td>10:35:00                                                                         </td><td><span style=white-space:pre-wrap>FOLSOM &amp; MOSS           </span>             </td><td>37.8                                                                             </td><td>-122                                                                             </td><td>J                                                                                </td><td>37                                                                               </td><td><span style=white-space:pre-wrap>hispanic              </span>                   </td><td>female                                                                           </td><td>FALSE                                                                            </td><td><span style=white-space:pre-wrap>   NA</span>                                    </td><td>FALSE                                                                            </td><td><span style=white-space:pre-wrap>Moving Violation                         </span></td><td>2007                                                                             </td></tr>\n",
       "\t<tr><td>2007-01-01                               </td><td>10:40:00                                 </td><td>WASHINGTON/VAN NESS                      </td><td>37.8                                     </td><td>-122                                     </td><td>E                                        </td><td>39                                       </td><td>asian/pacific islander                   </td><td>female                                   </td><td>FALSE                                    </td><td>   NA                                    </td><td>FALSE                                    </td><td>Moving Violation                         </td><td>2007                                     </td></tr>\n",
       "\t<tr><td>2007-01-01                               </td><td>10:45:00                                 </td><td>400 MOLIMO                               </td><td>37.7                                     </td><td>-122                                     </td><td>H                                        </td><td>33                                       </td><td>hispanic                                 </td><td>male                                     </td><td>FALSE                                    </td><td>   NA                                    </td><td>FALSE                                    </td><td>Moving Violation                         </td><td>2007                                     </td></tr>\n",
       "\t<tr><td>2007-01-01                               </td><td>10:55:00                                 </td><td>NORIEGA/29TH                             </td><td>37.8                                     </td><td>-122                                     </td><td>I                                        </td><td>58                                       </td><td>asian/pacific islander                   </td><td>male                                     </td><td>FALSE                                    </td><td>   NA                                    </td><td>FALSE                                    </td><td>Moving Violation                         </td><td>2007                                     </td></tr>\n",
       "\t<tr><td>2007-01-01                               </td><td>00:11:00                                 </td><td>POLK AT OFARRELL                         </td><td>37.8                                     </td><td>-122                                     </td><td>E                                        </td><td>20                                       </td><td>asian/pacific islander                   </td><td>male                                     </td><td>FALSE                                    </td><td>   NA                                    </td><td>FALSE                                    </td><td>Moving Violation                         </td><td>2007                                     </td></tr>\n",
       "\t<tr><td>2007-01-01                                                                       </td><td>11:00:00                                                                         </td><td><span style=white-space:pre-wrap>3RD &amp; BERRY             </span>             </td><td>37.8                                                                             </td><td>-122                                                                             </td><td>B                                                                                </td><td>37                                                                               </td><td><span style=white-space:pre-wrap>white                 </span>                   </td><td><span style=white-space:pre-wrap>male  </span>                                   </td><td>FALSE                                                                            </td><td><span style=white-space:pre-wrap>   NA</span>                                    </td><td>FALSE                                                                            </td><td><span style=white-space:pre-wrap>Moving Violation                         </span></td><td>2007                                                                             </td></tr>\n",
       "\t<tr><td>2007-01-01                               </td><td>11:17:00                                 </td><td>UNDERWOOD/JENNINGS                       </td><td>37.7                                     </td><td>-122                                     </td><td>C                                        </td><td>23                                       </td><td>black                                    </td><td>female                                   </td><td>FALSE                                    </td><td>   NA                                    </td><td>FALSE                                    </td><td>Moving Violation                         </td><td>2007                                     </td></tr>\n",
       "\t<tr><td>2007-01-01                               </td><td>11:28:00                                 </td><td>280 S/B @ OCEAN AVE EXIT                 </td><td>37.8                                     </td><td>-122                                     </td><td>H                                        </td><td>51                                       </td><td>white                                    </td><td>female                                   </td><td>FALSE                                    </td><td>   NA                                    </td><td>FALSE                                    </td><td>Mechanical or Non-Moving Violation (V.C.)</td><td>2007                                     </td></tr>\n",
       "\t<tr><td>2007-01-01                               </td><td>01:16:00                                 </td><td>26THST/KANSAS                            </td><td>37.8                                     </td><td>-122                                     </td><td>C                                        </td><td>41                                       </td><td>white                                    </td><td>male                                     </td><td>FALSE                                    </td><td>   NA                                    </td><td>FALSE                                    </td><td>Moving Violation                         </td><td>2007                                     </td></tr>\n",
       "\t<tr><td>2007-01-01                                                                       </td><td>01:20:00                                                                         </td><td><span style=white-space:pre-wrap>JUDAH ST &amp; 46TH AVE     </span>             </td><td>37.8                                                                             </td><td>-123                                                                             </td><td>I                                                                                </td><td>19                                                                               </td><td><span style=white-space:pre-wrap>white                 </span>                   </td><td>female                                                                           </td><td>FALSE                                                                            </td><td><span style=white-space:pre-wrap>   NA</span>                                    </td><td>FALSE                                                                            </td><td><span style=white-space:pre-wrap>Moving Violation                         </span></td><td>2007                                                                             </td></tr>\n",
       "\t<tr><td>2007-01-01                                                                       </td><td>12:11:00                                                                         </td><td><span style=white-space:pre-wrap>20TH &amp; TENNESSEE        </span>             </td><td>37.8                                                                             </td><td>-122                                                                             </td><td>B                                                                                </td><td>50                                                                               </td><td><span style=white-space:pre-wrap>other                 </span>                   </td><td><span style=white-space:pre-wrap>male  </span>                                   </td><td>FALSE                                                                            </td><td><span style=white-space:pre-wrap>   NA</span>                                    </td><td>FALSE                                                                            </td><td><span style=white-space:pre-wrap>Moving Violation                         </span></td><td>2007                                                                             </td></tr>\n",
       "\t<tr><td>2007-01-01                               </td><td>12:18:00                                 </td><td>8TH ST/HARRISON                          </td><td>37.8                                     </td><td>-122                                     </td><td>B                                        </td><td>31                                       </td><td>asian/pacific islander                   </td><td>male                                     </td><td>FALSE                                    </td><td>   NA                                    </td><td>FALSE                                    </td><td>Moving Violation                         </td><td>2007                                     </td></tr>\n",
       "\t<tr><td>2007-01-01                                                                       </td><td>12:25:00                                                                         </td><td><span style=white-space:pre-wrap>FULTON &amp; 25TH AVE       </span>             </td><td>37.8                                                                             </td><td>-122                                                                             </td><td>G                                                                                </td><td>33                                                                               </td><td><span style=white-space:pre-wrap>other                 </span>                   </td><td><span style=white-space:pre-wrap>male  </span>                                   </td><td>FALSE                                                                            </td><td><span style=white-space:pre-wrap>   NA</span>                                    </td><td>FALSE                                                                            </td><td><span style=white-space:pre-wrap>Moving Violation                         </span></td><td>2007                                                                             </td></tr>\n",
       "\t<tr><td>2007-01-01                                                                       </td><td>12:40:00                                                                         </td><td><span style=white-space:pre-wrap>GEARY &amp; 6TH AV          </span>             </td><td>37.8                                                                             </td><td>-122                                                                             </td><td>G                                                                                </td><td>32                                                                               </td><td><span style=white-space:pre-wrap>white                 </span>                   </td><td><span style=white-space:pre-wrap>male  </span>                                   </td><td>FALSE                                                                            </td><td><span style=white-space:pre-wrap>   NA</span>                                    </td><td>FALSE                                                                            </td><td><span style=white-space:pre-wrap>Moving Violation                         </span></td><td>2007                                                                             </td></tr>\n",
       "\t<tr><td>2007-01-01                                                                       </td><td>12:49:00                                                                         </td><td>CHESTNUT &amp; FILLMOREDA ON                                                     </td><td>37.8                                                                             </td><td>-122                                                                             </td><td>E                                                                                </td><td>58                                                                               </td><td>asian/pacific islander                                                           </td><td><span style=white-space:pre-wrap>male  </span>                                   </td><td>FALSE                                                                            </td><td><span style=white-space:pre-wrap>   NA</span>                                    </td><td>FALSE                                                                            </td><td><span style=white-space:pre-wrap>Moving Violation                         </span></td><td>2007                                                                             </td></tr>\n",
       "\t<tr><td>2007-01-01                               </td><td>12:50:00                                 </td><td>GROVE @ BAKER                            </td><td>37.8                                     </td><td>-122                                     </td><td>F                                        </td><td>42                                       </td><td>white                                    </td><td>male                                     </td><td>FALSE                                    </td><td>   NA                                    </td><td>FALSE                                    </td><td>Moving Violation                         </td><td>2007                                     </td></tr>\n",
       "\t<tr><td>2007-01-01                               </td><td>13:02:00                                 </td><td>OCEAN@CAYUGA                             </td><td>37.7                                     </td><td>-122                                     </td><td>H                                        </td><td>49                                       </td><td>white                                    </td><td>female                                   </td><td>FALSE                                    </td><td>   NA                                    </td><td>FALSE                                    </td><td>Moving Violation                         </td><td>2007                                     </td></tr>\n",
       "\t<tr><td>2007-01-01                               </td><td>13:05:00                                 </td><td>GENEVA/MISSION                           </td><td>37.7                                     </td><td>-122                                     </td><td>H                                        </td><td>75                                       </td><td>white                                    </td><td>male                                     </td><td>FALSE                                    </td><td>   NA                                    </td><td>FALSE                                    </td><td>Moving Violation                         </td><td>2007                                     </td></tr>\n",
       "\t<tr><td>2007-01-01                               </td><td>13:08:00                                 </td><td>9TH AV/GEARY BL                          </td><td>37.8                                     </td><td>-122                                     </td><td>G                                        </td><td>39                                       </td><td>white                                    </td><td>female                                   </td><td>FALSE                                    </td><td>   NA                                    </td><td>FALSE                                    </td><td>Moving Violation                         </td><td>2007                                     </td></tr>\n",
       "\t<tr><td>2007-01-01                               </td><td>13:10:00                                 </td><td>GENEVA/MISSION                           </td><td>37.7                                     </td><td>-122                                     </td><td>H                                        </td><td>39                                       </td><td>hispanic                                 </td><td>male                                     </td><td> TRUE                                    </td><td>FALSE                                    </td><td> TRUE                                    </td><td>Moving Violation                         </td><td>2007                                     </td></tr>\n",
       "\t<tr><td>2007-01-01                                                                       </td><td>13:32:00                                                                         </td><td><span style=white-space:pre-wrap>VAN NESS &amp; SACRAMENTO   </span>             </td><td>37.8                                                                             </td><td>-122                                                                             </td><td>E                                                                                </td><td>36                                                                               </td><td><span style=white-space:pre-wrap>white                 </span>                   </td><td>female                                                                           </td><td>FALSE                                                                            </td><td><span style=white-space:pre-wrap>   NA</span>                                    </td><td>FALSE                                                                            </td><td><span style=white-space:pre-wrap>Moving Violation                         </span></td><td>2007                                                                             </td></tr>\n",
       "\t<tr><td>2007-01-01                                                                       </td><td>13:45:00                                                                         </td><td><span style=white-space:pre-wrap>7TH &amp; BRYANT            </span>             </td><td>37.8                                                                             </td><td>-122                                                                             </td><td>B                                                                                </td><td>36                                                                               </td><td><span style=white-space:pre-wrap>white                 </span>                   </td><td><span style=white-space:pre-wrap>male  </span>                                   </td><td>FALSE                                                                            </td><td><span style=white-space:pre-wrap>   NA</span>                                    </td><td>FALSE                                                                            </td><td><span style=white-space:pre-wrap>Moving Violation                         </span></td><td>2007                                                                             </td></tr>\n",
       "\t<tr><td>2007-01-01                               </td><td>13:57:00                                 </td><td>13TH ST / MISSION ST                     </td><td>37.8                                     </td><td>-122                                     </td><td>D                                        </td><td>24                                       </td><td>hispanic                                 </td><td>female                                   </td><td> TRUE                                    </td><td> TRUE                                    </td><td> TRUE                                    </td><td>Mechanical or Non-Moving Violation (V.C.)</td><td>2007                                     </td></tr>\n",
       "\t<tr><td>2007-01-01                               </td><td>01:40:00                                 </td><td>130 OFARRELL                             </td><td>37.8                                     </td><td>-122                                     </td><td>J                                        </td><td>47                                       </td><td>other                                    </td><td>male                                     </td><td>FALSE                                    </td><td>   NA                                    </td><td>FALSE                                    </td><td>MPC Violation                            </td><td>2007                                     </td></tr>\n",
       "\t<tr><td>2007-01-01                                                          </td><td>14:24:00                                                            </td><td><span style=white-space:pre-wrap>FELL &amp; OCTAVIA          </span></td><td>37.8                                                                </td><td>-122                                                                </td><td>E                                                                   </td><td>62                                                                  </td><td><span style=white-space:pre-wrap>white                 </span>      </td><td><span style=white-space:pre-wrap>male  </span>                      </td><td>FALSE                                                               </td><td><span style=white-space:pre-wrap>   NA</span>                       </td><td>FALSE                                                               </td><td>Mechanical or Non-Moving Violation (V.C.)                           </td><td>2007                                                                </td></tr>\n",
       "\t<tr><td>2007-01-01                               </td><td>14:30:00                                 </td><td>FORD AND NOE                             </td><td>37.8                                     </td><td>-122                                     </td><td>D                                        </td><td>24                                       </td><td>white                                    </td><td>male                                     </td><td>FALSE                                    </td><td>   NA                                    </td><td>FALSE                                    </td><td>Moving Violation                         </td><td>2007                                     </td></tr>\n",
       "\t<tr><td>⋮</td><td>⋮</td><td>⋮</td><td>⋮</td><td>⋮</td><td>⋮</td><td>⋮</td><td>⋮</td><td>⋮</td><td>⋮</td><td>⋮</td><td>⋮</td><td>⋮</td><td>⋮</td></tr>\n",
       "\t<tr><td>2016-06-30                               </td><td>06:56:00                                 </td><td>15TH AND KANSAS                          </td><td>37.8                                     </td><td>-122                                     </td><td>C                                        </td><td>56                                       </td><td>white                                    </td><td>male                                     </td><td>FALSE                                    </td><td>  NA                                     </td><td>FALSE                                    </td><td>Moving Violation                         </td><td>2016                                     </td></tr>\n",
       "\t<tr><td>2016-06-30                               </td><td>06:57:00                                 </td><td>EMBARCADERO X CHESTNUT                   </td><td>37.8                                     </td><td>-122                                     </td><td>A                                        </td><td>31                                       </td><td>white                                    </td><td>female                                   </td><td>FALSE                                    </td><td>  NA                                     </td><td>FALSE                                    </td><td>Moving Violation                         </td><td>2016                                     </td></tr>\n",
       "\t<tr><td>2016-06-30                                                            </td><td>07:10:00                                                              </td><td><span style=white-space:pre-wrap>MISSION ST &amp; 18TH ST      </span></td><td>37.8                                                                  </td><td>-122                                                                  </td><td>D                                                                     </td><td>31                                                                    </td><td><span style=white-space:pre-wrap>hispanic              </span>        </td><td><span style=white-space:pre-wrap>male  </span>                        </td><td>FALSE                                                                 </td><td><span style=white-space:pre-wrap>  NA</span>                          </td><td>FALSE                                                                 </td><td>Mechanical or Non-Moving Violation (V.C.)                             </td><td>2016                                                                  </td></tr>\n",
       "\t<tr><td>2016-06-30                                                            </td><td>07:15:00                                                              </td><td><span style=white-space:pre-wrap>S VAN NESS &amp; 17TH         </span></td><td>37.8                                                                  </td><td>-122                                                                  </td><td>D                                                                     </td><td>41                                                                    </td><td><span style=white-space:pre-wrap>hispanic              </span>        </td><td><span style=white-space:pre-wrap>male  </span>                        </td><td>FALSE                                                                 </td><td><span style=white-space:pre-wrap>  NA</span>                          </td><td>FALSE                                                                 </td><td>Mechanical or Non-Moving Violation (V.C.)                             </td><td>2016                                                                  </td></tr>\n",
       "\t<tr><td>2016-06-30                               </td><td>07:20:00                                 </td><td>965 GEARY ST.                            </td><td>37.8                                     </td><td>-122                                     </td><td>E                                        </td><td>49                                       </td><td>asian/pacific islander                   </td><td>female                                   </td><td>FALSE                                    </td><td>  NA                                     </td><td>FALSE                                    </td><td>Moving Violation                         </td><td>2016                                     </td></tr>\n",
       "\t<tr><td>2016-06-30                                                                       </td><td>07:40:00                                                                         </td><td><span style=white-space:pre-wrap>GEARY ST. &amp; JONES ST.     </span>           </td><td>37.8                                                                             </td><td>-122                                                                             </td><td>J                                                                                </td><td>28                                                                               </td><td><span style=white-space:pre-wrap>hispanic              </span>                   </td><td>female                                                                           </td><td>FALSE                                                                            </td><td><span style=white-space:pre-wrap>  NA</span>                                     </td><td>FALSE                                                                            </td><td><span style=white-space:pre-wrap>Moving Violation                         </span></td><td>2016                                                                             </td></tr>\n",
       "\t<tr><td>2016-06-30                                                                       </td><td>07:55:00                                                                         </td><td><span style=white-space:pre-wrap>14TH AVE &amp; BALBOA ST      </span>           </td><td>37.8                                                                             </td><td>-122                                                                             </td><td>G                                                                                </td><td>32                                                                               </td><td>asian/pacific islander                                                           </td><td><span style=white-space:pre-wrap>male  </span>                                   </td><td>FALSE                                                                            </td><td><span style=white-space:pre-wrap>  NA</span>                                     </td><td>FALSE                                                                            </td><td><span style=white-space:pre-wrap>Moving Violation                         </span></td><td>2016                                                                             </td></tr>\n",
       "\t<tr><td>2016-06-30                                                                       </td><td>07:55:00                                                                         </td><td><span style=white-space:pre-wrap>3RD ST &amp; BRYANT ST        </span>           </td><td>37.8                                                                             </td><td>-122                                                                             </td><td>B                                                                                </td><td>45                                                                               </td><td><span style=white-space:pre-wrap>hispanic              </span>                   </td><td><span style=white-space:pre-wrap>male  </span>                                   </td><td>FALSE                                                                            </td><td><span style=white-space:pre-wrap>  NA</span>                                     </td><td>FALSE                                                                            </td><td><span style=white-space:pre-wrap>Moving Violation                         </span></td><td>2016                                                                             </td></tr>\n",
       "\t<tr><td>2016-06-30                               </td><td>07:55:00                                 </td><td>800 BLK GEARY.                           </td><td>37.8                                     </td><td>-122                                     </td><td>A                                        </td><td>46                                       </td><td>white                                    </td><td>male                                     </td><td>FALSE                                    </td><td>  NA                                     </td><td>FALSE                                    </td><td>Moving Violation                         </td><td>2016                                     </td></tr>\n",
       "\t<tr><td>2016-06-30                               </td><td>08:05:00                                 </td><td>FULTON ST AND FILLMORE ST                </td><td>37.8                                     </td><td>-122                                     </td><td>E                                        </td><td>30                                       </td><td>hispanic                                 </td><td>female                                   </td><td>FALSE                                    </td><td>  NA                                     </td><td>FALSE                                    </td><td>Moving Violation                         </td><td>2016                                     </td></tr>\n",
       "\t<tr><td>2016-06-30                               </td><td>08:11:00                                 </td><td>POLK/UNION                               </td><td>37.8                                     </td><td>-122                                     </td><td>E                                        </td><td>32                                       </td><td>white                                    </td><td>male                                     </td><td>FALSE                                    </td><td>  NA                                     </td><td>FALSE                                    </td><td>Moving Violation                         </td><td>2016                                     </td></tr>\n",
       "\t<tr><td>2016-06-30                               </td><td>08:15:00                                 </td><td>POLK/ EDDY                               </td><td>37.8                                     </td><td>-122                                     </td><td>E                                        </td><td>56                                       </td><td>white                                    </td><td>male                                     </td><td>FALSE                                    </td><td>  NA                                     </td><td>FALSE                                    </td><td>Moving Violation                         </td><td>2016                                     </td></tr>\n",
       "\t<tr><td>2016-06-30                               </td><td>08:20:00                                 </td><td>FULTON ST AND FILLMORE ST                </td><td>37.8                                     </td><td>-122                                     </td><td>E                                        </td><td>46                                       </td><td>white                                    </td><td>male                                     </td><td>FALSE                                    </td><td>  NA                                     </td><td>FALSE                                    </td><td>Moving Violation                         </td><td>2016                                     </td></tr>\n",
       "\t<tr><td>2016-06-30                               </td><td>08:25:00                                 </td><td>781 GEARY ST.                            </td><td>37.8                                     </td><td>-122                                     </td><td>J                                        </td><td>35                                       </td><td>hispanic                                 </td><td>male                                     </td><td>FALSE                                    </td><td>  NA                                     </td><td>FALSE                                    </td><td>Moving Violation                         </td><td>2016                                     </td></tr>\n",
       "\t<tr><td>2016-06-30                                                            </td><td>08:30:00                                                              </td><td><span style=white-space:pre-wrap>24TH &amp; TARAVAL            </span></td><td>37.7                                                                  </td><td>-122                                                                  </td><td>I                                                                     </td><td>59                                                                    </td><td><span style=white-space:pre-wrap>hispanic              </span>        </td><td><span style=white-space:pre-wrap>male  </span>                        </td><td>FALSE                                                                 </td><td><span style=white-space:pre-wrap>  NA</span>                          </td><td>FALSE                                                                 </td><td>Mechanical or Non-Moving Violation (V.C.)                             </td><td>2016                                                                  </td></tr>\n",
       "\t<tr><td>2016-06-30                                                                       </td><td>08:30:00                                                                         </td><td><span style=white-space:pre-wrap>19TH AVE. &amp; DENSLOWE ST.  </span>           </td><td>37.7                                                                             </td><td>-122                                                                             </td><td>I                                                                                </td><td>31                                                                               </td><td><span style=white-space:pre-wrap>other                 </span>                   </td><td>female                                                                           </td><td>FALSE                                                                            </td><td><span style=white-space:pre-wrap>  NA</span>                                     </td><td>FALSE                                                                            </td><td><span style=white-space:pre-wrap>Moving Violation                         </span></td><td>2016                                                                             </td></tr>\n",
       "\t<tr><td>2016-06-30                                                                       </td><td>08:30:00                                                                         </td><td><span style=white-space:pre-wrap>ANDERSON &amp; EUGENIA        </span>           </td><td>37.7                                                                             </td><td>-122                                                                             </td><td>H                                                                                </td><td>29                                                                               </td><td><span style=white-space:pre-wrap>white                 </span>                   </td><td>female                                                                           </td><td>FALSE                                                                            </td><td><span style=white-space:pre-wrap>  NA</span>                                     </td><td>FALSE                                                                            </td><td><span style=white-space:pre-wrap>Moving Violation                         </span></td><td>2016                                                                             </td></tr>\n",
       "\t<tr><td>2016-06-30                               </td><td>08:38:00                                 </td><td>FULTON ST AND SCOTT ST                   </td><td>37.8                                     </td><td>-122                                     </td><td>E                                        </td><td>26                                       </td><td>white                                    </td><td>male                                     </td><td>FALSE                                    </td><td>  NA                                     </td><td>FALSE                                    </td><td>Moving Violation                         </td><td>2016                                     </td></tr>\n",
       "\t<tr><td>2016-06-30                               </td><td>08:45:00                                 </td><td>781 GEARY ST.                            </td><td>37.8                                     </td><td>-122                                     </td><td>J                                        </td><td>38                                       </td><td>other                                    </td><td>male                                     </td><td>FALSE                                    </td><td>  NA                                     </td><td>FALSE                                    </td><td>Moving Violation                         </td><td>2016                                     </td></tr>\n",
       "\t<tr><td>2016-06-30                               </td><td>08:50:00                                 </td><td>FULTON ST AND FILLMORE ST                </td><td>37.8                                     </td><td>-122                                     </td><td>E                                        </td><td>26                                       </td><td>asian/pacific islander                   </td><td>male                                     </td><td>FALSE                                    </td><td>  NA                                     </td><td>FALSE                                    </td><td>Moving Violation                         </td><td>2016                                     </td></tr>\n",
       "\t<tr><td>2016-06-30                                                                       </td><td>08:50:00                                                                         </td><td><span style=white-space:pre-wrap>26TH &amp; JUDAH              </span>           </td><td>37.8                                                                             </td><td>-122                                                                             </td><td>I                                                                                </td><td>59                                                                               </td><td><span style=white-space:pre-wrap>white                 </span>                   </td><td><span style=white-space:pre-wrap>male  </span>                                   </td><td>FALSE                                                                            </td><td><span style=white-space:pre-wrap>  NA</span>                                     </td><td>FALSE                                                                            </td><td><span style=white-space:pre-wrap>Moving Violation                         </span></td><td>2016                                                                             </td></tr>\n",
       "\t<tr><td>2016-06-30                                                                       </td><td>08:55:00                                                                         </td><td><span style=white-space:pre-wrap>GEARY ST. &amp; HYDE ST.      </span>           </td><td>37.8                                                                             </td><td>-122                                                                             </td><td>J                                                                                </td><td>29                                                                               </td><td><span style=white-space:pre-wrap>white                 </span>                   </td><td>female                                                                           </td><td>FALSE                                                                            </td><td><span style=white-space:pre-wrap>  NA</span>                                     </td><td>FALSE                                                                            </td><td><span style=white-space:pre-wrap>Moving Violation                         </span></td><td>2016                                                                             </td></tr>\n",
       "\t<tr><td>2016-06-30                                                            </td><td>00:09:00                                                              </td><td><span style=white-space:pre-wrap>LARKIN &amp; BROADWAY         </span></td><td>37.8                                                                  </td><td>-122                                                                  </td><td>A                                                                     </td><td>24                                                                    </td><td><span style=white-space:pre-wrap>hispanic              </span>        </td><td><span style=white-space:pre-wrap>male  </span>                        </td><td>FALSE                                                                 </td><td><span style=white-space:pre-wrap>  NA</span>                          </td><td>FALSE                                                                 </td><td>Mechanical or Non-Moving Violation (V.C.)                             </td><td>2016                                                                  </td></tr>\n",
       "\t<tr><td>2016-06-30                                                            </td><td>09:00:00                                                              </td><td><span style=white-space:pre-wrap>MISSION &amp; SANTA MARINA    </span></td><td>37.7                                                                  </td><td>-122                                                                  </td><td>H                                                                     </td><td>28                                                                    </td><td><span style=white-space:pre-wrap>black                 </span>        </td><td><span style=white-space:pre-wrap>male  </span>                        </td><td>FALSE                                                                 </td><td>TRUE                                                                  </td><td> TRUE                                                                 </td><td>Mechanical or Non-Moving Violation (V.C.)                             </td><td>2016                                                                  </td></tr>\n",
       "\t<tr><td>2016-06-30                                                                       </td><td>09:15:00                                                                         </td><td><span style=white-space:pre-wrap>GOLDEN GATE &amp; JONES       </span>           </td><td>37.8                                                                             </td><td>-122                                                                             </td><td>J                                                                                </td><td>35                                                                               </td><td>asian/pacific islander                                                           </td><td><span style=white-space:pre-wrap>male  </span>                                   </td><td>FALSE                                                                            </td><td><span style=white-space:pre-wrap>  NA</span>                                     </td><td>FALSE                                                                            </td><td><span style=white-space:pre-wrap>Moving Violation                         </span></td><td>2016                                                                             </td></tr>\n",
       "\t<tr><td>2016-06-30                                                                       </td><td>09:24:00                                                                         </td><td><span style=white-space:pre-wrap>JONES &amp; MCALLISTER        </span>           </td><td>37.8                                                                             </td><td>-122                                                                             </td><td>J                                                                                </td><td>47                                                                               </td><td><span style=white-space:pre-wrap>hispanic              </span>                   </td><td>female                                                                           </td><td>FALSE                                                                            </td><td><span style=white-space:pre-wrap>  NA</span>                                     </td><td>FALSE                                                                            </td><td><span style=white-space:pre-wrap>Moving Violation                         </span></td><td>2016                                                                             </td></tr>\n",
       "\t<tr><td>2016-06-30                                                                       </td><td>09:34:00                                                                         </td><td><span style=white-space:pre-wrap>GOLDEN GATE &amp; HYDE        </span>           </td><td>37.8                                                                             </td><td>-122                                                                             </td><td>J                                                                                </td><td>55                                                                               </td><td><span style=white-space:pre-wrap>white                 </span>                   </td><td>female                                                                           </td><td>FALSE                                                                            </td><td><span style=white-space:pre-wrap>  NA</span>                                     </td><td>FALSE                                                                            </td><td><span style=white-space:pre-wrap>Moving Violation                         </span></td><td>2016                                                                             </td></tr>\n",
       "\t<tr><td>2016-06-30                                                                       </td><td>09:50:00                                                                         </td><td><span style=white-space:pre-wrap>11TH ST. &amp; MARKET ST.     </span>           </td><td>37.8                                                                             </td><td>-122                                                                             </td><td>J                                                                                </td><td>36                                                                               </td><td>asian/pacific islander                                                           </td><td><span style=white-space:pre-wrap>male  </span>                                   </td><td>FALSE                                                                            </td><td><span style=white-space:pre-wrap>  NA</span>                                     </td><td>FALSE                                                                            </td><td><span style=white-space:pre-wrap>Moving Violation                         </span></td><td>2016                                                                             </td></tr>\n",
       "\t<tr><td>2016-06-30                                                    </td><td>09:50:00                                                      </td><td>BROTHERHOOD WAY &amp; ARCH ST.                                </td><td>37.7                                                          </td><td>-122                                                          </td><td>I                                                             </td><td>50                                                            </td><td><span style=white-space:pre-wrap>black                 </span></td><td><span style=white-space:pre-wrap>male  </span>                </td><td>FALSE                                                         </td><td><span style=white-space:pre-wrap>  NA</span>                  </td><td>FALSE                                                         </td><td>Mechanical or Non-Moving Violation (V.C.)                     </td><td>2016                                                          </td></tr>\n",
       "\t<tr><td>2016-06-30                               </td><td>09:55:00                                 </td><td>1650 17THAV                              </td><td>37.8                                     </td><td>-122                                     </td><td>I                                        </td><td>22                                       </td><td>other                                    </td><td>female                                   </td><td>FALSE                                    </td><td>  NA                                     </td><td>FALSE                                    </td><td>Moving Violation                         </td><td>2016                                     </td></tr>\n",
       "</tbody>\n",
       "</table>\n"
      ],
      "text/latex": [
       "\\begin{tabular}{r|llllllllllllll}\n",
       " date & time & location & lat & lng & district & age & race & gender & arrested & contraband\\_found & searched & reason\\_for\\_stop & yr\\\\\n",
       "\\hline\n",
       "\t 2007-01-01                                & 10:00:00                                  & 26TH \\& MINNESOTA                        & 37.8                                      & -122                                      & C                                         & 56                                        & white                                     & male                                      & FALSE                                     &    NA                                     & FALSE                                     & Mechanical or Non-Moving Violation (V.C.) & 2007                                     \\\\\n",
       "\t 2007-01-01                                & 10:17:00                                  & EMBARCADERO \\& HOWARDA ON                & 37.8                                      & -122                                      & B                                         & 32                                        & white                                     & male                                      & FALSE                                     &    NA                                     & FALSE                                     & Moving Violation                          & 2007                                     \\\\\n",
       "\t 2007-01-01                                & 10:25:00                                  & 1700 JUDAH                                & 37.8                                      & -122                                      & I                                         & 57                                        & asian/pacific islander                    & female                                    & FALSE                                     &    NA                                     & FALSE                                     & Moving Violation                          & 2007                                     \\\\\n",
       "\t 2007-01-01                                & 10:28:00                                  & COLUMBUS/VALLEJO                          & 37.8                                      & -122                                      & A                                         & 31                                        & hispanic                                  & male                                      & FALSE                                     &    NA                                     & FALSE                                     & Moving Violation                          & 2007                                     \\\\\n",
       "\t 2007-01-01                                & 10:35:00                                  & FOLSOM \\& MOSS                           & 37.8                                      & -122                                      & J                                         & 37                                        & hispanic                                  & female                                    & FALSE                                     &    NA                                     & FALSE                                     & Moving Violation                          & 2007                                     \\\\\n",
       "\t 2007-01-01                                & 10:40:00                                  & WASHINGTON/VAN NESS                       & 37.8                                      & -122                                      & E                                         & 39                                        & asian/pacific islander                    & female                                    & FALSE                                     &    NA                                     & FALSE                                     & Moving Violation                          & 2007                                     \\\\\n",
       "\t 2007-01-01                                & 10:45:00                                  & 400 MOLIMO                                & 37.7                                      & -122                                      & H                                         & 33                                        & hispanic                                  & male                                      & FALSE                                     &    NA                                     & FALSE                                     & Moving Violation                          & 2007                                     \\\\\n",
       "\t 2007-01-01                                & 10:55:00                                  & NORIEGA/29TH                              & 37.8                                      & -122                                      & I                                         & 58                                        & asian/pacific islander                    & male                                      & FALSE                                     &    NA                                     & FALSE                                     & Moving Violation                          & 2007                                     \\\\\n",
       "\t 2007-01-01                                & 00:11:00                                  & POLK AT OFARRELL                          & 37.8                                      & -122                                      & E                                         & 20                                        & asian/pacific islander                    & male                                      & FALSE                                     &    NA                                     & FALSE                                     & Moving Violation                          & 2007                                     \\\\\n",
       "\t 2007-01-01                                & 11:00:00                                  & 3RD \\& BERRY                             & 37.8                                      & -122                                      & B                                         & 37                                        & white                                     & male                                      & FALSE                                     &    NA                                     & FALSE                                     & Moving Violation                          & 2007                                     \\\\\n",
       "\t 2007-01-01                                & 11:17:00                                  & UNDERWOOD/JENNINGS                        & 37.7                                      & -122                                      & C                                         & 23                                        & black                                     & female                                    & FALSE                                     &    NA                                     & FALSE                                     & Moving Violation                          & 2007                                     \\\\\n",
       "\t 2007-01-01                                & 11:28:00                                  & 280 S/B @ OCEAN AVE EXIT                  & 37.8                                      & -122                                      & H                                         & 51                                        & white                                     & female                                    & FALSE                                     &    NA                                     & FALSE                                     & Mechanical or Non-Moving Violation (V.C.) & 2007                                     \\\\\n",
       "\t 2007-01-01                                & 01:16:00                                  & 26THST/KANSAS                             & 37.8                                      & -122                                      & C                                         & 41                                        & white                                     & male                                      & FALSE                                     &    NA                                     & FALSE                                     & Moving Violation                          & 2007                                     \\\\\n",
       "\t 2007-01-01                                & 01:20:00                                  & JUDAH ST \\& 46TH AVE                     & 37.8                                      & -123                                      & I                                         & 19                                        & white                                     & female                                    & FALSE                                     &    NA                                     & FALSE                                     & Moving Violation                          & 2007                                     \\\\\n",
       "\t 2007-01-01                                & 12:11:00                                  & 20TH \\& TENNESSEE                        & 37.8                                      & -122                                      & B                                         & 50                                        & other                                     & male                                      & FALSE                                     &    NA                                     & FALSE                                     & Moving Violation                          & 2007                                     \\\\\n",
       "\t 2007-01-01                                & 12:18:00                                  & 8TH ST/HARRISON                           & 37.8                                      & -122                                      & B                                         & 31                                        & asian/pacific islander                    & male                                      & FALSE                                     &    NA                                     & FALSE                                     & Moving Violation                          & 2007                                     \\\\\n",
       "\t 2007-01-01                                & 12:25:00                                  & FULTON \\& 25TH AVE                       & 37.8                                      & -122                                      & G                                         & 33                                        & other                                     & male                                      & FALSE                                     &    NA                                     & FALSE                                     & Moving Violation                          & 2007                                     \\\\\n",
       "\t 2007-01-01                                & 12:40:00                                  & GEARY \\& 6TH AV                          & 37.8                                      & -122                                      & G                                         & 32                                        & white                                     & male                                      & FALSE                                     &    NA                                     & FALSE                                     & Moving Violation                          & 2007                                     \\\\\n",
       "\t 2007-01-01                                & 12:49:00                                  & CHESTNUT \\& FILLMOREDA ON                & 37.8                                      & -122                                      & E                                         & 58                                        & asian/pacific islander                    & male                                      & FALSE                                     &    NA                                     & FALSE                                     & Moving Violation                          & 2007                                     \\\\\n",
       "\t 2007-01-01                                & 12:50:00                                  & GROVE @ BAKER                             & 37.8                                      & -122                                      & F                                         & 42                                        & white                                     & male                                      & FALSE                                     &    NA                                     & FALSE                                     & Moving Violation                          & 2007                                     \\\\\n",
       "\t 2007-01-01                                & 13:02:00                                  & OCEAN@CAYUGA                              & 37.7                                      & -122                                      & H                                         & 49                                        & white                                     & female                                    & FALSE                                     &    NA                                     & FALSE                                     & Moving Violation                          & 2007                                     \\\\\n",
       "\t 2007-01-01                                & 13:05:00                                  & GENEVA/MISSION                            & 37.7                                      & -122                                      & H                                         & 75                                        & white                                     & male                                      & FALSE                                     &    NA                                     & FALSE                                     & Moving Violation                          & 2007                                     \\\\\n",
       "\t 2007-01-01                                & 13:08:00                                  & 9TH AV/GEARY BL                           & 37.8                                      & -122                                      & G                                         & 39                                        & white                                     & female                                    & FALSE                                     &    NA                                     & FALSE                                     & Moving Violation                          & 2007                                     \\\\\n",
       "\t 2007-01-01                                & 13:10:00                                  & GENEVA/MISSION                            & 37.7                                      & -122                                      & H                                         & 39                                        & hispanic                                  & male                                      &  TRUE                                     & FALSE                                     &  TRUE                                     & Moving Violation                          & 2007                                     \\\\\n",
       "\t 2007-01-01                                & 13:32:00                                  & VAN NESS \\& SACRAMENTO                   & 37.8                                      & -122                                      & E                                         & 36                                        & white                                     & female                                    & FALSE                                     &    NA                                     & FALSE                                     & Moving Violation                          & 2007                                     \\\\\n",
       "\t 2007-01-01                                & 13:45:00                                  & 7TH \\& BRYANT                            & 37.8                                      & -122                                      & B                                         & 36                                        & white                                     & male                                      & FALSE                                     &    NA                                     & FALSE                                     & Moving Violation                          & 2007                                     \\\\\n",
       "\t 2007-01-01                                & 13:57:00                                  & 13TH ST / MISSION ST                      & 37.8                                      & -122                                      & D                                         & 24                                        & hispanic                                  & female                                    &  TRUE                                     &  TRUE                                     &  TRUE                                     & Mechanical or Non-Moving Violation (V.C.) & 2007                                     \\\\\n",
       "\t 2007-01-01                                & 01:40:00                                  & 130 OFARRELL                              & 37.8                                      & -122                                      & J                                         & 47                                        & other                                     & male                                      & FALSE                                     &    NA                                     & FALSE                                     & MPC Violation                             & 2007                                     \\\\\n",
       "\t 2007-01-01                                & 14:24:00                                  & FELL \\& OCTAVIA                          & 37.8                                      & -122                                      & E                                         & 62                                        & white                                     & male                                      & FALSE                                     &    NA                                     & FALSE                                     & Mechanical or Non-Moving Violation (V.C.) & 2007                                     \\\\\n",
       "\t 2007-01-01                                & 14:30:00                                  & FORD AND NOE                              & 37.8                                      & -122                                      & D                                         & 24                                        & white                                     & male                                      & FALSE                                     &    NA                                     & FALSE                                     & Moving Violation                          & 2007                                     \\\\\n",
       "\t ⋮ & ⋮ & ⋮ & ⋮ & ⋮ & ⋮ & ⋮ & ⋮ & ⋮ & ⋮ & ⋮ & ⋮ & ⋮ & ⋮\\\\\n",
       "\t 2016-06-30                                & 06:56:00                                  & 15TH AND KANSAS                           & 37.8                                      & -122                                      & C                                         & 56                                        & white                                     & male                                      & FALSE                                     &   NA                                      & FALSE                                     & Moving Violation                          & 2016                                     \\\\\n",
       "\t 2016-06-30                                & 06:57:00                                  & EMBARCADERO X CHESTNUT                    & 37.8                                      & -122                                      & A                                         & 31                                        & white                                     & female                                    & FALSE                                     &   NA                                      & FALSE                                     & Moving Violation                          & 2016                                     \\\\\n",
       "\t 2016-06-30                                & 07:10:00                                  & MISSION ST \\& 18TH ST                    & 37.8                                      & -122                                      & D                                         & 31                                        & hispanic                                  & male                                      & FALSE                                     &   NA                                      & FALSE                                     & Mechanical or Non-Moving Violation (V.C.) & 2016                                     \\\\\n",
       "\t 2016-06-30                                & 07:15:00                                  & S VAN NESS \\& 17TH                       & 37.8                                      & -122                                      & D                                         & 41                                        & hispanic                                  & male                                      & FALSE                                     &   NA                                      & FALSE                                     & Mechanical or Non-Moving Violation (V.C.) & 2016                                     \\\\\n",
       "\t 2016-06-30                                & 07:20:00                                  & 965 GEARY ST.                             & 37.8                                      & -122                                      & E                                         & 49                                        & asian/pacific islander                    & female                                    & FALSE                                     &   NA                                      & FALSE                                     & Moving Violation                          & 2016                                     \\\\\n",
       "\t 2016-06-30                                & 07:40:00                                  & GEARY ST. \\& JONES ST.                   & 37.8                                      & -122                                      & J                                         & 28                                        & hispanic                                  & female                                    & FALSE                                     &   NA                                      & FALSE                                     & Moving Violation                          & 2016                                     \\\\\n",
       "\t 2016-06-30                                & 07:55:00                                  & 14TH AVE \\& BALBOA ST                    & 37.8                                      & -122                                      & G                                         & 32                                        & asian/pacific islander                    & male                                      & FALSE                                     &   NA                                      & FALSE                                     & Moving Violation                          & 2016                                     \\\\\n",
       "\t 2016-06-30                                & 07:55:00                                  & 3RD ST \\& BRYANT ST                      & 37.8                                      & -122                                      & B                                         & 45                                        & hispanic                                  & male                                      & FALSE                                     &   NA                                      & FALSE                                     & Moving Violation                          & 2016                                     \\\\\n",
       "\t 2016-06-30                                & 07:55:00                                  & 800 BLK GEARY.                            & 37.8                                      & -122                                      & A                                         & 46                                        & white                                     & male                                      & FALSE                                     &   NA                                      & FALSE                                     & Moving Violation                          & 2016                                     \\\\\n",
       "\t 2016-06-30                                & 08:05:00                                  & FULTON ST AND FILLMORE ST                 & 37.8                                      & -122                                      & E                                         & 30                                        & hispanic                                  & female                                    & FALSE                                     &   NA                                      & FALSE                                     & Moving Violation                          & 2016                                     \\\\\n",
       "\t 2016-06-30                                & 08:11:00                                  & POLK/UNION                                & 37.8                                      & -122                                      & E                                         & 32                                        & white                                     & male                                      & FALSE                                     &   NA                                      & FALSE                                     & Moving Violation                          & 2016                                     \\\\\n",
       "\t 2016-06-30                                & 08:15:00                                  & POLK/ EDDY                                & 37.8                                      & -122                                      & E                                         & 56                                        & white                                     & male                                      & FALSE                                     &   NA                                      & FALSE                                     & Moving Violation                          & 2016                                     \\\\\n",
       "\t 2016-06-30                                & 08:20:00                                  & FULTON ST AND FILLMORE ST                 & 37.8                                      & -122                                      & E                                         & 46                                        & white                                     & male                                      & FALSE                                     &   NA                                      & FALSE                                     & Moving Violation                          & 2016                                     \\\\\n",
       "\t 2016-06-30                                & 08:25:00                                  & 781 GEARY ST.                             & 37.8                                      & -122                                      & J                                         & 35                                        & hispanic                                  & male                                      & FALSE                                     &   NA                                      & FALSE                                     & Moving Violation                          & 2016                                     \\\\\n",
       "\t 2016-06-30                                & 08:30:00                                  & 24TH \\& TARAVAL                          & 37.7                                      & -122                                      & I                                         & 59                                        & hispanic                                  & male                                      & FALSE                                     &   NA                                      & FALSE                                     & Mechanical or Non-Moving Violation (V.C.) & 2016                                     \\\\\n",
       "\t 2016-06-30                                & 08:30:00                                  & 19TH AVE. \\& DENSLOWE ST.                & 37.7                                      & -122                                      & I                                         & 31                                        & other                                     & female                                    & FALSE                                     &   NA                                      & FALSE                                     & Moving Violation                          & 2016                                     \\\\\n",
       "\t 2016-06-30                                & 08:30:00                                  & ANDERSON \\& EUGENIA                      & 37.7                                      & -122                                      & H                                         & 29                                        & white                                     & female                                    & FALSE                                     &   NA                                      & FALSE                                     & Moving Violation                          & 2016                                     \\\\\n",
       "\t 2016-06-30                                & 08:38:00                                  & FULTON ST AND SCOTT ST                    & 37.8                                      & -122                                      & E                                         & 26                                        & white                                     & male                                      & FALSE                                     &   NA                                      & FALSE                                     & Moving Violation                          & 2016                                     \\\\\n",
       "\t 2016-06-30                                & 08:45:00                                  & 781 GEARY ST.                             & 37.8                                      & -122                                      & J                                         & 38                                        & other                                     & male                                      & FALSE                                     &   NA                                      & FALSE                                     & Moving Violation                          & 2016                                     \\\\\n",
       "\t 2016-06-30                                & 08:50:00                                  & FULTON ST AND FILLMORE ST                 & 37.8                                      & -122                                      & E                                         & 26                                        & asian/pacific islander                    & male                                      & FALSE                                     &   NA                                      & FALSE                                     & Moving Violation                          & 2016                                     \\\\\n",
       "\t 2016-06-30                                & 08:50:00                                  & 26TH \\& JUDAH                            & 37.8                                      & -122                                      & I                                         & 59                                        & white                                     & male                                      & FALSE                                     &   NA                                      & FALSE                                     & Moving Violation                          & 2016                                     \\\\\n",
       "\t 2016-06-30                                & 08:55:00                                  & GEARY ST. \\& HYDE ST.                    & 37.8                                      & -122                                      & J                                         & 29                                        & white                                     & female                                    & FALSE                                     &   NA                                      & FALSE                                     & Moving Violation                          & 2016                                     \\\\\n",
       "\t 2016-06-30                                & 00:09:00                                  & LARKIN \\& BROADWAY                       & 37.8                                      & -122                                      & A                                         & 24                                        & hispanic                                  & male                                      & FALSE                                     &   NA                                      & FALSE                                     & Mechanical or Non-Moving Violation (V.C.) & 2016                                     \\\\\n",
       "\t 2016-06-30                                & 09:00:00                                  & MISSION \\& SANTA MARINA                  & 37.7                                      & -122                                      & H                                         & 28                                        & black                                     & male                                      & FALSE                                     & TRUE                                      &  TRUE                                     & Mechanical or Non-Moving Violation (V.C.) & 2016                                     \\\\\n",
       "\t 2016-06-30                                & 09:15:00                                  & GOLDEN GATE \\& JONES                     & 37.8                                      & -122                                      & J                                         & 35                                        & asian/pacific islander                    & male                                      & FALSE                                     &   NA                                      & FALSE                                     & Moving Violation                          & 2016                                     \\\\\n",
       "\t 2016-06-30                                & 09:24:00                                  & JONES \\& MCALLISTER                      & 37.8                                      & -122                                      & J                                         & 47                                        & hispanic                                  & female                                    & FALSE                                     &   NA                                      & FALSE                                     & Moving Violation                          & 2016                                     \\\\\n",
       "\t 2016-06-30                                & 09:34:00                                  & GOLDEN GATE \\& HYDE                      & 37.8                                      & -122                                      & J                                         & 55                                        & white                                     & female                                    & FALSE                                     &   NA                                      & FALSE                                     & Moving Violation                          & 2016                                     \\\\\n",
       "\t 2016-06-30                                & 09:50:00                                  & 11TH ST. \\& MARKET ST.                   & 37.8                                      & -122                                      & J                                         & 36                                        & asian/pacific islander                    & male                                      & FALSE                                     &   NA                                      & FALSE                                     & Moving Violation                          & 2016                                     \\\\\n",
       "\t 2016-06-30                                & 09:50:00                                  & BROTHERHOOD WAY \\& ARCH ST.              & 37.7                                      & -122                                      & I                                         & 50                                        & black                                     & male                                      & FALSE                                     &   NA                                      & FALSE                                     & Mechanical or Non-Moving Violation (V.C.) & 2016                                     \\\\\n",
       "\t 2016-06-30                                & 09:55:00                                  & 1650 17THAV                               & 37.8                                      & -122                                      & I                                         & 22                                        & other                                     & female                                    & FALSE                                     &   NA                                      & FALSE                                     & Moving Violation                          & 2016                                     \\\\\n",
       "\\end{tabular}\n"
      ],
      "text/plain": [
       "       date       time     location                   lat  lng  district age\n",
       "1      2007-01-01 10:00:00 26TH & MINNESOTA           37.8 -122 C        56 \n",
       "2      2007-01-01 10:17:00 EMBARCADERO & HOWARDA ON   37.8 -122 B        32 \n",
       "3      2007-01-01 10:25:00 1700 JUDAH                 37.8 -122 I        57 \n",
       "4      2007-01-01 10:28:00 COLUMBUS/VALLEJO           37.8 -122 A        31 \n",
       "5      2007-01-01 10:35:00 FOLSOM & MOSS              37.8 -122 J        37 \n",
       "6      2007-01-01 10:40:00 WASHINGTON/VAN NESS        37.8 -122 E        39 \n",
       "7      2007-01-01 10:45:00 400 MOLIMO                 37.7 -122 H        33 \n",
       "8      2007-01-01 10:55:00 NORIEGA/29TH               37.8 -122 I        58 \n",
       "9      2007-01-01 00:11:00 POLK AT OFARRELL           37.8 -122 E        20 \n",
       "10     2007-01-01 11:00:00 3RD & BERRY                37.8 -122 B        37 \n",
       "11     2007-01-01 11:17:00 UNDERWOOD/JENNINGS         37.7 -122 C        23 \n",
       "12     2007-01-01 11:28:00 280 S/B @ OCEAN AVE EXIT   37.8 -122 H        51 \n",
       "13     2007-01-01 01:16:00 26THST/KANSAS              37.8 -122 C        41 \n",
       "14     2007-01-01 01:20:00 JUDAH ST & 46TH AVE        37.8 -123 I        19 \n",
       "15     2007-01-01 12:11:00 20TH & TENNESSEE           37.8 -122 B        50 \n",
       "16     2007-01-01 12:18:00 8TH ST/HARRISON            37.8 -122 B        31 \n",
       "17     2007-01-01 12:25:00 FULTON & 25TH AVE          37.8 -122 G        33 \n",
       "18     2007-01-01 12:40:00 GEARY & 6TH AV             37.8 -122 G        32 \n",
       "19     2007-01-01 12:49:00 CHESTNUT & FILLMOREDA ON   37.8 -122 E        58 \n",
       "20     2007-01-01 12:50:00 GROVE @ BAKER              37.8 -122 F        42 \n",
       "21     2007-01-01 13:02:00 OCEAN@CAYUGA               37.7 -122 H        49 \n",
       "22     2007-01-01 13:05:00 GENEVA/MISSION             37.7 -122 H        75 \n",
       "23     2007-01-01 13:08:00 9TH AV/GEARY BL            37.8 -122 G        39 \n",
       "24     2007-01-01 13:10:00 GENEVA/MISSION             37.7 -122 H        39 \n",
       "25     2007-01-01 13:32:00 VAN NESS & SACRAMENTO      37.8 -122 E        36 \n",
       "26     2007-01-01 13:45:00 7TH & BRYANT               37.8 -122 B        36 \n",
       "27     2007-01-01 13:57:00 13TH ST / MISSION ST       37.8 -122 D        24 \n",
       "28     2007-01-01 01:40:00 130 OFARRELL               37.8 -122 J        47 \n",
       "29     2007-01-01 14:24:00 FELL & OCTAVIA             37.8 -122 E        62 \n",
       "30     2007-01-01 14:30:00 FORD AND NOE               37.8 -122 D        24 \n",
       "⋮      ⋮          ⋮        ⋮                          ⋮    ⋮    ⋮        ⋮  \n",
       "851362 2016-06-30 06:56:00 15TH AND KANSAS            37.8 -122 C        56 \n",
       "851363 2016-06-30 06:57:00 EMBARCADERO X CHESTNUT     37.8 -122 A        31 \n",
       "851364 2016-06-30 07:10:00 MISSION ST & 18TH ST       37.8 -122 D        31 \n",
       "851365 2016-06-30 07:15:00 S VAN NESS & 17TH          37.8 -122 D        41 \n",
       "851366 2016-06-30 07:20:00 965 GEARY ST.              37.8 -122 E        49 \n",
       "851367 2016-06-30 07:40:00 GEARY ST. & JONES ST.      37.8 -122 J        28 \n",
       "851368 2016-06-30 07:55:00 14TH AVE & BALBOA ST       37.8 -122 G        32 \n",
       "851369 2016-06-30 07:55:00 3RD ST & BRYANT ST         37.8 -122 B        45 \n",
       "851370 2016-06-30 07:55:00 800 BLK GEARY.             37.8 -122 A        46 \n",
       "851371 2016-06-30 08:05:00 FULTON ST AND FILLMORE ST  37.8 -122 E        30 \n",
       "851372 2016-06-30 08:11:00 POLK/UNION                 37.8 -122 E        32 \n",
       "851373 2016-06-30 08:15:00 POLK/ EDDY                 37.8 -122 E        56 \n",
       "851374 2016-06-30 08:20:00 FULTON ST AND FILLMORE ST  37.8 -122 E        46 \n",
       "851375 2016-06-30 08:25:00 781 GEARY ST.              37.8 -122 J        35 \n",
       "851376 2016-06-30 08:30:00 24TH & TARAVAL             37.7 -122 I        59 \n",
       "851377 2016-06-30 08:30:00 19TH AVE. & DENSLOWE ST.   37.7 -122 I        31 \n",
       "851378 2016-06-30 08:30:00 ANDERSON & EUGENIA         37.7 -122 H        29 \n",
       "851379 2016-06-30 08:38:00 FULTON ST AND SCOTT ST     37.8 -122 E        26 \n",
       "851380 2016-06-30 08:45:00 781 GEARY ST.              37.8 -122 J        38 \n",
       "851381 2016-06-30 08:50:00 FULTON ST AND FILLMORE ST  37.8 -122 E        26 \n",
       "851382 2016-06-30 08:50:00 26TH & JUDAH               37.8 -122 I        59 \n",
       "851383 2016-06-30 08:55:00 GEARY ST. & HYDE ST.       37.8 -122 J        29 \n",
       "851384 2016-06-30 00:09:00 LARKIN & BROADWAY          37.8 -122 A        24 \n",
       "851385 2016-06-30 09:00:00 MISSION & SANTA MARINA     37.7 -122 H        28 \n",
       "851386 2016-06-30 09:15:00 GOLDEN GATE & JONES        37.8 -122 J        35 \n",
       "851387 2016-06-30 09:24:00 JONES & MCALLISTER         37.8 -122 J        47 \n",
       "851388 2016-06-30 09:34:00 GOLDEN GATE & HYDE         37.8 -122 J        55 \n",
       "851389 2016-06-30 09:50:00 11TH ST. & MARKET ST.      37.8 -122 J        36 \n",
       "851390 2016-06-30 09:50:00 BROTHERHOOD WAY & ARCH ST. 37.7 -122 I        50 \n",
       "851391 2016-06-30 09:55:00 1650 17THAV                37.8 -122 I        22 \n",
       "       race                   gender arrested contraband_found searched\n",
       "1      white                  male   FALSE       NA            FALSE   \n",
       "2      white                  male   FALSE       NA            FALSE   \n",
       "3      asian/pacific islander female FALSE       NA            FALSE   \n",
       "4      hispanic               male   FALSE       NA            FALSE   \n",
       "5      hispanic               female FALSE       NA            FALSE   \n",
       "6      asian/pacific islander female FALSE       NA            FALSE   \n",
       "7      hispanic               male   FALSE       NA            FALSE   \n",
       "8      asian/pacific islander male   FALSE       NA            FALSE   \n",
       "9      asian/pacific islander male   FALSE       NA            FALSE   \n",
       "10     white                  male   FALSE       NA            FALSE   \n",
       "11     black                  female FALSE       NA            FALSE   \n",
       "12     white                  female FALSE       NA            FALSE   \n",
       "13     white                  male   FALSE       NA            FALSE   \n",
       "14     white                  female FALSE       NA            FALSE   \n",
       "15     other                  male   FALSE       NA            FALSE   \n",
       "16     asian/pacific islander male   FALSE       NA            FALSE   \n",
       "17     other                  male   FALSE       NA            FALSE   \n",
       "18     white                  male   FALSE       NA            FALSE   \n",
       "19     asian/pacific islander male   FALSE       NA            FALSE   \n",
       "20     white                  male   FALSE       NA            FALSE   \n",
       "21     white                  female FALSE       NA            FALSE   \n",
       "22     white                  male   FALSE       NA            FALSE   \n",
       "23     white                  female FALSE       NA            FALSE   \n",
       "24     hispanic               male    TRUE    FALSE             TRUE   \n",
       "25     white                  female FALSE       NA            FALSE   \n",
       "26     white                  male   FALSE       NA            FALSE   \n",
       "27     hispanic               female  TRUE     TRUE             TRUE   \n",
       "28     other                  male   FALSE       NA            FALSE   \n",
       "29     white                  male   FALSE       NA            FALSE   \n",
       "30     white                  male   FALSE       NA            FALSE   \n",
       "⋮      ⋮                      ⋮      ⋮        ⋮                ⋮       \n",
       "851362 white                  male   FALSE      NA             FALSE   \n",
       "851363 white                  female FALSE      NA             FALSE   \n",
       "851364 hispanic               male   FALSE      NA             FALSE   \n",
       "851365 hispanic               male   FALSE      NA             FALSE   \n",
       "851366 asian/pacific islander female FALSE      NA             FALSE   \n",
       "851367 hispanic               female FALSE      NA             FALSE   \n",
       "851368 asian/pacific islander male   FALSE      NA             FALSE   \n",
       "851369 hispanic               male   FALSE      NA             FALSE   \n",
       "851370 white                  male   FALSE      NA             FALSE   \n",
       "851371 hispanic               female FALSE      NA             FALSE   \n",
       "851372 white                  male   FALSE      NA             FALSE   \n",
       "851373 white                  male   FALSE      NA             FALSE   \n",
       "851374 white                  male   FALSE      NA             FALSE   \n",
       "851375 hispanic               male   FALSE      NA             FALSE   \n",
       "851376 hispanic               male   FALSE      NA             FALSE   \n",
       "851377 other                  female FALSE      NA             FALSE   \n",
       "851378 white                  female FALSE      NA             FALSE   \n",
       "851379 white                  male   FALSE      NA             FALSE   \n",
       "851380 other                  male   FALSE      NA             FALSE   \n",
       "851381 asian/pacific islander male   FALSE      NA             FALSE   \n",
       "851382 white                  male   FALSE      NA             FALSE   \n",
       "851383 white                  female FALSE      NA             FALSE   \n",
       "851384 hispanic               male   FALSE      NA             FALSE   \n",
       "851385 black                  male   FALSE    TRUE              TRUE   \n",
       "851386 asian/pacific islander male   FALSE      NA             FALSE   \n",
       "851387 hispanic               female FALSE      NA             FALSE   \n",
       "851388 white                  female FALSE      NA             FALSE   \n",
       "851389 asian/pacific islander male   FALSE      NA             FALSE   \n",
       "851390 black                  male   FALSE      NA             FALSE   \n",
       "851391 other                  female FALSE      NA             FALSE   \n",
       "       reason_for_stop                           yr  \n",
       "1      Mechanical or Non-Moving Violation (V.C.) 2007\n",
       "2      Moving Violation                          2007\n",
       "3      Moving Violation                          2007\n",
       "4      Moving Violation                          2007\n",
       "5      Moving Violation                          2007\n",
       "6      Moving Violation                          2007\n",
       "7      Moving Violation                          2007\n",
       "8      Moving Violation                          2007\n",
       "9      Moving Violation                          2007\n",
       "10     Moving Violation                          2007\n",
       "11     Moving Violation                          2007\n",
       "12     Mechanical or Non-Moving Violation (V.C.) 2007\n",
       "13     Moving Violation                          2007\n",
       "14     Moving Violation                          2007\n",
       "15     Moving Violation                          2007\n",
       "16     Moving Violation                          2007\n",
       "17     Moving Violation                          2007\n",
       "18     Moving Violation                          2007\n",
       "19     Moving Violation                          2007\n",
       "20     Moving Violation                          2007\n",
       "21     Moving Violation                          2007\n",
       "22     Moving Violation                          2007\n",
       "23     Moving Violation                          2007\n",
       "24     Moving Violation                          2007\n",
       "25     Moving Violation                          2007\n",
       "26     Moving Violation                          2007\n",
       "27     Mechanical or Non-Moving Violation (V.C.) 2007\n",
       "28     MPC Violation                             2007\n",
       "29     Mechanical or Non-Moving Violation (V.C.) 2007\n",
       "30     Moving Violation                          2007\n",
       "⋮      ⋮                                         ⋮   \n",
       "851362 Moving Violation                          2016\n",
       "851363 Moving Violation                          2016\n",
       "851364 Mechanical or Non-Moving Violation (V.C.) 2016\n",
       "851365 Mechanical or Non-Moving Violation (V.C.) 2016\n",
       "851366 Moving Violation                          2016\n",
       "851367 Moving Violation                          2016\n",
       "851368 Moving Violation                          2016\n",
       "851369 Moving Violation                          2016\n",
       "851370 Moving Violation                          2016\n",
       "851371 Moving Violation                          2016\n",
       "851372 Moving Violation                          2016\n",
       "851373 Moving Violation                          2016\n",
       "851374 Moving Violation                          2016\n",
       "851375 Moving Violation                          2016\n",
       "851376 Mechanical or Non-Moving Violation (V.C.) 2016\n",
       "851377 Moving Violation                          2016\n",
       "851378 Moving Violation                          2016\n",
       "851379 Moving Violation                          2016\n",
       "851380 Moving Violation                          2016\n",
       "851381 Moving Violation                          2016\n",
       "851382 Moving Violation                          2016\n",
       "851383 Moving Violation                          2016\n",
       "851384 Mechanical or Non-Moving Violation (V.C.) 2016\n",
       "851385 Mechanical or Non-Moving Violation (V.C.) 2016\n",
       "851386 Moving Violation                          2016\n",
       "851387 Moving Violation                          2016\n",
       "851388 Moving Violation                          2016\n",
       "851389 Moving Violation                          2016\n",
       "851390 Mechanical or Non-Moving Violation (V.C.) 2016\n",
       "851391 Moving Violation                          2016"
      ]
     },
     "metadata": {},
     "output_type": "display_data"
    }
   ],
   "source": [
    "stops_w_yr %>%\n",
    "    group_by(district)"
   ]
  },
  {
   "cell_type": "markdown",
   "metadata": {},
   "source": [
    "The second step is to do something with those groups. That's what `summarize()`\n",
    "does. The way `summarize()` works is to take a dataframe broken into groups by\n",
    "`group_by()` and calculate a statistic for each group. The basic syntax is\n",
    "`summarize(DATA, STAT = FUN(COL_NAME))`, where \n",
    "* `DATA` is some dataframe broken\n",
    "up by `group_by()`, \n",
    "* `STAT` is some statistic we want to calculate, \n",
    "* `FUN` is the\n",
    "function that calculates that statistic, and \n",
    "* `COL_NAME` is the name of the\n",
    "column (or columns) used to calculate the statistic.\n",
    "\n",
    "Let's put it all together with a simple example first."
   ]
  },
  {
   "cell_type": "code",
   "execution_count": 18,
   "metadata": {},
   "outputs": [
    {
     "data": {
      "text/html": [
       "<table>\n",
       "<thead><tr><th scope=col>name</th><th scope=col>gender</th><th scope=col>color</th><th scope=col>food</th><th scope=col>n_items</th></tr></thead>\n",
       "<tbody>\n",
       "\t<tr><td>Heaven</td><td>f     </td><td>green </td><td>apple </td><td> 4    </td></tr>\n",
       "\t<tr><td>Jesus </td><td>m     </td><td>blue  </td><td>apple </td><td>10    </td></tr>\n",
       "\t<tr><td>Grace </td><td>f     </td><td>green </td><td>apple </td><td>12    </td></tr>\n",
       "\t<tr><td>Maria </td><td>f     </td><td>blue  </td><td>banana</td><td>14    </td></tr>\n",
       "\t<tr><td>Juan  </td><td>m     </td><td>green </td><td>banana</td><td> 7    </td></tr>\n",
       "\t<tr><td>Tram  </td><td>f     </td><td>blue  </td><td>banana</td><td> 5    </td></tr>\n",
       "</tbody>\n",
       "</table>\n"
      ],
      "text/latex": [
       "\\begin{tabular}{r|lllll}\n",
       " name & gender & color & food & n\\_items\\\\\n",
       "\\hline\n",
       "\t Heaven & f      & green  & apple  &  4    \\\\\n",
       "\t Jesus  & m      & blue   & apple  & 10    \\\\\n",
       "\t Grace  & f      & green  & apple  & 12    \\\\\n",
       "\t Maria  & f      & blue   & banana & 14    \\\\\n",
       "\t Juan   & m      & green  & banana &  7    \\\\\n",
       "\t Tram   & f      & blue   & banana &  5    \\\\\n",
       "\\end{tabular}\n"
      ],
      "text/plain": [
       "  name   gender color food   n_items\n",
       "1 Heaven f      green apple   4     \n",
       "2 Jesus  m      blue  apple  10     \n",
       "3 Grace  f      green apple  12     \n",
       "4 Maria  f      blue  banana 14     \n",
       "5 Juan   m      green banana  7     \n",
       "6 Tram   f      blue  banana  5     "
      ]
     },
     "metadata": {},
     "output_type": "display_data"
    }
   ],
   "source": [
    "# Consider the following dataframe (a \"tibble\" is just a dataframe)\n",
    "d <- tibble(\n",
    "    name = c(\"Heaven\", \"Jesus\", \"Grace\", \"Maria\", \"Juan\", \"Tram\"), \n",
    "    gender = c(\"f\", \"m\", \"f\", \"f\", \"m\", \"f\"), \n",
    "    color = rep(c(\"green\", \"blue\"), 3),\n",
    "    food = c(rep(\"apple\", 3), rep(\"banana\",3)),\n",
    "    n_items = c(4,10,12,14,7,5)\n",
    ")\n",
    "d"
   ]
  },
  {
   "cell_type": "code",
   "execution_count": 19,
   "metadata": {},
   "outputs": [
    {
     "data": {
      "text/html": [
       "<table>\n",
       "<thead><tr><th scope=col>gender</th><th scope=col>total_items</th></tr></thead>\n",
       "<tbody>\n",
       "\t<tr><td>f </td><td>35</td></tr>\n",
       "\t<tr><td>m </td><td>17</td></tr>\n",
       "</tbody>\n",
       "</table>\n"
      ],
      "text/latex": [
       "\\begin{tabular}{r|ll}\n",
       " gender & total\\_items\\\\\n",
       "\\hline\n",
       "\t f  & 35\\\\\n",
       "\t m  & 17\\\\\n",
       "\\end{tabular}\n"
      ],
      "text/plain": [
       "  gender total_items\n",
       "1 f      35         \n",
       "2 m      17         "
      ]
     },
     "metadata": {},
     "output_type": "display_data"
    }
   ],
   "source": [
    "# If we want to figure out how many foods the girls have and how\n",
    "# many foods the boys have, we can `group_by` gender and then \n",
    "# `summarize` by summing the number of items.\n",
    "d %>%\n",
    "    group_by(gender) %>%\n",
    "    summarize(total_items = sum(n_items))"
   ]
  },
  {
   "cell_type": "code",
   "execution_count": null,
   "metadata": {},
   "outputs": [
    {
     "data": {
      "text/html": [
       "<table>\n",
       "<thead><tr><th scope=col>gender</th><th scope=col>total_items</th><th scope=col>avg_items</th></tr></thead>\n",
       "<tbody>\n",
       "\t<tr><td>f   </td><td>35  </td><td>8.75</td></tr>\n",
       "\t<tr><td>m   </td><td>17  </td><td>8.50</td></tr>\n",
       "</tbody>\n",
       "</table>\n"
      ],
      "text/latex": [
       "\\begin{tabular}{r|lll}\n",
       " gender & total\\_items & avg\\_items\\\\\n",
       "\\hline\n",
       "\t f    & 35   & 8.75\\\\\n",
       "\t m    & 17   & 8.50\\\\\n",
       "\\end{tabular}\n"
      ],
      "text/plain": [
       "  gender total_items avg_items\n",
       "1 f      35          8.75     \n",
       "2 m      17          8.50     "
      ]
     },
     "metadata": {},
     "output_type": "display_data"
    }
   ],
   "source": [
    "# We can also compute the _average_ number of items, the same way!\n",
    "d %>%\n",
    "    group_by(gender) %>%\n",
    "    summarize(\n",
    "        total_items = sum(n_items),\n",
    "        avg_items = mean(n_items)\n",
    "    )"
   ]
  },
  {
   "cell_type": "code",
   "execution_count": 272,
   "metadata": {},
   "outputs": [
    {
     "data": {
      "text/html": [
       "<table>\n",
       "<thead><tr><th scope=col>gender</th><th scope=col>total_items</th><th scope=col>num_people</th><th scope=col>avg_items</th></tr></thead>\n",
       "<tbody>\n",
       "\t<tr><td>f   </td><td>35  </td><td>4   </td><td>8.75</td></tr>\n",
       "\t<tr><td>m   </td><td>17  </td><td>2   </td><td>8.50</td></tr>\n",
       "</tbody>\n",
       "</table>\n"
      ],
      "text/latex": [
       "\\begin{tabular}{r|llll}\n",
       " gender & total\\_items & num\\_people & avg\\_items\\\\\n",
       "\\hline\n",
       "\t f    & 35   & 4    & 8.75\\\\\n",
       "\t m    & 17   & 2    & 8.50\\\\\n",
       "\\end{tabular}\n"
      ],
      "text/plain": [
       "  gender total_items num_people avg_items\n",
       "1 f      35          4          8.75     \n",
       "2 m      17          2          8.50     "
      ]
     },
     "metadata": {},
     "output_type": "display_data"
    }
   ],
   "source": [
    "# We can use the function `n()` to tell us how many instances\n",
    "# exist in each group (i.e., how many boys and how many girls we have)\n",
    "# This is another way we could compute the average ourselves!\n",
    "d %>%\n",
    "    group_by(gender) %>%\n",
    "    summarize(\n",
    "        total_items = sum(n_items),\n",
    "        num_people = n(),\n",
    "        avg_items = total_items / num_people\n",
    "    )\n"
   ]
  },
  {
   "cell_type": "markdown",
   "metadata": {},
   "source": [
    "Make sense? Now, using `group_by()` and `summarize()`, we'll calculate search rates by race group."
   ]
  },
  {
   "cell_type": "markdown",
   "metadata": {},
   "source": [
    "## Exercise 4: Search rates\n",
    "\n",
    "1. Compute search rates by race group. (Hint: Think about what information you'd need to compute a search rate. The `n()` function might be helpful!)\n",
    "2. Discuss the search rate findings. Are some race groups searched more often than other race groups, relative to their share of stopped drivers?\n",
    "\n",
    "NOTE: Since we're not comparing to population numbers, we can return to using our full `stops_w_yr` dataset, with all years!"
   ]
  },
  {
   "cell_type": "code",
   "execution_count": 273,
   "metadata": {},
   "outputs": [
    {
     "data": {
      "text/html": [
       "<table>\n",
       "<thead><tr><th scope=col>race</th><th scope=col>n_searched</th><th scope=col>n_stopped</th><th scope=col>search_rate</th></tr></thead>\n",
       "<tbody>\n",
       "\t<tr><td>asian/pacific islander</td><td> 2722                 </td><td>147669                </td><td>0.0184                </td></tr>\n",
       "\t<tr><td>black                 </td><td>22363                 </td><td>143754                </td><td>0.1556                </td></tr>\n",
       "\t<tr><td>hispanic              </td><td>11040                 </td><td>108848                </td><td>0.1014                </td></tr>\n",
       "\t<tr><td>other                 </td><td> 3616                 </td><td> 97839                </td><td>0.0370                </td></tr>\n",
       "\t<tr><td>white                 </td><td>11362                 </td><td>353281                </td><td>0.0322                </td></tr>\n",
       "</tbody>\n",
       "</table>\n"
      ],
      "text/latex": [
       "\\begin{tabular}{r|llll}\n",
       " race & n\\_searched & n\\_stopped & search\\_rate\\\\\n",
       "\\hline\n",
       "\t asian/pacific islander &  2722                  & 147669                 & 0.0184                \\\\\n",
       "\t black                  & 22363                  & 143754                 & 0.1556                \\\\\n",
       "\t hispanic               & 11040                  & 108848                 & 0.1014                \\\\\n",
       "\t other                  &  3616                  &  97839                 & 0.0370                \\\\\n",
       "\t white                  & 11362                  & 353281                 & 0.0322                \\\\\n",
       "\\end{tabular}\n"
      ],
      "text/plain": [
       "  race                   n_searched n_stopped search_rate\n",
       "1 asian/pacific islander  2722      147669    0.0184     \n",
       "2 black                  22363      143754    0.1556     \n",
       "3 hispanic               11040      108848    0.1014     \n",
       "4 other                   3616       97839    0.0370     \n",
       "5 white                  11362      353281    0.0322     "
      ]
     },
     "metadata": {},
     "output_type": "display_data"
    },
    {
     "data": {
      "text/html": [
       "<table>\n",
       "<thead><tr><th scope=col>race</th><th scope=col>search_rate</th></tr></thead>\n",
       "<tbody>\n",
       "\t<tr><td>asian/pacific islander</td><td>0.0184                </td></tr>\n",
       "\t<tr><td>black                 </td><td>0.1556                </td></tr>\n",
       "\t<tr><td>hispanic              </td><td>0.1014                </td></tr>\n",
       "\t<tr><td>other                 </td><td>0.0370                </td></tr>\n",
       "\t<tr><td>white                 </td><td>0.0322                </td></tr>\n",
       "</tbody>\n",
       "</table>\n"
      ],
      "text/latex": [
       "\\begin{tabular}{r|ll}\n",
       " race & search\\_rate\\\\\n",
       "\\hline\n",
       "\t asian/pacific islander & 0.0184                \\\\\n",
       "\t black                  & 0.1556                \\\\\n",
       "\t hispanic               & 0.1014                \\\\\n",
       "\t other                  & 0.0370                \\\\\n",
       "\t white                  & 0.0322                \\\\\n",
       "\\end{tabular}\n"
      ],
      "text/plain": [
       "  race                   search_rate\n",
       "1 asian/pacific islander 0.0184     \n",
       "2 black                  0.1556     \n",
       "3 hispanic               0.1014     \n",
       "4 other                  0.0370     \n",
       "5 white                  0.0322     "
      ]
     },
     "metadata": {},
     "output_type": "display_data"
    }
   ],
   "source": [
    "# YOUR CODE HERE\n",
    "# START\n",
    "#Search rates, METHOD 1\n",
    "stops_w_yr %>%\n",
    "    group_by(race) %>%\n",
    "    summarize(\n",
    "        n_searched = sum(searched),\n",
    "        n_stopped = n(),\n",
    "        search_rate = n_searched / n_stopped\n",
    "    )\n",
    "# Search rates, METHOD 2\n",
    "# This way is a bit tricky! It relies on the fact that booleans\n",
    "# (i.e., TRUE and FALSE) can be coerced into integers (1 and 0),\n",
    "# so `mean(searched)` takes the number of TRUEs divided by the\n",
    "# number of rows in each race group, which is exactly what METHOD 1\n",
    "# does, manually.\n",
    "stops_w_yr %>%\n",
    "    group_by(race) %>%\n",
    "    summarize(\n",
    "        search_rate = mean(searched)\n",
    "    )\n",
    "# END"
   ]
  },
  {
   "cell_type": "markdown",
   "metadata": {},
   "source": [
    "## Thought exercise: where search rates fall short\n",
    "* Do search rates have similar issues as we found with stop rates? Why or why not?\n",
    "* What might \"justifiably\" lead search rates to differ by race group?"
   ]
  },
  {
   "cell_type": "code",
   "execution_count": 23,
   "metadata": {},
   "outputs": [],
   "source": [
    "# Write your thoughts here (or just discuss)!\n",
    "# START\n",
    "# Search rates are slightly less suspect than stop rates, \n",
    "# since among the stopped population, it's more reasonable to \n",
    "# believe that people of different races offend at equal rates. \n",
    "# In the context of searches, this means assuming that all race groups \n",
    "# exhibit probable cause of possessing contraband at equal rates. \n",
    "# One could claim that the stopped population isn't a good \n",
    "# measure of the true racial distribution of probable cause. \n",
    "# This is all to say that while benchmark stats (stop rates, \n",
    "# search rates) are a good place to start, more investigation is \n",
    "# required before we can draw any strong conclusions.\n",
    "# END"
   ]
  },
  {
   "cell_type": "markdown",
   "metadata": {},
   "source": [
    "## Outcome test\n",
    "\n",
    "To circumvent the benchmarking problem, it's common to turn to the search \n",
    "decision, rather than the stop decision. This is because we have a notion of\n",
    "what a \"successful\" search is. The legal justification for performing a search\n",
    "is probable cause that the driver possesses contraband. So a successful search\n",
    "is one which uncovers contraband.\n",
    "\n",
    "We thus turn to rates of successful searches. That is, what proportion of\n",
    "searches, by race, were successful? This proportion is known as the contraband\n",
    "recovery rate, or the \"hit rate.\" If racial groups have different hit rates, it\n",
    "can imply that racial groups are being subjected to different standards."
   ]
  },
  {
   "cell_type": "markdown",
   "metadata": {},
   "source": [
    "## Thought Exercise: Hit rate interpretation\n",
    "\n",
    "As a caricatured example, suppose among white drivers who were searched, \n",
    "officers found contraband 99% of the time, while among black drivers who were\n",
    "searched, officers found contraband only 1% of the time. \n",
    "* Is this police department's search policy discriminatory? \n",
    "* Why or why not?\n",
    "* In general how can we use hit rates to understand whether a search policy is discriminatory?"
   ]
  },
  {
   "cell_type": "code",
   "execution_count": 24,
   "metadata": {},
   "outputs": [],
   "source": [
    "# Write your thoughts here (or just discuss)!\n",
    "# START\n",
    "# These hit rates would lead us to\n",
    "# believe that officers made sure they were _certain_ \n",
    "# white individuals had contraband before deciding to \n",
    "# search, but that they were searching black \n",
    "# individuals on a whiff of evidence.\n",
    "# In general, lower hit rates are a sign a group is being\n",
    "# discriminated against.\n",
    "# END"
   ]
  },
  {
   "cell_type": "markdown",
   "metadata": {},
   "source": [
    "\n",
    "Next let's investigate a non-caricatured case: real hit rates by race group in SF."
   ]
  },
  {
   "cell_type": "markdown",
   "metadata": {},
   "source": [
    "## Exercise 5: Hit rates\n",
    "\n",
    "1. Filter to drivers who were searched, and then compute the hit rate (rate of contraband recovery) by race group. Remember your `group_by()` and `summarize()` functions!\n",
    "\n",
    "2. Discuss your findings. "
   ]
  },
  {
   "cell_type": "code",
   "execution_count": 25,
   "metadata": {},
   "outputs": [
    {
     "data": {
      "text/html": [
       "<table>\n",
       "<thead><tr><th scope=col>race</th><th scope=col>hit_rate</th></tr></thead>\n",
       "<tbody>\n",
       "\t<tr><td>asian/pacific islander</td><td>0.3545                </td></tr>\n",
       "\t<tr><td>black                 </td><td>0.0916                </td></tr>\n",
       "\t<tr><td>hispanic              </td><td>0.0990                </td></tr>\n",
       "\t<tr><td>other                 </td><td>0.2016                </td></tr>\n",
       "\t<tr><td>white                 </td><td>0.2405                </td></tr>\n",
       "</tbody>\n",
       "</table>\n"
      ],
      "text/latex": [
       "\\begin{tabular}{r|ll}\n",
       " race & hit\\_rate\\\\\n",
       "\\hline\n",
       "\t asian/pacific islander & 0.3545                \\\\\n",
       "\t black                  & 0.0916                \\\\\n",
       "\t hispanic               & 0.0990                \\\\\n",
       "\t other                  & 0.2016                \\\\\n",
       "\t white                  & 0.2405                \\\\\n",
       "\\end{tabular}\n"
      ],
      "text/plain": [
       "  race                   hit_rate\n",
       "1 asian/pacific islander 0.3545  \n",
       "2 black                  0.0916  \n",
       "3 hispanic               0.0990  \n",
       "4 other                  0.2016  \n",
       "5 white                  0.2405  "
      ]
     },
     "metadata": {},
     "output_type": "display_data"
    }
   ],
   "source": [
    "# YOUR CODE HERE\n",
    "# START\n",
    "# 1.\n",
    "stops_w_yr %>%\n",
    "    filter(searched) %>%\n",
    "    group_by(race) %>%\n",
    "    summarize(hit_rate = mean(contraband_found))\n",
    "# 2.\n",
    "# Looks like the black and Hispanic hit rates are _much_\n",
    "# lower than the white hit rate -- this is a sign that\n",
    "# black and Hispanic drivers are probably being discriminated\n",
    "# against at the search decision.\n",
    "# END"
   ]
  },
  {
   "cell_type": "markdown",
   "metadata": {},
   "source": [
    "What if hit rates vary by police district? If the bar for stopping\n",
    "people, irrespective of race, is lower in certain police districts, and black\n",
    "individuals are more likely to live in neighborhoods in those districts, then\n",
    "the observed disparities may not reflect bias."
   ]
  },
  {
   "cell_type": "markdown",
   "metadata": {},
   "source": [
    "Let's compute hit rates by race _and_ district. We can do this simply by adding multiple arguments to the `group_by()` function. Run the code below."
   ]
  },
  {
   "cell_type": "code",
   "execution_count": 26,
   "metadata": {},
   "outputs": [
    {
     "data": {
      "text/html": [
       "50"
      ],
      "text/latex": [
       "50"
      ],
      "text/markdown": [
       "50"
      ],
      "text/plain": [
       "[1] 50"
      ]
     },
     "metadata": {},
     "output_type": "display_data"
    }
   ],
   "source": [
    "hit_rates <- \n",
    "  stops_w_yr %>% \n",
    "  filter(searched) %>% \n",
    "  group_by(race, district) %>% \n",
    "  summarize(hit_rate = mean(contraband_found))\n",
    "\n",
    "hit_rates %>% nrow()"
   ]
  },
  {
   "cell_type": "markdown",
   "metadata": {},
   "source": [
    "This is too many hit rates to compare in one table!"
   ]
  },
  {
   "cell_type": "markdown",
   "metadata": {},
   "source": [
    "## Exercise 6: Visualization brainstorm\n",
    "\n",
    "Sketch out using pen and paper how you might try to use visualizations to help us synthesize the 50 hit rates above. Start with the question we're trying to answer (Are hit rates for minority drivers lower than hit rates for white drivers?) -- and then think about what type of plot might best help you answer that question. See if you can come up with at least 3 different sketches!"
   ]
  },
  {
   "cell_type": "markdown",
   "metadata": {},
   "source": [
    "## One way to visualize: scatterplots"
   ]
  },
  {
   "cell_type": "code",
   "execution_count": null,
   "metadata": {},
   "outputs": [
    {
     "ename": "ERROR",
     "evalue": "Error in scales::percent_format(accuracy = 1): unused argument (accuracy = 1)\n",
     "execution_count": 28,
     "output_type": "error",
     "traceback": [
      "Error in scales::percent_format(accuracy = 1): unused argument (accuracy = 1)\nTraceback:\n",
      "1. scale_x_continuous(\"White hit rate\", limits = c(0, max_hit_rate + \n .     0.01), labels = scales::percent_format(accuracy = 1))",
      "2. continuous_scale(c(\"x\", \"xmin\", \"xmax\", \"xend\", \"xintercept\", \n .     \"xmin_final\", \"xmax_final\", \"xlower\", \"xmiddle\", \"xupper\"), \n .     \"position_c\", identity, name = name, breaks = breaks, minor_breaks = minor_breaks, \n .     labels = labels, limits = limits, expand = expand, oob = oob, \n .     na.value = na.value, trans = trans, guide = \"none\", position = position, \n .     super = ScaleContinuousPosition)",
      "3. check_breaks_labels(breaks, labels)"
     ]
    }
   ],
   "source": [
    "# Reshape table to show hit rates of minorities vs white drivers\n",
    "reshaped_hit_rates <-\n",
    "  hit_rates %>% \n",
    "  spread(race, hit_rate, fill = 0) %>% \n",
    "  rename(white_hit_rate = white) %>% \n",
    "  gather(\n",
    "      minority_race, minority_hit_rate, \n",
    "      c(black, hispanic, `asian/pacific islander`, other)\n",
    "  ) %>%\n",
    "  arrange(district)\n",
    "\n",
    "# We'll use this just to make our axes' limits nice and even\n",
    "max_hit_rate <-\n",
    "  reshaped_hit_rates %>% \n",
    "  select(ends_with(\"hit_rate\")) %>% \n",
    "  max()\n",
    "\n",
    "# Get corresponding number of searches (to size points).\n",
    "# Again, for each district we want to know the number of white+black searches\n",
    "# and white+Hispanic searches. This requires the same spreading and gathering\n",
    "# as our previous data-munging.\n",
    "search_counts <-\n",
    "  stops_w_yr %>% \n",
    "  filter(searched) %>%  \n",
    "  count(district, race) %>% \n",
    "  spread(race, n, fill = 0) %>% \n",
    "  rename(num_white_searches = white) %>% \n",
    "  gather(\n",
    "      minority_race, num_minority_searches, \n",
    "      c(black, hispanic, `asian/pacific islander`, other)\n",
    "  ) %>% \n",
    "  mutate(num_searches = num_minority_searches + num_white_searches) %>% \n",
    "  select(district, minority_race, num_searches)\n",
    "\n",
    "# Now let's plot!\n",
    "reshaped_hit_rates %>% \n",
    "  left_join(\n",
    "    search_counts, \n",
    "    by = c(\"district\", \"minority_race\")\n",
    "  ) %>% \n",
    "  ggplot(aes(\n",
    "    x = white_hit_rate,\n",
    "    y = minority_hit_rate\n",
    "  )) +\n",
    "  geom_point(aes(size = num_searches), pch = 21) +\n",
    "  geom_abline(slope = 1, intercept = 0, linetype = \"dashed\") +\n",
    "  scale_x_continuous(\"White hit rate\", \n",
    "    limits = c(0, max_hit_rate + 0.01),\n",
    "    labels = scales::percent_format(accuracy = 1)\n",
    "  ) +\n",
    "  scale_y_continuous(\"Minority hit rate\", \n",
    "    limits = c(0, max_hit_rate + 0.01),\n",
    "    labels = scales::percent_format(accuracy = 1)\n",
    "  ) +\n",
    "  coord_fixed() +\n",
    "  facet_wrap(vars(minority_race))"
   ]
  },
  {
   "cell_type": "markdown",
   "metadata": {},
   "source": [
    "## Exercise 7: Plot interpretation\n",
    "\n",
    "Explain what you see above. What does each point represent? What does the dotted line represent? What do these plots tell us about discrimination in search practices?"
   ]
  },
  {
   "cell_type": "markdown",
   "metadata": {},
   "source": [
    "## Exercise 8: Regression\n",
    "\n",
    "Instead of separately computing the hit rate for each race/district, we can instead regress whether contraband was found against the drivers' race and district.  Because whether contraband was found is a binomial (0/1) variable, it is standard to use logistic regression for this task."
   ]
  },
  {
   "cell_type": "code",
   "execution_count": 49,
   "metadata": {},
   "outputs": [
    {
     "data": {
      "text/html": [
       "<table>\n",
       "<thead><tr><th scope=col>term</th><th scope=col>estimate</th><th scope=col>std.error</th><th scope=col>statistic</th><th scope=col>p.value</th></tr></thead>\n",
       "<tbody>\n",
       "\t<tr><td>(Intercept) </td><td>-0.6245     </td><td>0.0634      </td><td> -9.85      </td><td> 6.81e-23   </td></tr>\n",
       "\t<tr><td>raceblack   </td><td>-1.5349     </td><td>0.0479      </td><td>-32.04      </td><td>2.67e-225   </td></tr>\n",
       "\t<tr><td>racehispanic</td><td>-1.5098     </td><td>0.0524      </td><td>-28.82      </td><td>1.18e-182   </td></tr>\n",
       "\t<tr><td>raceother   </td><td>-0.7079     </td><td>0.0581      </td><td>-12.18      </td><td> 3.78e-34   </td></tr>\n",
       "\t<tr><td>racewhite   </td><td>-0.4961     </td><td>0.0462      </td><td>-10.74      </td><td> 6.96e-27   </td></tr>\n",
       "\t<tr><td>districtB   </td><td>-0.1288     </td><td>0.0634      </td><td> -2.03      </td><td> 4.22e-02   </td></tr>\n",
       "\t<tr><td>districtC   </td><td>-0.2832     </td><td>0.0616      </td><td> -4.60      </td><td> 4.31e-06   </td></tr>\n",
       "\t<tr><td>districtD   </td><td>-0.2381     </td><td>0.0639      </td><td> -3.73      </td><td> 1.95e-04   </td></tr>\n",
       "\t<tr><td>districtE   </td><td>-0.2041     </td><td>0.0664      </td><td> -3.08      </td><td> 2.10e-03   </td></tr>\n",
       "\t<tr><td>districtF   </td><td> 0.0901     </td><td>0.0751      </td><td>  1.20      </td><td> 2.30e-01   </td></tr>\n",
       "\t<tr><td>districtG   </td><td> 0.4013     </td><td>0.0728      </td><td>  5.52      </td><td> 3.48e-08   </td></tr>\n",
       "\t<tr><td>districtH   </td><td> 0.0693     </td><td>0.0595      </td><td>  1.16      </td><td> 2.44e-01   </td></tr>\n",
       "\t<tr><td>districtI   </td><td> 0.1995     </td><td>0.0657      </td><td>  3.04      </td><td> 2.40e-03   </td></tr>\n",
       "\t<tr><td>districtJ   </td><td>-0.1477     </td><td>0.0693      </td><td> -2.13      </td><td> 3.31e-02   </td></tr>\n",
       "</tbody>\n",
       "</table>\n"
      ],
      "text/latex": [
       "\\begin{tabular}{r|lllll}\n",
       " term & estimate & std.error & statistic & p.value\\\\\n",
       "\\hline\n",
       "\t (Intercept)  & -0.6245      & 0.0634       &  -9.85       &  6.81e-23   \\\\\n",
       "\t raceblack    & -1.5349      & 0.0479       & -32.04       & 2.67e-225   \\\\\n",
       "\t racehispanic & -1.5098      & 0.0524       & -28.82       & 1.18e-182   \\\\\n",
       "\t raceother    & -0.7079      & 0.0581       & -12.18       &  3.78e-34   \\\\\n",
       "\t racewhite    & -0.4961      & 0.0462       & -10.74       &  6.96e-27   \\\\\n",
       "\t districtB    & -0.1288      & 0.0634       &  -2.03       &  4.22e-02   \\\\\n",
       "\t districtC    & -0.2832      & 0.0616       &  -4.60       &  4.31e-06   \\\\\n",
       "\t districtD    & -0.2381      & 0.0639       &  -3.73       &  1.95e-04   \\\\\n",
       "\t districtE    & -0.2041      & 0.0664       &  -3.08       &  2.10e-03   \\\\\n",
       "\t districtF    &  0.0901      & 0.0751       &   1.20       &  2.30e-01   \\\\\n",
       "\t districtG    &  0.4013      & 0.0728       &   5.52       &  3.48e-08   \\\\\n",
       "\t districtH    &  0.0693      & 0.0595       &   1.16       &  2.44e-01   \\\\\n",
       "\t districtI    &  0.1995      & 0.0657       &   3.04       &  2.40e-03   \\\\\n",
       "\t districtJ    & -0.1477      & 0.0693       &  -2.13       &  3.31e-02   \\\\\n",
       "\\end{tabular}\n"
      ],
      "text/plain": [
       "   term         estimate std.error statistic p.value  \n",
       "1  (Intercept)  -0.6245  0.0634     -9.85     6.81e-23\n",
       "2  raceblack    -1.5349  0.0479    -32.04    2.67e-225\n",
       "3  racehispanic -1.5098  0.0524    -28.82    1.18e-182\n",
       "4  raceother    -0.7079  0.0581    -12.18     3.78e-34\n",
       "5  racewhite    -0.4961  0.0462    -10.74     6.96e-27\n",
       "6  districtB    -0.1288  0.0634     -2.03     4.22e-02\n",
       "7  districtC    -0.2832  0.0616     -4.60     4.31e-06\n",
       "8  districtD    -0.2381  0.0639     -3.73     1.95e-04\n",
       "9  districtE    -0.2041  0.0664     -3.08     2.10e-03\n",
       "10 districtF     0.0901  0.0751      1.20     2.30e-01\n",
       "11 districtG     0.4013  0.0728      5.52     3.48e-08\n",
       "12 districtH     0.0693  0.0595      1.16     2.44e-01\n",
       "13 districtI     0.1995  0.0657      3.04     2.40e-03\n",
       "14 districtJ    -0.1477  0.0693     -2.13     3.31e-02"
      ]
     },
     "metadata": {},
     "output_type": "display_data"
    }
   ],
   "source": [
    "library(broom) #library for turning messy r output to tidy dataframes\n",
    "searched_df <- stops_w_yr %>% \n",
    "    filter(searched) %>%\n",
    "    mutate(race = factor(race))\n",
    "\n",
    "mod <- glm(contraband_found ~ 1 + race + district, data = searched_df, family = 'binomial')\n",
    "tidy(mod)"
   ]
  },
  {
   "cell_type": "markdown",
   "metadata": {},
   "source": [
    "Notice that there is no term for asian/pacific islander or district A in the above table.  This is because they were set as reference levels, which happens whenever you use a categorical variable in a regression.  We want to set white as the reference level for race so that we can read the coefficients for other races as comparisons to it.  "
   ]
  },
  {
   "cell_type": "code",
   "execution_count": 80,
   "metadata": {},
   "outputs": [
    {
     "data": {
      "text/html": [
       "<table>\n",
       "<thead><tr><th scope=col>term</th><th scope=col>estimate</th><th scope=col>std.error</th><th scope=col>statistic</th><th scope=col>p.value</th></tr></thead>\n",
       "<tbody>\n",
       "\t<tr><td>(Intercept)               </td><td>-1.1206                   </td><td>0.0535                    </td><td>-20.96                    </td><td> 1.46e-97                 </td></tr>\n",
       "\t<tr><td>raceasian/pacific islander</td><td> 0.4961                   </td><td>0.0462                    </td><td> 10.74                    </td><td> 6.96e-27                 </td></tr>\n",
       "\t<tr><td>raceblack                 </td><td>-1.0388                   </td><td>0.0336                    </td><td>-30.91                    </td><td>8.77e-210                 </td></tr>\n",
       "\t<tr><td>racehispanic              </td><td>-1.0137                   </td><td>0.0398                    </td><td>-25.46                    </td><td>5.89e-143                 </td></tr>\n",
       "\t<tr><td>raceother                 </td><td>-0.2118                   </td><td>0.0472                    </td><td> -4.48                    </td><td> 7.33e-06                 </td></tr>\n",
       "\t<tr><td>districtB                 </td><td>-0.1288                   </td><td>0.0634                    </td><td> -2.03                    </td><td> 4.22e-02                 </td></tr>\n",
       "\t<tr><td>districtC                 </td><td>-0.2832                   </td><td>0.0616                    </td><td> -4.60                    </td><td> 4.31e-06                 </td></tr>\n",
       "\t<tr><td>districtD                 </td><td>-0.2381                   </td><td>0.0639                    </td><td> -3.73                    </td><td> 1.95e-04                 </td></tr>\n",
       "\t<tr><td>districtE                 </td><td>-0.2041                   </td><td>0.0664                    </td><td> -3.08                    </td><td> 2.10e-03                 </td></tr>\n",
       "\t<tr><td>districtF                 </td><td> 0.0901                   </td><td>0.0751                    </td><td>  1.20                    </td><td> 2.30e-01                 </td></tr>\n",
       "\t<tr><td>districtG                 </td><td> 0.4013                   </td><td>0.0728                    </td><td>  5.52                    </td><td> 3.48e-08                 </td></tr>\n",
       "\t<tr><td>districtH                 </td><td> 0.0693                   </td><td>0.0595                    </td><td>  1.16                    </td><td> 2.44e-01                 </td></tr>\n",
       "\t<tr><td>districtI                 </td><td> 0.1995                   </td><td>0.0657                    </td><td>  3.04                    </td><td> 2.40e-03                 </td></tr>\n",
       "\t<tr><td>districtJ                 </td><td>-0.1477                   </td><td>0.0693                    </td><td> -2.13                    </td><td> 3.31e-02                 </td></tr>\n",
       "</tbody>\n",
       "</table>\n"
      ],
      "text/latex": [
       "\\begin{tabular}{r|lllll}\n",
       " term & estimate & std.error & statistic & p.value\\\\\n",
       "\\hline\n",
       "\t (Intercept)                & -1.1206                    & 0.0535                     & -20.96                     &  1.46e-97                 \\\\\n",
       "\t raceasian/pacific islander &  0.4961                    & 0.0462                     &  10.74                     &  6.96e-27                 \\\\\n",
       "\t raceblack                  & -1.0388                    & 0.0336                     & -30.91                     & 8.77e-210                 \\\\\n",
       "\t racehispanic               & -1.0137                    & 0.0398                     & -25.46                     & 5.89e-143                 \\\\\n",
       "\t raceother                  & -0.2118                    & 0.0472                     &  -4.48                     &  7.33e-06                 \\\\\n",
       "\t districtB                  & -0.1288                    & 0.0634                     &  -2.03                     &  4.22e-02                 \\\\\n",
       "\t districtC                  & -0.2832                    & 0.0616                     &  -4.60                     &  4.31e-06                 \\\\\n",
       "\t districtD                  & -0.2381                    & 0.0639                     &  -3.73                     &  1.95e-04                 \\\\\n",
       "\t districtE                  & -0.2041                    & 0.0664                     &  -3.08                     &  2.10e-03                 \\\\\n",
       "\t districtF                  &  0.0901                    & 0.0751                     &   1.20                     &  2.30e-01                 \\\\\n",
       "\t districtG                  &  0.4013                    & 0.0728                     &   5.52                     &  3.48e-08                 \\\\\n",
       "\t districtH                  &  0.0693                    & 0.0595                     &   1.16                     &  2.44e-01                 \\\\\n",
       "\t districtI                  &  0.1995                    & 0.0657                     &   3.04                     &  2.40e-03                 \\\\\n",
       "\t districtJ                  & -0.1477                    & 0.0693                     &  -2.13                     &  3.31e-02                 \\\\\n",
       "\\end{tabular}\n"
      ],
      "text/plain": [
       "   term                       estimate std.error statistic p.value  \n",
       "1  (Intercept)                -1.1206  0.0535    -20.96     1.46e-97\n",
       "2  raceasian/pacific islander  0.4961  0.0462     10.74     6.96e-27\n",
       "3  raceblack                  -1.0388  0.0336    -30.91    8.77e-210\n",
       "4  racehispanic               -1.0137  0.0398    -25.46    5.89e-143\n",
       "5  raceother                  -0.2118  0.0472     -4.48     7.33e-06\n",
       "6  districtB                  -0.1288  0.0634     -2.03     4.22e-02\n",
       "7  districtC                  -0.2832  0.0616     -4.60     4.31e-06\n",
       "8  districtD                  -0.2381  0.0639     -3.73     1.95e-04\n",
       "9  districtE                  -0.2041  0.0664     -3.08     2.10e-03\n",
       "10 districtF                   0.0901  0.0751      1.20     2.30e-01\n",
       "11 districtG                   0.4013  0.0728      5.52     3.48e-08\n",
       "12 districtH                   0.0693  0.0595      1.16     2.44e-01\n",
       "13 districtI                   0.1995  0.0657      3.04     2.40e-03\n",
       "14 districtJ                  -0.1477  0.0693     -2.13     3.31e-02"
      ]
     },
     "metadata": {},
     "output_type": "display_data"
    }
   ],
   "source": [
    "searched_df$race <- relevel(searched_df$race, ref='white')\n",
    "mod <- glm(contraband_found ~ 1 + race + district, data = searched_df, family = 'binomial')\n",
    "tidy(mod)"
   ]
  },
  {
   "cell_type": "markdown",
   "metadata": {},
   "source": [
    "With this analysis, instead of our scatterplot from before, we have a set of coefficients.  How could we assess discrimination within search practices with the coefficients, as opposed to the scatterplot?  "
   ]
  },
  {
   "cell_type": "markdown",
   "metadata": {},
   "source": [
    "Now, try to run a regression which also controls for the reason that the stop was made. Store the results of the regression in mod2, and display the coefficients. "
   ]
  },
  {
   "cell_type": "code",
   "execution_count": 81,
   "metadata": {},
   "outputs": [
    {
     "data": {
      "text/html": [
       "<table>\n",
       "<thead><tr><th scope=col>term</th><th scope=col>estimate</th><th scope=col>std.error</th><th scope=col>statistic</th><th scope=col>p.value</th></tr></thead>\n",
       "<tbody>\n",
       "\t<tr><td>(Intercept)                                                              </td><td>-1.5352                                                                  </td><td>  0.2947                                                                 </td><td> -5.2090                                                                 </td><td> 1.90e-07                                                                </td></tr>\n",
       "\t<tr><td>raceasian/pacific islander                                               </td><td> 0.4691                                                                  </td><td>  0.0482                                                                 </td><td>  9.7365                                                                 </td><td> 2.11e-22                                                                </td></tr>\n",
       "\t<tr><td>raceblack                                                                </td><td>-1.0062                                                                  </td><td>  0.0352                                                                 </td><td>-28.5948                                                                 </td><td>7.81e-180                                                                </td></tr>\n",
       "\t<tr><td>racehispanic                                                             </td><td>-1.0746                                                                  </td><td>  0.0411                                                                 </td><td>-26.1210                                                                 </td><td>2.11e-150                                                                </td></tr>\n",
       "\t<tr><td>raceother                                                                </td><td>-0.1761                                                                  </td><td>  0.0490                                                                 </td><td> -3.5920                                                                 </td><td> 3.28e-04                                                                </td></tr>\n",
       "\t<tr><td>districtB                                                                </td><td>-0.1111                                                                  </td><td>  0.0661                                                                 </td><td> -1.6821                                                                 </td><td> 9.26e-02                                                                </td></tr>\n",
       "\t<tr><td>districtC                                                                </td><td>-0.2191                                                                  </td><td>  0.0643                                                                 </td><td> -3.4060                                                                 </td><td> 6.59e-04                                                                </td></tr>\n",
       "\t<tr><td>districtD                                                                </td><td>-0.1819                                                                  </td><td>  0.0666                                                                 </td><td> -2.7327                                                                 </td><td> 6.28e-03                                                                </td></tr>\n",
       "\t<tr><td>districtE                                                                </td><td>-0.1028                                                                  </td><td>  0.0694                                                                 </td><td> -1.4823                                                                 </td><td> 1.38e-01                                                                </td></tr>\n",
       "\t<tr><td>districtF                                                                </td><td> 0.2061                                                                  </td><td>  0.0781                                                                 </td><td>  2.6393                                                                 </td><td> 8.31e-03                                                                </td></tr>\n",
       "\t<tr><td>districtG                                                                </td><td> 0.4629                                                                  </td><td>  0.0760                                                                 </td><td>  6.0945                                                                 </td><td> 1.10e-09                                                                </td></tr>\n",
       "\t<tr><td>districtH                                                                </td><td> 0.1458                                                                  </td><td>  0.0620                                                                 </td><td>  2.3499                                                                 </td><td> 1.88e-02                                                                </td></tr>\n",
       "\t<tr><td>districtI                                                                </td><td> 0.2659                                                                  </td><td>  0.0687                                                                 </td><td>  3.8735                                                                 </td><td> 1.07e-04                                                                </td></tr>\n",
       "\t<tr><td>districtJ                                                                </td><td>-0.0977                                                                  </td><td>  0.0728                                                                 </td><td> -1.3416                                                                 </td><td> 1.80e-01                                                                </td></tr>\n",
       "\t<tr><td>reason_for_stopBOLO/APB/Warrant                                          </td><td> 0.5964                                                                  </td><td>  0.3127                                                                 </td><td>  1.9071                                                                 </td><td> 5.65e-02                                                                </td></tr>\n",
       "\t<tr><td>reason_for_stopDUI Check                                                 </td><td> 0.2946                                                                  </td><td>  0.3548                                                                 </td><td>  0.8302                                                                 </td><td> 4.06e-01                                                                </td></tr>\n",
       "\t<tr><td>reason_for_stopMechanical or Non-Moving Violation (V.C.)                 </td><td>-0.4419                                                                  </td><td>  0.2910                                                                 </td><td> -1.5185                                                                 </td><td> 1.29e-01                                                                </td></tr>\n",
       "\t<tr><td>reason_for_stopMechanical or Non-Moving Violation (V.C.)|BOLO/APB/Warrant</td><td>-7.8585                                                                  </td><td>119.4684                                                                 </td><td> -0.0658                                                                 </td><td> 9.48e-01                                                                </td></tr>\n",
       "\t<tr><td>reason_for_stopMoving Violation                                          </td><td> 0.8008                                                                  </td><td>  0.2903                                                                 </td><td>  2.7583                                                                 </td><td> 5.81e-03                                                                </td></tr>\n",
       "\t<tr><td>reason_for_stopMoving Violation|DUI Check                                </td><td>-9.1190                                                                  </td><td> 84.1854                                                                 </td><td> -0.1083                                                                 </td><td> 9.14e-01                                                                </td></tr>\n",
       "\t<tr><td>reason_for_stopMoving Violation|Mechanical or Non-Moving Violation (V.C.)</td><td>-0.1327                                                                  </td><td>  1.1075                                                                 </td><td> -0.1198                                                                 </td><td> 9.05e-01                                                                </td></tr>\n",
       "\t<tr><td>reason_for_stopMPC Violation                                             </td><td> 0.1716                                                                  </td><td>  0.3312                                                                 </td><td>  0.5181                                                                 </td><td> 6.04e-01                                                                </td></tr>\n",
       "\t<tr><td>reason_for_stopTraffic Collision                                         </td><td>-0.6847                                                                  </td><td>  0.3745                                                                 </td><td> -1.8283                                                                 </td><td> 6.75e-02                                                                </td></tr>\n",
       "</tbody>\n",
       "</table>\n"
      ],
      "text/latex": [
       "\\begin{tabular}{r|lllll}\n",
       " term & estimate & std.error & statistic & p.value\\\\\n",
       "\\hline\n",
       "\t (Intercept)                                                               & -1.5352                                                                   &   0.2947                                                                  &  -5.2090                                                                  &  1.90e-07                                                                \\\\\n",
       "\t raceasian/pacific islander                                                &  0.4691                                                                   &   0.0482                                                                  &   9.7365                                                                  &  2.11e-22                                                                \\\\\n",
       "\t raceblack                                                                 & -1.0062                                                                   &   0.0352                                                                  & -28.5948                                                                  & 7.81e-180                                                                \\\\\n",
       "\t racehispanic                                                              & -1.0746                                                                   &   0.0411                                                                  & -26.1210                                                                  & 2.11e-150                                                                \\\\\n",
       "\t raceother                                                                 & -0.1761                                                                   &   0.0490                                                                  &  -3.5920                                                                  &  3.28e-04                                                                \\\\\n",
       "\t districtB                                                                 & -0.1111                                                                   &   0.0661                                                                  &  -1.6821                                                                  &  9.26e-02                                                                \\\\\n",
       "\t districtC                                                                 & -0.2191                                                                   &   0.0643                                                                  &  -3.4060                                                                  &  6.59e-04                                                                \\\\\n",
       "\t districtD                                                                 & -0.1819                                                                   &   0.0666                                                                  &  -2.7327                                                                  &  6.28e-03                                                                \\\\\n",
       "\t districtE                                                                 & -0.1028                                                                   &   0.0694                                                                  &  -1.4823                                                                  &  1.38e-01                                                                \\\\\n",
       "\t districtF                                                                 &  0.2061                                                                   &   0.0781                                                                  &   2.6393                                                                  &  8.31e-03                                                                \\\\\n",
       "\t districtG                                                                 &  0.4629                                                                   &   0.0760                                                                  &   6.0945                                                                  &  1.10e-09                                                                \\\\\n",
       "\t districtH                                                                 &  0.1458                                                                   &   0.0620                                                                  &   2.3499                                                                  &  1.88e-02                                                                \\\\\n",
       "\t districtI                                                                 &  0.2659                                                                   &   0.0687                                                                  &   3.8735                                                                  &  1.07e-04                                                                \\\\\n",
       "\t districtJ                                                                 & -0.0977                                                                   &   0.0728                                                                  &  -1.3416                                                                  &  1.80e-01                                                                \\\\\n",
       "\t reason\\_for\\_stopBOLO/APB/Warrant                                           &  0.5964                                                                       &   0.3127                                                                      &   1.9071                                                                      &  5.65e-02                                                                    \\\\\n",
       "\t reason\\_for\\_stopDUI Check                                                  &  0.2946                                                                       &   0.3548                                                                      &   0.8302                                                                      &  4.06e-01                                                                    \\\\\n",
       "\t reason\\_for\\_stopMechanical or Non-Moving Violation (V.C.)                  & -0.4419                                                                       &   0.2910                                                                      &  -1.5185                                                                      &  1.29e-01                                                                    \\\\\n",
       "\t reason\\_for\\_stopMechanical or Non-Moving Violation (V.C.)\\textbar{}BOLO/APB/Warrant & -7.8585                                                                                 & 119.4684                                                                                &  -0.0658                                                                                &  9.48e-01                                                                              \\\\\n",
       "\t reason\\_for\\_stopMoving Violation                                           &  0.8008                                                                       &   0.2903                                                                      &   2.7583                                                                      &  5.81e-03                                                                    \\\\\n",
       "\t reason\\_for\\_stopMoving Violation\\textbar{}DUI Check                                 & -9.1190                                                                                 &  84.1854                                                                                &  -0.1083                                                                                &  9.14e-01                                                                              \\\\\n",
       "\t reason\\_for\\_stopMoving Violation\\textbar{}Mechanical or Non-Moving Violation (V.C.) & -0.1327                                                                                 &   1.1075                                                                                &  -0.1198                                                                                &  9.05e-01                                                                              \\\\\n",
       "\t reason\\_for\\_stopMPC Violation                                              &  0.1716                                                                       &   0.3312                                                                      &   0.5181                                                                      &  6.04e-01                                                                    \\\\\n",
       "\t reason\\_for\\_stopTraffic Collision                                          & -0.6847                                                                       &   0.3745                                                                      &  -1.8283                                                                      &  6.75e-02                                                                    \\\\\n",
       "\\end{tabular}\n"
      ],
      "text/plain": [
       "   term                                                                     \n",
       "1  (Intercept)                                                              \n",
       "2  raceasian/pacific islander                                               \n",
       "3  raceblack                                                                \n",
       "4  racehispanic                                                             \n",
       "5  raceother                                                                \n",
       "6  districtB                                                                \n",
       "7  districtC                                                                \n",
       "8  districtD                                                                \n",
       "9  districtE                                                                \n",
       "10 districtF                                                                \n",
       "11 districtG                                                                \n",
       "12 districtH                                                                \n",
       "13 districtI                                                                \n",
       "14 districtJ                                                                \n",
       "15 reason_for_stopBOLO/APB/Warrant                                          \n",
       "16 reason_for_stopDUI Check                                                 \n",
       "17 reason_for_stopMechanical or Non-Moving Violation (V.C.)                 \n",
       "18 reason_for_stopMechanical or Non-Moving Violation (V.C.)|BOLO/APB/Warrant\n",
       "19 reason_for_stopMoving Violation                                          \n",
       "20 reason_for_stopMoving Violation|DUI Check                                \n",
       "21 reason_for_stopMoving Violation|Mechanical or Non-Moving Violation (V.C.)\n",
       "22 reason_for_stopMPC Violation                                             \n",
       "23 reason_for_stopTraffic Collision                                         \n",
       "   estimate std.error statistic p.value  \n",
       "1  -1.5352    0.2947   -5.2090   1.90e-07\n",
       "2   0.4691    0.0482    9.7365   2.11e-22\n",
       "3  -1.0062    0.0352  -28.5948  7.81e-180\n",
       "4  -1.0746    0.0411  -26.1210  2.11e-150\n",
       "5  -0.1761    0.0490   -3.5920   3.28e-04\n",
       "6  -0.1111    0.0661   -1.6821   9.26e-02\n",
       "7  -0.2191    0.0643   -3.4060   6.59e-04\n",
       "8  -0.1819    0.0666   -2.7327   6.28e-03\n",
       "9  -0.1028    0.0694   -1.4823   1.38e-01\n",
       "10  0.2061    0.0781    2.6393   8.31e-03\n",
       "11  0.4629    0.0760    6.0945   1.10e-09\n",
       "12  0.1458    0.0620    2.3499   1.88e-02\n",
       "13  0.2659    0.0687    3.8735   1.07e-04\n",
       "14 -0.0977    0.0728   -1.3416   1.80e-01\n",
       "15  0.5964    0.3127    1.9071   5.65e-02\n",
       "16  0.2946    0.3548    0.8302   4.06e-01\n",
       "17 -0.4419    0.2910   -1.5185   1.29e-01\n",
       "18 -7.8585  119.4684   -0.0658   9.48e-01\n",
       "19  0.8008    0.2903    2.7583   5.81e-03\n",
       "20 -9.1190   84.1854   -0.1083   9.14e-01\n",
       "21 -0.1327    1.1075   -0.1198   9.05e-01\n",
       "22  0.1716    0.3312    0.5181   6.04e-01\n",
       "23 -0.6847    0.3745   -1.8283   6.75e-02"
      ]
     },
     "metadata": {},
     "output_type": "display_data"
    }
   ],
   "source": [
    "mod2 <- glm(contraband_found ~ 1 + race + district + reason_for_stop, data = searched_df, family = 'binomial')\n",
    "tidy(mod2)"
   ]
  },
  {
   "cell_type": "markdown",
   "metadata": {},
   "source": [
    "So far, we've included location and stop reason in our regression to control for them.  Do you think it is reasonable to control for those?  What are the pros and cons?"
   ]
  },
  {
   "cell_type": "markdown",
   "metadata": {},
   "source": [
    "## Exercise 9: Prediction\n",
    "\n",
    "Now that we have our model, let's say we wanted to predict the probability that a white person living in district E who was searched would be found to have contraband on them. For this task, we'll use our original model which only considers race and district."
   ]
  },
  {
   "cell_type": "code",
   "execution_count": 82,
   "metadata": {},
   "outputs": [
    {
     "data": {
      "text/html": [
       "<strong>1:</strong> 0.210048252084289"
      ],
      "text/latex": [
       "\\textbf{1:} 0.210048252084289"
      ],
      "text/markdown": [
       "**1:** 0.210048252084289"
      ],
      "text/plain": [
       "   1 \n",
       "0.21 "
      ]
     },
     "metadata": {},
     "output_type": "display_data"
    }
   ],
   "source": [
    "person <- tibble(race = c('white'),\n",
    "      district = c('E'))\n",
    "predict(mod, person, type='response')"
   ]
  },
  {
   "cell_type": "markdown",
   "metadata": {},
   "source": [
    "We need type='response' so that R knows we want it to output probabilities.  Otherwise, it will output log odds, which is the scale that logistic regression uses.  "
   ]
  },
  {
   "cell_type": "markdown",
   "metadata": {},
   "source": [
    "Now, try to predict the probabilities for each district that a hispanic person who was searched would be found to have contraband on them.  "
   ]
  },
  {
   "cell_type": "code",
   "execution_count": 83,
   "metadata": {},
   "outputs": [
    {
     "data": {
      "text/html": [
       "<dl class=dl-horizontal>\n",
       "\t<dt>1</dt>\n",
       "\t\t<dd>0.245908503699236</dd>\n",
       "\t<dt>2</dt>\n",
       "\t\t<dd>0.222818416931641</dd>\n",
       "\t<dt>3</dt>\n",
       "\t\t<dd>0.197219140160713</dd>\n",
       "\t<dt>4</dt>\n",
       "\t\t<dd>0.204457618766828</dd>\n",
       "\t<dt>5</dt>\n",
       "\t\t<dd>0.210048252084289</dd>\n",
       "\t<dt>6</dt>\n",
       "\t\t<dd>0.262987793676587</dd>\n",
       "\t<dt>7</dt>\n",
       "\t\t<dd>0.327556756891387</dd>\n",
       "\t<dt>8</dt>\n",
       "\t\t<dd>0.258980870175726</dd>\n",
       "\t<dt>9</dt>\n",
       "\t\t<dd>0.284736359461652</dd>\n",
       "\t<dt>10</dt>\n",
       "\t\t<dd>0.219548705055792</dd>\n",
       "</dl>\n"
      ],
      "text/latex": [
       "\\begin{description*}\n",
       "\\item[1] 0.245908503699236\n",
       "\\item[2] 0.222818416931641\n",
       "\\item[3] 0.197219140160713\n",
       "\\item[4] 0.204457618766828\n",
       "\\item[5] 0.210048252084289\n",
       "\\item[6] 0.262987793676587\n",
       "\\item[7] 0.327556756891387\n",
       "\\item[8] 0.258980870175726\n",
       "\\item[9] 0.284736359461652\n",
       "\\item[10] 0.219548705055792\n",
       "\\end{description*}\n"
      ],
      "text/markdown": [
       "1\n",
       ":   0.2459085036992362\n",
       ":   0.2228184169316413\n",
       ":   0.1972191401607134\n",
       ":   0.2044576187668285\n",
       ":   0.2100482520842896\n",
       ":   0.2629877936765877\n",
       ":   0.3275567568913878\n",
       ":   0.2589808701757269\n",
       ":   0.28473635946165210\n",
       ":   0.219548705055792\n",
       "\n"
      ],
      "text/plain": [
       "    1     2     3     4     5     6     7     8     9    10 \n",
       "0.246 0.223 0.197 0.204 0.210 0.263 0.328 0.259 0.285 0.220 "
      ]
     },
     "metadata": {},
     "output_type": "display_data"
    }
   ],
   "source": [
    "people <- tibble(race = rep('white', 10),\n",
    "                district = LETTERS[1:10])\n",
    "predict(mod, people, type='response')"
   ]
  }
 ],
 "metadata": {
  "kernelspec": {
   "display_name": "R",
   "language": "R",
   "name": "ir"
  },
  "language_info": {
   "codemirror_mode": "r",
   "file_extension": ".r",
   "mimetype": "text/x-r-source",
   "name": "R",
   "pygments_lexer": "r",
   "version": "3.4.4"
  }
 },
 "nbformat": 4,
 "nbformat_minor": 2
}
