{
 "cells": [
  {
   "cell_type": "markdown",
   "metadata": {},
   "source": [
    "# IRISS Python Workshop\n",
    "\n",
    "Hello, and welcome to the 2019 IRISS python workshop!\n",
    "\n",
    "Our plan is to equip you to do use the Python programming language to open up new avenues of social science research. Our rough schedule is as follows:\n",
    "1. **Python Basics, Part 1** (9:00–10:30 AM) **:** Using JupyterLab. Variables, strings, lists, and dictionaries. Basic control flow.\n",
    "2. **Python Basics, Part 2** (10:30–12:00 PM) **:** Creating your own functions and objects. Modules. Reading and writing.\n",
    "3. **Lunch** (12:00–1:00 PM) **:** Eating.\n",
    "4. **APIs in Python** (1:00–2:30 PM) **:** Interacting with web services to accomplish needed tasks or gather data.\n",
    "5. **Webscraping** (2:30–4:00 PM) **:** ?????\n",
    "    \n",
    "## Acknowledgements\n",
    "\n",
    "We are grateful to Jongbin Jung, from whose MS&E 231 crash course we have cribbed without shame, and Nathan Moore, Allen Lee, Sourav Singh, and Olav Vahtras at Software Carpentry for inspiring much of the material used in this lesson."
   ]
  }
 ],
 "metadata": {
  "kernelspec": {
   "display_name": "Python 3",
   "language": "python",
   "name": "python3"
  },
  "language_info": {
   "codemirror_mode": {
    "name": "ipython",
    "version": 3
   },
   "file_extension": ".py",
   "mimetype": "text/x-python",
   "name": "python",
   "nbconvert_exporter": "python",
   "pygments_lexer": "ipython3",
   "version": "3.7.4"
  }
 },
 "nbformat": 4,
 "nbformat_minor": 4
}
