{
 "cells": [
  {
   "cell_type": "markdown",
   "metadata": {},
   "source": [
    "# Interacting with APIs in Python\n",
    "\n",
    "By this point you know what a dictionary is, how to loop over a list, and so on.\n",
    "\n",
    "In this section, we're going to build up to doing more complex, interesting things by leveraging already-existing services through APIs.\n",
    "\n",
    "What is an API, exactly? Actually, even before we get to that, *why* APIs? What problem do they solve?"
   ]
  },
  {
   "cell_type": "markdown",
   "metadata": {},
   "source": [
    "## 0. Why APIs?\n",
    "\n",
    "Consider the following scenarios:\n",
    "\n",
    "1. 🌏We have a database of several thousand places which we'd like to display on a map, but we only have their addresses. In order to display them on the map, we need their latitude/longitude values. (For the uninitiated, this process is known as *geocoding*.)\n",
    "2. 🇺🇸With the goal of analyzing sentiment or perhaps the relative frequency of descriptors of various candidates, we would like to find all New York Times articles relating to the 2020 election. Perhaps we'd additionally like to collect relevant tweets about the candidates.\n",
    "\n",
    "In either case, we can imagine what the naïve solution might look like, done by hand:\n",
    "\n",
    "1. 🌏Fire up a browser, open Google Maps, type in the first address, copy/paste the lat/lng into the database (i.e. spreadsheet); move on to the second address and repeat the process, and so on until we're done.\n",
    "2. 🇺🇸Navigate to the New York Times website and enter \"2020 election\" in the search bar, click on each article in the search results, determine that the article is in fact relevant, save the article somewhere, and move on to the next one, and so on until we're pretty sure we've got all relevant articles.\n",
    "\n",
    "**Gross.** Nobody wants to do this. It looks like we've lined up some seriously painstaking work for ourselves. There must be a way to automate this stuff...\n",
    "\n",
    "Enter the **Application Programming Interface (API)**. If someone (or some corporate entity---a needless distinction, as corporations are people, after all) has already created a service that solves our underlying need, e.g. Google Maps or the NYTimes search bar, then there's a good chance in this day and age that that service offers an API, which is essentially a tightly controlled, programmatic way to interact with the service.\n",
    "\n",
    "### Sneak Peek\n",
    "\n",
    "Here's what we're working up to. Try these out!\n",
    "\n",
    "#### 🌏Geocoding\n",
    "\n",
    "The file `data/addresses.csv` contains a handful of addresses. (Feel free to open the file and inspect it.) The code below gets lat/lngs for all of them:"
   ]
  },
  {
   "cell_type": "code",
   "execution_count": null,
   "metadata": {},
   "outputs": [],
   "source": [
    "from lib import geocoder\n",
    "\n",
    "results = geocoder.census_geocode_csv('data/addresses.csv')\n",
    "print(results)"
   ]
  },
  {
   "cell_type": "markdown",
   "metadata": {},
   "source": [
    "#### Other thing"
   ]
  },
  {
   "cell_type": "code",
   "execution_count": null,
   "metadata": {},
   "outputs": [],
   "source": []
  },
  {
   "cell_type": "markdown",
   "metadata": {},
   "source": [
    "### Benefits\n",
    "\n",
    "* Automating away the tedium of doing the same thing many times.\n",
    "* Ability to build \"on top of\" someone else's API in order to focus on a specific thing we want to accomplish.\n",
    "\n",
    "For that second point, consider e.g. building a real-time logistics app that displays the current location of our fleet of vehicles; all we have are the real-time GPS coordinates, so we use another service (e.g. Mapbox or Google/Apple/Bing Maps) for displaying the underlying roads and geographic data.\n",
    "\n",
    "Hopefully by this point you're convinced of the potential utility of APIs. Let's get started!"
   ]
  },
  {
   "cell_type": "markdown",
   "metadata": {
    "slideshow": {
     "slide_type": "slide"
    }
   },
   "source": [
    "## 1. Unauthenticated API: Geocoding 🌏\n",
    "\n",
    "Suppose we have a set of addresses, and we need the latitude/longitude pairs.\n",
    "\n",
    "We *could* use the Google Maps Geocoding API for this, but the service requires you to set up a billing account with a valid credit card before you can use the API, and i'd rather not deal with that right now.\n",
    "\n",
    "So instead, let's use the [US Census Geocoding API](https://geocoding.geo.census.gov/geocoder/Geocoding_Services_API.html). The results won't be quite as high-quality (interpolated vs. rooftop geocodes), but the service is public and free, and illustrates the point.\n",
    "\n",
    "**🖊Note:** This API is called *unauthenticated* because you don't have to tell it who you are in order to use it.\n",
    "\n",
    "### 1.1. A first pass\n",
    "\n",
    "At the end of the day, using this API boils down to figuring out the right URL to send an HTTP request to, and what parameters to give it. (Actually, this is pretty much how *all* HTTP-based APIs work.) Let's take the address of Huang Engineering Center as an example: `475 Via Ortega, Stanford, CA 94305`. After reading the instructions on how to use the census geocoding API, we determine that one way to make this request is:\n",
    "\n",
    "https://geocoding.geo.census.gov/geocoder/locations/onelineaddress?benchmark=Public_AR_Current&format=json&address=475+Via+Ortega,Stanford,CA\n",
    "\n",
    "🏋🏽‍♀️**Open the link above in the browser to see what the result looks like. Do you see the latitude/longitude buried in there?** 🏋🏽‍♀️\n",
    "\n",
    "Next, we'll make this request programmatically.\n",
    "\n",
    "(We won't talk about the `benchmark` argument for the purposes of this tutorial, but we'll touch on the `format` argument later. The `address` is the interesting thing here.)\n",
    "\n",
    "To make HTTP requests from Python, we'll use the `requests` library ([docs](https://2.python-requests.org/en/master/)), which is not part of the standard library but makes web requests very simple. (This will come in handy when scraping later.) Let's install that now:"
   ]
  },
  {
   "cell_type": "code",
   "execution_count": null,
   "metadata": {},
   "outputs": [],
   "source": [
    "import sys\n",
    "\n",
    "!{sys.executable} -m pip install requests"
   ]
  },
  {
   "cell_type": "markdown",
   "metadata": {},
   "source": [
    "Don't worry if that was confusing or magical.\n",
    "\n",
    "Now, we need to import it:"
   ]
  },
  {
   "cell_type": "code",
   "execution_count": null,
   "metadata": {},
   "outputs": [],
   "source": [
    "import requests"
   ]
  },
  {
   "cell_type": "markdown",
   "metadata": {},
   "source": [
    "Check out what you can do with requests:"
   ]
  },
  {
   "cell_type": "code",
   "execution_count": null,
   "metadata": {},
   "outputs": [],
   "source": [
    "requests.get('http://example.com').text"
   ]
  },
  {
   "cell_type": "markdown",
   "metadata": {},
   "source": [
    "That's a bona fide HTML webpage!\n",
    "\n",
    "🏋🏽‍♀️**Your turn: Use the `requests` library to fetch a webpage. Pretty much any webpage will do. Print the `text` attribute of the response.** 🏋🏽‍♀️ Use the cell below."
   ]
  },
  {
   "cell_type": "code",
   "execution_count": null,
   "metadata": {},
   "outputs": [],
   "source": []
  },
  {
   "cell_type": "markdown",
   "metadata": {},
   "source": [
    "Okay, now let's use our newfound skills with the `requests` library to do the same thing, but apply it to the geocoding example that we did in the browser:"
   ]
  },
  {
   "cell_type": "code",
   "execution_count": null,
   "metadata": {},
   "outputs": [],
   "source": [
    "response = requests.get(\n",
    "  'https://geocoding.geo.census.gov/geocoder/locations/onelineaddress?' + \\\n",
    "  'benchmark=Public_AR_Current&format=json&address=475+Via+Ortega,Stanford,CA')\n",
    "response, response.text"
   ]
  },
  {
   "cell_type": "markdown",
   "metadata": {},
   "source": [
    "Well, HTTP 200 means \"success\", but how do we get the data we want out of this response object?\n",
    "\n",
    "**Protip:** In order to find out what methods are available on an object, call the `dir()` builtin on the object.\n",
    "\n",
    "🏋🏽‍♀️**Your turn: Use `dir` to find out what methods are available on `response`.** 🏋🏽‍♀️"
   ]
  },
  {
   "cell_type": "code",
   "execution_count": null,
   "metadata": {},
   "outputs": [],
   "source": [
    "# START\n",
    "dir(response)\n",
    "# END"
   ]
  },
  {
   "cell_type": "markdown",
   "metadata": {},
   "source": [
    "You may have noticed, among the numerous items printed, entries including `text` and `json`. We've seen the `text` already:"
   ]
  },
  {
   "cell_type": "code",
   "execution_count": null,
   "metadata": {},
   "outputs": [],
   "source": [
    "response.text"
   ]
  },
  {
   "cell_type": "markdown",
   "metadata": {},
   "source": [
    "**This is a [JSON](http://json.org)-formatted string.** The details of JSON aren't important for this lesson. Suffice it to say that if someone (i.e. API) hands you data in JSON form, you can parse it in almost any language (e.g. `json.loads` in Python) and then it becomes an object native to that language. \n",
    "\n",
    "*But how do we know this is JSON?* Well, we asked for it this way; the original parameters included `format=json`.\n",
    "\n",
    "JSON is an extremely common response format in APIs, so it's worth getting familiar with it.\n",
    "\n",
    "Maybe the `json` method is useful to us? Let's see:"
   ]
  },
  {
   "cell_type": "code",
   "execution_count": null,
   "metadata": {},
   "outputs": [],
   "source": [
    "help(response.json)"
   ]
  },
  {
   "cell_type": "markdown",
   "metadata": {},
   "source": [
    "Hmm, seems promising. Let's try it out:"
   ]
  },
  {
   "cell_type": "code",
   "execution_count": null,
   "metadata": {},
   "outputs": [],
   "source": [
    "response.json()"
   ]
  },
  {
   "cell_type": "markdown",
   "metadata": {},
   "source": [
    "Whoa, hey, that's just a Python dictionary, which you all know and love by now! Here, i'll prove it to you:"
   ]
  },
  {
   "cell_type": "code",
   "execution_count": null,
   "metadata": {},
   "outputs": [],
   "source": [
    "type(response.json())"
   ]
  },
  {
   "cell_type": "markdown",
   "metadata": {},
   "source": [
    "Notice that the lat/lng pair we're interested in is buried a few levels deep.\n",
    "\n",
    "🏋🏽‍♀️**Your turn: Extract the lat/lng coordinates from `response.json()`.**🏋🏽‍♀️"
   ]
  },
  {
   "cell_type": "code",
   "execution_count": null,
   "metadata": {},
   "outputs": [],
   "source": [
    "# START\n",
    "response.json()['result']['addressMatches'][0]['coordinates']\n",
    "# END"
   ]
  },
  {
   "cell_type": "markdown",
   "metadata": {},
   "source": [
    "**Q: What happens if there are no matching addresses (i.e. no geocode results)?**\n",
    "\n",
    "### 1.2. Tightening things up\n",
    "\n",
    "Let's go back and take another look at that initial request:\n",
    "\n",
    "https://geocoding.geo.census.gov/geocoder/locations/onelineaddress?benchmark=Public_AR_Current&address=475+Via+Ortega,Stanford,CA&format=json\n",
    "\n",
    "The `requests` library provides a way to break this up in a more semantically meaningful way that we'll see comes in handy later. Everything after the `?` in the URL are the *parameters*, which can be passed as an argument to the `params` instead of pasted into the URL. The params usually contain the interesting part of the API request, so it's handy to have them better structured, like so:"
   ]
  },
  {
   "cell_type": "code",
   "execution_count": null,
   "metadata": {},
   "outputs": [],
   "source": [
    "requests.get(\n",
    "  'https://geocoding.geo.census.gov/geocoder/locations/onelineaddress',\n",
    "  params={\n",
    "    'address': '475 Via Ortega, Stanford, CA',\n",
    "    'benchmark': 'Public_AR_Current',\n",
    "    'format': 'json',\n",
    "  }).json()"
   ]
  },
  {
   "cell_type": "markdown",
   "metadata": {},
   "source": [
    "Looks nicer, right?\n",
    "\n",
    "We can do even better, though. Up to this point, we've been using the `onelineaddress` search type. After perusing the docs further, we decide it might be more robust if we were to use the `address` search type, which takes a *structured* address. This is a way of being more explicit about what are looking for, rather than leaving interpretation of the text string up to the API. So let's do the same search again, but in a structured manner, using the `address` endpoint:"
   ]
  },
  {
   "cell_type": "code",
   "execution_count": null,
   "metadata": {},
   "outputs": [],
   "source": [
    "requests.get(\n",
    "  'https://geocoding.geo.census.gov/geocoder/locations/address',\n",
    "  params={\n",
    "    'street': '475 Via Ortega',\n",
    "    'city': 'Stanford',\n",
    "    'state': 'CA',\n",
    "    'zip': '94305',\n",
    "    'benchmark': 'Public_AR_Current',\n",
    "    'format': 'json',\n",
    "  }).json()"
   ]
  },
  {
   "cell_type": "markdown",
   "metadata": {},
   "source": [
    "### 🏋🏽‍♀️Exercise 🏋🏽‍♀️\n",
    "\n",
    "Okay, we've been using this API enough that some of the steps are getting repetitive, so it's probably worth putting this all in a function that accepts only the pieces that are changing and grabs just the coordinates from the response.\n",
    "\n",
    "**Complete the function in the cell below** such that i can call\n",
    "\n",
    "`geocode({'street': '475 Via Ortega', 'city': 'Stanford', 'state': 'CA', 'zip': '94305'})`\n",
    "\n",
    "and get back the Python dictionary `{'lat': 37.428837, 'lng': -122.17598}`."
   ]
  },
  {
   "cell_type": "code",
   "execution_count": null,
   "metadata": {},
   "outputs": [],
   "source": [
    "CENSUS_GEOCODE_URL = 'https://geocoding.geo.census.gov/geocoder/locations/address'\n",
    "\n",
    "def geocode(address):\n",
    "  params = {\n",
    "    'benchmark': 'Public_AR_Current',\n",
    "    'format': 'json',\n",
    "  }\n",
    "  # - add pieces of the address to params\n",
    "  # - make the request to the geocoding API\n",
    "  # - extract the coordinates from the response JSON\n",
    "  # - make sure to rename x and y to lng and lat!\n",
    "  # START\n",
    "  params.update(address)\n",
    "  response = requests.get(CENSUS_GEOCODE_URL, params=params)\n",
    "  coords = response.json()['result']['addressMatches'][0]['coordinates']\n",
    "  return {'lat': coords['y'], 'lng': coords['x']}\n",
    "  # END"
   ]
  },
  {
   "cell_type": "markdown",
   "metadata": {},
   "source": [
    "**Now try it out!** Does the function return the expected result?"
   ]
  },
  {
   "cell_type": "code",
   "execution_count": null,
   "metadata": {},
   "outputs": [],
   "source": [
    "result = geocode({'street': '475 Via Ortega', 'city': 'Stanford', 'state': 'CA', 'zip': '94305'})\n",
    "assert result == {'lat': 37.428837, 'lng': -122.17598}\n",
    "print('🎉Success!🎉')"
   ]
  },
  {
   "cell_type": "markdown",
   "metadata": {},
   "source": [
    "**Try geocoding another address of your choosing (within the US).**\n",
    "\n",
    "If you're really lacking for inspiration, you can geocode the Googleplex, `1600 Amphitheatre Pkwy, Mountain View, CA 94043`."
   ]
  },
  {
   "cell_type": "code",
   "execution_count": null,
   "metadata": {},
   "outputs": [],
   "source": [
    "# START\n",
    "geocode({'street': '1600 Amphitheatre Pkwy', 'city': 'Mountain View', 'state': 'CA', 'zip': '94043'})\n",
    "# END"
   ]
  },
  {
   "cell_type": "markdown",
   "metadata": {},
   "source": [
    "**Breathe.** Do you realize how powerful it is, what we just did there?\n",
    "\n",
    "The second example is in `apis_two.ipynb`."
   ]
  }
 ],
 "metadata": {
  "kernelspec": {
   "display_name": "Python 3",
   "language": "python",
   "name": "python3"
  },
  "language_info": {
   "codemirror_mode": {
    "name": "ipython",
    "version": 3
   },
   "file_extension": ".py",
   "mimetype": "text/x-python",
   "name": "python",
   "nbconvert_exporter": "python",
   "pygments_lexer": "ipython3",
   "version": "3.7.4"
  }
 },
 "nbformat": 4,
 "nbformat_minor": 4
}
