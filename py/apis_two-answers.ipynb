{
 "cells": [
  {
   "cell_type": "markdown",
   "metadata": {},
   "source": [
    "## 2. Authenticated API: Searching through articles 🗞\n",
    "\n",
    "This time, we'll be dealing with an *authenticated* API, which requires you to identify yourself when you make requests. This is done with an *API key*, which you must sign up for with the provider of the service you are using. **APIs with keys are the rule rather than the exception.** Among other things, they enable user-based quotas (e.g. throttling, monthly limits) and, importantly, billing. (There will be no billing today.)\n",
    "\n",
    "### 2.1. Getting a NYT API key\n",
    "\n",
    "🏋️‍♂️ **Go to https://developer.nytimes.com/get-started and follow the instructions.** 🏋️‍♂️ You'll need to go through all the steps.\n",
    "\n",
    "One item on the instructions is obsolete. Once you're signed in to your newly created account, you'll select simply **\"Apps\"** (not \"My Apps\") from the user dropdown (pictured below).\n",
    "\n",
    "<img src=\"img/nytdev_apps.jpg\" width=\"600\" />\n",
    "\n",
    "When you create a new app, make sure to enable the *Article Search API*:\n",
    "\n",
    "<img src=\"img/nytdev_asa_switch.png\" width=\"600\" />\n",
    "\n",
    "Once you've hit \"create\", you should be looking at a page like the one below:\n",
    "\n",
    "<img src=\"img/nytdev_created_app.png\" width=\"600\" />\n",
    "\n",
    "Note the API key in the image above.\n",
    "\n",
    "🏋️‍♂️**Copy your API key, paste it into the cell below, and save it to the variable `NYT_API_KEY`.** We'll be using this variable (or constant, really, as the casing suggests) pervasively."
   ]
  },
  {
   "cell_type": "code",
   "execution_count": null,
   "metadata": {},
   "outputs": [],
   "source": [
    "NYT_API_KEY = 'YOUR_KEY_HERE' # replace with your API key"
   ]
  },
  {
   "cell_type": "markdown",
   "metadata": {},
   "source": [
    "### 2.2. Making our first request\n",
    "\n",
    "It turns out it's rather easy to get some meaningful results out of this API. We just need to set the `api-key` param appropriately.\n",
    "\n",
    "To illustrate, let's search for articles on Laverne Cox."
   ]
  },
  {
   "cell_type": "code",
   "execution_count": null,
   "metadata": {},
   "outputs": [],
   "source": [
    "import requests\n",
    "\n",
    "response = requests.get(\n",
    "    'https://api.nytimes.com/svc/search/v2/articlesearch.json',\n",
    "    params={'q': 'laverne cox', 'api-key': NYT_API_KEY})\n",
    "response.text[:5000]"
   ]
  },
  {
   "cell_type": "markdown",
   "metadata": {},
   "source": [
    "Holy moly, that's just the first 5KB of the response...\n",
    "\n",
    "How can we figure out the structure in order to find what we want?"
   ]
  },
  {
   "cell_type": "code",
   "execution_count": null,
   "metadata": {},
   "outputs": [],
   "source": [
    "response.json().keys()"
   ]
  },
  {
   "cell_type": "markdown",
   "metadata": {},
   "source": [
    "Let's see what `status` contains:"
   ]
  },
  {
   "cell_type": "code",
   "execution_count": null,
   "metadata": {},
   "outputs": [],
   "source": [
    "response.json()['status']"
   ]
  },
  {
   "cell_type": "markdown",
   "metadata": {},
   "source": [
    "And the keys in `response`:"
   ]
  },
  {
   "cell_type": "code",
   "execution_count": null,
   "metadata": {},
   "outputs": [],
   "source": [
    "response.json()['response'].keys()"
   ]
  },
  {
   "cell_type": "markdown",
   "metadata": {},
   "source": [
    "Let's see what's in `docs`.\n",
    "\n",
    "⚠️ Caution: This will output a *ton* of text on screen. If you want to clear it, make sure the cell is selected, then go to `Edit > Clear Outputs`."
   ]
  },
  {
   "cell_type": "code",
   "execution_count": null,
   "metadata": {},
   "outputs": [],
   "source": [
    "response.json()['response']['docs']"
   ]
  },
  {
   "cell_type": "markdown",
   "metadata": {},
   "source": [
    "### 🏋️‍♂️Exercise🏋️‍♂️ \n",
    "\n",
    "**Print total word frequencies, in descending order, for the lead paragraphs of the first 5 pages of API search results for articles on climate change published in 2006 or later.** (Or pick your topic; it doesn't have to be climate change. It just has to have sufficient results.)\n",
    "\n",
    "This is comprised of several parts:\n",
    "* Restricting the date range of a search.\n",
    "* Extracting the lead paragraph of an article from a search result.\n",
    "* Getting different/multiple pages of search results.\n",
    "* Gathering up all the lead paragraphs into a single place.\n",
    "* Counting the word frequencies.\n",
    "\n",
    "**Search for articles on climate change published in 2006 or later. Save the response.** *Hint:* Read the [API docs](https://developer.nytimes.com/docs/articlesearch-product/1/overview), especially the \"Using Facets\" section."
   ]
  },
  {
   "cell_type": "code",
   "execution_count": null,
   "metadata": {},
   "outputs": [],
   "source": [
    "# START\n",
    "response = requests.get(\n",
    "    'https://api.nytimes.com/svc/search/v2/articlesearch.json',\n",
    "    params={\n",
    "        'q': 'climate change',\n",
    "        'begin_date': '20060101',\n",
    "        'api-key': NYT_API_KEY\n",
    "    })\n",
    "# END"
   ]
  },
  {
   "cell_type": "markdown",
   "metadata": {},
   "source": [
    "**Extract the lead paragraph from the first search result.**"
   ]
  },
  {
   "cell_type": "code",
   "execution_count": null,
   "metadata": {},
   "outputs": [],
   "source": [
    "# START\n",
    "response.json()['response']['docs'][0]['lead_paragraph']\n",
    "# END"
   ]
  },
  {
   "cell_type": "markdown",
   "metadata": {},
   "source": [
    "**Fetch the second page of results.** Again, reading the docs can be handy."
   ]
  },
  {
   "cell_type": "code",
   "execution_count": null,
   "metadata": {},
   "outputs": [],
   "source": [
    "# START\n",
    "requests.get(\n",
    "    'https://api.nytimes.com/svc/search/v2/articlesearch.json',\n",
    "    params={\n",
    "        'q': 'climate change',\n",
    "        'begin_date': '20060101',\n",
    "        'page': 2,\n",
    "        'api-key': NYT_API_KEY\n",
    "    })\n",
    "# END"
   ]
  },
  {
   "cell_type": "markdown",
   "metadata": {},
   "source": [
    "Now, **make 5 separate API requests, one for each page of results, and save all the lead paragraphs into a list.**"
   ]
  },
  {
   "cell_type": "code",
   "execution_count": null,
   "metadata": {},
   "outputs": [],
   "source": [
    "ARTICLE_SEARCH_URL = 'https://api.nytimes.com/svc/search/v2/articlesearch.json'\n",
    "lead_paragraphs = [] # save lead paragraphs in this list\n",
    "# START\n",
    "for i in range(5):\n",
    "    response = requests.get(\n",
    "        ARTICLE_SEARCH_URL,\n",
    "        params={\n",
    "            'q': 'climate change',\n",
    "            'begin_date': '20060101',\n",
    "            'page': i,\n",
    "            'api-key': NYT_API_KEY\n",
    "    })\n",
    "    for doc in response.json()['response']['docs']:\n",
    "        lead_paragraphs.append(doc['lead_paragraph'])\n",
    "# END"
   ]
  },
  {
   "cell_type": "markdown",
   "metadata": {},
   "source": [
    "**Join the `lead_paragraphs` into one long string, separated by spaces, and make it all lowercase. Save the results as `text`.**"
   ]
  },
  {
   "cell_type": "code",
   "execution_count": null,
   "metadata": {},
   "outputs": [],
   "source": [
    "# START\n",
    "text = \" \".join(lead_paragraphs).lower()\n",
    "# END"
   ]
  },
  {
   "cell_type": "markdown",
   "metadata": {},
   "source": [
    "We're going to use a small dose of regex magic to take the text and get the words out of it:"
   ]
  },
  {
   "cell_type": "code",
   "execution_count": null,
   "metadata": {},
   "outputs": [],
   "source": [
    "import re\n",
    "words = re.findall(r'\\w+', text)"
   ]
  },
  {
   "cell_type": "markdown",
   "metadata": {},
   "source": [
    "**Compute the word frequencies using a dictionary (or `collections.Counter`, if you're adventurous).**"
   ]
  },
  {
   "cell_type": "code",
   "execution_count": null,
   "metadata": {},
   "outputs": [],
   "source": [
    "# START\n",
    "freqs = {}\n",
    "for w in words:\n",
    "    if w not in freqs:\n",
    "        freqs[w] = 0\n",
    "    freqs[w] += 1\n",
    "# END"
   ]
  },
  {
   "cell_type": "markdown",
   "metadata": {},
   "source": [
    "**Display the entries, sorted in descending order by frequency.**"
   ]
  },
  {
   "cell_type": "code",
   "execution_count": null,
   "metadata": {},
   "outputs": [],
   "source": [
    "# START\n",
    "sorted(freqs.items(), key=lambda x: -x[1])[:250]\n",
    "# END"
   ]
  }
 ],
 "metadata": {
  "kernelspec": {
   "display_name": "Python 3",
   "language": "python",
   "name": "python3"
  },
  "language_info": {
   "codemirror_mode": {
    "name": "ipython",
    "version": 3
   },
   "file_extension": ".py",
   "mimetype": "text/x-python",
   "name": "python",
   "nbconvert_exporter": "python",
   "pygments_lexer": "ipython3",
   "version": "3.7.4"
  }
 },
 "nbformat": 4,
 "nbformat_minor": 4
}
