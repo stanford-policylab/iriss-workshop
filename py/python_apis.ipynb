{
 "cells": [
  {
   "cell_type": "markdown",
   "metadata": {},
   "source": [
    "# Interacting with APIs in Python\n",
    "\n",
    "Chances are you've probably heard the acronym \"API\" before. But if you've never used one in your work, it may not be entirely clear up front why you'd want to. So what's the problem we're trying to solve with APIs anyway?"
   ]
  },
  {
   "cell_type": "markdown",
   "metadata": {},
   "source": [
    "## 0. Why APIs?\n",
    "\n",
    "Consider the following scenarios:\n",
    "\n",
    "1. We have a database of several thousand places which we'd like to display on a map, but we only have their addresses. In order to display them on the map, we need their latitude/longitude values. (For the uninitiated, this process is known as \"geocoding\".)\n",
    "2. With the goal of analyzing sentiment or perhaps the relative frequency of descriptors of various candidates, we would like to find all New York Times articles relating to the 2020 election. Perhaps we'd additionally like to collect relevant tweets about the candidates.\n",
    "\n",
    "In either case, we can imagine what the naïve solution might look like, done by hand:\n",
    "\n",
    "1. Fire up a browser, open Google Maps, type in the first address, copy/paste the lat/lng into the database (i.e. spreadsheet); move on to the second address and repeat the process, and so on until we're done.\n",
    "2. Navigate to the New York Times website and enter \"2020 election\" in the search bar, click on each article in the search results, determine that the article is in fact relevant, save the article somewhere, and move on to the next one, and so on until we're pretty sure we've got all relevant articles.\n",
    "\n",
    "This is terrible. It looks like we've lined up some seriously painstaking work for ourselves. There must be a way to automate this stuff...\n",
    "\n",
    "Enter the **Application Programming Interface (API)**. If someone (or some corporate entity---a needless distinction, as corporations are people, after all) has already created a service that solves our underlying need, e.g. Google Maps or the NYTimes search bar, then there's a good chance in this day and age that that service offers an API, which is essentially a tightly controlled, programmatic way to interact with the service.\n",
    "\n",
    "One of the most obvious benefits is that we can automate away the tedium of doing the same thing many times. Another benefit, more relevant to application developers, is the ability to build \"on top of\" someone else's API in order to focus on a specific thing we want to accomplish. Consider, for example, building a real-time logistics app that displays the current location of our fleet of vehicles; all we have are the real-time GPS coordinates, so we use another service (e.g. Mapbox or Google/Apple/Bing Maps) for displaying the underlying roads and geographic data.\n",
    "\n",
    "Hopefully by this point you're convinced of the potential utility of APIs. Let's get started!"
   ]
  },
  {
   "cell_type": "markdown",
   "metadata": {},
   "source": [
    "## 1. Unauthenticated API: Geocoding\n",
    "\n",
    "Continuing with the first scenario mentioned in the introduction above, let's suppose we have a set of addresses, and we need the latitude/longitude pairs.\n",
    "\n",
    "We *could* use the Google Maps Geocoding API for this, but today (and this wasn't the case just a few years back) the service requires you to set up a billing account with a valid credit card before you can use the API, and i'd rather not get bogged down by that issue right now.\n",
    "\n",
    "So instead, let's use the [US Census Geocoding API](https://geocoding.geo.census.gov/geocoder/Geocoding_Services_API.html). The results won't be quite as high-quality (interpolated vs. rooftop), but the service is public and free, and illustrates the point.\n",
    "\n",
    "### 1.1. A first pass\n",
    "\n",
    "At the end of the day, using this API boils down to figuring out the right URL and parameters to send an HTTP request to. Let's take the address of Huang Engineering Center as an example: `475 Via Ortega, Stanford, CA 94305`. After reading the instructions on how to use the census geocoding API, we determine that one way to make this request is:\n",
    "\n",
    "https://geocoding.geo.census.gov/geocoder/locations/onelineaddress?benchmark=Public_AR_Current&address=475+Via+Ortega,Stanford,CA&format=json\n",
    "\n",
    "Open the link in the browser just to get a peek. Next, we'll make this request programmatically.\n",
    "\n",
    "(We won't talk about the `benchmark` argument for the purposes of this tutorial, but we'll touch on the `format` argument later. The `address` is the interesting thing here.)\n",
    "\n",
    "To make HTTP requests from Python, we'll use the `requests` library ([docs](https://2.python-requests.org/en/master/)), which is not part of the standard library but makes web requests very simple. (This will come in handy when scraping later.) We'll also need `json` from the standard library, for making sense of the response data."
   ]
  },
  {
   "cell_type": "code",
   "execution_count": 1,
   "metadata": {},
   "outputs": [
    {
     "name": "stdout",
     "output_type": "stream",
     "text": [
      "Requirement already satisfied: requests in /Library/Frameworks/Python.framework/Versions/3.7/lib/python3.7/site-packages (2.22.0)\n",
      "Requirement already satisfied: certifi>=2017.4.17 in /Library/Frameworks/Python.framework/Versions/3.7/lib/python3.7/site-packages (from requests) (2019.9.11)\n",
      "Requirement already satisfied: idna<2.9,>=2.5 in /Library/Frameworks/Python.framework/Versions/3.7/lib/python3.7/site-packages (from requests) (2.8)\n",
      "Requirement already satisfied: chardet<3.1.0,>=3.0.2 in /Library/Frameworks/Python.framework/Versions/3.7/lib/python3.7/site-packages (from requests) (3.0.4)\n",
      "Requirement already satisfied: urllib3!=1.25.0,!=1.25.1,<1.26,>=1.21.1 in /Library/Frameworks/Python.framework/Versions/3.7/lib/python3.7/site-packages (from requests) (1.25.3)\n",
      "\u001b[33mYou are using pip version 19.0.3, however version 19.2.3 is available.\n",
      "You should consider upgrading via the 'pip install --upgrade pip' command.\u001b[0m\n"
     ]
    }
   ],
   "source": [
    "!pip3 install requests\n",
    "import requests\n",
    "import json"
   ]
  },
  {
   "cell_type": "markdown",
   "metadata": {},
   "source": [
    "Okay, let's do precisely what we just did in the browser, but with the `requests` library:"
   ]
  },
  {
   "cell_type": "code",
   "execution_count": 2,
   "metadata": {},
   "outputs": [
    {
     "data": {
      "text/plain": [
       "<Response [200]>"
      ]
     },
     "execution_count": 2,
     "metadata": {},
     "output_type": "execute_result"
    }
   ],
   "source": [
    "response = requests.get('https://geocoding.geo.census.gov/geocoder/locations/onelineaddress?benchmark=Public_AR_Current&address=475+Via+Ortega,Stanford,CA&format=json')\n",
    "response"
   ]
  },
  {
   "cell_type": "markdown",
   "metadata": {},
   "source": [
    "Well, we know that HTTP 200 means \"success\", but how do we get the data we want out of this response object? We need to inspect the `text` field:"
   ]
  },
  {
   "cell_type": "code",
   "execution_count": 3,
   "metadata": {},
   "outputs": [
    {
     "data": {
      "text/plain": [
       "'{\"result\":{\"input\":{\"benchmark\":{\"id\":\"4\",\"benchmarkName\":\"Public_AR_Current\",\"benchmarkDescription\":\"Public Address Ranges - Current Benchmark\",\"isDefault\":false},\"address\":{\"address\":\"475 Via Ortega,Stanford,CA\"}},\"addressMatches\":[{\"matchedAddress\":\"475 VIA ORTEGA, STANFORD, CA, 94305\",\"coordinates\":{\"x\":-122.17598,\"y\":37.428837},\"tigerLine\":{\"tigerLineId\":\"122949876\",\"side\":\"R\"},\"addressComponents\":{\"fromAddress\":\"401\",\"toAddress\":\"499\",\"preQualifier\":\"\",\"preDirection\":\"\",\"preType\":\"\",\"streetName\":\"VIA ORTEGA\",\"suffixType\":\"\",\"suffixDirection\":\"\",\"suffixQualifier\":\"\",\"city\":\"STANFORD\",\"state\":\"CA\",\"zip\":\"94305\"}}]}}'"
      ]
     },
     "execution_count": 3,
     "metadata": {},
     "output_type": "execute_result"
    }
   ],
   "source": [
    "response.text"
   ]
  },
  {
   "cell_type": "markdown",
   "metadata": {},
   "source": [
    "Ah, the lat/lng is in there, buried inside a [JSON](http://json.org)-formatted string. The details of JSON aren't important for this lesson. Suffice it to say that if someone (i.e. API) hands you data in JSON form, you can parse it in almost any language (e.g. `json.loads` in Python) and then it becomes an object native to that language.\n",
    "\n",
    "JSON is an extremely common response format in APIs, so it's worth getting familiar with it.\n",
    "\n",
    "Let's parse the response text:"
   ]
  },
  {
   "cell_type": "code",
   "execution_count": 4,
   "metadata": {},
   "outputs": [
    {
     "data": {
      "text/plain": [
       "{'result': {'input': {'benchmark': {'id': '4',\n",
       "    'benchmarkName': 'Public_AR_Current',\n",
       "    'benchmarkDescription': 'Public Address Ranges - Current Benchmark',\n",
       "    'isDefault': False},\n",
       "   'address': {'address': '475 Via Ortega,Stanford,CA'}},\n",
       "  'addressMatches': [{'matchedAddress': '475 VIA ORTEGA, STANFORD, CA, 94305',\n",
       "    'coordinates': {'x': -122.17598, 'y': 37.428837},\n",
       "    'tigerLine': {'tigerLineId': '122949876', 'side': 'R'},\n",
       "    'addressComponents': {'fromAddress': '401',\n",
       "     'toAddress': '499',\n",
       "     'preQualifier': '',\n",
       "     'preDirection': '',\n",
       "     'preType': '',\n",
       "     'streetName': 'VIA ORTEGA',\n",
       "     'suffixType': '',\n",
       "     'suffixDirection': '',\n",
       "     'suffixQualifier': '',\n",
       "     'city': 'STANFORD',\n",
       "     'state': 'CA',\n",
       "     'zip': '94305'}}]}}"
      ]
     },
     "execution_count": 4,
     "metadata": {},
     "output_type": "execute_result"
    }
   ],
   "source": [
    "results = json.loads(response.text)\n",
    "results"
   ]
  },
  {
   "cell_type": "markdown",
   "metadata": {},
   "source": [
    "Hey, that's just a Python dictionary, which you all know and love by now! Here, i'll prove it to you:"
   ]
  },
  {
   "cell_type": "code",
   "execution_count": 5,
   "metadata": {},
   "outputs": [
    {
     "data": {
      "text/plain": [
       "dict"
      ]
     },
     "execution_count": 5,
     "metadata": {},
     "output_type": "execute_result"
    }
   ],
   "source": [
    "type(results)"
   ]
  },
  {
   "cell_type": "markdown",
   "metadata": {},
   "source": [
    "Notice that the lat/lng pair we're interested in is buried a few levels deep:"
   ]
  },
  {
   "cell_type": "code",
   "execution_count": 6,
   "metadata": {},
   "outputs": [
    {
     "data": {
      "text/plain": [
       "{'x': -122.17598, 'y': 37.428837}"
      ]
     },
     "execution_count": 6,
     "metadata": {},
     "output_type": "execute_result"
    }
   ],
   "source": [
    "results['result']['addressMatches'][0]['coordinates']"
   ]
  },
  {
   "cell_type": "markdown",
   "metadata": {},
   "source": [
    "Understandably, `y` is latitude and `x` is longitude."
   ]
  },
  {
   "cell_type": "markdown",
   "metadata": {},
   "source": [
    "### 1.2. Tightening things up\n",
    "\n",
    "Let's go back and take another look at that initial request:\n",
    "\n",
    "https://geocoding.geo.census.gov/geocoder/locations/onelineaddress?benchmark=Public_AR_Current&address=475+Via+Ortega,Stanford,CA&format=json\n",
    "\n",
    "The `requests` library provides a way to break this up in a more semantically meaningful way that we'll see comes in handy later. Everything after the `?` in the URL are the *parameters*, which can be passed as an argument to the `params` instead of pasted into the URL. The params usually contain the interesting part of the API request, so it's handy to have them better structured, like so:"
   ]
  },
  {
   "cell_type": "code",
   "execution_count": 7,
   "metadata": {},
   "outputs": [],
   "source": [
    "response = requests.get(\n",
    "  'https://geocoding.geo.census.gov/geocoder/locations/onelineaddress',\n",
    "  params={\n",
    "    'address': '475 Via Ortega, Stanford, CA',\n",
    "    'benchmark': 'Public_AR_Current',\n",
    "    'format': 'json',\n",
    "  })"
   ]
  },
  {
   "cell_type": "markdown",
   "metadata": {},
   "source": [
    "Looks nicer, right? As before, we can get at the lat/lng as follows:"
   ]
  },
  {
   "cell_type": "code",
   "execution_count": 8,
   "metadata": {},
   "outputs": [
    {
     "data": {
      "text/plain": [
       "{'x': -122.17598, 'y': 37.428837}"
      ]
     },
     "execution_count": 8,
     "metadata": {},
     "output_type": "execute_result"
    }
   ],
   "source": [
    "json.loads(response.text)['result']['addressMatches'][0]['coordinates']"
   ]
  },
  {
   "cell_type": "markdown",
   "metadata": {},
   "source": [
    "Great, this is looking good. We now have a programmatic way of punching in an address and getting back some coordinates!\n",
    "\n",
    "We can do even better, though. Up to this point, we've been using the `onelineaddress` search type. After perusing the docs further, we decide it might be more robust if we were to use the `address` search type, which takes a *structured* address. This is a way of being more explicit about what are looking for, rather than leaving interpretation of the text string up to the API. So let's do the same search again, but in a structured manner, using the `address` endpoint:"
   ]
  },
  {
   "cell_type": "code",
   "execution_count": 9,
   "metadata": {},
   "outputs": [
    {
     "data": {
      "text/plain": [
       "{'x': -122.17598, 'y': 37.428837}"
      ]
     },
     "execution_count": 9,
     "metadata": {},
     "output_type": "execute_result"
    }
   ],
   "source": [
    "response = requests.get(\n",
    "  'https://geocoding.geo.census.gov/geocoder/locations/address',\n",
    "  params={\n",
    "    'street': '475 Via Ortega',\n",
    "    'city': 'Stanford',\n",
    "    'state': 'CA',\n",
    "    'zip': '94305',\n",
    "    'benchmark': 'Public_AR_Current',\n",
    "    'format': 'json',\n",
    "  })\n",
    "json.loads(response.text)['result']['addressMatches'][0]['coordinates']"
   ]
  },
  {
   "cell_type": "markdown",
   "metadata": {},
   "source": [
    "Okay, we've been using this API enough that it's probably worth putting this all in a function that accepts only the pieces that are changing and grabs just the coordinates from the response:"
   ]
  },
  {
   "cell_type": "code",
   "execution_count": 10,
   "metadata": {},
   "outputs": [],
   "source": [
    "def geocode(structured_address):\n",
    "  params = {\n",
    "    'benchmark': 'Public_AR_Current',\n",
    "    'format': 'json',\n",
    "  }\n",
    "  params.update(structured_address)\n",
    "  response = requests.get(\n",
    "      'https://geocoding.geo.census.gov/geocoder/locations/address',\n",
    "      params=params)\n",
    "  matches = json.loads(response.text)['result']['addressMatches']\n",
    "  if matches:\n",
    "    return matches[0]['coordinates']"
   ]
  },
  {
   "cell_type": "markdown",
   "metadata": {},
   "source": [
    "Now it's a little easier to perform geocoding:"
   ]
  },
  {
   "cell_type": "code",
   "execution_count": 11,
   "metadata": {},
   "outputs": [
    {
     "data": {
      "text/plain": [
       "{'x': -122.17598, 'y': 37.428837}"
      ]
     },
     "execution_count": 11,
     "metadata": {},
     "output_type": "execute_result"
    }
   ],
   "source": [
    "geocode({'street': '475 Via Ortega', 'city': 'Stanford', 'state': 'CA', 'zip': '94305'})"
   ]
  },
  {
   "cell_type": "markdown",
   "metadata": {},
   "source": [
    "Your turn! Geocode the Googleplex, `1600 Amphitheatre Pkwy, Mountain View, CA 94043`:"
   ]
  },
  {
   "cell_type": "code",
   "execution_count": null,
   "metadata": {},
   "outputs": [],
   "source": []
  },
  {
   "cell_type": "markdown",
   "metadata": {},
   "source": [
    "You should get `{'x': -122.086815, 'y': 37.42353}`."
   ]
  },
  {
   "cell_type": "markdown",
   "metadata": {},
   "source": [
    "## 2. Authenticated API\n",
    "\n",
    "*TODO(sjespers)*: Thinking NYTimes. Can i really get people to sign up for a token?"
   ]
  }
 ],
 "metadata": {
  "kernelspec": {
   "display_name": "Python 3",
   "language": "python",
   "name": "python3"
  },
  "language_info": {
   "codemirror_mode": {
    "name": "ipython",
    "version": 3
   },
   "file_extension": ".py",
   "mimetype": "text/x-python",
   "name": "python",
   "nbconvert_exporter": "python",
   "pygments_lexer": "ipython3",
   "version": "3.7.4"
  }
 },
 "nbformat": 4,
 "nbformat_minor": 2
}
