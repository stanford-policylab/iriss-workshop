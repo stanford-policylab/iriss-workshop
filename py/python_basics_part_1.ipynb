{
 "cells": [
  {
   "cell_type": "markdown",
   "metadata": {},
   "source": [
    "# Python Basics, Part 1\n",
    "\n",
    "In our first session this morning, we want to get you familiar with how to use `JupyterLab`, along with the basics of `Python` syntax and the data types we use in `Python`: numbers, strings, lists, and dictionaries. If you have used `Python` before, some of this material will be review, but you'll probably see some new stuff too!"
   ]
  },
  {
   "cell_type": "markdown",
   "metadata": {},
   "source": [
    "## -1. What is Python?\n",
    "\n",
    "`Python` is a flexible and widely used programming language in data science and software engineering. Unlike many programming languages, one of the central tenets of the design (and writing) of `Python` is that `Python` code should be _easy to read_. Python is frequently used in a wide range of applications, from web development to machine learning.\n",
    "\n",
    "Why do people like to use `Python`? `Python` is:\n",
    "* Fast,\n",
    "* Modular,\n",
    "* Object-oriented,\n",
    "* Extensible (i.e., there are _lots_ of libraries),\n",
    "* Easy to read,\n",
    "* Most importantly: gets the job done.\n",
    "\n",
    "`Python` is the name of a programming language. But different people often interface with `Python` in a number of different ways:\n",
    "1. Running interactive commands with the `python` interpreter. This is done by typing in `python` (or `python3`, if you have `Python 2` and `Python 3` installed on your computer) at the command line.\n",
    "<img src=img/ss_python_interp.png width=500>\n",
    "2. Python development in some kind of text editor or integrated development environment (IDE).\n",
    "<img src=img/ss_python_spyder.png width=500>\n",
    "3. Research-related scripting with heavy documentation and snippets of code. This is especially common in data wrangling.\n",
    "<img src=img/ss_python_notebook.png width=500>\n",
    "    \n",
    "Today, we'll be focusing on the third approach, namely, using `Python` in `Jupyter` notebooks for research, but it's worth exploring all approaches!"
   ]
  },
  {
   "cell_type": "markdown",
   "metadata": {},
   "source": [
    "## 0. Using `Jupyter` Notebooks\n",
    "\n",
    "`Jupyter` notebooks are an excellent tool for integrating your code, notes and explanations, and results all in one place. `Jupyter` notebooks are reproducible, and allow you to capture not only _what_ you did in your analysis, but also _why_ you did the analysis. We'll be working with them through the `JupyterLab` interface."
   ]
  },
  {
   "cell_type": "markdown",
   "metadata": {},
   "source": [
    "### 0.0. Launching `JupyterLab`\n",
    "\n",
    "Getting a `Jupyter` notebook up and running is easy. Simply open up your favorite terminal app, and type `jupyter lab`. `Jupyter` will print some information about the server (which you can ignore for now), and then a webpage should open in your browser that looks like the second picture below.\n",
    "\n",
    "<img src=\"img/ss_jupyter_launch.png\" width=500>\n",
    "\n",
    "<img src=\"img/ss_jupyter_main_screen.png\" width=500>\n",
    "\n",
    "(Don't worry if things look slightly different locally---the appearance of your terminal and the `JupyterLab` interface will change slightly from computer to computer.)"
   ]
  },
  {
   "cell_type": "markdown",
   "metadata": {},
   "source": [
    "#### 0.0.0.Exercise\n",
    "\n",
    "Open `JupyterLab` on your computer."
   ]
  },
  {
   "cell_type": "markdown",
   "metadata": {},
   "source": [
    "### 0.1. Navigation\n",
    "\n",
    "Navigating around `JupyterLab` is relatively easy. The screen is broken into three pieces:\n",
    "\n",
    "1. **The Menu Bar:** Similar to a program like Microsoft Word, many important actions are performed through the menu bar located at the top of the screen. To modify, save, or close files, or navigate through directories, click, e.g., `File > Save`. To alter the appearance of the `JupyterLab` interface, click, e.g., `View > Show line numbers`.\n",
    "2. **The Side Bar:** The left sidebar is home to a number of commonly used tabs, the names of which you can display by mousing over them. We will primarily work with the topmost tab, which contains the file browser. Other tabs allow you to manage kernel and terminal sessions, issue commands, or control open tabs.\n",
    "3. **The Main Panel:** This is the main surface for programming and other activities. The main panel is broken up into tabs, which can be dragged, dropped, and resized.\n",
    "\n",
    "<img src=\"img/ss_screen_example.png\" width=500>\n",
    "\n",
    "In the picture above, the main panel is overlaid in blue, the sidebar is overlaid in red, and the menu bar is overlaid in green.\n",
    "\n",
    "To launch a notebook, simply navigate to the folder containing the notebook, and double-click it."
   ]
  },
  {
   "cell_type": "markdown",
   "metadata": {},
   "source": [
    "#### 0.1.0. Exercise\n",
    "\n",
    "Open `python_basics_part_1.ipynb` to start the first lesson. You should now be able to see locally the instructions that I've been projecting onto the main screen."
   ]
  },
  {
   "cell_type": "markdown",
   "metadata": {},
   "source": [
    "### 0.2. Markdown and Code Cells\n",
    "\n",
    "As we mentioned earlier, `Jupyter` notebooks are a valuable tool because they allow you to interweave explanatory prose for humans to read with code for your computer to run. The way this is accomplished is with \"cells.\" Cells come in two types: \"text\" or \"markdown\" cells, where your notes and explanations live; and \"code\" cells, which will contain your `Python` code.\n",
    "\n",
    "Cells can be created by clicking on the \"+\" icon located at the top of the current pane.\n",
    "\n",
    "<img src=img/ss_add_cell.png width=500>"
   ]
  },
  {
   "cell_type": "markdown",
   "metadata": {},
   "source": [
    "#### 0.2.0. Exercise\n",
    "\n",
    "Try adding a cell to this notebook with the \"+\" icon. To remove it, click on the scissors icon next to it. (This actually \"cuts\" the cell, so it will still be present on your clipboard.)"
   ]
  },
  {
   "cell_type": "markdown",
   "metadata": {},
   "source": [
    "#### 0.2.1. Markdown Cells\n",
    "\n",
    "Text cells are formatted using a lightweight markup language called `markdown`. What this means is that you can easily style the text.\n",
    "\n",
    "* For *italics*, write `*text*` or `_text_`.\n",
    "* For **bold** text, write `**text**` or `__text__`.\n",
    "* To add bulleted items, simply add an asterisk to the beginning of a line, e.g., `* text text text`.\n",
    "* To start a numbered list, begin the line with a number and a period, e.g., `1. text text text`.\n",
    "* To insert `code` directly into a text block, simply place backticks around the code, e.g., `` `code` ``.\n",
    "\n",
    "While these basics are enough for our purposes, much, much more is possible in `markdown`: you can add headers, footnotes, and even directly insert HTML. For a more thorough introduction, click [here](https://www.markdownguide.org/getting-started)."
   ]
  },
  {
   "cell_type": "markdown",
   "metadata": {},
   "source": [
    "#### 0.2.2. Code Cells\n",
    "\n",
    "The bread and butter of `Jupyter` notebooks are code cells, which we'll be working with at length below. Code cells have two parts: an input box, where you write the `Python` code, and an output box.\n",
    "\n",
    "<img src=\"img/ss_code_cell.png\" width=500>\n",
    "\n",
    "Here, the input is higlighted in red, and the output is highlighted in blue."
   ]
  },
  {
   "cell_type": "markdown",
   "metadata": {},
   "source": [
    "#### 0.2.3. Exercise\n",
    "\n",
    "Create a cell, and then change it from a code cell to a markdown cell and back again. Use the dropdown menu located  in the toolbar:\n",
    "\n",
    "<img src=\"img/ss_change_cell.png\" width=500>"
   ]
  },
  {
   "cell_type": "markdown",
   "metadata": {},
   "source": [
    "### 0.3. Saving and switching between notebooks\n",
    "\n",
    "Let's say you've added a lot of code and text to a notebook---what should you do to \"render,\" or complete the notebook? Click `Run > Run all cells`. This will output nicely formatted text in all of the text boxes, and run all of the code in the code cells. You can also click the play button in the current pane.\n",
    "\n",
    "To save the notebook output, go to `File > Save`."
   ]
  },
  {
   "cell_type": "markdown",
   "metadata": {},
   "source": [
    "### 0.4. How to get help\n",
    "\n",
    "Even seasoned software engineers frequently come across functions they don't know how to use or code they don't understand. One of the best places to look for help is at the official `Python` documentation. To bring it up, simply click `Help > Python Reference` in the menu bar. Usually, you can find the function (or \"module,\" `Python`'s special word for libraries) just by searching in the search box!"
   ]
  },
  {
   "cell_type": "markdown",
   "metadata": {},
   "source": [
    "#### 0.4.1. Exercise\n",
    "\n",
    "Python also has a built-in help function: `help()`. It can be a little intimidating at first, but it's one of the best ways to get help on whatever you're working with. Practice calling the `help()` function by calling `help()` on, well, itself: `help(help)`."
   ]
  },
  {
   "cell_type": "code",
   "execution_count": 101,
   "metadata": {},
   "outputs": [
    {
     "name": "stdout",
     "output_type": "stream",
     "text": [
      "Help on _Helper in module _sitebuiltins object:\n",
      "\n",
      "class _Helper(builtins.object)\n",
      " |  Define the builtin 'help'.\n",
      " |  \n",
      " |  This is a wrapper around pydoc.help that provides a helpful message\n",
      " |  when 'help' is typed at the Python interactive prompt.\n",
      " |  \n",
      " |  Calling help() at the Python prompt starts an interactive help session.\n",
      " |  Calling help(thing) prints help for the python object 'thing'.\n",
      " |  \n",
      " |  Methods defined here:\n",
      " |  \n",
      " |  __call__(self, *args, **kwds)\n",
      " |      Call self as a function.\n",
      " |  \n",
      " |  __repr__(self)\n",
      " |      Return repr(self).\n",
      " |  \n",
      " |  ----------------------------------------------------------------------\n",
      " |  Data descriptors defined here:\n",
      " |  \n",
      " |  __dict__\n",
      " |      dictionary for instance variables (if defined)\n",
      " |  \n",
      " |  __weakref__\n",
      " |      list of weak references to the object (if defined)\n",
      "\n"
     ]
    }
   ],
   "source": [
    "### START\n",
    "help(help)\n",
    "### END"
   ]
  },
  {
   "cell_type": "markdown",
   "metadata": {},
   "source": [
    "## 1. Warmup: Approximating Pi\n",
    "\n",
    "Let's begin with a warmup: using `Python` to approximate $\\pi \\approx 3.14159\\ldots$.\n",
    "\n",
    "There's a smart aleck way to do this: `Python` already stores the constant `pi` in the `math` module:"
   ]
  },
  {
   "cell_type": "code",
   "execution_count": 1,
   "metadata": {},
   "outputs": [
    {
     "data": {
      "text/plain": [
       "3.141592653589793"
      ]
     },
     "execution_count": 1,
     "metadata": {},
     "output_type": "execute_result"
    }
   ],
   "source": [
    "import math\n",
    "\n",
    "math.pi"
   ]
  },
  {
   "cell_type": "markdown",
   "metadata": {},
   "source": [
    "(Don't worry if none of that makes sense yet. It all will by the end of the day today!)\n",
    "\n",
    "Let's instead pretend that we need a way of calculating $\\pi$ on our own. From scratch.\n",
    "\n",
    "How might we go about doing that? Well, one thing that we definitely know about $\\pi$ is the classic formula for the area of a circle: $A_\\circ = \\pi \\cdot r^2$. The area of a square is even easier: $A_\\square = h^2$. Let's look at a picture:\n",
    "\n",
    "<img src=img/ss_circ_sqr.png width=500>\n",
    "\n",
    "Clearly the blue circle has area $\\pi\\ \\text{units}^2$ and the red square has area $4\\ \\text{units}^2$. What's behind the shapes?\n",
    "\n",
    "<img src=img/ss_dart_board.png width=500>\n",
    "\n",
    "A dart board! What's interesting about this dartboard is the probabilities of hitting it. Let's imagine we're playing darts and our aim is ok, but not very good. We can always land in the red square, but within the red square we're as likely to hit one spot as another."
   ]
  },
  {
   "cell_type": "markdown",
   "metadata": {},
   "source": [
    "#### 1.0. Exercise\n",
    "What percentage of our darts should we expect even to hit the board?"
   ]
  },
  {
   "cell_type": "code",
   "execution_count": 2,
   "metadata": {},
   "outputs": [],
   "source": [
    "# Type your answer here!"
   ]
  },
  {
   "cell_type": "markdown",
   "metadata": {},
   "source": [
    "So if we just had a dartboard instead of this pesky `JupyterLab` notebook, approximating $\\pi$ would be a breeze! We'd just throw lots of darts at the board. We'd just count the percentage that hit the board, instead of missing, and then multiply by four.\n",
    "\n",
    "Fortunately, this strategy---frequently called _Monte Carlo simulation_---works in `Python` too!\n",
    "\n",
    "Let's begin by generating some dart throws. A dart throw needs an $x$ and a $y$ coordinate. Our darts always land in the box, so we need the darts coordinates to be between $1$ and $-1$; but other than that, they should be completely random.\n",
    "\n",
    "Python has a whole bunch of functions for doing random things all ready for us. One of these, `uniform(a,b)`, will give us a randomly generated number between `a` and `b`."
   ]
  },
  {
   "cell_type": "markdown",
   "metadata": {},
   "source": [
    "#### 1.1. Exercise\n",
    "How could we use this to generate the $x$ coordinate of a dart throw? Try it out in the box below:"
   ]
  },
  {
   "cell_type": "code",
   "execution_count": 3,
   "metadata": {},
   "outputs": [
    {
     "data": {
      "text/plain": [
       "-0.906214449967071"
      ]
     },
     "execution_count": 3,
     "metadata": {},
     "output_type": "execute_result"
    }
   ],
   "source": [
    "from random import uniform\n",
    "\n",
    "# START\n",
    "uniform(-1,1)\n",
    "# END"
   ]
  },
  {
   "cell_type": "markdown",
   "metadata": {},
   "source": [
    "Cool! But that's only one coordinate---what about the $y$ coordinate? Remeber, we need the point $(x,y)$ where the dart lands. This notation is pretty suggestive of how things are done in `Python`: if we want to store a pair of numbers, just write `(NUMBER_1, NUMBER_2)`."
   ]
  },
  {
   "cell_type": "markdown",
   "metadata": {},
   "source": [
    "#### 1.2. Exercise\n",
    "In the code box below, try and generate _both_ coordinates of a random dart throw, and put them in a pair."
   ]
  },
  {
   "cell_type": "code",
   "execution_count": 4,
   "metadata": {},
   "outputs": [
    {
     "data": {
      "text/plain": [
       "(0.9523076808185658, -0.3576325930548374)"
      ]
     },
     "execution_count": 4,
     "metadata": {},
     "output_type": "execute_result"
    }
   ],
   "source": [
    "# START\n",
    "(uniform(-1,1), uniform(-1,1))\n",
    "# END"
   ]
  },
  {
   "cell_type": "markdown",
   "metadata": {},
   "source": [
    "That's only one throw, though. To really approximate $\\pi$, we need _lots_ of throws. Fortunately, `Python` makes it very easy to do something repeatedly: that's what the `for` keyword is for.\n",
    "\n",
    "Let's suppose we want to model a busy graduate student's schedule across ten days. We could write what's called a _`for` loop_ to do it:"
   ]
  },
  {
   "cell_type": "code",
   "execution_count": 5,
   "metadata": {},
   "outputs": [
    {
     "name": "stdout",
     "output_type": "stream",
     "text": [
      "On day 0 I worked.\n",
      "On day 1 I worked.\n",
      "On day 2 I worked.\n",
      "On day 3 I worked.\n",
      "On day 4 I worked.\n",
      "On day 5 I worked.\n",
      "On day 6 I worked.\n",
      "On day 7 I worked.\n",
      "On day 8 I worked.\n",
      "On day 9 I worked.\n"
     ]
    }
   ],
   "source": [
    "for day in range(0,10):\n",
    "    print(\"On day\", day, \"I worked.\")"
   ]
  },
  {
   "cell_type": "markdown",
   "metadata": {},
   "source": [
    "Here `Python` simulated (very loosely) what the graduate student did on each of the ten days. If we wanted to simulate fifteen days instead, or only want to know what the graduate student did on days five through eight (inclusive), we could do that too by changing the `range` of our `for` loop:"
   ]
  },
  {
   "cell_type": "code",
   "execution_count": 6,
   "metadata": {},
   "outputs": [
    {
     "name": "stdout",
     "output_type": "stream",
     "text": [
      "On day 0 I worked.\n",
      "On day 1 I worked.\n",
      "On day 2 I worked.\n",
      "On day 3 I worked.\n",
      "On day 4 I worked.\n",
      "On day 5 I worked.\n",
      "On day 6 I worked.\n",
      "On day 7 I worked.\n",
      "On day 8 I worked.\n",
      "On day 9 I worked.\n",
      "On day 10 I worked.\n",
      "On day 11 I worked.\n",
      "On day 12 I worked.\n",
      "On day 13 I worked.\n",
      "On day 14 I worked.\n",
      "\n",
      "On day 5 I worked.\n",
      "On day 6 I worked.\n",
      "On day 7 I worked.\n",
      "On day 8 I worked.\n"
     ]
    }
   ],
   "source": [
    "for day in range(0,15):\n",
    "    print(\"On day\", day, \"I worked.\")\n",
    "\n",
    "print()\n",
    "    \n",
    "for day in range(5,9):\n",
    "    print(\"On day\", day, \"I worked.\")"
   ]
  },
  {
   "cell_type": "markdown",
   "metadata": {},
   "source": [
    "__PROTIP:__ You might notice that our for loops (and even our section numbering) begin with 0 instead of 1. This is because `Python` is what's called a _zero-indexed_ programming language. In general, that means that the _first_ thing in any sort of `Python` object isn't actually 1---it's 0!"
   ]
  },
  {
   "cell_type": "markdown",
   "metadata": {},
   "source": [
    "Let's say that the graduate student's advisor wants to know what they were up to for the last few days. The graduate student needs to _record_ something showing what they were doing each day. Fortunately, there's an easy pattern to do this too:"
   ]
  },
  {
   "cell_type": "code",
   "execution_count": 7,
   "metadata": {},
   "outputs": [
    {
     "data": {
      "text/plain": [
       "['On day 0 I worked.',\n",
       " 'On day 1 I worked.',\n",
       " 'On day 2 I worked.',\n",
       " 'On day 3 I worked.',\n",
       " 'On day 4 I worked.',\n",
       " 'On day 5 I worked.',\n",
       " 'On day 6 I worked.',\n",
       " 'On day 7 I worked.',\n",
       " 'On day 8 I worked.',\n",
       " 'On day 9 I worked.']"
      ]
     },
     "execution_count": 7,
     "metadata": {},
     "output_type": "execute_result"
    }
   ],
   "source": [
    "record = []\n",
    "for day in range(0,10):\n",
    "    record.append(\"On day \" + str(day) + \" I worked.\")\n",
    "\n",
    "record"
   ]
  },
  {
   "cell_type": "markdown",
   "metadata": {},
   "source": [
    "#### 1.3. Exercise\n",
    "Use the pattern above to store 10 random dart throws.\n",
    "\n",
    "__PROTIP:__ You should rewrite the code yourself instead of copying and pasting! In general, copying and pasting code is something you want to avoid: when you write code out yourself, you get more familiar with how it works, and copying and pasting will often introduce errors that are annoying and time-consuming to fix. Later on we'll talk about _functions_ and other good ways to avoid repeating yourself, but for now just keep in mind that you should be writing things out yourself.\n",
    "\n",
    "__HINT:__ If you try to do something like `record.append(a,b)` you might get an error saying `append()` takes exactly one argument. `Python` thinks you're trying to tell it to `append()` two things, and it only knows how to append one. If you combine those two things together into one thing first, it'll work correctly: `append((a,b))`."
   ]
  },
  {
   "cell_type": "code",
   "execution_count": 8,
   "metadata": {},
   "outputs": [
    {
     "data": {
      "text/plain": [
       "[(0.12139507306876673, -0.32262559721332873),\n",
       " (-0.005635493314294804, 0.32649961819488804),\n",
       " (0.3540985836286832, -0.8929088695376965),\n",
       " (-0.2098344904342453, -0.553477455433004),\n",
       " (-0.1967434114791995, -0.23994255673885),\n",
       " (-0.5005175563302904, 0.596487667571191),\n",
       " (0.4407251697059984, 0.7628578530326322),\n",
       " (-0.32566688043065706, 0.5748241054738785),\n",
       " (-0.6366935506432818, 0.6603360739889139),\n",
       " (0.3576114388970828, -0.27116190352945124)]"
      ]
     },
     "execution_count": 8,
     "metadata": {},
     "output_type": "execute_result"
    }
   ],
   "source": [
    "# START\n",
    "record = []\n",
    "for day in range(0,10):\n",
    "    record.append((uniform(-1,1), uniform(-1,1)))\n",
    "\n",
    "record\n",
    "# END"
   ]
  },
  {
   "cell_type": "markdown",
   "metadata": {},
   "source": [
    "We're very nearly there! The only thing we still have to do is figure out if a point is in the circle or not. We've written a function for you called `on_board()`, which will check to see if a dart throw lands on the board or not. Don't worry if it looks a little complicated---there's nothing going on that you won't understand by the end of the day! "
   ]
  },
  {
   "cell_type": "code",
   "execution_count": 9,
   "metadata": {},
   "outputs": [],
   "source": [
    "from math import sqrt\n",
    "\n",
    "def on_board(x, y):\n",
    "    if (abs(x) > 1 or abs(y) > 1):\n",
    "        raise Exception(\n",
    "            'Your throw should lie in the square from (-1, -1) to (1, 1). The'\n",
    "            ' throw you gave me was: ' + str((x, y))\n",
    "        )\n",
    "    if (sqrt(x ** 2 + y ** 2) < 1):\n",
    "        return True\n",
    "    else:\n",
    "        return False"
   ]
  },
  {
   "cell_type": "markdown",
   "metadata": {},
   "source": [
    "#### 1.4. Exercise\n",
    "\n",
    "Using `on_board()` and the `for` loop pattern we just learned, simulate 1,000,000 test throws at the dart board, but instead of recording _where_ the dart landed (i.e., it's coordinates), record _whether_ the dart landed on the board."
   ]
  },
  {
   "cell_type": "code",
   "execution_count": 102,
   "metadata": {},
   "outputs": [],
   "source": [
    "### START\n",
    "record = []\n",
    "for throw in range(0, 1000000):\n",
    "    record.append((on_board(uniform(-1, 1), uniform(-1,1))))\n",
    "### END"
   ]
  },
  {
   "cell_type": "markdown",
   "metadata": {},
   "source": [
    "Now, all that's left to calculate $\\pi$ is to find the percentage of times our dart hit the board and multiply by four!"
   ]
  },
  {
   "cell_type": "markdown",
   "metadata": {},
   "source": [
    "#### 1.5. Exercise\n",
    "Use your 1,000,000 simulated dart throws to approximate $\\pi$.\n",
    "\n",
    "__HINT:__ If you need to calculate the percentage of times something happens, use the `mean()` function. E.g.,\n",
    "```python\n",
    "    >>> mean([1,2,3])\n",
    "    2\n",
    "    >>> mean([True, True, True])\n",
    "    1\n",
    "    >>> mean([True, False, False])\n",
    "    0.3333333333333333\n",
    "```\n",
    "note that _before you can use `mean()`_ you have to import it from the `statistics` module. That means you need to write the following line at the top of your code cell:\n",
    "```python\n",
    "    from statistics import mean\n",
    "```"
   ]
  },
  {
   "cell_type": "code",
   "execution_count": 103,
   "metadata": {},
   "outputs": [
    {
     "data": {
      "text/plain": [
       "3.139936"
      ]
     },
     "execution_count": 103,
     "metadata": {},
     "output_type": "execute_result"
    }
   ],
   "source": [
    "from statistics import mean\n",
    "\n",
    "### START\n",
    "mean(record) * 4\n",
    "### END"
   ]
  },
  {
   "cell_type": "markdown",
   "metadata": {},
   "source": [
    "Amazing! Admittedly, you probably know a better approximation of $\\pi$ if you just remember that International Pi Day is March 4th, but the technique we just used---Monte Carlo simulation---is an incredibly powerful technique, especially in situations where we don't know the answer ahead of time.\n",
    "\n",
    "__PROTIP:__ We actually could increase the accuracy of our simulation just by throwing more darts. The difficulty is that the accuracy of our simulation looks like $1/\\sqrt{n}$ (do you see why?), so to get an extra digit of accuracy, we have to increase the number of throws by a factor of 100. You can put `%%timeit` at the beginning of a code cell to see how long it takes to run. Go back to Exercise 0.4 and see how long it takes to simulate 1,000,000 throws. About how many throws would we need for three digits of accuracy? Four?"
   ]
  },
  {
   "cell_type": "markdown",
   "metadata": {},
   "source": [
    "## 2. Numbers\n",
    "\n",
    "That was an awful lot of stuff we just did. Let's try and unpack everything that happened, starting with how we did (a little bit of) stuff with numbers."
   ]
  },
  {
   "cell_type": "markdown",
   "metadata": {},
   "source": [
    "### 2.0. Arithmetic\n",
    "\n",
    "The answer is that you probably _already_ know how to do lots of things in `Python`! One useful feature of `Python` that I use quite often is that it can be used as a calculator. Let's try typing in a basic numerical formula."
   ]
  },
  {
   "cell_type": "code",
   "execution_count": 12,
   "metadata": {},
   "outputs": [
    {
     "data": {
      "text/plain": [
       "2"
      ]
     },
     "execution_count": 12,
     "metadata": {},
     "output_type": "execute_result"
    }
   ],
   "source": [
    "1 + 1 # Try something like: `1 + 1`"
   ]
  },
  {
   "cell_type": "markdown",
   "metadata": {},
   "source": [
    "Cool! Probably not something we really needed an expensive computer to figure out, but good to know in any case. You can make `Python` do all sorts of numerical operations for you."
   ]
  },
  {
   "cell_type": "markdown",
   "metadata": {},
   "source": [
    "#### 2.0.0. Exercise\n",
    "\n",
    "Get the hang of using `Python` as a calculator. See if you can figure out how to do the following: addition, subtraction, multiplication, division, exponentiation, _integer_ division, (i.e., $5 / 3 = \\mathbf{1}\\ \\text{remainder}\\ 2$), and _remainder_ (i.e., $5 / 3 = 1\\ \\text{remainder}\\ \\mathbf{2}$)."
   ]
  },
  {
   "cell_type": "code",
   "execution_count": 106,
   "metadata": {},
   "outputs": [
    {
     "data": {
      "text/plain": [
       "1"
      ]
     },
     "execution_count": 106,
     "metadata": {},
     "output_type": "execute_result"
    }
   ],
   "source": [
    "### START\n",
    "1 + 1\n",
    "4.2 - 1.8\n",
    "2 * 3\n",
    "4 / 9    \n",
    "3 ** 2\n",
    "5 // 2\n",
    "5 % 2\n",
    "### END"
   ]
  },
  {
   "cell_type": "markdown",
   "metadata": {},
   "source": [
    "In addition to the standard `+`, `-`, `*`, and `/`, there are a couple operations here that may seem unfamiliar:\n",
    "* `**` is the exponentiation operator, so `2 ** 3` returns `8`.\n",
    "* `//` is the _integral_ division operator, so `5 // 2` returns `2` (with a remainder of `1`).\n",
    "* `%` is the _modular_ (\"mod\") division---or _remainder_---operator, so `5 % 2` returns `1`. Modular division is very useful when programming. For instance, if you want to do something \"every other time,\" you can simply do it every time `i % 2 == 0`. (More on this later.)"
   ]
  },
  {
   "cell_type": "markdown",
   "metadata": {},
   "source": [
    "### 2.1. Comparison operators\n",
    "\n",
    "It's also possible to make `Python` tell you whether certain things are true or false, using the _less than_ (`<`), _greater than_ (`>`), and _equals_ (`==`) operators."
   ]
  },
  {
   "cell_type": "code",
   "execution_count": 20,
   "metadata": {},
   "outputs": [
    {
     "data": {
      "text/plain": [
       "False"
      ]
     },
     "execution_count": 20,
     "metadata": {},
     "output_type": "execute_result"
    }
   ],
   "source": [
    "1 > 2"
   ]
  },
  {
   "cell_type": "code",
   "execution_count": 21,
   "metadata": {},
   "outputs": [
    {
     "data": {
      "text/plain": [
       "True"
      ]
     },
     "execution_count": 21,
     "metadata": {},
     "output_type": "execute_result"
    }
   ],
   "source": [
    "2 > 1"
   ]
  },
  {
   "cell_type": "code",
   "execution_count": 22,
   "metadata": {},
   "outputs": [
    {
     "data": {
      "text/plain": [
       "True"
      ]
     },
     "execution_count": 22,
     "metadata": {},
     "output_type": "execute_result"
    }
   ],
   "source": [
    "(2 ** 3) ** 3 == 2 ** 9"
   ]
  },
  {
   "cell_type": "markdown",
   "metadata": {},
   "source": [
    "### 2.1.0. Exercise\n",
    "\n",
    "Try a couple of comparisons of your own. Is $e^{\\pi}$ less than, greater than, or equal to $\\pi^e$?"
   ]
  },
  {
   "cell_type": "code",
   "execution_count": 107,
   "metadata": {},
   "outputs": [
    {
     "data": {
      "text/plain": [
       "True"
      ]
     },
     "execution_count": 107,
     "metadata": {},
     "output_type": "execute_result"
    }
   ],
   "source": [
    "### START\n",
    "2.71828 ** 3.14159 > 3.14159 ** 2.71828\n",
    "### END"
   ]
  },
  {
   "cell_type": "markdown",
   "metadata": {},
   "source": [
    "**A WORD OF CAUTION:** Note that the equality operator is `==`---i.e., _two_ equals signs---and not `=`---i.e., a single equals sign. The single equals sign, `=`, is for assigning to variables, as we saw in the warmup, and which we'll talk about in a second. This is a very commn source of errors; even expert programmers will inadvertently type `=` when they meant to type `==`."
   ]
  },
  {
   "cell_type": "markdown",
   "metadata": {},
   "source": [
    "__PROTIP:__ In addition, you might have noticed that numbers in `Python` come in two types: _integers_, which are just whole numbers; and _floating point numbers_, which can represent decimal numbers, like `1.5`, `3.14159`, or `2019.0`. (You'll notice that we're representing a whole number using floating point in `Python`, the first decimal place is still printed.)\n",
    "\n",
    "The important difference between integers and floating point numbers is that operations on integers are _exact_, whereas operations on floating point numbers are only _approximate_. For instance, compare the following:"
   ]
  },
  {
   "cell_type": "code",
   "execution_count": 23,
   "metadata": {},
   "outputs": [
    {
     "data": {
      "text/plain": [
       "True"
      ]
     },
     "execution_count": 23,
     "metadata": {},
     "output_type": "execute_result"
    }
   ],
   "source": [
    "(((((2 ** 10) // 2 ** 5) * 2 ** 5) // 2 ** 5) * 2 ** 5) == 2 ** 10"
   ]
  },
  {
   "cell_type": "code",
   "execution_count": 24,
   "metadata": {},
   "outputs": [
    {
     "data": {
      "text/plain": [
       "False"
      ]
     },
     "execution_count": 24,
     "metadata": {},
     "output_type": "execute_result"
    }
   ],
   "source": [
    "1.2 - 1.0 == 0.2"
   ]
  },
  {
   "cell_type": "markdown",
   "metadata": {},
   "source": [
    "## TODO(jgaeb): Put control flow here"
   ]
  },
  {
   "cell_type": "markdown",
   "metadata": {},
   "source": [
    "## 3. Variables\n",
    "\n",
    "Let's suppose we're running a grocery store, and we have some inventory:\n",
    "* __Milk,__ which we bought for \\\\$0.99 per gallon, and resell for \\\\$1.99 per gallon.\n",
    "* __Eggs,__ which we bought for \\\\$2.59 per dozen, and resell for \\\\$4.00 per dozen.\n",
    "* __Bread,__ which we bought for \\\\$6.31 a loaf, and resell at \\\\$7.99.\n",
    "* __Coffee,__ which we bought for \\\\$0.31 a cup, and resell for \\\\$2.99 a cup.\n",
    "\n",
    "Alright, now let's suppose it's been a slow morning: we sold four gallons of milk, 36 eggs, two loaves of bread, and seven cups of coffee. What was our net profit?\n",
    "\n",
    "This probably seems like an annoying problem, and it would be very annoying to solve given what we know how to do in Python so far. We could try typing something like"
   ]
  },
  {
   "cell_type": "code",
   "execution_count": 25,
   "metadata": {},
   "outputs": [
    {
     "data": {
      "text/plain": [
       "21.89"
      ]
     },
     "execution_count": 25,
     "metadata": {},
     "output_type": "execute_result"
    }
   ],
   "source": [
    "(1.99 * 4 + 2.59 * 3 + 7.99 * 2 + 2.99 * 7) - (0.99 * 4 + 4.00 * 3 + 6.31 * 2 + 0.31 * 7)"
   ]
  },
  {
   "cell_type": "markdown",
   "metadata": {},
   "source": [
    "Not only was this gross to do, but it's not even right. I accidentally introduced an error into the calculation, and didn't get the profit right.\n",
    "\n",
    "In long calculations, it can become difficult to keep track of intermediate steps. Luckily, `Python` allows us to store the intermediate results of calculations."
   ]
  },
  {
   "cell_type": "markdown",
   "metadata": {},
   "source": [
    "### Storing values in variables\n",
    "\n",
    "A better way to solve this problem is to store intermediate results in variables. This is done using `=`, i.e., the _single_ equals sign. For instance, we might do something like"
   ]
  },
  {
   "cell_type": "code",
   "execution_count": 26,
   "metadata": {},
   "outputs": [
    {
     "data": {
      "text/plain": [
       "30.349999999999994"
      ]
     },
     "execution_count": 26,
     "metadata": {},
     "output_type": "execute_result"
    }
   ],
   "source": [
    "price_milk_buy    = 0.99\n",
    "price_milk_sell   = 1.99\n",
    "price_eggs_buy    = 2.59\n",
    "price_eggs_sell   = 4.00\n",
    "price_bread_buy   = 6.31\n",
    "price_bread_sell  = 7.99\n",
    "price_coffee_buy  = 0.31\n",
    "price_coffee_sell = 2.99\n",
    "\n",
    "revenue = (price_milk_sell * 4 +\n",
    "           price_eggs_sell * 3 +\n",
    "           price_bread_sell * 2 +\n",
    "           price_coffee_sell * 7)\n",
    "\n",
    "costs   = (price_milk_buy * 4 +\n",
    "           price_eggs_buy * 3 +\n",
    "           price_bread_buy * 2 +\n",
    "           price_coffee_buy * 7)\n",
    "\n",
    "revenue - costs"
   ]
  },
  {
   "cell_type": "markdown",
   "metadata": {},
   "source": [
    "### Displaying variables with `print()`\n",
    "\n",
    "Let's suppose that we wanted to save our final computation---that is, our net profit---for later use. We might do something like"
   ]
  },
  {
   "cell_type": "code",
   "execution_count": 27,
   "metadata": {},
   "outputs": [],
   "source": [
    "profit = revenue - costs"
   ]
  },
  {
   "cell_type": "markdown",
   "metadata": {},
   "source": [
    "This is nice, but you'll notice that the previous code cell doesn't have any output. How do we figure out what our profit actually _was_? This is where the `print()` function comes in handy."
   ]
  },
  {
   "cell_type": "code",
   "execution_count": 28,
   "metadata": {},
   "outputs": [
    {
     "name": "stdout",
     "output_type": "stream",
     "text": [
      "30.349999999999994\n"
     ]
    }
   ],
   "source": [
    "print(profit)"
   ]
  },
  {
   "cell_type": "markdown",
   "metadata": {},
   "source": [
    "The nice thing about `print()` is that it gives us a lot of control over how numbers are displayed. For instance, if all we saw from the last cell were the output---i.e., `30.349999999999994`---it would be pretty hard to figure out what was going on. Luckily, it's fairly easy to augment this bare number:"
   ]
  },
  {
   "cell_type": "code",
   "execution_count": 29,
   "metadata": {},
   "outputs": [
    {
     "name": "stdout",
     "output_type": "stream",
     "text": [
      "Our profit this morning was 30.349999999999994\n"
     ]
    }
   ],
   "source": [
    "print(\"Our profit this morning was\", profit)"
   ]
  },
  {
   "cell_type": "markdown",
   "metadata": {},
   "source": [
    "We can do this with many arguments:"
   ]
  },
  {
   "cell_type": "code",
   "execution_count": 30,
   "metadata": {},
   "outputs": [
    {
     "name": "stdout",
     "output_type": "stream",
     "text": [
      "Hello, my name is Hans and I'll be going over some Python basics this morning\n"
     ]
    }
   ],
   "source": [
    "name = \"Hans\"\n",
    "time = \"morning\"\n",
    "print(\"Hello, my name is\", name, \"and I'll be going over some Python basics this\", time)"
   ]
  },
  {
   "cell_type": "markdown",
   "metadata": {},
   "source": [
    "### Things to watch out for\n",
    "\n",
    "Here are two things to remember to avoid some variable-related headaches down the road.\n",
    "\n",
    "#### `Python` variables are case sensitive\n",
    "\n",
    "In `Python`, variables are case sensitive. That means that `dog` and `DOG` possibly represent different things."
   ]
  },
  {
   "cell_type": "code",
   "execution_count": 31,
   "metadata": {},
   "outputs": [
    {
     "data": {
      "text/plain": [
       "False"
      ]
     },
     "execution_count": 31,
     "metadata": {},
     "output_type": "execute_result"
    }
   ],
   "source": [
    "dog = \"good boy\"\n",
    "DOG = \"WOOF\"\n",
    "dog == DOG"
   ]
  },
  {
   "cell_type": "markdown",
   "metadata": {},
   "source": [
    "#### Variables have to be stored before they can be used\n",
    "\n",
    "If we try to bring our neighbor's dog into the equation without first saying what it is, `Python` will throw an error."
   ]
  },
  {
   "cell_type": "code",
   "execution_count": 32,
   "metadata": {
    "tags": [
     "raises-exception"
    ]
   },
   "outputs": [
    {
     "ename": "NameError",
     "evalue": "name 'DoG' is not defined",
     "output_type": "error",
     "traceback": [
      "\u001b[0;31m---------------------------------------------------------------------------\u001b[0m",
      "\u001b[0;31mNameError\u001b[0m                                 Traceback (most recent call last)",
      "\u001b[0;32m<ipython-input-32-09c8d6fff8a9>\u001b[0m in \u001b[0;36m<module>\u001b[0;34m\u001b[0m\n\u001b[0;32m----> 1\u001b[0;31m \u001b[0mdog\u001b[0m \u001b[0;34m==\u001b[0m \u001b[0mDoG\u001b[0m\u001b[0;34m\u001b[0m\u001b[0;34m\u001b[0m\u001b[0m\n\u001b[0m",
      "\u001b[0;31mNameError\u001b[0m: name 'DoG' is not defined"
     ]
    }
   ],
   "source": [
    "dog == DoG"
   ]
  },
  {
   "cell_type": "markdown",
   "metadata": {},
   "source": [
    "Some languages will try to infer a \"default value,\" but `Python` will not. However, there's no issue if we store a value first and then use it."
   ]
  },
  {
   "cell_type": "code",
   "execution_count": 33,
   "metadata": {},
   "outputs": [
    {
     "data": {
      "text/plain": [
       "False"
      ]
     },
     "execution_count": 33,
     "metadata": {},
     "output_type": "execute_result"
    }
   ],
   "source": [
    "Dog = \"neighbor dog\"\n",
    "dog == Dog"
   ]
  },
  {
   "cell_type": "markdown",
   "metadata": {},
   "source": [
    "## Strings\n",
    "\n",
    "You might have noticed that some of the variables we used in the last actually stored text instead of numbers. Text, or \"strings,\" as they're usually called, are one of the things that can be a bit of a hassle in other languages, but are very easy to deal with in `Python`.\n",
    "\n",
    "Strings are enclosed in either single quotes(`'...'`) or double quotes (`\"...\"`). The only difference betwen the two is that you need to escape literal double quotes with `\\` if you're using single quotes, and vice versa. Examples:"
   ]
  },
  {
   "cell_type": "code",
   "execution_count": 34,
   "metadata": {},
   "outputs": [
    {
     "data": {
      "text/plain": [
       "'This is a string in single quotes, and it works fine'"
      ]
     },
     "execution_count": 34,
     "metadata": {},
     "output_type": "execute_result"
    }
   ],
   "source": [
    "'This is a string in single quotes, and it works fine'"
   ]
  },
  {
   "cell_type": "code",
   "execution_count": 35,
   "metadata": {
    "tags": [
     "raises-exception"
    ]
   },
   "outputs": [
    {
     "ename": "SyntaxError",
     "evalue": "invalid syntax (<ipython-input-35-ff88f75c76eb>, line 1)",
     "output_type": "error",
     "traceback": [
      "\u001b[0;36m  File \u001b[0;32m\"<ipython-input-35-ff88f75c76eb>\"\u001b[0;36m, line \u001b[0;32m1\u001b[0m\n\u001b[0;31m    'This is a string in single quotes, but it's broken!'\u001b[0m\n\u001b[0m                                               ^\u001b[0m\n\u001b[0;31mSyntaxError\u001b[0m\u001b[0;31m:\u001b[0m invalid syntax\n"
     ]
    }
   ],
   "source": [
    "'This is a string in single quotes, but it's broken!'"
   ]
  },
  {
   "cell_type": "code",
   "execution_count": 36,
   "metadata": {},
   "outputs": [
    {
     "data": {
      "text/plain": [
       "\"This is a string with single quotes, and now it's fixed!\""
      ]
     },
     "execution_count": 36,
     "metadata": {},
     "output_type": "execute_result"
    }
   ],
   "source": [
    "'This is a string with single quotes, and now it\\'s fixed!'"
   ]
  },
  {
   "cell_type": "code",
   "execution_count": 37,
   "metadata": {},
   "outputs": [
    {
     "data": {
      "text/plain": [
       "\"So, there's incentive to use double quotes\""
      ]
     },
     "execution_count": 37,
     "metadata": {},
     "output_type": "execute_result"
    }
   ],
   "source": [
    "\"So, there's incentive to use double quotes\""
   ]
  },
  {
   "cell_type": "markdown",
   "metadata": {},
   "source": [
    "That should make it pretty clear. Note that when escaping a single quote in a string enclosed in single quotes, the interpreter internally changes the enclosing quotes to double quotes. The two are absolutely identical, so you should use whichever set of quotes you prefer to enclose your strings, as long as you're consistent.\n",
    "\n",
    "Use the `print` function to make output more readable by omitting the enclosing quotes and printing special characters escaped with `\\`."
   ]
  },
  {
   "cell_type": "code",
   "execution_count": 38,
   "metadata": {},
   "outputs": [
    {
     "data": {
      "text/plain": [
       "'enclosing double quotes (\"\") and single quotes(\\'\\') are the same thing in python'"
      ]
     },
     "execution_count": 38,
     "metadata": {},
     "output_type": "execute_result"
    }
   ],
   "source": [
    "'enclosing double quotes (\"\") and single quotes(\\'\\') are the same thing in python'"
   ]
  },
  {
   "cell_type": "code",
   "execution_count": 39,
   "metadata": {},
   "outputs": [
    {
     "name": "stdout",
     "output_type": "stream",
     "text": [
      "enclosing double quotes (\"\") and single quotes('') are the same thing in python\n"
     ]
    }
   ],
   "source": [
    "print('enclosing double quotes (\"\") and single quotes(\\'\\') are the same thing in python')"
   ]
  },
  {
   "cell_type": "markdown",
   "metadata": {},
   "source": [
    "Stings can also have more than one line. You can either use an explicit line-break character \n",
    "(`\\n`):"
   ]
  },
  {
   "cell_type": "code",
   "execution_count": 40,
   "metadata": {},
   "outputs": [
    {
     "name": "stdout",
     "output_type": "stream",
     "text": [
      "This string has\n",
      "two lines!\n"
     ]
    }
   ],
   "source": [
    "print('This string has\\ntwo lines!')"
   ]
  },
  {
   "cell_type": "markdown",
   "metadata": {},
   "source": [
    "... or use triple quotes `'''...'''` or `\"\"\"...\"\"\"`"
   ]
  },
  {
   "cell_type": "code",
   "execution_count": 41,
   "metadata": {},
   "outputs": [
    {
     "name": "stdout",
     "output_type": "stream",
     "text": [
      "\n",
      "This string has\n",
      "two lines!\n",
      "\n"
     ]
    }
   ],
   "source": [
    "print('''\n",
    "This string has\n",
    "two lines!\n",
    "''')"
   ]
  },
  {
   "cell_type": "markdown",
   "metadata": {},
   "source": [
    "If you look carefully enough, you'll notice that the last string actually has four lines. This is because the triple quotes literally encode all white spaces, including the new lines after the first `'''` and the last \"`!`\". To avoid this, you can escape the new lines with `\\`."
   ]
  },
  {
   "cell_type": "code",
   "execution_count": 42,
   "metadata": {},
   "outputs": [
    {
     "name": "stdout",
     "output_type": "stream",
     "text": [
      "This string (really) has\n",
      "two lines!\n"
     ]
    }
   ],
   "source": [
    "print('''\\\n",
    "This string (really) has\n",
    "two lines!\\\n",
    "''')"
   ]
  },
  {
   "cell_type": "markdown",
   "metadata": {},
   "source": [
    "What if you want to write a string that actually contains the `\\` character?\n",
    "You can either:\n",
    "* escape `\\` with `\\` (e.g., write **two** `\\` characters for one), or\n",
    "* prepend a single `r` to the quotes to indicate that you are writing a **r**aw string"
   ]
  },
  {
   "cell_type": "code",
   "execution_count": 43,
   "metadata": {},
   "outputs": [
    {
     "name": "stdout",
     "output_type": "stream",
     "text": [
      "A backslash (\\) is awesome!\n",
      "A backslash (\\) is awesome!\n"
     ]
    }
   ],
   "source": [
    "print(\"A backslash (\\\\) is awesome!\")\n",
    "print(r\"A backslash (\\) is awesome!\")"
   ]
  },
  {
   "cell_type": "markdown",
   "metadata": {},
   "source": [
    "Unlike some other stingy languages, the plus operator (`+`) does exactly what you'd expect it to do with strings!"
   ]
  },
  {
   "cell_type": "code",
   "execution_count": 44,
   "metadata": {},
   "outputs": [
    {
     "name": "stdout",
     "output_type": "stream",
     "text": [
      "Hello Hans Gaebler\n"
     ]
    }
   ],
   "source": [
    "first_name = 'Hans'\n",
    "last_name = 'Gaebler'\n",
    "full_name = first_name + ' ' + last_name\n",
    "print('Hello', full_name)"
   ]
  },
  {
   "cell_type": "markdown",
   "metadata": {},
   "source": [
    "Even the multiplying operator (`*`) works!"
   ]
  },
  {
   "cell_type": "code",
   "execution_count": 45,
   "metadata": {},
   "outputs": [
    {
     "name": "stdout",
     "output_type": "stream",
     "text": [
      "Sing, la la la \n"
     ]
    }
   ],
   "source": [
    "print('Sing, ' + 'la ' * 3)"
   ]
  },
  {
   "cell_type": "markdown",
   "metadata": {},
   "source": [
    "## Lists\n",
    "\n",
    "Strings are great and all, but they're hardly the most versatile data type in `Python`. In particular, while they're helpful for storing _textual_ data, they aren't very useful for dealing with much else. Luckily, `Python` has lists!\n",
    "\n",
    "Lists are \"array-like.\" What that means is that lists consist of lots of slots, each slot containing some item. The easiest way to construct lists is by placing the items you want in between square brackets like so: `[item_1, item_2, item_3]`. For instance,"
   ]
  },
  {
   "cell_type": "code",
   "execution_count": 46,
   "metadata": {},
   "outputs": [
    {
     "name": "stdout",
     "output_type": "stream",
     "text": [
      "['apples', 'bananas', 'pears', 'mangosteens', 'strawberries']\n"
     ]
    }
   ],
   "source": [
    "fruits = [\"apples\", \"bananas\", \"pears\", \"mangosteens\", \"strawberries\"]\n",
    "\n",
    "print(fruits)"
   ]
  },
  {
   "cell_type": "markdown",
   "metadata": {},
   "source": [
    "Lists can contain more than just strings:"
   ]
  },
  {
   "cell_type": "code",
   "execution_count": 47,
   "metadata": {},
   "outputs": [
    {
     "name": "stdout",
     "output_type": "stream",
     "text": [
      "[2, 3, 5, 7, 11, 13] [['apples', 'bananas', 'pears', 'mangosteens', 'strawberries'], [2, 3, 5, 7, 11, 13], ['kittens', 'kettles', 'mittens', 'packages']] [3, 4, 'five', 'six']\n"
     ]
    }
   ],
   "source": [
    "# A list containing numbers\n",
    "primes = [2, 3, 5, 7, 11, 13]\n",
    "\n",
    "# A list containing other lists\n",
    "junk_drawer = [fruits, primes, [\"kittens\", \"kettles\", \"mittens\", \"packages\"]]\n",
    "\n",
    "# A list of different things\n",
    "misc = [3, 4, \"five\", \"six\"]\n",
    "\n",
    "print(primes, junk_drawer, misc)"
   ]
  },
  {
   "cell_type": "markdown",
   "metadata": {},
   "source": [
    "That's all well and good if we want to put things _into_ lists, but how do we take things _out of_ lists? The answer is that lists (and in fact, all built-in `python` [sequence](https://docs.python.org/2/glossary.html#term-sequence) types) can be indexed and sliced.\n",
    "* __Indexing__ refers to when we get a specific element of a list at a given position. The result is an _element_ of a list, which may or may not be a list itself."
   ]
  },
  {
   "cell_type": "code",
   "execution_count": 48,
   "metadata": {},
   "outputs": [
    {
     "name": "stdout",
     "output_type": "stream",
     "text": [
      "apples\n",
      "[2, 3, 5, 7, 11, 13]\n"
     ]
    }
   ],
   "source": [
    "print(fruits[0])      # Returns the fruit at position 0\n",
    "print(junk_drawer[1]) # Returns the _list_ at position 1"
   ]
  },
  {
   "cell_type": "markdown",
   "metadata": {},
   "source": [
    "* __Slicing__ refers to when we take a \"slice\" of a list between some given indices. The result is _always_ another list."
   ]
  },
  {
   "cell_type": "code",
   "execution_count": 49,
   "metadata": {},
   "outputs": [
    {
     "data": {
      "text/plain": [
       "[4, 'five']"
      ]
     },
     "execution_count": 49,
     "metadata": {},
     "output_type": "execute_result"
    }
   ],
   "source": [
    "misc[1:3]"
   ]
  },
  {
   "cell_type": "markdown",
   "metadata": {},
   "source": [
    "Also like strings, lists can be concatenated with the `+` operator:"
   ]
  },
  {
   "cell_type": "code",
   "execution_count": 50,
   "metadata": {},
   "outputs": [
    {
     "data": {
      "text/plain": [
       "['apples',\n",
       " 'bananas',\n",
       " 'pears',\n",
       " 'mangosteens',\n",
       " 'strawberries',\n",
       " 'tomatoes',\n",
       " 'grapefruits']"
      ]
     },
     "execution_count": 50,
     "metadata": {},
     "output_type": "execute_result"
    }
   ],
   "source": [
    "fruits + [\"tomatoes\", \"grapefruits\"]"
   ]
  },
  {
   "cell_type": "markdown",
   "metadata": {},
   "source": [
    "## Strings are (almost) like lists\n",
    "\n",
    "Strings, like many things in `python`, can be indexed (subscripted). The first element (character) has index 0."
   ]
  },
  {
   "cell_type": "code",
   "execution_count": 51,
   "metadata": {},
   "outputs": [
    {
     "data": {
      "text/plain": [
       "'j'"
      ]
     },
     "execution_count": 51,
     "metadata": {},
     "output_type": "execute_result"
    }
   ],
   "source": [
    "job = 'jedi'\n",
    "job[0]  # character at position 0"
   ]
  },
  {
   "cell_type": "markdown",
   "metadata": {},
   "source": [
    "`Python` will yell at you if you go out of range, whether you do so with a string or a list"
   ]
  },
  {
   "cell_type": "code",
   "execution_count": 52,
   "metadata": {
    "tags": [
     "raises-exception"
    ]
   },
   "outputs": [
    {
     "ename": "IndexError",
     "evalue": "string index out of range",
     "output_type": "error",
     "traceback": [
      "\u001b[0;31m---------------------------------------------------------------------------\u001b[0m",
      "\u001b[0;31mIndexError\u001b[0m                                Traceback (most recent call last)",
      "\u001b[0;32m<ipython-input-52-fac5e9c30608>\u001b[0m in \u001b[0;36m<module>\u001b[0;34m\u001b[0m\n\u001b[0;32m----> 1\u001b[0;31m \u001b[0mjob\u001b[0m\u001b[0;34m[\u001b[0m\u001b[0;36m10\u001b[0m\u001b[0;34m]\u001b[0m\u001b[0;34m\u001b[0m\u001b[0;34m\u001b[0m\u001b[0m\n\u001b[0m",
      "\u001b[0;31mIndexError\u001b[0m: string index out of range"
     ]
    }
   ],
   "source": [
    "job[10]"
   ]
  },
  {
   "cell_type": "code",
   "execution_count": 53,
   "metadata": {
    "tags": [
     "raises-exception"
    ]
   },
   "outputs": [
    {
     "ename": "IndexError",
     "evalue": "list index out of range",
     "output_type": "error",
     "traceback": [
      "\u001b[0;31m---------------------------------------------------------------------------\u001b[0m",
      "\u001b[0;31mIndexError\u001b[0m                                Traceback (most recent call last)",
      "\u001b[0;32m<ipython-input-53-587c41bd992d>\u001b[0m in \u001b[0;36m<module>\u001b[0;34m\u001b[0m\n\u001b[0;32m----> 1\u001b[0;31m \u001b[0mfruits\u001b[0m\u001b[0;34m[\u001b[0m\u001b[0;36m7\u001b[0m\u001b[0;34m]\u001b[0m\u001b[0;34m\u001b[0m\u001b[0;34m\u001b[0m\u001b[0m\n\u001b[0m",
      "\u001b[0;31mIndexError\u001b[0m: list index out of range"
     ]
    }
   ],
   "source": [
    "fruits[7]"
   ]
  },
  {
   "cell_type": "markdown",
   "metadata": {},
   "source": [
    "But you *can* go backwards with a negative index, -1 being the right-most character."
   ]
  },
  {
   "cell_type": "code",
   "execution_count": 54,
   "metadata": {},
   "outputs": [
    {
     "name": "stdout",
     "output_type": "stream",
     "text": [
      "i\n",
      "strawberries\n"
     ]
    }
   ],
   "source": [
    "print(job[-1])    # right-most character\n",
    "print(fruits[-1])  # right-most fruit"
   ]
  },
  {
   "cell_type": "markdown",
   "metadata": {},
   "source": [
    "Like with lists, *slicing* is another useful way to get subsets of your string. "
   ]
  },
  {
   "cell_type": "code",
   "execution_count": 55,
   "metadata": {},
   "outputs": [
    {
     "data": {
      "text/plain": [
       "'je'"
      ]
     },
     "execution_count": 55,
     "metadata": {},
     "output_type": "execute_result"
    }
   ],
   "source": [
    "job[0:2]  # characters from position 0 (included) to 2 (excluded)"
   ]
  },
  {
   "cell_type": "code",
   "execution_count": 56,
   "metadata": {},
   "outputs": [
    {
     "data": {
      "text/plain": [
       "'di'"
      ]
     },
     "execution_count": 56,
     "metadata": {},
     "output_type": "execute_result"
    }
   ],
   "source": [
    "job[2:4]  # characters from position 2 (included) to 3 (excluded)"
   ]
  },
  {
   "cell_type": "markdown",
   "metadata": {},
   "source": [
    "Omitting the first slice index will default to zero (the first element)"
   ]
  },
  {
   "cell_type": "code",
   "execution_count": 57,
   "metadata": {},
   "outputs": [
    {
     "name": "stdout",
     "output_type": "stream",
     "text": [
      "edi\n",
      "['bananas', 'pears', 'mangosteens', 'strawberries']\n"
     ]
    }
   ],
   "source": [
    "print(job[1:])    # slice from position 1 (included) to the end\n",
    "print(fruits[1:])"
   ]
  },
  {
   "cell_type": "markdown",
   "metadata": {},
   "source": [
    "Use slices creatively, to make your life easier!"
   ]
  },
  {
   "cell_type": "code",
   "execution_count": 58,
   "metadata": {},
   "outputs": [
    {
     "data": {
      "text/plain": [
       "'di'"
      ]
     },
     "execution_count": 58,
     "metadata": {},
     "output_type": "execute_result"
    }
   ],
   "source": [
    "job[-2:]  # slice the last two characters"
   ]
  },
  {
   "cell_type": "markdown",
   "metadata": {},
   "source": [
    "Unlike indexing, slicing is generous to ambitious ranges"
   ]
  },
  {
   "cell_type": "code",
   "execution_count": 59,
   "metadata": {},
   "outputs": [
    {
     "data": {
      "text/plain": [
       "'jedi'"
      ]
     },
     "execution_count": 59,
     "metadata": {},
     "output_type": "execute_result"
    }
   ],
   "source": [
    "job[0:100]"
   ]
  },
  {
   "cell_type": "markdown",
   "metadata": {},
   "source": [
    "The big difference in `Python` between strings and lists is what's called \"mutability.\" Strings in `Python` are _immutable,_ meaning they can't be changed. In other words, you can't assign a value to a string index."
   ]
  },
  {
   "cell_type": "code",
   "execution_count": 60,
   "metadata": {
    "tags": [
     "raises-exception"
    ]
   },
   "outputs": [
    {
     "ename": "TypeError",
     "evalue": "'str' object does not support item assignment",
     "output_type": "error",
     "traceback": [
      "\u001b[0;31m---------------------------------------------------------------------------\u001b[0m",
      "\u001b[0;31mTypeError\u001b[0m                                 Traceback (most recent call last)",
      "\u001b[0;32m<ipython-input-60-67d4a4a60c02>\u001b[0m in \u001b[0;36m<module>\u001b[0;34m\u001b[0m\n\u001b[0;32m----> 1\u001b[0;31m \u001b[0mjob\u001b[0m\u001b[0;34m[\u001b[0m\u001b[0;36m0\u001b[0m\u001b[0;34m]\u001b[0m \u001b[0;34m=\u001b[0m \u001b[0;34m'T'\u001b[0m\u001b[0;34m\u001b[0m\u001b[0;34m\u001b[0m\u001b[0m\n\u001b[0m",
      "\u001b[0;31mTypeError\u001b[0m: 'str' object does not support item assignment"
     ]
    }
   ],
   "source": [
    "job[0] = 'T'"
   ]
  },
  {
   "cell_type": "markdown",
   "metadata": {},
   "source": [
    "Instead, you have to build a new string from the existing string."
   ]
  },
  {
   "cell_type": "code",
   "execution_count": 61,
   "metadata": {},
   "outputs": [
    {
     "name": "stdout",
     "output_type": "stream",
     "text": [
      "Tedi\n"
     ]
    }
   ],
   "source": [
    "job = 'T' + job[1:]\n",
    "print(job)"
   ]
  },
  {
   "cell_type": "markdown",
   "metadata": {},
   "source": [
    "Lists, however, can be modified at a certain value. This makes them _mutable_. For instance, "
   ]
  },
  {
   "cell_type": "code",
   "execution_count": 62,
   "metadata": {},
   "outputs": [
    {
     "name": "stdout",
     "output_type": "stream",
     "text": [
      "[30, 4, 'five', 'six']\n"
     ]
    }
   ],
   "source": [
    "misc[0] = 30  # change indexed item\n",
    "print(misc)"
   ]
  },
  {
   "cell_type": "markdown",
   "metadata": {},
   "source": [
    "### Convenience functions for lists and strings\n",
    "\n",
    "Strings and lists have a lot in common. In particular, there are certain things that we do with both of them _so often_ that `Python` provides a whole bunch of functions to do the job for us. For instance, it's common to want to know the length of both lists and strings. That's where the `len()` function comes in:"
   ]
  },
  {
   "cell_type": "code",
   "execution_count": 63,
   "metadata": {},
   "outputs": [
    {
     "name": "stdout",
     "output_type": "stream",
     "text": [
      "The length of `fruits` is 5\n",
      "The length of `job` is 4\n"
     ]
    }
   ],
   "source": [
    "print(\"The length of `fruits` is\", len(fruits))\n",
    "print(\"The length of `job` is\", len(job))"
   ]
  },
  {
   "cell_type": "markdown",
   "metadata": {},
   "source": [
    "There are a _whole bunch_ of these functions. We're only going to go through a few of them here, but you can see all of them in the docs [here](https://docs.python.org/3/library/stdtypes.html#string-methods) for strings and [here](https://docs.python.org/3/tutorial/datastructures.html#more-on-lists) for lists.\n",
    "\n",
    "Don't worry if these don't all sink in right away. The point is just to give you a taste of what's possible. As a general rule, if it's easy to describe what you want to do, and you could do it to any list (or string), there's probably already a built-in function for doing it."
   ]
  },
  {
   "cell_type": "code",
   "execution_count": 64,
   "metadata": {},
   "outputs": [
    {
     "data": {
      "text/plain": [
       "['Hi,', 'my', 'name', 'is', 'Johann.', 'Yes,', 'Johann.']"
      ]
     },
     "execution_count": 64,
     "metadata": {},
     "output_type": "execute_result"
    }
   ],
   "source": [
    "s = 'Hi, my name is Johann. Yes, Johann.'\n",
    "s.split()  # splits the string into a list (split at spaces by default)"
   ]
  },
  {
   "cell_type": "code",
   "execution_count": 65,
   "metadata": {},
   "outputs": [
    {
     "data": {
      "text/plain": [
       "['Hi', ' my name is Johann. Yes', ' Johann.']"
      ]
     },
     "execution_count": 65,
     "metadata": {},
     "output_type": "execute_result"
    }
   ],
   "source": [
    "s.split(',')  # can specify which character to split at"
   ]
  },
  {
   "cell_type": "code",
   "execution_count": 66,
   "metadata": {},
   "outputs": [
    {
     "data": {
      "text/plain": [
       "5"
      ]
     },
     "execution_count": 66,
     "metadata": {},
     "output_type": "execute_result"
    }
   ],
   "source": [
    "s.count('n')  # count the number of non-overlapping occurrences of a substring"
   ]
  },
  {
   "cell_type": "code",
   "execution_count": 67,
   "metadata": {},
   "outputs": [
    {
     "data": {
      "text/plain": [
       "0"
      ]
     },
     "execution_count": 67,
     "metadata": {},
     "output_type": "execute_result"
    }
   ],
   "source": [
    "s.count('Jongbin')"
   ]
  },
  {
   "cell_type": "code",
   "execution_count": 68,
   "metadata": {},
   "outputs": [
    {
     "data": {
      "text/plain": [
       "'HI, MY NAME IS JOHANN. YES, JOHANN.'"
      ]
     },
     "execution_count": 68,
     "metadata": {},
     "output_type": "execute_result"
    }
   ],
   "source": [
    "s.upper()  # makes everything uppercase"
   ]
  },
  {
   "cell_type": "code",
   "execution_count": 69,
   "metadata": {},
   "outputs": [
    {
     "data": {
      "text/plain": [
       "'hi, my name is johann. yes, johann.'"
      ]
     },
     "execution_count": 69,
     "metadata": {},
     "output_type": "execute_result"
    }
   ],
   "source": [
    "s.lower()  # makes everything lowercase"
   ]
  },
  {
   "cell_type": "code",
   "execution_count": 70,
   "metadata": {},
   "outputs": [
    {
     "data": {
      "text/plain": [
       "2"
      ]
     },
     "execution_count": 70,
     "metadata": {},
     "output_type": "execute_result"
    }
   ],
   "source": [
    "s.lower().count('y')  # methods that return a string can be chained"
   ]
  },
  {
   "cell_type": "code",
   "execution_count": 71,
   "metadata": {},
   "outputs": [
    {
     "data": {
      "text/plain": [
       "'Hi,:my:name:is:Johann.:Yes,:Johann.'"
      ]
     },
     "execution_count": 71,
     "metadata": {},
     "output_type": "execute_result"
    }
   ],
   "source": [
    "':'.join(s.split())"
   ]
  },
  {
   "cell_type": "markdown",
   "metadata": {},
   "source": [
    "That last one is a little tricky. So, `str.join(some_sequence)` will take each item of `some_sequence` and stick them together with the value of `str` inbetween, making a single large string. It may seem like a crazy thing to do, but is actually pretty useful whem converting data into comma-separated values. i.e.,"
   ]
  },
  {
   "cell_type": "code",
   "execution_count": 72,
   "metadata": {},
   "outputs": [
    {
     "data": {
      "text/plain": [
       "'some,data,in,a,list'"
      ]
     },
     "execution_count": 72,
     "metadata": {},
     "output_type": "execute_result"
    }
   ],
   "source": [
    "','.join(['some','data','in','a','list'])"
   ]
  },
  {
   "cell_type": "markdown",
   "metadata": {},
   "source": [
    "You can also use the <kbd>Tab</kbd> character (`\\t`) to create tab-separated values:"
   ]
  },
  {
   "cell_type": "code",
   "execution_count": 73,
   "metadata": {},
   "outputs": [
    {
     "name": "stdout",
     "output_type": "stream",
     "text": [
      "some\tdata\tin\ta\tlist\n"
     ]
    }
   ],
   "source": [
    "print('\\t'.join(['some','data','in','a','list']))"
   ]
  },
  {
   "cell_type": "code",
   "execution_count": 74,
   "metadata": {},
   "outputs": [
    {
     "name": "stdout",
     "output_type": "stream",
     "text": [
      "['apples', 'bananas', 'pears', 'mangosteens', 'strawberries', 'tomatoes']\n"
     ]
    }
   ],
   "source": [
    "fruits.append('tomatoes')  # add an item to the end of the list\n",
    "print(fruits)"
   ]
  },
  {
   "cell_type": "code",
   "execution_count": 75,
   "metadata": {},
   "outputs": [
    {
     "name": "stdout",
     "output_type": "stream",
     "text": [
      "['apples', 'bananas', 'pears', 'mangosteens', 'strawberries']\n"
     ]
    }
   ],
   "source": [
    "fruits.remove('tomatoes')  # remove the first item in the list that matches the argument\n",
    "print(fruits)"
   ]
  },
  {
   "cell_type": "code",
   "execution_count": 76,
   "metadata": {},
   "outputs": [
    {
     "data": {
      "text/plain": [
       "1"
      ]
     },
     "execution_count": 76,
     "metadata": {},
     "output_type": "execute_result"
    }
   ],
   "source": [
    "fruits.index('bananas')  # return the index of the first item matching the argument"
   ]
  },
  {
   "cell_type": "code",
   "execution_count": 77,
   "metadata": {},
   "outputs": [
    {
     "data": {
      "text/plain": [
       "2"
      ]
     },
     "execution_count": 77,
     "metadata": {},
     "output_type": "execute_result"
    }
   ],
   "source": [
    "fruits.append('bananas') # bring some extras in case we're hungry\n",
    "fruits.count('bananas')  # return the number of times x appears in the list"
   ]
  },
  {
   "cell_type": "code",
   "execution_count": 78,
   "metadata": {},
   "outputs": [
    {
     "name": "stdout",
     "output_type": "stream",
     "text": [
      "['bananas', 'pears', 'mangosteens', 'strawberries', 'bananas']\n"
     ]
    }
   ],
   "source": [
    "eat = fruits.pop(0)  # return and remove item at position 0 from list (removes last item if no index is specified)\n",
    "print(fruits)"
   ]
  },
  {
   "cell_type": "code",
   "execution_count": 79,
   "metadata": {},
   "outputs": [
    {
     "name": "stdout",
     "output_type": "stream",
     "text": [
      "apples\n"
     ]
    }
   ],
   "source": [
    "print(eat)  # the item previously at position 0 ('apples') is now 'popped' into the variable eat"
   ]
  },
  {
   "cell_type": "markdown",
   "metadata": {},
   "source": [
    "Not exactly a method, but the `in` keyword is useful for checking if a list contains a particular item."
   ]
  },
  {
   "cell_type": "code",
   "execution_count": 80,
   "metadata": {},
   "outputs": [
    {
     "data": {
      "text/plain": [
       "True"
      ]
     },
     "execution_count": 80,
     "metadata": {},
     "output_type": "execute_result"
    }
   ],
   "source": [
    "'bananas' in fruits"
   ]
  },
  {
   "cell_type": "code",
   "execution_count": 81,
   "metadata": {},
   "outputs": [
    {
     "data": {
      "text/plain": [
       "False"
      ]
     },
     "execution_count": 81,
     "metadata": {},
     "output_type": "execute_result"
    }
   ],
   "source": [
    "'tomatoes' in fruits # Not anymore!"
   ]
  },
  {
   "cell_type": "markdown",
   "metadata": {},
   "source": [
    "## Dictionaries\n",
    "\n",
    "The final data structure we'll talk about before taking a break are dictionaries. Dictionaries (or, more properly, `dicts`) work a lot like lists, except instead of looking up things in a dictionary by their _index_, we look them up by their _key_. It's easy to think of a `Python` dictionary as almost the same thing as a Webster's dictionary:\n",
    "* __The Key:__ The \"key\" in a `Python` dictionary corresponds to the word you want to look up.\n",
    "* __The Value:__ The \"value\" in a `Python` dictionary is whatever is stored at a key, which corresponds to a word's definition in a real dictionary.\n",
    "\n",
    "(Dictionaries are known as *associative arrays* or *hash tables* in other languages.)\n",
    "\n",
    "Let's try it. Much like a list, dictionaries are constructed using curly braces, with key value pairs separted by commas, like so: `{key1: value1, key2: value2, key3: value3}`. Let's try it:"
   ]
  },
  {
   "cell_type": "code",
   "execution_count": 82,
   "metadata": {},
   "outputs": [],
   "source": [
    "gre_study_guide = {\n",
    "    \"bucolic\": \"adj. pastoral, rustic, countryfied\",\n",
    "    \"tendentious\": \"adj. controversial, one-sided\",\n",
    "    \"skulk\": \"v. to move in a stealthy or furtive manner\"\n",
    "}"
   ]
  },
  {
   "cell_type": "markdown",
   "metadata": {},
   "source": [
    "Now, suppose the big test is tomorrow, but we can't remember the defintion of \"skulk.\" No problem---we'll just look it up in much the same way that we'd look something up in a list:"
   ]
  },
  {
   "cell_type": "code",
   "execution_count": 83,
   "metadata": {},
   "outputs": [
    {
     "data": {
      "text/plain": [
       "'v. to move in a stealthy or furtive manner'"
      ]
     },
     "execution_count": 83,
     "metadata": {},
     "output_type": "execute_result"
    }
   ],
   "source": [
    "gre_study_guide[\"skulk\"]"
   ]
  },
  {
   "cell_type": "markdown",
   "metadata": {},
   "source": [
    "Of course, like lists, dictionaries can store more than strings. For instance, you might use a dictionary to store information for something like an address book:"
   ]
  },
  {
   "cell_type": "code",
   "execution_count": 84,
   "metadata": {},
   "outputs": [],
   "source": [
    "address_book = {\n",
    "    \"simon\": {\n",
    "        \"first_name\": \"Simon\",\n",
    "        \"last_name\": \"Cowell\",\n",
    "        \"phone\": 447911123456\n",
    "    },\n",
    "    \"paula\": {\n",
    "        \"first_name\": \"Paula\",\n",
    "        \"last_name\": \"Abdul\",\n",
    "        \"phone\": 5303228051\n",
    "    },\n",
    "    \"randy\": {\n",
    "        \"first_name\": \"Randy\",\n",
    "        \"last_name\": \"Jackson\",\n",
    "        \"phone\": 2122002099\n",
    "    }\n",
    "}"
   ]
  },
  {
   "cell_type": "markdown",
   "metadata": {},
   "source": [
    "Now we can find someone's contact information just by looking up their name."
   ]
  },
  {
   "cell_type": "code",
   "execution_count": 85,
   "metadata": {},
   "outputs": [
    {
     "data": {
      "text/plain": [
       "{'first_name': 'Randy', 'last_name': 'Jackson', 'phone': 2122002099}"
      ]
     },
     "execution_count": 85,
     "metadata": {},
     "output_type": "execute_result"
    }
   ],
   "source": [
    "address_book[\"randy\"]"
   ]
  },
  {
   "cell_type": "markdown",
   "metadata": {},
   "source": [
    "What's more, we can even go directly to their phone number by accessing the `\"phone\"` key in the dictionary returned after looking up `\"randy\"`!"
   ]
  },
  {
   "cell_type": "code",
   "execution_count": 86,
   "metadata": {},
   "outputs": [
    {
     "data": {
      "text/plain": [
       "2122002099"
      ]
     },
     "execution_count": 86,
     "metadata": {},
     "output_type": "execute_result"
    }
   ],
   "source": [
    "address_book[\"randy\"][\"phone\"]"
   ]
  },
  {
   "cell_type": "markdown",
   "metadata": {},
   "source": [
    "Let's get familiar with how we can work with dictionaries."
   ]
  },
  {
   "cell_type": "code",
   "execution_count": 87,
   "metadata": {},
   "outputs": [
    {
     "name": "stdout",
     "output_type": "stream",
     "text": [
      "{'name': 'Hans', 'email': 'jgaeb@stanford.edu'}\n"
     ]
    }
   ],
   "source": [
    "me = {'name':'Hans', 'email':'jgaeb@stanford.edu'}\n",
    "print(me)"
   ]
  },
  {
   "cell_type": "code",
   "execution_count": 88,
   "metadata": {},
   "outputs": [
    {
     "name": "stdout",
     "output_type": "stream",
     "text": [
      "{'name': 'Hans', 'email': 'jgaeb@stanford.edu', 'cell': '414-123-4567'}\n"
     ]
    }
   ],
   "source": [
    "me['cell'] = '414-123-4567'\n",
    "print(me)"
   ]
  },
  {
   "cell_type": "markdown",
   "metadata": {},
   "source": [
    "Or delete existing `key:value` pairs with the `del` statement."
   ]
  },
  {
   "cell_type": "code",
   "execution_count": 89,
   "metadata": {},
   "outputs": [
    {
     "name": "stdout",
     "output_type": "stream",
     "text": [
      "{'name': 'Hans', 'cell': '414-123-4567'}\n"
     ]
    }
   ],
   "source": [
    "del(me['email'])\n",
    "print(me)"
   ]
  },
  {
   "cell_type": "markdown",
   "metadata": {},
   "source": [
    "The `key` of a dictionary can't be a list (because lists are mutable), but the `value` sure can!"
   ]
  },
  {
   "cell_type": "code",
   "execution_count": 90,
   "metadata": {},
   "outputs": [
    {
     "name": "stdout",
     "output_type": "stream",
     "text": [
      "{'name': 'Hans', 'cell': '414-123-4567', 'siblings': ['Carrie', 'Karl']}\n"
     ]
    }
   ],
   "source": [
    "me['siblings'] = ['Carrie', 'Karl']\n",
    "print(me)"
   ]
  },
  {
   "cell_type": "markdown",
   "metadata": {},
   "source": [
    "Use the `keys()` method of dictionary objects to get a list of the keys used in the dictionary."
   ]
  },
  {
   "cell_type": "code",
   "execution_count": 91,
   "metadata": {},
   "outputs": [
    {
     "data": {
      "text/plain": [
       "dict_keys(['name', 'cell', 'siblings'])"
      ]
     },
     "execution_count": 91,
     "metadata": {},
     "output_type": "execute_result"
    }
   ],
   "source": [
    "me.keys()"
   ]
  },
  {
   "cell_type": "markdown",
   "metadata": {},
   "source": [
    "And use the `in` keyword (compatible with all lists) to see if the a certain key exists in the dictionary."
   ]
  },
  {
   "cell_type": "code",
   "execution_count": 92,
   "metadata": {},
   "outputs": [
    {
     "data": {
      "text/plain": [
       "True"
      ]
     },
     "execution_count": 92,
     "metadata": {},
     "output_type": "execute_result"
    }
   ],
   "source": [
    "'name' in me.keys()"
   ]
  },
  {
   "cell_type": "code",
   "execution_count": 93,
   "metadata": {},
   "outputs": [
    {
     "data": {
      "text/plain": [
       "False"
      ]
     },
     "execution_count": 93,
     "metadata": {},
     "output_type": "execute_result"
    }
   ],
   "source": [
    "'email' in me.keys()"
   ]
  },
  {
   "cell_type": "markdown",
   "metadata": {},
   "source": [
    "When the keys are simple strings, it is sometimes easier to specify pairs using the `dict` constructor."
   ]
  },
  {
   "cell_type": "code",
   "execution_count": 94,
   "metadata": {},
   "outputs": [
    {
     "name": "stdout",
     "output_type": "stream",
     "text": [
      "{'name': 'Hans', 'email': 'jgaeb@stanford.edu', 'siblings': ['Carrie', 'Karl']}\n"
     ]
    }
   ],
   "source": [
    "me = dict(name='Hans', email='jgaeb@stanford.edu', siblings=['Carrie', 'Karl'])\n",
    "print(me)"
   ]
  },
  {
   "cell_type": "markdown",
   "metadata": {},
   "source": [
    "Of course, it's worth keeping in mind is that the `key` in a dictionary can be _anything_, as long as it's immutable. So `key`s can be strings, numbers, or... tuples!"
   ]
  },
  {
   "cell_type": "markdown",
   "metadata": {},
   "source": [
    "## Tuples\n",
    "\n",
    "The (very last!) data type we'll need to talk about in `Python` is tuples. Fortunately, tuples are much easier than lists or dicts. Think of tuples as lists that are _immutable_: once you've put some stuff in a tuple, you can't change it.\n",
    "\n",
    "Tuples consist of a number of values separted by commas (not necessarily, but often, enclosed in parentheses)."
   ]
  },
  {
   "cell_type": "code",
   "execution_count": 95,
   "metadata": {},
   "outputs": [
    {
     "name": "stdout",
     "output_type": "stream",
     "text": [
      "('male', 'dark hair')\n"
     ]
    }
   ],
   "source": [
    "description = 'male', 'dark hair'\n",
    "print(description)"
   ]
  },
  {
   "cell_type": "code",
   "execution_count": 96,
   "metadata": {},
   "outputs": [
    {
     "data": {
      "text/plain": [
       "'male'"
      ]
     },
     "execution_count": 96,
     "metadata": {},
     "output_type": "execute_result"
    }
   ],
   "source": [
    "description[0]  # tuples are also sequences, and can be indexed"
   ]
  },
  {
   "cell_type": "code",
   "execution_count": 97,
   "metadata": {},
   "outputs": [
    {
     "data": {
      "text/plain": [
       "('dark hair',)"
      ]
     },
     "execution_count": 97,
     "metadata": {},
     "output_type": "execute_result"
    }
   ],
   "source": [
    "description[1:]  # or sliced"
   ]
  },
  {
   "cell_type": "code",
   "execution_count": 98,
   "metadata": {
    "tags": [
     "raises-exception"
    ]
   },
   "outputs": [
    {
     "ename": "TypeError",
     "evalue": "'tuple' object does not support item assignment",
     "output_type": "error",
     "traceback": [
      "\u001b[0;31m---------------------------------------------------------------------------\u001b[0m",
      "\u001b[0;31mTypeError\u001b[0m                                 Traceback (most recent call last)",
      "\u001b[0;32m<ipython-input-98-2f2426800add>\u001b[0m in \u001b[0;36m<module>\u001b[0;34m\u001b[0m\n\u001b[0;32m----> 1\u001b[0;31m \u001b[0mdescription\u001b[0m\u001b[0;34m[\u001b[0m\u001b[0;36m0\u001b[0m\u001b[0;34m]\u001b[0m \u001b[0;34m=\u001b[0m \u001b[0;34m'female'\u001b[0m  \u001b[0;31m# but NOT changed, because they are immutable\u001b[0m\u001b[0;34m\u001b[0m\u001b[0;34m\u001b[0m\u001b[0m\n\u001b[0m",
      "\u001b[0;31mTypeError\u001b[0m: 'tuple' object does not support item assignment"
     ]
    }
   ],
   "source": [
    "description[0] = 'female'  # but NOT changed, because they are immutable"
   ]
  },
  {
   "cell_type": "markdown",
   "metadata": {},
   "source": [
    "While being immutable may seem like a minor difference from lists, the implications are quite big, and tuples are generally used for very different purposes compared to lists. For example, tuples can be used as the `key` for dictionaries (think sparse matrices). "
   ]
  },
  {
   "cell_type": "code",
   "execution_count": 99,
   "metadata": {},
   "outputs": [
    {
     "name": "stdout",
     "output_type": "stream",
     "text": [
      "{(0, 0): 1, (1000, 1000): 1}\n"
     ]
    }
   ],
   "source": [
    "super_sparse_matrix = {(0, 0):1, (1000, 1000):1}  # a 1000*1000 matrix with only two non-zero elements?\n",
    "print(super_sparse_matrix)"
   ]
  },
  {
   "cell_type": "code",
   "execution_count": 100,
   "metadata": {},
   "outputs": [
    {
     "name": "stdout",
     "output_type": "stream",
     "text": [
      "{('apples', 'bananas'): 1, ('apples', 'pears'): 1}\n"
     ]
    }
   ],
   "source": [
    "word_matrix = {('apples', 'bananas'):1, ('apples', 'pears'):1}  # a matrix indexed by words\n",
    "print(word_matrix)"
   ]
  },
  {
   "cell_type": "markdown",
   "metadata": {},
   "source": [
    "There are many more data structures commonly used in `python`, but lists, dictionaries, and tuples pretty much cover the basics (not to mention that these three constitute enough to fully represent the [JSON](http://json.org/) format in `python`, something you might see some of this afternoon when you're working with APIs and scrapers.)"
   ]
  },
  {
   "cell_type": "markdown",
   "metadata": {},
   "source": [
    "# Exercises\n",
    "\n",
    "Try these over the break. Work with the people sitting around you.\n",
    "\n",
    "## Exercise 1.\n",
    "1. Declare a string variable named **`s`**, that has the value:\n",
    "> \"double quotes\" and single 'quotes' are equally acceptable in python\n",
    "\n",
    "1. Make `Python` count how many times the letter `t` appears in the string **`s`**.\n",
    "1. Replace all quotation marks in the string **`s`** with an underbar ('\\_').\n",
    " - to be precise, you're not *replacing* the quotations, but *reassigning* the variable **`s`** with a copy of the old **`s`** that has underbars replacing quotations; remember that `python` strings are **immutable** (i.e., they are NEVER changed, only reassigned).\n",
    " - this was not covered above, but you should use `python`'s `replace()` method for strings; now would be a good time to practice reading the docs (https://docs.python.org/3/library/stdtypes.html#str.replace).\n",
    "1. Split the string **`s`** into a list named **`words`**.\n",
    "1. Count the length of the string **`s`** and the list **`words`**.\n",
    "1. Join the elements of the list **`words`** into a comma separated string.\n",
    "\n",
    "## Exercise 2.\n",
    "1. Create a very, very _long_ string that contains all of Charles Dickens's _A Tale of Two Cities_ using the following code. (Don't worry that this doesn't make much sense now---we'll get to what's going on here in the next lesson.) `with open(\"data/two_cities.txt\", \"r\") as f: ttc = f.read()`\n",
    "2. Turn `ttc` into a list by splitting on spaces (i.e., the string `\" \"`). How many words is _A Tale of Two Cities_?\n",
    "3. How many times does the word \"the\" occur in _A Tale of Two Cities_? How about \"king\"? (__HINT:__ Use the `.count()` function. For instance, `[1,2,3,1].count(1) = 2`.)\n",
    "\n",
    "## Exercise 3.\n",
    "1. Turn `ttc` from the previous exercise into a dictionary using the following code. (Don't worry if this code doesn't make sense.) `ttc = {word:ttc.count(word) for word in ttc[:1000]}`\n",
    "- This dictionary is made up of the following `key: value` pairs: the keys are the first 1000 words in _A Tale of Two Cities_, and the values are the number of times the word appears in the whole book.\n",
    "- This might take a little while, so don't be alarmed if this doesn't happen right away.\n",
    "2. Check how many times the word \"lords\" occurs.\n",
    "3. Reduce the number of times a word you don't like occurs by modifying a `key: value` pair in `ttc`.\n",
    "4. Add a word that you think _should_ occur but doesn't to `ttc`."
   ]
  }
 ],
 "metadata": {
  "kernelspec": {
   "display_name": "Python 3",
   "language": "python",
   "name": "python3"
  },
  "language_info": {
   "codemirror_mode": {
    "name": "ipython",
    "version": 3
   },
   "file_extension": ".py",
   "mimetype": "text/x-python",
   "name": "python",
   "nbconvert_exporter": "python",
   "pygments_lexer": "ipython3",
   "version": "3.7.4"
  }
 },
 "nbformat": 4,
 "nbformat_minor": 4
}
