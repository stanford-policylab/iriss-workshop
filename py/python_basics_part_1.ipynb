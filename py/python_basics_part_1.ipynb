{
 "cells": [
  {
   "cell_type": "markdown",
   "metadata": {},
   "source": [
    "# Python Basics, Part 1\n",
    "\n",
    "In our first session this morning, we want to get you familiar with how to use `JupyterLab`, along with the basics of `Python` syntax and the data types we use in `Python`: numbers, strings, lists, and dictionaries. If you have used `Python` before, some of this material will be review, but you'll probably see some new stuff too!"
   ]
  },
  {
   "cell_type": "markdown",
   "metadata": {},
   "source": [
    "## -1. What is Python?\n",
    "\n",
    "`Python` is a flexible and widely used programming language in data science and software engineering. Unlike many programming languages, one of the central tenets of the design (and writing) of `Python` is that `Python` code should be _easy to read_. Python is frequently used in a wide range of applications, from web development to machine learning.\n",
    "\n",
    "Why do people like to use `Python`? `Python` is:\n",
    "* Fast,\n",
    "* Modular,\n",
    "* Object-oriented,\n",
    "* Extensible (i.e., there are _lots_ of libraries),\n",
    "* Easy to read,\n",
    "* Most importantly: gets the job done.\n",
    "\n",
    "`Python` is the name of a programming language. But different people often interface with `Python` in a number of different ways:\n",
    "1. Running interactive commands with the `python` interpreter. This is done by typing in `python` (or `python3`, if you have `Python 2` and `Python 3` installed on your computer) at the command line.\n",
    "\n",
    "<img src=img/ss_python_interp.png width=500>\n",
    "2. Python development in some kind of text editor or integrated development environment (IDE).\n",
    "\n",
    "<img src=img/ss_python_spyder.png width=500>\n",
    "3. Research-related scripting with heavy documentation and snippets of code. This is especially common in data wrangling.\n",
    "\n",
    "<img src=img/ss_python_notebook.png width=500>\n",
    "    \n",
    "Today, we'll be focusing on the third approach, namely, using `Python` in `Jupyter` notebooks for research, but it's worth exploring all approaches!"
   ]
  },
  {
   "cell_type": "markdown",
   "metadata": {},
   "source": [
    "## 0. Using `Jupyter` Notebooks\n",
    "\n",
    "`Jupyter` notebooks are an excellent tool for integrating your code, notes and explanations, and results all in one place. `Jupyter` notebooks are reproducible, and allow you to capture not only _what_ you did in your analysis, but also _why_ you did the analysis. We'll be working with them through the `JupyterLab` interface."
   ]
  },
  {
   "cell_type": "markdown",
   "metadata": {},
   "source": [
    "### 0.0. Launching `JupyterLab`\n",
    "\n",
    "Getting a `Jupyter` notebook up and running is easy. Simply open up your favorite terminal app, and type `jupyter lab`. `Jupyter` will print some information about the server (which you can ignore for now), and then a webpage should open in your browser that looks like the second picture below.\n",
    "\n",
    "<img src=\"img/ss_jupyter_launch.png\" width=500>\n",
    "\n",
    "<img src=\"img/ss_jupyter_main_screen.png\" width=500>\n",
    "\n",
    "(Don't worry if things look slightly different locally---the appearance of your terminal and the `JupyterLab` interface will change slightly from computer to computer.)"
   ]
  },
  {
   "cell_type": "markdown",
   "metadata": {},
   "source": [
    "#### 0.0.0.Exercise\n",
    "\n",
    "Open `JupyterLab` on your computer."
   ]
  },
  {
   "cell_type": "markdown",
   "metadata": {},
   "source": [
    "### 0.1. Navigation\n",
    "\n",
    "Navigating around `JupyterLab` is relatively easy. The screen is broken into three pieces:\n",
    "\n",
    "1. **The Menu Bar:** Similar to a program like Microsoft Word, many important actions are performed through the menu bar located at the top of the screen. To modify, save, or close files, or navigate through directories, click, e.g., `File > Save`. To alter the appearance of the `JupyterLab` interface, click, e.g., `View > Show line numbers`.\n",
    "2. **The Side Bar:** The left sidebar is home to a number of commonly used tabs, the names of which you can display by mousing over them. We will primarily work with the topmost tab, which contains the file browser. Other tabs allow you to manage kernel and terminal sessions, issue commands, or control open tabs.\n",
    "3. **The Main Panel:** This is the main surface for programming and other activities. The main panel is broken up into tabs, which can be dragged, dropped, and resized.\n",
    "\n",
    "<img src=\"img/ss_screen_example.png\" width=500>\n",
    "\n",
    "In the picture above, the main panel is overlaid in blue, the sidebar is overlaid in red, and the menu bar is overlaid in green.\n",
    "\n",
    "To launch a notebook, simply navigate to the folder containing the notebook, and double-click it."
   ]
  },
  {
   "cell_type": "markdown",
   "metadata": {},
   "source": [
    "#### 0.1.0. Exercise\n",
    "\n",
    "Open `python_basics_part_1.ipynb` to start the first lesson. You should now be able to see locally the instructions that I've been projecting onto the main screen."
   ]
  },
  {
   "cell_type": "markdown",
   "metadata": {},
   "source": [
    "### 0.2. Markdown and Code Cells\n",
    "\n",
    "As we mentioned earlier, `Jupyter` notebooks are a valuable tool because they allow you to interweave explanatory prose for humans to read with code for your computer to run. The way this is accomplished is with \"cells.\" Cells come in two types: \"text\" or \"markdown\" cells, where your notes and explanations live; and \"code\" cells, which will contain your `Python` code.\n",
    "\n",
    "Cells can be created by clicking on the \"+\" icon located at the top of the current pane.\n",
    "\n",
    "<img src=img/ss_add_cell.png width=500>"
   ]
  },
  {
   "cell_type": "markdown",
   "metadata": {},
   "source": [
    "#### 0.2.0. Exercise\n",
    "\n",
    "Try adding a cell to this notebook with the \"+\" icon. To remove it, click on the scissors icon next to it. (This actually \"cuts\" the cell, so it will still be present on your clipboard.)"
   ]
  },
  {
   "cell_type": "markdown",
   "metadata": {},
   "source": [
    "#### 0.2.1. Markdown Cells\n",
    "\n",
    "Text cells are formatted using a lightweight markup language called `markdown`. What this means is that you can easily style the text.\n",
    "\n",
    "* For *italics*, write `*text*` or `_text_`.\n",
    "* For **bold** text, write `**text**` or `__text__`.\n",
    "* To add bulleted items, simply add an asterisk to the beginning of a line, e.g., `* text text text`.\n",
    "* To start a numbered list, begin the line with a number and a period, e.g., `1. text text text`.\n",
    "* To insert `code` directly into a text block, simply place backticks around the code, e.g., `` `code` ``.\n",
    "\n",
    "While these basics are enough for our purposes, much, much more is possible in `markdown`: you can add headers, footnotes, and even directly insert HTML. For a more thorough introduction, click [here](https://www.markdownguide.org/getting-started)."
   ]
  },
  {
   "cell_type": "markdown",
   "metadata": {},
   "source": [
    "#### 0.2.2. Code Cells\n",
    "\n",
    "The bread and butter of `Jupyter` notebooks are code cells, which we'll be working with at length below. Code cells have two parts: an input box, where you write the `Python` code, and an output box.\n",
    "\n",
    "<img src=\"img/ss_code_cell.png\" width=500>\n",
    "\n",
    "Here, the input is higlighted in red, and the output is highlighted in blue."
   ]
  },
  {
   "cell_type": "markdown",
   "metadata": {},
   "source": [
    "#### 0.2.3. Exercise\n",
    "\n",
    "Create a cell, and then change it from a code cell to a markdown cell and back again. Use the dropdown menu located  in the toolbar:\n",
    "\n",
    "<img src=\"img/ss_change_cell.png\" width=500>"
   ]
  },
  {
   "cell_type": "markdown",
   "metadata": {},
   "source": [
    "### 0.3. Saving and switching between notebooks\n",
    "\n",
    "Let's say you've added a lot of code and text to a notebook---what should you do to \"render,\" or complete the notebook? Click `Run > Run all cells`. This will output nicely formatted text in all of the text boxes, and run all of the code in the code cells. You can also click the play button in the current pane.\n",
    "\n",
    "To save the notebook output, go to `File > Save`."
   ]
  },
  {
   "cell_type": "markdown",
   "metadata": {},
   "source": [
    "### 0.4. How to get help <a id='help'></a>\n",
    "\n",
    "Even seasoned software engineers frequently come across functions they don't know how to use or code they don't understand. One of the best places to look for help is at the official `Python` documentation. To bring it up, simply click `Help > Python Reference` in the menu bar. Usually, you can find the function (or \"module,\" `Python`'s special word for libraries) just by searching in the search box!"
   ]
  },
  {
   "cell_type": "markdown",
   "metadata": {},
   "source": [
    "#### 0.4.1. Exercise\n",
    "\n",
    "Python also has a built-in help function: `help()`. It can be a little intimidating at first, but it's one of the best ways to get help on whatever you're working with. Practice calling the `help()` function by calling `help()` on, well, itself: `help(help)`."
   ]
  },
  {
   "cell_type": "code",
   "execution_count": 1,
   "metadata": {},
   "outputs": [
    {
     "name": "stdout",
     "output_type": "stream",
     "text": [
      "Help on _Helper in module _sitebuiltins object:\n",
      "\n",
      "class _Helper(builtins.object)\n",
      " |  Define the builtin 'help'.\n",
      " |  \n",
      " |  This is a wrapper around pydoc.help that provides a helpful message\n",
      " |  when 'help' is typed at the Python interactive prompt.\n",
      " |  \n",
      " |  Calling help() at the Python prompt starts an interactive help session.\n",
      " |  Calling help(thing) prints help for the python object 'thing'.\n",
      " |  \n",
      " |  Methods defined here:\n",
      " |  \n",
      " |  __call__(self, *args, **kwds)\n",
      " |      Call self as a function.\n",
      " |  \n",
      " |  __repr__(self)\n",
      " |      Return repr(self).\n",
      " |  \n",
      " |  ----------------------------------------------------------------------\n",
      " |  Data descriptors defined here:\n",
      " |  \n",
      " |  __dict__\n",
      " |      dictionary for instance variables (if defined)\n",
      " |  \n",
      " |  __weakref__\n",
      " |      list of weak references to the object (if defined)\n",
      "\n"
     ]
    }
   ],
   "source": [
    "### START\n",
    "help(help)\n",
    "### END"
   ]
  },
  {
   "cell_type": "markdown",
   "metadata": {},
   "source": [
    "## 1. Warmup: Approximating Pi\n",
    "\n",
    "Let's begin with a warmup: using `Python` to approximate $\\pi \\approx 3.14159\\ldots$.\n",
    "\n",
    "There's a smart aleck way to do this: `Python` already stores the constant `pi` in the `math` module:"
   ]
  },
  {
   "cell_type": "code",
   "execution_count": 2,
   "metadata": {},
   "outputs": [
    {
     "data": {
      "text/plain": [
       "3.141592653589793"
      ]
     },
     "execution_count": 2,
     "metadata": {},
     "output_type": "execute_result"
    }
   ],
   "source": [
    "import math\n",
    "\n",
    "math.pi"
   ]
  },
  {
   "cell_type": "markdown",
   "metadata": {},
   "source": [
    "(Don't worry if none of that makes sense yet. It all will by the end of the day today!)\n",
    "\n",
    "Let's instead pretend that we need a way of calculating $\\pi$ on our own. From scratch.\n",
    "\n",
    "How might we go about doing that? Well, one thing that we definitely know about $\\pi$ is the classic formula for the area of a circle: $A_\\circ = \\pi \\cdot r^2$. The area of a square is even easier: $A_\\square = h^2$. Let's look at a picture:\n",
    "\n",
    "<img src=img/ss_circ_sqr.png width=500>\n",
    "\n",
    "Clearly the blue circle has area $\\pi\\ \\text{units}^2$ and the red square has area $4\\ \\text{units}^2$. What's behind the shapes?\n",
    "\n",
    "<img src=img/ss_dart_board.png width=500>\n",
    "\n",
    "A dart board! What's interesting about this dartboard is the probabilities of hitting it. Let's imagine we're playing darts and our aim is ok, but not very good. We can always land in the red square, but within the red square we're as likely to hit one spot as another."
   ]
  },
  {
   "cell_type": "markdown",
   "metadata": {},
   "source": [
    "#### 1.0. Exercise\n",
    "What percentage of our darts should we expect even to hit the board?"
   ]
  },
  {
   "cell_type": "code",
   "execution_count": 3,
   "metadata": {},
   "outputs": [],
   "source": [
    "# Type your answer here!"
   ]
  },
  {
   "cell_type": "markdown",
   "metadata": {},
   "source": [
    "So if we just had a dartboard instead of this pesky `JupyterLab` notebook, approximating $\\pi$ would be a breeze! We'd just throw lots of darts at the board. We'd just count the percentage that hit the board, instead of missing, and then multiply by four.\n",
    "\n",
    "Fortunately, this strategy---frequently called _Monte Carlo simulation_---works in `Python` too!\n",
    "\n",
    "Let's begin by generating some dart throws. A dart throw needs an $x$ and a $y$ coordinate. Our darts always land in the box, so we need the darts coordinates to be between $1$ and $-1$; but other than that, they should be completely random.\n",
    "\n",
    "Python has a whole bunch of functions for doing random things all ready for us. One of these, `uniform(a,b)`, will give us a randomly generated number between `a` and `b`."
   ]
  },
  {
   "cell_type": "markdown",
   "metadata": {},
   "source": [
    "#### 1.1. Exercise\n",
    "How could we use this to generate the $x$ coordinate of a dart throw? Try it out in the box below:"
   ]
  },
  {
   "cell_type": "code",
   "execution_count": 4,
   "metadata": {},
   "outputs": [
    {
     "data": {
      "text/plain": [
       "0.9232179826742455"
      ]
     },
     "execution_count": 4,
     "metadata": {},
     "output_type": "execute_result"
    }
   ],
   "source": [
    "from random import uniform\n",
    "\n",
    "# START\n",
    "uniform(-1,1)\n",
    "# END"
   ]
  },
  {
   "cell_type": "markdown",
   "metadata": {},
   "source": [
    "Cool! But that's only one coordinate---what about the $y$ coordinate? Remeber, we need the point $(x,y)$ where the dart lands. This notation is pretty suggestive of how things are done in `Python`: if we want to store a pair of numbers, just write `(NUMBER_1, NUMBER_2)`."
   ]
  },
  {
   "cell_type": "markdown",
   "metadata": {},
   "source": [
    "#### 1.2. Exercise\n",
    "In the code box below, try and generate _both_ coordinates of a random dart throw, and put them in a pair."
   ]
  },
  {
   "cell_type": "code",
   "execution_count": 5,
   "metadata": {},
   "outputs": [
    {
     "data": {
      "text/plain": [
       "(0.5587488990834497, -0.48133821806217125)"
      ]
     },
     "execution_count": 5,
     "metadata": {},
     "output_type": "execute_result"
    }
   ],
   "source": [
    "# START\n",
    "(uniform(-1,1), uniform(-1,1))\n",
    "# END"
   ]
  },
  {
   "cell_type": "markdown",
   "metadata": {},
   "source": [
    "That's only one throw, though. To really approximate $\\pi$, we need _lots_ of throws. Fortunately, `Python` makes it very easy to do something repeatedly: that's what the `for` keyword is for.\n",
    "\n",
    "Let's suppose we want to model a busy graduate student's schedule across ten days. We could write what's called a _`for` loop_ to do it:"
   ]
  },
  {
   "cell_type": "code",
   "execution_count": 6,
   "metadata": {},
   "outputs": [
    {
     "name": "stdout",
     "output_type": "stream",
     "text": [
      "On day 0 I worked.\n",
      "On day 1 I worked.\n",
      "On day 2 I worked.\n",
      "On day 3 I worked.\n",
      "On day 4 I worked.\n",
      "On day 5 I worked.\n",
      "On day 6 I worked.\n",
      "On day 7 I worked.\n",
      "On day 8 I worked.\n",
      "On day 9 I worked.\n"
     ]
    }
   ],
   "source": [
    "for day in range(0,10):\n",
    "    print(\"On day\", day, \"I worked.\")"
   ]
  },
  {
   "cell_type": "markdown",
   "metadata": {},
   "source": [
    "Here `Python` simulated (very loosely) what the graduate student did on each of the ten days. If we wanted to simulate fifteen days instead, or only want to know what the graduate student did on days five through eight (inclusive), we could do that too by changing the `range` of our `for` loop:"
   ]
  },
  {
   "cell_type": "code",
   "execution_count": 7,
   "metadata": {},
   "outputs": [
    {
     "name": "stdout",
     "output_type": "stream",
     "text": [
      "On day 0 I worked.\n",
      "On day 1 I worked.\n",
      "On day 2 I worked.\n",
      "On day 3 I worked.\n",
      "On day 4 I worked.\n",
      "On day 5 I worked.\n",
      "On day 6 I worked.\n",
      "On day 7 I worked.\n",
      "On day 8 I worked.\n",
      "On day 9 I worked.\n",
      "On day 10 I worked.\n",
      "On day 11 I worked.\n",
      "On day 12 I worked.\n",
      "On day 13 I worked.\n",
      "On day 14 I worked.\n",
      "\n",
      "On day 5 I worked.\n",
      "On day 6 I worked.\n",
      "On day 7 I worked.\n",
      "On day 8 I worked.\n"
     ]
    }
   ],
   "source": [
    "for day in range(0,15):\n",
    "    print(\"On day\", day, \"I worked.\")\n",
    "\n",
    "print()\n",
    "    \n",
    "for day in range(5,9):\n",
    "    print(\"On day\", day, \"I worked.\")"
   ]
  },
  {
   "cell_type": "markdown",
   "metadata": {},
   "source": [
    "__PROTIP:__ You might notice that our for loops (and even our section numbering) begin with 0 instead of 1. This is because `Python` is what's called a _zero-indexed_ programming language. In general, that means that the _first_ thing in any sort of `Python` object isn't actually 1---it's 0!"
   ]
  },
  {
   "cell_type": "markdown",
   "metadata": {},
   "source": [
    "Let's say that the graduate student's advisor wants to know what they were up to for the last few days. The graduate student needs to _record_ something showing what they were doing each day. Fortunately, there's an easy pattern to do this too:"
   ]
  },
  {
   "cell_type": "code",
   "execution_count": 8,
   "metadata": {},
   "outputs": [
    {
     "data": {
      "text/plain": [
       "['On day 0 I worked.',\n",
       " 'On day 1 I worked.',\n",
       " 'On day 2 I worked.',\n",
       " 'On day 3 I worked.',\n",
       " 'On day 4 I worked.',\n",
       " 'On day 5 I worked.',\n",
       " 'On day 6 I worked.',\n",
       " 'On day 7 I worked.',\n",
       " 'On day 8 I worked.',\n",
       " 'On day 9 I worked.']"
      ]
     },
     "execution_count": 8,
     "metadata": {},
     "output_type": "execute_result"
    }
   ],
   "source": [
    "records = []\n",
    "for day in range(0,10):\n",
    "    records.append(\"On day \" + str(day) + \" I worked.\")\n",
    "\n",
    "records"
   ]
  },
  {
   "cell_type": "markdown",
   "metadata": {},
   "source": [
    "#### 1.3. Exercise\n",
    "Use the pattern above to store 10 random dart throws.\n",
    "\n",
    "__PROTIP:__ You should rewrite the code yourself instead of copying and pasting! In general, copying and pasting code is something you want to avoid: when you write code out yourself, you get more familiar with how it works, and copying and pasting will often introduce errors that are annoying and time-consuming to fix. Later on we'll talk about _functions_ and other good ways to avoid repeating yourself, but for now just keep in mind that you should be writing things out yourself.\n",
    "\n",
    "__HINT:__ If you try to do something like `record.append(a,b)` you might get an error saying `append()` takes exactly one argument. `Python` thinks you're trying to tell it to `append()` two things, and it only knows how to append one. If you combine those two things together into one thing first, it'll work correctly: `append((a,b))`."
   ]
  },
  {
   "cell_type": "code",
   "execution_count": 9,
   "metadata": {},
   "outputs": [
    {
     "data": {
      "text/plain": [
       "[(0.8787009527744922, -0.007509817205446412),\n",
       " (0.6386659745748045, 0.8281543065918198),\n",
       " (-0.8112667931932636, 0.8202574021732982),\n",
       " (-0.5265970944601677, 0.4854971178944991),\n",
       " (0.12147072125892389, -0.38480913613873113),\n",
       " (-0.11569673138082237, -0.016405868937351853),\n",
       " (0.6476390927450675, 0.537343556287643),\n",
       " (0.5086732706644175, -0.8279976462872063),\n",
       " (-0.6653776513205159, -0.22013342402113745),\n",
       " (0.299205931826916, -0.4040750650373517)]"
      ]
     },
     "execution_count": 9,
     "metadata": {},
     "output_type": "execute_result"
    }
   ],
   "source": [
    "# START\n",
    "records = []\n",
    "for day in range(0,10):\n",
    "    records.append((uniform(-1,1), uniform(-1,1)))\n",
    "\n",
    "records\n",
    "# END"
   ]
  },
  {
   "cell_type": "markdown",
   "metadata": {},
   "source": [
    "We're very nearly there! The only thing we still have to do is figure out if a point is in the circle or not. We've written a function for you called `on_board()`, which will check to see if a dart throw lands on the board or not. Don't worry if it looks a little complicated---there's nothing going on that you won't understand by the end of the day! "
   ]
  },
  {
   "cell_type": "code",
   "execution_count": 10,
   "metadata": {},
   "outputs": [],
   "source": [
    "from math import sqrt\n",
    "\n",
    "def on_board(x, y):\n",
    "    if (abs(x) > 1 or abs(y) > 1):\n",
    "        raise Exception(\n",
    "            'Your throw should lie in the square from (-1, -1) to (1, 1). The'\n",
    "            ' throw you gave me was: ' + str((x, y))\n",
    "        )\n",
    "    if (sqrt(x ** 2 + y ** 2) < 1):\n",
    "        return True\n",
    "    else:\n",
    "        return False"
   ]
  },
  {
   "cell_type": "markdown",
   "metadata": {},
   "source": [
    "#### 1.4. Exercise\n",
    "\n",
    "Using `on_board()` and the `for` loop pattern we just learned, simulate 1,000,000 test throws at the dart board, but instead of recording _where_ the dart landed (i.e., it's coordinates), record _whether_ the dart landed on the board."
   ]
  },
  {
   "cell_type": "code",
   "execution_count": 11,
   "metadata": {},
   "outputs": [],
   "source": [
    "### START\n",
    "records = []\n",
    "for throw in range(0, 1000000):\n",
    "    records.append((on_board(uniform(-1, 1), uniform(-1,1))))\n",
    "### END"
   ]
  },
  {
   "cell_type": "markdown",
   "metadata": {},
   "source": [
    "Now, all that's left to calculate $\\pi$ is to find the percentage of times our dart hit the board and multiply by four!"
   ]
  },
  {
   "cell_type": "markdown",
   "metadata": {},
   "source": [
    "#### 1.5. Exercise\n",
    "Use your 1,000,000 simulated dart throws to approximate $\\pi$.\n",
    "\n",
    "__HINT:__ If you need to calculate the percentage of times something happens, use the `mean()` function. E.g.,\n",
    "```python\n",
    "    >>> mean([1,2,3])\n",
    "    2\n",
    "    >>> mean([True, True, True])\n",
    "    1\n",
    "    >>> mean([True, False, False])\n",
    "    0.3333333333333333\n",
    "```\n",
    "note that _before you can use `mean()`_ you have to import it from the `statistics` module. That means you need to write the following line at the top of your code cell:\n",
    "```python\n",
    "    from statistics import mean\n",
    "```"
   ]
  },
  {
   "cell_type": "code",
   "execution_count": 12,
   "metadata": {},
   "outputs": [
    {
     "data": {
      "text/plain": [
       "3.14174"
      ]
     },
     "execution_count": 12,
     "metadata": {},
     "output_type": "execute_result"
    }
   ],
   "source": [
    "from statistics import mean\n",
    "\n",
    "### START\n",
    "mean(records) * 4\n",
    "### END"
   ]
  },
  {
   "cell_type": "markdown",
   "metadata": {},
   "source": [
    "Amazing! Admittedly, you probably know a better approximation of $\\pi$ if you just remember that International Pi Day is March 4th, but the technique we just used---Monte Carlo simulation---is an incredibly powerful technique, especially in situations where we don't know the answer ahead of time.\n",
    "\n",
    "__PROTIP:__ We actually could increase the accuracy of our simulation just by throwing more darts. The difficulty is that the accuracy of our simulation looks like $1/\\sqrt{n}$ (do you see why?), so to get an extra digit of accuracy, we have to increase the number of throws by a factor of 100. You can put `%%timeit` at the beginning of a code cell to see how long it takes to run. Go back to Exercise 0.4 and see how long it takes to simulate 1,000,000 throws. About how many throws would we need for three digits of accuracy? Four?"
   ]
  },
  {
   "cell_type": "markdown",
   "metadata": {},
   "source": [
    "## 2. Getting the hang of numbers and variables\n",
    "\n",
    "That was an awful lot of stuff we just did. Let's try and unpack everything that happened."
   ]
  },
  {
   "cell_type": "markdown",
   "metadata": {},
   "source": [
    "### 2.0. Arithmetic\n",
    "\n",
    "The answer is that you probably _already_ know how to do lots of things in `Python`! One useful feature of `Python` that I use quite often is that it can be used as a calculator. Let's try typing in a basic numerical formula."
   ]
  },
  {
   "cell_type": "code",
   "execution_count": 13,
   "metadata": {},
   "outputs": [
    {
     "data": {
      "text/plain": [
       "2"
      ]
     },
     "execution_count": 13,
     "metadata": {},
     "output_type": "execute_result"
    }
   ],
   "source": [
    "1 + 1 # Try something like: `1 + 1`"
   ]
  },
  {
   "cell_type": "markdown",
   "metadata": {},
   "source": [
    "Cool! Probably not something we really needed an expensive computer to figure out, but good to know in any case. You can make `Python` do all sorts of numerical operations for you."
   ]
  },
  {
   "cell_type": "markdown",
   "metadata": {},
   "source": [
    "#### 2.0.0. Exercise\n",
    "\n",
    "Get the hang of using `Python` as a calculator. See if you can figure out how to do the following: addition, subtraction, multiplication, division, exponentiation, _integer_ division, (i.e., $5 / 3 = \\mathbf{1}\\ \\text{remainder}\\ 2$), and _remainder_ (i.e., $5 / 3 = 1\\ \\text{remainder}\\ \\mathbf{2}$)."
   ]
  },
  {
   "cell_type": "code",
   "execution_count": 14,
   "metadata": {},
   "outputs": [
    {
     "data": {
      "text/plain": [
       "1"
      ]
     },
     "execution_count": 14,
     "metadata": {},
     "output_type": "execute_result"
    }
   ],
   "source": [
    "### START\n",
    "1 + 1\n",
    "4.2 - 1.8\n",
    "2 * 3\n",
    "4 / 9    \n",
    "3 ** 2\n",
    "5 // 2\n",
    "5 % 2\n",
    "### END"
   ]
  },
  {
   "cell_type": "markdown",
   "metadata": {},
   "source": [
    "In addition to the standard `+`, `-`, `*`, and `/`, there are a couple operations here that may seem unfamiliar:\n",
    "* `**` is the exponentiation operator, so `2 ** 3` returns `8`.\n",
    "* `//` is the _integral_ division operator, so `5 // 2` returns `2` (with a remainder of `1`).\n",
    "* `%` is the _modular_ (\"mod\") division---or _remainder_---operator, so `5 % 2` returns `1`. Modular division is very useful when programming. For instance, if you want to do something \"every other time,\" you can simply do it every time `i % 2 == 0`. (More on this later.)"
   ]
  },
  {
   "cell_type": "markdown",
   "metadata": {},
   "source": [
    "### 2.1. Comparison operators\n",
    "\n",
    "It's also possible to make `Python` tell you whether certain things are true or false, using the _less than_ (`<`), _greater than_ (`>`), and _equals_ (`==`) operators."
   ]
  },
  {
   "cell_type": "code",
   "execution_count": 15,
   "metadata": {},
   "outputs": [
    {
     "data": {
      "text/plain": [
       "False"
      ]
     },
     "execution_count": 15,
     "metadata": {},
     "output_type": "execute_result"
    }
   ],
   "source": [
    "1 > 2"
   ]
  },
  {
   "cell_type": "code",
   "execution_count": 16,
   "metadata": {},
   "outputs": [
    {
     "data": {
      "text/plain": [
       "True"
      ]
     },
     "execution_count": 16,
     "metadata": {},
     "output_type": "execute_result"
    }
   ],
   "source": [
    "2 > 1"
   ]
  },
  {
   "cell_type": "code",
   "execution_count": 17,
   "metadata": {},
   "outputs": [
    {
     "data": {
      "text/plain": [
       "True"
      ]
     },
     "execution_count": 17,
     "metadata": {},
     "output_type": "execute_result"
    }
   ],
   "source": [
    "(2 ** 3) ** 3 == 2 ** 9"
   ]
  },
  {
   "cell_type": "markdown",
   "metadata": {},
   "source": [
    "### 2.1.0. Exercise\n",
    "\n",
    "Try a couple of comparisons of your own. Is $e^{\\pi}$ less than, greater than, or equal to $\\pi^e$?"
   ]
  },
  {
   "cell_type": "code",
   "execution_count": 18,
   "metadata": {},
   "outputs": [
    {
     "data": {
      "text/plain": [
       "True"
      ]
     },
     "execution_count": 18,
     "metadata": {},
     "output_type": "execute_result"
    }
   ],
   "source": [
    "### START\n",
    "2.71828 ** 3.14159 > 3.14159 ** 2.71828\n",
    "### END"
   ]
  },
  {
   "cell_type": "markdown",
   "metadata": {},
   "source": [
    "**A WORD OF CAUTION:** Note that the equality operator is `==`---i.e., _two_ equals signs---and not `=`---i.e., a single equals sign. The single equals sign, `=`, is for assigning to variables, as we saw in the warmup, and which we'll talk about in a second. This is a very commn source of errors; even expert programmers will inadvertently type `=` when they meant to type `==`."
   ]
  },
  {
   "cell_type": "markdown",
   "metadata": {},
   "source": [
    "__PROTIP:__ In addition, you might have noticed that numbers in `Python` come in two types: _integers_, which are just whole numbers; and _floating point numbers_, which can represent decimal numbers, like `1.5`, `3.14159`, or `2019.0`. (You'll notice that we're representing a whole number using floating point in `Python`, the first decimal place is still printed.)\n",
    "\n",
    "The important difference between integers and floating point numbers is that operations on integers are _exact_, whereas operations on floating point numbers are only _approximate_. For instance, compare the following:"
   ]
  },
  {
   "cell_type": "code",
   "execution_count": 19,
   "metadata": {},
   "outputs": [
    {
     "data": {
      "text/plain": [
       "True"
      ]
     },
     "execution_count": 19,
     "metadata": {},
     "output_type": "execute_result"
    }
   ],
   "source": [
    "(((((2 ** 10) // 2 ** 5) * 2 ** 5) // 2 ** 5) * 2 ** 5) == 2 ** 10"
   ]
  },
  {
   "cell_type": "code",
   "execution_count": 20,
   "metadata": {},
   "outputs": [
    {
     "data": {
      "text/plain": [
       "False"
      ]
     },
     "execution_count": 20,
     "metadata": {},
     "output_type": "execute_result"
    }
   ],
   "source": [
    "1.2 - 1.0 == 0.2"
   ]
  },
  {
   "cell_type": "markdown",
   "metadata": {},
   "source": [
    "### 2.2. Variables\n",
    "\n",
    "Let's suppose we're running a grocery store, and we have some inventory:\n",
    "* __Milk,__ which we bought for \\\\$0.99 per gallon, and resell for \\\\$1.99 per gallon.\n",
    "* __Eggs,__ which we bought for \\\\$2.59 per dozen, and resell for \\\\$4.00 per dozen.\n",
    "* __Bread,__ which we bought for \\\\$6.31 a loaf, and resell at \\\\$7.99.\n",
    "* __Coffee,__ which we bought for \\\\$0.31 a cup, and resell for \\\\$2.99 a cup.\n",
    "\n",
    "Alright, now let's suppose it's been a slow morning: we sold four gallons of milk, 36 eggs, two loaves of bread, and seven cups of coffee. What was our net profit?\n",
    "\n",
    "This probably seems like an annoying problem, and it would be very annoying to solve given what we know how to do in Python so far. We could try typing something like"
   ]
  },
  {
   "cell_type": "code",
   "execution_count": 21,
   "metadata": {},
   "outputs": [
    {
     "data": {
      "text/plain": [
       "21.89"
      ]
     },
     "execution_count": 21,
     "metadata": {},
     "output_type": "execute_result"
    }
   ],
   "source": [
    "(1.99 * 4 + 2.59 * 3 + 7.99 * 2 + 2.99 * 7) - (0.99 * 4 + 4.00 * 3 + 6.31 * 2 + 0.31 * 7)"
   ]
  },
  {
   "cell_type": "markdown",
   "metadata": {},
   "source": [
    "Not only was this gross to do, but it's not even right! I accidentally introduced an error into the calculation, and didn't get the profit right.\n",
    "\n",
    "In long calculations, it can become difficult to keep track of intermediate steps. Luckily, `Python` allows us to store the intermediate results of calculations."
   ]
  },
  {
   "cell_type": "markdown",
   "metadata": {},
   "source": [
    "#### 2.2.0. Storing values in variables\n",
    "\n",
    "A better way to solve this problem is to store intermediate results in variables. This is done using `=`, i.e., the _single_ equals sign. For instance, we might do something like"
   ]
  },
  {
   "cell_type": "code",
   "execution_count": 22,
   "metadata": {},
   "outputs": [
    {
     "data": {
      "text/plain": [
       "30.349999999999994"
      ]
     },
     "execution_count": 22,
     "metadata": {},
     "output_type": "execute_result"
    }
   ],
   "source": [
    "price_milk_buy    = 0.99\n",
    "price_milk_sell   = 1.99\n",
    "price_eggs_buy    = 2.59\n",
    "price_eggs_sell   = 4.00\n",
    "price_bread_buy   = 6.31\n",
    "price_bread_sell  = 7.99\n",
    "price_coffee_buy  = 0.31\n",
    "price_coffee_sell = 2.99\n",
    "\n",
    "revenue = (price_milk_sell * 4 +\n",
    "           price_eggs_sell * 3 +\n",
    "           price_bread_sell * 2 +\n",
    "           price_coffee_sell * 7)\n",
    "\n",
    "costs   = (price_milk_buy * 4 +\n",
    "           price_eggs_buy * 3 +\n",
    "           price_bread_buy * 2 +\n",
    "           price_coffee_buy * 7)\n",
    "\n",
    "revenue - costs"
   ]
  },
  {
   "cell_type": "markdown",
   "metadata": {},
   "source": [
    "If this seems familiar, it should! We've been doing this since the warmup! Remember when we wrote `records = []`?"
   ]
  },
  {
   "cell_type": "markdown",
   "metadata": {},
   "source": [
    "#### 2.2.1. Exercise\n",
    "\n",
    "Store a secret message in a variable called `message`. Then, show that message to the world by `print()`-ing it."
   ]
  },
  {
   "cell_type": "code",
   "execution_count": 23,
   "metadata": {},
   "outputs": [
    {
     "name": "stdout",
     "output_type": "stream",
     "text": [
      "The crow flies at midnight.\n"
     ]
    }
   ],
   "source": [
    "### START\n",
    "message = \"The crow flies at midnight.\"\n",
    "print(message)\n",
    "### END"
   ]
  },
  {
   "cell_type": "markdown",
   "metadata": {},
   "source": [
    "\n",
    "\n",
    "__PROTIP:__ In `Python`, variables are case sensitive. That means that `dog` and `DOG` possibly represent different things."
   ]
  },
  {
   "cell_type": "code",
   "execution_count": 24,
   "metadata": {},
   "outputs": [
    {
     "data": {
      "text/plain": [
       "False"
      ]
     },
     "execution_count": 24,
     "metadata": {},
     "output_type": "execute_result"
    }
   ],
   "source": [
    "dog = \"good boy\"\n",
    "DOG = \"WOOF\"\n",
    "dog == DOG"
   ]
  },
  {
   "cell_type": "markdown",
   "metadata": {},
   "source": [
    "also, variables have to be stored before they can be used. If we try to bring our neighbor's dog into the equation without first saying what it is, `Python` will throw an error."
   ]
  },
  {
   "cell_type": "code",
   "execution_count": 25,
   "metadata": {
    "tags": [
     "raises-exception"
    ]
   },
   "outputs": [
    {
     "ename": "NameError",
     "evalue": "name 'DoG' is not defined",
     "output_type": "error",
     "traceback": [
      "\u001b[0;31m---------------------------------------------------------------------------\u001b[0m",
      "\u001b[0;31mNameError\u001b[0m                                 Traceback (most recent call last)",
      "\u001b[0;32m<ipython-input-25-09c8d6fff8a9>\u001b[0m in \u001b[0;36m<module>\u001b[0;34m\u001b[0m\n\u001b[0;32m----> 1\u001b[0;31m \u001b[0mdog\u001b[0m \u001b[0;34m==\u001b[0m \u001b[0mDoG\u001b[0m\u001b[0;34m\u001b[0m\u001b[0;34m\u001b[0m\u001b[0m\n\u001b[0m",
      "\u001b[0;31mNameError\u001b[0m: name 'DoG' is not defined"
     ]
    }
   ],
   "source": [
    "dog == DoG"
   ]
  },
  {
   "cell_type": "markdown",
   "metadata": {},
   "source": [
    "Some languages will try to infer a \"default value,\" but `Python` will not. However, there's no issue if we store a value first and then use it."
   ]
  },
  {
   "cell_type": "code",
   "execution_count": 26,
   "metadata": {},
   "outputs": [
    {
     "data": {
      "text/plain": [
       "False"
      ]
     },
     "execution_count": 26,
     "metadata": {},
     "output_type": "execute_result"
    }
   ],
   "source": [
    "DoG = \"neighbor dog\"\n",
    "dog == DoG"
   ]
  },
  {
   "cell_type": "markdown",
   "metadata": {},
   "source": [
    "## 3. Control flow\n",
    "\n",
    "There are three basic ways of changing your codes behavior depending on the input: `if` statements, `for` statements, and `while` statements. At a high level, `if` statements only do something (surprise, surprise) if something is true: you only take the square root of a number if it's positive or open a file if it actually exists. On the other hand, `for` statements do the same thing for everything in a group: if you want to double every number in a list or extract the phone number of everyone in your address book, use a `for` statement. While they're very important in other languages, `while` statements are very rarely necessary in `Python`. If you're using a `while` statement, chances are you could do the same thing more safely and more cleanly with a `for` statement."
   ]
  },
  {
   "cell_type": "markdown",
   "metadata": {},
   "source": [
    "### 3.0. `if` statements\n",
    "An example should suffice:"
   ]
  },
  {
   "cell_type": "code",
   "execution_count": 27,
   "metadata": {},
   "outputs": [
    {
     "name": "stdin",
     "output_type": "stream",
     "text": [
      "Give me a BIG number:  12123\n"
     ]
    },
    {
     "name": "stdout",
     "output_type": "stream",
     "text": [
      "Nice.\n"
     ]
    }
   ],
   "source": [
    "x = int(input('Give me a BIG number: '))\n",
    "if x < 0:\n",
    "    print('You\\'re joking, right?')\n",
    "elif x < 1e3:\n",
    "    print('Try harder ... ')\n",
    "else:\n",
    "    print('Nice.')"
   ]
  },
  {
   "cell_type": "markdown",
   "metadata": {},
   "source": [
    "Some notes on the above code:\n",
    "- the `input()` function (as you've now seen), promts the user for an input\n",
    "- the `int()` (tries to) convert string values to integers (`raw_input()` will always return the user's input as a string)\n",
    "- `elif` is short for `else, if`, and there can be none or more than one `elif` sequences\n",
    "- the `else` clause is optional\n",
    "\n",
    "One more thing that's implicit but *__extremely__* important: **indents.**\n",
    "\n",
    "- `Python`, unlike many other languages out there, doesn't use curley brackets {}\n",
    "- instead, blocks of grouped code are identified by the level of indents (this is something to get used to, if you've never seen it before)\n",
    "- word of caution: NEVER USE <kbd>Tab</kbd> (although, don't worry too much: `JupyterLab` changes all your <kbd>Tab</kbd>s to four spaces by default, which is the [PEP 8 spec for indentation][pep8] in `python`)\n",
    "\n",
    "[pep8]: https://www.python.org/dev/peps/pep-0008/#indentation"
   ]
  },
  {
   "cell_type": "markdown",
   "metadata": {},
   "source": [
    "### 3.0.0. Exercise\n",
    "\n",
    "Try writing some code with an `if` statement. Prompt the user for a number. If the number is odd, print \"This number is odd.\" If the number is even, print \"This number is even.\"\n",
    "\n",
    "__HINT:__ Do you remember the modular arithmetic operator, `%`? What is `n % 2` if `n` is odd? Even?"
   ]
  },
  {
   "cell_type": "code",
   "execution_count": 28,
   "metadata": {},
   "outputs": [
    {
     "name": "stdin",
     "output_type": "stream",
     "text": [
      "Enter your number:  23\n"
     ]
    },
    {
     "name": "stdout",
     "output_type": "stream",
     "text": [
      "This number is odd.\n"
     ]
    }
   ],
   "source": [
    "### START\n",
    "n = int(input(\"Enter your number: \"))\n",
    "if (n % 2 == 1):\n",
    "    print(\"This number is odd.\")\n",
    "else:\n",
    "    print(\"This number is even.\")\n",
    "### END"
   ]
  },
  {
   "cell_type": "markdown",
   "metadata": {},
   "source": [
    "### 3.1. `for` statements\n",
    "The `for` statement in `python` iterates over the items of any sequence (e.g., lists and even strings!), in the order that they appear in the sequence."
   ]
  },
  {
   "cell_type": "code",
   "execution_count": 29,
   "metadata": {},
   "outputs": [
    {
     "name": "stdout",
     "output_type": "stream",
     "text": [
      "Jamie has 5 characters and starts with a J\n",
      "Cersei has 6 characters and starts with a C\n",
      "Jon has 3 characters and starts with a J\n",
      "Sansa has 5 characters and starts with a S\n"
     ]
    }
   ],
   "source": [
    "names = ['Jamie', 'Cersei', 'Jon', 'Sansa']\n",
    "\n",
    "for name in names:\n",
    "    print(name, 'has', len(name), 'characters and starts with a', name[0])"
   ]
  },
  {
   "cell_type": "markdown",
   "metadata": {},
   "source": [
    "The example above introduces a few new concepts:\n",
    "- the variable `name` is defined along with the declaration of the `for` statement. It doesn't need to exist beforehand.\n",
    "- it's good practice to use plurals for collections (`names` for the list) and singulars for individual items (`name` for each name)"
   ]
  },
  {
   "cell_type": "markdown",
   "metadata": {},
   "source": [
    "#### 3.1.0. Exercise\n",
    "\n",
    "1. Make a collection called `vegetables` and store the names of few vegetables in it. Then, print out the vegetable and its name.\n",
    "\n",
    "2. Add `\"tomato\"`es into `vegetables`. Then, for every `vegetable` in `vegetables`, check if it's _really_ a vegetable. If it's actually a fruit, print `\"FRUIT is actually a fruit\"`, where `FRUIT` is the name of the fruit in question."
   ]
  },
  {
   "cell_type": "code",
   "execution_count": 30,
   "metadata": {},
   "outputs": [
    {
     "name": "stdout",
     "output_type": "stream",
     "text": [
      "potato is a vegetable!\n",
      "cucumber is a vegetable!\n",
      "faroe bulb is a vegetable!\n",
      "carrot is a vegetable!\n",
      "\n",
      "potato is a vegetable\n",
      "cucumber is a vegetable\n",
      "faroe bulb is a vegetable\n",
      "carrot is a vegetable\n",
      "tomato is actually a fruit!\n"
     ]
    }
   ],
   "source": [
    "### START\n",
    "# Part 1\n",
    "vegetables = [\"potato\", \"cucumber\", \"faroe bulb\", \"carrot\"]\n",
    "for vegetable in vegetables:\n",
    "    print(vegetable, \"is a vegetable!\")\n",
    "\n",
    "# Part 2\n",
    "print()\n",
    "vegetables.append(\"tomato\")\n",
    "for vegetable in vegetables:\n",
    "    if (vegetable == \"tomato\"):\n",
    "        print(vegetable, \"is actually a fruit!\")\n",
    "    else:\n",
    "        print(vegetable, \"is a vegetable\")\n",
    "### END"
   ]
  },
  {
   "cell_type": "markdown",
   "metadata": {},
   "source": [
    "You can use the built-in `range()` function to do a more 'classic' `for` loop over a sequence of numbers."
   ]
  },
  {
   "cell_type": "code",
   "execution_count": 31,
   "metadata": {},
   "outputs": [
    {
     "name": "stdout",
     "output_type": "stream",
     "text": [
      "0\n",
      "1\n",
      "2\n",
      "3\n",
      "4\n",
      "5\n",
      "6\n",
      "7\n",
      "8\n",
      "9\n"
     ]
    }
   ],
   "source": [
    "for i in range(10): print(i)"
   ]
  },
  {
   "cell_type": "markdown",
   "metadata": {},
   "source": [
    "`range(len)` generates the legal indices (starting from 0) for a sequence of length `len`. You can also use `range(start, stop[, step])` to specify the start, end, and (optionally) step to take.\n",
    "\n",
    "(The `[, step]` notation in the fuction signiture shows that the `step` argument is optional. It's useful to know such conventions when refering to the docs.)"
   ]
  },
  {
   "cell_type": "code",
   "execution_count": 32,
   "metadata": {},
   "outputs": [
    {
     "name": "stdout",
     "output_type": "stream",
     "text": [
      "4\n",
      "5\n",
      "6\n",
      "7\n"
     ]
    }
   ],
   "source": [
    "for i in range(4,8): print(i)"
   ]
  },
  {
   "cell_type": "code",
   "execution_count": 33,
   "metadata": {},
   "outputs": [
    {
     "name": "stdout",
     "output_type": "stream",
     "text": [
      "4\n",
      "6\n"
     ]
    }
   ],
   "source": [
    "for i in range(4,8,2): print(i)"
   ]
  },
  {
   "cell_type": "code",
   "execution_count": 34,
   "metadata": {},
   "outputs": [
    {
     "name": "stdout",
     "output_type": "stream",
     "text": [
      "20\n",
      "17\n",
      "14\n",
      "11\n",
      "8\n",
      "5\n"
     ]
    }
   ],
   "source": [
    "for i in range(20,4,-3): print(i)"
   ]
  },
  {
   "cell_type": "markdown",
   "metadata": {},
   "source": [
    "#### 3.1.1. Exercise\n",
    "\n",
    "Print out a range that goes from 42 to -3 in steps of size 3."
   ]
  },
  {
   "cell_type": "code",
   "execution_count": 35,
   "metadata": {},
   "outputs": [
    {
     "name": "stdout",
     "output_type": "stream",
     "text": [
      "42\n",
      "39\n",
      "36\n",
      "33\n",
      "30\n",
      "27\n",
      "24\n",
      "21\n",
      "18\n",
      "15\n",
      "12\n",
      "9\n",
      "6\n",
      "3\n",
      "0\n",
      "-3\n"
     ]
    }
   ],
   "source": [
    "### START\n",
    "for i in range(42, -6, -3):\n",
    "    print(i)\n",
    "### END"
   ]
  },
  {
   "cell_type": "markdown",
   "metadata": {},
   "source": [
    "Occasionally, you might want to loop over two or more sequences at a time. You can pair the entries with the `zip()` function."
   ]
  },
  {
   "cell_type": "code",
   "execution_count": 36,
   "metadata": {},
   "outputs": [
    {
     "name": "stdout",
     "output_type": "stream",
     "text": [
      "G - Jamie Lannister\n",
      "a - Cersei Lannister\n",
      "m - Jon Snow\n",
      "e - Sansa Stark\n"
     ]
    }
   ],
   "source": [
    "title = 'Game of Thrones'\n",
    "houses = ['Lannister', 'Lannister', 'Snow', 'Stark']\n",
    "for char, house, name in zip(title, houses, names):\n",
    "    print(char, '-', name, house)"
   ]
  },
  {
   "cell_type": "markdown",
   "metadata": {},
   "source": [
    "Note how `zip()` gracefully fits the iterator to the length of the shortest sequence, i.e., only the first four characters of the string 'Game of Thrones' were iterated."
   ]
  },
  {
   "cell_type": "markdown",
   "metadata": {},
   "source": [
    "#### 3.1.2. Exercise\n",
    "\n",
    "Let's go back to our vegetables. Create two variables, `vegetables` and `scientific_names`, like so:\n",
    "```python\n",
    "    >>> vegetables = [\"carrots\", \"broccoli\", \"kale\", \"brussel sprouts\"]\n",
    "    >>> scientific_names = [\"Daucus carota\", \"Brassica oleracea\", \"Brassica oleracea\", \"Brassica oleracea\"]\n",
    "```\n",
    "Then, zip together `vegetables` and `scientific_names` and print the scientific name of each of the vegetables."
   ]
  },
  {
   "cell_type": "code",
   "execution_count": 37,
   "metadata": {},
   "outputs": [
    {
     "name": "stdout",
     "output_type": "stream",
     "text": [
      "The scientific name of carrots is Daucus carota\n",
      "The scientific name of broccoli is Brassica oleracea\n",
      "The scientific name of kale is Brassica oleracea\n",
      "The scientific name of brussel sprouts is Brassica oleracea\n"
     ]
    }
   ],
   "source": [
    "### START\n",
    "vegetables = [\"carrots\", \"broccoli\", \"kale\", \"brussel sprouts\"]\n",
    "scientific_names = [\"Daucus carota\", \"Brassica oleracea\", \"Brassica oleracea\", \"Brassica oleracea\"]\n",
    "for vegetable, name in zip(vegetables, scientific_names):\n",
    "    print(\"The scientific name of\", vegetable, \"is\", name)\n",
    "### END"
   ]
  },
  {
   "cell_type": "markdown",
   "metadata": {},
   "source": [
    "__PROTIP:__ According to [wikipedia](https://en.wikipedia.org/wiki/Broccoli#Other_cultivar_groups_of_Brassica_oleracea), a whole bunch of vegetables I thought were completely different are actually the same species. Who knew!?"
   ]
  },
  {
   "cell_type": "markdown",
   "metadata": {},
   "source": [
    "### 3.2. `break` and `continue` statements\n",
    "You can manage your loops in more detail using `break` and `continue` statements. \n",
    "\n",
    "A `break` statement, as the name implies, will break you out of the smallest enclosing loop."
   ]
  },
  {
   "cell_type": "code",
   "execution_count": 38,
   "metadata": {},
   "outputs": [
    {
     "name": "stdout",
     "output_type": "stream",
     "text": [
      "Jamie Lannister\n",
      "Cersei Lannister\n"
     ]
    }
   ],
   "source": [
    "for name, house in zip(names, houses):\n",
    "    if house == 'Snow':\n",
    "        break\n",
    "    else:\n",
    "        print(name, house)"
   ]
  },
  {
   "cell_type": "markdown",
   "metadata": {},
   "source": [
    "A `continue` statement will simply skip over to the next item in the iterator, instead of breaking out of the loop."
   ]
  },
  {
   "cell_type": "code",
   "execution_count": 39,
   "metadata": {},
   "outputs": [
    {
     "name": "stdout",
     "output_type": "stream",
     "text": [
      "Jamie Lannister\n",
      "Cersei Lannister\n",
      "Sansa Stark\n"
     ]
    }
   ],
   "source": [
    "for name, house in zip(names, houses):\n",
    "    if house == 'Snow':\n",
    "        continue  # compare to the previous example where we stopped the loop at Snow, now we simply skip it\n",
    "    else:\n",
    "        print(name, house)"
   ]
  },
  {
   "cell_type": "markdown",
   "metadata": {},
   "source": [
    "#### 3.2.0. Exercise\n",
    "\n",
    "Zip together `vegetables` and `scientific_names` like you did in the last exercise. This time, though, as soon as you start repeating yourself, break out of the loop and `print()` the fact that the vegetables are the same."
   ]
  },
  {
   "cell_type": "code",
   "execution_count": 40,
   "metadata": {},
   "outputs": [
    {
     "name": "stdout",
     "output_type": "stream",
     "text": [
      "The scientific name of carrots is Daucus carota\n",
      "The scientific name of broccoli is Brassica oleracea\n",
      "The scientific name of kale is Brassica oleracea\n",
      "Didn't I just say that?\n"
     ]
    }
   ],
   "source": [
    "### START\n",
    "for vegetable, name in zip(vegetables, scientific_names):\n",
    "    print(\"The scientific name of\", vegetable, \"is\", name)\n",
    "    if (vegetable == \"kale\"):\n",
    "        break\n",
    "print(\"Didn't I just say that?\")\n",
    "### END"
   ]
  },
  {
   "cell_type": "markdown",
   "metadata": {},
   "source": [
    "## 4. Strings, lists, and tuples, oh my!\n",
    "\n",
    "Now that we've got the hang of doing a little bit of programming, let's turn to basic `Python` data types: strings (`str`), lists (`list`), and tuples (`tuple`). These three things are different ways of storing and interfacing with information in `Python`, and they solve lots of problems you'll run into frequently. In fact, we've secretly been using all three of these things all along, as you'll soon see.\n",
    "\n",
    "### 4.0. Strings\n",
    "\n",
    "You might have noticed that some of the variables we've been using actually stored text instead of numbers. Text, or \"strings,\" as they're usually called, are one of the things that can be a bit of a hassle in other languages, but are very easy to deal with in `Python`.\n",
    "\n",
    "As you may have guessed at this point, strings are enclosed in either single quotes(`'...'`) or double quotes (`\"...\"`). The only difference betwen the two is that you need to escape literal double quotes with `\\` if you're using single quotes, and vice versa. Examples:"
   ]
  },
  {
   "cell_type": "code",
   "execution_count": 41,
   "metadata": {},
   "outputs": [
    {
     "data": {
      "text/plain": [
       "'This is a string in single quotes, and it works fine'"
      ]
     },
     "execution_count": 41,
     "metadata": {},
     "output_type": "execute_result"
    }
   ],
   "source": [
    "'This is a string in single quotes, and it works fine'"
   ]
  },
  {
   "cell_type": "code",
   "execution_count": 42,
   "metadata": {
    "tags": [
     "raises-exception"
    ]
   },
   "outputs": [
    {
     "ename": "SyntaxError",
     "evalue": "invalid syntax (<ipython-input-42-ff88f75c76eb>, line 1)",
     "output_type": "error",
     "traceback": [
      "\u001b[0;36m  File \u001b[0;32m\"<ipython-input-42-ff88f75c76eb>\"\u001b[0;36m, line \u001b[0;32m1\u001b[0m\n\u001b[0;31m    'This is a string in single quotes, but it's broken!'\u001b[0m\n\u001b[0m                                               ^\u001b[0m\n\u001b[0;31mSyntaxError\u001b[0m\u001b[0;31m:\u001b[0m invalid syntax\n"
     ]
    }
   ],
   "source": [
    "'This is a string in single quotes, but it's broken!'"
   ]
  },
  {
   "cell_type": "code",
   "execution_count": 43,
   "metadata": {},
   "outputs": [
    {
     "data": {
      "text/plain": [
       "\"This is a string with single quotes, and now it's fixed!\""
      ]
     },
     "execution_count": 43,
     "metadata": {},
     "output_type": "execute_result"
    }
   ],
   "source": [
    "'This is a string with single quotes, and now it\\'s fixed!'"
   ]
  },
  {
   "cell_type": "code",
   "execution_count": 44,
   "metadata": {},
   "outputs": [
    {
     "data": {
      "text/plain": [
       "\"So, there's incentive to use double quotes\""
      ]
     },
     "execution_count": 44,
     "metadata": {},
     "output_type": "execute_result"
    }
   ],
   "source": [
    "\"So, there's incentive to use double quotes\""
   ]
  },
  {
   "cell_type": "markdown",
   "metadata": {},
   "source": [
    "That should make it pretty clear. Note that when escaping a single quote in a string enclosed in single quotes, the interpreter internally changes the enclosing quotes to double quotes. The two are absolutely identical, so you should use whichever set of quotes you prefer to enclose your strings, as long as you're consistent.\n",
    "\n",
    "Use the `print` function to make output more readable by omitting the enclosing quotes and printing special characters escaped with `\\`."
   ]
  },
  {
   "cell_type": "code",
   "execution_count": 45,
   "metadata": {},
   "outputs": [
    {
     "data": {
      "text/plain": [
       "'enclosing double quotes (\"\") and single quotes(\\'\\') are the same thing in python'"
      ]
     },
     "execution_count": 45,
     "metadata": {},
     "output_type": "execute_result"
    }
   ],
   "source": [
    "'enclosing double quotes (\"\") and single quotes(\\'\\') are the same thing in python'"
   ]
  },
  {
   "cell_type": "code",
   "execution_count": 46,
   "metadata": {},
   "outputs": [
    {
     "name": "stdout",
     "output_type": "stream",
     "text": [
      "enclosing double quotes (\"\") and single quotes('') are the same thing in python\n"
     ]
    }
   ],
   "source": [
    "print('enclosing double quotes (\"\") and single quotes(\\'\\') are the same thing in python')"
   ]
  },
  {
   "cell_type": "markdown",
   "metadata": {},
   "source": [
    "Stings can also have more than one line. You can either use an explicit line-break character \n",
    "(`\\n`):"
   ]
  },
  {
   "cell_type": "code",
   "execution_count": 47,
   "metadata": {},
   "outputs": [
    {
     "name": "stdout",
     "output_type": "stream",
     "text": [
      "This string has\n",
      "two lines!\n"
     ]
    }
   ],
   "source": [
    "print('This string has\\ntwo lines!')"
   ]
  },
  {
   "cell_type": "markdown",
   "metadata": {},
   "source": [
    "... or use triple quotes `'''...'''` or `\"\"\"...\"\"\"`"
   ]
  },
  {
   "cell_type": "code",
   "execution_count": 48,
   "metadata": {},
   "outputs": [
    {
     "name": "stdout",
     "output_type": "stream",
     "text": [
      "\n",
      "This string has\n",
      "two lines!\n",
      "\n"
     ]
    }
   ],
   "source": [
    "print('''\n",
    "This string has\n",
    "two lines!\n",
    "''')"
   ]
  },
  {
   "cell_type": "markdown",
   "metadata": {},
   "source": [
    "If you look carefully enough, you'll notice that the last string actually has four lines. This is because the triple quotes literally encode all white spaces, including the new lines after the first `'''` and the last \"`!`\". To avoid this, you can escape the new lines with `\\`."
   ]
  },
  {
   "cell_type": "code",
   "execution_count": 49,
   "metadata": {},
   "outputs": [
    {
     "name": "stdout",
     "output_type": "stream",
     "text": [
      "This string (really) has\n",
      "two lines!\n"
     ]
    }
   ],
   "source": [
    "print('''\\\n",
    "This string (really) has\n",
    "two lines!\\\n",
    "''')"
   ]
  },
  {
   "cell_type": "markdown",
   "metadata": {},
   "source": [
    "What if you want to write a string that actually contains the `\\` character?\n",
    "You can either:\n",
    "* escape `\\` with `\\` (e.g., write **two** `\\` characters for one), or\n",
    "* prepend a single `r` to the quotes to indicate that you are writing a **r**aw string"
   ]
  },
  {
   "cell_type": "code",
   "execution_count": 50,
   "metadata": {},
   "outputs": [
    {
     "name": "stdout",
     "output_type": "stream",
     "text": [
      "A backslash (\\) is awesome!\n",
      "A backslash (\\) is awesome!\n"
     ]
    }
   ],
   "source": [
    "print(\"A backslash (\\\\) is awesome!\")\n",
    "print(r\"A backslash (\\) is awesome!\")"
   ]
  },
  {
   "cell_type": "markdown",
   "metadata": {},
   "source": [
    "Unlike some other stingy languages, the plus operator (`+`) does exactly what you'd expect it to do with strings!"
   ]
  },
  {
   "cell_type": "code",
   "execution_count": 51,
   "metadata": {},
   "outputs": [
    {
     "name": "stdout",
     "output_type": "stream",
     "text": [
      "Hello Hans Gaebler\n"
     ]
    }
   ],
   "source": [
    "first_name = 'Hans'\n",
    "last_name = 'Gaebler'\n",
    "full_name = first_name + ' ' + last_name\n",
    "print('Hello', full_name)"
   ]
  },
  {
   "cell_type": "markdown",
   "metadata": {},
   "source": [
    "Even the multiplying operator (`*`) works!"
   ]
  },
  {
   "cell_type": "code",
   "execution_count": 52,
   "metadata": {},
   "outputs": [
    {
     "name": "stdout",
     "output_type": "stream",
     "text": [
      "Sing, la la la \n"
     ]
    }
   ],
   "source": [
    "print('Sing, ' + 'la ' * 3)"
   ]
  },
  {
   "cell_type": "markdown",
   "metadata": {},
   "source": [
    "#### 4.0.0. Exercise\n",
    "\n",
    "Print a few different kinds of strings. Make sure you do all of the following at least once:\n",
    "* Use an escape character like `\\n`,\n",
    "* Multiply a string with `*`,\n",
    "* Add two strings with `+`,\n",
    "* Make a string with single, double, and triple quotes."
   ]
  },
  {
   "cell_type": "code",
   "execution_count": 53,
   "metadata": {},
   "outputs": [
    {
     "name": "stdout",
     "output_type": "stream",
     "text": [
      "The snow fell\n",
      "             fell\n",
      "                 fell.\n",
      "hahahahahahahahahahaHA\n",
      "It's awfull inconvenient to escape single quotes.\n",
      "\n",
      "Lorem ipsum dolor sit amet, consectetur adipisicing elit, sed do eiusmod tempor\n",
      "incididunt ut labore et dolore magna aliqua. Ut enim ad minim veniam, quis\n",
      "nostrud exercitation ullamco laboris nisi ut aliquip ex ea commodo consequat.\n",
      "Duis aute irure dolor in reprehenderit in voluptate velit esse cillum dolore eu\n",
      "fugiat nulla pariatur. Excepteur sint occaecat cupidatat non proident, sunt in\n",
      "culpa qui officia deserunt mollit anim id est laborum.\n",
      "\n"
     ]
    }
   ],
   "source": [
    "### START\n",
    "print(\"The snow fell\\n             fell\\n                 fell.\")\n",
    "print(\"ha\" * 10 + \"HA\")\n",
    "print('It\\'s awfull inconvenient to escape single quotes.')\n",
    "print(\"\"\"\n",
    "Lorem ipsum dolor sit amet, consectetur adipisicing elit, sed do eiusmod tempor\n",
    "incididunt ut labore et dolore magna aliqua. Ut enim ad minim veniam, quis\n",
    "nostrud exercitation ullamco laboris nisi ut aliquip ex ea commodo consequat.\n",
    "Duis aute irure dolor in reprehenderit in voluptate velit esse cillum dolore eu\n",
    "fugiat nulla pariatur. Excepteur sint occaecat cupidatat non proident, sunt in\n",
    "culpa qui officia deserunt mollit anim id est laborum.\n",
    "\"\"\")\n",
    "### END"
   ]
  },
  {
   "cell_type": "markdown",
   "metadata": {},
   "source": [
    "### 4.1. Lists\n",
    "\n",
    "Strings are great and all, but they're hardly the most versatile data type in `Python`. In particular, while they're helpful for storing _textual_ data, they aren't very useful for dealing with much else. Luckily, `Python` has lists!\n",
    "\n",
    "Lists are \"array-like.\" What that means is that lists consist of lots of slots, each slot containing some item. The easiest way to construct lists is by placing the items you want in between square brackets like so: `[item_1, item_2, item_3]`. For instance,"
   ]
  },
  {
   "cell_type": "code",
   "execution_count": 54,
   "metadata": {},
   "outputs": [
    {
     "name": "stdout",
     "output_type": "stream",
     "text": [
      "['apples', 'bananas', 'pears', 'mangosteens', 'strawberries']\n"
     ]
    }
   ],
   "source": [
    "fruits = [\"apples\", \"bananas\", \"pears\", \"mangosteens\", \"strawberries\"]\n",
    "\n",
    "print(fruits)"
   ]
  },
  {
   "cell_type": "markdown",
   "metadata": {},
   "source": [
    "Lists can contain more than just strings:"
   ]
  },
  {
   "cell_type": "code",
   "execution_count": 55,
   "metadata": {},
   "outputs": [
    {
     "name": "stdout",
     "output_type": "stream",
     "text": [
      "[2, 3, 5, 7, 11, 13] [['apples', 'bananas', 'pears', 'mangosteens', 'strawberries'], [2, 3, 5, 7, 11, 13], ['kittens', 'kettles', 'mittens', 'packages']] [3, 4, 'five', 'six']\n"
     ]
    }
   ],
   "source": [
    "# A list containing numbers\n",
    "primes = [2, 3, 5, 7, 11, 13]\n",
    "\n",
    "# A list containing other lists\n",
    "junk_drawer = [fruits, primes, [\"kittens\", \"kettles\", \"mittens\", \"packages\"]]\n",
    "\n",
    "# A list of different things\n",
    "misc = [3, 4, \"five\", \"six\"]\n",
    "\n",
    "print(primes, junk_drawer, misc)"
   ]
  },
  {
   "cell_type": "markdown",
   "metadata": {},
   "source": [
    "That's all well and good if we want to put things _into_ lists, but how do we take things _out of_ lists? The answer is that lists (and in fact, all built-in `python` [sequence](https://docs.python.org/2/glossary.html#term-sequence) types) can be indexed and sliced.\n",
    "* __Indexing__ refers to when we get a specific element of a list at a given position. The result is an _element_ of a list, which may or may not be a list itself."
   ]
  },
  {
   "cell_type": "code",
   "execution_count": 56,
   "metadata": {},
   "outputs": [
    {
     "name": "stdout",
     "output_type": "stream",
     "text": [
      "apples\n",
      "[2, 3, 5, 7, 11, 13]\n"
     ]
    }
   ],
   "source": [
    "print(fruits[0])      # Returns the fruit at position 0\n",
    "print(junk_drawer[1]) # Returns the _list_ at position 1"
   ]
  },
  {
   "cell_type": "markdown",
   "metadata": {},
   "source": [
    "* __Slicing__ refers to when we take a \"slice\" of a list between some given indices. The result is _always_ another list."
   ]
  },
  {
   "cell_type": "code",
   "execution_count": 57,
   "metadata": {},
   "outputs": [
    {
     "data": {
      "text/plain": [
       "[4, 'five']"
      ]
     },
     "execution_count": 57,
     "metadata": {},
     "output_type": "execute_result"
    }
   ],
   "source": [
    "misc[1:3]"
   ]
  },
  {
   "cell_type": "markdown",
   "metadata": {},
   "source": [
    "Also like strings, lists can be concatenated with the `+` operator:"
   ]
  },
  {
   "cell_type": "code",
   "execution_count": 58,
   "metadata": {},
   "outputs": [
    {
     "data": {
      "text/plain": [
       "['apples',\n",
       " 'bananas',\n",
       " 'pears',\n",
       " 'mangosteens',\n",
       " 'strawberries',\n",
       " 'tomatoes',\n",
       " 'grapefruits']"
      ]
     },
     "execution_count": 58,
     "metadata": {},
     "output_type": "execute_result"
    }
   ],
   "source": [
    "fruits + [\"tomatoes\", \"grapefruits\"]"
   ]
  },
  {
   "cell_type": "markdown",
   "metadata": {},
   "source": [
    "#### 4.1.0. Exercise\n",
    "\n",
    "Practice with lists by doing the following things:\n",
    "1. Make a list of three strings.\n",
    "2. Pull out the second string.\n",
    "3. Make a list of four lists. (The bottom-level lists can contain whatever you want---strings, numbers, or even more lists!)\n",
    "4. Slice out everything except the last element of second list."
   ]
  },
  {
   "cell_type": "code",
   "execution_count": 59,
   "metadata": {},
   "outputs": [
    {
     "name": "stdout",
     "output_type": "stream",
     "text": [
      "there\n",
      "[1, 1, 2, 3, 5]\n"
     ]
    }
   ],
   "source": [
    "### START\n",
    "# Part 1\n",
    "string_list = [\"hi\", \"there\", \"everybody\"]\n",
    "\n",
    "# Part 2\n",
    "print(string_list[1])\n",
    "\n",
    "# Part 3\n",
    "list_list = [[\"hi\", \"there\", \"everybody\"], [1,1,2,3,5,8], [(0,0), (1,1), (3.4, 2.3), (1e4, 2e3)], []]\n",
    "\n",
    "# Part 4\n",
    "print(list_list[1][:-1])\n",
    "### END"
   ]
  },
  {
   "cell_type": "markdown",
   "metadata": {},
   "source": [
    "### 4.2. Strings are (almost) like lists\n",
    "\n",
    "Strings, like many things in `python`, can be indexed (subscripted). The first element (character) has index 0."
   ]
  },
  {
   "cell_type": "code",
   "execution_count": 60,
   "metadata": {},
   "outputs": [
    {
     "data": {
      "text/plain": [
       "'j'"
      ]
     },
     "execution_count": 60,
     "metadata": {},
     "output_type": "execute_result"
    }
   ],
   "source": [
    "job = 'jedi'\n",
    "job[0]  # character at position 0"
   ]
  },
  {
   "cell_type": "markdown",
   "metadata": {},
   "source": [
    "`Python` will yell at you if you go out of range, whether you do so with a string or a list"
   ]
  },
  {
   "cell_type": "code",
   "execution_count": 61,
   "metadata": {
    "tags": [
     "raises-exception"
    ]
   },
   "outputs": [
    {
     "ename": "IndexError",
     "evalue": "string index out of range",
     "output_type": "error",
     "traceback": [
      "\u001b[0;31m---------------------------------------------------------------------------\u001b[0m",
      "\u001b[0;31mIndexError\u001b[0m                                Traceback (most recent call last)",
      "\u001b[0;32m<ipython-input-61-fac5e9c30608>\u001b[0m in \u001b[0;36m<module>\u001b[0;34m\u001b[0m\n\u001b[0;32m----> 1\u001b[0;31m \u001b[0mjob\u001b[0m\u001b[0;34m[\u001b[0m\u001b[0;36m10\u001b[0m\u001b[0;34m]\u001b[0m\u001b[0;34m\u001b[0m\u001b[0;34m\u001b[0m\u001b[0m\n\u001b[0m",
      "\u001b[0;31mIndexError\u001b[0m: string index out of range"
     ]
    }
   ],
   "source": [
    "job[10]"
   ]
  },
  {
   "cell_type": "code",
   "execution_count": 62,
   "metadata": {
    "tags": [
     "raises-exception"
    ]
   },
   "outputs": [
    {
     "ename": "IndexError",
     "evalue": "list index out of range",
     "output_type": "error",
     "traceback": [
      "\u001b[0;31m---------------------------------------------------------------------------\u001b[0m",
      "\u001b[0;31mIndexError\u001b[0m                                Traceback (most recent call last)",
      "\u001b[0;32m<ipython-input-62-587c41bd992d>\u001b[0m in \u001b[0;36m<module>\u001b[0;34m\u001b[0m\n\u001b[0;32m----> 1\u001b[0;31m \u001b[0mfruits\u001b[0m\u001b[0;34m[\u001b[0m\u001b[0;36m7\u001b[0m\u001b[0;34m]\u001b[0m\u001b[0;34m\u001b[0m\u001b[0;34m\u001b[0m\u001b[0m\n\u001b[0m",
      "\u001b[0;31mIndexError\u001b[0m: list index out of range"
     ]
    }
   ],
   "source": [
    "fruits[7]"
   ]
  },
  {
   "cell_type": "markdown",
   "metadata": {},
   "source": [
    "But you *can* go backwards with a negative index, -1 being the right-most character."
   ]
  },
  {
   "cell_type": "code",
   "execution_count": 63,
   "metadata": {},
   "outputs": [
    {
     "name": "stdout",
     "output_type": "stream",
     "text": [
      "i\n",
      "strawberries\n"
     ]
    }
   ],
   "source": [
    "print(job[-1])    # right-most character\n",
    "print(fruits[-1])  # right-most fruit"
   ]
  },
  {
   "cell_type": "markdown",
   "metadata": {},
   "source": [
    "Like with lists, *slicing* is another useful way to get subsets of your string. "
   ]
  },
  {
   "cell_type": "code",
   "execution_count": 64,
   "metadata": {},
   "outputs": [
    {
     "data": {
      "text/plain": [
       "'je'"
      ]
     },
     "execution_count": 64,
     "metadata": {},
     "output_type": "execute_result"
    }
   ],
   "source": [
    "job[0:2]  # characters from position 0 (included) to 2 (excluded)"
   ]
  },
  {
   "cell_type": "code",
   "execution_count": 65,
   "metadata": {},
   "outputs": [
    {
     "data": {
      "text/plain": [
       "'di'"
      ]
     },
     "execution_count": 65,
     "metadata": {},
     "output_type": "execute_result"
    }
   ],
   "source": [
    "job[2:4]  # characters from position 2 (included) to 3 (excluded)"
   ]
  },
  {
   "cell_type": "markdown",
   "metadata": {},
   "source": [
    "Omitting the first slice index will default to zero (the first element)"
   ]
  },
  {
   "cell_type": "code",
   "execution_count": 66,
   "metadata": {},
   "outputs": [
    {
     "name": "stdout",
     "output_type": "stream",
     "text": [
      "edi\n",
      "['bananas', 'pears', 'mangosteens', 'strawberries']\n"
     ]
    }
   ],
   "source": [
    "print(job[1:])    # slice from position 1 (included) to the end\n",
    "print(fruits[1:])"
   ]
  },
  {
   "cell_type": "markdown",
   "metadata": {},
   "source": [
    "Use slices creatively, to make your life easier!"
   ]
  },
  {
   "cell_type": "code",
   "execution_count": 67,
   "metadata": {},
   "outputs": [
    {
     "data": {
      "text/plain": [
       "'di'"
      ]
     },
     "execution_count": 67,
     "metadata": {},
     "output_type": "execute_result"
    }
   ],
   "source": [
    "job[-2:]  # slice the last two characters"
   ]
  },
  {
   "cell_type": "markdown",
   "metadata": {},
   "source": [
    "Unlike indexing, slicing is generous to ambitious ranges"
   ]
  },
  {
   "cell_type": "code",
   "execution_count": 68,
   "metadata": {},
   "outputs": [
    {
     "data": {
      "text/plain": [
       "'jedi'"
      ]
     },
     "execution_count": 68,
     "metadata": {},
     "output_type": "execute_result"
    }
   ],
   "source": [
    "job[0:100]"
   ]
  },
  {
   "cell_type": "markdown",
   "metadata": {},
   "source": [
    "The big difference in `Python` between strings and lists is what's called \"mutability.\" Strings in `Python` are _immutable,_ meaning they can't be changed. In other words, you can't assign a value to a string index."
   ]
  },
  {
   "cell_type": "code",
   "execution_count": 69,
   "metadata": {
    "tags": [
     "raises-exception"
    ]
   },
   "outputs": [
    {
     "ename": "TypeError",
     "evalue": "'str' object does not support item assignment",
     "output_type": "error",
     "traceback": [
      "\u001b[0;31m---------------------------------------------------------------------------\u001b[0m",
      "\u001b[0;31mTypeError\u001b[0m                                 Traceback (most recent call last)",
      "\u001b[0;32m<ipython-input-69-67d4a4a60c02>\u001b[0m in \u001b[0;36m<module>\u001b[0;34m\u001b[0m\n\u001b[0;32m----> 1\u001b[0;31m \u001b[0mjob\u001b[0m\u001b[0;34m[\u001b[0m\u001b[0;36m0\u001b[0m\u001b[0;34m]\u001b[0m \u001b[0;34m=\u001b[0m \u001b[0;34m'T'\u001b[0m\u001b[0;34m\u001b[0m\u001b[0;34m\u001b[0m\u001b[0m\n\u001b[0m",
      "\u001b[0;31mTypeError\u001b[0m: 'str' object does not support item assignment"
     ]
    }
   ],
   "source": [
    "job[0] = 'T'"
   ]
  },
  {
   "cell_type": "markdown",
   "metadata": {},
   "source": [
    "Instead, you have to build a new string from the existing string."
   ]
  },
  {
   "cell_type": "code",
   "execution_count": 70,
   "metadata": {},
   "outputs": [
    {
     "name": "stdout",
     "output_type": "stream",
     "text": [
      "Tedi\n"
     ]
    }
   ],
   "source": [
    "job = 'T' + job[1:]\n",
    "print(job)"
   ]
  },
  {
   "cell_type": "markdown",
   "metadata": {},
   "source": [
    "Lists, however, can be modified at a certain value. This makes them _mutable_. For instance, "
   ]
  },
  {
   "cell_type": "code",
   "execution_count": 71,
   "metadata": {},
   "outputs": [
    {
     "name": "stdout",
     "output_type": "stream",
     "text": [
      "[30, 4, 'five', 'six']\n"
     ]
    }
   ],
   "source": [
    "misc[0] = 30  # change indexed item\n",
    "print(misc)"
   ]
  },
  {
   "cell_type": "markdown",
   "metadata": {},
   "source": [
    "### 4.3. Exercise\n",
    "\n",
    "Let's try and put this all together to do something a bit more like a programming problem you're likely to encounter \"in the wild.\" You should spend a few minutes on this and work with the other people at your table. You'll need some of the functions we talk about in the next section (\"Convenience functions for lists and strings\")---we'll give you some hints, but this is also an opportunity to practice reading how code works, which is a very important skill. (You'll also need a function that we _don't_ talk about, so you'll need to practice looking at the official documentation. Feel free to look back to [Section 0.4](#help) for help with that.)\n",
    "\n",
    "Okay, here's what we're asking you to do:\n",
    "1. Declare a string variable named **`s`**, that has the value:\n",
    "> \"Double quotes\" and single 'quotes' are equally acceptable in Python.\n",
    "\n",
    "2. Make `Python` count how many times the letter `t` appears in the string **`s`**.\n",
    "3. Replace all quotation marks in the string **`s`** with an underbar ('\\_').\n",
    "4. Split the string **`s`** into a list named **`words`**.\n",
    "5. Count the length of the string **`s`** and the list **`words`**.\n",
    "6. Join the elements of the list **`words`** into a comma separated string.\n",
    "\n",
    "__HINT:__ You're going to need a few different functions: `.split()`, `.count()`, `len()`, `.join()`, and `.replace()`. The functions with names that begin with a `.` are called _methods_. Generally speaking, instead of giving a method the string (or list) you want it to act on, like this:\n",
    "```python\n",
    "    >>> .split(\"(414)-123-4567\", \"-\") # Wrong\n",
    "```\n",
    "you put the method _after_ the string you want to change, like this:\n",
    "```python\n",
    "    >>> \"(414)-123-4567\".split(\"-\") # Right\n",
    "    [\"(414)\", \"123\", \"4567\"]\n",
    "```\n",
    "Be careful with `join()`! You might find that it works a little differently from what you expect. If you run into trouble, you know where to find help!\n",
    "\n",
    "__HINT:__  When you get to Part 3, to be precise, you're not *replacing* the quotations, but *reassigning* the variable **`s`** with a copy of the old **`s`** that has underbars replacing quotations; remember that `python` strings are **immutable** (i.e., they are NEVER changed, only reassigned). Note that `.replace()` is not covered below, but you should use `python`'s `replace()` method for strings; now would be a good time to practice reading the docs (https://docs.python.org/3/library/stdtypes.html#str.replace)."
   ]
  },
  {
   "cell_type": "code",
   "execution_count": 72,
   "metadata": {},
   "outputs": [
    {
     "name": "stdout",
     "output_type": "stream",
     "text": [
      "\"Double quotes\" and 'single quotes' are equally acceptable in Python.\n",
      "4\n",
      "_Double quotes_ and _single quotes_ are equally acceptable in Python.\n",
      "['_Double', 'quotes_', 'and', '_single', 'quotes_', 'are', 'equally', 'acceptable', 'in', 'Python.']\n",
      "The length of `s` is 69\n",
      "The length of `words` is 10\n"
     ]
    },
    {
     "data": {
      "text/plain": [
       "'_Double,quotes_,and,_single,quotes_,are,equally,acceptable,in,Python.'"
      ]
     },
     "execution_count": 72,
     "metadata": {},
     "output_type": "execute_result"
    }
   ],
   "source": [
    "### START\n",
    "# Part 1\n",
    "s = \"\\\"Double quotes\\\" and 'single quotes' are equally acceptable in Python.\"\n",
    "print(s)\n",
    "\n",
    "# Part 2\n",
    "print(s.count(\"t\"))\n",
    "\n",
    "# Part 3\n",
    "s = s.replace('\"', \"_\").replace(\"'\", \"_\")\n",
    "print(s)\n",
    "\n",
    "# Part 4\n",
    "words = s.split(\" \")\n",
    "print(words)\n",
    "\n",
    "# Part 5\n",
    "print(\"The length of `s` is\", len(s))\n",
    "print(\"The length of `words` is\", len(words))\n",
    "\n",
    "# Part 6\n",
    "\",\".join(words)\n",
    "\n",
    "### END"
   ]
  },
  {
   "cell_type": "markdown",
   "metadata": {},
   "source": [
    "### 4.4. Utility functions for lists and strings\n",
    "\n",
    "Strings and lists have a lot in common. In particular, there are certain things that we do with both of them _so often_ that `Python` provides a whole bunch of functions to do the job for us. For instance, it's common to want to know the length of both lists and strings. That's where the `len()` function comes in:"
   ]
  },
  {
   "cell_type": "code",
   "execution_count": 73,
   "metadata": {},
   "outputs": [
    {
     "name": "stdout",
     "output_type": "stream",
     "text": [
      "The length of `fruits` is 5\n",
      "The length of `job` is 4\n"
     ]
    }
   ],
   "source": [
    "print(\"The length of `fruits` is\", len(fruits))\n",
    "print(\"The length of `job` is\", len(job))"
   ]
  },
  {
   "cell_type": "markdown",
   "metadata": {},
   "source": [
    "There are a _whole bunch_ of these functions. We're only going to go through a few of them here, but you can see all of them in the docs [here](https://docs.python.org/3/library/stdtypes.html#string-methods) for strings and [here](https://docs.python.org/3/tutorial/datastructures.html#more-on-lists) for lists.\n",
    "\n",
    "Don't worry if these don't all sink in right away. The point is just to give you a taste of what's possible. As a general rule, if it's easy to describe what you want to do, and you could do it to any list (or string), there's probably already a built-in function for doing it."
   ]
  },
  {
   "cell_type": "code",
   "execution_count": 74,
   "metadata": {},
   "outputs": [
    {
     "data": {
      "text/plain": [
       "['Hi,', 'my', 'name', 'is', 'Johann.', 'Yes,', 'Johann.']"
      ]
     },
     "execution_count": 74,
     "metadata": {},
     "output_type": "execute_result"
    }
   ],
   "source": [
    "s = 'Hi, my name is Johann. Yes, Johann.'\n",
    "s.split()  # splits the string into a list (split at spaces by default)"
   ]
  },
  {
   "cell_type": "code",
   "execution_count": 75,
   "metadata": {},
   "outputs": [
    {
     "data": {
      "text/plain": [
       "['Hi', ' my name is Johann. Yes', ' Johann.']"
      ]
     },
     "execution_count": 75,
     "metadata": {},
     "output_type": "execute_result"
    }
   ],
   "source": [
    "s.split(',')  # can specify which character to split at"
   ]
  },
  {
   "cell_type": "code",
   "execution_count": 76,
   "metadata": {},
   "outputs": [
    {
     "data": {
      "text/plain": [
       "5"
      ]
     },
     "execution_count": 76,
     "metadata": {},
     "output_type": "execute_result"
    }
   ],
   "source": [
    "s.count('n')  # count the number of non-overlapping occurrences of a substring"
   ]
  },
  {
   "cell_type": "code",
   "execution_count": 77,
   "metadata": {},
   "outputs": [
    {
     "data": {
      "text/plain": [
       "0"
      ]
     },
     "execution_count": 77,
     "metadata": {},
     "output_type": "execute_result"
    }
   ],
   "source": [
    "s.count('Jongbin')"
   ]
  },
  {
   "cell_type": "code",
   "execution_count": 78,
   "metadata": {},
   "outputs": [
    {
     "data": {
      "text/plain": [
       "'HI, MY NAME IS JOHANN. YES, JOHANN.'"
      ]
     },
     "execution_count": 78,
     "metadata": {},
     "output_type": "execute_result"
    }
   ],
   "source": [
    "s.upper()  # makes everything uppercase"
   ]
  },
  {
   "cell_type": "code",
   "execution_count": 79,
   "metadata": {},
   "outputs": [
    {
     "data": {
      "text/plain": [
       "'hi, my name is johann. yes, johann.'"
      ]
     },
     "execution_count": 79,
     "metadata": {},
     "output_type": "execute_result"
    }
   ],
   "source": [
    "s.lower()  # makes everything lowercase"
   ]
  },
  {
   "cell_type": "code",
   "execution_count": 80,
   "metadata": {},
   "outputs": [
    {
     "data": {
      "text/plain": [
       "2"
      ]
     },
     "execution_count": 80,
     "metadata": {},
     "output_type": "execute_result"
    }
   ],
   "source": [
    "s.lower().count('y')  # methods that return a string can be chained"
   ]
  },
  {
   "cell_type": "code",
   "execution_count": 81,
   "metadata": {},
   "outputs": [
    {
     "data": {
      "text/plain": [
       "'Hi,:my:name:is:Johann.:Yes,:Johann.'"
      ]
     },
     "execution_count": 81,
     "metadata": {},
     "output_type": "execute_result"
    }
   ],
   "source": [
    "':'.join(s.split())"
   ]
  },
  {
   "cell_type": "markdown",
   "metadata": {},
   "source": [
    "That last one is a little tricky. So, `str.join(some_sequence)` will take each item of `some_sequence` and stick them together with the value of `str` inbetween, making a single large string. It may seem like a crazy thing to do, but is actually pretty useful whem converting data into comma-separated values. i.e.,"
   ]
  },
  {
   "cell_type": "code",
   "execution_count": 82,
   "metadata": {},
   "outputs": [
    {
     "data": {
      "text/plain": [
       "'some,data,in,a,list'"
      ]
     },
     "execution_count": 82,
     "metadata": {},
     "output_type": "execute_result"
    }
   ],
   "source": [
    "','.join(['some','data','in','a','list'])"
   ]
  },
  {
   "cell_type": "markdown",
   "metadata": {},
   "source": [
    "You can also use the <kbd>Tab</kbd> character (`\\t`) to create tab-separated values:"
   ]
  },
  {
   "cell_type": "code",
   "execution_count": 83,
   "metadata": {},
   "outputs": [
    {
     "name": "stdout",
     "output_type": "stream",
     "text": [
      "some\tdata\tin\ta\tlist\n"
     ]
    }
   ],
   "source": [
    "print('\\t'.join(['some','data','in','a','list']))"
   ]
  },
  {
   "cell_type": "code",
   "execution_count": 84,
   "metadata": {},
   "outputs": [
    {
     "name": "stdout",
     "output_type": "stream",
     "text": [
      "['apples', 'bananas', 'pears', 'mangosteens', 'strawberries', 'tomatoes']\n"
     ]
    }
   ],
   "source": [
    "fruits.append('tomatoes')  # add an item to the end of the list\n",
    "print(fruits)"
   ]
  },
  {
   "cell_type": "code",
   "execution_count": 85,
   "metadata": {},
   "outputs": [
    {
     "name": "stdout",
     "output_type": "stream",
     "text": [
      "['apples', 'bananas', 'pears', 'mangosteens', 'strawberries']\n"
     ]
    }
   ],
   "source": [
    "fruits.remove('tomatoes')  # remove the first item in the list that matches the argument\n",
    "print(fruits)"
   ]
  },
  {
   "cell_type": "code",
   "execution_count": 86,
   "metadata": {},
   "outputs": [
    {
     "data": {
      "text/plain": [
       "1"
      ]
     },
     "execution_count": 86,
     "metadata": {},
     "output_type": "execute_result"
    }
   ],
   "source": [
    "fruits.index('bananas')  # return the index of the first item matching the argument"
   ]
  },
  {
   "cell_type": "code",
   "execution_count": 87,
   "metadata": {},
   "outputs": [
    {
     "data": {
      "text/plain": [
       "2"
      ]
     },
     "execution_count": 87,
     "metadata": {},
     "output_type": "execute_result"
    }
   ],
   "source": [
    "fruits.append('bananas') # bring some extras in case we're hungry\n",
    "fruits.count('bananas')  # return the number of times x appears in the list"
   ]
  },
  {
   "cell_type": "code",
   "execution_count": 88,
   "metadata": {},
   "outputs": [
    {
     "name": "stdout",
     "output_type": "stream",
     "text": [
      "['bananas', 'pears', 'mangosteens', 'strawberries', 'bananas']\n"
     ]
    }
   ],
   "source": [
    "eat = fruits.pop(0)  # return and remove item at position 0 from list (removes last item if no index is specified)\n",
    "print(fruits)"
   ]
  },
  {
   "cell_type": "code",
   "execution_count": 89,
   "metadata": {},
   "outputs": [
    {
     "name": "stdout",
     "output_type": "stream",
     "text": [
      "apples\n"
     ]
    }
   ],
   "source": [
    "print(eat)  # the item previously at position 0 ('apples') is now 'popped' into the variable eat"
   ]
  },
  {
   "cell_type": "markdown",
   "metadata": {},
   "source": [
    "Not exactly a method, but the `in` keyword is useful for checking if a list contains a particular item."
   ]
  },
  {
   "cell_type": "code",
   "execution_count": 90,
   "metadata": {},
   "outputs": [
    {
     "data": {
      "text/plain": [
       "True"
      ]
     },
     "execution_count": 90,
     "metadata": {},
     "output_type": "execute_result"
    }
   ],
   "source": [
    "'bananas' in fruits"
   ]
  },
  {
   "cell_type": "code",
   "execution_count": 91,
   "metadata": {},
   "outputs": [
    {
     "data": {
      "text/plain": [
       "False"
      ]
     },
     "execution_count": 91,
     "metadata": {},
     "output_type": "execute_result"
    }
   ],
   "source": [
    "'tomatoes' in fruits # Not anymore!"
   ]
  },
  {
   "cell_type": "markdown",
   "metadata": {},
   "source": [
    "# Exercises\n",
    "\n",
    "Try these over the break. Work with the people sitting around you.\n",
    "\n",
    "## Exercise 1.\n",
    "\n",
    "\n",
    "## Exercise 2.\n",
    "1. Create a very, very _long_ string that contains all of Charles Dickens's _A Tale of Two Cities_ using the following code. (Don't worry that this doesn't make much sense now---we'll get to what's going on here in the next lesson.) `with open(\"data/two_cities.txt\", \"r\") as f: ttc = f.read()`\n",
    "2. Turn `ttc` into a list by splitting on spaces (i.e., the string `\" \"`). How many words is _A Tale of Two Cities_?\n",
    "3. How many times does the word \"the\" occur in _A Tale of Two Cities_? How about \"king\"? (__HINT:__ Use the `.count()` function. For instance, `[1,2,3,1].count(1) = 2`.)\n",
    "\n",
    "## Exercise 3.\n",
    "1. Turn `ttc` from the previous exercise into a dictionary using the following code. (Don't worry if this code doesn't make sense.) `ttc = {word:ttc.count(word) for word in ttc[:1000]}`\n",
    "- This dictionary is made up of the following `key: value` pairs: the keys are the first 1000 words in _A Tale of Two Cities_, and the values are the number of times the word appears in the whole book.\n",
    "- This might take a little while, so don't be alarmed if this doesn't happen right away.\n",
    "2. Check how many times the word \"lords\" occurs.\n",
    "3. Reduce the number of times a word you don't like occurs by modifying a `key: value` pair in `ttc`.\n",
    "4. Add a word that you think _should_ occur but doesn't to `ttc`."
   ]
  }
 ],
 "metadata": {
  "kernelspec": {
   "display_name": "Python 3",
   "language": "python",
   "name": "python3"
  },
  "language_info": {
   "codemirror_mode": {
    "name": "ipython",
    "version": 3
   },
   "file_extension": ".py",
   "mimetype": "text/x-python",
   "name": "python",
   "nbconvert_exporter": "python",
   "pygments_lexer": "ipython3",
   "version": "3.7.4"
  }
 },
 "nbformat": 4,
 "nbformat_minor": 4
}
