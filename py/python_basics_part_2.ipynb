{
 "cells": [
  {
   "cell_type": "markdown",
   "metadata": {},
   "source": [
    "# Python Basics, Part 2\n",
    "\n",
    "Now we know some of the basic \"things\" in `Python`---numbers, strings, `for` loops, `if` statements---it's important to learn how to, well, do things with things. Two big pieces we're currently missing are:\n",
    "1. How do we manipulate our data---and, in particular, how do we do the _same_ thing to different things?\n",
    "2. How do we store our work for later use, and how do we load up work that other people have done for us ahead of time?\n",
    "The first problem is solved with _functions_, which allow you to \"bottle\" code you've already written and use it when you need it. (You're already a pro at this point---we've been using functions informally the entire day.) The second problem is solved with `Python`'s I/O (or \"input / output\") interface."
   ]
  },
  {
   "cell_type": "markdown",
   "metadata": {},
   "source": [
    "## 0. Advanced basic `Python` data types\n",
    "\n",
    "Before we get started with more advanced topics, there are a few more data types that we need to be able to work with: dictionaries and tuples. Given how much you already know about numbers, strings, and lists, dictionaries and tuples will be a breeze."
   ]
  },
  {
   "cell_type": "markdown",
   "metadata": {},
   "source": [
    "### 0.0. Dictionaries\n",
    "\n",
    "Dictionaries (or, more properly, `dicts`) work a lot like lists, except instead of looking up things in a dictionary by their _index_, we look them up by their _key_. It's easy to think of a `Python` dictionary as almost the same thing as a Webster's dictionary:\n",
    "* __The Key:__ The \"key\" in a `Python` dictionary corresponds to the word you want to look up.\n",
    "* __The Value:__ The \"value\" in a `Python` dictionary is whatever is stored at a key, which corresponds to a word's definition in a real dictionary.\n",
    "\n",
    "(Dictionaries are known as *associative arrays* or *hash tables* in other languages.)\n",
    "\n",
    "Much like a list, dictionaries are constructed using curly braces, with key value pairs separted by commas, like so: `{key1: value1, key2: value2, key3: value3}`. Let's try it:"
   ]
  },
  {
   "cell_type": "code",
   "execution_count": 1,
   "metadata": {},
   "outputs": [],
   "source": [
    "gre_study_guide = {\n",
    "    \"bucolic\": \"adj. pastoral, rustic, countryfied\",\n",
    "    \"tendentious\": \"adj. controversial, one-sided\",\n",
    "    \"skulk\": \"v. to move in a stealthy or furtive manner\"\n",
    "}"
   ]
  },
  {
   "cell_type": "markdown",
   "metadata": {},
   "source": [
    "Now, suppose the big test is tomorrow, but we can't remember the defintion of \"skulk.\" No problem---we'll just look it up in much the same way that we'd look something up in a list:"
   ]
  },
  {
   "cell_type": "code",
   "execution_count": 2,
   "metadata": {},
   "outputs": [
    {
     "data": {
      "text/plain": [
       "'v. to move in a stealthy or furtive manner'"
      ]
     },
     "execution_count": 2,
     "metadata": {},
     "output_type": "execute_result"
    }
   ],
   "source": [
    "gre_study_guide[\"skulk\"]"
   ]
  },
  {
   "cell_type": "markdown",
   "metadata": {},
   "source": [
    "#### 0.0.0. Exercise\n",
    "\n",
    "Try it yourself! Make a dictionary with a few of your favorite words. Look up their definitions."
   ]
  },
  {
   "cell_type": "code",
   "execution_count": 3,
   "metadata": {},
   "outputs": [],
   "source": [
    "### START\n",
    "my_words = {\n",
    "    \"flambeau\": \"n. a lit torch or decorative candlestick\",\n",
    "    \"excursus\": \"n. a long intellectual digression in a speech or piece of writing\",\n",
    "    \"facultative\": \"adj. occurring optionally in response to circumstances rather than by nature\"\n",
    "}\n",
    "### END"
   ]
  },
  {
   "cell_type": "markdown",
   "metadata": {},
   "source": [
    "Of course, like lists, dictionaries can store more than strings. For instance, you might use a dictionary to store information for something like an address book:"
   ]
  },
  {
   "cell_type": "code",
   "execution_count": 4,
   "metadata": {},
   "outputs": [],
   "source": [
    "address_book = {\n",
    "    \"simon\": {\n",
    "        \"first_name\": \"Simon\",\n",
    "        \"last_name\": \"Cowell\",\n",
    "        \"phone\": \"447911123456\"\n",
    "    },\n",
    "    \"paula\": {\n",
    "        \"first_name\": \"Paula\",\n",
    "        \"last_name\": \"Abdul\",\n",
    "        \"phone\": \"5303228051\"\n",
    "    },\n",
    "    \"randy\": {\n",
    "        \"first_name\": \"Randy\",\n",
    "        \"last_name\": \"Jackson\",\n",
    "        \"phone\": \"2122002099\"\n",
    "    }\n",
    "}"
   ]
  },
  {
   "cell_type": "markdown",
   "metadata": {},
   "source": [
    "Now we can find someone's contact information just by looking up their name."
   ]
  },
  {
   "cell_type": "code",
   "execution_count": 5,
   "metadata": {},
   "outputs": [
    {
     "data": {
      "text/plain": [
       "{'first_name': 'Randy', 'last_name': 'Jackson', 'phone': '2122002099'}"
      ]
     },
     "execution_count": 5,
     "metadata": {},
     "output_type": "execute_result"
    }
   ],
   "source": [
    "address_book[\"randy\"]"
   ]
  },
  {
   "cell_type": "markdown",
   "metadata": {},
   "source": [
    "What's more, we can even go directly to their phone number by accessing the `\"phone\"` key in the dictionary returned after looking up `\"randy\"`!"
   ]
  },
  {
   "cell_type": "code",
   "execution_count": 6,
   "metadata": {},
   "outputs": [
    {
     "data": {
      "text/plain": [
       "'2122002099'"
      ]
     },
     "execution_count": 6,
     "metadata": {},
     "output_type": "execute_result"
    }
   ],
   "source": [
    "address_book[\"randy\"][\"phone\"]"
   ]
  },
  {
   "cell_type": "markdown",
   "metadata": {},
   "source": [
    "#### 0.0.1. Exercise\n",
    "\n",
    "Use the `address_book` dictionary to find Paula's area code."
   ]
  },
  {
   "cell_type": "code",
   "execution_count": 7,
   "metadata": {},
   "outputs": [
    {
     "data": {
      "text/plain": [
       "'530'"
      ]
     },
     "execution_count": 7,
     "metadata": {},
     "output_type": "execute_result"
    }
   ],
   "source": [
    "#### START\n",
    "address_book[\"paula\"][\"phone\"][:3]\n",
    "#### END"
   ]
  },
  {
   "cell_type": "markdown",
   "metadata": {},
   "source": [
    "#### 0.0.2. Methods and utility functions for dictionaries\n",
    "\n",
    "Let's get familiar with how we can work with dictionaries."
   ]
  },
  {
   "cell_type": "code",
   "execution_count": 8,
   "metadata": {},
   "outputs": [
    {
     "name": "stdout",
     "output_type": "stream",
     "text": [
      "{'name': 'Hans', 'email': 'jgaeb@stanford.edu'}\n"
     ]
    }
   ],
   "source": [
    "me = {'name':'Hans', 'email':'jgaeb@stanford.edu'}\n",
    "print(me)"
   ]
  },
  {
   "cell_type": "code",
   "execution_count": 9,
   "metadata": {},
   "outputs": [
    {
     "name": "stdout",
     "output_type": "stream",
     "text": [
      "{'name': 'Hans', 'email': 'jgaeb@stanford.edu', 'cell': '414-123-4567'}\n"
     ]
    }
   ],
   "source": [
    "me['cell'] = '414-123-4567'\n",
    "print(me)"
   ]
  },
  {
   "cell_type": "markdown",
   "metadata": {},
   "source": [
    "Or delete existing `key:value` pairs with the `del` statement."
   ]
  },
  {
   "cell_type": "code",
   "execution_count": 10,
   "metadata": {},
   "outputs": [
    {
     "name": "stdout",
     "output_type": "stream",
     "text": [
      "{'name': 'Hans', 'cell': '414-123-4567'}\n"
     ]
    }
   ],
   "source": [
    "del(me['email'])\n",
    "print(me)"
   ]
  },
  {
   "cell_type": "markdown",
   "metadata": {},
   "source": [
    "The `key` of a dictionary can't be a list (because lists are mutable), but the `value` sure can!"
   ]
  },
  {
   "cell_type": "code",
   "execution_count": 11,
   "metadata": {},
   "outputs": [
    {
     "name": "stdout",
     "output_type": "stream",
     "text": [
      "{'name': 'Hans', 'cell': '414-123-4567', 'siblings': ['Carrie', 'Karl']}\n"
     ]
    }
   ],
   "source": [
    "me['siblings'] = ['Carrie', 'Karl']\n",
    "print(me)"
   ]
  },
  {
   "cell_type": "markdown",
   "metadata": {},
   "source": [
    "Use the `keys()` method of dictionary objects to get a list of the keys used in the dictionary."
   ]
  },
  {
   "cell_type": "code",
   "execution_count": 12,
   "metadata": {},
   "outputs": [
    {
     "data": {
      "text/plain": [
       "dict_keys(['name', 'cell', 'siblings'])"
      ]
     },
     "execution_count": 12,
     "metadata": {},
     "output_type": "execute_result"
    }
   ],
   "source": [
    "me.keys()"
   ]
  },
  {
   "cell_type": "markdown",
   "metadata": {},
   "source": [
    "And use the `in` keyword (compatible with all lists) to see if the a certain key exists in the dictionary."
   ]
  },
  {
   "cell_type": "code",
   "execution_count": 13,
   "metadata": {},
   "outputs": [
    {
     "data": {
      "text/plain": [
       "True"
      ]
     },
     "execution_count": 13,
     "metadata": {},
     "output_type": "execute_result"
    }
   ],
   "source": [
    "'name' in me.keys()"
   ]
  },
  {
   "cell_type": "code",
   "execution_count": 14,
   "metadata": {},
   "outputs": [
    {
     "data": {
      "text/plain": [
       "False"
      ]
     },
     "execution_count": 14,
     "metadata": {},
     "output_type": "execute_result"
    }
   ],
   "source": [
    "'email' in me.keys()"
   ]
  },
  {
   "cell_type": "markdown",
   "metadata": {},
   "source": [
    "When the keys are simple strings, it is sometimes easier to specify pairs using the `dict` constructor."
   ]
  },
  {
   "cell_type": "code",
   "execution_count": 15,
   "metadata": {},
   "outputs": [
    {
     "name": "stdout",
     "output_type": "stream",
     "text": [
      "{'name': 'Hans', 'email': 'jgaeb@stanford.edu', 'siblings': ['Carrie', 'Karl']}\n"
     ]
    }
   ],
   "source": [
    "me = dict(name='Hans', email='jgaeb@stanford.edu', siblings=['Carrie', 'Karl'])\n",
    "print(me)"
   ]
  },
  {
   "cell_type": "markdown",
   "metadata": {},
   "source": [
    "Of course, it's worth keeping in mind is that the `key` in a dictionary can be _anything_, as long as it's immutable. So `key`s can be strings, numbers, or... tuples!"
   ]
  },
  {
   "cell_type": "markdown",
   "metadata": {},
   "source": [
    "### 0.1. Tuples\n",
    "\n",
    "The (very last!) data type we'll need to talk about in `Python` is tuples. Fortunately, tuples are much easier than lists or dicts. Think of tuples as lists that are _immutable_: once you've put some stuff in a tuple, you can't change it.\n",
    "\n",
    "Tuples consist of a number of values separted by commas (not necessarily, but often, enclosed in parentheses)."
   ]
  },
  {
   "cell_type": "code",
   "execution_count": 16,
   "metadata": {},
   "outputs": [
    {
     "name": "stdout",
     "output_type": "stream",
     "text": [
      "('male', 'dark hair')\n"
     ]
    }
   ],
   "source": [
    "description = 'male', 'dark hair'\n",
    "print(description)"
   ]
  },
  {
   "cell_type": "code",
   "execution_count": 17,
   "metadata": {},
   "outputs": [
    {
     "data": {
      "text/plain": [
       "'male'"
      ]
     },
     "execution_count": 17,
     "metadata": {},
     "output_type": "execute_result"
    }
   ],
   "source": [
    "description[0]  # tuples are also sequences, and can be indexed"
   ]
  },
  {
   "cell_type": "code",
   "execution_count": 18,
   "metadata": {},
   "outputs": [
    {
     "data": {
      "text/plain": [
       "('dark hair',)"
      ]
     },
     "execution_count": 18,
     "metadata": {},
     "output_type": "execute_result"
    }
   ],
   "source": [
    "description[1:]  # or sliced"
   ]
  },
  {
   "cell_type": "code",
   "execution_count": 19,
   "metadata": {
    "tags": [
     "raises-exception"
    ]
   },
   "outputs": [
    {
     "ename": "TypeError",
     "evalue": "'tuple' object does not support item assignment",
     "output_type": "error",
     "traceback": [
      "\u001b[0;31m---------------------------------------------------------------------------\u001b[0m",
      "\u001b[0;31mTypeError\u001b[0m                                 Traceback (most recent call last)",
      "\u001b[0;32m<ipython-input-19-2f2426800add>\u001b[0m in \u001b[0;36m<module>\u001b[0;34m\u001b[0m\n\u001b[0;32m----> 1\u001b[0;31m \u001b[0mdescription\u001b[0m\u001b[0;34m[\u001b[0m\u001b[0;36m0\u001b[0m\u001b[0;34m]\u001b[0m \u001b[0;34m=\u001b[0m \u001b[0;34m'female'\u001b[0m  \u001b[0;31m# but NOT changed, because they are immutable\u001b[0m\u001b[0;34m\u001b[0m\u001b[0;34m\u001b[0m\u001b[0m\n\u001b[0m",
      "\u001b[0;31mTypeError\u001b[0m: 'tuple' object does not support item assignment"
     ]
    }
   ],
   "source": [
    "description[0] = 'female'  # but NOT changed, because they are immutable"
   ]
  },
  {
   "cell_type": "markdown",
   "metadata": {},
   "source": [
    "While being immutable may seem like a minor difference from lists, the implications are quite big, and tuples are generally used for very different purposes compared to lists. For example, tuples can be used as the `key` for dictionaries (think sparse matrices). "
   ]
  },
  {
   "cell_type": "code",
   "execution_count": 20,
   "metadata": {},
   "outputs": [
    {
     "name": "stdout",
     "output_type": "stream",
     "text": [
      "{(0, 0): 1, (1000, 1000): 1}\n"
     ]
    }
   ],
   "source": [
    "super_sparse_matrix = {(0, 0):1, (1000, 1000):1}  # a 1000*1000 matrix with only two non-zero elements?\n",
    "print(super_sparse_matrix)"
   ]
  },
  {
   "cell_type": "code",
   "execution_count": 21,
   "metadata": {},
   "outputs": [
    {
     "name": "stdout",
     "output_type": "stream",
     "text": [
      "{('apples', 'bananas'): 1, ('apples', 'pears'): 1}\n"
     ]
    }
   ],
   "source": [
    "word_matrix = {('apples', 'bananas'):1, ('apples', 'pears'):1}  # a matrix indexed by words\n",
    "print(word_matrix)"
   ]
  },
  {
   "cell_type": "markdown",
   "metadata": {},
   "source": [
    "There are many more data structures commonly used in `python`, but lists, dictionaries, and tuples pretty much cover the basics (not to mention that these three constitute enough to fully represent the [JSON](http://json.org/) format in `python`, something you might see some of this afternoon when you're working with APIs and scrapers.)"
   ]
  },
  {
   "cell_type": "markdown",
   "metadata": {},
   "source": [
    "#### 0.1.0. Exercise\n",
    "\n",
    "Create a tuple that contains all the people you live with. (__HINT:__ If you live by yourself, you'll need to try something like `(\"me\",)`.) What happens if you try to add a roomate?"
   ]
  },
  {
   "cell_type": "code",
   "execution_count": 22,
   "metadata": {
    "tags": [
     "raises-exception"
    ]
   },
   "outputs": [
    {
     "ename": "TypeError",
     "evalue": "'tuple' object does not support item assignment",
     "output_type": "error",
     "traceback": [
      "\u001b[0;31m---------------------------------------------------------------------------\u001b[0m",
      "\u001b[0;31mTypeError\u001b[0m                                 Traceback (most recent call last)",
      "\u001b[0;32m<ipython-input-22-c386a58c7bfe>\u001b[0m in \u001b[0;36m<module>\u001b[0;34m\u001b[0m\n\u001b[1;32m      1\u001b[0m \u001b[0;31m### START\u001b[0m\u001b[0;34m\u001b[0m\u001b[0;34m\u001b[0m\u001b[0;34m\u001b[0m\u001b[0m\n\u001b[1;32m      2\u001b[0m \u001b[0mapartment\u001b[0m \u001b[0;34m=\u001b[0m \u001b[0;34m(\u001b[0m\u001b[0;34m\"Chandler\"\u001b[0m\u001b[0;34m,\u001b[0m \u001b[0;34m\"Joey\"\u001b[0m\u001b[0;34m)\u001b[0m\u001b[0;34m\u001b[0m\u001b[0;34m\u001b[0m\u001b[0m\n\u001b[0;32m----> 3\u001b[0;31m \u001b[0mapartment\u001b[0m\u001b[0;34m[\u001b[0m\u001b[0;36m2\u001b[0m\u001b[0;34m]\u001b[0m \u001b[0;34m=\u001b[0m \u001b[0;34m\"Eddie\"\u001b[0m\u001b[0;34m\u001b[0m\u001b[0;34m\u001b[0m\u001b[0m\n\u001b[0m\u001b[1;32m      4\u001b[0m \u001b[0;31m### END\u001b[0m\u001b[0;34m\u001b[0m\u001b[0;34m\u001b[0m\u001b[0;34m\u001b[0m\u001b[0m\n",
      "\u001b[0;31mTypeError\u001b[0m: 'tuple' object does not support item assignment"
     ]
    }
   ],
   "source": [
    "### START\n",
    "apartment = (\"Chandler\", \"Joey\")\n",
    "apartment[2] = \"Eddie\"\n",
    "### END"
   ]
  },
  {
   "cell_type": "markdown",
   "metadata": {},
   "source": [
    "### 0.2. List and dictionary comprehensions\n",
    "\n",
    "List comprehension is `python`'s way of creating lists (and also other data structures) in a concise manner. In particular, a lot of `for` loops can be rewritten with list comprehensions.\n",
    "\n",
    "#### 0.2.0. List comprehensions\n",
    "\n",
    "One way to create a list of squares would be:"
   ]
  },
  {
   "cell_type": "code",
   "execution_count": 23,
   "metadata": {},
   "outputs": [
    {
     "name": "stdout",
     "output_type": "stream",
     "text": [
      "[0, 1, 4, 9, 16, 25, 36, 49, 64, 81]\n"
     ]
    }
   ],
   "source": [
    "squares = []  # make an empty list\n",
    "for x in range(10):\n",
    "    squares.append(x**2)\n",
    "    \n",
    "print(squares)"
   ]
  },
  {
   "cell_type": "markdown",
   "metadata": {},
   "source": [
    "However, the more 'pythonic' way to do this, is to use list comprehension:"
   ]
  },
  {
   "cell_type": "code",
   "execution_count": 24,
   "metadata": {},
   "outputs": [
    {
     "data": {
      "text/plain": [
       "[0, 1, 4, 9, 16, 25, 36, 49, 64, 81]"
      ]
     },
     "execution_count": 24,
     "metadata": {},
     "output_type": "execute_result"
    }
   ],
   "source": [
    "[x**2 for x in range(10)]"
   ]
  },
  {
   "cell_type": "markdown",
   "metadata": {},
   "source": [
    "The command reads: \n",
    "> build a list out of the square of x (x\\*\\*2), for the values of x in `range(10)`"
   ]
  },
  {
   "cell_type": "markdown",
   "metadata": {},
   "source": [
    "List comprehension can be used to build a list of tuples too."
   ]
  },
  {
   "cell_type": "code",
   "execution_count": 25,
   "metadata": {},
   "outputs": [
    {
     "data": {
      "text/plain": [
       "[(3, 7), (7, 3)]"
      ]
     },
     "execution_count": 25,
     "metadata": {},
     "output_type": "execute_result"
    }
   ],
   "source": [
    "[(x, y) for x in range(10) for y in range(10) if x*y == 21]"
   ]
  },
  {
   "cell_type": "markdown",
   "metadata": {},
   "source": [
    "Note the use of `if` to filter out pairs that we _don't_ want in our list."
   ]
  },
  {
   "cell_type": "markdown",
   "metadata": {},
   "source": [
    "This is equivalent to the nested `for` loop:"
   ]
  },
  {
   "cell_type": "code",
   "execution_count": 26,
   "metadata": {},
   "outputs": [
    {
     "name": "stdout",
     "output_type": "stream",
     "text": [
      "[(3, 7), (7, 3)]\n"
     ]
    }
   ],
   "source": [
    "twenty_one = []\n",
    "for x in range(10):\n",
    "    for y in range(10):\n",
    "        if x*y == 21:\n",
    "            twenty_one.append((x, y))\n",
    "            \n",
    "\n",
    "print(twenty_one)"
   ]
  },
  {
   "cell_type": "markdown",
   "metadata": {},
   "source": [
    "#### 0.2.1. Exercise\n",
    "\n",
    "Look back at Exercise 1.5. from earlier this morning. Using list comprehensions, you can solve the whole problem in just one line. We'll give you a few of the functions you need, including `uniform()`, `mean()`, and `on_board()`."
   ]
  },
  {
   "cell_type": "code",
   "execution_count": 27,
   "metadata": {},
   "outputs": [
    {
     "data": {
      "text/plain": [
       "3.136"
      ]
     },
     "execution_count": 27,
     "metadata": {},
     "output_type": "execute_result"
    }
   ],
   "source": [
    "from random import uniform\n",
    "from statistics import mean\n",
    "from math import sqrt\n",
    "\n",
    "def on_board(x, y):\n",
    "    if (abs(x) > 1 or abs(y) > 1):\n",
    "        raise Exception(\n",
    "            'Your throw should lie in the square from (-1, -1) to (1, 1). The'\n",
    "            ' throw you gave me was: ' + str((x, y))\n",
    "        )\n",
    "    if (sqrt(x ** 2 + y ** 2) < 1):\n",
    "        return True\n",
    "    else:\n",
    "        return False\n",
    "\n",
    "### START\n",
    "4 * mean([on_board(uniform(-1,1), uniform(-1,1)) for i in range(0,10000)])\n",
    "### END"
   ]
  },
  {
   "cell_type": "markdown",
   "metadata": {},
   "source": [
    "__PROTIP:__ We needed to reload those functions because each notebook is a separate execution environment. What that means is that all of the cells know about all the variables and functions you've defined in the _other_ cells in the _same_ notebook, but nothing else, unless you explicitly `import` it. We'll be learning more about that in a bit."
   ]
  },
  {
   "cell_type": "markdown",
   "metadata": {},
   "source": [
    "Be aware that if the item of the list is a tuple, it must be parenthesized."
   ]
  },
  {
   "cell_type": "code",
   "execution_count": 28,
   "metadata": {
    "tags": [
     "raises-exception"
    ]
   },
   "outputs": [
    {
     "ename": "SyntaxError",
     "evalue": "invalid syntax (<ipython-input-28-9c5a6788255d>, line 1)",
     "output_type": "error",
     "traceback": [
      "\u001b[0;36m  File \u001b[0;32m\"<ipython-input-28-9c5a6788255d>\"\u001b[0;36m, line \u001b[0;32m1\u001b[0m\n\u001b[0;31m    [x, y for x in range(10) for y in range(10) if x*y == 21]  # this won't work\u001b[0m\n\u001b[0m            ^\u001b[0m\n\u001b[0;31mSyntaxError\u001b[0m\u001b[0;31m:\u001b[0m invalid syntax\n"
     ]
    }
   ],
   "source": [
    "[x, y for x in range(10) for y in range(10) if x*y == 21]  # this won't work"
   ]
  },
  {
   "cell_type": "markdown",
   "metadata": {},
   "source": [
    "List comprehension can also be used to build dictionaries!\n",
    "\n",
    "For example, we can also build what's called a _sparse matrix_ using a dictionary. The position is indexed by words $x$ and $y$, and\n",
    "    \\begin{equation}\n",
    "        (x, y) = \\begin{cases}\n",
    "            1 & \\text{if} \\quad y \\quad \\text{is longer than} \\quad x \\\\\n",
    "            0 & \\text{otherwise}\n",
    "        \\end{cases}\n",
    "    \\end{equation}\n",
    "\n",
    "(But note that the example below is not always the best way to do this! Implementation should depend on your context - what do you want to do with the data/matrix?)"
   ]
  },
  {
   "cell_type": "code",
   "execution_count": 29,
   "metadata": {},
   "outputs": [
    {
     "data": {
      "text/plain": [
       "{('anti', 'happy'): 1,\n",
       " ('anti', 'evening'): 1,\n",
       " ('anti', 'eagles'): 1,\n",
       " ('anti', 'interior'): 1,\n",
       " ('anti', 'zebra'): 1,\n",
       " ('happy', 'evening'): 1,\n",
       " ('happy', 'eagles'): 1,\n",
       " ('happy', 'interior'): 1,\n",
       " ('evening', 'interior'): 1,\n",
       " ('eagles', 'evening'): 1,\n",
       " ('eagles', 'interior'): 1,\n",
       " ('zebra', 'evening'): 1,\n",
       " ('zebra', 'eagles'): 1,\n",
       " ('zebra', 'interior'): 1}"
      ]
     },
     "execution_count": 29,
     "metadata": {},
     "output_type": "execute_result"
    }
   ],
   "source": [
    "words = ['anti', 'happy', 'evening', 'eagles', 'interior', 'zebra']\n",
    "{(x,y):1 for x in words for y in words if len(y) > len(x)}"
   ]
  },
  {
   "cell_type": "markdown",
   "metadata": {},
   "source": [
    "## 1. Read/Write Files\n",
    "Often, you will need to read some data into your `python` workspace, do something to/with said data, and then write the results to another file. We'll take a look at the most basic file read/write methods, which will get you started with your work."
   ]
  },
  {
   "cell_type": "markdown",
   "metadata": {},
   "source": [
    "### 1.0. File objects\n",
    "Think of a `python` file object as a portal connecting your `python` workspace to a file on your hard drive. You can open a file object with the built-in `open(filename, mode)` function. The `filename` argument is a string specifying the file name, and the `mode` argument can be one of the following values, specifying whether you want to read from or write to the file:\n",
    "- `'r'`: read\n",
    "- `'w'`: write (overwrites any existing files with same filename)\n",
    "- `'a'`: append (write additional to any existing data)\n",
    "\n",
    "(you can also open files for both read/write with mode `'r+'`, but this best avoided if possible)\n",
    "\n",
    "By default, files are opened in \"text\" mode (think: \"Files that can be opened and read by a human in a text-editor.) Alternatively, you can open files in \"binary mode\" by appending a `b` to the `mode` argument (e.g., `wb`, `rb`, `ab`). \n",
    "\n",
    "Remember that `open()` simply creates the 'portal', and you have to call additional methods on that file object to either read or write. Since reading can be a little more complicated, let's start with a simple write:"
   ]
  },
  {
   "cell_type": "code",
   "execution_count": 30,
   "metadata": {},
   "outputs": [
    {
     "name": "stdout",
     "output_type": "stream",
     "text": [
      "<_io.TextIOWrapper name='data/example.txt' mode='w' encoding='UTF-8'>\n"
     ]
    }
   ],
   "source": [
    "f = open('data/example.txt', 'w')\n",
    "print(f)"
   ]
  },
  {
   "cell_type": "markdown",
   "metadata": {},
   "source": [
    "Note that after creating the file object, the empty `filename` file (in the above example, `example.txt`) is created in your working directory. Now, let's actually write something to it:"
   ]
  },
  {
   "cell_type": "code",
   "execution_count": 31,
   "metadata": {},
   "outputs": [
    {
     "data": {
      "text/plain": [
       "9"
      ]
     },
     "execution_count": 31,
     "metadata": {},
     "output_type": "execute_result"
    }
   ],
   "source": [
    "f.write('Something')"
   ]
  },
  {
   "cell_type": "markdown",
   "metadata": {},
   "source": [
    "You can only write strings to a file object:"
   ]
  },
  {
   "cell_type": "code",
   "execution_count": 32,
   "metadata": {
    "tags": [
     "raises-exception"
    ]
   },
   "outputs": [
    {
     "ename": "TypeError",
     "evalue": "write() argument must be str, not list",
     "output_type": "error",
     "traceback": [
      "\u001b[0;31m---------------------------------------------------------------------------\u001b[0m",
      "\u001b[0;31mTypeError\u001b[0m                                 Traceback (most recent call last)",
      "\u001b[0;32m<ipython-input-32-81b3b29fe746>\u001b[0m in \u001b[0;36m<module>\u001b[0;34m\u001b[0m\n\u001b[1;32m      1\u001b[0m \u001b[0msome_list\u001b[0m \u001b[0;34m=\u001b[0m \u001b[0;34m[\u001b[0m\u001b[0;36m1\u001b[0m\u001b[0;34m,\u001b[0m \u001b[0;36m2\u001b[0m\u001b[0;34m,\u001b[0m \u001b[0;36m3\u001b[0m\u001b[0;34m]\u001b[0m\u001b[0;34m\u001b[0m\u001b[0;34m\u001b[0m\u001b[0m\n\u001b[0;32m----> 2\u001b[0;31m \u001b[0mf\u001b[0m\u001b[0;34m.\u001b[0m\u001b[0mwrite\u001b[0m\u001b[0;34m(\u001b[0m\u001b[0msome_list\u001b[0m\u001b[0;34m)\u001b[0m\u001b[0;34m\u001b[0m\u001b[0;34m\u001b[0m\u001b[0m\n\u001b[0m",
      "\u001b[0;31mTypeError\u001b[0m: write() argument must be str, not list"
     ]
    }
   ],
   "source": [
    "some_list = [1, 2, 3]\n",
    "f.write(some_list)"
   ]
  },
  {
   "cell_type": "markdown",
   "metadata": {},
   "source": [
    "To write anything other than a string, use the `str()` built-in function to convert it to a string first:"
   ]
  },
  {
   "cell_type": "code",
   "execution_count": 33,
   "metadata": {},
   "outputs": [
    {
     "data": {
      "text/plain": [
       "9"
      ]
     },
     "execution_count": 33,
     "metadata": {},
     "output_type": "execute_result"
    }
   ],
   "source": [
    "f.write(str(some_list))"
   ]
  },
  {
   "cell_type": "markdown",
   "metadata": {},
   "source": [
    "You might notice that even though you've called `write()` a couple times, the actual file on your hard drive doesn't necessarily get updated. That's because a file object's `write`s are kept in buffer. To complete all the `write`s and close the file object, call the `close()` method:"
   ]
  },
  {
   "cell_type": "code",
   "execution_count": 34,
   "metadata": {},
   "outputs": [],
   "source": [
    "f.close()"
   ]
  },
  {
   "cell_type": "markdown",
   "metadata": {},
   "source": [
    "Note that using a closed file object will result in an error:"
   ]
  },
  {
   "cell_type": "code",
   "execution_count": 35,
   "metadata": {
    "tags": [
     "raises-exception"
    ]
   },
   "outputs": [
    {
     "ename": "ValueError",
     "evalue": "I/O operation on closed file.",
     "output_type": "error",
     "traceback": [
      "\u001b[0;31m---------------------------------------------------------------------------\u001b[0m",
      "\u001b[0;31mValueError\u001b[0m                                Traceback (most recent call last)",
      "\u001b[0;32m<ipython-input-35-158c1587dace>\u001b[0m in \u001b[0;36m<module>\u001b[0;34m\u001b[0m\n\u001b[0;32m----> 1\u001b[0;31m \u001b[0mf\u001b[0m\u001b[0;34m.\u001b[0m\u001b[0mwrite\u001b[0m\u001b[0;34m(\u001b[0m\u001b[0;34m'...'\u001b[0m\u001b[0;34m)\u001b[0m\u001b[0;34m\u001b[0m\u001b[0;34m\u001b[0m\u001b[0m\n\u001b[0m",
      "\u001b[0;31mValueError\u001b[0m: I/O operation on closed file."
     ]
    }
   ],
   "source": [
    "f.write('...')"
   ]
  },
  {
   "cell_type": "markdown",
   "metadata": {},
   "source": [
    "#### 1.0.0. Exercise\n",
    "\n",
    "Write a short poem ([here](https://en.wikipedia.org/wiki/Category:Poetic_form) are some poetic forms if you're having trouble nailing down your rhyme scheme), and then save each line to a file called `poem.txt` in the `data` directory. Open up the poem in `JupyterLab` to check that it saved correctly."
   ]
  },
  {
   "cell_type": "code",
   "execution_count": 36,
   "metadata": {},
   "outputs": [],
   "source": [
    "### START\n",
    "poem = [\n",
    "    \"岱宗夫如何？齐鲁青未了。\",\n",
    "    \"造化钟神秀，阴阳割昏晓。\",\n",
    "    \"荡胸生曾云，决眦入归鸟。\",\n",
    "    \"会当凌绝顶，一览众山小。\"\n",
    "]\n",
    "f = open(\"data/poem.txt\", 'w')\n",
    "for line in poem:\n",
    "    f.write(line + '\\n')\n",
    "f.close()\n",
    "###"
   ]
  },
  {
   "cell_type": "markdown",
   "metadata": {},
   "source": [
    "### 1.1. Reading from a URL\n",
    "Reading data from a URL in `python` is pretty simple, using the `urllib.request` module. The `urllib.request` module let's you open URLs in `read` mode, as if they were file objects.\n",
    "\n",
    "Let's use `python`'s `urllib.request` to read Charles Dickens' \"A Tale of Two Cities\" from https://goo.gl/fHIeOi\n",
    "\n",
    "(This is just for illustration. Note, there are other libraries that are usually more appropriate for reading/scraping web pages. We'll be learning about some of these this afternoon.)"
   ]
  },
  {
   "cell_type": "code",
   "execution_count": 37,
   "metadata": {},
   "outputs": [
    {
     "name": "stdout",
     "output_type": "stream",
     "text": [
      "<http.client.HTTPResponse object at 0x10c56cb90>\n"
     ]
    }
   ],
   "source": [
    "from urllib.request import urlopen  # the import statement is used in python to import modules/libraries\n",
    "\n",
    "link = urlopen('https://goo.gl/fHIeOi')  # open the url\n",
    "print(link)\n",
    "text = link.read()\n",
    "link.close()  # just like file objects, url connections should be closed after you're done"
   ]
  },
  {
   "cell_type": "markdown",
   "metadata": {},
   "source": [
    "The `text` variable now contains the entire text of \"A Tale of Two Cities\". "
   ]
  },
  {
   "cell_type": "code",
   "execution_count": 38,
   "metadata": {},
   "outputs": [
    {
     "name": "stdout",
     "output_type": "stream",
     "text": [
      "b'A Tale of Two Cities'\n"
     ]
    }
   ],
   "source": [
    "print(text[0:20])"
   ]
  },
  {
   "cell_type": "markdown",
   "metadata": {},
   "source": [
    "Notice the `b` in front of the quotes. This indicates that the data in our `text` object is saved as `bytes` not strings."
   ]
  },
  {
   "cell_type": "markdown",
   "metadata": {},
   "source": [
    "Now let's try writing `text` to a file."
   ]
  },
  {
   "cell_type": "code",
   "execution_count": 39,
   "metadata": {},
   "outputs": [],
   "source": [
    "f = open('data/two_cities.txt', 'wb')  # open file object in write (bytes) mode\n",
    "f.write(text)\n",
    "f.close()"
   ]
  },
  {
   "cell_type": "markdown",
   "metadata": {},
   "source": [
    "### 1.2. Reading from file objects\n",
    "And now, we have a file to practice reading from! We can create a file object just like we did for writing, but with the `'r'` mode specified:"
   ]
  },
  {
   "cell_type": "code",
   "execution_count": 40,
   "metadata": {},
   "outputs": [],
   "source": [
    "f = open('data/two_cities.txt', 'r')  # open file object in read mode"
   ]
  },
  {
   "cell_type": "markdown",
   "metadata": {},
   "source": [
    "A file object will iterate over the contents of the file it is connected to. For example, the `readline()` method will read the file, one line at a time. And consecutive calls to `readline()` will keep giving you the next line:"
   ]
  },
  {
   "cell_type": "code",
   "execution_count": 41,
   "metadata": {},
   "outputs": [
    {
     "name": "stdout",
     "output_type": "stream",
     "text": [
      "first line: A Tale of Two Cities, by Charles Dickens\n",
      "\n",
      "second line: \n",
      "\n"
     ]
    }
   ],
   "source": [
    "print('first line:', f.readline())  # read the first line\n",
    "print('second line:', f.readline())  # read the second line"
   ]
  },
  {
   "cell_type": "markdown",
   "metadata": {},
   "source": [
    "Since the file object essentially provides an iterator over each line of the file, you can loop over the file object line-by-line. This is memory efficient, fast, and leads to simple code:"
   ]
  },
  {
   "cell_type": "code",
   "execution_count": 42,
   "metadata": {},
   "outputs": [
    {
     "name": "stdout",
     "output_type": "stream",
     "text": [
      "[A story of the French Revolution]\n",
      "\n",
      "\n",
      "\n",
      "\n",
      "\n",
      "\n",
      "\n",
      "CONTENTS\n",
      "\n",
      "\n",
      "\n",
      "\n",
      "\n",
      "\n",
      "\n",
      "\n",
      "\n",
      "\n",
      "\n",
      "Book the First--Recalled to Life\n",
      "\n"
     ]
    }
   ],
   "source": [
    "n = 1  # a simple counter to control the number of lines printed\n",
    "for line in f:\n",
    "    print(line)\n",
    "    if n > 10: \n",
    "        break\n",
    "    n += 1"
   ]
  },
  {
   "cell_type": "markdown",
   "metadata": {},
   "source": [
    "Just like when writing, don't forget to close files after you're done!"
   ]
  },
  {
   "cell_type": "code",
   "execution_count": 43,
   "metadata": {},
   "outputs": [],
   "source": [
    "f.close()"
   ]
  },
  {
   "cell_type": "markdown",
   "metadata": {},
   "source": [
    "As your file I/O gets complex, opening and closing can become quite painful (e.g., what if an error occurs before you close the file object? what happens to the memory it's using?), and forgeting to close file objects is potentially dangerous. So, it's good practice to use the `with` and `as` keywords, which makes sure that the file is properly closed after operations are finished, even if an error occurs during operations:"
   ]
  },
  {
   "cell_type": "code",
   "execution_count": 44,
   "metadata": {},
   "outputs": [
    {
     "name": "stdout",
     "output_type": "stream",
     "text": [
      "A Tale of Two Cities, by Charles Dickens\n",
      "\n",
      "\n",
      "\n",
      "[A story of the French Revolution]\n",
      "\n",
      "\n",
      "\n",
      "\n",
      "\n",
      "\n",
      "\n",
      "CONTENTS\n",
      "\n",
      "\n",
      "\n",
      "\n",
      "\n",
      "\n",
      "\n",
      "\n",
      "\n"
     ]
    }
   ],
   "source": [
    "with open('data/two_cities.txt', 'r') as f:\n",
    "    n = 1\n",
    "    for line in f:\n",
    "        print(line)\n",
    "        if n > 10: break\n",
    "        n += 1"
   ]
  },
  {
   "cell_type": "markdown",
   "metadata": {},
   "source": [
    "### 1.2.0. Exercise\n",
    "\n",
    "1. Create a `python` dictionary that counts the number of occurences of words, delimitted by white spaces, in \"A Tale of Two Cities\". Do this using list comprehension.\n",
    "2. Find words that occur between 500 and 700 times.\n",
    "\n",
    "__HINT:__ If you do this naively using list comprehensions, you might find that it takes a pretty long time! That's because if you do something like `{... for word in words}`, and the word `the` shows up `words` 10,000 times, you're going to do the _same thing 10,000 times,_ once each time the word \"the\" comes up. To avoid wasting your (and your computer's!) time, you can use `Python`'s set datatype. A set is like a list, except each element only occurs once. To create a set from a list, simply input `set(list)`. So, for example\n",
    "```python\n",
    "    >>> set([1,2,3])\n",
    "    {1, 2, 3}\n",
    "    >>> set([1,2,3,1,2,3])\n",
    "    {1, 2, 3}\n",
    "```\n",
    "Sets can be used in more or less the same ways as lists and dicts. In particular, `for element in set` will work the way you expect!\n",
    "\n",
    "If you're still having trouble, try just using the first 10,000 words of _A Tale of Two Cities_ to construct your dictionary."
   ]
  },
  {
   "cell_type": "code",
   "execution_count": 45,
   "metadata": {},
   "outputs": [
    {
     "name": "stdout",
     "output_type": "stream",
     "text": [
      "{'The': 574, 'have': 699, 'is': 688, 'said': 570, 'by': 527, 'be': 692, 'Mr.': 603, 'my': 568, 'him': 525, 'were': 630}\n"
     ]
    }
   ],
   "source": [
    "### START\n",
    "# Part 1\n",
    "with open('data/two_cities.txt') as f:\n",
    "    words = f.read().split()\n",
    "    \n",
    "tts_dict = {word:words.count(word) for word in set(words)}\n",
    "    \n",
    "# Part 2\n",
    "common_tts_dict = {\n",
    "    word:num\n",
    "    for (word,num) in tts_dict.items()\n",
    "    if 500 <= tts_dict[word] and 700 >= tts_dict[word]\n",
    "}\n",
    "\n",
    "print(common_tts_dict)\n",
    "### END"
   ]
  },
  {
   "cell_type": "markdown",
   "metadata": {},
   "source": [
    "## 2. Functions: The powerhouse of the cell\n",
    "\n",
    "One of the best ways to unlock the full potential of `Python` for data analysis is with functions. Functions allow you to automate repetitive tasks in a safer and easier to understand way than copying and pasting code."
   ]
  },
  {
   "cell_type": "markdown",
   "metadata": {},
   "source": [
    "### 2.0. Writing functions\n",
    "\n",
    "Let's create a function to count the number of vowels in a given string:"
   ]
  },
  {
   "cell_type": "code",
   "execution_count": 46,
   "metadata": {},
   "outputs": [
    {
     "data": {
      "text/plain": [
       "12"
      ]
     },
     "execution_count": 46,
     "metadata": {},
     "output_type": "execute_result"
    }
   ],
   "source": [
    "def count_vowels(s):\n",
    "    \"\"\"Count the number of vowels in a string.\"\"\"\n",
    "    vowels = 'aeiouAEIOU'\n",
    "    nvowels = [s.count(v) for v in vowels]  # count the number of each vowel in s\n",
    "    return sum(nvowels)  # return the sum of elements in nvowel\n",
    "\n",
    "# use the new function\n",
    "count_vowels('Eels are delicious animals')"
   ]
  },
  {
   "cell_type": "markdown",
   "metadata": {},
   "source": [
    "A few quick remarks about this syntax:\n",
    "- The `def` keyword declares a function **def**inition, followed by a function name and the parenthesized list of formal parameters.\n",
    "- The statements that form the body of the function start at the next line, and must be indented.\n",
    "- The first statement of the function body can optionally be a string, also known as the [docstring](https://docs.python.org/3/tutorial/controlflow.html#tut-docstrings).\n",
    "- Many tools use the docstring to give users meaningful information - so help yourself, make a habit of writing meaningful docstrings.\n",
    "- Functions that don't finish with a `return` statement return `None` (a special `python` object for \"Nothing\")."
   ]
  },
  {
   "cell_type": "markdown",
   "metadata": {},
   "source": [
    "Functions can also return a tuple of values. For example, let's modify our `count_vowels` function to return the number of vowel along with a `list` specifying the number of each vowel."
   ]
  },
  {
   "cell_type": "code",
   "execution_count": 47,
   "metadata": {},
   "outputs": [
    {
     "data": {
      "text/plain": [
       "(12,\n",
       " [('a', 3),\n",
       "  ('e', 3),\n",
       "  ('i', 3),\n",
       "  ('o', 1),\n",
       "  ('u', 1),\n",
       "  ('A', 0),\n",
       "  ('E', 1),\n",
       "  ('I', 0),\n",
       "  ('O', 0),\n",
       "  ('U', 0)])"
      ]
     },
     "execution_count": 47,
     "metadata": {},
     "output_type": "execute_result"
    }
   ],
   "source": [
    "def count_vowels(s):\n",
    "    \"\"\"\n",
    "    Count the number of vowels in a string.\n",
    "    \n",
    "    returns: number of vowels, list containing number of appearance for each vowel \n",
    "    \"\"\"\n",
    "    vowels = 'aeiouAEIOU'\n",
    "    nvowels = [s.count(v) for v in vowels]  # count the number of each vowel in s\n",
    "    return sum(nvowels), list(zip(vowels, nvowels))  # return the sum and a zipped list\n",
    "                              \n",
    "count_vowels('Eels are delicious animals')"
   ]
  },
  {
   "cell_type": "markdown",
   "metadata": {},
   "source": [
    "A returned tuple can also be 'unpacked' into multiple variables."
   ]
  },
  {
   "cell_type": "code",
   "execution_count": 48,
   "metadata": {},
   "outputs": [
    {
     "name": "stdout",
     "output_type": "stream",
     "text": [
      "Found total 12 vowels, each vowel as follows:\n",
      "[('a', 3), ('e', 3), ('i', 3), ('o', 1), ('u', 1), ('A', 0), ('E', 1), ('I', 0), ('O', 0), ('U', 0)]\n"
     ]
    }
   ],
   "source": [
    "total_count, individual_count = count_vowels('Eels are delicious animals')\n",
    "print('Found total', total_count, 'vowels, each vowel as follows:')\n",
    "print(individual_count)"
   ]
  },
  {
   "cell_type": "markdown",
   "metadata": {},
   "source": [
    "#### 2.0.0. Exercise\n",
    "\n",
    "Create a function that takes the following two arguments:\n",
    "* `x_0`, which is a duple of numbers\n",
    "* `x_1`, which is also a duple of numbers\n",
    "\n",
    "and then returns the distance between the two points. Be sure to add a doc string and a `return` statement!\n",
    "\n",
    "__HINT:__ Remember the formula\n",
    "    \\begin{equation}\n",
    "        d(x_0, x_1) = \\sqrt{(x_0[0] - x_1[0])^2 + (x_0[1] - x_1[1])^2}\n",
    "    \\end{equation}\n",
    "and the `sqrt()` function."
   ]
  },
  {
   "cell_type": "code",
   "execution_count": 49,
   "metadata": {},
   "outputs": [],
   "source": [
    "### START\n",
    "def distance(x_0, x_1):\n",
    "    \"\"\"Finds the distance between two points in __R__^2.\n",
    "    Args:\n",
    "        x_0: The first point, as a duple of floats.\n",
    "        x_1: The second point, as a duple of floats.\n",
    "    \n",
    "    Returns:\n",
    "        Distance between the points.\"\"\"\n",
    "    \n",
    "    return sqrt((x_0[0] - x_1[0]) ** 2 + (x_0[1] - x_1[1]) ** 2)\n",
    "### END"
   ]
  },
  {
   "cell_type": "markdown",
   "metadata": {},
   "source": [
    "### 2.1. Functions with optional arguments\n",
    "Let's further enhance the `count_vowels` function by letting the user specify\n",
    "- which vowels to count ('aeiouAEIOU' by default)\n",
    "- whether to return a single sum or a tuple of the sum and list (single sum by default)\n",
    "\n",
    "This can be achieved by specifying default values in the function declaration."
   ]
  },
  {
   "cell_type": "code",
   "execution_count": 50,
   "metadata": {},
   "outputs": [
    {
     "data": {
      "text/plain": [
       "12"
      ]
     },
     "execution_count": 50,
     "metadata": {},
     "output_type": "execute_result"
    }
   ],
   "source": [
    "def count_vowels(s, vowels = 'aeiouAEIOU', returnAll = False):\n",
    "    \"\"\"\n",
    "    Count the number of vowels in a string.\n",
    "    \n",
    "    Args:  \n",
    "        s: the string to count vowels from\n",
    "        vowels: string of characters that should be considered \n",
    "            a vowel (default: aeiouAEIOU)\n",
    "        returnAll: boolean indicating whether to return just the sum of \n",
    "            vowels (default: False) or a tuple of the sum of vowels and a \n",
    "            list of occerence for each character\n",
    "                 \n",
    "    Returns: \n",
    "        number of vowels[ , list of vowel count] \n",
    "    \"\"\"\n",
    "    # count the number of each vowel in s\n",
    "    nvowels = [s.count(v) for v in vowels]  \n",
    "    if returnAll:\n",
    "        # return the sum and a zipped list\n",
    "        return sum(nvowels), list(zip(vowels, nvowels))  \n",
    "    else:\n",
    "        # return just the sum\n",
    "        return sum(nvowels)  \n",
    "                              \n",
    "count_vowels('Eels are delicious animals')"
   ]
  },
  {
   "cell_type": "code",
   "execution_count": 51,
   "metadata": {},
   "outputs": [
    {
     "data": {
      "text/plain": [
       "11"
      ]
     },
     "execution_count": 51,
     "metadata": {},
     "output_type": "execute_result"
    }
   ],
   "source": [
    "count_vowels('Eels are delicious animals', vowels = 'aeiou')  # no caps"
   ]
  },
  {
   "cell_type": "code",
   "execution_count": 52,
   "metadata": {},
   "outputs": [
    {
     "data": {
      "text/plain": [
       "(12,\n",
       " [('a', 3),\n",
       "  ('e', 3),\n",
       "  ('i', 3),\n",
       "  ('o', 1),\n",
       "  ('u', 1),\n",
       "  ('A', 0),\n",
       "  ('E', 1),\n",
       "  ('I', 0),\n",
       "  ('O', 0),\n",
       "  ('U', 0)])"
      ]
     },
     "execution_count": 52,
     "metadata": {},
     "output_type": "execute_result"
    }
   ],
   "source": [
    "count_vowels('Eels are delicious animals', returnAll = True)  # give me EVERYTHING"
   ]
  },
  {
   "cell_type": "markdown",
   "metadata": {},
   "source": [
    "Be careful with having mutable defaults, though. Default values of a function's argument are shared between subsequent calls, and this might cause problems if you're manipulating the argument's value within the function. For example,"
   ]
  },
  {
   "cell_type": "code",
   "execution_count": 53,
   "metadata": {},
   "outputs": [
    {
     "name": "stdout",
     "output_type": "stream",
     "text": [
      "[1]\n",
      "[1, 2]\n",
      "[1, 2, 3]\n"
     ]
    }
   ],
   "source": [
    "def fun(n, stuff=[]):\n",
    "    \"\"\"Illustrating issues with mutable defaults.\"\"\"\n",
    "    stuff.append(n)\n",
    "    return stuff\n",
    "\n",
    "print(fun(1))  # stuff is empty by default\n",
    "print(fun(2))  # stuff was manipulated, and is now [1] from the previous call!\n",
    "print(fun(3))  # even worse, stuff is now [1, 2] !!!"
   ]
  },
  {
   "cell_type": "markdown",
   "metadata": {},
   "source": [
    "This behavior isn't necessarily a problem, and it might even make sense in some contexts. However, it's definitely worth keeping in mind to avoid being surprised. If you want to prevent such behavior, one simple work-around is to set the default to `None`, and check if it is indeed `None`, before assigning the 'true' default, such as:"
   ]
  },
  {
   "cell_type": "code",
   "execution_count": 54,
   "metadata": {},
   "outputs": [
    {
     "name": "stdout",
     "output_type": "stream",
     "text": [
      "[1]\n",
      "[2]\n",
      "[3]\n",
      "[1, 2, 3]\n"
     ]
    }
   ],
   "source": [
    "def fun(n, stuff=None):\n",
    "    \"\"\"Fix for mutable defaults.\"\"\"\n",
    "    if stuff is None:\n",
    "        stuff = []\n",
    "    stuff.append(n)\n",
    "    return stuff\n",
    "\n",
    "print(fun(1))  # unspecified argument stuff is None, then set to []\n",
    "print(fun(2))  # unspecified argument stuff is None, then set to []\n",
    "print(fun(3))  # unspecified argument stuff is None, then set to []\n",
    "print(fun(3, [1,2]))  # and we can always specify stuff if we need to!"
   ]
  },
  {
   "cell_type": "markdown",
   "metadata": {},
   "source": [
    "#### 2.1.0. Exercise\n",
    "\n",
    "Modify your `distance()` function from Exercise 2.0.0. so that `x_1` is, by default, the point `(0,0)`."
   ]
  },
  {
   "cell_type": "markdown",
   "metadata": {},
   "source": [
    "Finally, to capture an arbitrary number of arguments in a function, you can use the `*name` and `**name` parameters. Note that, if both are present, `*name` **must** occure before `**name`, and both must occur after all the formal parameters. When present, the `*name` parameter receives a tuple containing the positional arguments beyond the formal parameter list, and `**name` receives a dictionary containing the key-value pair of the named arguments, except for those corresponding to a formal parameter. For example:"
   ]
  },
  {
   "cell_type": "code",
   "execution_count": 55,
   "metadata": {},
   "outputs": [
    {
     "name": "stdout",
     "output_type": "stream",
     "text": [
      "\n",
      "===============================================================================\n",
      "Function called with n= 1, Name= Jongbin\n",
      "Arguments received:\n",
      "\t\n",
      "Named arguments received:\n",
      "\t\n",
      "===============================================================================\n",
      "Function called with n= 2, Name= Padme\n",
      "Arguments received:\n",
      "\tAmidala | Princess | testing additional arguments | \n",
      "Named arguments received:\n",
      "\t\n",
      "===============================================================================\n",
      "Function called with n= 2, Name= Luke\n",
      "Arguments received:\n",
      "\t\n",
      "Named arguments received:\n",
      "\tgender = male |affiliation = Rebel Alliance |text = testing named arguments |\n",
      "===============================================================================\n",
      "Function called with n= 3, Name= Anakin\n",
      "Arguments received:\n",
      "\tSkywalker | Jedi | 2015 | \n",
      "Named arguments received:\n",
      "\tweapon = Lightsaber |skill = force |"
     ]
    }
   ],
   "source": [
    "def fun(n, name='Jongbin', *arguments, **keywords):\n",
    "    \"\"\"Demo of *name and **name parameters.\"\"\"\n",
    "    print('\\n' + '=' * 79)\n",
    "    print('Function called with n=', n, end = ', ')  # values of the end argument will replace new lines (\\n)\n",
    "    print('Name=', name)\n",
    "    print('Arguments received:')\n",
    "    print(end = '\\t')  # a tab character to print appropriate indents\n",
    "    for arg in arguments:\n",
    "        print(arg, '|', end = ' ')\n",
    "    print('\\nNamed arguments received:')\n",
    "    print(end = '\\t')  # a tab character to print appropriate indents\n",
    "    for key, value in keywords.items():\n",
    "        print(key, '=', value, '|', end = '')\n",
    "        \n",
    "fun(1)  # supply minimal arguments\n",
    "fun(2, 'Padme', 'Amidala', 'Princess', 'testing additional arguments')  # some additional arguments\n",
    "fun(2, 'Luke', gender='male', affiliation='Rebel Alliance', text='testing named arguments')  # named arguments\n",
    "fun(3, 'Anakin', 'Skywalker', 'Jedi', 2015, weapon='Lightsaber', skill='force')  # both"
   ]
  },
  {
   "cell_type": "markdown",
   "metadata": {},
   "source": [
    "Sometimes, an opposite situation may occur, where the required arguments are in a list/tuple or keyword arguments are in a dictionary, and you would like to unpack them programatically in the function call. In such cases, you can use the `*name` and `**name` conventions introduced above in the function call. For example:"
   ]
  },
  {
   "cell_type": "code",
   "execution_count": 56,
   "metadata": {},
   "outputs": [
    {
     "name": "stdout",
     "output_type": "stream",
     "text": [
      "regular call: range(1, 10, 2)\n",
      "unpack from list: range(1, 10, 2)\n"
     ]
    }
   ],
   "source": [
    "print('regular call:', range(1, 10, 2))  # the range function takes arguments (start, stop[, step])\n",
    "args = [1, 10, 2]  # pack the arguments (equivalent to above) into a list\n",
    "print('unpack from list:', range(*args))  # all the function by unpacking the list"
   ]
  },
  {
   "cell_type": "code",
   "execution_count": 57,
   "metadata": {},
   "outputs": [
    {
     "name": "stdout",
     "output_type": "stream",
     "text": [
      "Name: Jongbin Jung\n",
      "email: jongbin at stanford.edu\n",
      "phone: 650-123-4567\n"
     ]
    }
   ],
   "source": [
    "def print_info(name, email, phone):\n",
    "    \"\"\"Quick demo of keyword argument unpacking.\"\"\"\n",
    "    print('Name:', name)\n",
    "    print('email:', email)\n",
    "    print('phone:', phone)\n",
    "    \n",
    "kwargs = {'name':'Jongbin Jung', 'email':'jongbin at stanford.edu', 'phone':'650-123-4567'}\n",
    "print_info(**kwargs)"
   ]
  },
  {
   "cell_type": "markdown",
   "metadata": {},
   "source": [
    "## Exercise 2.1.0.\n",
    "\n",
    "Write a function `top_n(d, n=5)`, which takes a dictionary of word counts (such as that created in Exercise 1.2.0.) and an optional argument `n`, and prints words that have the top `n` count, along with the actual count. Don't forget to include a docstring!\n",
    "\n",
    "__HINT:__ To sort a dictionary by its values, use the built-in function `sorted(iterable, cmp=None, key=None, reverse=False)`; you can set the sorting `key` to the dictionary's value by setting `key=d.get`, and sort in descending order by setting `reverse=True`.\n",
    "\n",
    "__HINT:__ You might want to create a simple word count dictionary to test your function.\n",
    "\n",
    "__BONUS CHALLENGE:__ Can you modify `top_n` so that instead of a dictionary `d`, it takes a series of named arguments, e.g., `a = 100, the = 99, for = 98`?"
   ]
  },
  {
   "cell_type": "code",
   "execution_count": 58,
   "metadata": {},
   "outputs": [],
   "source": [
    "### START\n",
    "def top_n(d, n = 5):\n",
    "    \"\"\"Prints the `n` words occurring most frequently.\n",
    "    \n",
    "    Args:\n",
    "        d: A dictionary which contains `key:value` pairs of the following sort:\n",
    "            `word:count`, where `word` is a word, and `count` is the number of\n",
    "            occurrences.\n",
    "        n: The number of words to print.\n",
    "    Returns:\n",
    "        None. (Prints the top `n` words as a side-effect.)\n",
    "    \"\"\"\n",
    "    d = sorted(d, key = d.get, reverse = True)\n",
    "    print(d[:n])\n",
    "\n",
    "def top_n_bonus(n = 5, **kwargs):\n",
    "    \"\"\"Prints the `n` words occurring most frequently in the keyword arguments.\n",
    "    \n",
    "    Args:\n",
    "        n: The number of words to print.\n",
    "        kwargs: keyword arguments of the form `word = n`, where `n` is the word count.\n",
    "    Returns:\n",
    "        None. (Prints the top `n` words as a side-effect.)\n",
    "    \"\"\"\n",
    "    d = sorted(kwargs, key = kwargs.get, reverse = True)\n",
    "    print(d[:n])\n",
    "### END"
   ]
  },
  {
   "cell_type": "markdown",
   "metadata": {},
   "source": [
    "### 2.2. Modules\n",
    "Once you start building functions, you might want to collect certain functions as a general 'toolbox' to be used across multiple projects. In `python`, you can put definitions in a file with a `.py` extension. Such a file is called a `module`. Once you save your functions into a `module`, you can `import` them. Let's practice with some examples."
   ]
  },
  {
   "cell_type": "markdown",
   "metadata": {},
   "source": [
    "For illustration purposes, create let's create two modules that contain one function of the same name each:"
   ]
  },
  {
   "cell_type": "code",
   "execution_count": 59,
   "metadata": {},
   "outputs": [],
   "source": [
    "# save this function to a file named module1.py\n",
    "def speak():\n",
    "    \"\"\"Make module 1 say something\"\"\"\n",
    "    print('Module 1 speaking ...')"
   ]
  },
  {
   "cell_type": "code",
   "execution_count": 60,
   "metadata": {},
   "outputs": [],
   "source": [
    "# save this function to a file named module2.py\n",
    "def speak():\n",
    "    \"\"\"Make module 2 say something\"\"\"\n",
    "    print('Hi, this is module 2 speaking!')"
   ]
  },
  {
   "cell_type": "markdown",
   "metadata": {},
   "source": [
    "You can import each module (and the functions in them) using the `import` statement as follows:"
   ]
  },
  {
   "cell_type": "code",
   "execution_count": 61,
   "metadata": {},
   "outputs": [],
   "source": [
    "import module1\n",
    "import module2"
   ]
  },
  {
   "cell_type": "markdown",
   "metadata": {},
   "source": [
    "Note that the name you use in the `import` statement is just the file name of the module, without the `.py` extension. \n",
    "\n",
    "When you `import` a module, `python` creates an isolated 'space' for each module. This allows different modules to have functions of the same name, without causing confusion. But because of this, whenever you want to use a function from a certain module, you have to specify the module name before calling the function. Compare:"
   ]
  },
  {
   "cell_type": "code",
   "execution_count": 62,
   "metadata": {},
   "outputs": [
    {
     "name": "stdout",
     "output_type": "stream",
     "text": [
      "Module 1 speaking ...\n",
      "Hi, this is module 2 speaking!\n"
     ]
    }
   ],
   "source": [
    "module1.speak()\n",
    "module2.speak()"
   ]
  },
  {
   "cell_type": "markdown",
   "metadata": {},
   "source": [
    "This can be a bit painful (and messy) if your module names get longer. There are typically two ways to work around this:\n",
    "1. `import` with the `as` keyword to assign your own name to a model\n",
    "1. assign your own function name to a module's function\n",
    "\n",
    "Each approach is illustrated below, which to use should depend on the context and personal style:"
   ]
  },
  {
   "cell_type": "code",
   "execution_count": 63,
   "metadata": {},
   "outputs": [
    {
     "name": "stdout",
     "output_type": "stream",
     "text": [
      "Module 1 speaking ...\n",
      "Hi, this is module 2 speaking!\n"
     ]
    }
   ],
   "source": [
    "import module1 as m1\n",
    "import module2 as m2\n",
    "m1.speak()\n",
    "m2.speak()"
   ]
  },
  {
   "cell_type": "code",
   "execution_count": 64,
   "metadata": {},
   "outputs": [
    {
     "name": "stdout",
     "output_type": "stream",
     "text": [
      "Module 1 speaking ...\n",
      "Hi, this is module 2 speaking!\n"
     ]
    }
   ],
   "source": [
    "import module1\n",
    "import module2\n",
    "\n",
    "speak1 = module1.speak  # note the lack of parentheses\n",
    "speak2 = module2.speak  # when assigning functions to a new name\n",
    "\n",
    "speak1()\n",
    "speak2()"
   ]
  },
  {
   "cell_type": "markdown",
   "metadata": {},
   "source": [
    "Finally, modules can also be executed as standalone scripts. However, to do this, the module must know when it's been `import`ed or executed. This is done in `python` by specifying a `__name__` variable within each module's 'space'. When a module is `import`ed, it's `__name__` variable is set to the filename it was imported from:"
   ]
  },
  {
   "cell_type": "code",
   "execution_count": 65,
   "metadata": {},
   "outputs": [
    {
     "data": {
      "text/plain": [
       "'module1'"
      ]
     },
     "execution_count": 65,
     "metadata": {},
     "output_type": "execute_result"
    }
   ],
   "source": [
    "module1.__name__"
   ]
  },
  {
   "cell_type": "markdown",
   "metadata": {},
   "source": [
    "However, if a module is executed, for example from the terminal with the command,\n",
    "```bash\n",
    "python module_name.py\n",
    "```\n",
    "then the `__name__` variable is set to `__main__`.\n",
    "\n",
    "To illustrate this, let's create a new module, `module3.py`:"
   ]
  },
  {
   "cell_type": "code",
   "execution_count": 66,
   "metadata": {},
   "outputs": [
    {
     "name": "stdout",
     "output_type": "stream",
     "text": [
      "My __name__ is __main__\n",
      "You've executed me!\n"
     ]
    }
   ],
   "source": [
    "# save this code to a file named module3.py\n",
    "def speak():\n",
    "    \"\"\"Make module 3 say something\"\"\"\n",
    "    print('My __name__ is', __name__)\n",
    "    \n",
    "\n",
    "if __name__ == '__main__':\n",
    "    speak()\n",
    "    print('You\\'ve executed me!')"
   ]
  },
  {
   "cell_type": "code",
   "execution_count": 67,
   "metadata": {},
   "outputs": [
    {
     "name": "stdout",
     "output_type": "stream",
     "text": [
      "My __name__ is module3\n"
     ]
    }
   ],
   "source": [
    "import module3\n",
    "\n",
    "module3.speak()"
   ]
  },
  {
   "cell_type": "markdown",
   "metadata": {},
   "source": [
    "Now, instead of `import`ing module3, execute it from a command prompt with the command:\n",
    "```bash\n",
    "python module3.py\n",
    "```\n",
    "(you can open a command prompt within `spyder`)\n",
    "\n",
    "The output should look like:\n",
    "> `My __name__ is __main__` <br />\n",
    "> `You've executed me!`"
   ]
  },
  {
   "cell_type": "markdown",
   "metadata": {},
   "source": [
    "### 2.3. Using modules from the command line\n",
    "\n",
    "When executing a module from the command prompt, you can also pass arguments to the module in the form of \n",
    "> `python filename.py arguments`\n",
    "\n",
    "The arguments are passed to the module via a list in the `sys` standard module, and can by accessed by calling `sys.argv`. (*Standard* modules are modules that are built-in to `python`, like `statistics` or `math`---we've been using these since the warmup!) The first (position 0) element of `sys.argv` contains the execution call of the module, so arguments that are passed through the command prompt start from position 1. \n",
    "\n",
    "For example, we can write a module that takes a single argument from the command prompt as follows:"
   ]
  },
  {
   "cell_type": "code",
   "execution_count": 68,
   "metadata": {},
   "outputs": [
    {
     "name": "stdout",
     "output_type": "stream",
     "text": [
      "The first element of sys.argv is /usr/local/lib/python3.7/site-packages/ipykernel_launcher.py\n",
      "The argument passed was: -f\n"
     ]
    }
   ],
   "source": [
    "# save this code to a file named module4.py\n",
    "import sys  # import the standard module sys\n",
    "\n",
    "if __name__ == '__main__':\n",
    "    print('The first element of sys.argv is', sys.argv[0])\n",
    "    print('The argument passed was:', sys.argv[1])"
   ]
  },
  {
   "cell_type": "markdown",
   "metadata": {},
   "source": [
    "Then, execute from the command prompt with an argument, for example:\n",
    "> `python module4.py hello`\n",
    "\n",
    "This should print to the screen:\n",
    "> `The first element of sys.argv is module4.py` <br />\n",
    "> `The argument passed was: hello`\n",
    "\n",
    "Note that all arguments are passed as a string by default. If you want to use a different type, you will have to convert it within `python`, e.g., `int(sys.argv[1])` to convert the first argument into an integer).\n",
    "\n",
    "(if you want to do some serious argument parsing, you should take a look at the [`argparse` module](https://docs.python.org/2/howto/argparse.html))"
   ]
  },
  {
   "cell_type": "markdown",
   "metadata": {},
   "source": [
    "#### 2.2.0. Exercise\n",
    "\n",
    "Expand your function from Exercise 2.1.0. into a module called `dictionary_maker.py` that can be executed with a target filename and integer `n` as an argument, i.e.,\n",
    "```bash\n",
    "    > python dictionary_maker.py target_file.txt 5\n",
    "```\n",
    "which:\n",
    " 1. Reads the contents of the target file,\n",
    " 2. Generates a word occurence count dictionary from the text, and\n",
    " 3. Prints word/count of the words with top `n` occurences.\n",
    " \n",
    "__HINT:__ You shouldn't need to write any new functions---see if you can do this exercise entirely with function's you've already written."
   ]
  },
  {
   "cell_type": "code",
   "execution_count": 72,
   "metadata": {},
   "outputs": [],
   "source": [
    "# Put this code into `dictionary_maker.py`!\n",
    "\n",
    "### START\n",
    "# from sys import argv\n",
    "# \n",
    "# def top_n(d, n = 5):\n",
    "#     \"\"\"Prints the `n` words occurring most frequently.\n",
    "#     \n",
    "#     Args:\n",
    "#         d: A dictionary which contains `key:value` pairs of the following sort:\n",
    "#             `word:count`, where `word` is a word, and `count` is the number of\n",
    "#             occurrences.\n",
    "#         n: The number of words to print.\n",
    "#     Returns:\n",
    "#         None. (Prints the top `n` words as a side-effect.)\n",
    "#     \"\"\"\n",
    "# d = sorted(d, key = d.get, reverse = True)\n",
    "#     print(d[:n])\n",
    "# \n",
    "# def make_dict(f):\n",
    "#     \"\"\"Turns a file into a dictionary by tokenizing text using whitespace.\n",
    "#     \n",
    "#     Args:\n",
    "#         f: A file object.\n",
    "#     Returns:\n",
    "#         A dictionary of `key:value` pairs where `key` is a token (i.e., word)\n",
    "#         and `value` is the number of occurences in the file.\n",
    "#     \"\"\"\n",
    "#     words = f.read().split(\" \\n\\t\")\n",
    "#     {word:words.count(word) for word in set(words)}\n",
    "# \n",
    "# if __name__ == \"__main__\":\n",
    "#     with open(argv[1], \"r\") as f:\n",
    "#         d = make_dict(f)\n",
    "#         top_n(d, n = argv[2])\n",
    "### END"
   ]
  }
 ],
 "metadata": {
  "kernelspec": {
   "display_name": "Python 3",
   "language": "python",
   "name": "python3"
  },
  "language_info": {
   "codemirror_mode": {
    "name": "ipython",
    "version": 3
   },
   "file_extension": ".py",
   "mimetype": "text/x-python",
   "name": "python",
   "nbconvert_exporter": "python",
   "pygments_lexer": "ipython3",
   "version": "3.7.4"
  }
 },
 "nbformat": 4,
 "nbformat_minor": 4
}
