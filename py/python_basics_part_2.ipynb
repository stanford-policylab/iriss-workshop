{
 "cells": [
  {
   "cell_type": "markdown",
   "metadata": {},
   "source": [
    "# Python Basics, Part 2\n",
    "\n",
    "Now we know some of the basic \"things\" in `Python`---numbers, strings, dicts, lists---it's important to learn how to, well, do things with things. Some of the basics are doing different things depending on what our data are, transforming and manipulating data, saving and retrieving data, and structuring data. Generally speaking, in `Python`, changing how your code handles different inputs is accomplished using _control flow_, data manipulation is handled with _functions_, saving and retrieving data is handled using Python's `io` module, and data structuring is done with _objects_."
   ]
  },
  {
   "cell_type": "markdown",
   "metadata": {},
   "source": [
    "## Control flow\n",
    "\n",
    "There are three basic ways of changing your codes behavior depending on the input: `if` statements, `for` statements, and `while` statements. At a high level, `if` statements only do something (surprise, surprise) if something is true: you only take the square root of a number if it's positive or open a file if it actually exists. On the other hand, `for` statements do the same thing for everything in a group: if you want to double every number in a list or extract the phone number of everyone in your address book, use a `for` statement. While they're very important in other languages, `while` statements are very rarely necessary in `Python`. If you're using a `while` statement, chances are you could do the same thing more safely and more cleanly with a `for` statement."
   ]
  },
  {
   "cell_type": "markdown",
   "metadata": {},
   "source": [
    "### `if` statements\n",
    "An example should suffice:"
   ]
  },
  {
   "cell_type": "code",
   "execution_count": 1,
   "metadata": {},
   "outputs": [
    {
     "name": "stdin",
     "output_type": "stream",
     "text": [
      "Give me a BIG number:  10\n"
     ]
    },
    {
     "name": "stdout",
     "output_type": "stream",
     "text": [
      "Try harder ... \n"
     ]
    }
   ],
   "source": [
    "x = int(input('Give me a BIG number: '))\n",
    "if x < 0:\n",
    "    print('You\\'re joking, right?')\n",
    "elif x < 1e3:\n",
    "    print('Try harder ... ')\n",
    "else:\n",
    "    print('Nice.')"
   ]
  },
  {
   "cell_type": "markdown",
   "metadata": {},
   "source": [
    "Some notes on the above code:\n",
    "- the `input()` function (as you've now seen), promts the user for an input\n",
    "- the `int()` (tries to) convert string values to integers (`raw_input()` will always return the user's input as a string)\n",
    "- `elif` is short for `else, if`, and there can be none or more than one `elif` sequences\n",
    "- the `else` clause is optional\n",
    "\n",
    "One more thing that's implicit but *__extremely__* important: **indents.**\n",
    "\n",
    "- `Python`, unlike many other languages out there, doesn't use curley brackets {}\n",
    "- instead, blocks of grouped code are identified by the level of indents (this is something to get used to, if you've never seen it before)\n",
    "- word of caution: NEVER USE <kbd>Tab</kbd> (although, don't worry too much: `JupyterLab` changes all your <kbd>Tab</kbd>s to four spaces by default, which is the [PEP 8 spec for indentation][pep8] in `python`)\n",
    "\n",
    "[pep8]: https://www.python.org/dev/peps/pep-0008/#indentation"
   ]
  },
  {
   "cell_type": "markdown",
   "metadata": {},
   "source": [
    "### `for` statements\n",
    "The `for` statement in `python` iterates over the items of any sequence (e.g., lists and even strings!), in the order that they appear in the sequence."
   ]
  },
  {
   "cell_type": "code",
   "execution_count": 2,
   "metadata": {},
   "outputs": [
    {
     "name": "stdout",
     "output_type": "stream",
     "text": [
      "Jamie has 5 characters and starts with a J\n",
      "Cersei has 6 characters and starts with a C\n",
      "Jon has 3 characters and starts with a J\n",
      "Sansa has 5 characters and starts with a S\n"
     ]
    }
   ],
   "source": [
    "names = ['Jamie', 'Cersei', 'Jon', 'Sansa']\n",
    "\n",
    "for name in names:\n",
    "    print(name, 'has', len(name), 'characters and starts with a', name[0])"
   ]
  },
  {
   "cell_type": "markdown",
   "metadata": {},
   "source": [
    "The example above introduces a few new concepts:\n",
    "- the variable `name` is defined along with the declaration of the `for` statement. It doesn't need to exist beforehand\n",
    "- it's good practice to use plurals for collections (`names` for the list) and singulars for individual items (`name` for each name)"
   ]
  },
  {
   "cell_type": "markdown",
   "metadata": {},
   "source": [
    "Since strings are like lists, you can also loop over a string, one character at a time."
   ]
  },
  {
   "cell_type": "code",
   "execution_count": 3,
   "metadata": {},
   "outputs": [
    {
     "name": "stdout",
     "output_type": "stream",
     "text": [
      "Jamie has 3 vowel(s)\n",
      "Cersei has 3 vowel(s)\n",
      "Jon has 1 vowel(s)\n",
      "Sansa has 2 vowel(s)\n"
     ]
    }
   ],
   "source": [
    "vowels = ['a', 'e', 'i', 'o', 'u']  # make a list of vowels\n",
    "for name in names:\n",
    "    vowel_count = 0  # initialize the vowel count\n",
    "    for char in name:\n",
    "        if char in vowels:\n",
    "            vowel_count += 1\n",
    "    print(name, 'has', vowel_count, 'vowel(s)')"
   ]
  },
  {
   "cell_type": "markdown",
   "metadata": {},
   "source": [
    "You can use the built-in `range()` function to do a more 'classic' `for` loop over a sequence of numbers."
   ]
  },
  {
   "cell_type": "code",
   "execution_count": 4,
   "metadata": {},
   "outputs": [
    {
     "name": "stdout",
     "output_type": "stream",
     "text": [
      "0\n",
      "1\n",
      "2\n",
      "3\n",
      "4\n",
      "5\n",
      "6\n",
      "7\n",
      "8\n",
      "9\n"
     ]
    }
   ],
   "source": [
    "for i in range(10): print(i)"
   ]
  },
  {
   "cell_type": "markdown",
   "metadata": {},
   "source": [
    "`range(len)` generates the legal indices (starting from 0) for a sequence of length `len`. You can also use `range(start, stop[, step])` to specify the start, end, and (optionally) step to take.\n",
    "\n",
    "(The `[, step]` notation in the fuction signiture shows that the `step` argument is optional. It's useful to know such conventions when refering to the docs.)"
   ]
  },
  {
   "cell_type": "code",
   "execution_count": 5,
   "metadata": {},
   "outputs": [
    {
     "name": "stdout",
     "output_type": "stream",
     "text": [
      "4\n",
      "5\n",
      "6\n",
      "7\n"
     ]
    }
   ],
   "source": [
    "for i in range(4,8): print(i)"
   ]
  },
  {
   "cell_type": "code",
   "execution_count": 6,
   "metadata": {},
   "outputs": [
    {
     "name": "stdout",
     "output_type": "stream",
     "text": [
      "4\n",
      "6\n"
     ]
    }
   ],
   "source": [
    "for i in range(4,8,2): print(i)"
   ]
  },
  {
   "cell_type": "code",
   "execution_count": 7,
   "metadata": {},
   "outputs": [
    {
     "name": "stdout",
     "output_type": "stream",
     "text": [
      "20\n",
      "17\n",
      "14\n",
      "11\n",
      "8\n",
      "5\n"
     ]
    }
   ],
   "source": [
    "for i in range(20,4,-3): print(i)"
   ]
  },
  {
   "cell_type": "markdown",
   "metadata": {},
   "source": [
    "You can combine `range()` with `len()` to iterate over the indices of a sequence."
   ]
  },
  {
   "cell_type": "code",
   "execution_count": 8,
   "metadata": {},
   "outputs": [
    {
     "name": "stdout",
     "output_type": "stream",
     "text": [
      "Name 0 is Jamie\n",
      "Name 1 is Cersei\n",
      "Name 2 is Jon\n",
      "Name 3 is Sansa\n"
     ]
    }
   ],
   "source": [
    "for i in range(len(names)):\n",
    "    print('Name', i, 'is', names[i])"
   ]
  },
  {
   "cell_type": "markdown",
   "metadata": {},
   "source": [
    "But in such cases, the `enumerate()` function is usually more convenient."
   ]
  },
  {
   "cell_type": "code",
   "execution_count": 9,
   "metadata": {},
   "outputs": [
    {
     "name": "stdout",
     "output_type": "stream",
     "text": [
      "Name 0 is Jamie\n",
      "Name 1 is Cersei\n",
      "Name 2 is Jon\n",
      "Name 3 is Sansa\n"
     ]
    }
   ],
   "source": [
    "for i, name in enumerate(names):\n",
    "    print('Name', i, 'is', name)"
   ]
  },
  {
   "cell_type": "markdown",
   "metadata": {},
   "source": [
    "As you might have guessed, the `enumerate()` function takes a sequence, and returns the (index, value) pairs for each item (the 'pairs' are actually `tuple`s!), and you can assign items from a `tuple` to its own variable in the `for` statement."
   ]
  },
  {
   "cell_type": "code",
   "execution_count": 10,
   "metadata": {},
   "outputs": [
    {
     "name": "stdout",
     "output_type": "stream",
     "text": [
      "[(0, 'Jamie'), (1, 'Cersei'), (2, 'Jon'), (3, 'Sansa')]\n"
     ]
    }
   ],
   "source": [
    "print(list(enumerate(names)))"
   ]
  },
  {
   "cell_type": "markdown",
   "metadata": {},
   "source": [
    "Occasionally, you might want to loop over two or more sequences at a time. You can pair the entries with the `zip()` function."
   ]
  },
  {
   "cell_type": "code",
   "execution_count": 11,
   "metadata": {},
   "outputs": [
    {
     "name": "stdout",
     "output_type": "stream",
     "text": [
      "G - Jamie Lannister\n",
      "a - Cersei Lannister\n",
      "m - Jon Snow\n",
      "e - Sansa Stark\n"
     ]
    }
   ],
   "source": [
    "title = 'Game of Thrones'\n",
    "houses = ['Lannister', 'Lannister', 'Snow', 'Stark']\n",
    "for char, house, name in zip(title, houses, names):\n",
    "    print(char, '-', name, house)"
   ]
  },
  {
   "cell_type": "markdown",
   "metadata": {},
   "source": [
    "Note how `zip()` gracefully fits the iterator to the length of the shortest sequence, i.e., only the first four characters of the string 'Game of Thrones' were iterated."
   ]
  },
  {
   "cell_type": "markdown",
   "metadata": {},
   "source": [
    "### `break` and `continue` statements\n",
    "You can manage your loops in more detail using `break` and `continue` statements. \n",
    "\n",
    "A `break` statement, as the name implies, will break you out of the smallest enclosing loop."
   ]
  },
  {
   "cell_type": "code",
   "execution_count": 12,
   "metadata": {},
   "outputs": [
    {
     "name": "stdout",
     "output_type": "stream",
     "text": [
      "Jamie Lannister\n",
      "Cersei Lannister\n"
     ]
    }
   ],
   "source": [
    "for name, house in zip(names, houses):\n",
    "    if house == 'Snow':\n",
    "        break\n",
    "    else:\n",
    "        print(name, house)"
   ]
  },
  {
   "cell_type": "markdown",
   "metadata": {},
   "source": [
    "A `continue` statement will simply skip over to the next item in the iterator, instead of breaking out of the loop."
   ]
  },
  {
   "cell_type": "code",
   "execution_count": 13,
   "metadata": {},
   "outputs": [
    {
     "name": "stdout",
     "output_type": "stream",
     "text": [
      "Jamie Lannister\n",
      "Cersei Lannister\n",
      "Sansa Stark\n"
     ]
    }
   ],
   "source": [
    "for name, house in zip(names, houses):\n",
    "    if house == 'Snow':\n",
    "        continue  # compare to the previous example where we stopped the loop at Snow, now we simply skip it\n",
    "    else:\n",
    "        print(name, house)"
   ]
  },
  {
   "cell_type": "markdown",
   "metadata": {},
   "source": [
    "## Read/Write Files\n",
    "Often, you will need to read some data into your `python` workspace, do something to/with said data, and then write the results to another file. We'll take a look at the most basic file read/write methods, which will get you started with your work."
   ]
  },
  {
   "cell_type": "markdown",
   "metadata": {},
   "source": [
    "### File objects\n",
    "Think of a `python` file object as a portal connecting your `python` workspace to a file on your hard drive. You can open a file object with the built-in `open(filename, mode)` function. The `filename` argument is a string specifying the file name, and the `mode` argument can be one of the following values, specifying whether you want to read from or write to the file:\n",
    "- `'r'`: read\n",
    "- `'w'`: write (overwrites any existing files with same filename)\n",
    "- `'a'`: append (write additional to any existing data)\n",
    "\n",
    "(you can also open files for both read/write with mode `'r+'`, but this best avoided if possible)\n",
    "\n",
    "By default, files are opened in \"text\" mode (think: \"Files that can be opened and read by a human in a text-editor.) Alternatively, you can open files in \"binary mode\" by appending a `b` to the `mode` argument (e.g., `wb`, `rb`, `ab`). \n",
    "\n",
    "Remember that `open()` simply creates the 'portal', and you have to call additional methods on that file object to either read or write. Since reading can be a little more complicated, let's start with a simple write:"
   ]
  },
  {
   "cell_type": "code",
   "execution_count": 14,
   "metadata": {},
   "outputs": [
    {
     "name": "stdout",
     "output_type": "stream",
     "text": [
      "<_io.TextIOWrapper name='data/example.txt' mode='w' encoding='UTF-8'>\n"
     ]
    }
   ],
   "source": [
    "f = open('data/example.txt', 'w')\n",
    "print(f)"
   ]
  },
  {
   "cell_type": "markdown",
   "metadata": {},
   "source": [
    "Note that after creating the file object, the empty `filename` file (in the above example, `example.txt`) is created in your working directory. Now, let's actually write something to it:"
   ]
  },
  {
   "cell_type": "code",
   "execution_count": 15,
   "metadata": {},
   "outputs": [
    {
     "data": {
      "text/plain": [
       "9"
      ]
     },
     "execution_count": 15,
     "metadata": {},
     "output_type": "execute_result"
    }
   ],
   "source": [
    "f.write('Something')"
   ]
  },
  {
   "cell_type": "markdown",
   "metadata": {},
   "source": [
    "You can only write strings to a file object:"
   ]
  },
  {
   "cell_type": "code",
   "execution_count": 16,
   "metadata": {
    "tags": [
     "raises-exception"
    ]
   },
   "outputs": [
    {
     "ename": "TypeError",
     "evalue": "write() argument must be str, not list",
     "output_type": "error",
     "traceback": [
      "\u001b[0;31m---------------------------------------------------------------------------\u001b[0m",
      "\u001b[0;31mTypeError\u001b[0m                                 Traceback (most recent call last)",
      "\u001b[0;32m<ipython-input-16-81b3b29fe746>\u001b[0m in \u001b[0;36m<module>\u001b[0;34m\u001b[0m\n\u001b[1;32m      1\u001b[0m \u001b[0msome_list\u001b[0m \u001b[0;34m=\u001b[0m \u001b[0;34m[\u001b[0m\u001b[0;36m1\u001b[0m\u001b[0;34m,\u001b[0m \u001b[0;36m2\u001b[0m\u001b[0;34m,\u001b[0m \u001b[0;36m3\u001b[0m\u001b[0;34m]\u001b[0m\u001b[0;34m\u001b[0m\u001b[0;34m\u001b[0m\u001b[0m\n\u001b[0;32m----> 2\u001b[0;31m \u001b[0mf\u001b[0m\u001b[0;34m.\u001b[0m\u001b[0mwrite\u001b[0m\u001b[0;34m(\u001b[0m\u001b[0msome_list\u001b[0m\u001b[0;34m)\u001b[0m\u001b[0;34m\u001b[0m\u001b[0;34m\u001b[0m\u001b[0m\n\u001b[0m",
      "\u001b[0;31mTypeError\u001b[0m: write() argument must be str, not list"
     ]
    }
   ],
   "source": [
    "some_list = [1, 2, 3]\n",
    "f.write(some_list)"
   ]
  },
  {
   "cell_type": "markdown",
   "metadata": {},
   "source": [
    "To write anything other than a string, use the `str()` built-in function to convert it to a string first:"
   ]
  },
  {
   "cell_type": "code",
   "execution_count": 17,
   "metadata": {},
   "outputs": [
    {
     "data": {
      "text/plain": [
       "9"
      ]
     },
     "execution_count": 17,
     "metadata": {},
     "output_type": "execute_result"
    }
   ],
   "source": [
    "f.write(str(some_list))"
   ]
  },
  {
   "cell_type": "markdown",
   "metadata": {},
   "source": [
    "You might notice that even though you've called `write()` a couple times, the actual file on your hard drive doesn't necessarily get updated. That's because a file object's `write`s are kept in buffer. To complete all the `write`s and close the file object, call the `close()` method:"
   ]
  },
  {
   "cell_type": "code",
   "execution_count": 18,
   "metadata": {},
   "outputs": [],
   "source": [
    "f.close()"
   ]
  },
  {
   "cell_type": "markdown",
   "metadata": {},
   "source": [
    "Note that using a closed file object will result in an error:"
   ]
  },
  {
   "cell_type": "code",
   "execution_count": 19,
   "metadata": {
    "tags": [
     "raises-exception"
    ]
   },
   "outputs": [
    {
     "ename": "ValueError",
     "evalue": "I/O operation on closed file.",
     "output_type": "error",
     "traceback": [
      "\u001b[0;31m---------------------------------------------------------------------------\u001b[0m",
      "\u001b[0;31mValueError\u001b[0m                                Traceback (most recent call last)",
      "\u001b[0;32m<ipython-input-19-158c1587dace>\u001b[0m in \u001b[0;36m<module>\u001b[0;34m\u001b[0m\n\u001b[0;32m----> 1\u001b[0;31m \u001b[0mf\u001b[0m\u001b[0;34m.\u001b[0m\u001b[0mwrite\u001b[0m\u001b[0;34m(\u001b[0m\u001b[0;34m'...'\u001b[0m\u001b[0;34m)\u001b[0m\u001b[0;34m\u001b[0m\u001b[0;34m\u001b[0m\u001b[0m\n\u001b[0m",
      "\u001b[0;31mValueError\u001b[0m: I/O operation on closed file."
     ]
    }
   ],
   "source": [
    "f.write('...')"
   ]
  },
  {
   "cell_type": "markdown",
   "metadata": {},
   "source": [
    "### Reading from a URL\n",
    "Reading data from a URL in `python` is pretty simple, using the `urllib.request` module. The `urllib.request` module let's you open URLs in `read` mode, as if they were file objects.\n",
    "\n",
    "Let's use `python`'s `urllib.request` to read Charles Dickens' \"A Tale of Two Cities\" from https://goo.gl/fHIeOi\n",
    "\n",
    "(This is just for illustration. Note, there are other libraries that are usually more appropriate for reading/scraping web pages.)"
   ]
  },
  {
   "cell_type": "code",
   "execution_count": 20,
   "metadata": {},
   "outputs": [
    {
     "name": "stdout",
     "output_type": "stream",
     "text": [
      "<http.client.HTTPResponse object at 0x10c4c3d50>\n"
     ]
    }
   ],
   "source": [
    "from urllib.request import urlopen  # the import statement is used in python to import modules/libraries\n",
    "\n",
    "link = urlopen('https://goo.gl/fHIeOi')  # open the url\n",
    "print(link)\n",
    "text = link.read()\n",
    "link.close()  # just like file objects, url connections should be closed after you're done"
   ]
  },
  {
   "cell_type": "markdown",
   "metadata": {},
   "source": [
    "The `text` variable now contains the entire text of \"A Tale of Two Cities\". "
   ]
  },
  {
   "cell_type": "code",
   "execution_count": 21,
   "metadata": {},
   "outputs": [
    {
     "name": "stdout",
     "output_type": "stream",
     "text": [
      "b'A Tale of Two Cities'\n"
     ]
    }
   ],
   "source": [
    "print(text[0:20])"
   ]
  },
  {
   "cell_type": "markdown",
   "metadata": {},
   "source": [
    "Notice the `b` in front of the quotes. This indicates that the data in our `text` object is saved as `bytes` not strings."
   ]
  },
  {
   "cell_type": "markdown",
   "metadata": {},
   "source": [
    "Now let's try writing `text` to a file."
   ]
  },
  {
   "cell_type": "code",
   "execution_count": 22,
   "metadata": {},
   "outputs": [],
   "source": [
    "f = open('data/two_cities.txt', 'wb')  # open file object in write (bytes) mode\n",
    "f.write(text)\n",
    "f.close()"
   ]
  },
  {
   "cell_type": "markdown",
   "metadata": {},
   "source": [
    "### Reading from file objects\n",
    "And now, we have a file to practice reading from! We can create a file object just like we did for writing, but with the `'r'` mode specified:"
   ]
  },
  {
   "cell_type": "code",
   "execution_count": 24,
   "metadata": {},
   "outputs": [],
   "source": [
    "f = open('data/two_cities.txt', 'r')  # open file object in read mode"
   ]
  },
  {
   "cell_type": "markdown",
   "metadata": {},
   "source": [
    "A file object will iterate over the contents of the file it is connected to. For example, the `readline()` method will read the file, one line at a time. And consecutive calls to `readline()` will keep giving you the next line:"
   ]
  },
  {
   "cell_type": "code",
   "execution_count": 25,
   "metadata": {},
   "outputs": [
    {
     "name": "stdout",
     "output_type": "stream",
     "text": [
      "first line: A Tale of Two Cities, by Charles Dickens\n",
      "\n",
      "second line: \n",
      "\n"
     ]
    }
   ],
   "source": [
    "print('first line:', f.readline())  # read the first line\n",
    "print('second line:', f.readline())  # read the second line"
   ]
  },
  {
   "cell_type": "markdown",
   "metadata": {},
   "source": [
    "Since the file object essentially provides an iterator over each line of the file, you can loop over the file object line-by-line. This is memory efficient, fast, and leads to simple code:"
   ]
  },
  {
   "cell_type": "code",
   "execution_count": 26,
   "metadata": {},
   "outputs": [
    {
     "name": "stdout",
     "output_type": "stream",
     "text": [
      "[A story of the French Revolution]\n",
      "\n",
      "\n",
      "\n",
      "\n",
      "\n",
      "\n",
      "\n",
      "CONTENTS\n",
      "\n",
      "\n",
      "\n",
      "\n",
      "\n",
      "\n",
      "\n",
      "\n",
      "\n",
      "\n",
      "\n",
      "Book the First--Recalled to Life\n",
      "\n"
     ]
    }
   ],
   "source": [
    "n = 1  # a simple counter to control the number of lines printed\n",
    "for line in f:\n",
    "    print(line)\n",
    "    if n > 10: \n",
    "        break\n",
    "    n += 1"
   ]
  },
  {
   "cell_type": "markdown",
   "metadata": {},
   "source": [
    "Just like when writing, don't forget to close files after you're done!"
   ]
  },
  {
   "cell_type": "code",
   "execution_count": 27,
   "metadata": {},
   "outputs": [],
   "source": [
    "f.close()"
   ]
  },
  {
   "cell_type": "markdown",
   "metadata": {},
   "source": [
    "As your file I/O gets complex, opening and closing can become quite painful (e.g., what if an error occurs before you close the file object? what happens to the memory it's using?), and forgeting to close file objects is potentially dangerous. So, it's good practice to use the `with` and `as` keywords, which makes sure that the file is properly closed after operations are finished, even if an error occurs during operations:"
   ]
  },
  {
   "cell_type": "code",
   "execution_count": 29,
   "metadata": {},
   "outputs": [
    {
     "name": "stdout",
     "output_type": "stream",
     "text": [
      "A Tale of Two Cities, by Charles Dickens\n",
      "\n",
      "\n",
      "\n",
      "[A story of the French Revolution]\n",
      "\n",
      "\n",
      "\n",
      "\n",
      "\n",
      "\n",
      "\n",
      "CONTENTS\n",
      "\n",
      "\n",
      "\n",
      "\n",
      "\n",
      "\n",
      "\n",
      "\n",
      "\n"
     ]
    }
   ],
   "source": [
    "with open('data/two_cities.txt', 'r') as f:\n",
    "    n = 1\n",
    "    for line in f:\n",
    "        print(line)\n",
    "        if n > 10: break\n",
    "        n += 1"
   ]
  },
  {
   "cell_type": "markdown",
   "metadata": {},
   "source": [
    "## Functions: The powerhouse of the cell\n",
    "\n",
    "One of the best ways to unlock the full potential of `Python` for data analysis is with functions. Functions allow you to automate repetitive tasks in a safer and easier to understand way than copying and pasting code."
   ]
  },
  {
   "cell_type": "markdown",
   "metadata": {},
   "source": [
    "### Writing functions\n",
    "Let's create a function to count the number of vowels in a given string\n"
   ]
  },
  {
   "cell_type": "code",
   "execution_count": 30,
   "metadata": {},
   "outputs": [
    {
     "data": {
      "text/plain": [
       "12"
      ]
     },
     "execution_count": 30,
     "metadata": {},
     "output_type": "execute_result"
    }
   ],
   "source": [
    "def count_vowels(s):\n",
    "    \"\"\"Count the number of vowels in a string.\"\"\"\n",
    "    vowels = 'aeiouAEIOU'\n",
    "    nvowels = [s.count(v) for v in vowels]  # count the number of each vowel in s\n",
    "    return sum(nvowels)  # return the sum of elements in nvowel\n",
    "\n",
    "# use the new function\n",
    "count_vowels('Eels are delicious animals')"
   ]
  },
  {
   "cell_type": "markdown",
   "metadata": {},
   "source": [
    "- the `def` keyword declares a function **def**inition, followed by a function name and the parenthesized list of formal parameters\n",
    "- the statements that form the body of the function start at the next line, and must be indented\n",
    "- the first statement of the function body can optionally be a string, also known as the [docstring](https://docs.python.org/3/tutorial/controlflow.html#tut-docstrings)\n",
    "- many tools (such as `spyder`) use the docstring to give users meaningful information - so help yourself, make a habit of writing meaningful docstrings\n",
    "- functions that don't finish with a `return` statement return `None` (a special `python` object for \"Nothing\")"
   ]
  },
  {
   "cell_type": "markdown",
   "metadata": {},
   "source": [
    "Functions can also return a tuple of values. For example, let's modify our `count_vowels` function to return the number of vowel along with a `list` specifying the number of each vowel."
   ]
  },
  {
   "cell_type": "code",
   "execution_count": 31,
   "metadata": {},
   "outputs": [
    {
     "data": {
      "text/plain": [
       "(12,\n",
       " [('a', 3),\n",
       "  ('e', 3),\n",
       "  ('i', 3),\n",
       "  ('o', 1),\n",
       "  ('u', 1),\n",
       "  ('A', 0),\n",
       "  ('E', 1),\n",
       "  ('I', 0),\n",
       "  ('O', 0),\n",
       "  ('U', 0)])"
      ]
     },
     "execution_count": 31,
     "metadata": {},
     "output_type": "execute_result"
    }
   ],
   "source": [
    "def count_vowels(s):\n",
    "    \"\"\"\n",
    "    Count the number of vowels in a string.\n",
    "    \n",
    "    returns: number of vowels, list containing number of appearance for each vowel \n",
    "    \"\"\"\n",
    "    vowels = 'aeiouAEIOU'\n",
    "    nvowels = [s.count(v) for v in vowels]  # count the number of each vowel in s\n",
    "    return sum(nvowels), list(zip(vowels, nvowels))  # return the sum and a zipped list\n",
    "                              \n",
    "count_vowels('Eels are delicious animals')"
   ]
  },
  {
   "cell_type": "markdown",
   "metadata": {},
   "source": [
    "A returned tuple can also be 'unpacked' into multiple variables."
   ]
  },
  {
   "cell_type": "code",
   "execution_count": 32,
   "metadata": {},
   "outputs": [
    {
     "name": "stdout",
     "output_type": "stream",
     "text": [
      "Found total 12 vowels, each vowel as follows:\n",
      "[('a', 3), ('e', 3), ('i', 3), ('o', 1), ('u', 1), ('A', 0), ('E', 1), ('I', 0), ('O', 0), ('U', 0)]\n"
     ]
    }
   ],
   "source": [
    "total_count, individual_count = count_vowels('Eels are delicious animals')\n",
    "print('Found total', total_count, 'vowels, each vowel as follows:')\n",
    "print(individual_count)"
   ]
  },
  {
   "cell_type": "markdown",
   "metadata": {},
   "source": [
    "### Modules\n",
    "Once you start building functions, you might want to collect certain functions as a general 'toolbox' to be used across multiple projects. In `python`, you can put definitions in a file with a `.py` extension. Such a file is called a `module`. Once you save your functions into a `module`, you can `import` them. Let's practice with some examples."
   ]
  },
  {
   "cell_type": "markdown",
   "metadata": {},
   "source": [
    "For illustration purposes, create let's create two modules that contain one function of the same name each:"
   ]
  },
  {
   "cell_type": "code",
   "execution_count": 33,
   "metadata": {},
   "outputs": [],
   "source": [
    "# save this function to a file named module1.py\n",
    "def speak():\n",
    "    \"\"\"Make module 1 say something\"\"\"\n",
    "    print('Module 1 speaking ...')"
   ]
  },
  {
   "cell_type": "code",
   "execution_count": 34,
   "metadata": {},
   "outputs": [],
   "source": [
    "# save this function to a file named module2.py\n",
    "def speak():\n",
    "    \"\"\"Make module 2 say something\"\"\"\n",
    "    print('Hi, this is module 2 speaking!')"
   ]
  },
  {
   "cell_type": "markdown",
   "metadata": {},
   "source": [
    "You can import each module (and the functions in them) using the `import` statement as follows:"
   ]
  },
  {
   "cell_type": "code",
   "execution_count": 35,
   "metadata": {},
   "outputs": [],
   "source": [
    "import module1\n",
    "import module2"
   ]
  },
  {
   "cell_type": "markdown",
   "metadata": {},
   "source": [
    "Note that the name you use in the `import` statement is just the file name of the module, without the `.py` extension. \n",
    "\n",
    "When you `import` a module, `python` creates an isolated 'space' for each module. This allows different modules to have functions of the same name, without causing confusion. But because of this, whenever you want to use a function from a certain module, you have to specify the module name before calling the function. Compare:"
   ]
  },
  {
   "cell_type": "code",
   "execution_count": 36,
   "metadata": {},
   "outputs": [
    {
     "name": "stdout",
     "output_type": "stream",
     "text": [
      "Module 1 speaking ...\n",
      "Hi, this is module 2 speaking!\n"
     ]
    }
   ],
   "source": [
    "module1.speak()\n",
    "module2.speak()"
   ]
  },
  {
   "cell_type": "markdown",
   "metadata": {},
   "source": [
    "This can be a bit painful (and messy) if your module names get longer. There are typically two ways to work around this:\n",
    "1. `import` with the `as` keyword to assign your own name to a model\n",
    "1. assign your own function name to a module's function\n",
    "\n",
    "Each approach is illustrated below, which to use should depend on the context and personal style:"
   ]
  },
  {
   "cell_type": "code",
   "execution_count": 37,
   "metadata": {},
   "outputs": [
    {
     "name": "stdout",
     "output_type": "stream",
     "text": [
      "Module 1 speaking ...\n",
      "Hi, this is module 2 speaking!\n"
     ]
    }
   ],
   "source": [
    "import module1 as m1\n",
    "import module2 as m2\n",
    "m1.speak()\n",
    "m2.speak()"
   ]
  },
  {
   "cell_type": "code",
   "execution_count": 38,
   "metadata": {},
   "outputs": [
    {
     "name": "stdout",
     "output_type": "stream",
     "text": [
      "Module 1 speaking ...\n",
      "Hi, this is module 2 speaking!\n"
     ]
    }
   ],
   "source": [
    "import module1\n",
    "import module2\n",
    "\n",
    "speak1 = module1.speak  # note the lack of parentheses\n",
    "speak2 = module2.speak  # when assigning functions to a new name\n",
    "\n",
    "speak1()\n",
    "speak2()"
   ]
  },
  {
   "cell_type": "markdown",
   "metadata": {},
   "source": [
    "### Classes\n",
    "If you've worked with/written classes before in another language, then dealing with `class`es in `python` should be a breeze, once you get some syntax cleared. (But on the other hand, if you are experienced in programming to that degree, this introductory workshop was probably pretty boring for you...)\n",
    "\n",
    "If you've never heard of object-oriented programming or `class`es in a programming context, keep in mind that while we'll try to cover some of the core concepts, this is by no means an exhaustive treatment of the topic. If you want to learn more about the fundamentals of object-oriented programming, there are tons of books and courses focusing on exactly that. \n",
    "\n",
    "Here, lets try to focus on what's useful in getting work done with `python`, even if you don't quite understand precisely what's going on under-the-hood."
   ]
  },
  {
   "cell_type": "markdown",
   "metadata": {},
   "source": [
    "In `python`, you can define a `class` using the `class` keyword, followed by a class name and indented statements that belong to the class (one `python` naming convention is to use CamelCases for class names):"
   ]
  },
  {
   "cell_type": "code",
   "execution_count": 39,
   "metadata": {},
   "outputs": [],
   "source": [
    "class MyFirstClass:\n",
    "    \"\"\"A simple example class\"\"\"\n",
    "    def __init__(self, name='Jongbin'):\n",
    "        self.name = name"
   ]
  },
  {
   "cell_type": "markdown",
   "metadata": {},
   "source": [
    "Let's pause there for a second.\n",
    "\n",
    "So, what *is* a `class`? I find it useful (not always correct, but useful) to think of a `class` as a blueprint for some kind of entity. For example, a Human would be a `class`. A `class` itself doesn't necessarily do anything, just like the concept of a Human doesn't do much. However, there can be *instances* (copies, actual realizations) of a `class`, just like we are all instances of the Human `class`.\n",
    "\n",
    "The `class` definition, therefore, defines what that `class` looks like. \n",
    "\n",
    "- What **attribute** (data, values) does it have? For example, the Human `class` typically has a head, two arms, and two legs. \n",
    "- What **methods** does the `class` have, i.e., what can the `class` do? For example, the Human `class` can think(), walk(), run(), type(), etc., each involving some kind of maneuvering of its attributes (head, arms, legs, ...)"
   ]
  },
  {
   "cell_type": "markdown",
   "metadata": {},
   "source": [
    "While we're at it, let's try and define a simple Human `class`:"
   ]
  },
  {
   "cell_type": "code",
   "execution_count": 40,
   "metadata": {
    "scrolled": true
   },
   "outputs": [],
   "source": [
    "class Human:\n",
    "    \"\"\"Basic Human class\"\"\"\n",
    "    def __init__(self):\n",
    "        \"\"\"Initialize the Human\"\"\"\n",
    "        self.head = True\n",
    "    \n",
    "    def think(self):\n",
    "        \"\"\"Makes the Human think\"\"\"\n",
    "        if self.head:\n",
    "            print(\"I'm thinking...\")\n",
    "        else:\n",
    "            print(\"Pretty hard to think without a head...\")"
   ]
  },
  {
   "cell_type": "markdown",
   "metadata": {},
   "source": [
    "Remember, this definition is just a blueprint. If we actually want to use a human of the `class` Human, we need to create an *instance* of `Human` (note another convention: instances will usually be lower case). Creating an instance in `python` is as simple as pretending the `class` is a function and *calling* it:"
   ]
  },
  {
   "cell_type": "code",
   "execution_count": 41,
   "metadata": {},
   "outputs": [],
   "source": [
    "jongbin = Human()"
   ]
  },
  {
   "cell_type": "markdown",
   "metadata": {},
   "source": [
    "Once we've created an instance, that instance has all the attributes and methods described in the blueprint:"
   ]
  },
  {
   "cell_type": "code",
   "execution_count": 42,
   "metadata": {},
   "outputs": [
    {
     "name": "stdout",
     "output_type": "stream",
     "text": [
      "True\n",
      "I'm thinking...\n",
      "Pretty hard to think without a head...\n"
     ]
    }
   ],
   "source": [
    "print(jongbin.head)  # print the value of jongbin's head\n",
    "jongbin.think()  # make the Human jongbin think\n",
    "jongbin.head = False  # set the value of jongbin's head to False\n",
    "jongbin.think()  # make the Human jongbin think, again"
   ]
  },
  {
   "cell_type": "markdown",
   "metadata": {},
   "source": [
    "Some notes on syntax:\n",
    "- `self`: The `self` keyword in `class` definitions refer to the instance of the `class` that is making the calls. All `class` methods (functions defined inside a `class` definition) are required to take `self` as the first argument. For now, let's think of this as a syntactic requirement. More on this later ...\n",
    "- `__init__`: The `__init__` method is called by default when a `class` instance is created. If the `class` definition doesn't explicitly define an `__init__` method, an empty `class` object is created. In other words, you don't *__have to__* define an `__init__` method, but it's usually useful to have one so that you can declare some initial values for instances of your `class`. "
   ]
  },
  {
   "cell_type": "markdown",
   "metadata": {},
   "source": [
    "The `__init__` method can also take arguments (other than `self`). So, for example, if we wanted our humans to have a name, and let users define the human's name when the human is created, we can modify the `__init__` method to:"
   ]
  },
  {
   "cell_type": "code",
   "execution_count": 43,
   "metadata": {},
   "outputs": [],
   "source": [
    "class Human:\n",
    "    \"\"\"Basic Human class\"\"\"\n",
    "    def __init__(self, name):\n",
    "        \"\"\"Initialize the Human\"\"\"\n",
    "        self.head = True\n",
    "        self.name = name\n",
    "    \n",
    "    def think(self):\n",
    "        \"\"\"Makes the Human think\"\"\"\n",
    "        if self.head:\n",
    "            print('My name is', self.name, \"and I'm thinking...\")\n",
    "        else:\n",
    "            print(\"Pretty hard to think without a head...\")"
   ]
  },
  {
   "cell_type": "code",
   "execution_count": 44,
   "metadata": {},
   "outputs": [
    {
     "name": "stdout",
     "output_type": "stream",
     "text": [
      "My name is Jongbin and I'm thinking...\n"
     ]
    }
   ],
   "source": [
    "jongbin = Human('Jongbin')\n",
    "jongbin.think()"
   ]
  },
  {
   "cell_type": "markdown",
   "metadata": {},
   "source": [
    "#### The `self`\n",
    "Now let's talk a bit more about that `self`. It is important to have a clear distinction between the `class` as a class definition (or `class` object), and an actual *__instance__* of said `class`. Attributes in a `class` definition that are not prepended with `self` will belong to the `class` object, and anything prepended with a `self` will belong to the instance of that `class` that is currently making the call. \n",
    "\n",
    "This can be mildly confusing, but becomes quite important if you have mutable attributes. Let's add a list of `tools` for our Human `class`:"
   ]
  },
  {
   "cell_type": "code",
   "execution_count": 45,
   "metadata": {},
   "outputs": [],
   "source": [
    "class Human:\n",
    "    \"\"\"Basic Human class\"\"\"\n",
    "    tools = []  # all Humans have a list of tools\n",
    "    \n",
    "    def __init__(self, name):\n",
    "        \"\"\"Initialize the Human\"\"\"\n",
    "        self.head = True\n",
    "        self.name = name\n",
    "    \n",
    "    def think(self):\n",
    "        \"\"\"Makes the Human think\"\"\"\n",
    "        if self.head:\n",
    "            print('My name is', self.name, \"and I'm thinking...\")\n",
    "        else:\n",
    "            print(\"Pretty hard to think without a head...\")\n",
    "            \n",
    "    def add_tool(self, tool):\n",
    "        \"\"\"Add a tool to the list of tools\"\"\"\n",
    "        self.tools.append(tool)\n",
    "        \n",
    "    def get_tools(self):\n",
    "        \"\"\"Print the tools that the human has\"\"\"\n",
    "        print(self.name, 'has:', end = ' ')\n",
    "        for tool in self.tools:\n",
    "            print(tool, end = ' | ')\n",
    "        print()  # create newline after last tool"
   ]
  },
  {
   "cell_type": "markdown",
   "metadata": {},
   "source": [
    "Now, lets create some humans, and see how the list of tools work:"
   ]
  },
  {
   "cell_type": "code",
   "execution_count": 46,
   "metadata": {},
   "outputs": [
    {
     "name": "stdout",
     "output_type": "stream",
     "text": [
      "Luke has: light saber | death star | \n",
      "Anakin has: light saber | death star | \n"
     ]
    }
   ],
   "source": [
    "luke = Human('Luke')\n",
    "anakin = Human('Anakin')\n",
    "luke.add_tool('light saber')  # add light saber to Luke's tools\n",
    "anakin.add_tool('death star')  # add death star to Anakin's tools\n",
    "luke.get_tools()  # print Luke's tools\n",
    "anakin.get_tools()  # print Anakin's tools"
   ]
  },
  {
   "cell_type": "markdown",
   "metadata": {},
   "source": [
    "See that even though two Human instances added their own tool, both ended up having all the tools, since the `tools` list was declared without the `self` prepended, making it an attribute of the `class` object, instead of an attribute of each instance.\n",
    "\n",
    "If we wanted each Human to have ther own list of tools, a better way to define the `class` would have been:"
   ]
  },
  {
   "cell_type": "code",
   "execution_count": 47,
   "metadata": {},
   "outputs": [],
   "source": [
    "class Human:\n",
    "    \"\"\"Basic Human class\"\"\"\n",
    "    def __init__(self, name):\n",
    "        \"\"\"Initialize the Human\"\"\"\n",
    "        self.head = True\n",
    "        self.name = name\n",
    "    \n",
    "        self.tools = []  # initiate a specific human's list of tools\n",
    "        \n",
    "    def think(self):\n",
    "        \"\"\"Makes the Human think\"\"\"\n",
    "        if self.head:\n",
    "            print('My name is', self.name, \"and I'm thinking...\")\n",
    "        else:\n",
    "            print(\"Pretty hard to think without a head...\")\n",
    "            \n",
    "    def add_tool(self, tool):\n",
    "        \"\"\"Add a tool to the list of tools\"\"\"\n",
    "        self.tools.append(tool)\n",
    "        \n",
    "    def get_tools(self):\n",
    "        \"\"\"Print the tools that the human has\"\"\"\n",
    "        print(self.name, 'has:', end = \" \")\n",
    "        for tool in self.tools:\n",
    "            print(tool, end = ' | ')\n",
    "        print()  # create newline after last tool"
   ]
  },
  {
   "cell_type": "code",
   "execution_count": 48,
   "metadata": {},
   "outputs": [
    {
     "name": "stdout",
     "output_type": "stream",
     "text": [
      "Luke has: light saber | \n",
      "Anakin has: death star | \n"
     ]
    }
   ],
   "source": [
    "luke = Human('Luke')\n",
    "anakin = Human('Anakin')\n",
    "luke.add_tool('light saber')  # add light saber to Luke's tools\n",
    "anakin.add_tool('death star')  # add death star to Anakin's tools\n",
    "luke.get_tools()  # print Luke's tools\n",
    "anakin.get_tools()  # print Anakin's tools"
   ]
  },
  {
   "cell_type": "markdown",
   "metadata": {},
   "source": [
    "Note that there's no right or wrong way define attributes. There actually might be cases where you *__want__* different instances to share a single attribute. \n",
    "\n",
    "For example, think of a Bar `class` that has a bathroom attribute. All bars share a single bathroom which can only hold a single customer. We want to print a message if any bar tries to use *the* bathroom while it's occupied. We can define such a Bar `class` as:"
   ]
  },
  {
   "cell_type": "code",
   "execution_count": 49,
   "metadata": {},
   "outputs": [
    {
     "name": "stdout",
     "output_type": "stream",
     "text": [
      "coolBar: use bathroom\n",
      "hotBar: bathroom in use!\n"
     ]
    }
   ],
   "source": [
    "class Bar:\n",
    "    \"\"\"A fictional Bar\"\"\"\n",
    "    bathroom_occupancy = []\n",
    "    def use_bathroom(self):\n",
    "        if len(self.bathroom_occupancy) < 1:\n",
    "            print('use bathroom')\n",
    "            self.bathroom_occupancy.append('in use')\n",
    "        else:\n",
    "            print('bathroom in use!')\n",
    "            \n",
    "            \n",
    "# instantiate two bars\n",
    "coolBar = Bar()\n",
    "hotBar = Bar()\n",
    "\n",
    "print('coolBar:', end = ' ') \n",
    "coolBar.use_bathroom()\n",
    "print('hotBar:', end = ' ') \n",
    "hotBar.use_bathroom()"
   ]
  }
 ],
 "metadata": {
  "kernelspec": {
   "display_name": "Python 3",
   "language": "python",
   "name": "python3"
  },
  "language_info": {
   "codemirror_mode": {
    "name": "ipython",
    "version": 3
   },
   "file_extension": ".py",
   "mimetype": "text/x-python",
   "name": "python",
   "nbconvert_exporter": "python",
   "pygments_lexer": "ipython3",
   "version": "3.7.4"
  }
 },
 "nbformat": 4,
 "nbformat_minor": 4
}
